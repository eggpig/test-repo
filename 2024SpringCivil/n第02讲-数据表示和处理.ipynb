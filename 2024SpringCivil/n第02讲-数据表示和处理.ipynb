{
 "cells": [
  {
   "cell_type": "markdown",
   "metadata": {
    "tags": []
   },
   "source": [
    "# 第二讲 数据表示和处理"
   ]
  },
  {
   "cell_type": "markdown",
   "metadata": {},
   "source": [
    "<span id=\"mulu\"><font face=\"黑体\" size=5>本章目录</font></span>\n",
    "* [第02讲 数据表示和处理](#2)\n",
    "    * [2.1 数据类型](#2.1)\n",
    "        * [2.1.1 例子](#2.1.1)\n",
    "        * [2.1.2 内置数据类型](#2.1.2)\n",
    "        * [2.1.3 常量、变量和标识符](#2.1.3)\n",
    "            * [2.1.3.1 常量](#2.1.3.1)\n",
    "            * [2.1.3.2 变量](#2.1.3.2)\n",
    "            \n",
    "    * [2.2 数值数据的表示和处理](#2.2)\n",
    "        * [2.2.1 数值数据常量](#2.2.1)\n",
    "        * [2.2.2 算术表达式](#2.2.2)\n",
    "        * [2.2.3 常用的数值类型函数](#2.2.3)\n",
    "    * [2.3 字符串类型的表示和处理](#2.3)\n",
    "        * [2.3.1 字符串类型](#2.3.1)\n",
    "        * [2.3.2 字符串处理](#2.3.2)\n",
    "   \n",
    "    * [2.4 布尔类型的表示和处理](#2.4)\n",
    "        * [2.4.1 关系运算符和关系表达式](#2.4.1)\n",
    "        * [2.4.2 逻辑运算符和逻辑表达式](#2.4.2)\n",
    "    * [2.5 数据的输入和输出](#2.5)\n",
    "        * [2.5.1 数据的输入](#2.5.1)\n",
    "        * [2.5.2 数据的输出](#2.5.2)\n",
    "        * [2.5.3 格式化输出](#2.5.3)       \n",
    "    * [2.6 非类型NoneType](#2.6)\n",
    "    * [2.7 初步认识数据集合类型](#2.7)\n",
    "        * [2.7.1 List列表](#2.7.1)\n",
    "        * [2.7.2 Tuple元组](#2.7.2)\n",
    "        * [2.7.3 dict字典](#2.7.3)       \n",
    "        * [2.7.4 set集合](#2.7.4) \n",
    "    * [2.8* 其他运算符](#2.8)    \n",
    "        * [2.8.1 位运算符](#2.8.1)\n",
    "        * [2.8.2 三元操作符](#2.8.2)\n",
    "    * [2.9* 补充知识：round函数的说明](#2.9)       "
   ]
  },
  {
   "cell_type": "markdown",
   "metadata": {
    "tags": []
   },
   "source": [
    "## <font size=5> <span id=\"2.1\"> 2.1 数据类型</span></font>"
   ]
  },
  {
   "cell_type": "markdown",
   "metadata": {
    "tags": [],
    "toc-hr-collapsed": true
   },
   "source": [
    "### <font size=4><span id=\"2.1.1\"> 2.1.1 例子</span></font>\n"
   ]
  },
  {
   "cell_type": "code",
   "execution_count": 4,
   "metadata": {},
   "outputs": [
    {
     "data": {
      "text/plain": [
       "str"
      ]
     },
     "execution_count": 4,
     "metadata": {},
     "output_type": "execute_result"
    }
   ],
   "source": [
    "r = input(\"输入半径 r:\")\n",
    "type(r)"
   ]
  },
  {
   "cell_type": "code",
   "execution_count": 3,
   "metadata": {},
   "outputs": [
    {
     "name": "stdout",
     "output_type": "stream",
     "text": [
      "area= 78.53750000000001\n"
     ]
    }
   ],
   "source": [
    "r = float(input(\"输入半径 r:\"))\n",
    "s = 3.1415 * r * r\n",
    "print(\"area=\",s)"
   ]
  },
  {
   "cell_type": "markdown",
   "metadata": {},
   "source": [
    "\n",
    "- 数据有相应的类型\n",
    "- 处理数据需要考虑类型进行相应处理(运算)"
   ]
  },
  {
   "cell_type": "markdown",
   "metadata": {
    "tags": [],
    "toc-hr-collapsed": true
   },
   "source": [
    "### <font size=4><span id=\"2.1.2\"> 2.1.2 内置数据类型</span></font>\n"
   ]
  },
  {
   "cell_type": "markdown",
   "metadata": {
    "tags": []
   },
   "source": [
    "\n",
    "<img src=\"images\\chapter02\\datatype.jpg\" width=500>\n",
    "<center>Python的基本数据类型</center>"
   ]
  },
  {
   "cell_type": "markdown",
   "metadata": {},
   "source": [
    "- 有序序列： 元素之间存在次序关系，可以通过索引(序号)访问元素\n",
    "- 无序序列： 元素之间不存在次序关系，不能通过索引(序号)访问元素"
   ]
  },
  {
   "cell_type": "markdown",
   "metadata": {
    "tags": []
   },
   "source": [
    "### <font size=4><span id=\"2.1.3\"> 2.1.3 常量、变量和标识符</span></font>\n"
   ]
  },
  {
   "cell_type": "markdown",
   "metadata": {},
   "source": [
    "- 数据都是以常量或变量的形式在程序中出现\n",
    "- 变量的值在程序运行时可以变化\n",
    "- 常量表示固定不变的数据"
   ]
  },
  {
   "cell_type": "markdown",
   "metadata": {},
   "source": [
    "例如：\n",
    "```python\n",
    "s = 3.1415 * r * r\n",
    "```\n",
    "- s、r表示变量\n",
    "- 3.1415为常量"
   ]
  },
  {
   "cell_type": "markdown",
   "metadata": {},
   "source": [
    "#### <font size=4><span id=\"2.1.3.1\"> 2.1.3.1 常量</span></font>  \n",
    "- 程序运行过程中不发生改变的量  \n",
    "如：\n",
    "- 123\n",
    "- 123.0\n",
    "- 1.23e6\n",
    "- '123'\n",
    "- [123] 列表"
   ]
  },
  {
   "cell_type": "markdown",
   "metadata": {},
   "source": [
    "#### <font size=4><span id=\"2.1.3.2\"> 2.1.3.2 变量</span></font>  "
   ]
  },
  {
   "cell_type": "markdown",
   "metadata": {},
   "source": [
    "- 程序运行过程中值可以变化的量\n",
    "- 变量名符合标识符命名规则"
   ]
  },
  {
   "cell_type": "markdown",
   "metadata": {},
   "source": [
    "#### (1) 变量注意事项\n",
    "\n",
    "\n",
    "- 使用变量前，需要进行赋值\n",
    "- 大小写敏感，即：Abc  abc 不同\n",
    "- 等于号 = 是赋值的意思，左边是变量名，右边是值\n",
    "- 变量的命名虽说可以任意，还是要有规范 —— 使用字母、数字、下划线命名，不能以数字开头（跟 C 语言 一样）\n",
    "    - 错误的名字：2ab、dir、help\n",
    "    - 正确的方式：Num、`__abc__` 、`_2b`、Help\n",
    "- 不要使用 Python 的保留字（关键词）"
   ]
  },
  {
   "cell_type": "code",
   "execution_count": 3,
   "metadata": {},
   "outputs": [],
   "source": [
    "变量名 = 3\n",
    "# 是UTF-8编码"
   ]
  },
  {
   "cell_type": "code",
   "execution_count": 4,
   "metadata": {},
   "outputs": [
    {
     "name": "stdout",
     "output_type": "stream",
     "text": [
      "变量名 = 3\n"
     ]
    }
   ],
   "source": [
    "print(\"变量名 =\", 变量名)"
   ]
  },
  {
   "cell_type": "code",
   "execution_count": null,
   "metadata": {
    "collapsed": true,
    "jupyter": {
     "outputs_hidden": true
    }
   },
   "outputs": [],
   "source": [
    "变量2 = 变量名 * 3\n",
    "变量2"
   ]
  },
  {
   "cell_type": "code",
   "execution_count": 5,
   "metadata": {},
   "outputs": [
    {
     "data": {
      "text/plain": [
       "3"
      ]
     },
     "execution_count": 5,
     "metadata": {},
     "output_type": "execute_result"
    }
   ],
   "source": [
    "___ = 3\n",
    "___"
   ]
  },
  {
   "cell_type": "code",
   "execution_count": 8,
   "metadata": {},
   "outputs": [
    {
     "name": "stdout",
     "output_type": "stream",
     "text": [
      "False    None    True    and    as    assert    async    await    break    class    continue    def    del    elif    else    except    finally    for    from    global    if    import    in    is    lambda    nonlocal    not    or    pass    raise    return    try    while    with    yield    "
     ]
    }
   ],
   "source": [
    "import keyword\n",
    "#print(keyword.kwlist)\n",
    "for each in keyword.kwlist:\n",
    "    print(each, end=\"    \")"
   ]
  },
  {
   "cell_type": "markdown",
   "metadata": {},
   "source": [
    "#### (2) 变量名与变量值的关系\n",
    "- 当把一个值赋给一个名字的时候，它会存储在内存之中，把这块内存称之为“变量variable”\n",
    "- Python有些特殊，它并不是把值存储在变量之中，更像把名字贴在“值”的上面。"
   ]
  },
  {
   "cell_type": "markdown",
   "metadata": {},
   "source": [
    "<img src=\"images/chapter02/variable.PNG\" width = 650>"
   ]
  },
  {
   "cell_type": "code",
   "execution_count": null,
   "metadata": {
    "collapsed": true,
    "jupyter": {
     "outputs_hidden": true
    }
   },
   "outputs": [],
   "source": [
    "# 以下为若干示例"
   ]
  },
  {
   "cell_type": "code",
   "execution_count": 9,
   "metadata": {},
   "outputs": [
    {
     "name": "stdout",
     "output_type": "stream",
     "text": [
      "<class 'str'>\n"
     ]
    },
    {
     "data": {
      "text/plain": [
       "2720527690576"
      ]
     },
     "execution_count": 9,
     "metadata": {},
     "output_type": "execute_result"
    }
   ],
   "source": [
    "student = \"张三\"\n",
    "print(type(student))\n",
    "id(student)"
   ]
  },
  {
   "cell_type": "code",
   "execution_count": 10,
   "metadata": {},
   "outputs": [
    {
     "data": {
      "text/plain": [
       "2720508875984"
      ]
     },
     "execution_count": 10,
     "metadata": {},
     "output_type": "execute_result"
    }
   ],
   "source": [
    "student = \"李四\"\n",
    "id(student)"
   ]
  },
  {
   "cell_type": "code",
   "execution_count": 11,
   "metadata": {},
   "outputs": [
    {
     "data": {
      "text/plain": [
       "140725702792104"
      ]
     },
     "execution_count": 11,
     "metadata": {},
     "output_type": "execute_result"
    }
   ],
   "source": [
    "x = 5\n",
    "id(x)"
   ]
  },
  {
   "cell_type": "code",
   "execution_count": 12,
   "metadata": {},
   "outputs": [
    {
     "data": {
      "text/plain": [
       "140725702792072"
      ]
     },
     "execution_count": 12,
     "metadata": {},
     "output_type": "execute_result"
    }
   ],
   "source": [
    "x = 4\n",
    "id(x)"
   ]
  },
  {
   "cell_type": "code",
   "execution_count": null,
   "metadata": {
    "collapsed": true,
    "jupyter": {
     "outputs_hidden": true
    }
   },
   "outputs": [],
   "source": [
    "x = \"李四\"\n",
    "id(x)"
   ]
  },
  {
   "cell_type": "code",
   "execution_count": 16,
   "metadata": {},
   "outputs": [
    {
     "name": "stdout",
     "output_type": "stream",
     "text": [
      "140725702792040\n",
      "140725702792040\n"
     ]
    }
   ],
   "source": [
    "a = 3\n",
    "print(id(a))\n",
    "b = 3\n",
    "print(id(b))"
   ]
  },
  {
   "cell_type": "markdown",
   "metadata": {},
   "source": [
    "[返回目录](#mulu)"
   ]
  },
  {
   "cell_type": "markdown",
   "metadata": {},
   "source": [
    "## <font size=5> <span id=\"2.2\"> 2.2 数值数据的表示和处理</span></font>"
   ]
  },
  {
   "cell_type": "markdown",
   "metadata": {
    "tags": [],
    "toc-hr-collapsed": true
   },
   "source": [
    "### <font size=4><span id=\"2.2.1\"> 2.2.1 数值数据常量</span></font>"
   ]
  },
  {
   "cell_type": "markdown",
   "metadata": {},
   "source": [
    "<center>表 数值数据常量</center>\n",
    "\n",
    "|数据常量|表示形式|说明|例子|\n",
    "|:-:|:-|:-|:-|\n",
    "|整数<br>int|1. 十进制：$\\pm n$<br>2. 二进制：0Bn或0bn<br>3. 八进制：0On或0on<br>4. 十六进制：0Xn或0xn | n为0-9的数字<br>0B或0b为二进制标记，n为0-1的数字<br>0O或0o为八进制标记，n为0-7的数字<br>0X或0x为十六进制标记，n为0-9的数字、A-F或a-f的字母|1234、-101<br>0B1110100<br>0O1444<br>0X12AF98|\n",
    "|浮点数<br>float|1. 小数形式:$\\pm m.n$<br>2. 指数形式:$\\pm m[.n]E(或e)\\pm k$|m、n、k为0-0的数字<br>E或者e表示指数符号|123.45<br>0.12345E+3|\n",
    "|复数<br>complex|实部$\\pm$虚部J(或者j)|实部real和虚部imag可以是整数或者浮点数，J或j为后缀|12.3+4.56J<br>0.13-4.5j|"
   ]
  },
  {
   "cell_type": "code",
   "execution_count": null,
   "metadata": {
    "collapsed": true,
    "jupyter": {
     "outputs_hidden": true
    }
   },
   "outputs": [],
   "source": [
    "# x = 4 + 3J"
   ]
  },
  {
   "cell_type": "code",
   "execution_count": null,
   "metadata": {
    "collapsed": true,
    "jupyter": {
     "outputs_hidden": true
    }
   },
   "outputs": [],
   "source": [
    "a = 1e12\n",
    "a, type(a)"
   ]
  },
  {
   "cell_type": "markdown",
   "metadata": {},
   "source": [
    "#### (1) 整型"
   ]
  },
  {
   "cell_type": "code",
   "execution_count": 1,
   "metadata": {},
   "outputs": [
    {
     "data": {
      "text/plain": [
       "int"
      ]
     },
     "execution_count": 1,
     "metadata": {},
     "output_type": "execute_result"
    }
   ],
   "source": [
    "count = 5\n",
    "type(count)"
   ]
  },
  {
   "cell_type": "markdown",
   "metadata": {},
   "source": [
    "#### (2) 长整型\n",
    "\n",
    "- Python 长整型能表达的数值仅仅受机器值的(虚拟)内存大小限制\n",
    "- 长整数类型是标准整数类型的超集\n",
    "- 所以：python里面整数没有取值范围！"
   ]
  },
  {
   "cell_type": "code",
   "execution_count": null,
   "metadata": {
    "collapsed": true,
    "jupyter": {
     "outputs_hidden": true
    }
   },
   "outputs": [],
   "source": [
    "i = 500000000000000000000000000000000000000000000000000000000000000000000000000000000000000000000000000000000000000000000000000000000000000000000\n",
    "print(i)\n",
    "### python3已经对长整型无缝结合，即长度不受限制\n",
    "### 如果说有限制，那也是计算机虚拟内存限制\n",
    "### 所以python3可以进行大数计算"
   ]
  },
  {
   "cell_type": "code",
   "execution_count": 17,
   "metadata": {},
   "outputs": [
    {
     "data": {
      "text/plain": [
       "93326215443944152681699238856266700490715968264381621468592963895217599993229915608941463976156518286253697920827223758251185210916864000000000000000000000000"
      ]
     },
     "execution_count": 17,
     "metadata": {},
     "output_type": "execute_result"
    }
   ],
   "source": [
    "s = 1\n",
    "for i in range(1,101,1):\n",
    "    s = s * i   # s *= i\n",
    "    # print(s)\n",
    "s  \n",
    "##此大数在其它语言是不太可能实现的！ "
   ]
  },
  {
   "cell_type": "markdown",
   "metadata": {},
   "source": [
    "#### (3)浮点型\n",
    "##### python区分浮点型与整型的区别，就是有没有小数点"
   ]
  },
  {
   "cell_type": "code",
   "execution_count": null,
   "metadata": {
    "collapsed": true,
    "jupyter": {
     "outputs_hidden": true
    }
   },
   "outputs": [],
   "source": [
    "meters = 1e3\n",
    "type(meters)\n"
   ]
  },
  {
   "cell_type": "code",
   "execution_count": null,
   "metadata": {
    "collapsed": true,
    "jupyter": {
     "outputs_hidden": true
    }
   },
   "outputs": [],
   "source": [
    "a = 12e12  # 1.2E12  E,e both are ok\n",
    "print(a)\n",
    "type(a)"
   ]
  },
  {
   "cell_type": "code",
   "execution_count": null,
   "metadata": {
    "collapsed": true,
    "jupyter": {
     "outputs_hidden": true
    }
   },
   "outputs": [],
   "source": [
    "a = 12.3e12\n",
    "type(a)"
   ]
  },
  {
   "cell_type": "code",
   "execution_count": null,
   "metadata": {
    "collapsed": true,
    "jupyter": {
     "outputs_hidden": true
    }
   },
   "outputs": [],
   "source": [
    "#a = 12.2e12.2\n",
    "#a "
   ]
  },
  {
   "cell_type": "markdown",
   "metadata": {
    "tags": []
   },
   "source": [
    "#### (4)复数complex"
   ]
  },
  {
   "cell_type": "code",
   "execution_count": null,
   "metadata": {
    "collapsed": true,
    "jupyter": {
     "outputs_hidden": true
    }
   },
   "outputs": [],
   "source": [
    "pi = 1 + 3.14J\n",
    "print(pi)\n",
    "type(pi)"
   ]
  },
  {
   "cell_type": "code",
   "execution_count": null,
   "metadata": {
    "collapsed": true,
    "jupyter": {
     "outputs_hidden": true
    },
    "tags": []
   },
   "outputs": [],
   "source": [
    "a = 1.j\n",
    "print(a)"
   ]
  },
  {
   "cell_type": "code",
   "execution_count": 2,
   "metadata": {},
   "outputs": [
    {
     "ename": "SyntaxError",
     "evalue": "invalid syntax (2509670694.py, line 1)",
     "output_type": "error",
     "traceback": [
      "\u001b[0;36m  Cell \u001b[0;32mIn[2], line 1\u001b[0;36m\u001b[0m\n\u001b[0;31m    a = 3 + 4 j\u001b[0m\n\u001b[0m              ^\u001b[0m\n\u001b[0;31mSyntaxError\u001b[0m\u001b[0;31m:\u001b[0m invalid syntax\n"
     ]
    }
   ],
   "source": [
    "a = 3 + 4 j\n",
    "type(a)"
   ]
  },
  {
   "cell_type": "code",
   "execution_count": null,
   "metadata": {
    "collapsed": true,
    "jupyter": {
     "outputs_hidden": true
    }
   },
   "outputs": [],
   "source": [
    "b = 5 + 6J\n",
    "print(a + b)"
   ]
  },
  {
   "cell_type": "code",
   "execution_count": null,
   "metadata": {
    "collapsed": true,
    "jupyter": {
     "outputs_hidden": true
    }
   },
   "outputs": [],
   "source": [
    "a/b"
   ]
  },
  {
   "cell_type": "markdown",
   "metadata": {
    "toc-hr-collapsed": true
   },
   "source": [
    "### <font size=4><span id=\"2.2.2\"> 2.2.2 算术表达式</span></font>"
   ]
  },
  {
   "cell_type": "markdown",
   "metadata": {},
   "source": [
    "#### (1)常用算数运算符"
   ]
  },
  {
   "cell_type": "markdown",
   "metadata": {},
   "source": [
    "如果a=+3\n",
    "\n",
    "|运算符|含义|优先级|实例|结果|说明|\n",
    "|:-:|:-:|:-:|:-:|:-:|:-|\n",
    "|-|负号|1|-a|3|单目运算符|\n",
    "|$**$|幂运算|2|27$**$(1/3)|3.0|乘方|\n",
    "|$*$|乘|3|a$*$a$*$a|27||\n",
    "|$/$|除|3|10/a|3.3333333333333335|整数相除为浮点数|\n",
    "|$//$|整除|3|10//a|3|结果为不大于商的最大整数|\n",
    "|%|求余数|3|10%a|1|也称之为模运算|\n",
    "|+|加|4|10.0+a|13.0|浮点数与整数相加，结果为浮点数|\n",
    "|-|减|4|a-10|-7||"
   ]
  },
  {
   "cell_type": "code",
   "execution_count": null,
   "metadata": {
    "collapsed": true,
    "jupyter": {
     "outputs_hidden": true
    }
   },
   "outputs": [],
   "source": [
    "x = 1 + 2 # Addition\n",
    "y = 3 - 4 # Subtraction\n",
    "z = 5 * 6 # Multiplication\n",
    "a = z / y # Division\n",
    "b = z % x # Modulus\n",
    "c = y ** x # Exponent\n",
    "d = c // x # Floor Division\n",
    "print(\" x:\" + str(x) + \"\\n y:\" + str(y) + \"\\n z:\" + str(z) +  \n",
    "      \"\\n a:\" + str(a) + \"\\n b:\" + str(b) + \"\\n c:\" + str(c) + \"\\n d:\" + str(d))"
   ]
  },
  {
   "cell_type": "code",
   "execution_count": null,
   "metadata": {
    "collapsed": true,
    "jupyter": {
     "outputs_hidden": true
    }
   },
   "outputs": [],
   "source": [
    "5//-2, -5//2, 5//2, -5//-2"
   ]
  },
  {
   "cell_type": "code",
   "execution_count": 18,
   "metadata": {},
   "outputs": [
    {
     "data": {
      "text/plain": [
       "6"
      ]
     },
     "execution_count": 18,
     "metadata": {},
     "output_type": "execute_result"
    }
   ],
   "source": [
    "# 注意 ** 和 ^ 的区别\n",
    "3^5"
   ]
  },
  {
   "cell_type": "markdown",
   "metadata": {},
   "source": [
    "#### (2) 优先级\n",
    "##### 先乘除，后加减，有括号先计算括号\n",
    "##### 如果你搞不清楚先算什么后算什么，加括号总没错\n"
   ]
  },
  {
   "cell_type": "code",
   "execution_count": null,
   "metadata": {
    "collapsed": true,
    "jupyter": {
     "outputs_hidden": true
    }
   },
   "outputs": [],
   "source": [
    "-3 * 2 + 5 // -2 -4"
   ]
  },
  {
   "cell_type": "markdown",
   "metadata": {},
   "source": [
    "#### (3) 整型的除法\n"
   ]
  },
  {
   "cell_type": "markdown",
   "metadata": {},
   "source": [
    "- 1. /是精确除法，//是向下取整除法，%是求模\n",
    "- 2. %求模是基于向下取整除法规则的\n",
    "- 3. 四舍五入取整round, 向零取整int, 向下和向上取整函数math.floor, math.ceil"
   ]
  },
  {
   "cell_type": "code",
   "execution_count": null,
   "metadata": {
    "collapsed": true,
    "jupyter": {
     "outputs_hidden": true
    }
   },
   "outputs": [],
   "source": [
    "5 // 3  # 5.0 // 3"
   ]
  },
  {
   "cell_type": "code",
   "execution_count": null,
   "metadata": {
    "collapsed": true,
    "jupyter": {
     "outputs_hidden": true
    }
   },
   "outputs": [],
   "source": [
    "round(5/3)  #四舍五入"
   ]
  },
  {
   "cell_type": "code",
   "execution_count": null,
   "metadata": {
    "collapsed": true,
    "jupyter": {
     "outputs_hidden": true
    }
   },
   "outputs": [],
   "source": [
    "round(5/3,3) #round函数的用法"
   ]
  },
  {
   "cell_type": "code",
   "execution_count": null,
   "metadata": {
    "collapsed": true,
    "jupyter": {
     "outputs_hidden": true
    }
   },
   "outputs": [],
   "source": [
    "5 // -3"
   ]
  },
  {
   "cell_type": "markdown",
   "metadata": {},
   "source": [
    "- 关于模运算\n",
    "    - 注意正负！\n",
    "    - 电脑是这么算的：$a \\% b = a- \\lfloor\\frac{a}{b}\\rfloor * b$"
   ]
  },
  {
   "cell_type": "code",
   "execution_count": null,
   "metadata": {
    "collapsed": true,
    "jupyter": {
     "outputs_hidden": true
    }
   },
   "outputs": [],
   "source": [
    "# 几个例子：\n",
    "-11 % -3"
   ]
  },
  {
   "cell_type": "markdown",
   "metadata": {},
   "source": [
    "- 关于模运算记住如下结论\n",
    "    - 不管有没有负数，先按正数求模得到余数\n",
    "    - 2个数都为负数，结果是(-余数)\n",
    "    - 只有1个数为负数，负数在左，记住结果一定是正的：大数-小数（除数-余数）\n",
    "    - 只有1个数为负数，负数在右，记住结果一定是负的：小数-大数（余数-除数）"
   ]
  },
  {
   "cell_type": "markdown",
   "metadata": {},
   "source": [
    "#### (4) 赋值运算符"
   ]
  },
  {
   "cell_type": "markdown",
   "metadata": {},
   "source": [
    "运算符|\t描述|\t实例\n",
    "-| :-: | -\n",
    "=\t|简单的赋值运算符\t|c = a + b 将 a + b 的运算结果赋值为 c\n",
    "+=\t|加法赋值运算符\t|c += a 等效于 c = c + a\n",
    "-=\t|减法赋值运算符\t|c -= a 等效于 c = c - a\n",
    "*=\t|乘法赋值运算符\t|c *= a 等效于 c = c * a\n",
    "/=\t|除法赋值运算符\t|c /= a 等效于 c = c / a\n",
    "%=\t|取模赋值运算符\t|c %= a 等效于 c = c % a\n",
    "**=\t|幂赋值运算符\t|c \\*\\*= a 等效于 c = c \\*\\* a\n",
    "//=\t|取整除赋值运算符\t|c //= a 等效于 c = c // a"
   ]
  },
  {
   "cell_type": "markdown",
   "metadata": {},
   "source": [
    "- <font color=red>注意！！！\n",
    "    - 赋值号左边只能是变量，不能是常量或者表达式</font>\n"
   ]
  },
  {
   "cell_type": "code",
   "execution_count": null,
   "metadata": {
    "collapsed": true,
    "jupyter": {
     "outputs_hidden": true
    }
   },
   "outputs": [],
   "source": [
    "#a + b = c"
   ]
  },
  {
   "cell_type": "code",
   "execution_count": null,
   "metadata": {
    "collapsed": true,
    "jupyter": {
     "outputs_hidden": true
    }
   },
   "outputs": [],
   "source": [
    "#5 = 6 - 3"
   ]
  },
  {
   "cell_type": "code",
   "execution_count": null,
   "metadata": {
    "collapsed": true,
    "jupyter": {
     "outputs_hidden": true
    }
   },
   "outputs": [],
   "source": [
    "# sin(x) = x + y"
   ]
  },
  {
   "cell_type": "markdown",
   "metadata": {},
   "source": [
    "- Python允许同时为多个变量分配一个值"
   ]
  },
  {
   "cell_type": "code",
   "execution_count": null,
   "metadata": {
    "collapsed": true,
    "jupyter": {
     "outputs_hidden": true
    },
    "tags": []
   },
   "outputs": [],
   "source": [
    "a = b = c = True\n",
    "print(a, b, c)"
   ]
  },
  {
   "cell_type": "code",
   "execution_count": null,
   "metadata": {
    "collapsed": true,
    "jupyter": {
     "outputs_hidden": true
    }
   },
   "outputs": [],
   "source": [
    "b, f, country = True, 2.0,  \"Singapore\"\n",
    "print(str(b) + ' ' + country)"
   ]
  },
  {
   "cell_type": "code",
   "execution_count": null,
   "metadata": {
    "collapsed": true,
    "jupyter": {
     "outputs_hidden": true
    }
   },
   "outputs": [],
   "source": [
    "# 如果数目对不上\n",
    "#a, b, c = 2, 3"
   ]
  },
  {
   "cell_type": "code",
   "execution_count": null,
   "metadata": {
    "collapsed": true,
    "jupyter": {
     "outputs_hidden": true
    }
   },
   "outputs": [],
   "source": [
    "a = 3\n",
    "b = 4\n",
    "a, b = b, a\n",
    "a, b"
   ]
  },
  {
   "cell_type": "code",
   "execution_count": null,
   "metadata": {
    "collapsed": true,
    "jupyter": {
     "outputs_hidden": true
    }
   },
   "outputs": [],
   "source": [
    "z = 3\n",
    "y = 4 \n",
    "z += y + 3 * z\n",
    "z"
   ]
  },
  {
   "cell_type": "code",
   "execution_count": null,
   "metadata": {
    "collapsed": true,
    "jupyter": {
     "outputs_hidden": true
    },
    "tags": []
   },
   "outputs": [],
   "source": [
    "# 输出什么？\n",
    "i = 100;  print(i)\n",
    "i += 2; print(i)\n",
    "i -= 3; print(i)\n",
    "i *= 4; print(i)\n",
    "i /= 5; print(i)\n",
    "i %= 6; print(i)\n",
    "i **= 7; print(i)\n",
    "i //= 2; print(i)"
   ]
  },
  {
   "cell_type": "markdown",
   "metadata": {
    "tags": [],
    "toc-hr-collapsed": true
   },
   "source": [
    "#### (5) 类型转换\n",
    "- 隐式转换，语法自动进行，如：\n",
    "```python\n",
    "    a = 3 + 4.0 #3自动转换成浮点数\n",
    "    b = a + 4j  # 转换成复数了\n",
    "```\n",
    "- 显示转换，利用类型名转换函数：int()、float()、str()和complex()等"
   ]
  },
  {
   "cell_type": "markdown",
   "metadata": {},
   "source": [
    "#####  [1] int（）转换"
   ]
  },
  {
   "cell_type": "code",
   "execution_count": 20,
   "metadata": {},
   "outputs": [
    {
     "name": "stdout",
     "output_type": "stream",
     "text": [
      "416\n"
     ]
    },
    {
     "data": {
      "text/plain": [
       "int"
      ]
     },
     "execution_count": 20,
     "metadata": {},
     "output_type": "execute_result"
    }
   ],
   "source": [
    "X = int('1A0', 16)\n",
    "print(X)\n",
    "type(X)"
   ]
  },
  {
   "cell_type": "markdown",
   "metadata": {},
   "source": [
    "- '1A'是个字符串\n",
    "- int()作用是：将字符串类型转换成整数类型\n",
    "- 第二个参数表示是16进制"
   ]
  },
  {
   "cell_type": "markdown",
   "metadata": {},
   "source": [
    "- int()函数\n",
    " - 将数值转换为整数\n",
    " - 将字符串转成整数,前提是字符串是一个合格的整数\n",
    " - 不同进制的数转为10进制的整数"
   ]
  },
  {
   "cell_type": "code",
   "execution_count": null,
   "metadata": {
    "collapsed": true,
    "jupyter": {
     "outputs_hidden": true
    }
   },
   "outputs": [],
   "source": [
    "int(3.2), int(3.253e2), int(\"325\")"
   ]
  },
  {
   "cell_type": "code",
   "execution_count": null,
   "metadata": {
    "collapsed": true,
    "jupyter": {
     "outputs_hidden": true
    }
   },
   "outputs": [],
   "source": [
    "int(\"3.25\")"
   ]
  },
  {
   "cell_type": "code",
   "execution_count": null,
   "metadata": {
    "collapsed": true,
    "jupyter": {
     "outputs_hidden": true
    }
   },
   "outputs": [],
   "source": [
    "# int(\"325e3\")"
   ]
  },
  {
   "cell_type": "code",
   "execution_count": null,
   "metadata": {
    "collapsed": true,
    "jupyter": {
     "outputs_hidden": true
    }
   },
   "outputs": [],
   "source": [
    "int('0b100', base=0), int('32', 10), int('010',8), int('010',15),int('010',2)"
   ]
  },
  {
   "cell_type": "code",
   "execution_count": null,
   "metadata": {
    "collapsed": true,
    "jupyter": {
     "outputs_hidden": true
    }
   },
   "outputs": [],
   "source": [
    "c = -5.99\n",
    "d = int(c)\n",
    "c, d"
   ]
  },
  {
   "cell_type": "markdown",
   "metadata": {},
   "source": [
    "##### [2] float（）#转成小数"
   ]
  },
  {
   "cell_type": "code",
   "execution_count": null,
   "metadata": {
    "collapsed": true,
    "jupyter": {
     "outputs_hidden": true
    }
   },
   "outputs": [],
   "source": [
    "a = '520'\n",
    "b = float(a)\n",
    "a, b"
   ]
  },
  {
   "cell_type": "code",
   "execution_count": null,
   "metadata": {
    "collapsed": true,
    "jupyter": {
     "outputs_hidden": true
    }
   },
   "outputs": [],
   "source": [
    "c = 520\n",
    "d = float(c)\n",
    "c, d, type(c), type(d)"
   ]
  },
  {
   "cell_type": "markdown",
   "metadata": {},
   "source": [
    "##### [3] str()  #将一个数或其他类型的数转换成字符串"
   ]
  },
  {
   "cell_type": "code",
   "execution_count": null,
   "metadata": {
    "collapsed": true,
    "jupyter": {
     "outputs_hidden": true
    }
   },
   "outputs": [],
   "source": [
    "a = 5.99\n",
    "b = str(a)\n",
    "a, b"
   ]
  },
  {
   "cell_type": "code",
   "execution_count": null,
   "metadata": {
    "collapsed": true,
    "jupyter": {
     "outputs_hidden": true
    }
   },
   "outputs": [],
   "source": [
    "c = str(5e15) ## 这个注意，并不是\"5e15\"\n",
    "c"
   ]
  },
  {
   "cell_type": "markdown",
   "metadata": {},
   "source": [
    "##### [4] complex()  #将一个数转换成complex类型"
   ]
  },
  {
   "cell_type": "code",
   "execution_count": null,
   "metadata": {
    "collapsed": true,
    "jupyter": {
     "outputs_hidden": true
    }
   },
   "outputs": [],
   "source": [
    "c = complex(3)\n",
    "c"
   ]
  },
  {
   "cell_type": "code",
   "execution_count": null,
   "metadata": {
    "collapsed": true,
    "jupyter": {
     "outputs_hidden": true
    }
   },
   "outputs": [],
   "source": [
    "c = complex(3,4)\n",
    "c"
   ]
  },
  {
   "cell_type": "markdown",
   "metadata": {
    "toc-hr-collapsed": true
   },
   "source": [
    "### <font size=4><span id=\"2.2.3\"> 2.2.3 常用的数值类型函数</span></font>"
   ]
  },
  {
   "cell_type": "markdown",
   "metadata": {},
   "source": [
    "- python中的函数分为以下几类：\n",
    "    - 内置函数：在内置模块_builtins_中，可以直接调用\n",
    "    - 标准库函数：先导入模块在调用函数，如math和random\n",
    "    - 第三方库：先安装库再导入模块，然后才能调用\n",
    "    - 用户自定义：用户自己写的函数，后续介绍"
   ]
  },
  {
   "cell_type": "markdown",
   "metadata": {},
   "source": [
    "#### (1)内置的数值类型函数"
   ]
  },
  {
   "cell_type": "markdown",
   "metadata": {},
   "source": [
    "|函数|含义|备注|\n",
    "|:-:|:-:|:-:|\n",
    "|abs(x)|绝对值||\n",
    "|divmod(x,y)|结果为一个元组，为(x//y,x%y)||\n",
    "|pow(x,y)|x的y次幂||\n",
    "|round(x[,n])|x的四舍五入，保留n位小数|看本章末尾|\n",
    "|max($x_1,x_2,$...$,x_n$)|求最大值||\n",
    "|min($x_1,x_2,$...$,x_n$)|求最小值||\n"
   ]
  },
  {
   "cell_type": "code",
   "execution_count": null,
   "metadata": {
    "collapsed": true,
    "jupyter": {
     "outputs_hidden": true
    }
   },
   "outputs": [],
   "source": [
    "## 例，输入三个数，按照从大到小的顺序输出\n",
    "x = int(input(\"输入x:\")) #input函数得到是字符串\n",
    "y = int(input(\"输入y:\"))\n",
    "z = int(input(\"输入z:\"))\n",
    "max1 = max(x,y,z)\n",
    "min1 = min(x,y,z)\n",
    "mid = x + y + z - max1 - min1\n",
    "print(max1,\">\",mid,\">\",min1)"
   ]
  },
  {
   "cell_type": "markdown",
   "metadata": {},
   "source": [
    "#### (2)内置的数据类型转换函数"
   ]
  },
  {
   "cell_type": "markdown",
   "metadata": {},
   "source": [
    "|函数|含义|\n",
    "|:-:|:-|\n",
    "|int(x)|1. 如果为浮点型则取整，去掉小数部分<br>2. 如果为字符串类型则转换成整数|\n",
    "|float(x)|1. 将x转换成浮点数<br>2. 如果x为字符串则转换为浮点数|\n",
    "|complex(x1[,x2])|将x1、x2转换成复数，如果没有x2则虚部为0|\n",
    "|str()|将x转换成字符串|\n",
    "|bool(x)|将x转换成布尔型|\n",
    "|eval(s)|将s当成有效表达式来求值|\n"
   ]
  },
  {
   "cell_type": "markdown",
   "metadata": {},
   "source": [
    "- eval函数：利用函数计算表达式的值"
   ]
  },
  {
   "cell_type": "code",
   "execution_count": 24,
   "metadata": {},
   "outputs": [
    {
     "name": "stdout",
     "output_type": "stream",
     "text": [
      "输入表达式：3+2*10\n",
      "计算结果= 23\n"
     ]
    },
    {
     "data": {
      "text/plain": [
       "int"
      ]
     },
     "execution_count": 24,
     "metadata": {},
     "output_type": "execute_result"
    }
   ],
   "source": [
    "from math import *\n",
    "x = eval(input(\"输入表达式：\")) \n",
    "print(\"计算结果=\",x)\n",
    "type(x)"
   ]
  },
  {
   "cell_type": "markdown",
   "metadata": {},
   "source": [
    "- eval函数：用作类型转换"
   ]
  },
  {
   "cell_type": "code",
   "execution_count": null,
   "metadata": {
    "collapsed": true,
    "jupyter": {
     "outputs_hidden": true
    }
   },
   "outputs": [],
   "source": [
    "eval(\"True\")"
   ]
  },
  {
   "cell_type": "code",
   "execution_count": null,
   "metadata": {
    "collapsed": true,
    "jupyter": {
     "outputs_hidden": true
    }
   },
   "outputs": [],
   "source": [
    "eval(\"1\")"
   ]
  },
  {
   "cell_type": "code",
   "execution_count": null,
   "metadata": {
    "collapsed": true,
    "jupyter": {
     "outputs_hidden": true
    }
   },
   "outputs": [],
   "source": [
    "eval(\"1.2+3j\")"
   ]
  },
  {
   "cell_type": "markdown",
   "metadata": {},
   "source": [
    "- eval函数：多变量输入"
   ]
  },
  {
   "cell_type": "code",
   "execution_count": null,
   "metadata": {
    "collapsed": true,
    "jupyter": {
     "outputs_hidden": true
    }
   },
   "outputs": [],
   "source": [
    "x,y,z = eval(input(\"输入x,y,z的值\"))\n",
    "x,y,z"
   ]
  },
  {
   "cell_type": "markdown",
   "metadata": {},
   "source": [
    "#### (3) math库"
   ]
  },
  {
   "cell_type": "markdown",
   "metadata": {},
   "source": [
    "常用的常数和数学函数表\n",
    "\n",
    "|常数或数学函数|含义|实例|结果|\n",
    "|:-:|:-|:-|:-|\n",
    "|pi||||\n",
    "|e||||\n",
    "|sin(x)||||\n",
    "|cos(x)||||\n",
    "|tan(x)|正切|||\n",
    "|exp(x)||||\n",
    "|gcd(m,n)|最大公约数|||\n",
    "|log(x)||||\n",
    "|log10(x)||||\n",
    "|sqrt(x)||||\n"
   ]
  },
  {
   "cell_type": "code",
   "execution_count": null,
   "metadata": {
    "collapsed": true,
    "jupyter": {
     "outputs_hidden": true
    }
   },
   "outputs": [],
   "source": [
    "from math import * #这样调用可以省略模块名"
   ]
  },
  {
   "cell_type": "code",
   "execution_count": null,
   "metadata": {
    "collapsed": true,
    "jupyter": {
     "outputs_hidden": true
    }
   },
   "outputs": [],
   "source": [
    "sin(90)"
   ]
  },
  {
   "cell_type": "code",
   "execution_count": null,
   "metadata": {
    "collapsed": true,
    "jupyter": {
     "outputs_hidden": true
    }
   },
   "outputs": [],
   "source": [
    "sin(75/180*pi)"
   ]
  },
  {
   "cell_type": "code",
   "execution_count": null,
   "metadata": {
    "collapsed": true,
    "jupyter": {
     "outputs_hidden": true
    }
   },
   "outputs": [],
   "source": [
    "import math\n",
    "math.sin(90)"
   ]
  },
  {
   "cell_type": "code",
   "execution_count": null,
   "metadata": {
    "collapsed": true,
    "jupyter": {
     "outputs_hidden": true
    }
   },
   "outputs": [],
   "source": [
    "import math as mt\n",
    "mt.sin(90)"
   ]
  },
  {
   "cell_type": "code",
   "execution_count": null,
   "metadata": {
    "collapsed": true,
    "jupyter": {
     "outputs_hidden": true
    }
   },
   "outputs": [],
   "source": [
    "dir(math)"
   ]
  },
  {
   "cell_type": "markdown",
   "metadata": {},
   "source": [
    "#### (4) random库"
   ]
  },
  {
   "cell_type": "markdown",
   "metadata": {},
   "source": [
    "常用随机数生成函数\n",
    "\n",
    "|函数|含义|实例|结果|\n",
    "|:-|:-|:-|:-|\n",
    "|random()|[0,1)内的一个浮点数|random|0.641341512|\n",
    "|randint(a,b)|[a,b]内一个整数|randint(5,10)|8|\n",
    "|randrange(m,n[,k])|[m,n)内以k为步长的随机整数|randrange(1,11,2)|7|\n",
    "|sample(seq,k)|从序列seq中随机取k个，k个数小于seq的长度|sample(range(1,10),5)|[3,2,1,5,9]|\n",
    "|shuffle(seq)|打乱序列|lst=[1,2,3,4]<br>shuffle(lst)|[4,2,3,1]|\n",
    "\n"
   ]
  },
  {
   "cell_type": "code",
   "execution_count": null,
   "metadata": {
    "collapsed": true,
    "jupyter": {
     "outputs_hidden": true
    }
   },
   "outputs": [],
   "source": [
    "import random\n",
    "seq = [1,2,3,4,5,6,7,8,9,10]\n",
    "random.shuffle(seq)\n",
    "seq"
   ]
  },
  {
   "cell_type": "code",
   "execution_count": null,
   "metadata": {
    "collapsed": true,
    "jupyter": {
     "outputs_hidden": true
    }
   },
   "outputs": [],
   "source": [
    "random.sample(seq,3)"
   ]
  },
  {
   "cell_type": "markdown",
   "metadata": {},
   "source": [
    "[返回目录](#mulu)"
   ]
  },
  {
   "cell_type": "markdown",
   "metadata": {},
   "source": [
    "## <font size=5> <span id=\"2.3\"> 2.3 字符串类型的表示和处理</span></font>"
   ]
  },
  {
   "cell_type": "markdown",
   "metadata": {},
   "source": [
    "### <font size=4><span id=\"2.3.1\"> 2.3.1 字符串类型</span></font>"
   ]
  },
  {
   "cell_type": "markdown",
   "metadata": {
    "tags": [],
    "toc-hr-collapsed": true
   },
   "source": [
    "- 字符串是由引号表示的连续字符集\n",
    "- 单引号、双引号、三引号成对"
   ]
  },
  {
   "cell_type": "code",
   "execution_count": 25,
   "metadata": {},
   "outputs": [
    {
     "data": {
      "text/plain": [
       "str"
      ]
     },
     "execution_count": 25,
     "metadata": {},
     "output_type": "execute_result"
    }
   ],
   "source": [
    "name = \"I am a boy.\"\n",
    "type(name)"
   ]
  },
  {
   "cell_type": "code",
   "execution_count": 26,
   "metadata": {},
   "outputs": [
    {
     "data": {
      "text/plain": [
       "str"
      ]
     },
     "execution_count": 26,
     "metadata": {},
     "output_type": "execute_result"
    }
   ],
   "source": [
    "type('5')"
   ]
  },
  {
   "cell_type": "code",
   "execution_count": 27,
   "metadata": {},
   "outputs": [
    {
     "data": {
      "text/plain": [
       "str"
      ]
     },
     "execution_count": 27,
     "metadata": {},
     "output_type": "execute_result"
    }
   ],
   "source": [
    "type('')"
   ]
  },
  {
   "cell_type": "code",
   "execution_count": null,
   "metadata": {
    "collapsed": true,
    "jupyter": {
     "outputs_hidden": true
    }
   },
   "outputs": [],
   "source": [
    "# 空字符串在判断的时候为 False\n",
    "if \"\":\n",
    "    print(\"void\")\n",
    "else:\n",
    "    print(\"hh\")"
   ]
  },
  {
   "cell_type": "markdown",
   "metadata": {},
   "source": [
    "#### (1) 单引号、双引号，Python不挑剔，但必须成对出现"
   ]
  },
  {
   "cell_type": "code",
   "execution_count": null,
   "metadata": {
    "collapsed": true,
    "jupyter": {
     "outputs_hidden": true
    }
   },
   "outputs": [],
   "source": [
    "stringa = 'I Love Python'\n",
    "print(stringa)"
   ]
  },
  {
   "cell_type": "code",
   "execution_count": null,
   "metadata": {
    "collapsed": true,
    "jupyter": {
     "outputs_hidden": true
    }
   },
   "outputs": [],
   "source": [
    "stringa = \"I Love Python too\"\n",
    "print(stringa)"
   ]
  },
  {
   "cell_type": "code",
   "execution_count": null,
   "metadata": {
    "collapsed": true,
    "jupyter": {
     "outputs_hidden": true
    }
   },
   "outputs": [],
   "source": [
    "stringa = \"I Love Python three'\n",
    "print(stringa)"
   ]
  },
  {
   "cell_type": "markdown",
   "metadata": {},
   "source": [
    "#### (2) 如果希望文本里面有单引号或者双引号怎么办？"
   ]
  },
  {
   "cell_type": "code",
   "execution_count": 28,
   "metadata": {
    "tags": []
   },
   "outputs": [
    {
     "ename": "SyntaxError",
     "evalue": "unterminated string literal (detected at line 2) (3125527852.py, line 2)",
     "output_type": "error",
     "traceback": [
      "\u001b[1;36m  Cell \u001b[1;32mIn[28], line 2\u001b[1;36m\u001b[0m\n\u001b[1;33m    'Let's go'\u001b[0m\n\u001b[1;37m             ^\u001b[0m\n\u001b[1;31mSyntaxError\u001b[0m\u001b[1;31m:\u001b[0m unterminated string literal (detected at line 2)\n"
     ]
    }
   ],
   "source": [
    "# 字符串中含有单撇号  \n",
    "'Let's go'"
   ]
  },
  {
   "cell_type": "code",
   "execution_count": 30,
   "metadata": {},
   "outputs": [
    {
     "data": {
      "text/plain": [
       "\"Let's go\""
      ]
     },
     "execution_count": 30,
     "metadata": {},
     "output_type": "execute_result"
    }
   ],
   "source": [
    "'Let\\'s go'   #用转义字符\\进行转义"
   ]
  },
  {
   "cell_type": "code",
   "execution_count": 29,
   "metadata": {},
   "outputs": [
    {
     "data": {
      "text/plain": [
       "\"Let's go\""
      ]
     },
     "execution_count": 29,
     "metadata": {},
     "output_type": "execute_result"
    }
   ],
   "source": [
    "\"Let's go\"   #用双引号来也可以"
   ]
  },
  {
   "cell_type": "code",
   "execution_count": null,
   "metadata": {
    "collapsed": true,
    "jupyter": {
     "outputs_hidden": true
    }
   },
   "outputs": [],
   "source": [
    "print('Let\\'s go')\n",
    "print(\"Let's go\")"
   ]
  },
  {
   "cell_type": "markdown",
   "metadata": {},
   "source": [
    "#### (3) 长字符串"
   ]
  },
  {
   "cell_type": "markdown",
   "metadata": {},
   "source": [
    "卜算子·我住长江头\n",
    "\n",
    "宋代：李之仪\n",
    "\n",
    "我住长江头，  \n",
    "君住长江尾。  \n",
    "日日思君不见君，  \n",
    "共饮长江水。 \n",
    "  \n",
    "此水几时休，  \n",
    "此恨何时已。  \n",
    "只愿君心似我心，  \n",
    "定不负相思意。"
   ]
  },
  {
   "cell_type": "markdown",
   "metadata": {},
   "source": [
    "- 打印试试"
   ]
  },
  {
   "cell_type": "code",
   "execution_count": 31,
   "metadata": {},
   "outputs": [
    {
     "name": "stdout",
     "output_type": "stream",
     "text": [
      "卜算子·我住长江头\n",
      "\n",
      "宋代：李之仪\n",
      "\n",
      "我住长江头，\n",
      "君住长江尾。\n",
      "日日思君不见君，\n",
      "共饮长江水。\n",
      "\n",
      "此水几时休，\n",
      "此恨何时已。\n",
      "只愿君心似我心，\n",
      "定不负相思意\n"
     ]
    }
   ],
   "source": [
    "print(\"卜算子·我住长江头\\n\\n宋代：李之仪\\n\\n我住长江头，\\n君住长江尾。\\n日日思君不见君，\\n共饮长江水。\\n\\n此水几时休，\\n此恨何时已。\\n只愿君心似我心，\\n定不负相思意\")"
   ]
  },
  {
   "cell_type": "markdown",
   "metadata": {},
   "source": [
    "- 用三重引号\"\"\"内容\"\"\""
   ]
  },
  {
   "cell_type": "code",
   "execution_count": 32,
   "metadata": {},
   "outputs": [],
   "source": [
    "aa = '''曾经有一份真诚的爱摆在我的面前，\n",
    "但是我没有珍惜，\n",
    "等到失去的时候才后悔莫及，\n",
    "尘世间最痛苦的事莫过于此。\n",
    "\n",
    "如果上天可以给我个机会再来一次的话，\n",
    "我会对这个女孩说我爱她，\n",
    "如果非要在这份爱加上一个期限，\n",
    "我希望是一万年！'''"
   ]
  },
  {
   "cell_type": "code",
   "execution_count": 33,
   "metadata": {},
   "outputs": [
    {
     "name": "stdout",
     "output_type": "stream",
     "text": [
      "曾经有一份真诚的爱摆在我的面前，\n",
      "但是我没有珍惜，\n",
      "等到失去的时候才后悔莫及，\n",
      "尘世间最痛苦的事莫过于此。\n",
      "\n",
      "如果上天可以给我个机会再来一次的话，\n",
      "我会对这个女孩说我爱她，\n",
      "如果非要在这份爱加上一个期限，\n",
      "我希望是一万年！\n"
     ]
    }
   ],
   "source": [
    "print(aa)"
   ]
  },
  {
   "cell_type": "code",
   "execution_count": 34,
   "metadata": {},
   "outputs": [],
   "source": [
    "aa = \"\"\"曾经有一份真诚的爱摆在我的面前，\n",
    "但是我没有珍惜，\n",
    "等到失去的时候才后悔莫及，\n",
    "尘世间最痛苦的事莫过于此。\n",
    "\n",
    "如果上天可以给我个机会再来一次的话，\n",
    "我会对这个女孩说我爱她，\n",
    "如果非要在这份爱加上一个期限，\n",
    "我希望是一万年！\"\"\""
   ]
  },
  {
   "cell_type": "code",
   "execution_count": 35,
   "metadata": {},
   "outputs": [
    {
     "name": "stdout",
     "output_type": "stream",
     "text": [
      "曾经有一份真诚的爱摆在我的面前，\n",
      "但是我没有珍惜，\n",
      "等到失去的时候才后悔莫及，\n",
      "尘世间最痛苦的事莫过于此。\n",
      "\n",
      "如果上天可以给我个机会再来一次的话，\n",
      "我会对这个女孩说我爱她，\n",
      "如果非要在这份爱加上一个期限，\n",
      "我希望是一万年！\n"
     ]
    }
   ],
   "source": [
    "print(aa)"
   ]
  },
  {
   "cell_type": "code",
   "execution_count": 36,
   "metadata": {},
   "outputs": [
    {
     "name": "stdout",
     "output_type": "stream",
     "text": [
      "  悯农\n",
      "锄禾日当午\n",
      "汗滴禾下土\n",
      "谁知盘中餐\n",
      "粒粒皆辛苦\n"
     ]
    }
   ],
   "source": [
    "bb = '''  悯农\n",
    "锄禾日当午\n",
    "汗滴禾下土\n",
    "谁知盘中餐\n",
    "粒粒皆辛苦'''\n",
    "print(bb)"
   ]
  },
  {
   "cell_type": "markdown",
   "metadata": {},
   "source": [
    "- 总结一下，多行可用成对的3个单引号，或者3个双引号"
   ]
  },
  {
   "cell_type": "markdown",
   "metadata": {},
   "source": [
    "#### (4) 转义字符"
   ]
  },
  {
   "cell_type": "code",
   "execution_count": 38,
   "metadata": {},
   "outputs": [
    {
     "name": "stdout",
     "output_type": "stream",
     "text": [
      "C:\n",
      "ow\n"
     ]
    }
   ],
   "source": [
    "string = 'C:\\now'  #打印试试看\n",
    "print(string)"
   ]
  },
  {
   "cell_type": "code",
   "execution_count": null,
   "metadata": {
    "collapsed": true,
    "jupyter": {
     "outputs_hidden": true
    }
   },
   "outputs": [],
   "source": [
    "print(string)   #看看打印的效果|"
   ]
  },
  {
   "cell_type": "code",
   "execution_count": null,
   "metadata": {
    "collapsed": true,
    "jupyter": {
     "outputs_hidden": true
    }
   },
   "outputs": [],
   "source": [
    "'c:\\now'"
   ]
  },
  {
   "cell_type": "code",
   "execution_count": null,
   "metadata": {
    "collapsed": true,
    "jupyter": {
     "outputs_hidden": true
    }
   },
   "outputs": [],
   "source": [
    "print('c:\\now')  # \\n转义字符"
   ]
  },
  {
   "cell_type": "code",
   "execution_count": 39,
   "metadata": {},
   "outputs": [
    {
     "name": "stdout",
     "output_type": "stream",
     "text": [
      "c:\\now\n"
     ]
    }
   ],
   "source": [
    "string='c:\\\\now'\n",
    "print(string)"
   ]
  },
  {
   "cell_type": "markdown",
   "metadata": {},
   "source": [
    "- 原因：` \\n `构成了回车换行"
   ]
  },
  {
   "cell_type": "markdown",
   "metadata": {},
   "source": [
    "| 转义字符    | 描述                                         |\n",
    "| :-----------: | :-------------------------------------------- |\n",
    "| \\\\(在行尾时) | 续行符                                       |\n",
    "| \\\\\\\\          | 反斜杠符号                                   |\n",
    "| \\\\\\'          | 单引号                                       |\n",
    "| \\\\\\\"          | 双引号                                       |\n",
    "| \\a          | 响铃                                         |\n",
    "| \\b          | 退格(Backspace)                              |\n",
    "| \\e          | 转义                                         |\n",
    "| \\000        | 空                                           |\n",
    "| \\n          | 换行                                         |\n",
    "| \\v          | 纵向制表符                                   |\n",
    "| \\t          | 横向制表符                                   |\n",
    "| \\r          | 回车                                         |\n",
    "| \\f          | 换页                                         |\n",
    "| \\oyy        | 八进制数，yy代表的字符，例如：\\o12代表换行   |\n",
    "| \\xyy        | 十六进制数，yy代表的字符，例如：\\x0a代表换行 |\n",
    "| \\other      | 其它的字符以普通格式输出                     |"
   ]
  },
  {
   "cell_type": "code",
   "execution_count": null,
   "metadata": {
    "collapsed": true,
    "jupyter": {
     "outputs_hidden": true
    }
   },
   "outputs": [],
   "source": [
    "string = 'C:\\tow'\n",
    "string\n",
    "print(string)"
   ]
  },
  {
   "cell_type": "code",
   "execution_count": null,
   "metadata": {
    "collapsed": true,
    "jupyter": {
     "outputs_hidden": true
    }
   },
   "outputs": [],
   "source": [
    "string='C:\\now'"
   ]
  },
  {
   "cell_type": "code",
   "execution_count": null,
   "metadata": {
    "collapsed": true,
    "jupyter": {
     "outputs_hidden": true
    }
   },
   "outputs": [],
   "source": [
    "string='C:\\\\now'\n",
    "print(string)"
   ]
  },
  {
   "cell_type": "code",
   "execution_count": 41,
   "metadata": {},
   "outputs": [
    {
     "name": "stdout",
     "output_type": "stream",
     "text": [
      "C:\\now\\t\\b\n"
     ]
    }
   ],
   "source": [
    "string=r'C:\\now\\t\\b'  #加一个英文字母r\n",
    "print(string)"
   ]
  },
  {
   "cell_type": "markdown",
   "metadata": {},
   "source": [
    "- 注意：\n",
    "    - 无论是否是原始字符串，都不能以反斜杠作为结尾\n",
    "    - 反斜杠置于文末，表示该字符串还没结束"
   ]
  },
  {
   "cell_type": "code",
   "execution_count": 45,
   "metadata": {},
   "outputs": [
    {
     "name": "stdout",
     "output_type": "stream",
     "text": [
      "I Love Python\\\n"
     ]
    }
   ],
   "source": [
    "string = 'I Love Python\\\\'\n",
    "print(string)"
   ]
  },
  {
   "cell_type": "code",
   "execution_count": 43,
   "metadata": {},
   "outputs": [
    {
     "ename": "SyntaxError",
     "evalue": "unterminated string literal (detected at line 1) (903720481.py, line 1)",
     "output_type": "error",
     "traceback": [
      "\u001b[1;36m  Cell \u001b[1;32mIn[43], line 1\u001b[1;36m\u001b[0m\n\u001b[1;33m    string = r'I Love Python\\'\u001b[0m\n\u001b[1;37m             ^\u001b[0m\n\u001b[1;31mSyntaxError\u001b[0m\u001b[1;31m:\u001b[0m unterminated string literal (detected at line 1)\n"
     ]
    }
   ],
   "source": [
    "string = r'I Love Python\\'"
   ]
  },
  {
   "cell_type": "markdown",
   "metadata": {
    "tags": []
   },
   "source": [
    "##### 思考：非要在文末加一个反斜杠，怎么实现？"
   ]
  },
  {
   "cell_type": "code",
   "execution_count": null,
   "metadata": {
    "collapsed": true,
    "jupyter": {
     "outputs_hidden": true
    }
   },
   "outputs": [],
   "source": [
    "# thinking...."
   ]
  },
  {
   "cell_type": "markdown",
   "metadata": {},
   "source": [
    "### <font size=4><span id=\"2.3.2\"> 2.3.2 字符串处理</span></font>\n"
   ]
  },
  {
   "cell_type": "markdown",
   "metadata": {},
   "source": [
    "#### (1) 连接操作符+号"
   ]
  },
  {
   "cell_type": "code",
   "execution_count": null,
   "metadata": {
    "collapsed": true,
    "jupyter": {
     "outputs_hidden": true
    }
   },
   "outputs": [],
   "source": [
    "a_string = 'Hello' + ' ' + \"Women Who Code!\"\n",
    "a_string"
   ]
  },
  {
   "cell_type": "code",
   "execution_count": null,
   "metadata": {
    "collapsed": true,
    "jupyter": {
     "outputs_hidden": true
    },
    "tags": []
   },
   "outputs": [],
   "source": [
    "'5'+'8'"
   ]
  },
  {
   "cell_type": "code",
   "execution_count": null,
   "metadata": {
    "collapsed": true,
    "jupyter": {
     "outputs_hidden": true
    }
   },
   "outputs": [],
   "source": [
    "5 + 8"
   ]
  },
  {
   "cell_type": "markdown",
   "metadata": {},
   "source": [
    "#### (2) 复制操作符*号"
   ]
  },
  {
   "cell_type": "code",
   "execution_count": 46,
   "metadata": {},
   "outputs": [
    {
     "data": {
      "text/plain": [
       "'I love you I love you I love you '"
      ]
     },
     "execution_count": 46,
     "metadata": {},
     "output_type": "execute_result"
    }
   ],
   "source": [
    "# str 乘法\n",
    "'I love you ' * 3"
   ]
  },
  {
   "cell_type": "code",
   "execution_count": 47,
   "metadata": {},
   "outputs": [
    {
     "name": "stdout",
     "output_type": "stream",
     "text": [
      "********************************************************************************\n"
     ]
    }
   ],
   "source": [
    "print(\"*\"*80)"
   ]
  },
  {
   "cell_type": "markdown",
   "metadata": {},
   "source": [
    "#### (3) 常用字符串内置函数"
   ]
  },
  {
   "cell_type": "markdown",
   "metadata": {},
   "source": [
    "|函数|含义|实例|结果|\n",
    "|:-:|:-|:-|:-:|\n",
    "|len(s)|返回s的长度|len(\"abc\")|3|\n",
    "|chr(n)|返回字符编码n对应的字符|chr(65)|'A'|\n",
    "|ord(s)|返回单字符s对应的编码|ord('A')|65|\n"
   ]
  },
  {
   "cell_type": "code",
   "execution_count": 48,
   "metadata": {
    "collapsed": true,
    "jupyter": {
     "outputs_hidden": true
    }
   },
   "outputs": [
    {
     "name": "stdout",
     "output_type": "stream",
     "text": [
      "0 ====> \u0000\n",
      "1 ====> \u0001\n",
      "2 ====> \u0002\n",
      "3 ====> \u0003\n",
      "4 ====> \u0004\n",
      "5 ====> \u0005\n",
      "6 ====> \u0006\n",
      "7 ====> \u0007\n",
      "8 ====> \b\n",
      "9 ====> \t\n",
      "10 ====> \n",
      "\n",
      "11 ====> \u000b\n",
      "\n",
      "12 ====> \f\n",
      "\n",
      "13 ====> \r\n",
      "14 ====> \u000e\n",
      "15 ====> \u000f\n",
      "16 ====> \u0010\n",
      "17 ====> \u0011\n",
      "18 ====> \u0012\n",
      "19 ====> \u0013\n",
      "20 ====> \u0014\n",
      "21 ====> \u0015\n",
      "22 ====> \u0016\n",
      "23 ====> \u0017\n",
      "24 ====> \u0018\n",
      "25 ====> \u0019\n",
      "26 ====> \u001a\n",
      "27 ====> \u001b\n",
      "28 ====> \u001c\n",
      "\n",
      "29 ====> \u001d\n",
      "\n",
      "30 ====> \u001e\n",
      "\n",
      "31 ====> \u001f\n",
      "32 ====>  \n",
      "33 ====> !\n",
      "34 ====> \"\n",
      "35 ====> #\n",
      "36 ====> $\n",
      "37 ====> %\n",
      "38 ====> &\n",
      "39 ====> '\n",
      "40 ====> (\n",
      "41 ====> )\n",
      "42 ====> *\n",
      "43 ====> +\n",
      "44 ====> ,\n",
      "45 ====> -\n",
      "46 ====> .\n",
      "47 ====> /\n",
      "48 ====> 0\n",
      "49 ====> 1\n",
      "50 ====> 2\n",
      "51 ====> 3\n",
      "52 ====> 4\n",
      "53 ====> 5\n",
      "54 ====> 6\n",
      "55 ====> 7\n",
      "56 ====> 8\n",
      "57 ====> 9\n",
      "58 ====> :\n",
      "59 ====> ;\n",
      "60 ====> <\n",
      "61 ====> =\n",
      "62 ====> >\n",
      "63 ====> ?\n",
      "64 ====> @\n",
      "65 ====> A\n",
      "66 ====> B\n",
      "67 ====> C\n",
      "68 ====> D\n",
      "69 ====> E\n",
      "70 ====> F\n",
      "71 ====> G\n",
      "72 ====> H\n",
      "73 ====> I\n",
      "74 ====> J\n",
      "75 ====> K\n",
      "76 ====> L\n",
      "77 ====> M\n",
      "78 ====> N\n",
      "79 ====> O\n",
      "80 ====> P\n",
      "81 ====> Q\n",
      "82 ====> R\n",
      "83 ====> S\n",
      "84 ====> T\n",
      "85 ====> U\n",
      "86 ====> V\n",
      "87 ====> W\n",
      "88 ====> X\n",
      "89 ====> Y\n",
      "90 ====> Z\n",
      "91 ====> [\n",
      "92 ====> \\\n",
      "93 ====> ]\n",
      "94 ====> ^\n",
      "95 ====> _\n",
      "96 ====> `\n",
      "97 ====> a\n",
      "98 ====> b\n",
      "99 ====> c\n",
      "100 ====> d\n",
      "101 ====> e\n",
      "102 ====> f\n",
      "103 ====> g\n",
      "104 ====> h\n",
      "105 ====> i\n",
      "106 ====> j\n",
      "107 ====> k\n",
      "108 ====> l\n",
      "109 ====> m\n",
      "110 ====> n\n",
      "111 ====> o\n",
      "112 ====> p\n",
      "113 ====> q\n",
      "114 ====> r\n",
      "115 ====> s\n",
      "116 ====> t\n",
      "117 ====> u\n",
      "118 ====> v\n",
      "119 ====> w\n",
      "120 ====> x\n",
      "121 ====> y\n",
      "122 ====> z\n",
      "123 ====> {\n",
      "124 ====> |\n",
      "125 ====> }\n",
      "126 ====> ~\n",
      "127 ====> \n",
      "128 ====> \n",
      "129 ====> \n",
      "130 ====> \n",
      "131 ====> \n",
      "132 ====> \n",
      "133 ====> \n",
      "\n",
      "134 ====> \n",
      "135 ====> \n",
      "136 ====> \n",
      "137 ====> \n",
      "138 ====> \n",
      "139 ====> \n",
      "140 ====> \n",
      "141 ====> \n",
      "142 ====> \n",
      "143 ====> \n",
      "144 ====> \n",
      "145 ====> \n",
      "146 ====> \n",
      "147 ====> \n",
      "148 ====> \n",
      "149 ====> \n",
      "150 ====> \n",
      "151 ====> \n",
      "152 ====> \n",
      "153 ====> \n",
      "154 ====> \n",
      "155 ====> \n",
      "156 ====> \n",
      "157 ====> \n",
      "158 ====> \n",
      "159 ====> \n",
      "160 ====>  \n",
      "161 ====> ¡\n",
      "162 ====> ¢\n",
      "163 ====> £\n",
      "164 ====> ¤\n",
      "165 ====> ¥\n",
      "166 ====> ¦\n",
      "167 ====> §\n",
      "168 ====> ¨\n",
      "169 ====> ©\n",
      "170 ====> ª\n",
      "171 ====> «\n",
      "172 ====> ¬\n",
      "173 ====> ­\n",
      "174 ====> ®\n",
      "175 ====> ¯\n",
      "176 ====> °\n",
      "177 ====> ±\n",
      "178 ====> ²\n",
      "179 ====> ³\n",
      "180 ====> ´\n",
      "181 ====> µ\n",
      "182 ====> ¶\n",
      "183 ====> ·\n",
      "184 ====> ¸\n",
      "185 ====> ¹\n",
      "186 ====> º\n",
      "187 ====> »\n",
      "188 ====> ¼\n",
      "189 ====> ½\n",
      "190 ====> ¾\n",
      "191 ====> ¿\n",
      "192 ====> À\n",
      "193 ====> Á\n",
      "194 ====> Â\n",
      "195 ====> Ã\n",
      "196 ====> Ä\n",
      "197 ====> Å\n",
      "198 ====> Æ\n",
      "199 ====> Ç\n",
      "200 ====> È\n",
      "201 ====> É\n",
      "202 ====> Ê\n",
      "203 ====> Ë\n",
      "204 ====> Ì\n",
      "205 ====> Í\n",
      "206 ====> Î\n",
      "207 ====> Ï\n",
      "208 ====> Ð\n",
      "209 ====> Ñ\n",
      "210 ====> Ò\n",
      "211 ====> Ó\n",
      "212 ====> Ô\n",
      "213 ====> Õ\n",
      "214 ====> Ö\n",
      "215 ====> ×\n",
      "216 ====> Ø\n",
      "217 ====> Ù\n",
      "218 ====> Ú\n",
      "219 ====> Û\n",
      "220 ====> Ü\n",
      "221 ====> Ý\n",
      "222 ====> Þ\n",
      "223 ====> ß\n",
      "224 ====> à\n",
      "225 ====> á\n",
      "226 ====> â\n",
      "227 ====> ã\n",
      "228 ====> ä\n",
      "229 ====> å\n",
      "230 ====> æ\n",
      "231 ====> ç\n",
      "232 ====> è\n",
      "233 ====> é\n",
      "234 ====> ê\n",
      "235 ====> ë\n",
      "236 ====> ì\n",
      "237 ====> í\n",
      "238 ====> î\n",
      "239 ====> ï\n",
      "240 ====> ð\n",
      "241 ====> ñ\n",
      "242 ====> ò\n",
      "243 ====> ó\n",
      "244 ====> ô\n",
      "245 ====> õ\n",
      "246 ====> ö\n",
      "247 ====> ÷\n",
      "248 ====> ø\n",
      "249 ====> ù\n",
      "250 ====> ú\n",
      "251 ====> û\n",
      "252 ====> ü\n",
      "253 ====> ý\n",
      "254 ====> þ\n",
      "255 ====> ÿ\n"
     ]
    }
   ],
   "source": [
    "for i in range(256):\n",
    "    print(i,'====>',chr(i))"
   ]
  },
  {
   "cell_type": "code",
   "execution_count": 49,
   "metadata": {
    "collapsed": true,
    "jupyter": {
     "outputs_hidden": true
    }
   },
   "outputs": [
    {
     "name": "stdout",
     "output_type": "stream",
     "text": [
      "赵 ====> 36213\n",
      "钱 ====> 38065\n",
      "孙 ====> 23385\n",
      "李 ====> 26446\n",
      "周 ====> 21608\n",
      "吴 ====> 21556\n",
      "郑 ====> 37073\n",
      "王 ====> 29579\n",
      "冯 ====> 20911\n",
      "陈 ====> 38472\n",
      "褚 ====> 35098\n",
      "卫 ====> 21355\n",
      "蒋 ====> 33931\n",
      "沈 ====> 27784\n",
      "韩 ====> 38889\n",
      "杨 ====> 26472\n",
      "朱 ====> 26417\n",
      "秦 ====> 31206\n",
      "尤 ====> 23588\n",
      "许 ====> 35768\n",
      "何 ====> 20309\n",
      "吕 ====> 21525\n",
      "施 ====> 26045\n",
      "张 ====> 24352\n",
      "孔 ====> 23380\n",
      "曹 ====> 26361\n",
      "严 ====> 20005\n",
      "华 ====> 21326\n",
      "金 ====> 37329\n",
      "魏 ====> 39759\n",
      "陶 ====> 38518\n",
      "姜 ====> 23004\n"
     ]
    }
   ],
   "source": [
    "# 可以是中文：按照 Unicode 编码标准\n",
    "for i in \"赵钱孙李周吴郑王冯陈褚卫蒋沈韩杨朱秦尤许何吕施张孔曹严华金魏陶姜\":\n",
    "    print(i,'====>',ord(i))"
   ]
  },
  {
   "cell_type": "code",
   "execution_count": 54,
   "metadata": {},
   "outputs": [
    {
     "name": "stdout",
     "output_type": "stream",
     "text": [
      "\"趙\"是汉字\n"
     ]
    }
   ],
   "source": [
    "# 判断是不是汉字\n",
    "char = \"趙\"    # ABCD, にほんご, 한국어, 趙錢孫李\n",
    "if ('\\u4e00' <= char) and (char <= '\\u9fff'):\n",
    "    print(\"\\\"\"+char+\"\\\"\"+\"是汉字\")\n",
    "else:\n",
    "    print(\"\\\"\"+char+\"\\\"\"+\"不是汉字\")"
   ]
  },
  {
   "cell_type": "markdown",
   "metadata": {},
   "source": [
    "[返回目录](#mulu)"
   ]
  },
  {
   "cell_type": "markdown",
   "metadata": {},
   "source": [
    "## <font size=5><span id=\"2.4\"> 2.4 布尔类型的表示和处理</span></font>\n",
    "- 只有“真”和“假”两个值\n",
    "- True, False\n",
    "- 注意大小写"
   ]
  },
  {
   "cell_type": "code",
   "execution_count": null,
   "metadata": {
    "collapsed": true,
    "jupyter": {
     "outputs_hidden": true
    }
   },
   "outputs": [],
   "source": [
    "a = True\n",
    "type(a)"
   ]
  },
  {
   "cell_type": "code",
   "execution_count": null,
   "metadata": {
    "collapsed": true,
    "jupyter": {
     "outputs_hidden": true
    }
   },
   "outputs": [],
   "source": [
    "# b = true"
   ]
  },
  {
   "cell_type": "code",
   "execution_count": null,
   "metadata": {
    "collapsed": true,
    "jupyter": {
     "outputs_hidden": true
    }
   },
   "outputs": [],
   "source": [
    "b = False\n",
    "type(b)"
   ]
  },
  {
   "cell_type": "markdown",
   "metadata": {},
   "source": [
    "- 布尔型的数据可以当数值使用\n",
    "- 当参与运算时，True当1，False当0"
   ]
  },
  {
   "cell_type": "code",
   "execution_count": 55,
   "metadata": {},
   "outputs": [
    {
     "data": {
      "text/plain": [
       "2"
      ]
     },
     "execution_count": 55,
     "metadata": {},
     "output_type": "execute_result"
    }
   ],
   "source": [
    "True + True"
   ]
  },
  {
   "cell_type": "code",
   "execution_count": 56,
   "metadata": {},
   "outputs": [
    {
     "data": {
      "text/plain": [
       "0"
      ]
     },
     "execution_count": 56,
     "metadata": {},
     "output_type": "execute_result"
    }
   ],
   "source": [
    "True * False"
   ]
  },
  {
   "cell_type": "code",
   "execution_count": 57,
   "metadata": {},
   "outputs": [
    {
     "ename": "ZeroDivisionError",
     "evalue": "division by zero",
     "output_type": "error",
     "traceback": [
      "\u001b[1;31m---------------------------------------------------------------------------\u001b[0m",
      "\u001b[1;31mZeroDivisionError\u001b[0m                         Traceback (most recent call last)",
      "Cell \u001b[1;32mIn[57], line 1\u001b[0m\n\u001b[1;32m----> 1\u001b[0m \u001b[38;5;28;01mTrue\u001b[39;00m \u001b[38;5;241m/\u001b[39m \u001b[38;5;28;01mFalse\u001b[39;00m\n",
      "\u001b[1;31mZeroDivisionError\u001b[0m: division by zero"
     ]
    }
   ],
   "source": [
    "True / False"
   ]
  },
  {
   "cell_type": "code",
   "execution_count": null,
   "metadata": {
    "collapsed": true,
    "jupyter": {
     "outputs_hidden": true
    }
   },
   "outputs": [],
   "source": [
    "a = True\n",
    "print(type(a))\n",
    "a = 100 + True\n",
    "print(type(a))\n",
    "a"
   ]
  },
  {
   "cell_type": "markdown",
   "metadata": {},
   "source": [
    "### <font size=4><span id=\"2.4.1\"> 2.4.1 关系运算符和关系表达式</span></font>\n"
   ]
  },
  {
   "cell_type": "markdown",
   "metadata": {
    "tags": []
   },
   "source": [
    "|运算符|描述|实例|结果|\n",
    "|:-: | :- | :- |:-:|\n",
    "|    ==      |等于 - 比较对象是否相等|    10 == 20<br>[1, 2, 3] == [1, 2, 3] |False <br>True|\n",
    "|>|大于|5 > 8|Flase|\n",
    "|>=|大于等于|5 >= 3|True|\n",
    "|<|小于|4 < 9|True|\n",
    "|<=|小于等于|14 < 9|False|\n",
    "|!=|不等于|'abc' != \"abc\"|False|\n"
   ]
  },
  {
   "cell_type": "code",
   "execution_count": null,
   "metadata": {
    "collapsed": true,
    "jupyter": {
     "outputs_hidden": true
    }
   },
   "outputs": [],
   "source": [
    "a = 3\n",
    "b = 4"
   ]
  },
  {
   "cell_type": "code",
   "execution_count": null,
   "metadata": {
    "collapsed": true,
    "jupyter": {
     "outputs_hidden": true
    },
    "tags": []
   },
   "outputs": [],
   "source": [
    "print(a, b)\n",
    "print(a == b) # equals\n",
    "print(a != b) # not equals\n",
    "print(a > b)  # greater than\n",
    "print(a < b)  # lesser than\n",
    "print(a >= b) # greater than or equal\n",
    "print(a <= b) # lesser than or equal"
   ]
  },
  {
   "cell_type": "code",
   "execution_count": 58,
   "metadata": {
    "tags": []
   },
   "outputs": [
    {
     "data": {
      "text/plain": [
       "True"
      ]
     },
     "execution_count": 58,
     "metadata": {},
     "output_type": "execute_result"
    }
   ],
   "source": [
    "[1, 2, 3] == [1, 2, 3.0]\n",
    "# 在这个判断中发生了什么？\n",
    "# 先比较数据类型：都是列表，没问题\n",
    "# 列表是有序类型，再依次比较元素：1==1, 2==2 没问题\n",
    "# 接下来，3 == 3.0?"
   ]
  },
  {
   "cell_type": "markdown",
   "metadata": {},
   "source": [
    "- 注意，在 Python 中，如果两个不同类型的数据进行运算或判断时，默认向更高精度转换\n",
    "- 数据类型精度从低到高：bool < int < float < complex\n",
    "- 因此，3 --> 3.0，那么问题来了，3.0 == 3.0？"
   ]
  },
  {
   "cell_type": "code",
   "execution_count": null,
   "metadata": {
    "collapsed": true,
    "jupyter": {
     "outputs_hidden": true
    }
   },
   "outputs": [],
   "source": [
    "3.0 == 3.0"
   ]
  },
  {
   "cell_type": "markdown",
   "metadata": {
    "tags": []
   },
   "source": [
    "- 特别注意：浮点数的比较"
   ]
  },
  {
   "cell_type": "code",
   "execution_count": 59,
   "metadata": {
    "tags": []
   },
   "outputs": [
    {
     "data": {
      "text/plain": [
       "False"
      ]
     },
     "execution_count": 59,
     "metadata": {},
     "output_type": "execute_result"
    }
   ],
   "source": [
    "(3.5 - 2.7) == 0.8"
   ]
  },
  {
   "cell_type": "code",
   "execution_count": 60,
   "metadata": {},
   "outputs": [
    {
     "data": {
      "text/plain": [
       "True"
      ]
     },
     "execution_count": 60,
     "metadata": {},
     "output_type": "execute_result"
    }
   ],
   "source": [
    "(3.2 - 0.5) == 2.7"
   ]
  },
  {
   "cell_type": "code",
   "execution_count": null,
   "metadata": {
    "collapsed": true,
    "jupyter": {
     "outputs_hidden": true
    }
   },
   "outputs": [],
   "source": [
    "# why?"
   ]
  },
  {
   "cell_type": "code",
   "execution_count": 62,
   "metadata": {
    "tags": []
   },
   "outputs": [
    {
     "data": {
      "text/plain": [
       "2.7"
      ]
     },
     "execution_count": 62,
     "metadata": {},
     "output_type": "execute_result"
    }
   ],
   "source": [
    "3.2 - 0.5"
   ]
  },
  {
   "cell_type": "code",
   "execution_count": null,
   "metadata": {
    "collapsed": true,
    "jupyter": {
     "outputs_hidden": true
    },
    "tags": []
   },
   "outputs": [],
   "source": [
    "[1, 2, 0.8] == [2-1, 2, 0.8]"
   ]
  },
  {
   "cell_type": "code",
   "execution_count": null,
   "metadata": {
    "collapsed": true,
    "jupyter": {
     "outputs_hidden": true
    }
   },
   "outputs": [],
   "source": [
    "[1, 2, 0.8] == [2-1, 2, 3.5-2.7]"
   ]
  },
  {
   "cell_type": "markdown",
   "metadata": {},
   "source": [
    "Python 官方文档关于浮点运算的一些解释\n",
    "\n",
    "https://docs.python.org/zh-cn/3/tutorial/floatingpoint.html"
   ]
  },
  {
   "cell_type": "markdown",
   "metadata": {
    "tags": []
   },
   "source": [
    "- 解决办法"
   ]
  },
  {
   "cell_type": "code",
   "execution_count": null,
   "metadata": {
    "collapsed": true,
    "jupyter": {
     "outputs_hidden": true
    }
   },
   "outputs": [],
   "source": [
    "abs((3.5-2.7)-0.8) < 1e-16"
   ]
  },
  {
   "cell_type": "markdown",
   "metadata": {
    "tags": []
   },
   "source": [
    "### <font size=4><span id=\"2.4.2\"> 2.4.2  逻辑运算符和逻辑表达式</span></font>\n",
    "- `and` 逻辑与\n",
    "- `or` 逻辑或\n",
    "- `not`逻辑非\n",
    "- `in` 判断是否属于\n",
    "- `not in` 判断是否不属于"
   ]
  },
  {
   "cell_type": "markdown",
   "metadata": {},
   "source": [
    "#### <font size=3.5><span id=\"2.4.2.1\"> 2.4.2.1  and 逻辑与</span></font>"
   ]
  },
  {
   "cell_type": "code",
   "execution_count": 64,
   "metadata": {},
   "outputs": [
    {
     "data": {
      "text/plain": [
       "False"
      ]
     },
     "execution_count": 64,
     "metadata": {},
     "output_type": "execute_result"
    }
   ],
   "source": [
    "3<4 and 6<5"
   ]
  },
  {
   "cell_type": "code",
   "execution_count": null,
   "metadata": {
    "collapsed": true,
    "jupyter": {
     "outputs_hidden": true
    }
   },
   "outputs": [],
   "source": [
    "3<4 and 5>4"
   ]
  },
  {
   "cell_type": "code",
   "execution_count": null,
   "metadata": {
    "collapsed": true,
    "jupyter": {
     "outputs_hidden": true
    }
   },
   "outputs": [],
   "source": [
    "a,b,c=3,4,5\n",
    "if a<b and b<c and a<c:\n",
    "    print(\"a<b<c\")"
   ]
  },
  {
   "cell_type": "code",
   "execution_count": null,
   "metadata": {
    "collapsed": true,
    "jupyter": {
     "outputs_hidden": true
    }
   },
   "outputs": [],
   "source": [
    "if 1 and \"abc\":\n",
    "    print(\"cccc\")"
   ]
  },
  {
   "cell_type": "code",
   "execution_count": null,
   "metadata": {
    "collapsed": true,
    "jupyter": {
     "outputs_hidden": true
    }
   },
   "outputs": [],
   "source": [
    "0 and \"abc\""
   ]
  },
  {
   "cell_type": "markdown",
   "metadata": {},
   "source": [
    "#### <font size=3.5><span id=\"2.4.2.2\"> 2.4.2.2  or 逻辑或</span></font>"
   ]
  },
  {
   "cell_type": "code",
   "execution_count": null,
   "metadata": {
    "collapsed": true,
    "jupyter": {
     "outputs_hidden": true
    },
    "tags": []
   },
   "outputs": [],
   "source": [
    "# 只要满足条件之一\n",
    "3 < 5 or 8 > 5"
   ]
  },
  {
   "cell_type": "code",
   "execution_count": null,
   "metadata": {
    "collapsed": true,
    "jupyter": {
     "outputs_hidden": true
    }
   },
   "outputs": [],
   "source": [
    "3>5 or 9>11 or 4<5 # 多个or"
   ]
  },
  {
   "cell_type": "code",
   "execution_count": null,
   "metadata": {
    "collapsed": true,
    "jupyter": {
     "outputs_hidden": true
    }
   },
   "outputs": [],
   "source": [
    "4 < 6 or 7 < 5 and 5 < 7  # 按照顺序运算"
   ]
  },
  {
   "cell_type": "markdown",
   "metadata": {},
   "source": [
    "#### <font size=4><span id=\"2.4.2.3\"> 2.4.2.3  not 逻辑非</span></font>"
   ]
  },
  {
   "cell_type": "code",
   "execution_count": null,
   "metadata": {
    "collapsed": true,
    "jupyter": {
     "outputs_hidden": true
    }
   },
   "outputs": [],
   "source": [
    "# 取反\n",
    "not True"
   ]
  },
  {
   "cell_type": "code",
   "execution_count": 65,
   "metadata": {},
   "outputs": [
    {
     "data": {
      "text/plain": [
       "True"
      ]
     },
     "execution_count": 65,
     "metadata": {},
     "output_type": "execute_result"
    }
   ],
   "source": [
    "not 0"
   ]
  },
  {
   "cell_type": "code",
   "execution_count": 66,
   "metadata": {},
   "outputs": [
    {
     "data": {
      "text/plain": [
       "False"
      ]
     },
     "execution_count": 66,
     "metadata": {},
     "output_type": "execute_result"
    }
   ],
   "source": [
    "not 4"
   ]
  },
  {
   "cell_type": "code",
   "execution_count": null,
   "metadata": {
    "collapsed": true,
    "jupyter": {
     "outputs_hidden": true
    }
   },
   "outputs": [],
   "source": [
    "3 < 4 < 5"
   ]
  },
  {
   "cell_type": "markdown",
   "metadata": {},
   "source": [
    "#### <font size=3.5><span id=\"2.4.2.4\"> 2.4.2.4  in 和 not in</span></font>"
   ]
  },
  {
   "cell_type": "code",
   "execution_count": 67,
   "metadata": {
    "tags": []
   },
   "outputs": [
    {
     "name": "stdout",
     "output_type": "stream",
     "text": [
      "True\n",
      "True\n"
     ]
    }
   ],
   "source": [
    "a_string = \"Women Who Code\"\n",
    "print(\"Women\" in a_string)\n",
    "print(\"Men\" not in a_string)"
   ]
  },
  {
   "cell_type": "code",
   "execution_count": 68,
   "metadata": {},
   "outputs": [
    {
     "data": {
      "text/plain": [
       "True"
      ]
     },
     "execution_count": 68,
     "metadata": {},
     "output_type": "execute_result"
    }
   ],
   "source": [
    "5 in [3,4,5,6]"
   ]
  },
  {
   "cell_type": "code",
   "execution_count": 69,
   "metadata": {},
   "outputs": [
    {
     "data": {
      "text/plain": [
       "True"
      ]
     },
     "execution_count": 69,
     "metadata": {},
     "output_type": "execute_result"
    }
   ],
   "source": [
    "5.0 in [3,4,5,6]"
   ]
  },
  {
   "cell_type": "code",
   "execution_count": 70,
   "metadata": {},
   "outputs": [
    {
     "data": {
      "text/plain": [
       "True"
      ]
     },
     "execution_count": 70,
     "metadata": {},
     "output_type": "execute_result"
    }
   ],
   "source": [
    "2.5 in [3, 2.8-0.3, 5, 6]"
   ]
  },
  {
   "cell_type": "code",
   "execution_count": 71,
   "metadata": {},
   "outputs": [
    {
     "data": {
      "text/plain": [
       "False"
      ]
     },
     "execution_count": 71,
     "metadata": {},
     "output_type": "execute_result"
    }
   ],
   "source": [
    "2.7 in [3, 2.8-0.1, 5, 6]"
   ]
  },
  {
   "cell_type": "markdown",
   "metadata": {},
   "source": [
    "- 其他例子或说明"
   ]
  },
  {
   "cell_type": "code",
   "execution_count": 72,
   "metadata": {},
   "outputs": [
    {
     "data": {
      "text/plain": [
       "True"
      ]
     },
     "execution_count": 72,
     "metadata": {},
     "output_type": "execute_result"
    }
   ],
   "source": [
    "a = 4\n",
    "3<a>1  #不好的例子"
   ]
  },
  {
   "cell_type": "code",
   "execution_count": 73,
   "metadata": {},
   "outputs": [
    {
     "data": {
      "text/plain": [
       "True"
      ]
     },
     "execution_count": 73,
     "metadata": {},
     "output_type": "execute_result"
    }
   ],
   "source": [
    "# 判断闰年怎么判断呢?\n",
    "year = 2024  # eval(input('输入年份（四位数）'))\n",
    "# 大家来试试\n",
    "\n",
    "if (year%4==0 and year%100 !=0) or year%400==0:\n",
    "    leap = True\n",
    "else:\n",
    "    leap = False\n",
    "leap"
   ]
  },
  {
   "cell_type": "code",
   "execution_count": null,
   "metadata": {
    "collapsed": true,
    "jupyter": {
     "outputs_hidden": true
    }
   },
   "outputs": [],
   "source": [
    "leap = (year%4 == 0 and year%100 != 0) or (year%400 == 0)\n",
    "leap"
   ]
  },
  {
   "cell_type": "markdown",
   "metadata": {},
   "source": [
    "#### (1) `is` 和  `is not` 运算符   vs. `==`以及`!=`的区别"
   ]
  },
  {
   "cell_type": "markdown",
   "metadata": {},
   "source": [
    "- `is` 用于判断两个变量引用对象是否为同一个\n",
    "- `==` 用于判断引用变量的值是否相等。\n"
   ]
  },
  {
   "cell_type": "markdown",
   "metadata": {},
   "source": [
    "- 整数缓存问题\n",
    "  - Python仅仅对比较小的整数（范围[-5,256]）缓存起来\n",
    "- 字符串缓存驻留问题\n",
    "  - 字符串中仅含26字母、数字与下划线"
   ]
  },
  {
   "cell_type": "code",
   "execution_count": 77,
   "metadata": {
    "tags": []
   },
   "outputs": [
    {
     "name": "stdout",
     "output_type": "stream",
     "text": [
      "True\n",
      "True\n",
      "140725702800136\n",
      "140725702800136\n"
     ]
    }
   ],
   "source": [
    "x = 256  # 改一下\n",
    "y = 256\n",
    "print(x == y)\n",
    "print(x is y)\n",
    "print(id(x))\n",
    "print(id(y))"
   ]
  },
  {
   "cell_type": "code",
   "execution_count": null,
   "metadata": {
    "collapsed": true,
    "jupyter": {
     "outputs_hidden": true
    }
   },
   "outputs": [],
   "source": [
    "help(id)"
   ]
  },
  {
   "cell_type": "code",
   "execution_count": null,
   "metadata": {
    "collapsed": true,
    "jupyter": {
     "outputs_hidden": true
    }
   },
   "outputs": [],
   "source": [
    "id(1), id(2), id(3)"
   ]
  },
  {
   "cell_type": "code",
   "execution_count": null,
   "metadata": {
    "collapsed": true,
    "jupyter": {
     "outputs_hidden": true
    }
   },
   "outputs": [],
   "source": [
    "id(\"abc\")"
   ]
  },
  {
   "cell_type": "code",
   "execution_count": null,
   "metadata": {
    "collapsed": true,
    "jupyter": {
     "outputs_hidden": true
    }
   },
   "outputs": [],
   "source": [
    "id([1, 2, 3])"
   ]
  },
  {
   "cell_type": "code",
   "execution_count": 79,
   "metadata": {
    "tags": []
   },
   "outputs": [
    {
     "name": "stdout",
     "output_type": "stream",
     "text": [
      "True\n",
      "True\n",
      "2720529306736\n",
      "2720529306736\n"
     ]
    }
   ],
   "source": [
    "x = \"zyx\"  # 比较字符串缓存机制\n",
    "y = \"zyx\"\n",
    "print(x == y)\n",
    "print(x is y)\n",
    "print(id(x))\n",
    "print(id(y))"
   ]
  },
  {
   "cell_type": "markdown",
   "metadata": {
    "tags": []
   },
   "source": [
    "#### (2) 多个元素组合形成的对象，内容相同，并不是一个id"
   ]
  },
  {
   "cell_type": "code",
   "execution_count": 80,
   "metadata": {},
   "outputs": [
    {
     "name": "stdout",
     "output_type": "stream",
     "text": [
      "True\n",
      "False\n",
      "2720529305408\n",
      "2720529190656\n"
     ]
    }
   ],
   "source": [
    "# 数组比较\n",
    "x = [1, 2, 3]\n",
    "y = [1, 2, 3]\n",
    "print(x == y)\n",
    "print(x is y)\n",
    "print(id(x))\n",
    "print(id(y))"
   ]
  },
  {
   "cell_type": "code",
   "execution_count": 81,
   "metadata": {},
   "outputs": [
    {
     "name": "stdout",
     "output_type": "stream",
     "text": [
      "True\n",
      "False\n",
      "2720529376704\n",
      "2720529025792\n"
     ]
    }
   ],
   "source": [
    "# 元组比较\n",
    "x = (1, 2, 3)\n",
    "y = (1, 2, 3)\n",
    "print(x == y)\n",
    "print(x is y)\n",
    "print(id(x))\n",
    "print(id(y))"
   ]
  },
  {
   "cell_type": "code",
   "execution_count": 82,
   "metadata": {},
   "outputs": [
    {
     "name": "stdout",
     "output_type": "stream",
     "text": [
      "True\n",
      "False\n",
      "2720528879680\n",
      "2720528879616\n"
     ]
    }
   ],
   "source": [
    "# 字典比较\n",
    "x = {\"id\": 1, \"name\": \"Tom\", \"age\": 18}\n",
    "y = {\"id\": 1, \"name\": \"Tom\", \"age\": 18}\n",
    "print(x == y)\n",
    "print(x is y)\n",
    "print(id(x))\n",
    "print(id(y))"
   ]
  },
  {
   "cell_type": "code",
   "execution_count": 83,
   "metadata": {},
   "outputs": [
    {
     "name": "stdout",
     "output_type": "stream",
     "text": [
      "True\n",
      "False\n",
      "2720515583424\n",
      "2720515581856\n"
     ]
    }
   ],
   "source": [
    "# 集合比较\n",
    "x = set([1, 2, 3])\n",
    "y = set([1, 2, 3])\n",
    "print(x == y)\n",
    "print(x is y)\n",
    "print(id(x))\n",
    "print(id(y))"
   ]
  },
  {
   "cell_type": "code",
   "execution_count": null,
   "metadata": {
    "collapsed": true,
    "jupyter": {
     "outputs_hidden": true
    }
   },
   "outputs": [],
   "source": [
    "# 赋值后比较\n",
    "x = [1, 2, 3]\n",
    "y = x\n",
    "print(x == y)\n",
    "print(x is y)\n",
    "print(id(x))\n",
    "print(id(y))"
   ]
  },
  {
   "cell_type": "markdown",
   "metadata": {},
   "source": [
    "#### (3) 空值比较"
   ]
  },
  {
   "cell_type": "code",
   "execution_count": 6,
   "metadata": {},
   "outputs": [
    {
     "data": {
      "text/plain": [
       "int"
      ]
     },
     "execution_count": 6,
     "metadata": {},
     "output_type": "execute_result"
    }
   ],
   "source": [
    "none_type = None\n",
    "type(none_type)"
   ]
  },
  {
   "cell_type": "code",
   "execution_count": 7,
   "metadata": {},
   "outputs": [
    {
     "data": {
      "text/plain": [
       "False"
      ]
     },
     "execution_count": 7,
     "metadata": {},
     "output_type": "execute_result"
    }
   ],
   "source": [
    "none_type == None"
   ]
  },
  {
   "cell_type": "code",
   "execution_count": 8,
   "metadata": {},
   "outputs": [
    {
     "data": {
      "text/plain": [
       "(False, True)"
      ]
     },
     "execution_count": 8,
     "metadata": {},
     "output_type": "execute_result"
    }
   ],
   "source": [
    "# 思考一下这两个输出是什么\n",
    "none_type == False, none_type == True"
   ]
  },
  {
   "cell_type": "code",
   "execution_count": 5,
   "metadata": {},
   "outputs": [
    {
     "data": {
      "text/plain": [
       "False"
      ]
     },
     "execution_count": 5,
     "metadata": {},
     "output_type": "execute_result"
    }
   ],
   "source": [
    "None is False"
   ]
  },
  {
   "cell_type": "markdown",
   "metadata": {},
   "source": [
    "### (*) python-None  \n",
    "\n",
    "- 1.概念: None 是Python中表示空值或缺失值的特殊对象。它是一个唯一的数据类型，表示一个不存在的值或者一个空值。\n",
    "- 2.用途:\n",
    "  - 初始化变量: 当你声明一个变量但还没有赋值时，可以将其初始化为 None\n",
    "  - 默认返回值: 如果一个函数没有明确的返回值，Python默认返回 None\n",
    "  - 表示空的数据结构: 在某些情况下，你可能需要创建一个空的列表、字典或集合，你可以将其初始化为 None \n",
    "  - 空占位符: 有时你可能需要在代码中占用一个位置，但尚未准备好具体的值，可以使用 None作为占位符。\n",
    "- 3.比较: None 不能与其他值进行直接比较，因为它是一个特殊的单独对象\n",
    "- 4.注意事项：\n",
    "  - 但是在比较当比较对象是否为 None 时，使用 is 而不是== 。例如，my_variable is None 。新的python版本是可以这样子比较的\n",
    "  - 避免将 None 与其他值混淆。例如，不要将 None 与空字符串、0或False进行混淆\n",
    "  - 在使用 None 时要小心处理，以避免出现空指针异常 (NoneType错误)"
   ]
  },
  {
   "cell_type": "markdown",
   "metadata": {},
   "source": [
    "- 总结：\n",
    "  - is 比较两个对象的id是否相同，知否指向同一个地址\n",
    "  - == 比较对象内容是否相同，即值是否相同\n",
    "  - 整数与字符串缓存机制\n",
    "  - is比==效率高"
   ]
  },
  {
   "cell_type": "markdown",
   "metadata": {},
   "source": [
    "#### （*）比较一下 is 和==的速度"
   ]
  },
  {
   "cell_type": "code",
   "execution_count": 11,
   "metadata": {},
   "outputs": [],
   "source": [
    "a = [1,2,\"1234\",[1,5,6]]  # 改成列表呢？\n",
    "b = [1,2,\"1234\",[1,5,6]] "
   ]
  },
  {
   "cell_type": "code",
   "execution_count": 12,
   "metadata": {},
   "outputs": [
    {
     "name": "stdout",
     "output_type": "stream",
     "text": [
      "129 ns ± 1.46 ns per loop (mean ± std. dev. of 7 runs, 10,000,000 loops each)\n",
      "68.7 ns ± 0.383 ns per loop (mean ± std. dev. of 7 runs, 10,000,000 loops each)\n"
     ]
    }
   ],
   "source": [
    "%timeit a == b\n",
    "%timeit a is b"
   ]
  },
  {
   "cell_type": "markdown",
   "metadata": {},
   "source": [
    "- %timeit会自动运行此代码数次，并在最终结果中返回最小值。\n",
    "- 该结果还提供了有关运行代码所需时间\n",
    "的一些统计信息。"
   ]
  },
  {
   "cell_type": "markdown",
   "metadata": {},
   "source": [
    "- Jupyter Notebook 中%time和%timeit 的使用\n",
    "     - %time 的计算结果包括：CPU time（CPU运行程序的时间）， Wall time（Wall Clock Time，墙上挂钟的时间，也就是我们感受到的运行时间）。\n",
    "     - %timeit 计时更为精确，这一命令会运行代码 r 次，每次 n 遍，再对 n*r 遍的结果取平均后，得到运行一遍代码的时间。\n",
    "- %%time 或 %%timeit：计算当前单元(cell)的代码运行时间\n",
    "     - %%time 与 %time ， %%timeit 与 %timeit 的计算方式相同，区别在于 % 是用于单行代码的命令，%% 是应用于当前单元的命令。\n",
    "     - %%time 或者 %%timeit 必须在当前单元的第一行。 并且，%%time 后不能跟代码。\n",
    "     - %%timeit 后面可以跟代码，这行代码会运行、但不会计入时间，从第二行开始计时。"
   ]
  },
  {
   "cell_type": "markdown",
   "metadata": {},
   "source": [
    "[返回目录](#mulu)"
   ]
  },
  {
   "cell_type": "markdown",
   "metadata": {},
   "source": [
    "## <font size=5><span id=\"2.5\"> 2.5 数据的输入和输出</span></font>"
   ]
  },
  {
   "cell_type": "markdown",
   "metadata": {},
   "source": [
    "### <font size=4><span id=\"2.5.1\"> 2.5.1 数据的输入</span></font>\n",
    "- 格式：函数input(\"提示性字符串\")\n",
    "- 强调：得到的是一个字符串\n",
    "- 提示：用int, float进行类型转换, 或者eval对多变量进行输入"
   ]
  },
  {
   "cell_type": "code",
   "execution_count": null,
   "metadata": {
    "collapsed": true,
    "jupyter": {
     "outputs_hidden": true
    }
   },
   "outputs": [],
   "source": [
    "x = input(\"输入x:\")\n",
    "x"
   ]
  },
  {
   "cell_type": "code",
   "execution_count": null,
   "metadata": {
    "collapsed": true,
    "jupyter": {
     "outputs_hidden": true
    }
   },
   "outputs": [],
   "source": [
    "x = int(input(\"输入x:\"))\n",
    "x"
   ]
  },
  {
   "cell_type": "code",
   "execution_count": null,
   "metadata": {
    "collapsed": true,
    "jupyter": {
     "outputs_hidden": true
    }
   },
   "outputs": [],
   "source": [
    "y = float(input(\"输入y:\"))\n",
    "y"
   ]
  },
  {
   "cell_type": "code",
   "execution_count": 13,
   "metadata": {},
   "outputs": [
    {
     "name": "stdout",
     "output_type": "stream",
     "text": [
      "输入a, b, c:2,3,4\n"
     ]
    },
    {
     "data": {
      "text/plain": [
       "(2, 3, 4)"
      ]
     },
     "execution_count": 13,
     "metadata": {},
     "output_type": "execute_result"
    }
   ],
   "source": [
    "a, b, c = eval(input(\"输入a, b, c:\"))\n",
    "a, b, c\n",
    "# 输入: 3, 3.5, 5\n",
    "# 输入： 3 4 5"
   ]
  },
  {
   "cell_type": "markdown",
   "metadata": {
    "toc-hr-collapsed": true
   },
   "source": [
    "### <font size=4><span id=\"2.5.2\"> 2.5.2 数据的输出</span></font>\n",
    "- 格式：表达式方式  或者  print函数方式\n"
   ]
  },
  {
   "cell_type": "markdown",
   "metadata": {},
   "source": [
    "#### (1) 表达式方式\n",
    "\n",
    "- 在交互状态下，表达式可以输出值\n",
    "- 一个cell的最后一行输出值，其他行不输出"
   ]
  },
  {
   "cell_type": "code",
   "execution_count": 15,
   "metadata": {},
   "outputs": [
    {
     "data": {
      "text/plain": [
       "6"
      ]
     },
     "execution_count": 15,
     "metadata": {},
     "output_type": "execute_result"
    }
   ],
   "source": [
    "a = 3\n",
    "a + 3"
   ]
  },
  {
   "cell_type": "code",
   "execution_count": 16,
   "metadata": {},
   "outputs": [
    {
     "data": {
      "text/plain": [
       "(3, 4)"
      ]
     },
     "execution_count": 16,
     "metadata": {},
     "output_type": "execute_result"
    }
   ],
   "source": [
    "a = 3\n",
    "a\n",
    "b = 4 \n",
    "a, b"
   ]
  },
  {
   "cell_type": "code",
   "execution_count": null,
   "metadata": {
    "collapsed": true,
    "jupyter": {
     "outputs_hidden": true
    }
   },
   "outputs": [],
   "source": [
    "a // 2"
   ]
  },
  {
   "cell_type": "markdown",
   "metadata": {},
   "source": [
    "#### (2) print函数方式\n",
    "- print(输出项列表)，列表用逗号隔开\n",
    "- 可以用参数end表示结束符\n",
    "- 无参数表示输出一个空行"
   ]
  },
  {
   "cell_type": "code",
   "execution_count": 12,
   "metadata": {
    "collapsed": true,
    "jupyter": {
     "outputs_hidden": true
    }
   },
   "outputs": [
    {
     "name": "stdout",
     "output_type": "stream",
     "text": [
      "Help on built-in function print in module builtins:\n",
      "\n",
      "print(*args, sep=' ', end='\\n', file=None, flush=False)\n",
      "    Prints the values to a stream, or to sys.stdout by default.\n",
      "    \n",
      "    sep\n",
      "      string inserted between values, default a space.\n",
      "    end\n",
      "      string appended after the last value, default a newline.\n",
      "    file\n",
      "      a file-like object (stream); defaults to the current sys.stdout.\n",
      "    flush\n",
      "      whether to forcibly flush the stream.\n",
      "\n"
     ]
    }
   ],
   "source": [
    "help(print)"
   ]
  },
  {
   "cell_type": "code",
   "execution_count": 17,
   "metadata": {},
   "outputs": [
    {
     "name": "stdout",
     "output_type": "stream",
     "text": [
      "10 * 10 = 100\n",
      "11 * 11 = 121\n",
      "12 * 12 = 144\n",
      "13 * 13 = 169\n",
      "14 * 14 = 196\n",
      "15 * 15 = 225\n",
      "16 * 16 = 256\n",
      "17 * 17 = 289\n",
      "18 * 18 = 324\n",
      "19 * 19 = 361\n",
      "20 * 20 = 400\n"
     ]
    }
   ],
   "source": [
    "# 输出10-20的平方数\n",
    "for i in range(10,21):\n",
    "    print(i,'*',i,'=',i*i)"
   ]
  },
  {
   "cell_type": "markdown",
   "metadata": {},
   "source": [
    "### <font size=4><span id=\"2.5.3\"> 2.5.3 格式化输出</span></font>"
   ]
  },
  {
   "cell_type": "markdown",
   "metadata": {},
   "source": [
    "- 主要用于输出\n",
    "- 希望输出格式规范、统一\n",
    "- 三种方法\n",
    "    - format 函数 （推荐采用）\n",
    "    - % 格式化操作符 （类似于C语言的方式）\n",
    "    - f-string方式（python3.6后续版本支持）"
   ]
  },
  {
   "cell_type": "markdown",
   "metadata": {
    "tags": []
   },
   "source": [
    "#### (1) `format()` 方法\n",
    "- 用一对{}作为格式占位符\n",
    "- 位置参数 —— {0}、{1}、...\n",
    "- 关键字参数"
   ]
  },
  {
   "cell_type": "markdown",
   "metadata": {},
   "source": [
    "- 1、注意位置与序数的对应关系"
   ]
  },
  {
   "cell_type": "code",
   "execution_count": 18,
   "metadata": {},
   "outputs": [
    {
     "name": "stdout",
     "output_type": "stream",
     "text": [
      "I love Tongji University\n"
     ]
    }
   ],
   "source": [
    "print(\"{0} love {1} {2}\".format('I', \"Tongji\",\"University\"))"
   ]
  },
  {
   "cell_type": "markdown",
   "metadata": {},
   "source": [
    "- 2、调整顺序和序数"
   ]
  },
  {
   "cell_type": "code",
   "execution_count": 19,
   "metadata": {},
   "outputs": [
    {
     "name": "stdout",
     "output_type": "stream",
     "text": [
      "I love Tongji University\n"
     ]
    }
   ],
   "source": [
    "print(\"{1} love {0} {2}\".format(\"Tongji\", \"I\", \"University\"))"
   ]
  },
  {
   "cell_type": "markdown",
   "metadata": {},
   "source": [
    "- 3、关键字参数\n",
    "    - 相当于标签\n",
    "    - 比位置参数要灵活"
   ]
  },
  {
   "cell_type": "code",
   "execution_count": 20,
   "metadata": {},
   "outputs": [
    {
     "name": "stdout",
     "output_type": "stream",
     "text": [
      "I love Tongji University and Civil Engineering\n"
     ]
    }
   ],
   "source": [
    "print(\"{a} love {b} and {x}\".format(a=\"I\",b=\"Tongji University\",x=\"Civil Engineering\"))"
   ]
  },
  {
   "cell_type": "markdown",
   "metadata": {},
   "source": [
    "- 关键词相当于一个标签\n",
    "- 一个萝卜一个坑，填入进去"
   ]
  },
  {
   "cell_type": "markdown",
   "metadata": {},
   "source": [
    "- 4、好奇 —— 位置参数与关键字参数可否综合使用？"
   ]
  },
  {
   "cell_type": "code",
   "execution_count": 23,
   "metadata": {},
   "outputs": [
    {
     "data": {
      "text/plain": [
       "'I love Tongji University.Civil'"
      ]
     },
     "execution_count": 23,
     "metadata": {},
     "output_type": "execute_result"
    }
   ],
   "source": [
    "\"{a} love {b}.{0}\".format('Civil',b='Tongji University',a='I')"
   ]
  },
  {
   "cell_type": "code",
   "execution_count": null,
   "metadata": {
    "collapsed": true,
    "jupyter": {
     "outputs_hidden": true
    }
   },
   "outputs": [],
   "source": [
    "\"{I} love {U} and {2}\".format(I='I',U='Tongji University','Civil Engineering School') # 报错"
   ]
  },
  {
   "cell_type": "code",
   "execution_count": null,
   "metadata": {
    "collapsed": true,
    "jupyter": {
     "outputs_hidden": true
    }
   },
   "outputs": [],
   "source": [
    "\"{0} love {1} and {b}\".format('I','Tongji University',b='Civil Engineering')"
   ]
  },
  {
   "cell_type": "markdown",
   "metadata": {},
   "source": [
    "- 5、位置参数与关键字参数一起使用的时候，位置参数一定要在前面"
   ]
  },
  {
   "cell_type": "markdown",
   "metadata": {},
   "source": [
    "- 问题又来了，如何打印出大括弧？"
   ]
  },
  {
   "cell_type": "code",
   "execution_count": 25,
   "metadata": {},
   "outputs": [
    {
     "data": {
      "text/plain": [
       "'{0}'"
      ]
     },
     "execution_count": 25,
     "metadata": {},
     "output_type": "execute_result"
    }
   ],
   "source": [
    "# 多用一层大括弧,行不行？\n",
    "\"{{0}}\".format(\"打印出大括弧\")\n",
    "# 位置参数的功能被外层剥夺"
   ]
  },
  {
   "cell_type": "code",
   "execution_count": 26,
   "metadata": {},
   "outputs": [
    {
     "data": {
      "text/plain": [
       "'{打印出大括弧}'"
      ]
     },
     "execution_count": 26,
     "metadata": {},
     "output_type": "execute_result"
    }
   ],
   "source": [
    "# 多用一层大括弧,行不行？\n",
    "\"{{{0}}}\".format(\"打印出大括弧\")"
   ]
  },
  {
   "cell_type": "markdown",
   "metadata": {
    "tags": []
   },
   "source": [
    "- 6、指定占位宽度"
   ]
  },
  {
   "cell_type": "markdown",
   "metadata": {},
   "source": [
    "|数据类型|整数|单个字符|字符串|浮点数|指数形式|\n",
    "|:-:|:-:|:-:|:-:|:-:|:-:|\n",
    "|类型符号|d|c|s|f或F|e或E|"
   ]
  },
  {
   "cell_type": "markdown",
   "metadata": {},
   "source": [
    "<img src=\"images\\chapter02\\format.png\" width=1200>"
   ]
  },
  {
   "cell_type": "code",
   "execution_count": 29,
   "metadata": {},
   "outputs": [
    {
     "name": "stdout",
     "output_type": "stream",
     "text": [
      "圆周率:31415.92600\n"
     ]
    }
   ],
   "source": [
    "print(\"{0}:{1:.5f}\".format('圆周率',3.1415926*10000))"
   ]
  },
  {
   "cell_type": "code",
   "execution_count": 30,
   "metadata": {},
   "outputs": [
    {
     "name": "stdout",
     "output_type": "stream",
     "text": [
      "圆周率:3.1416E+00\n"
     ]
    }
   ],
   "source": [
    "print(\"{0}:{1:.4E}\".format('圆周率',3.1415926))"
   ]
  },
  {
   "cell_type": "code",
   "execution_count": 31,
   "metadata": {},
   "outputs": [
    {
     "name": "stdout",
     "output_type": "stream",
     "text": [
      "圆周率:3.1416e+00\n"
     ]
    }
   ],
   "source": [
    "print(\"{0}:{1:.4e}\".format('圆周率',3.1415926))"
   ]
  },
  {
   "cell_type": "code",
   "execution_count": 35,
   "metadata": {},
   "outputs": [
    {
     "name": "stdout",
     "output_type": "stream",
     "text": [
      "圆周率: 3.1416e+05 \n"
     ]
    }
   ],
   "source": [
    "print(\"{0}:{1:12.4e}\".format('圆周率',314159.26))"
   ]
  },
  {
   "cell_type": "code",
   "execution_count": null,
   "metadata": {
    "collapsed": true,
    "jupyter": {
     "outputs_hidden": true
    }
   },
   "outputs": [],
   "source": [
    "print(\"{0}:{1:+12.4e}\".format('圆周率',314159.26))"
   ]
  },
  {
   "cell_type": "code",
   "execution_count": null,
   "metadata": {
    "collapsed": true,
    "jupyter": {
     "outputs_hidden": true
    }
   },
   "outputs": [],
   "source": [
    "print(\"{0}:{1:+12.4f}\".format('圆周率',314159.26))"
   ]
  },
  {
   "cell_type": "code",
   "execution_count": null,
   "metadata": {
    "collapsed": true,
    "jupyter": {
     "outputs_hidden": true
    }
   },
   "outputs": [],
   "source": [
    "print(\"{0}:{1:+4.1f}\".format('圆周率',314159.26))  #超出了宽度了"
   ]
  },
  {
   "cell_type": "code",
   "execution_count": null,
   "metadata": {
    "collapsed": true,
    "jupyter": {
     "outputs_hidden": true
    }
   },
   "outputs": [],
   "source": [
    "print('{0:4s}-  {1}'.format('a',97))"
   ]
  },
  {
   "cell_type": "code",
   "execution_count": null,
   "metadata": {
    "collapsed": true,
    "jupyter": {
     "outputs_hidden": true
    }
   },
   "outputs": [],
   "source": [
    "print('{0:4s}  -{1:2d}'.format('abcdefghi',97))"
   ]
  },
  {
   "cell_type": "markdown",
   "metadata": {},
   "source": [
    "#### (2) f\"  \"方式（format方式的简化版本）"
   ]
  },
  {
   "cell_type": "code",
   "execution_count": 36,
   "metadata": {},
   "outputs": [
    {
     "data": {
      "text/plain": [
       "'I love Tongji.'"
      ]
     },
     "execution_count": 36,
     "metadata": {},
     "output_type": "execute_result"
    }
   ],
   "source": [
    "a = \"Tongji\"\n",
    "f\"I love {a}.\""
   ]
  },
  {
   "cell_type": "code",
   "execution_count": null,
   "metadata": {
    "collapsed": true,
    "jupyter": {
     "outputs_hidden": true
    }
   },
   "outputs": [],
   "source": [
    "str0 = '圆周率'\n",
    "value = 314159.26\n",
    "print(f\"{str0}:{value:+4.1E}\")\n",
    "print(\"{str0}:{value:+4.1E}\".format(str0=str0,value=value))\n",
    "print(\"{str3}:{value3:+4.1E}\".format(str3=str0,value3=value))\n"
   ]
  },
  {
   "cell_type": "code",
   "execution_count": null,
   "metadata": {
    "collapsed": true,
    "jupyter": {
     "outputs_hidden": true
    }
   },
   "outputs": [],
   "source": [
    "print(f\"{{{str0}}}\")"
   ]
  },
  {
   "cell_type": "markdown",
   "metadata": {
    "tags": [],
    "toc-hr-collapsed": true
   },
   "source": [
    "#### (3) 格式化操作符 —— %\n",
    "\n",
    "\n",
    "- `Python` 字符串格式化符号\n",
    "    - %%    百分号标记\n",
    "    - %s    字符串\n",
    "    - %c    字符及其ASCII码\n",
    "    - %d    有符号整数(十进制)\n",
    "    - %u    无符号整数(十进制)\n",
    "    - %o    无符号整数(八进制)\n",
    "    - %x    无符号整数(十六进制)\n",
    "    - %X    无符号整数(十六进制大写字符)\n",
    "    - %f    浮点数字(用小数点符号)\n",
    "    - %e    浮点数字(科学计数法)\n",
    "    - %E    浮点数字(科学计数法，用E代替e)\n",
    "    - %g    浮点数字(根据值的大小采用%e或%f)\n",
    "    - %G    浮点数字(类似于%g)\n",
    "    - %p    指针(用十六进制打印值的内存地址)\n",
    "    - %n    存储输出字符的数量放进参数列表的下一个变量中\n",
    "\n",
    "\n",
    "- 字符串格式控制 `% [(name)][flag][width][.][precision]type`\n",
    "    - name:可为空，数字(占位)，命名(传递参数名，不能以数字开头)以字典格式映射格式化，其为键名\n",
    "    - flag:标记格式限定符号，包含 +、-、# 和 0\n",
    "        - \\+ 表示右对齐(会显示正负号)\n",
    "        - \\- 左对齐，前面默认为填充空格(即默认右对齐)\n",
    "        - 0 表示填充0\n",
    "        - \\# 表示八进制时前面补充0，16进制数填充0x，二进制填充0b\n",
    "    - width:宽度(最短长度，包含小数点，小于width时会填充)\n",
    "    - precision:小数点后的位数\n",
    "    - type:输入格式类型"
   ]
  },
  {
   "cell_type": "markdown",
   "metadata": {},
   "source": [
    "##### 例 格式化操作符示例 —— 输出字符和字符串\n",
    "\n",
    "\n",
    "- %s —— 字符串\n",
    "- %c —— 字符及其ASCII码"
   ]
  },
  {
   "cell_type": "code",
   "execution_count": 37,
   "metadata": {
    "collapsed": true,
    "jupyter": {
     "outputs_hidden": true
    }
   },
   "outputs": [
    {
     "name": "stdout",
     "output_type": "stream",
     "text": [
      "0  :   \u0000\n",
      "1  :   \u0001\n",
      "2  :   \u0002\n",
      "3  :   \u0003\n",
      "4  :   \u0004\n",
      "5  :   \u0005\n",
      "6  :   \u0006\n",
      "7  :   \u0007\n",
      "8  :   \b\n",
      "9  :   \t\n",
      "10  :   \n",
      "\n",
      "11  :   \u000b\n",
      "\n",
      "12  :   \f\n",
      "\n",
      "13  :   \r\n",
      "14  :   \u000e\n",
      "15  :   \u000f\n",
      "16  :   \u0010\n",
      "17  :   \u0011\n",
      "18  :   \u0012\n",
      "19  :   \u0013\n",
      "20  :   \u0014\n",
      "21  :   \u0015\n",
      "22  :   \u0016\n",
      "23  :   \u0017\n",
      "24  :   \u0018\n",
      "25  :   \u0019\n",
      "26  :   \u001a\n",
      "27  :   \u001b\n",
      "28  :   \u001c\n",
      "\n",
      "29  :   \u001d\n",
      "\n",
      "30  :   \u001e\n",
      "\n",
      "31  :   \u001f\n",
      "32  :    \n",
      "33  :   !\n",
      "34  :   \"\n",
      "35  :   #\n",
      "36  :   $\n",
      "37  :   %\n",
      "38  :   &\n",
      "39  :   '\n",
      "40  :   (\n",
      "41  :   )\n",
      "42  :   *\n",
      "43  :   +\n",
      "44  :   ,\n",
      "45  :   -\n",
      "46  :   .\n",
      "47  :   /\n",
      "48  :   0\n",
      "49  :   1\n",
      "50  :   2\n",
      "51  :   3\n",
      "52  :   4\n",
      "53  :   5\n",
      "54  :   6\n",
      "55  :   7\n",
      "56  :   8\n",
      "57  :   9\n",
      "58  :   :\n",
      "59  :   ;\n",
      "60  :   <\n",
      "61  :   =\n",
      "62  :   >\n",
      "63  :   ?\n",
      "64  :   @\n",
      "65  :   A\n",
      "66  :   B\n",
      "67  :   C\n",
      "68  :   D\n",
      "69  :   E\n",
      "70  :   F\n",
      "71  :   G\n",
      "72  :   H\n",
      "73  :   I\n",
      "74  :   J\n",
      "75  :   K\n",
      "76  :   L\n",
      "77  :   M\n",
      "78  :   N\n",
      "79  :   O\n",
      "80  :   P\n",
      "81  :   Q\n",
      "82  :   R\n",
      "83  :   S\n",
      "84  :   T\n",
      "85  :   U\n",
      "86  :   V\n",
      "87  :   W\n",
      "88  :   X\n",
      "89  :   Y\n",
      "90  :   Z\n",
      "91  :   [\n",
      "92  :   \\\n",
      "93  :   ]\n",
      "94  :   ^\n",
      "95  :   _\n",
      "96  :   `\n",
      "97  :   a\n",
      "98  :   b\n",
      "99  :   c\n",
      "100  :   d\n",
      "101  :   e\n",
      "102  :   f\n",
      "103  :   g\n",
      "104  :   h\n",
      "105  :   i\n",
      "106  :   j\n",
      "107  :   k\n",
      "108  :   l\n",
      "109  :   m\n",
      "110  :   n\n",
      "111  :   o\n",
      "112  :   p\n",
      "113  :   q\n",
      "114  :   r\n",
      "115  :   s\n",
      "116  :   t\n",
      "117  :   u\n",
      "118  :   v\n",
      "119  :   w\n",
      "120  :   x\n",
      "121  :   y\n",
      "122  :   z\n",
      "123  :   {\n",
      "124  :   |\n",
      "125  :   }\n",
      "126  :   ~\n"
     ]
    }
   ],
   "source": [
    "for i in range(127):\n",
    "    print(\"%d  :   %c\" % (i,i))"
   ]
  },
  {
   "cell_type": "code",
   "execution_count": null,
   "metadata": {
    "collapsed": true,
    "jupyter": {
     "outputs_hidden": true
    }
   },
   "outputs": [],
   "source": [
    "# 字符串\n",
    "my_name, my_fn = \"Xiaoming\", \"He\"\n",
    "print(\"My name is %s\" % my_name)\n",
    "print(\"My name is %s %s\" % (my_name, my_fn))"
   ]
  },
  {
   "cell_type": "code",
   "execution_count": null,
   "metadata": {
    "collapsed": true,
    "jupyter": {
     "outputs_hidden": true
    }
   },
   "outputs": [],
   "source": [
    "# 字符串\n",
    "my_name = \"Xiaoming\"\n",
    "univ = \"Tongji University\"\n",
    "print(\"My name is %s, I am in %s\" % (my_name, univ))\n",
    "#print(\"My name is %s, I am in %s\" % my_name, univ) # 报错"
   ]
  },
  {
   "cell_type": "markdown",
   "metadata": {},
   "source": [
    "##### 例 格式化操作符示例 —— 输出整数\n",
    "\n",
    "- %o —— oct 八进制 （octal）\n",
    "- %d —— dec 十进制，有符号（decimal）\n",
    "- %u —— dec 十进制，无符号\n",
    "- %x —— hex 十六进制（hexadecimal）\n",
    "- %X —— hex 十六进制"
   ]
  },
  {
   "cell_type": "code",
   "execution_count": 38,
   "metadata": {},
   "outputs": [
    {
     "name": "stdout",
     "output_type": "stream",
     "text": [
      "\u0014\n",
      "20\n",
      "24\n",
      "c2f\n",
      "C2F\n"
     ]
    }
   ],
   "source": [
    "print('%c' % 20)\n",
    "print('%d' % 20) # 十进制\n",
    "print('%o' % 20) # 八进制\n",
    "print('%x' % 3119) # 十六进制\n",
    "print('%X' % 3119) # 十六进制"
   ]
  },
  {
   "cell_type": "markdown",
   "metadata": {},
   "source": [
    "##### 例  格式化操作符示例 —— 输出浮点数\n",
    "\n",
    "- 普通表示\n",
    "\n",
    "    - %f ——保留小数点后面六位有效数字\n",
    "    - %.3f ——保留小数点后面三位有效数字\n",
    "\n",
    "\n",
    "- 科学方式\n",
    "    - %e —— 保留小数点后面六位有效数字，指数形式输出\n",
    "    - %.3e，保留3位小数位，使用科学计数法\n",
    "\n",
    "\n",
    "- 灵活方式\n",
    "    - %g ——在保证六位有效数字的前提下，使用小数方式，否则使用科学计数法\n",
    "    - %.3g，保留3位有效数字，使用小数或科学计数法"
   ]
  },
  {
   "cell_type": "code",
   "execution_count": null,
   "metadata": {
    "collapsed": true,
    "jupyter": {
     "outputs_hidden": true
    }
   },
   "outputs": [],
   "source": [
    "print('%f' % 1.11)  # 默认保留6位小数\n",
    "print('%.1f' % 1.11)  # 取1位小数\n",
    "print('%12.4f' % 1.1111111)  # 取4位小数,总宽度12，靠右\n",
    "print('%-12.4f' % 1.1111111)  # 取4位小数,总宽度12，靠左\n",
    "print('%e' % 1.11)  # 默认6位小数，用科学计数法\n",
    "print('%.3e' % 1.11)  # 取3位小数，用科学计数法\n",
    "print('%g' % 1111.1111)  # 默认6位有效数字\n",
    "print('%.7g' % 1111.1111)  # 取7位有效数字\n",
    "print('%.2g' % 1111.1111)  # 取2位有效数字，自动转换为科学计数法"
   ]
  },
  {
   "cell_type": "code",
   "execution_count": 18,
   "metadata": {
    "collapsed": true,
    "jupyter": {
     "outputs_hidden": true
    }
   },
   "outputs": [
    {
     "name": "stdout",
     "output_type": "stream",
     "text": [
      "9.8813e-324\n"
     ]
    }
   ],
   "source": [
    "print('%.4e' % 1e-323)  # 取3位小数，用科学计数法"
   ]
  },
  {
   "cell_type": "markdown",
   "metadata": {},
   "source": [
    "- 字符串输出，控制对齐\n",
    "\n",
    "    - %s  \n",
    "    - %10s——右对齐，占位符10位  \n",
    "    - %-10s——左对齐，占位符10位  \n",
    "    - %.2s——截取2位字符串  \n",
    "    - %10.2s——10位占位符，截取两位字符串  "
   ]
  },
  {
   "cell_type": "markdown",
   "metadata": {},
   "source": [
    "##### 例 字符串输出示例"
   ]
  },
  {
   "cell_type": "code",
   "execution_count": null,
   "metadata": {
    "collapsed": true,
    "jupyter": {
     "outputs_hidden": true
    }
   },
   "outputs": [],
   "source": [
    "print('%s'      % 'hello world')  # 字符串输出\n",
    "print('%20s'    % 'hello world')  # 右对齐，取20位，不够则补位\n",
    "print('%-20s'   % 'hello world')  # 左对齐，取20位，不够则补位\n",
    "print('%.2s'    % 'hello world')  # 取2位\n",
    "print('%10.2s'  % 'hello world')  # 右对齐，取2位\n",
    "print('%-10.2s' % 'hello world')  # 左对齐，取2位"
   ]
  },
  {
   "cell_type": "markdown",
   "metadata": {},
   "source": [
    "##### 格式化辅助指令\n",
    "\n",
    "\n",
    "|符号| 含义|  \n",
    "|:-----------------:|:------------------------:|  \n",
    "|m.n | m表示最小总宽度，n表示小数点后面的位数|  \n",
    "|-|负号，表示左对齐|\n",
    "|+|+号，在正数前面加+号|\n",
    "|#|八进制前面加Oo,十六进制前面加0X或0x|\n",
    "|0|显示数字之前用0填充|"
   ]
  },
  {
   "cell_type": "markdown",
   "metadata": {},
   "source": [
    "##### 例 格式化辅助指令示例"
   ]
  },
  {
   "cell_type": "code",
   "execution_count": null,
   "metadata": {
    "collapsed": true,
    "jupyter": {
     "outputs_hidden": true
    }
   },
   "outputs": [],
   "source": [
    "print('%5.1f'   % 27.5666)\n",
    "print('%+12.4f' % 27.12345)\n",
    "print('%#12X'   % 1235)\n",
    "print('%#12o'   % 1235)\n",
    "print('%012.4f' % 27.12345)"
   ]
  },
  {
   "cell_type": "code",
   "execution_count": 19,
   "metadata": {
    "collapsed": true,
    "jupyter": {
     "outputs_hidden": true
    }
   },
   "outputs": [
    {
     "name": "stdout",
     "output_type": "stream",
     "text": [
      "0 0.000000\n",
      "5 8.715574\n",
      "10 17.364818\n",
      "15 25.881905\n",
      "20 34.202014\n",
      "25 42.261826\n",
      "30 50.000000\n",
      "35 57.357644\n",
      "40 64.278761\n",
      "45 70.710678\n",
      "50 76.604444\n",
      "55 81.915204\n",
      "60 86.602540\n",
      "65 90.630779\n",
      "70 93.969262\n",
      "75 96.592583\n",
      "80 98.480775\n",
      "85 99.619470\n",
      "90 100.000000\n"
     ]
    }
   ],
   "source": [
    "### 请输出0~90度，间隔5度，对应的sin三角函数值\n",
    "### 要求输出格式，角度占2个字符位置，一个空格，小数要求保留小数点后面6位。\n",
    "\n",
    "import math\n",
    "for deg in range(0,91,5):\n",
    "    print('%d %f' %(deg, math.sin(deg/180*math.pi)*100))\n"
   ]
  },
  {
   "cell_type": "code",
   "execution_count": null,
   "metadata": {
    "collapsed": true,
    "jupyter": {
     "outputs_hidden": true
    }
   },
   "outputs": [],
   "source": [
    "import math\n",
    "for deg in range(0,91,5):\n",
    "    print('{0:2d} {1:8.6f}'.format(deg, math.sin(deg/180*math.pi)))"
   ]
  },
  {
   "cell_type": "markdown",
   "metadata": {},
   "source": [
    "[返回目录](#mulu)"
   ]
  },
  {
   "cell_type": "markdown",
   "metadata": {},
   "source": [
    "## <font size=5><span id=\"2.6\"> 2.6 (*)非类型 None Type</span></font>\n",
    "\n",
    "- 表示非对象\n",
    "- Python 规定 None 是缺省的函数返回值 "
   ]
  },
  {
   "cell_type": "code",
   "execution_count": 20,
   "metadata": {},
   "outputs": [
    {
     "name": "stdout",
     "output_type": "stream",
     "text": [
      "None returned\n"
     ]
    },
    {
     "data": {
      "text/plain": [
       "NoneType"
      ]
     },
     "execution_count": 20,
     "metadata": {},
     "output_type": "execute_result"
    }
   ],
   "source": [
    "ret = print('None returned')\n",
    "type(ret)"
   ]
  },
  {
   "cell_type": "code",
   "execution_count": null,
   "metadata": {
    "collapsed": true,
    "jupyter": {
     "outputs_hidden": true
    }
   },
   "outputs": [],
   "source": [
    "ret"
   ]
  },
  {
   "cell_type": "markdown",
   "metadata": {},
   "source": [
    "[返回目录](#mulu)"
   ]
  },
  {
   "cell_type": "markdown",
   "metadata": {},
   "source": [
    "## <font size=5><span id=\"2.7\"> 2.7 初步认识数据集合类型</span></font>\n"
   ]
  },
  {
   "cell_type": "markdown",
   "metadata": {
    "tags": [],
    "toc-hr-collapsed": true
   },
   "source": [
    "### <font size=4><span id=\"2.7.1\"> 2.7.1 Lists 列表  </span></font>\n",
    "\n",
    " \n",
    "* 列表用方括弧来表示 '[' ']'\n",
    "  \n",
    "* 列表是可变的\n",
    "\n",
    "* 元组可以用下标方式获取([] and [:])"
   ]
  },
  {
   "cell_type": "code",
   "execution_count": 39,
   "metadata": {},
   "outputs": [
    {
     "name": "stdout",
     "output_type": "stream",
     "text": [
      "['WWCode', 786, 2.23]\n"
     ]
    },
    {
     "data": {
      "text/plain": [
       "list"
      ]
     },
     "execution_count": 39,
     "metadata": {},
     "output_type": "execute_result"
    }
   ],
   "source": [
    "list1 = [ \"WWCode\", 786 , 2.23, 'singapore', 70.2 ]\n",
    "print(list1[0:3])\n",
    "type(list1)"
   ]
  },
  {
   "cell_type": "code",
   "execution_count": null,
   "metadata": {
    "collapsed": true,
    "jupyter": {
     "outputs_hidden": true
    }
   },
   "outputs": [],
   "source": [
    "list1[0][2:]"
   ]
  },
  {
   "cell_type": "markdown",
   "metadata": {},
   "source": [
    "### <font size=4><span id=\"2.7.2\"> 2.7.2 Tuples 元组</span></font>\n",
    "* 元组用圆括弧构成的一些数据的集合\n",
    "* 元组里面的元素不可以修改,好像固定死的list"
   ]
  },
  {
   "cell_type": "code",
   "execution_count": null,
   "metadata": {
    "collapsed": true,
    "jupyter": {
     "outputs_hidden": true
    }
   },
   "outputs": [],
   "source": [
    "t1 = ( \"Zhang san\", 198322 , 78.5 ) # name, id, weight\n",
    "t2 = 'Singapore', 1160.5\n",
    "t_singleton = ('We',) # singleton\n",
    "t_empty = ()\n",
    "print(type(t1)); print(type(t2))\n",
    "print(t_singleton);\n",
    "type(t_empty)"
   ]
  },
  {
   "cell_type": "markdown",
   "metadata": {},
   "source": [
    "- 除了空元组的情况外，告诉python它是元组的实际上是逗号，而不是括号。"
   ]
  },
  {
   "cell_type": "code",
   "execution_count": null,
   "metadata": {
    "collapsed": true,
    "jupyter": {
     "outputs_hidden": true
    }
   },
   "outputs": [],
   "source": [
    "t = ('a')"
   ]
  },
  {
   "cell_type": "code",
   "execution_count": null,
   "metadata": {
    "collapsed": true,
    "jupyter": {
     "outputs_hidden": true
    }
   },
   "outputs": [],
   "source": [
    "type(t)"
   ]
  },
  {
   "cell_type": "code",
   "execution_count": null,
   "metadata": {
    "collapsed": true,
    "jupyter": {
     "outputs_hidden": true
    }
   },
   "outputs": [],
   "source": [
    "t = 'a',\n",
    "type(t)"
   ]
  },
  {
   "cell_type": "code",
   "execution_count": null,
   "metadata": {
    "collapsed": true,
    "jupyter": {
     "outputs_hidden": true
    }
   },
   "outputs": [],
   "source": [
    "t1"
   ]
  },
  {
   "cell_type": "code",
   "execution_count": null,
   "metadata": {
    "collapsed": true,
    "jupyter": {
     "outputs_hidden": true
    }
   },
   "outputs": [],
   "source": [
    "t1[2]"
   ]
  },
  {
   "cell_type": "code",
   "execution_count": null,
   "metadata": {
    "collapsed": true,
    "jupyter": {
     "outputs_hidden": true
    }
   },
   "outputs": [],
   "source": [
    "t1[2] = 80  #可否改变一下"
   ]
  },
  {
   "cell_type": "markdown",
   "metadata": {},
   "source": [
    "### <font size=4><span id=\"2.7.3\"> 2.7.3 字典dict  </span></font>\n",
    "* Python的字典是哈希表，由键值对组成。\n",
    "* 字典用大括号'{''}'括起来，可以像字典/哈希表一样分配和访问值。\n",
    "* 字典中不维护元素的顺序。"
   ]
  },
  {
   "cell_type": "code",
   "execution_count": 22,
   "metadata": {},
   "outputs": [],
   "source": [
    "hero = {'姓名':'赵云', \n",
    "        '被动技能':'龙鸣', \n",
    "        '一技能':'惊雷之龙',\n",
    "        '二技能':'破云之龙',\n",
    "        '三技能':'天翔之龙'}"
   ]
  },
  {
   "cell_type": "code",
   "execution_count": 23,
   "metadata": {},
   "outputs": [
    {
     "name": "stdout",
     "output_type": "stream",
     "text": [
      "龙鸣\n"
     ]
    },
    {
     "data": {
      "text/plain": [
       "dict"
      ]
     },
     "execution_count": 23,
     "metadata": {},
     "output_type": "execute_result"
    }
   ],
   "source": [
    "print(hero['被动技能'])\n",
    "type(hero)"
   ]
  },
  {
   "cell_type": "code",
   "execution_count": 24,
   "metadata": {
    "collapsed": true,
    "jupyter": {
     "outputs_hidden": true
    }
   },
   "outputs": [
    {
     "ename": "KeyError",
     "evalue": "1",
     "output_type": "error",
     "traceback": [
      "\u001b[1;31m---------------------------------------------------------------------------\u001b[0m",
      "\u001b[1;31mKeyError\u001b[0m                                  Traceback (most recent call last)",
      "Cell \u001b[1;32mIn[24], line 1\u001b[0m\n\u001b[1;32m----> 1\u001b[0m hero[\u001b[38;5;241m1\u001b[39m]\n",
      "\u001b[1;31mKeyError\u001b[0m: 1"
     ]
    }
   ],
   "source": [
    "hero[1]"
   ]
  },
  {
   "cell_type": "markdown",
   "metadata": {
    "toc-hr-collapsed": true
   },
   "source": [
    "### <font size=4><span id=\"2.7.4\"> 2.7.4 集合 set  </span></font>\n",
    "\n",
    "* 跟数学的概念很相似，类似于字典的键，但没有对应的值\n",
    "\n",
    "* 集合使用花括弧'{','}'. \n",
    " \n",
    "* 不支持下标应用和切片"
   ]
  },
  {
   "cell_type": "code",
   "execution_count": 25,
   "metadata": {},
   "outputs": [
    {
     "data": {
      "text/plain": [
       "set"
      ]
     },
     "execution_count": 25,
     "metadata": {},
     "output_type": "execute_result"
    }
   ],
   "source": [
    "wwcode_asia_networks = {'Bangalore','Beijing','Chennai','Delhi','Gujarat','Hong Kong','Kuala Lumpur','Manila','Pune','Rajasthan','Shanghai','Singapore','Taipei','Tel-Aviv','Tokyo'}\n",
    "type(wwcode_asia_networks)"
   ]
  },
  {
   "cell_type": "code",
   "execution_count": 26,
   "metadata": {},
   "outputs": [
    {
     "name": "stdout",
     "output_type": "stream",
     "text": [
      "{'Bangalore', 'Chennai', 'Gujarat', 'Hong Kong', 'Manila', 'Pune', 'Taipei', 'Kuala Lumpur', 'Singapore', 'Tokyo', 'Delhi', 'Rajasthan', 'Shanghai', 'Beijing', 'Tel-Aviv'}\n"
     ]
    }
   ],
   "source": [
    "print(wwcode_asia_networks)"
   ]
  },
  {
   "cell_type": "code",
   "execution_count": 27,
   "metadata": {
    "collapsed": true,
    "jupyter": {
     "outputs_hidden": true
    }
   },
   "outputs": [
    {
     "ename": "TypeError",
     "evalue": "'set' object is not subscriptable",
     "output_type": "error",
     "traceback": [
      "\u001b[1;31m---------------------------------------------------------------------------\u001b[0m",
      "\u001b[1;31mTypeError\u001b[0m                                 Traceback (most recent call last)",
      "Cell \u001b[1;32mIn[27], line 1\u001b[0m\n\u001b[1;32m----> 1\u001b[0m wwcode_asia_networks[\u001b[38;5;241m1\u001b[39m]\n",
      "\u001b[1;31mTypeError\u001b[0m: 'set' object is not subscriptable"
     ]
    }
   ],
   "source": [
    "wwcode_asia_networks[1]  #能不能用下标方式访问？"
   ]
  },
  {
   "cell_type": "markdown",
   "metadata": {},
   "source": [
    "#### Reference\n",
    "https://www.tutorialspoint.com/python/python_variable_types.htm"
   ]
  },
  {
   "cell_type": "markdown",
   "metadata": {},
   "source": [
    "[返回目录](#mulu)"
   ]
  },
  {
   "cell_type": "markdown",
   "metadata": {},
   "source": [
    "## <font size=5> <span id=\"2.8\"> 2.8* 其他运算符</span></font>"
   ]
  },
  {
   "cell_type": "markdown",
   "metadata": {},
   "source": [
    "### <font size=4><span id=\"2.8.1\"> 2.8.1 位运算符</span></font>\n"
   ]
  },
  {
   "cell_type": "code",
   "execution_count": null,
   "metadata": {
    "collapsed": true,
    "jupyter": {
     "outputs_hidden": true
    }
   },
   "outputs": [],
   "source": [
    "j, k = 60, 13; \n",
    "print(\"j = 00{0:b} \\nk = 0000{1:b}\".format(j,k))\n",
    "print(\"j = 0000{0:b} \".format(j & k) + str(j & k)) # AND\n",
    "print(\"\")\n",
    "print(\"j = 00{0:b} \".format(j | k) + str(j | k))   # OR\n",
    "print(\"j = 00{0:b} \".format(j ^ k) + str(j ^ k))   # XOR\n",
    "print(\"j =  {0:b} \".format( ~j ) + str( ~j ))      # Ones complement, i.e. flipping every bit\n",
    "print(\"j = {0:b} \".format(j<<2) + str( j<<2 ))     # Left Shift\n",
    "print(\"j = 0000{0:b} \".format(j>>2) + str( j>>2 )) # Right Shift"
   ]
  },
  {
   "cell_type": "markdown",
   "metadata": {},
   "source": [
    "| 运算符 | 描述| 实例 |\n",
    "| :-:| :-|:- |\n",
    "| & | 按位与运算符：<br>参与运算的两个值,如果两个相应位都为1,则该位的结果为1,否则为0 | (a & b) 输出结果 12 ，二进制解释： 0000 1100     |\n",
    "|｜|      按位或运算符：<br>只要对应的二个二进位有一个为1时，结果位就为1。 | (a｜b) 输出结果 61 ，二进制解释： 0011 1101         |\n",
    "| ^      | 按位异或运算符：<br>当两对应的二进位相异时，结果为1              | (a ^ b) 输出结果 49 ，二进制解释： 0011 0001 |\n",
    "| ~      | 按位取反运算符：<br>对数据的每个二进制位取反,即把1变为0,把0变为1 。<br>~x 类似于 -x-1 | (~a ) 输出结果 -61 ，二进制解释： <br>1100 0011，在一个有符号二进制数的补码形式。 |\n",
    "| <<     | 左移动运算符：<br>运算数的各二进位全部左移若干位，<br>由 << 右边的数字指定了移动的位数，高位丢弃，低位补0。 | a << 2 输出结果 240 ，二进制解释： 1111 0000                 |\n",
    "| >>     | 右移动运算符：<br>把\">>\"左边的运算数的各二进位全部右移若干位，<br>>> 右边的数字指定了移动的位数 | a >> 2 输出结果 15 ，二进制解释： 0000 1111                  |"
   ]
  },
  {
   "cell_type": "markdown",
   "metadata": {},
   "source": [
    "### <font size=4><span id=\"2.8.2\"> 2.8.2  三元操作符</span></font>"
   ]
  },
  {
   "cell_type": "code",
   "execution_count": null,
   "metadata": {
    "collapsed": true,
    "jupyter": {
     "outputs_hidden": true
    }
   },
   "outputs": [],
   "source": [
    "x = 5\n",
    "y = 8\n",
    "if x < y:\n",
    "    small =  x\n",
    "else:\n",
    "    small = y\n",
    "small"
   ]
  },
  {
   "cell_type": "code",
   "execution_count": null,
   "metadata": {
    "collapsed": true,
    "jupyter": {
     "outputs_hidden": true
    }
   },
   "outputs": [],
   "source": [
    "# rewrite\n",
    "small = x if x < y else y\n",
    "small"
   ]
  },
  {
   "cell_type": "code",
   "execution_count": null,
   "metadata": {
    "collapsed": true,
    "jupyter": {
     "outputs_hidden": true
    }
   },
   "outputs": [],
   "source": [
    "# 如果x大于等于0，y=1；否则y=-1，怎么写？\n",
    "x = -3\n",
    "sign = 1 if x >=0 else -1\n",
    "sign"
   ]
  },
  {
   "cell_type": "markdown",
   "metadata": {},
   "source": [
    "[返回目录](#mulu)"
   ]
  },
  {
   "cell_type": "markdown",
   "metadata": {},
   "source": [
    "## <font size=5> <span id=\"2.9\"> 2.9* 补充知识：关于内置 `round()` 函数的说明</span></font>\n",
    "\n",
    "- 语法\n",
    "\n",
    "```python\n",
    ">>> round(number[, ndigits])\n",
    "```\n",
    "\n",
    "\n",
    "- 参数\n",
    "    - number —— 数字表达式\n",
    "    - ndigits —— 保留小数位数，默认值为 0\n",
    "\n",
    "\n",
    "- 返回值 —— 返回 x 的小数点舍入后的值"
   ]
  },
  {
   "cell_type": "markdown",
   "metadata": {},
   "source": [
    "- 关于数值修约（又称舍入规则）的 补充说明\n",
    "    - `round()` 函数只有一个参数，不指定位数的时候，返回一个最靠近的整数\n",
    "    - 当指定取舍的小数点位数的时候，即要考虑数值修约\n",
    "    \n",
    "\n",
    "- 数值修约规则\n",
    "    - <font color=\"red\">四舍六入五对齐，奇进偶不进</font>\n",
    "    - <font color=\"red\">四舍六入五留双</font>\n",
    "\n",
    "\n",
    "- 注意\n",
    "    - `Python 3.X` 的 `round` 函数很可能采用了修约规则\n",
    "    - 因计算机内浮点数舍入误差的影响，有可能导致逢 5 舍入的不确定性"
   ]
  },
  {
   "cell_type": "code",
   "execution_count": null,
   "metadata": {
    "collapsed": true,
    "jupyter": {
     "outputs_hidden": true
    }
   },
   "outputs": [],
   "source": [
    "print(round(1.1125))  # 四舍五入，不指定位数，取整\n",
    "print(round(1.1135,3))  # 取3位小数，由于3为奇数，则向下“舍”\n",
    "print(round(1.1125,3))  # 取3位小数，由于2为偶数，则向上“入”\n",
    "print(round(1.5))  # 无法理解，查阅一些资料是说python会对数据进行截断，没有深究\n",
    "print(round(2.5))  # 无法理解\n",
    "print(round(1.675,2))  # 无法理解\n",
    "print(round(2.675,2))  # 无法理解"
   ]
  },
  {
   "cell_type": "code",
   "execution_count": null,
   "metadata": {
    "collapsed": true,
    "jupyter": {
     "outputs_hidden": true
    }
   },
   "outputs": [],
   "source": [
    "0.2 + 0.3 - 0.5"
   ]
  },
  {
   "cell_type": "code",
   "execution_count": null,
   "metadata": {
    "collapsed": true,
    "jupyter": {
     "outputs_hidden": true
    }
   },
   "outputs": [],
   "source": [
    "0.1 + 0.2 - 0.3"
   ]
  },
  {
   "cell_type": "markdown",
   "metadata": {},
   "source": [
    "##### 例 数值修约 —— 四舍六入五对齐，奇进偶不进\n",
    "\n",
    "\n",
    "- 修约规则\n",
    "    - 四舍 —— 指定位数后一位为 4，舍去\n",
    "    - 六入 —— 指定位数后一位为 6，进一\n",
    "    - 五对齐 —— 指定位数后一位为 5，当 5 后有数时，进一；当 5 后无有效数字时，需要分两种情况来讲\n",
    "        - 奇进 —— 5 前为奇数，进一\n",
    "        - 偶舍 —— 5 前为偶数，舍去"
   ]
  },
  {
   "cell_type": "code",
   "execution_count": null,
   "metadata": {
    "collapsed": true,
    "jupyter": {
     "outputs_hidden": true
    }
   },
   "outputs": [],
   "source": [
    "print(round(1.1125))     # 四舍，不指定位数，取整\n",
    "print(round(3.6))        # 六入\n",
    "print(round(124.5001))   # 五后有非零数\n",
    "print(round(11.5))       # 奇进\n",
    "print(round(12.5))       # 偶不进"
   ]
  },
  {
   "cell_type": "code",
   "execution_count": null,
   "metadata": {
    "collapsed": true,
    "jupyter": {
     "outputs_hidden": true
    }
   },
   "outputs": [],
   "source": [
    "# 5对齐，偶不进\n",
    "print(round(1.12501, 2))  # 取2位小数，由于第三位小数为5，后有数，进\n",
    "print(round(1.125, 2))    # 取2位小数，由于第三位小数为5，后无数，前为偶数2，舍"
   ]
  },
  {
   "cell_type": "code",
   "execution_count": null,
   "metadata": {
    "collapsed": true,
    "jupyter": {
     "outputs_hidden": true
    }
   },
   "outputs": [],
   "source": [
    "# 5对齐，奇进\n",
    "print(round(1.3751,2))  # 取2位小数，由于第三位小数为5，后有数，进\n",
    "print(round(1.375,2))   # 取2位小数，由于第三位小数为5，后无数，前为奇数7，进"
   ]
  },
  {
   "cell_type": "code",
   "execution_count": null,
   "metadata": {
    "collapsed": true,
    "jupyter": {
     "outputs_hidden": true
    }
   },
   "outputs": [],
   "source": [
    "print(round(1.5))       # 奇进\n",
    "print(round(2.5))       # 偶不进\n",
    "print(round(1.675,2))   # 奇进\n",
    "print(round(2.675,2))   # 要小心，舍入误差的影响"
   ]
  },
  {
   "cell_type": "code",
   "execution_count": null,
   "metadata": {
    "collapsed": true,
    "jupyter": {
     "outputs_hidden": true
    }
   },
   "outputs": [],
   "source": [
    "import math\n",
    "print(\"{0}={0:.20f}\".format(1.675))\n",
    "print(\"{0}={0:.20f}\".format(2.675))"
   ]
  },
  {
   "cell_type": "code",
   "execution_count": null,
   "metadata": {
    "collapsed": true,
    "jupyter": {
     "outputs_hidden": true
    }
   },
   "outputs": [],
   "source": [
    "print(\"{0}={0:.20f}\".format(1.375)) # 二进制有限位\n",
    "print(\"{0}={0:.20f}\".format(1.875)) # 二进制有限位\n",
    "print(\"{0}={0:.20f}\".format(1.125)) # 二进制有限位"
   ]
  },
  {
   "cell_type": "markdown",
   "metadata": {},
   "source": [
    "[返回目录](#mulu)"
   ]
  }
 ],
 "metadata": {
  "kernelspec": {
   "display_name": "Python 3 (ipykernel)",
   "language": "python",
   "name": "python3"
  },
  "language_info": {
   "codemirror_mode": {
    "name": "ipython",
    "version": 3
   },
   "file_extension": ".py",
   "mimetype": "text/x-python",
   "name": "python",
   "nbconvert_exporter": "python",
   "pygments_lexer": "ipython3",
   "version": "0.0.0"
  },
  "toc": {
   "base_numbering": 1,
   "nav_menu": {},
   "number_sections": true,
   "sideBar": true,
   "skip_h1_title": false,
   "title_cell": "Table of Contents",
   "title_sidebar": "Contents",
   "toc_cell": false,
   "toc_position": {},
   "toc_section_display": true,
   "toc_window_display": false
  }
 },
 "nbformat": 4,
 "nbformat_minor": 4
}
