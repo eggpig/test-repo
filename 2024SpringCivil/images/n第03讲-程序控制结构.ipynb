{
 "cells": [
  {
   "cell_type": "markdown",
   "metadata": {},
   "source": [
    "# 第03讲 程序控制结构"
   ]
  },
  {
   "cell_type": "markdown",
   "metadata": {},
   "source": [
    "## <font size=5> <span id=\"3.1\"> 3.1 `if` 系列语句 —— 最常见的条件控制语句</span></font>"
   ]
  },
  {
   "cell_type": "markdown",
   "metadata": {},
   "source": [
    "### <font size=4><span id=\"3.1.1\"> 3.1.1 `if`语句</span></font>\n",
    "\n",
    "- 语法\n",
    "```python\n",
    "if condition:\n",
    "      statement_1\n",
    "      ...\n",
    "      statement_n\n",
    "```\n",
    "\n",
    "\n",
    "- 用法 —— **condition** 为 **True** 时，执行语句块\n",
    "    "
   ]
  },
  {
   "cell_type": "markdown",
   "metadata": {},
   "source": [
    "#### 例 1 简单 if 语句"
   ]
  },
  {
   "cell_type": "code",
   "execution_count": null,
   "metadata": {},
   "outputs": [],
   "source": [
    "a = 3\n",
    "if a > 0:\n",
    "    print (\"a 是正数！\")"
   ]
  },
  {
   "cell_type": "markdown",
   "metadata": {},
   "source": [
    "### <font size=4><span id=\"3.1.2\"> 3.1.2 `if-else`语句</span></font>\n",
    "\n",
    "- 语法\n",
    "```python\n",
    "if condition:\n",
    "      statement_block_1\n",
    "else:\n",
    "      statement_block_2\n",
    "```\n",
    "\n",
    "\n",
    "- 用法\n",
    "    - **condition** 为 **True** 时，执行语句块 statement_block_1\n",
    "    - 否则，执行语句块 statement_block_2    "
   ]
  },
  {
   "cell_type": "markdown",
   "metadata": {},
   "source": [
    "#### 例 2 判断是否正数？"
   ]
  },
  {
   "cell_type": "code",
   "execution_count": null,
   "metadata": {},
   "outputs": [],
   "source": [
    "x = int(input(\"请输入一个整数：\"))\n",
    "\n",
    "if x > 0:\n",
    "    print('您输入的是正数：',x)\n",
    "else:\n",
    "    print('您输入的是非正数：',x)"
   ]
  },
  {
   "cell_type": "markdown",
   "metadata": {},
   "source": [
    "### <font size=4><span id=\"3.1.3\"> 3.1.3 `if-elif-else`语句</span></font>\n",
    "\n",
    "- 语法\n",
    "```python\n",
    "if condition_1:\n",
    "      statement_block_1\n",
    "elif condition_2:\n",
    "      statement_block_2\n",
    "else:\n",
    "      statement_block_3\n",
    "```\n",
    "\n",
    "\n",
    "- 用法\n",
    "    - **condition_1** 为 **True** 时，执行语句块 statement_block_1\n",
    "    - 否则\n",
    "        - **condition_2** 为 **True** 时，执行语句块 statement_block_2\n",
    "        - 否则，执行语句块 statement_block_3\n",
    "\n",
    "\n",
    "- 注意\n",
    "    - 可以有多个 **elif** 分支，依次判断\n",
    "    - 只执行一个分支"
   ]
  },
  {
   "cell_type": "markdown",
   "metadata": {},
   "source": [
    "#### 例 3 判断正、负或零？"
   ]
  },
  {
   "cell_type": "code",
   "execution_count": null,
   "metadata": {},
   "outputs": [],
   "source": [
    "x = int(input(\"请输入一个整数：\"))\n",
    "\n",
    "if x < 0:\n",
    "    print('您输入的是负数：',x)\n",
    "elif 0==x:  # 好习惯\n",
    "    print('您输入的是零：',x)\n",
    "else:\n",
    "    print('您输入的是正数：',x)"
   ]
  },
  {
   "cell_type": "markdown",
   "metadata": {},
   "source": [
    "### 课堂演练01：\n",
    "要求：输入一个4位整数，作为年份，判断该年份是否为闰年，并输出相应语句。\n"
   ]
  },
  {
   "cell_type": "code",
   "execution_count": null,
   "metadata": {},
   "outputs": [],
   "source": [
    "### 现场完成代码与此（5分钟）\n",
    "\n",
    "\n",
    "\n"
   ]
  },
  {
   "cell_type": "code",
   "execution_count": null,
   "metadata": {},
   "outputs": [],
   "source": [
    "!type pys\\ch3_class01.py"
   ]
  },
  {
   "cell_type": "code",
   "execution_count": null,
   "metadata": {},
   "outputs": [],
   "source": [
    "%run  pys\\ch3_class01.py"
   ]
  },
  {
   "cell_type": "markdown",
   "metadata": {},
   "source": [
    "## <font size=5> <span id=\"3.2\"> 3.2 **for** 循环语句</span></font>\n",
    "\n",
    "- `Python`的 `for` 循环语句不同于 `C/C++` 语言，循环可以按连续变化整数、列表项、字符串开展\n",
    "\n",
    "<img src=\"images/chapter03/python_for_loop.jpg\" width=300>"
   ]
  },
  {
   "cell_type": "markdown",
   "metadata": {},
   "source": [
    "### 3.2.1 按列表、字典、元组项的 for 循环\n",
    "\n",
    "- 语法\n",
    "```python\n",
    "for item in some_list:\n",
    "      do_something\n",
    "```"
   ]
  },
  {
   "cell_type": "markdown",
   "metadata": {},
   "source": [
    "#### 列表简介\n",
    "\n",
    "- 一种容器，其中的元素顺序排列\n",
    "- 第5讲将详细介绍"
   ]
  },
  {
   "cell_type": "code",
   "execution_count": null,
   "metadata": {},
   "outputs": [],
   "source": [
    "list_1 = [1,2,3,4,5]\n",
    "list_1"
   ]
  },
  {
   "cell_type": "code",
   "execution_count": null,
   "metadata": {},
   "outputs": [],
   "source": [
    "count = 0\n",
    "for item in list_1:  #遍历\n",
    "    if item >=3:\n",
    "        count += 1\n",
    "count"
   ]
  },
  {
   "cell_type": "code",
   "execution_count": null,
   "metadata": {},
   "outputs": [],
   "source": [
    "list_1[0], list_1[3]"
   ]
  },
  {
   "cell_type": "code",
   "execution_count": null,
   "metadata": {},
   "outputs": [],
   "source": [
    "list_2 = [\"a\", \"e\", \"i\", \"o\", \"u\"]\n",
    "list_2"
   ]
  },
  {
   "cell_type": "code",
   "execution_count": null,
   "metadata": {},
   "outputs": [],
   "source": [
    "list_2[2]"
   ]
  },
  {
   "cell_type": "code",
   "execution_count": null,
   "metadata": {},
   "outputs": [],
   "source": [
    "list_3 = [\"I\", \"love\", \"Tongji\"]\n",
    "list_3"
   ]
  },
  {
   "cell_type": "markdown",
   "metadata": {},
   "source": [
    "#### 例 4a 对字符串列表循环"
   ]
  },
  {
   "cell_type": "code",
   "execution_count": null,
   "metadata": {},
   "outputs": [],
   "source": [
    "words_list = ['cat', 'tiger', 'elephant']\n",
    "for word in words_list:\n",
    "    print(word, len(word))"
   ]
  },
  {
   "cell_type": "code",
   "execution_count": null,
   "metadata": {},
   "outputs": [],
   "source": [
    "string = ['T','G','I','F','!']\n",
    "for item in string:\n",
    "    print(item)"
   ]
  },
  {
   "cell_type": "markdown",
   "metadata": {},
   "source": [
    "#### 例 4b 对元组循环"
   ]
  },
  {
   "cell_type": "code",
   "execution_count": null,
   "metadata": {},
   "outputs": [],
   "source": [
    "words_tuple = ('cat', 'tiger', 'elephant')\n",
    "for word in words_tuple:\n",
    "    print(word, len(word))"
   ]
  },
  {
   "cell_type": "markdown",
   "metadata": {},
   "source": [
    "#### 例 4c 对字典列表循环"
   ]
  },
  {
   "cell_type": "code",
   "execution_count": null,
   "metadata": {},
   "outputs": [],
   "source": [
    "dicta = {'a': 1, 'b':2, 'c':3, 'd':4, 'e':5}\n",
    "for each in dicta:\n",
    "    print(each)"
   ]
  },
  {
   "cell_type": "code",
   "execution_count": null,
   "metadata": {},
   "outputs": [],
   "source": [
    "dicta = {'a': 1, 'b':2, 'c':3, 'd':4, 'e':5}\n",
    "for k in dicta.keys():\n",
    "    print(k)"
   ]
  },
  {
   "cell_type": "code",
   "execution_count": null,
   "metadata": {},
   "outputs": [],
   "source": [
    "dicta = {'a': 1, 'b':2, 'c':3, 'd':4, 'e':5}\n",
    "for v in dicta.values():\n",
    "    print(v)"
   ]
  },
  {
   "cell_type": "code",
   "execution_count": null,
   "metadata": {},
   "outputs": [],
   "source": [
    "dicta = {'a': 1, 'b':2, 'c':3, 'd':4, 'e':5}\n",
    "for k,v in dicta.items():\n",
    "    print(k+\":\"+str(v))"
   ]
  },
  {
   "cell_type": "markdown",
   "metadata": {},
   "source": [
    "### 3.2.2 `range()` 函数控制的 `for` 循环\n",
    "\n",
    "- `range` 的语法\n",
    "```python\n",
    "range(stop)\n",
    "range(start,stop[, step]) \n",
    "```\n",
    "\n",
    "\n",
    "- 作用 —— 生成等差变化的整数序列\n",
    "    - 从 0 或 start 开始\n",
    "    - 不超过 stop\n",
    "    - step 为步长\n",
    "\n",
    "\n",
    "\n",
    "- 注意 —— 左闭右开\n",
    "\n",
    "\n",
    "\n",
    "- `for` 的语法\n",
    "```python\n",
    "for item in some_range:\n",
    "      do_something\n",
    "```"
   ]
  },
  {
   "cell_type": "markdown",
   "metadata": {},
   "source": [
    "#### 例 5 从 0 开始的整数序列"
   ]
  },
  {
   "cell_type": "code",
   "execution_count": null,
   "metadata": {},
   "outputs": [],
   "source": [
    "range(5)"
   ]
  },
  {
   "cell_type": "code",
   "execution_count": null,
   "metadata": {},
   "outputs": [],
   "source": [
    "type(range(5))"
   ]
  },
  {
   "cell_type": "code",
   "execution_count": null,
   "metadata": {},
   "outputs": [],
   "source": [
    "for i in range(5):\n",
    "    print(i)"
   ]
  },
  {
   "cell_type": "markdown",
   "metadata": {},
   "source": [
    "#### 例 6 左闭右开的整数序列\n",
    "\n",
    "- 注意右开特性"
   ]
  },
  {
   "cell_type": "code",
   "execution_count": null,
   "metadata": {},
   "outputs": [],
   "source": [
    "for i in range(2, 8):\n",
    "    print(i,end=' ')"
   ]
  },
  {
   "cell_type": "markdown",
   "metadata": {},
   "source": [
    "#### 例 7 步长的作用"
   ]
  },
  {
   "cell_type": "code",
   "execution_count": null,
   "metadata": {},
   "outputs": [],
   "source": [
    "for i in range(1,9,2):\n",
    "    print(i)"
   ]
  },
  {
   "cell_type": "markdown",
   "metadata": {},
   "source": [
    "#### 例 8 步长为负时"
   ]
  },
  {
   "cell_type": "code",
   "execution_count": null,
   "metadata": {},
   "outputs": [],
   "source": [
    "for i in range(6, 1, -2):\n",
    "    print(i)"
   ]
  },
  {
   "cell_type": "code",
   "execution_count": null,
   "metadata": {},
   "outputs": [],
   "source": [
    "print(type(range(1,8,2)))\n",
    "range(1,8,2)"
   ]
  },
  {
   "cell_type": "code",
   "execution_count": null,
   "metadata": {},
   "outputs": [],
   "source": [
    "range(1,100000,1)"
   ]
  },
  {
   "cell_type": "markdown",
   "metadata": {},
   "source": [
    "#### 例 9 抢红包的例子"
   ]
  },
  {
   "cell_type": "markdown",
   "metadata": {},
   "source": [
    "- 经典面试题，如何设计抢红包的算法"
   ]
  },
  {
   "cell_type": "code",
   "execution_count": null,
   "metadata": {},
   "outputs": [],
   "source": [
    "# 版本1.0\n",
    "import random\n",
    "\n",
    "num_person = int(input(\"红包人数：\"))\n",
    "total_money = float(input(\"红包总额（元）：\"))\n",
    "\n",
    "scale = []\n",
    "divide = []\n",
    "\n",
    "sum = 0\n",
    "for i in range(num_person):\n",
    "    scale.append(random.randint(1,100))\n",
    "    sum += scale[i]\n",
    "\n",
    "for i in range(num_person):\n",
    "    divide.append(total_money * scale[i]/sum)\n",
    "    print(\"第%2d个好友抢到%6.2f元\" %(i,divide[i]))\n"
   ]
  },
  {
   "cell_type": "markdown",
   "metadata": {},
   "source": [
    "- 思考一下，这个程序可否进一步优化"
   ]
  },
  {
   "cell_type": "markdown",
   "metadata": {},
   "source": [
    "### 3.2.3 非递增整数列表项循环\n",
    "\n",
    "- 语法\n",
    "```python\n",
    ">>> for a_num in num_list:\n",
    ">>>     do_something\n",
    "```\n",
    "\n",
    "\n",
    "- 作用 —— 依次对列表项循环\n",
    "\n",
    "\n",
    "\n",
    "- 注意 —— 遍历列表"
   ]
  },
  {
   "cell_type": "markdown",
   "metadata": {},
   "source": [
    "#### 例 10 遍历列表"
   ]
  },
  {
   "cell_type": "code",
   "execution_count": null,
   "metadata": {},
   "outputs": [],
   "source": [
    "for i in [5,-1,8,0,3]:\n",
    "    print(\"当前列表元素是：\", i)"
   ]
  },
  {
   "cell_type": "markdown",
   "metadata": {},
   "source": [
    "#### 例 11 遍历字符串"
   ]
  },
  {
   "cell_type": "code",
   "execution_count": null,
   "metadata": {},
   "outputs": [],
   "source": [
    "for letter in \"Tongji\":\n",
    "    print(letter,end='')"
   ]
  },
  {
   "cell_type": "markdown",
   "metadata": {},
   "source": [
    "### 3.2.4 `break` 和 `continue` 语句\n",
    "\n",
    "- 作用\n",
    "    - `break` 跳出循环\n",
    "    - `continue` 执行下一循环项"
   ]
  },
  {
   "cell_type": "markdown",
   "metadata": {},
   "source": [
    "<center class = \"half\">\n",
    "<img src=\"images/chapter03/break.jpg\" width=300 align = left>\n",
    "<img src=\"images/chapter03/continue.jpg\" width=300 align = right>\n",
    "</center>"
   ]
  },
  {
   "cell_type": "markdown",
   "metadata": {},
   "source": [
    "#### 例 12 注意 `break` 和 `continue` 的区别"
   ]
  },
  {
   "cell_type": "code",
   "execution_count": null,
   "metadata": {},
   "outputs": [],
   "source": [
    "for letter in 'Python':\n",
    "    if letter == 'h':\n",
    "        break\n",
    "    print('Current Letter :' + letter)\n",
    "\n",
    "print(\"\\nafter for statement\")  # 注 \"\\na\" 插入新行"
   ]
  },
  {
   "cell_type": "code",
   "execution_count": null,
   "metadata": {},
   "outputs": [],
   "source": [
    "for letter in 'Python':\n",
    "    if letter == 'h':\n",
    "        continue\n",
    "    print('Current Letter :' + letter)\n",
    "\n",
    "print(\"\\nafter for statement\")  # 注 \"\\na\" 插入新行"
   ]
  },
  {
   "cell_type": "markdown",
   "metadata": {},
   "source": [
    "### 3.2.5 else 分句\n",
    "\n",
    "- 语法\n",
    "```python\n",
    "for a_num in num_list:\n",
    "      block_1\n",
    "else:\n",
    "      block_2\n",
    "```\n",
    "\n",
    "\n",
    "- `else` 作用 —— 循环`正常结束`时执行语句块 block_2"
   ]
  },
  {
   "cell_type": "code",
   "execution_count": null,
   "metadata": {},
   "outputs": [],
   "source": [
    "# 有无break的差别\n",
    "for x in range(5):\n",
    "    if x == 2:\n",
    "        print(x)\n",
    "        # break\n",
    "        # continue\n",
    "else:\n",
    "    print(\"执行else....\")"
   ]
  },
  {
   "cell_type": "markdown",
   "metadata": {},
   "source": [
    "#### 例 13 判断素数"
   ]
  },
  {
   "cell_type": "code",
   "execution_count": null,
   "metadata": {},
   "outputs": [],
   "source": [
    "n = int(input(\"请输入一个大于 1 的正整数\"))\n",
    "\n",
    "for x in range(2, n):\n",
    "    if n % x == 0:\n",
    "        print(n, '不是素数！')\n",
    "        print(n, ' 等于 ', x, ' 乘 ', n//x)\n",
    "        break\n",
    "else:\n",
    "    print(n, '是素数！')"
   ]
  },
  {
   "cell_type": "markdown",
   "metadata": {},
   "source": [
    "### 课堂演练02：\n",
    "要求：输出一百以内的素数"
   ]
  },
  {
   "cell_type": "code",
   "execution_count": null,
   "metadata": {},
   "outputs": [],
   "source": [
    "\n",
    "\n"
   ]
  },
  {
   "cell_type": "code",
   "execution_count": 12,
   "metadata": {},
   "outputs": [
    {
     "name": "stdout",
     "output_type": "stream",
     "text": [
      "import math\n",
      "count = 0\n",
      "print('The list of prime numbers less than 100 as follows:')\n",
      "for i in range(2,101,1):\n",
      "    for j in range(2,int(math.sqrt(i))+1,1):\n",
      "        if i%j == 0:\n",
      "            break;\n",
      "    else:\n",
      "        count +=1 \n",
      "        print('%4d' %i, end=' ')\n",
      "        if count % 5 == 0:\n",
      "            print(\"\")\n",
      "print('\\nThere are totally %3d prime nubmers!' %count)\n"
     ]
    }
   ],
   "source": [
    "!type pys\\ch3_class02.py"
   ]
  },
  {
   "cell_type": "code",
   "execution_count": null,
   "metadata": {},
   "outputs": [],
   "source": [
    "%run pys\\ch3_class02.py"
   ]
  },
  {
   "cell_type": "code",
   "execution_count": null,
   "metadata": {},
   "outputs": [],
   "source": []
  },
  {
   "cell_type": "markdown",
   "metadata": {},
   "source": [
    "## <font size=5> <span id=\"3.3\"> 3.3 `while` 循环语句</span></font>\n",
    "\n",
    "\n",
    "- 语法\n",
    "```python\n",
    "while condition:\n",
    "      statement_block\n",
    "```\n",
    "\n",
    "- 条件 `condition` 为 `True` 时，重复执行语句块 `statement_block`\n",
    "\n",
    "\n",
    "<img src=\"images/chapter03/python_while_loop.jpg\" width=250>"
   ]
  },
  {
   "cell_type": "markdown",
   "metadata": {},
   "source": [
    "### 3.3.1 `while` 语句用于不指定次数的循环"
   ]
  },
  {
   "cell_type": "markdown",
   "metadata": {},
   "source": [
    "#### 例 14 简单计数"
   ]
  },
  {
   "cell_type": "code",
   "execution_count": null,
   "metadata": {},
   "outputs": [],
   "source": [
    "count = 0\n",
    "while count < 9:\n",
    "    print(\"The number is:\",count)\n",
    "    count = count + 1\n",
    "\n",
    "print (\"\\nGood bye!\")"
   ]
  },
  {
   "cell_type": "markdown",
   "metadata": {},
   "source": [
    "#### 例 15 递增数列求和"
   ]
  },
  {
   "cell_type": "code",
   "execution_count": null,
   "metadata": {},
   "outputs": [],
   "source": [
    "num, sum = 0, 0 # num=0, sum=0\n",
    "while num < 5:\n",
    "    sum += num\n",
    "    print(num, sum)\n",
    "    num += 1"
   ]
  },
  {
   "cell_type": "markdown",
   "metadata": {},
   "source": [
    "#### 例 16 play game again 猜数字游戏"
   ]
  },
  {
   "cell_type": "code",
   "execution_count": null,
   "metadata": {},
   "outputs": [],
   "source": [
    "import random\n",
    "\n",
    "secret = random.randint(1,10) # 生成 [1, 10] 区间的随机整数\n",
    "temp = input(\"Play with me, Guess a number:\")\n",
    "guess = int(temp)\n",
    "\n",
    "while guess != secret:\n",
    "    if(guess > secret):\n",
    "        print(\"老铁，高了\")\n",
    "    else:\n",
    "        print(\"老铁，低了\")\n",
    "\n",
    "    temp = input(\"Error, input again:\")\n",
    "    guess = int(temp)\n",
    "\n",
    "print(\"Good Job\")\n",
    "print(\"Game over\") "
   ]
  },
  {
   "cell_type": "markdown",
   "metadata": {},
   "source": [
    "### 3.3.2 `else` 分句\n",
    "\n",
    "- 语法\n",
    "```python\n",
    "while condition:\n",
    "      statement_block\n",
    "else:\n",
    "      statement_else\n",
    "```\n",
    "\n",
    "\n",
    "- 作用同前\n",
    "- `else` 用于`循环正常结束`后执行"
   ]
  },
  {
   "cell_type": "markdown",
   "metadata": {},
   "source": [
    "#### 例 17 `while` 结束后 `else` 分句的作用"
   ]
  },
  {
   "cell_type": "code",
   "execution_count": null,
   "metadata": {},
   "outputs": [],
   "source": [
    "count = 0\n",
    "while(count<5):\n",
    "    print(count)\n",
    "    count += 1\n",
    "    #if count % 3 == 0:\n",
    "    #    break;\n",
    "else:\n",
    "    print(\"count value reached %d\" %(count))"
   ]
  },
  {
   "cell_type": "markdown",
   "metadata": {},
   "source": [
    "#### 例 18 循环求和后， `else` 分句给出结果"
   ]
  },
  {
   "cell_type": "code",
   "execution_count": null,
   "metadata": {},
   "outputs": [],
   "source": [
    "s = 0\n",
    "n = 10\n",
    "i = 1\n",
    "\n",
    "while i <= n:\n",
    "    s += i\n",
    "    i += 1\n",
    "else:\n",
    "    print(\"Sum = %d\" %(s))"
   ]
  },
  {
   "cell_type": "markdown",
   "metadata": {},
   "source": [
    "### 3.3.3 `break` 和 `continue` 语句\n",
    "\n",
    "- 作用同前\n",
    "    - `break` 跳出循环体\n",
    "    - `continue` 执行下一循环步"
   ]
  },
  {
   "cell_type": "markdown",
   "metadata": {},
   "source": [
    "#### 例 19 遇到 5 就跳出 —— `break` 语句的作用"
   ]
  },
  {
   "cell_type": "code",
   "execution_count": null,
   "metadata": {},
   "outputs": [],
   "source": [
    "var = 10\n",
    "\n",
    "while var > 0:          \n",
    "    var = var - 1\n",
    "    if var == 5:\n",
    "        print('逢 5 就退出！')\n",
    "        break\n",
    "    print(var)"
   ]
  },
  {
   "cell_type": "markdown",
   "metadata": {},
   "source": [
    "#### 例 20 遇到 5 就继续 —— `continue` 语句的作用"
   ]
  },
  {
   "cell_type": "code",
   "execution_count": null,
   "metadata": {},
   "outputs": [],
   "source": [
    "var = 10\n",
    "while var > 0:          \n",
    "    var = var -1\n",
    "    if var == 5:\n",
    "        print('逢 5 就继续！')\n",
    "        continue\n",
    "    print(var)"
   ]
  },
  {
   "cell_type": "markdown",
   "metadata": {},
   "source": [
    "### 3.3.4 `pass` 语句\n",
    "\n",
    "- 作用\n",
    "    - `pass` 是空语句，是为了保持程序结构的完整性。\n",
    "\n",
    "    - `pass` 不做任何事情，一般用做占位语句。"
   ]
  },
  {
   "cell_type": "code",
   "execution_count": null,
   "metadata": {},
   "outputs": [],
   "source": [
    "a =  3\n",
    "if a>3:\n",
    "    pass\n",
    "else:\n",
    "    pass"
   ]
  },
  {
   "cell_type": "markdown",
   "metadata": {},
   "source": [
    "### 课堂演练03：\n",
    "输入若干正数，求平均值，当输入小于等于0的时候结束输入，并输出平均值结果。"
   ]
  },
  {
   "cell_type": "code",
   "execution_count": null,
   "metadata": {},
   "outputs": [],
   "source": [
    "del sum"
   ]
  },
  {
   "cell_type": "code",
   "execution_count": null,
   "metadata": {},
   "outputs": [],
   "source": [
    "del int"
   ]
  },
  {
   "cell_type": "code",
   "execution_count": null,
   "metadata": {},
   "outputs": [],
   "source": [
    "## 自己完成，时间15min\n",
    "\n"
   ]
  },
  {
   "cell_type": "code",
   "execution_count": null,
   "metadata": {},
   "outputs": [],
   "source": [
    "!type pys\\ch3_class03.py"
   ]
  },
  {
   "cell_type": "code",
   "execution_count": null,
   "metadata": {},
   "outputs": [],
   "source": [
    "%run pys\\ch3_class03.py"
   ]
  },
  {
   "cell_type": "code",
   "execution_count": null,
   "metadata": {},
   "outputs": [],
   "source": [
    "!type pys\\ch3_class03b.py"
   ]
  },
  {
   "cell_type": "code",
   "execution_count": null,
   "metadata": {},
   "outputs": [],
   "source": [
    "%run pys\\ch3_class03b.py"
   ]
  },
  {
   "cell_type": "markdown",
   "metadata": {},
   "source": [
    "## <font size=5> <span id=\"3.4\"> 3.4 控制语句嵌套</span></font>"
   ]
  },
  {
   "cell_type": "markdown",
   "metadata": {},
   "source": [
    "### 3.4.1 多层 `for` 循环"
   ]
  },
  {
   "cell_type": "markdown",
   "metadata": {},
   "source": [
    "#### 例 21 输出九九乘法表"
   ]
  },
  {
   "cell_type": "code",
   "execution_count": null,
   "metadata": {},
   "outputs": [],
   "source": [
    "for i in range(1,10):\n",
    "    for j in range(1,i+1):\n",
    "        print(str(j) + \"x\" + str(i) + \"=\" + str(j*i), end=\" \")\n",
    "    print(\"\")"
   ]
  },
  {
   "cell_type": "markdown",
   "metadata": {},
   "source": [
    "### 3.4.2 多层控制结构\n",
    "\n",
    "- 原则上，`if`、`for` 和 `while` 可以任意嵌套"
   ]
  },
  {
   "cell_type": "markdown",
   "metadata": {},
   "source": [
    "#### 例 22 三层 `if` 嵌套，判断白富美"
   ]
  },
  {
   "cell_type": "code",
   "execution_count": null,
   "metadata": {},
   "outputs": [],
   "source": [
    "white_rich_beautiful = False\n",
    "\n",
    "be_white = int(input(\"你白吗，yes-1，no-0: \"))\n",
    "\n",
    "if be_white:\n",
    "    be_rich = int(input(\"你富吗，yes-1，no-0: \"))\n",
    "    if be_rich:\n",
    "        be_beautiful = int(input(\"你美吗，yes-1，no-0: \"))\n",
    "        if be_beautiful:\n",
    "            white_rich_beautiful = True\n",
    "\n",
    "if white_rich_beautiful:\n",
    "    print(\"唉，你是白富美！\")\n",
    "else:\n",
    "    print(\"啊，你不是白富美！\")"
   ]
  },
  {
   "cell_type": "markdown",
   "metadata": {},
   "source": [
    "#### 例 23 双层 `while` 输出三角形"
   ]
  },
  {
   "cell_type": "code",
   "execution_count": null,
   "metadata": {},
   "outputs": [],
   "source": [
    "i=1\n",
    "while i<=15:\n",
    "    j=1\n",
    "    while j<=i:\n",
    "        print(\"*\", end=\"\")\n",
    "        j+=1\n",
    "    print(\"\")\n",
    "    i+=1"
   ]
  },
  {
   "cell_type": "markdown",
   "metadata": {},
   "source": [
    "#### 例 24 `for` 和 `if` 嵌套，找偶像..."
   ]
  },
  {
   "cell_type": "code",
   "execution_count": null,
   "metadata": {},
   "outputs": [],
   "source": [
    "idol = \"刘诗诗\"\n",
    "stars=[\"王菲\", \"高圆圆\", \"刘诗诗\", \"赵丽颖\", \"江疏影\"]\n",
    "\n",
    "for star in stars:\n",
    "    if idol==star:\n",
    "        print(star, \"你是我的偶像，我是一个快乐的粉丝!\")\n",
    "    else:\n",
    "        print(star, \"你不是我的偶像!\")"
   ]
  },
  {
   "cell_type": "markdown",
   "metadata": {},
   "source": [
    "#### 例 25 `while` 和 `if` 嵌套 —— 和电脑划拳比赛"
   ]
  },
  {
   "cell_type": "code",
   "execution_count": null,
   "metadata": {},
   "outputs": [],
   "source": [
    "import random\n",
    "\n",
    "fingers = [\"锤\", \"剪\", \"布\"]\n",
    "\n",
    "while True:\n",
    "    mine = int(input(\"你出什么，锤-0，剪-1，布-2，退-3？  \"))\n",
    "    if mine==3:\n",
    "        print(\"    哈哈，你逃了，再见！\")\n",
    "        break\n",
    "\n",
    "    computer = random.randint(0,2)\n",
    "    if (computer-mine) % 3 == 1:\n",
    "        print(\"    你赢了! \",end=\"\")\n",
    "    elif (computer-mine) % 3 == 2:\n",
    "        print(\"    你输了! \",end=\"\")\n",
    "    else:\n",
    "        print(\"    打平了! \",end=\"\")\n",
    "\n",
    "    print(\"你出{0}，电脑出{1}\\n\".format(fingers[mine],fingers[computer]))"
   ]
  },
  {
   "cell_type": "markdown",
   "metadata": {},
   "source": [
    "### 课堂演练04：\n",
    "要求：如有n个人，编号从1到n。他们围成一圈，从第1个人开始报数，数到3的人离开，接下来再从1开始数，由此类推，最后只剩下最后一个人。要求输出最后留下的人的编号。"
   ]
  },
  {
   "cell_type": "code",
   "execution_count": null,
   "metadata": {},
   "outputs": [],
   "source": [
    "# 代码完成与此（15min）\n",
    "\n",
    "\n",
    "\n",
    "    "
   ]
  },
  {
   "cell_type": "code",
   "execution_count": null,
   "metadata": {},
   "outputs": [],
   "source": [
    "!type ch3_class04.py"
   ]
  },
  {
   "cell_type": "code",
   "execution_count": null,
   "metadata": {},
   "outputs": [],
   "source": [
    "%run ch3_class04.py"
   ]
  },
  {
   "cell_type": "markdown",
   "metadata": {},
   "source": [
    "## <font size=5> <span id=\"3.5\"> 3.5 迭代器（Iterator）</span></font>\n",
    "\n",
    "- Python 的强大功能 —— 容器都是可迭代的\n",
    "\n",
    "\n",
    "- 迭代器\n",
    "    - 可以记住遍历位置的对象\n",
    "    - 从集合的第一个元素开始访问，直到所有的元素被访问完结束\n",
    "    - 迭代器只能往前不会后退\n",
    "    - 迭代器有两个基本的方法：iter() 和 next()\n",
    "\n",
    "\n",
    "- 字符串，列表或元组对象都可用于创建迭代器"
   ]
  },
  {
   "cell_type": "markdown",
   "metadata": {},
   "source": [
    "#### 例26 回顾 ——　元组容器的 `for` 循环操作\n",
    "\n",
    "- 说明\n",
    "    - 元组是不可修改的顺序容器\n",
    "    - 元组的元素用圆括号括起来\n",
    "    - 元组的介绍详见第5讲"
   ]
  },
  {
   "cell_type": "code",
   "execution_count": null,
   "metadata": {},
   "outputs": [],
   "source": [
    "# 找出大于10，且能被3整除的数\n",
    "container = (3, 29, 15, 13, 27)\n",
    "for item in container:\n",
    "    if item>10 and item%3 == 0:\n",
    "        print(item)"
   ]
  },
  {
   "cell_type": "code",
   "execution_count": null,
   "metadata": {},
   "outputs": [],
   "source": [
    "# 集合作为迭代器，注意顺序！！\n",
    "container = {3, 29, 15, 13, 27}\n",
    "for item in container:\n",
    "    print(item)"
   ]
  },
  {
   "cell_type": "markdown",
   "metadata": {},
   "source": [
    "### 3.5.1 迭代器的创建 —— `iter()` 方法\n",
    "\n",
    "- 语法\n",
    "```python\n",
    ">>> iterator = iter(container)\n",
    "```\n",
    "\n",
    "- 功能\n",
    "    - `iter()` 方法创建并返回给定对象的迭代器\n"
   ]
  },
  {
   "cell_type": "markdown",
   "metadata": {},
   "source": [
    "#### 例 27-1 迭代器当容器使用"
   ]
  },
  {
   "cell_type": "code",
   "execution_count": null,
   "metadata": {},
   "outputs": [],
   "source": [
    "container = (3, 29, 15, 13, 27)  # 容器\n",
    "iterator_as_container = iter(container) # 创建迭代器\n",
    "\n",
    "for item in iterator_as_container:  \n",
    "    print(item)"
   ]
  },
  {
   "cell_type": "markdown",
   "metadata": {},
   "source": [
    "#### 例 27-2 迭代器当容器使用（简洁）"
   ]
  },
  {
   "cell_type": "code",
   "execution_count": null,
   "metadata": {},
   "outputs": [],
   "source": [
    "for item in iter((3, 29, 15, 13, 27)):\n",
    "    print(item)"
   ]
  },
  {
   "cell_type": "markdown",
   "metadata": {},
   "source": [
    "### 3.5.2 迭代器的遍历方法\n",
    "\n",
    "- 语法\n",
    "```python\n",
    ">>> next(iterator)\n",
    "```\n",
    "\n",
    "- 向前遍历\n",
    "    - 要么返回迭代序列的下一项\n",
    "    - 要么就引起一个 StopIteration 异常（可终止迭代）"
   ]
  },
  {
   "cell_type": "markdown",
   "metadata": {},
   "source": [
    "#### 例 28-1 逐步前进的迭代器"
   ]
  },
  {
   "cell_type": "code",
   "execution_count": null,
   "metadata": {},
   "outputs": [],
   "source": [
    "container = (3, 29, 15, 13, 27)  # 容器\n",
    "iterator = iter(container)       # 创建迭代器\n",
    "\n",
    "print(next(iterator))\n",
    "print(next(iterator))\n",
    "print(next(iterator))\n",
    "print(next(iterator))\n",
    "print(next(iterator))"
   ]
  },
  {
   "cell_type": "markdown",
   "metadata": {},
   "source": [
    "#### 例 28-2 前进到尽头了 —— 出现 `StopIteration` 异常\n",
    "\n",
    "- 处理异常，详见第8讲"
   ]
  },
  {
   "cell_type": "code",
   "execution_count": null,
   "metadata": {},
   "outputs": [],
   "source": [
    "print(next(iterator))"
   ]
  },
  {
   "cell_type": "markdown",
   "metadata": {},
   "source": [
    "#### 例 28-3 增加异常处理的能力"
   ]
  },
  {
   "cell_type": "code",
   "execution_count": null,
   "metadata": {},
   "outputs": [],
   "source": [
    "container = (3, 29, 15, 13, 27)  # 容器\n",
    "iterator = iter(container)       # 创建迭代器\n",
    "\n",
    "print(next(iterator))\n",
    "print(next(iterator))\n",
    "print(next(iterator))\n",
    "print(next(iterator))\n",
    "print(next(iterator))"
   ]
  },
  {
   "cell_type": "code",
   "execution_count": null,
   "metadata": {},
   "outputs": [],
   "source": [
    "try:\n",
    "    print(next(iterator))\n",
    "except StopIteration:\n",
    "    print(\"迭代小哥，到头了耶！\")"
   ]
  },
  {
   "cell_type": "markdown",
   "metadata": {},
   "source": [
    "- 疑问：既然列表可以作为迭代器，还需要iter()有什么用？\n",
    "\n",
    "- 解释：\n",
    "  - 使用迭代器不要求事先准备好整个迭代过程中的所有元素。\n",
    "  - 迭代器仅仅在迭代到某个元素时才计算该元素，而在这之前或之后元素可以不存在或者被销毁。\n",
    "\n",
    "- 用途：\n",
    "  - 遍历一些数量巨大甚至无限的序列\n",
    "  - 数列有规律，但是依靠列表推导式描述不出来的场合"
   ]
  },
  {
   "cell_type": "markdown",
   "metadata": {},
   "source": [
    "## <font size=5> <span id=\"3.6\"> 3.6 更灵活的应用示例</span></font>"
   ]
  },
  {
   "cell_type": "markdown",
   "metadata": {},
   "source": [
    "### 3.6.1 漂亮的循环语句\n",
    "\n",
    "- 注意\n",
    "    - Python 语言的列表允许存放不同类型的元素\n",
    "    - 元素筛选示例"
   ]
  },
  {
   "cell_type": "markdown",
   "metadata": {},
   "source": [
    "#### 例 29-1 取出容器里面的数值并求和 —— 普通 `for` 循环\n",
    "\n",
    "- 说明\n",
    "    - import 语句用于导入模块\n",
    "    - isinstance 函数用于类型判断"
   ]
  },
  {
   "cell_type": "code",
   "execution_count": null,
   "metadata": {},
   "outputs": [],
   "source": [
    "import numpy as np\n",
    "\n",
    "compound_container = [1, 2, 3, 'abc', 4, 5.0]  # 复合容器\n",
    "\n",
    "filter_container=[]\n",
    "for item in compound_container:\n",
    "    if isinstance(item,(int, float)):\n",
    "        filter_container.append(item)\n",
    "\n",
    "print(filter_container)\n",
    "\n",
    "np.sum(filter_container)"
   ]
  },
  {
   "cell_type": "code",
   "execution_count": null,
   "metadata": {},
   "outputs": [],
   "source": [
    "# 通过问号 ? 获取帮助\n",
    "isinstance?"
   ]
  },
  {
   "cell_type": "markdown",
   "metadata": {},
   "source": [
    "#### 例 29-2 取出容器里面的数值并求和 —— 高级容器 `for` 循环条件判断\n",
    "\n",
    "- 注意\n",
    "    - 出现浅红提示\n",
    "    - 说明生成器 `numpy` 求和方式将要弃用\n",
    "    - 改用 `np.sum(np.from_iter(generator))`"
   ]
  },
  {
   "cell_type": "code",
   "execution_count": null,
   "metadata": {},
   "outputs": [],
   "source": [
    "conpound_container = [1, 2, 3, 'abc', 4, 5.0]  # 复合容器\n",
    "\n",
    "np.sum(item for item in conpound_container if type(item) in ([int, float]))"
   ]
  },
  {
   "cell_type": "code",
   "execution_count": null,
   "metadata": {},
   "outputs": [],
   "source": [
    "# 一种更强大的生成列表方法\n",
    "\n",
    "conpound_container = [1, 2, 3, 'abc', 4, 5.0]\n",
    "[item for item in conpound_container if type(item) in ([int, float])]"
   ]
  },
  {
   "cell_type": "markdown",
   "metadata": {},
   "source": [
    "### 3.6.2 同时遍历元素和下标"
   ]
  },
  {
   "cell_type": "markdown",
   "metadata": {},
   "source": [
    "#### 例 30 用下标遍历容器"
   ]
  },
  {
   "cell_type": "code",
   "execution_count": null,
   "metadata": {},
   "outputs": [],
   "source": [
    "seasons = ['Spring', 'Summer', 'Autumn', 'Winter']\n",
    "for i in range(len(seasons)):\n",
    "    print(i,':',seasons[i])"
   ]
  },
  {
   "cell_type": "markdown",
   "metadata": {},
   "source": [
    "#### 例 31 用enumerate函数生成下标和元素对"
   ]
  },
  {
   "cell_type": "code",
   "execution_count": null,
   "metadata": {},
   "outputs": [],
   "source": [
    "seasons = ['Spring', 'Summer', 'Autumn', 'Winter']\n",
    "for i,season in enumerate(seasons):\n",
    "    print(i,':',season)"
   ]
  },
  {
   "cell_type": "code",
   "execution_count": null,
   "metadata": {},
   "outputs": [],
   "source": [
    "enumerate?"
   ]
  },
  {
   "cell_type": "code",
   "execution_count": null,
   "metadata": {},
   "outputs": [],
   "source": [
    "# 查看 enumerate 函数的返回内容\n",
    "list(enumerate(seasons))"
   ]
  },
  {
   "cell_type": "markdown",
   "metadata": {},
   "source": [
    "#### 例 32 用enumerate函数生成下标和元素对 —— 控制起始序号"
   ]
  },
  {
   "cell_type": "code",
   "execution_count": null,
   "metadata": {},
   "outputs": [],
   "source": [
    "for i,season in enumerate(seasons, start = 1):\n",
    "    print(i,':',season)"
   ]
  },
  {
   "cell_type": "markdown",
   "metadata": {},
   "source": [
    "#### 例 33-1 友好显示程序完成比例"
   ]
  },
  {
   "cell_type": "code",
   "execution_count": null,
   "metadata": {},
   "outputs": [],
   "source": [
    "import time\n",
    "\n",
    "i,n=0,100\n",
    "\n",
    "for i in range(n):\n",
    "    time.sleep(0.05) # 休眠 0.05 秒\n",
    "    if (i+1)%10 ==0:\n",
    "        print(i+1)"
   ]
  },
  {
   "cell_type": "markdown",
   "metadata": {},
   "source": [
    "#### 例 33-2 友好显示程序完成比例 —— 避免刷屏"
   ]
  },
  {
   "cell_type": "code",
   "execution_count": null,
   "metadata": {},
   "outputs": [],
   "source": [
    "#如果行数很多，就会被刷屏\n",
    "import time\n",
    "i,n=0,100\n",
    "for i in range(n):\n",
    "    time.sleep(0.05) # 休眠 0.05 秒\n",
    "    if (i+1)%10 ==0 : \n",
    "        print('当前完成：'+str(i+1)+'%。',end='\\r') # 注意关键字参数 end='\\r' 回到行首"
   ]
  },
  {
   "cell_type": "code",
   "execution_count": null,
   "metadata": {},
   "outputs": [],
   "source": [
    "#如果行数很多，就会被刷屏\n",
    "import time\n",
    "i,n=0,100\n",
    "for i in range(n):\n",
    "    time.sleep(0.05) # 休眠 0.05 秒\n",
    "    if (i+1)%10 ==0 : print(i+1,end='    ') # 注意关键字参数 end='    ' 4个空格"
   ]
  },
  {
   "cell_type": "markdown",
   "metadata": {},
   "source": [
    "#### 例 33-3 友好显示程序完成比例 —— 进度条"
   ]
  },
  {
   "cell_type": "code",
   "execution_count": null,
   "metadata": {},
   "outputs": [],
   "source": [
    "import sys,time\n",
    "\n",
    "def progress_bar(num,tot):\n",
    "    rate = float(num)/tot\n",
    "    ratenum = int(100*rate)\n",
    "    r = '\\r[{0}{1}]{2}%'.format('*'*ratenum,' '*(100-ratenum),ratenum)\n",
    "    \n",
    "    #sys.stdout.write(r)  # print 实际上就是调用这个函数\n",
    "    #sys.stdout.flush()\n",
    "    print(r,end='')\n",
    "\n",
    "i,n = 0,100\n",
    "for i in range(n):\n",
    "    time.sleep(0.05)\n",
    "    progress_bar(i+1,n)"
   ]
  },
  {
   "cell_type": "code",
   "execution_count": null,
   "metadata": {},
   "outputs": [],
   "source": []
  },
  {
   "cell_type": "markdown",
   "metadata": {},
   "source": [
    "### 本章结束"
   ]
  }
 ],
 "metadata": {
  "celltoolbar": "Raw Cell Format",
  "kernelspec": {
   "display_name": "Python 3",
   "language": "python",
   "name": "python3"
  },
  "language_info": {
   "codemirror_mode": {
    "name": "ipython",
    "version": 3
   },
   "file_extension": ".py",
   "mimetype": "text/x-python",
   "name": "python",
   "nbconvert_exporter": "python",
   "pygments_lexer": "ipython3",
   "version": "3.8.5"
  }
 },
 "nbformat": 4,
 "nbformat_minor": 4
}
