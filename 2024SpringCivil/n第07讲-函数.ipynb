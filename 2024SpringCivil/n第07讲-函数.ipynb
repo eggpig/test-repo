{
 "cells": [
  {
   "cell_type": "markdown",
   "metadata": {
    "slideshow": {
     "slide_type": "slide"
    }
   },
   "source": [
    "# 第七讲  函数\n"
   ]
  },
  {
   "cell_type": "markdown",
   "metadata": {
    "slideshow": {
     "slide_type": "slide"
    }
   },
   "source": [
    "___"
   ]
  },
  {
   "cell_type": "markdown",
   "metadata": {},
   "source": [
    "<span id=\"mulu7\"><font face=\"黑体\" size=6>本章目录</font></span>\n",
    "* [第七讲 函数](#7)\n",
    "\n",
    "    * [7.1 Python语言中的函数](#7.1)\n",
    "    * [7.2 函数要素之参数](#7.2)\n",
    "    * [7.3 函数要素之返回值](#7.3)\n",
    "    * [7.4 函数要素之注解](#7.4)\n",
    "    * [7.5 匿名函数-lambda表达式](#7.5)\n",
    "    * [7.6 特殊内置函数filter、map](#7.6)\n",
    "    * [7.7 全局变量、局部变量与关键字global](#7.7)\n",
    "    * [7.8 内嵌函数和闭包](#7.8)\n",
    "    * [7.9 递归函数](#7.9)\n",
    "    * [7.10 合作编程](#7.10)\n",
    "    * [7.11 案例](#7.11)\n",
    "    * [7.12 内置函数](#7.12)"
   ]
  },
  {
   "cell_type": "markdown",
   "metadata": {
    "tags": []
   },
   "source": [
    "## <font size=5><span id=\"7.1\"> 7.1 Python 语言中的函数</span></font>\n"
   ]
  },
  {
   "cell_type": "markdown",
   "metadata": {
    "tags": []
   },
   "source": [
    "### 7.1.1 当代码以某种规律重复出现时"
   ]
  },
  {
   "cell_type": "markdown",
   "metadata": {},
   "source": [
    "#### (1) 问题提出\n",
    "\n",
    "- 圆面积公式为 $S=\\pi r^2$\n",
    "\n",
    "\n",
    "- 若半径分别取\n",
    "```python\n",
    "r1 = 1.0\n",
    "r2 = 2.3\n",
    "r3 = 4.5\n",
    "```\n",
    "\n",
    "- 面积分别为\n",
    "```python\n",
    "s1=3.14*r1*r1\n",
    "s2=3.14*r2*r2\n",
    "s3=3.14*r3*r3\n",
    "```\n",
    "\n",
    "\n",
    "- 注意 —— 代码有规律地重复"
   ]
  },
  {
   "cell_type": "markdown",
   "metadata": {},
   "source": [
    "#### (2)  低效率代码"
   ]
  },
  {
   "cell_type": "code",
   "execution_count": null,
   "metadata": {},
   "outputs": [],
   "source": [
    "r1 = 1.0\n",
    "r2 = 2.3\n",
    "r3 = 4.5"
   ]
  },
  {
   "cell_type": "code",
   "execution_count": null,
   "metadata": {},
   "outputs": [],
   "source": [
    "# 高度重复，效率太低\n",
    "\n",
    "s1 = 3.14 * r1 * r1\n",
    "s2 = 3.14 * r2 * r2\n",
    "s3 = 3.14 * r3 * r3\n",
    "\n",
    "print(f\"s1={s1}, s2={s2}, s3={s3}\")"
   ]
  },
  {
   "cell_type": "markdown",
   "metadata": {},
   "source": [
    "#### (3) 代码改进"
   ]
  },
  {
   "cell_type": "code",
   "execution_count": null,
   "metadata": {},
   "outputs": [],
   "source": [
    "def S(r):\n",
    "    return 3.1415926*r*r"
   ]
  },
  {
   "cell_type": "code",
   "execution_count": null,
   "metadata": {},
   "outputs": [],
   "source": [
    "s1 = S(r1)\n",
    "s2 = S(r2)\n",
    "s3 = S(r3)\n",
    "\n",
    "print(f\"s1={s1}, s2={s2}, s3={s3}\")"
   ]
  },
  {
   "cell_type": "markdown",
   "metadata": {},
   "source": [
    "#### (4) 改进后的好处\n",
    "\n",
    "\n",
    "- 合理组织代码\n",
    "- 可重复利用\n",
    "- 便于维护、升级"
   ]
  },
  {
   "cell_type": "markdown",
   "metadata": {
    "tags": [],
    "toc-hr-collapsed": true
   },
   "source": [
    "###  7.1.2 函数的定义"
   ]
  },
  {
   "cell_type": "markdown",
   "metadata": {},
   "source": [
    "- 函数的功能\n",
    "    - 完成某项特定任务\n",
    "    - 代码可重复使用\n",
    "\n",
    "\n",
    "- 语法\n",
    "```python\n",
    ">>> def FunctionName(parameters):\n",
    "         ''' \n",
    "           long\n",
    "           docs\n",
    "         '''\n",
    "         function_body\n",
    "         return result\n",
    "```\n",
    "\n",
    "- 要素\n",
    "    - def 关键字\n",
    "    - 函数名\n",
    "    - 参数 (可多、可无)\n",
    "    - 函数体\n",
    "    - 返回值 （可省略）\n",
    "\n",
    "\n",
    "- 函数命名法\n",
    "    - 驼峰命名法 —— (大驼峰，或帕斯卡)FunctionName，DoSomethingForMe，(小)functionName，doSomethingForMe\n",
    "    - 下划线命名法 —— function_name，do_something_for_me\n",
    "    - 匈牙利命名法 —— 自学"
   ]
  },
  {
   "cell_type": "markdown",
   "metadata": {},
   "source": [
    "### 7.1.3 简单示例"
   ]
  },
  {
   "cell_type": "markdown",
   "metadata": {},
   "source": [
    "#### 例7.1-2  欢迎函数 —— 面向所有"
   ]
  },
  {
   "cell_type": "code",
   "execution_count": null,
   "metadata": {},
   "outputs": [],
   "source": [
    "def HelloToAll():\n",
    "    print(\"你好，朋友！\")"
   ]
  },
  {
   "cell_type": "code",
   "execution_count": null,
   "metadata": {},
   "outputs": [],
   "source": [
    "HelloToAll()"
   ]
  },
  {
   "cell_type": "markdown",
   "metadata": {},
   "source": [
    "#### 例7.1-3  带参数的欢迎函数 —— 针对特定对象"
   ]
  },
  {
   "cell_type": "code",
   "execution_count": null,
   "metadata": {},
   "outputs": [],
   "source": [
    "def HelloToAFriend(friend_name):\n",
    "    print(\"你好，{0}！\".format(friend_name))"
   ]
  },
  {
   "cell_type": "code",
   "execution_count": null,
   "metadata": {},
   "outputs": [],
   "source": [
    "var = \"张三\"\n",
    "HelloToAFriend(\"土木工程的学子们\")\n",
    "HelloToAFriend(\"程序猿\")\n",
    "HelloToAFriend(var)"
   ]
  },
  {
   "cell_type": "code",
   "execution_count": null,
   "metadata": {},
   "outputs": [],
   "source": [
    "HelloToAFriend([1,2,3])"
   ]
  },
  {
   "cell_type": "markdown",
   "metadata": {},
   "source": [
    "### 7.1.4 函数文档说明\n",
    "\n",
    "\n",
    "- `Python` 特色\n",
    "    - 一段字符串（可能是介于三重引号之间的多行）\n",
    "    - 位于函数开始处\n",
    "    - 并未赋值给任何变量\n",
    "\n",
    "\n",
    "- 功能\n",
    "    - 可成为内建函数 `help()` 的输出"
   ]
  },
  {
   "cell_type": "markdown",
   "metadata": {},
   "source": [
    "#### 例 带多行帮助字符串的欢迎函数"
   ]
  },
  {
   "cell_type": "markdown",
   "metadata": {},
   "source": [
    "[返回目录](#mulu7)"
   ]
  },
  {
   "cell_type": "code",
   "execution_count": null,
   "metadata": {},
   "outputs": [],
   "source": [
    "def Hello_To_A_Friend_With_Doc(name, where):\n",
    "    \"\"\"\n",
    "    本函数通过 help 帮助方式\n",
    "    输出欢迎信息！\n",
    "    参数：\n",
    "        name  称呼\n",
    "        where 所在\n",
    "    \"\"\"\n",
    "    print(\"你好，来自{where}的{name}！\".format(name=name, where=where))"
   ]
  },
  {
   "cell_type": "code",
   "execution_count": null,
   "metadata": {},
   "outputs": [],
   "source": [
    "help(Hello_To_A_Friend_With_Doc)"
   ]
  },
  {
   "cell_type": "code",
   "execution_count": null,
   "metadata": {},
   "outputs": [],
   "source": [
    "Hello_To_A_Friend_With_Doc(\"土木学院学子们\", \"同济大学\")"
   ]
  },
  {
   "cell_type": "code",
   "execution_count": null,
   "metadata": {},
   "outputs": [],
   "source": [
    "## 编写一个函数，名称叫做CountMe\n",
    "## 参数是一个str，函数体要求输出这个字符串，并输出字符串的长度、空格个数、标点符号个数(.,!?)\n",
    "def CountMe(str0):\n",
    "    print(str0)\n",
    "    print(len(str0))\n",
    "    spacenum, bdnum = 0, 0\n",
    "    for each in str0:\n",
    "        if each == ' ':\n",
    "            spacenum += 1\n",
    "        elif each in '.,!?':\n",
    "            bdnum += 1\n",
    "    print(spacenum, bdnum)\n",
    "    return spacenum, bdnum"
   ]
  },
  {
   "cell_type": "code",
   "execution_count": null,
   "metadata": {},
   "outputs": [],
   "source": [
    "snum, bnum = CountMe(\"hello, how are you?\")\n",
    "print(snum, bnum)\n",
    "snum, bnum"
   ]
  },
  {
   "cell_type": "markdown",
   "metadata": {
    "tags": []
   },
   "source": [
    "## <font size=5><span id=\"7.2\"> 7.2 函数要素 之 参数</span></font>"
   ]
  },
  {
   "cell_type": "markdown",
   "metadata": {
    "tags": []
   },
   "source": [
    "### 7.2.1 参数 —— 实现更灵活的函数"
   ]
  },
  {
   "cell_type": "markdown",
   "metadata": {},
   "source": [
    "#### 例 计算两数的乘积"
   ]
  },
  {
   "cell_type": "code",
   "execution_count": null,
   "metadata": {},
   "outputs": [],
   "source": [
    "def ProductOf(a, b):\n",
    "    return a*b"
   ]
  },
  {
   "cell_type": "code",
   "execution_count": null,
   "metadata": {},
   "outputs": [],
   "source": [
    "ProductOf(7, 111)"
   ]
  },
  {
   "cell_type": "code",
   "execution_count": null,
   "metadata": {},
   "outputs": [],
   "source": [
    "print(ProductOf(3, 4))\n",
    "print(ProductOf(5, 3.56))\n",
    "print(ProductOf(\"Abc\", 3))"
   ]
  },
  {
   "cell_type": "markdown",
   "metadata": {},
   "source": [
    "#### 例 介绍某人"
   ]
  },
  {
   "cell_type": "code",
   "execution_count": null,
   "metadata": {},
   "outputs": [],
   "source": [
    "def IntroduceSomeone(name, age, job):\n",
    "    print(f\"{name}的年龄是{age}，是一个{job}。\")"
   ]
  },
  {
   "cell_type": "code",
   "execution_count": null,
   "metadata": {},
   "outputs": [],
   "source": [
    "IntroduceSomeone(\"郎平\", 58, \"排球教练\")\n",
    "IntroduceSomeone(\"任正非\", 75, \"企业家\")\n",
    "IntroduceSomeone(\"巩俐\", 54, \"影星\")"
   ]
  },
  {
   "cell_type": "markdown",
   "metadata": {
    "tags": []
   },
   "source": [
    "### 7.2.2 带默认参数的函数\n",
    "\n",
    "\n",
    "- 语法\n",
    "```python\n",
    "def FunctionName(para1=default_value1, para2=default_value2):\n",
    "    # 函数体\n",
    "    # 返回语句\n",
    "```\n",
    "\n",
    "- 默认参数 = 缺省值"
   ]
  },
  {
   "cell_type": "markdown",
   "metadata": {},
   "source": [
    "#### 例 含缺省参数值的例子"
   ]
  },
  {
   "cell_type": "code",
   "execution_count": null,
   "metadata": {},
   "outputs": [],
   "source": [
    "def PrintAStringWithDefaultValue(str=\"Nice to meet you.\"):\n",
    "    print(str)"
   ]
  },
  {
   "cell_type": "code",
   "execution_count": null,
   "metadata": {},
   "outputs": [],
   "source": [
    "PrintAStringWithDefaultValue()                   # 没有提供参数，使用默认参数，或缺省值"
   ]
  },
  {
   "cell_type": "code",
   "execution_count": null,
   "metadata": {},
   "outputs": [],
   "source": [
    "PrintAStringWithDefaultValue(\"It's fine today!\") # 使用实际提供的参数"
   ]
  },
  {
   "cell_type": "markdown",
   "metadata": {},
   "source": [
    "#### 例 含缺省值的多参数例子"
   ]
  },
  {
   "cell_type": "code",
   "execution_count": null,
   "metadata": {},
   "outputs": [],
   "source": [
    "def GreetingToSomeone(greeting=\"Nice to meet you\", name=\"Buddy\"):\n",
    "    print(\"Hi, {0}, {1}.\".format(greeting, name))"
   ]
  },
  {
   "cell_type": "code",
   "execution_count": null,
   "metadata": {},
   "outputs": [],
   "source": [
    "GreetingToSomeone()"
   ]
  },
  {
   "cell_type": "code",
   "execution_count": null,
   "metadata": {},
   "outputs": [],
   "source": [
    "GreetingToSomeone(\"help me\")"
   ]
  },
  {
   "cell_type": "code",
   "execution_count": null,
   "metadata": {},
   "outputs": [],
   "source": [
    "GreetingToSomeone(\"TOM\")"
   ]
  },
  {
   "cell_type": "code",
   "execution_count": null,
   "metadata": {},
   "outputs": [],
   "source": [
    "GreetingToSomeone(name=\"TOM\")"
   ]
  },
  {
   "cell_type": "code",
   "execution_count": null,
   "metadata": {},
   "outputs": [],
   "source": [
    "GreetingToSomeone(\"你好帅\", \"我的朋友\")"
   ]
  },
  {
   "cell_type": "markdown",
   "metadata": {},
   "source": [
    "### 7.2.3 灵活调用 —— 采用关键字参数\n",
    "\n",
    "- 注意规则\n",
    "    - 无缺省值的参数称为必选参数，调用时，必须放在前\n",
    "    - 有多个带默认值的参数，调用时\n",
    "        - 可以按顺序提供全部（或靠前面的）带默认值参数\n",
    "        - 不按顺序提供带默认值的参数时，需要把参数名（关键字）写上"
   ]
  },
  {
   "cell_type": "markdown",
   "metadata": {},
   "source": [
    "#### 例 采用关键字参数进行函数调用的示例"
   ]
  },
  {
   "cell_type": "code",
   "execution_count": 5,
   "metadata": {},
   "outputs": [
    {
     "ename": "SyntaxError",
     "evalue": "non-default argument follows default argument (1481451025.py, line 2)",
     "output_type": "error",
     "traceback": [
      "\u001b[1;36m  Cell \u001b[1;32mIn[5], line 2\u001b[1;36m\u001b[0m\n\u001b[1;33m    def BeatingDragonStrike(which=0, who, whom):\u001b[0m\n\u001b[1;37m                                     ^\u001b[0m\n\u001b[1;31mSyntaxError\u001b[0m\u001b[1;31m:\u001b[0m non-default argument follows default argument\n"
     ]
    }
   ],
   "source": [
    "# 降龙十八掌\n",
    "def BeatingDragonStrike(who, whom, which=0):\n",
    "    strikes = [\"亢龙有悔\", \"飞龙在天\", \"见龙在田\", \"潜龙勿用\", \"龙战于野\", \"神龙摆尾\"]\n",
    "    print(\"{who}对着{whom}使出一招{strike}...\".format(who=who, whom=whom, strike=strikes[which]))"
   ]
  },
  {
   "cell_type": "code",
   "execution_count": null,
   "metadata": {},
   "outputs": [],
   "source": [
    "BeatingDragonStrike(\"郭靖\", \"梁子翁\")\n",
    "BeatingDragonStrike(\"洪七公\", \"欧阳锋\", 1)\n",
    "BeatingDragonStrike(\"萧峰\",\"慕容复\", -1)"
   ]
  },
  {
   "cell_type": "code",
   "execution_count": 1,
   "metadata": {},
   "outputs": [],
   "source": [
    "# 输出 4 行文字\n",
    "# 注意参数未按顺序\n",
    "def PrintFourLines(str1, str2, str3=\"3rd line.\", str4=\"4th Line.\"):\n",
    "    print(str1)\n",
    "    print(str2)\n",
    "    print(str3)\n",
    "    print(str4)"
   ]
  },
  {
   "cell_type": "code",
   "execution_count": 2,
   "metadata": {},
   "outputs": [
    {
     "name": "stdout",
     "output_type": "stream",
     "text": [
      "Print first line.\n",
      "Print 2nd line.\n",
      "3rd line.\n",
      "Print 4th line.\n"
     ]
    }
   ],
   "source": [
    "# 注意第三个参数未提供\n",
    "PrintFourLines(\"Print first line.\", \"Print 2nd line.\", str4 = \"Print 4th line.\")"
   ]
  },
  {
   "cell_type": "code",
   "execution_count": 3,
   "metadata": {},
   "outputs": [
    {
     "name": "stdout",
     "output_type": "stream",
     "text": [
      "床前明月光\n",
      "疑是地上霜\n",
      "举头望明月\n",
      "低头思故乡\n"
     ]
    }
   ],
   "source": [
    "# 中文输出\n",
    "PrintFourLines(\"床前明月光\", \"疑是地上霜\", str4 = \"低头思故乡\", str3=\"举头望明月\")"
   ]
  },
  {
   "cell_type": "code",
   "execution_count": 4,
   "metadata": {},
   "outputs": [
    {
     "name": "stdout",
     "output_type": "stream",
     "text": [
      "床前明月光\n",
      "疑是地上霜\n",
      "低头思故乡\n",
      "举头望明月\n"
     ]
    }
   ],
   "source": [
    "# 中文输出\n",
    "PrintFourLines(\"床前明月光\", \"疑是地上霜\", \"低头思故乡\", \"举头望明月\")"
   ]
  },
  {
   "cell_type": "code",
   "execution_count": 6,
   "metadata": {},
   "outputs": [
    {
     "ename": "SyntaxError",
     "evalue": "positional argument follows keyword argument (4248244600.py, line 2)",
     "output_type": "error",
     "traceback": [
      "\u001b[1;36m  Cell \u001b[1;32mIn[6], line 2\u001b[1;36m\u001b[0m\n\u001b[1;33m    PrintFourLines(str4 = \"低头思故乡\", str3=\"举头望明月\", \"床前明月光\", \"疑是地上霜\")\u001b[0m\n\u001b[1;37m                                                                 ^\u001b[0m\n\u001b[1;31mSyntaxError\u001b[0m\u001b[1;31m:\u001b[0m positional argument follows keyword argument\n"
     ]
    }
   ],
   "source": [
    "# 中文输出\n",
    "PrintFourLines(str4 = \"低头思故乡\", str3=\"举头望明月\", \"床前明月光\", \"疑是地上霜\")"
   ]
  },
  {
   "cell_type": "markdown",
   "metadata": {
    "tags": []
   },
   "source": [
    "### 7.2.4 可变参数（亦称收集参数、可选参数、不定长参数） —— 元组传入方式\n",
    "\n",
    "- 用单个星号 (\\*) 将参数打包成元组的形式"
   ]
  },
  {
   "cell_type": "markdown",
   "metadata": {},
   "source": [
    "#### 例 可变参数示例 —— 长度固定\n",
    "\n",
    "- 其实是输出三个参数\n",
    "- 比较笨拙 —— 参数多了白多，少了越界"
   ]
  },
  {
   "cell_type": "code",
   "execution_count": 10,
   "metadata": {},
   "outputs": [],
   "source": [
    "# 固定长度\n",
    "def PrintVariableParameters(*strs):\n",
    "    print(type(strs))\n",
    "    print(strs[0])\n",
    "    print(strs[1])\n",
    "    print(strs[2])"
   ]
  },
  {
   "cell_type": "code",
   "execution_count": 12,
   "metadata": {},
   "outputs": [
    {
     "name": "stdout",
     "output_type": "stream",
     "text": [
      "<class 'tuple'>\n",
      "Print 1st line.\n",
      "Print 2nd line.\n"
     ]
    },
    {
     "ename": "IndexError",
     "evalue": "tuple index out of range",
     "output_type": "error",
     "traceback": [
      "\u001b[1;31m---------------------------------------------------------------------------\u001b[0m",
      "\u001b[1;31mIndexError\u001b[0m                                Traceback (most recent call last)",
      "Cell \u001b[1;32mIn[12], line 1\u001b[0m\n\u001b[1;32m----> 1\u001b[0m PrintVariableParameters(\u001b[38;5;124m\"\u001b[39m\u001b[38;5;124mPrint 1st line.\u001b[39m\u001b[38;5;124m\"\u001b[39m, \u001b[38;5;124m\"\u001b[39m\u001b[38;5;124mPrint 2nd line.\u001b[39m\u001b[38;5;124m\"\u001b[39m)\n",
      "Cell \u001b[1;32mIn[10], line 6\u001b[0m, in \u001b[0;36mPrintVariableParameters\u001b[1;34m(*strs)\u001b[0m\n\u001b[0;32m      4\u001b[0m \u001b[38;5;28mprint\u001b[39m(strs[\u001b[38;5;241m0\u001b[39m])\n\u001b[0;32m      5\u001b[0m \u001b[38;5;28mprint\u001b[39m(strs[\u001b[38;5;241m1\u001b[39m])\n\u001b[1;32m----> 6\u001b[0m \u001b[38;5;28mprint\u001b[39m(strs[\u001b[38;5;241m2\u001b[39m])\n",
      "\u001b[1;31mIndexError\u001b[0m: tuple index out of range"
     ]
    }
   ],
   "source": [
    "PrintVariableParameters(\"Print 1st line.\", \"Print 2nd line.\")"
   ]
  },
  {
   "cell_type": "code",
   "execution_count": null,
   "metadata": {},
   "outputs": [],
   "source": [
    "PrintVariableParameters(\"床前明月光\", \"疑是地上霜\", \"举头望明月\", \"低头思故乡\")"
   ]
  },
  {
   "cell_type": "code",
   "execution_count": null,
   "metadata": {},
   "outputs": [],
   "source": [
    "PrintVariableParameters(\"床前明月光\", \"疑是地上霜\")"
   ]
  },
  {
   "cell_type": "markdown",
   "metadata": {},
   "source": [
    "#### 例 可变参数示例 —— 长度不确定"
   ]
  },
  {
   "cell_type": "code",
   "execution_count": 22,
   "metadata": {},
   "outputs": [],
   "source": [
    "def PrintParametersUnfixedLength(*param):\n",
    "    print(\"有%d个参数\" % len(param)) \n",
    "    for i in range(len(param)):\n",
    "        print(f'第{i+1}个参数的数据类型是：{type(param[i])}，值是：{param[i]}。',)"
   ]
  },
  {
   "cell_type": "code",
   "execution_count": 14,
   "metadata": {},
   "outputs": [
    {
     "name": "stdout",
     "output_type": "stream",
     "text": [
      "有6个参数\n",
      "第1个参数的数据类型是：<class 'float'>，值是：3.14159。\n",
      "第2个参数的数据类型是：<class 'float'>，值是：2.71828。\n",
      "第3个参数的数据类型是：<class 'int'>，值是：2019。\n",
      "第4个参数的数据类型是：<class 'int'>，值是：10。\n",
      "第5个参数的数据类型是：<class 'int'>，值是：15。\n",
      "第6个参数的数据类型是：<class 'str'>，值是：星期二。\n"
     ]
    }
   ],
   "source": [
    "PrintParametersUnfixedLength(3.14159, 2.71828, 2019, 10, 15, \"星期二\")"
   ]
  },
  {
   "cell_type": "code",
   "execution_count": null,
   "metadata": {},
   "outputs": [],
   "source": [
    "PrintParametersUnfixedLength(\n",
    "    \"蒹葭苍苍\",\n",
    "    \"白露为霜\",\n",
    "    \"所谓伊人\",\n",
    "    \"在水一方\",\n",
    "    \"溯洄从之\",\n",
    "    \"道阻且长\",\n",
    "    \"溯游从之\",\n",
    "    \"宛在水中央\"\n",
    ")"
   ]
  },
  {
   "cell_type": "markdown",
   "metadata": {},
   "source": [
    "#### 例 可变参数示例 —— 后面还有额外参数"
   ]
  },
  {
   "cell_type": "code",
   "execution_count": 15,
   "metadata": {},
   "outputs": [],
   "source": [
    "def VariableParameters_with_ExtraParameters(*param, extra):\n",
    "    print(\"有%d个参数\" % len(param))\n",
    "    \n",
    "    for i in range(len(param)):\n",
    "        print('第',i,'个参数是：',param[i])   \n",
    "    \n",
    "    print('额外参数extra=',extra)"
   ]
  },
  {
   "cell_type": "code",
   "execution_count": 17,
   "metadata": {},
   "outputs": [
    {
     "name": "stdout",
     "output_type": "stream",
     "text": [
      "有5个参数\n",
      "第 0 个参数是： 1\n",
      "第 1 个参数是： 2\n",
      "第 2 个参数是： 3\n",
      "第 3 个参数是： 4\n",
      "第 4 个参数是： 5\n",
      "额外参数extra= 8\n"
     ]
    }
   ],
   "source": [
    "#VariableParameters_with_ExtraParameters(1,2,3,4,5,8)      # 报错\n",
    "VariableParameters_with_ExtraParameters(1,2,3,4,5, extra=8) # 关键字 extra 不能省"
   ]
  },
  {
   "cell_type": "code",
   "execution_count": 18,
   "metadata": {},
   "outputs": [
    {
     "ename": "SyntaxError",
     "evalue": "positional argument follows keyword argument (1388580804.py, line 1)",
     "output_type": "error",
     "traceback": [
      "\u001b[1;36m  Cell \u001b[1;32mIn[18], line 1\u001b[1;36m\u001b[0m\n\u001b[1;33m    VariableParameters_with_ExtraParameters(extra=8, 1,2,3,4,5)\u001b[0m\n\u001b[1;37m                                                              ^\u001b[0m\n\u001b[1;31mSyntaxError\u001b[0m\u001b[1;31m:\u001b[0m positional argument follows keyword argument\n"
     ]
    }
   ],
   "source": [
    "VariableParameters_with_ExtraParameters(extra=8, 1,2,3,4,5)"
   ]
  },
  {
   "cell_type": "markdown",
   "metadata": {},
   "source": [
    "#### 例 更清楚的参数设计\n",
    "\n",
    "- extra 是特别的关键字参数，将其做成 默认参数"
   ]
  },
  {
   "cell_type": "code",
   "execution_count": 19,
   "metadata": {},
   "outputs": [],
   "source": [
    "def VariableParameters_with_KeywordParameters(*param, extra=8):\n",
    "    print(\"有%d个参数\" % len(param))\n",
    "    \n",
    "    for i in range(len(param)):\n",
    "        print('第',i,'个参数是：',param[i])   \n",
    "    \n",
    "    print('关键字参数extra=',extra)"
   ]
  },
  {
   "cell_type": "code",
   "execution_count": 20,
   "metadata": {},
   "outputs": [
    {
     "name": "stdout",
     "output_type": "stream",
     "text": [
      "有5个参数\n",
      "第 0 个参数是： 1\n",
      "第 1 个参数是： 2\n",
      "第 2 个参数是： 3\n",
      "第 3 个参数是： 4\n",
      "第 4 个参数是： 5\n",
      "关键字参数extra= 99\n"
     ]
    }
   ],
   "source": [
    "VariableParameters_with_KeywordParameters(1,2,3,4,5,extra=99)"
   ]
  },
  {
   "cell_type": "code",
   "execution_count": 21,
   "metadata": {},
   "outputs": [
    {
     "name": "stdout",
     "output_type": "stream",
     "text": [
      "有6个参数\n",
      "第 0 个参数是： 1\n",
      "第 1 个参数是： 2\n",
      "第 2 个参数是： 3\n",
      "第 3 个参数是： 4\n",
      "第 4 个参数是： 5\n",
      "第 5 个参数是： 99\n",
      "关键字参数extra= 8\n"
     ]
    }
   ],
   "source": [
    "VariableParameters_with_KeywordParameters(1,2,3,4,5,99) "
   ]
  },
  {
   "cell_type": "markdown",
   "metadata": {
    "tags": []
   },
   "source": [
    "### 7.2.5 可变参数 —— `*` 号的作用\n",
    "\n",
    "- `*` 号\n",
    "    - 即可是打包\n",
    "    - 又可以是解包\n",
    "\n",
    "\n",
    "- 注意传入列表的效果"
   ]
  },
  {
   "cell_type": "markdown",
   "metadata": {},
   "source": [
    "#### 例 传入列表的示例"
   ]
  },
  {
   "cell_type": "markdown",
   "metadata": {},
   "source": [
    "- 列表作为单个参数处理（不解包）"
   ]
  },
  {
   "cell_type": "code",
   "execution_count": 23,
   "metadata": {},
   "outputs": [],
   "source": [
    "a = [1,2,3,4,5]"
   ]
  },
  {
   "cell_type": "code",
   "execution_count": 24,
   "metadata": {},
   "outputs": [
    {
     "name": "stdout",
     "output_type": "stream",
     "text": [
      "有5个参数\n",
      "第1个参数的数据类型是：<class 'int'>，值是：1。\n",
      "第2个参数的数据类型是：<class 'int'>，值是：2。\n",
      "第3个参数的数据类型是：<class 'int'>，值是：3。\n",
      "第4个参数的数据类型是：<class 'int'>，值是：4。\n",
      "第5个参数的数据类型是：<class 'int'>，值是：5。\n"
     ]
    }
   ],
   "source": [
    "PrintParametersUnfixedLength(a[0],a[1],a[2],a[3],a[4])"
   ]
  },
  {
   "cell_type": "code",
   "execution_count": 25,
   "metadata": {},
   "outputs": [
    {
     "name": "stdout",
     "output_type": "stream",
     "text": [
      "有1个参数\n",
      "第1个参数的数据类型是：<class 'list'>，值是：[1, 2, 3, 4, 5]。\n"
     ]
    }
   ],
   "source": [
    "PrintParametersUnfixedLength(a)"
   ]
  },
  {
   "cell_type": "markdown",
   "metadata": {},
   "source": [
    "- 前置 * 号，对列表进行解包，列表内的元素，作为可变参数处理，以元组形式传入"
   ]
  },
  {
   "cell_type": "code",
   "execution_count": 26,
   "metadata": {},
   "outputs": [
    {
     "name": "stdout",
     "output_type": "stream",
     "text": [
      "有5个参数\n",
      "第1个参数的数据类型是：<class 'int'>，值是：1。\n",
      "第2个参数的数据类型是：<class 'int'>，值是：2。\n",
      "第3个参数的数据类型是：<class 'int'>，值是：3。\n",
      "第4个参数的数据类型是：<class 'int'>，值是：4。\n",
      "第5个参数的数据类型是：<class 'int'>，值是：5。\n"
     ]
    }
   ],
   "source": [
    "PrintParametersUnfixedLength(*a)"
   ]
  },
  {
   "cell_type": "code",
   "execution_count": 27,
   "metadata": {},
   "outputs": [
    {
     "name": "stdout",
     "output_type": "stream",
     "text": [
      "有5个参数\n",
      "第1个参数的数据类型是：<class 'int'>，值是：1。\n",
      "第2个参数的数据类型是：<class 'int'>，值是：2。\n",
      "第3个参数的数据类型是：<class 'int'>，值是：3。\n",
      "第4个参数的数据类型是：<class 'int'>，值是：4。\n",
      "第5个参数的数据类型是：<class 'int'>，值是：5。\n"
     ]
    }
   ],
   "source": [
    "b = (1,2,3,4,5)\n",
    "PrintParametersUnfixedLength(*b)"
   ]
  },
  {
   "cell_type": "code",
   "execution_count": 28,
   "metadata": {},
   "outputs": [
    {
     "name": "stdout",
     "output_type": "stream",
     "text": [
      "有5个参数\n",
      "第1个参数的数据类型是：<class 'int'>，值是：1。\n",
      "第2个参数的数据类型是：<class 'int'>，值是：2。\n",
      "第3个参数的数据类型是：<class 'int'>，值是：3。\n",
      "第4个参数的数据类型是：<class 'int'>，值是：4。\n",
      "第5个参数的数据类型是：<class 'int'>，值是：5。\n"
     ]
    }
   ],
   "source": [
    "c = {1,2,3,4,5}\n",
    "PrintParametersUnfixedLength(*c)"
   ]
  },
  {
   "cell_type": "code",
   "execution_count": 29,
   "metadata": {},
   "outputs": [
    {
     "name": "stdout",
     "output_type": "stream",
     "text": [
      "有22个参数\n",
      "第1个参数的数据类型是：<class 'str'>，值是：a。\n",
      "第2个参数的数据类型是：<class 'str'>，值是：b。\n",
      "第3个参数的数据类型是：<class 'str'>，值是：d。\n",
      "第4个参数的数据类型是：<class 'str'>，值是：e。\n",
      "第5个参数的数据类型是：<class 'str'>，值是：f。\n",
      "第6个参数的数据类型是：<class 'str'>，值是：a。\n",
      "第7个参数的数据类型是：<class 'str'>，值是：;。\n",
      "第8个参数的数据类型是：<class 'str'>，值是：l。\n",
      "第9个参数的数据类型是：<class 'str'>，值是：d。\n",
      "第10个参数的数据类型是：<class 'str'>，值是：k。\n",
      "第11个参数的数据类型是：<class 'str'>，值是：j。\n",
      "第12个参数的数据类型是：<class 'str'>，值是：f。\n",
      "第13个参数的数据类型是：<class 'str'>，值是：;。\n",
      "第14个参数的数据类型是：<class 'str'>，值是：l。\n",
      "第15个参数的数据类型是：<class 'str'>，值是：s。\n",
      "第16个参数的数据类型是：<class 'str'>，值是：a。\n",
      "第17个参数的数据类型是：<class 'str'>，值是：k。\n",
      "第18个参数的数据类型是：<class 'str'>，值是：j。\n",
      "第19个参数的数据类型是：<class 'str'>，值是：f。\n",
      "第20个参数的数据类型是：<class 'str'>，值是：d。\n",
      "第21个参数的数据类型是：<class 'str'>，值是：;。\n",
      "第22个参数的数据类型是：<class 'str'>，值是：a。\n"
     ]
    }
   ],
   "source": [
    "str0 = \"abdefa;ldkjf;lsakjfd;a\"\n",
    "PrintParametersUnfixedLength(*str0)"
   ]
  },
  {
   "cell_type": "code",
   "execution_count": 30,
   "metadata": {},
   "outputs": [
    {
     "name": "stdout",
     "output_type": "stream",
     "text": [
      "有5个参数\n",
      "第1个参数的数据类型是：<class 'int'>，值是：0。\n",
      "第2个参数的数据类型是：<class 'int'>，值是：1。\n",
      "第3个参数的数据类型是：<class 'int'>，值是：2。\n",
      "第4个参数的数据类型是：<class 'int'>，值是：3。\n",
      "第5个参数的数据类型是：<class 'int'>，值是：4。\n"
     ]
    }
   ],
   "source": [
    "e = range(0,5)\n",
    "PrintParametersUnfixedLength(*e)"
   ]
  },
  {
   "cell_type": "markdown",
   "metadata": {},
   "source": [
    "- 通过\\*可以将列表、元组、集合打包起来"
   ]
  },
  {
   "cell_type": "markdown",
   "metadata": {
    "tags": []
   },
   "source": [
    "### 7.2.6 可变参数 —— 字典传入方式\n",
    "\n",
    "- 用两个星号 (\\*\\*) 将参数打包成字典的形式"
   ]
  },
  {
   "cell_type": "markdown",
   "metadata": {},
   "source": [
    "#### 例 可变参数 字典方式的示例 —— 长度固定"
   ]
  },
  {
   "cell_type": "code",
   "execution_count": 33,
   "metadata": {},
   "outputs": [],
   "source": [
    "def VariableParametersWithKeywords(**kwstrs):\n",
    "    print(type(kwstrs))\n",
    "    print(kwstrs.get('str1'))\n",
    "    print(kwstrs.get('str2'))\n",
    "    print(kwstrs.get('str3'))"
   ]
  },
  {
   "cell_type": "code",
   "execution_count": 34,
   "metadata": {},
   "outputs": [
    {
     "name": "stdout",
     "output_type": "stream",
     "text": [
      "<class 'dict'>\n",
      "Print 1st line.\n",
      "Print 2nd line.\n",
      "Print 3rd line.\n"
     ]
    }
   ],
   "source": [
    "VariableParametersWithKeywords(str2=\"Print 2nd line.\", str3=\"Print 3rd line.\", str1=\"Print 1st line.\")"
   ]
  },
  {
   "cell_type": "markdown",
   "metadata": {},
   "source": [
    "#### 例 可变参数字典方式的示例 —— 长度不固定"
   ]
  },
  {
   "cell_type": "code",
   "execution_count": 35,
   "metadata": {},
   "outputs": [],
   "source": [
    "def VariableParameters_with_KeywordParameters_UnfixedLength(**kwstrs):\n",
    "    #print(kwstrs)\n",
    "    print(\"有%d个参数\" % len(kwstrs))\n",
    "    \n",
    "    for k in kwstrs:\n",
    "        print('参数 ',k,' 的值是：',kwstrs[k]) "
   ]
  },
  {
   "cell_type": "code",
   "execution_count": 36,
   "metadata": {},
   "outputs": [
    {
     "name": "stdout",
     "output_type": "stream",
     "text": [
      "有4个参数\n",
      "参数  game_1  的值是： 刀塔2\n",
      "参数  popular_index_1  的值是： 20784\n",
      "参数  game_2  的值是： 魔域\n",
      "参数  popular_index_2  的值是： 20548\n"
     ]
    }
   ],
   "source": [
    "VariableParameters_with_KeywordParameters_UnfixedLength(\n",
    "    game_1=\"刀塔2\", popular_index_1=20784,\n",
    "    game_2=\"魔域\", popular_index_2=20548\n",
    ")"
   ]
  },
  {
   "cell_type": "code",
   "execution_count": 37,
   "metadata": {},
   "outputs": [
    {
     "name": "stdout",
     "output_type": "stream",
     "text": [
      "有6个参数\n",
      "参数  game_1  的值是： 刀塔2\n",
      "参数  popular_index_1  的值是： 20784\n",
      "参数  game_2  的值是： 魔域\n",
      "参数  popular_index_2  的值是： 20548\n",
      "参数  game_3  的值是： 梦幻西游\n",
      "参数  popular_index_3  的值是： 15218\n"
     ]
    }
   ],
   "source": [
    "VariableParameters_with_KeywordParameters_UnfixedLength(\n",
    "    game_1=\"刀塔2\", popular_index_1=20784,\n",
    "    game_2=\"魔域\", popular_index_2=20548,\n",
    "    game_3=\"梦幻西游\", popular_index_3=15218\n",
    ")"
   ]
  },
  {
   "cell_type": "markdown",
   "metadata": {},
   "source": [
    "#### 例 单双星号同时出现"
   ]
  },
  {
   "cell_type": "code",
   "execution_count": 38,
   "metadata": {},
   "outputs": [],
   "source": [
    "def VariableParaAndKeyword(*args, **kwargs):\n",
    "    print(\"可变参数\")\n",
    "    for ele in args:\n",
    "        print(ele)\n",
    "        \n",
    "    print(\"\\n可变关键字参数\")\n",
    "    for item in kwargs.items():\n",
    "        print (item)"
   ]
  },
  {
   "cell_type": "code",
   "execution_count": 39,
   "metadata": {},
   "outputs": [
    {
     "name": "stdout",
     "output_type": "stream",
     "text": [
      "可变参数\n",
      "1\n",
      "2\n",
      "3\n",
      "4\n",
      "\n",
      "可变关键字参数\n",
      "('e', 5)\n",
      "('f', 6)\n",
      "('g', 7)\n"
     ]
    }
   ],
   "source": [
    "VariableParaAndKeyword(1, 2, 3, 4, e=5, f=6, g=7)"
   ]
  },
  {
   "cell_type": "code",
   "execution_count": null,
   "metadata": {},
   "outputs": [],
   "source": [
    "'''\n",
    "四种传递方式混合使用,fun(a,b=3,*c,**d),但四种方式混用时要遵守：\n",
    "\n",
    "a: positional augment\n",
    "b: keyword augment\n",
    "\n",
    "args= 须在args之后\n",
    "*args 须在 args=value 之后\n",
    "**kargs 须在 *args 之后\n",
    "赋值过程为：\n",
    "\n",
    "按顺序把传给 args 的实参赋值给对应的形参\n",
    "args = value 形式的实参赋值给形参\n",
    "将多余出的即键值对行后的零散实参打包成一个 tuple 传递给 *args\n",
    "将多余的 key=value 形式的实参打包成一个 dictionary 传递给 **kargs\n",
    "'''"
   ]
  },
  {
   "cell_type": "markdown",
   "metadata": {},
   "source": [
    "[返回目录](#mulu7)"
   ]
  },
  {
   "cell_type": "markdown",
   "metadata": {
    "tags": []
   },
   "source": [
    "### 7.2.6(*) 函数的参数是传值还是传引用？\n",
    "- 一种从函数带回结果的方式"
   ]
  },
  {
   "cell_type": "markdown",
   "metadata": {},
   "source": [
    "- 函数参数传递机制问题在本质上是调用函数（过程）和被调用函数（过程）在调用发生时进行通信的方法问题。基本的参数传递机制有两种：值传递和引用传递。\n",
    "\n",
    "- 值传递（passl-by-value）过程中，被调函数的形式参数作为被调函数的局部变量处理，即在堆栈中开辟了内存空间以存放由主调函数放进来的实参的值，从而成为了实参的一个副本。值传递的特点是被调函数对形式参数的任何操作都是作为局部变量进行，不会影响主调函数的实参变量的值。\n",
    "\n",
    "- 引用传递(pass-by-reference)过程中，被调函数的形式参数虽然也作为局部变量在堆栈中开辟了内存空间，但是这时存放的是由主调函数放进来的实参变量的地址。被调函数对形参的任何操作都被处理成间接寻址，即通过堆栈中存放的地址访问主调函数中的实参变量。正因为如此，被调函数对形参做的任何操作都影响了主调函数中的实参变量。"
   ]
  },
  {
   "cell_type": "markdown",
   "metadata": {},
   "source": [
    " - 在python中实际又是怎么样的呢？\n",
    "\n",
    "      先看一个简单的例子："
   ]
  },
  {
   "cell_type": "code",
   "execution_count": 40,
   "metadata": {},
   "outputs": [],
   "source": [
    "def test(c):\n",
    "    print(\"test before \")\n",
    "    print(id(c))\n",
    "    c+=2\n",
    "    print(\"test after +\")\n",
    "    print(id(c))\n",
    "    return c"
   ]
  },
  {
   "cell_type": "code",
   "execution_count": 41,
   "metadata": {},
   "outputs": [
    {
     "name": "stdout",
     "output_type": "stream",
     "text": [
      "No.1 140719344239432\n",
      "test before \n",
      "140719344239432\n",
      "test after +\n",
      "140719344239496\n",
      "No.2 140719344239432\n",
      "id n 140719344239496\n"
     ]
    }
   ],
   "source": [
    "a = 2\n",
    "print(\"No.1\",id(a))\n",
    "n = test(a)\n",
    "print(\"No.2\",id(a))\n",
    "print(\"id n\",id(n))"
   ]
  },
  {
   "cell_type": "markdown",
   "metadata": {},
   "source": [
    " - 再看一个简单的例子："
   ]
  },
  {
   "cell_type": "code",
   "execution_count": 44,
   "metadata": {},
   "outputs": [],
   "source": [
    "def test(list2):\n",
    "    print(\"test before \",end=\"\")\n",
    "    print(id(list2))\n",
    "    list2[1]=30\n",
    "    print(\"test after +\",end=\"\")\n",
    "    print(id(list2))\n",
    "    return list2"
   ]
  },
  {
   "cell_type": "code",
   "execution_count": 45,
   "metadata": {},
   "outputs": [
    {
     "name": "stdout",
     "output_type": "stream",
     "text": [
      "函数调用之之前list1: ['loleina', 25, 'female']\n",
      "main before invoke test：1497436953408\n",
      "test before 1497436953408\n",
      "test after +1497437442240\n",
      "main afterf invoke test:1497436953408\n",
      "函数调用之后list1: ['loleina', 25, 'female']\n"
     ]
    }
   ],
   "source": [
    "list1=[\"loleina\",25,'female']\n",
    "print(\"函数调用之之前list1:\",list1)\n",
    "print(\"main before invoke test：\",end=\"\")\n",
    "print(id(list1))\n",
    "list3=test(list1)\n",
    "print(\"main afterf invoke test:\",end=\"\")\n",
    "print(id(list1))\n",
    "print(\"函数调用之后list1:\",list1)"
   ]
  },
  {
   "cell_type": "markdown",
   "metadata": {},
   "source": [
    "- 发现？\n",
    "    - 一样的传值，而第二个变量居然变化，为啥呢？\n",
    "    - 实际上是因为python中的序列：列表是一个可变的对象，就基于list1=[1,2] list1[0]=[0]这样前后的查看list1的内存地址，是一样的。\n"
   ]
  },
  {
   "cell_type": "markdown",
   "metadata": {},
   "source": [
    "#### 结论：传对象引用\n",
    "- python不允许程序员选择采用传值还是传引用。Python参数传递采用的肯定是“传对象引用”的方式。这种方式相当于传值和传引用的一种综合。\n",
    "- 如果函数收到的是一个可变对象（比如字典或者列表）的引用，就能修改对象的原始值－－相当于通过“传引用”来传递对象。\n",
    "- 如果函数收到的是一个不可变对象（比如数字、字符或者元组）的引用，就不能直接修改原始对象－－相当于通过“传值'来传递对象。\n"
   ]
  },
  {
   "cell_type": "code",
   "execution_count": null,
   "metadata": {},
   "outputs": [],
   "source": [
    "def adds(lista):\n",
    "    lista[2] = lista[0]+lista[1]\n",
    "    "
   ]
  },
  {
   "cell_type": "code",
   "execution_count": null,
   "metadata": {},
   "outputs": [],
   "source": [
    "listb = [1,2,0]\n",
    "print(listb)\n",
    "adds(listb)\n",
    "print(listb)"
   ]
  },
  {
   "cell_type": "markdown",
   "metadata": {},
   "source": [
    "[返回目录](#mulu7)"
   ]
  },
  {
   "cell_type": "markdown",
   "metadata": {
    "tags": []
   },
   "source": [
    "## <font size=5><span id=\"7.3\"> 7.3 函数要素之的返回值</span></font>"
   ]
  },
  {
   "cell_type": "markdown",
   "metadata": {},
   "source": [
    "### 7.3.1 返回语句 —— `return`\n",
    "\n",
    "- 函数体中定义 `return` 语句\n",
    "- 可不止一处"
   ]
  },
  {
   "cell_type": "markdown",
   "metadata": {},
   "source": [
    "#### 例 返回两倍\n",
    "\n",
    "- 注意参数类型对结果的影响"
   ]
  },
  {
   "cell_type": "code",
   "execution_count": 46,
   "metadata": {},
   "outputs": [],
   "source": [
    "def DoubleParameter(para):\n",
    "    return(para*2)"
   ]
  },
  {
   "cell_type": "code",
   "execution_count": 47,
   "metadata": {},
   "outputs": [
    {
     "data": {
      "text/plain": [
       "'Double this string. Double this string. '"
      ]
     },
     "execution_count": 47,
     "metadata": {},
     "output_type": "execute_result"
    }
   ],
   "source": [
    "dblStr = DoubleParameter(\"Double this string. \")\n",
    "dblStr"
   ]
  },
  {
   "cell_type": "code",
   "execution_count": 48,
   "metadata": {},
   "outputs": [
    {
     "data": {
      "text/plain": [
       "20"
      ]
     },
     "execution_count": 48,
     "metadata": {},
     "output_type": "execute_result"
    }
   ],
   "source": [
    "dblInt = DoubleParameter(10)\n",
    "dblInt"
   ]
  },
  {
   "cell_type": "code",
   "execution_count": 49,
   "metadata": {},
   "outputs": [
    {
     "data": {
      "text/plain": [
       "2.46"
      ]
     },
     "execution_count": 49,
     "metadata": {},
     "output_type": "execute_result"
    }
   ],
   "source": [
    "dblFloat = DoubleParameter(1.23)\n",
    "dblFloat"
   ]
  },
  {
   "cell_type": "code",
   "execution_count": 50,
   "metadata": {},
   "outputs": [],
   "source": [
    "dblFloat = 2.4"
   ]
  },
  {
   "cell_type": "code",
   "execution_count": 51,
   "metadata": {},
   "outputs": [
    {
     "data": {
      "text/plain": [
       "4.8"
      ]
     },
     "execution_count": 51,
     "metadata": {},
     "output_type": "execute_result"
    }
   ],
   "source": [
    "dblFloat = DoubleParameter(dblFloat)\n",
    "dblFloat"
   ]
  },
  {
   "cell_type": "markdown",
   "metadata": {},
   "source": [
    "### 7.3.2 多个返回值"
   ]
  },
  {
   "cell_type": "markdown",
   "metadata": {},
   "source": [
    "#### 例 返回的是元组"
   ]
  },
  {
   "cell_type": "code",
   "execution_count": 52,
   "metadata": {},
   "outputs": [],
   "source": [
    "# 定义函数\n",
    "def title_upper_case(str1, str2):\n",
    "    ret_str1 = str1.title() # 标题化，首字母大写\n",
    "    ret_str2 = str2.upper() # 全大写\n",
    "    return ret_str1, ret_str2  #异质数据"
   ]
  },
  {
   "cell_type": "code",
   "execution_count": 54,
   "metadata": {
    "scrolled": true
   },
   "outputs": [
    {
     "name": "stdout",
     "output_type": "stream",
     "text": [
      "Hello WORLD!\n"
     ]
    }
   ],
   "source": [
    "# 多返回\n",
    "retStr1, retStr2 = title_upper_case(\"hello\", \"world!\")\n",
    "print(retStr1 + ' ' + retStr2)"
   ]
  },
  {
   "cell_type": "code",
   "execution_count": 55,
   "metadata": {},
   "outputs": [
    {
     "name": "stdout",
     "output_type": "stream",
     "text": [
      "Hello WORLD!\n"
     ]
    }
   ],
   "source": [
    "# 单元组形式结果返回\n",
    "retStrs = title_upper_case(\"hello\", \"world!\")\n",
    "print(retStrs[0] + ' ' + retStrs[1])\n"
   ]
  },
  {
   "cell_type": "code",
   "execution_count": 56,
   "metadata": {},
   "outputs": [
    {
     "data": {
      "text/plain": [
       "('Hello', 'WORLD!')"
      ]
     },
     "execution_count": 56,
     "metadata": {},
     "output_type": "execute_result"
    }
   ],
   "source": [
    "retStrs"
   ]
  },
  {
   "cell_type": "markdown",
   "metadata": {},
   "source": [
    "#### 例 多种返回选项"
   ]
  },
  {
   "cell_type": "code",
   "execution_count": 57,
   "metadata": {},
   "outputs": [],
   "source": [
    "def title_upper_case_multi_return(title_str=None, upper_str=None):\n",
    "    \"\"\"\n",
    "    title_str:首字母大写\n",
    "    upper_str:全部大写\n",
    "    \"\"\"\n",
    "\n",
    "    # Title case  如果有字符串\n",
    "    if title_str is not None:\n",
    "        titled_str = title_str.title()  #title()首字母大写\n",
    "        if upper_str == None:   #如果后一个是空，直接退出函数\n",
    "            return titled_str\n",
    "    \n",
    "    # Upper case\n",
    "    uppered_str = upper_str.upper()\n",
    "    \n",
    "    if title_str is None: # 前一字符串为空时\n",
    "        return uppered_str\n",
    "    \n",
    "    return titled_str, uppered_str"
   ]
  },
  {
   "cell_type": "code",
   "execution_count": 58,
   "metadata": {},
   "outputs": [
    {
     "name": "stdout",
     "output_type": "stream",
     "text": [
      "Title This\n",
      "UPPER THIS\n",
      "('Title This', 'UPPER THIS')\n"
     ]
    }
   ],
   "source": [
    "retStr1 = title_upper_case_multi_return(\"title this\")\n",
    "retStr2 = title_upper_case_multi_return(upper_str=\"upper this\")\n",
    "retStr3 = title_upper_case_multi_return(\"title this\", \"upper this\")\n",
    "\n",
    "\n",
    "print(retStr1)\n",
    "print(retStr2)\n",
    "print(retStr3)"
   ]
  },
  {
   "cell_type": "code",
   "execution_count": null,
   "metadata": {},
   "outputs": [],
   "source": [
    "#retStr3 = title_upper_case_multi_return()"
   ]
  },
  {
   "cell_type": "markdown",
   "metadata": {},
   "source": [
    "### 7.3.3 忽略返回值"
   ]
  },
  {
   "cell_type": "markdown",
   "metadata": {},
   "source": [
    "#### 例 逆向拆解字符串的例子\n",
    "\n",
    "\n",
    "- 说明\n",
    "    - rpartition() 方法类似于 partition() 方法，但是它从目标字符串的末尾也就是右边开始搜索分割符\n",
    "    - 如果字符串包含指定的分隔符，则返回一个长度为 3 的元组\n",
    "        - 第一个返回值为分隔符左边的子串\n",
    "        - 第二个为分隔符本身\n",
    "        - 第三个为分隔符右边的子串"
   ]
  },
  {
   "cell_type": "code",
   "execution_count": null,
   "metadata": {},
   "outputs": [],
   "source": [
    "def ReversePartition(file_dot_ext = 'foobar.txt'):\n",
    "    filename,__,ext = file_dot_ext.rpartition('.')\n",
    "    print(\"filename: \" + filename)\n",
    "    print(\"extension: \" + ext)"
   ]
  },
  {
   "cell_type": "code",
   "execution_count": null,
   "metadata": {},
   "outputs": [],
   "source": [
    "#解释一下\n",
    "'foobar.txt'.rpartition('.')"
   ]
  },
  {
   "cell_type": "code",
   "execution_count": null,
   "metadata": {},
   "outputs": [],
   "source": [
    "ReversePartition(\"report.ppt\")"
   ]
  },
  {
   "cell_type": "code",
   "execution_count": null,
   "metadata": {},
   "outputs": [],
   "source": [
    "ReversePartition(\"conference.report.ppt\")"
   ]
  },
  {
   "cell_type": "markdown",
   "metadata": {},
   "source": [
    "#### 例 求复数的模和幅角"
   ]
  },
  {
   "cell_type": "code",
   "execution_count": 61,
   "metadata": {},
   "outputs": [],
   "source": [
    "## 复数求模和角度？\n",
    "def amp_ang(real=10,imag=10):\n",
    "    import math\n",
    "    amp = math.sqrt(real**2+imag**2)\n",
    "    ang = math.atan(imag/real)\n",
    "    ang = math.degrees(ang)\n",
    "    return(amp,ang)"
   ]
  },
  {
   "cell_type": "code",
   "execution_count": null,
   "metadata": {},
   "outputs": [],
   "source": [
    "# 获取双返回结果\n",
    "amp, ang = amp_ang(3,4)\n",
    "print(amp,ang)"
   ]
  },
  {
   "cell_type": "code",
   "execution_count": 62,
   "metadata": {},
   "outputs": [
    {
     "data": {
      "text/plain": [
       "5.0"
      ]
     },
     "execution_count": 62,
     "metadata": {},
     "output_type": "execute_result"
    }
   ],
   "source": [
    "# 获取头部返回结果，注意 `__`的占位符作用\n",
    "amp1, __ = amp_ang(3,4)\n",
    "amp1"
   ]
  },
  {
   "cell_type": "code",
   "execution_count": null,
   "metadata": {},
   "outputs": [],
   "source": [
    "# 获取尾部返回结果\n",
    "__, ang1 = amp_ang(3,4)\n",
    "ang1"
   ]
  },
  {
   "cell_type": "code",
   "execution_count": null,
   "metadata": {},
   "outputs": [],
   "source": [
    "amp, ang = amp_ang(0,3) # 除零错误提示"
   ]
  },
  {
   "cell_type": "code",
   "execution_count": null,
   "metadata": {},
   "outputs": [],
   "source": [
    "# 改进，多返回语句\n",
    "def amp_ang_improve(real=10, imag=10):\n",
    "    import math\n",
    "    amp = math.sqrt(real**2+imag**2)\n",
    "\n",
    "    if real==0:\n",
    "        return (amp, math.nan)\n",
    "    \n",
    "    ang = math.atan(imag/real)\n",
    "    ang = math.degrees(ang)\n",
    "    \n",
    "    return(amp, ang)"
   ]
  },
  {
   "cell_type": "code",
   "execution_count": null,
   "metadata": {},
   "outputs": [],
   "source": [
    "amp, ang = amp_ang_improve(0,3)\n",
    "amp, ang"
   ]
  },
  {
   "cell_type": "code",
   "execution_count": null,
   "metadata": {},
   "outputs": [],
   "source": [
    "# 统计一个若干个列表中每个列表的数平均值和最大最小值，并输出\n",
    "def stat_list1(*alllist):\n",
    "    list_num = len(alllist)\n",
    "    mean_list, sum_list, max_list, min_list = [], [], [], []\n",
    "\n",
    "    for each in alllist:\n",
    "        mean_list.append(sum(each)/len(each))\n",
    "        sum_list.append(sum(each))\n",
    "        max_list.append(max(each))\n",
    "        min_list.append(min(each))\n",
    "\n",
    "    return mean_list,sum_list,max_list,min_list"
   ]
  },
  {
   "cell_type": "code",
   "execution_count": null,
   "metadata": {},
   "outputs": [],
   "source": [
    "list1 = [1,2,3,4,6]\n",
    "list2 = [5,7,8,9,10]\n",
    "list3 = [3,4,5,6,7,8,9,10]\n",
    "v,s,mx,mn = stat_list1(list1, list2, list3)"
   ]
  },
  {
   "cell_type": "code",
   "execution_count": null,
   "metadata": {},
   "outputs": [],
   "source": [
    "v,s,mx,mn"
   ]
  },
  {
   "cell_type": "markdown",
   "metadata": {},
   "source": [
    "[返回目录](#mulu7)"
   ]
  },
  {
   "cell_type": "markdown",
   "metadata": {
    "tags": [],
    "toc-hr-collapsed": true
   },
   "source": [
    "## <font size=5><span id=\"7.4\"> 7.4 函数要素之注解</span></font>\n",
    "\n",
    "- 函数注解 —— 以字典方式 贮存在 \\__annotations\\__ 属性中\n",
    "- 参数注解 —— 参数名后置冒号`:` 然后给出参数注解\n",
    "- 返回值注解 —— 由符号 \"->\" 定义"
   ]
  },
  {
   "cell_type": "markdown",
   "metadata": {},
   "source": [
    "#### 例 函数中使用注解的示例"
   ]
  },
  {
   "cell_type": "code",
   "execution_count": null,
   "metadata": {},
   "outputs": [],
   "source": [
    "def Function_with_Annotation(ham: str, eggs: str = 'eggs') -> str: #不是强制的，说明性的\n",
    "    print(\"Annotations:\", Function_with_Annotation.__annotations__) # 函数属性 __annotations__\n",
    "\n",
    "    return ham + ' and ' + eggs"
   ]
  },
  {
   "cell_type": "code",
   "execution_count": null,
   "metadata": {},
   "outputs": [],
   "source": [
    "Function_with_Annotation.__annotations__"
   ]
  },
  {
   "cell_type": "code",
   "execution_count": 63,
   "metadata": {},
   "outputs": [],
   "source": [
    "def sum_(a, b: int, c: 'The default value is 5' = 5) -> float:\n",
    "    return a + b + c"
   ]
  },
  {
   "cell_type": "code",
   "execution_count": 64,
   "metadata": {},
   "outputs": [
    {
     "data": {
      "text/plain": [
       "{'b': int, 'c': 'The default value is 5', 'return': float}"
      ]
     },
     "execution_count": 64,
     "metadata": {},
     "output_type": "execute_result"
    }
   ],
   "source": [
    "sum_.__annotations__"
   ]
  },
  {
   "cell_type": "code",
   "execution_count": 65,
   "metadata": {},
   "outputs": [
    {
     "data": {
      "text/plain": [
       "6.5"
      ]
     },
     "execution_count": 65,
     "metadata": {},
     "output_type": "execute_result"
    }
   ],
   "source": [
    "sum_(1, 2.5, 3)"
   ]
  },
  {
   "cell_type": "code",
   "execution_count": null,
   "metadata": {},
   "outputs": [],
   "source": [
    "sum_(1, 2)"
   ]
  },
  {
   "cell_type": "code",
   "execution_count": null,
   "metadata": {},
   "outputs": [],
   "source": [
    "# 第一个参数 a 没有注释，\n",
    "# 第二个参数 b 带有类型为 int 的注释，\n",
    "# 第三个参数 c 带有一个帮助字符串注释并且拥有默认值，\n",
    "# 返回值用类型 float 来注释。"
   ]
  },
  {
   "cell_type": "code",
   "execution_count": 66,
   "metadata": {},
   "outputs": [
    {
     "data": {
      "text/plain": [
       "'I love Tongji Univ.'"
      ]
     },
     "execution_count": 66,
     "metadata": {},
     "output_type": "execute_result"
    }
   ],
   "source": [
    "sum_('I love ', 'Tongji ', 'Univ.')"
   ]
  },
  {
   "cell_type": "code",
   "execution_count": null,
   "metadata": {},
   "outputs": [],
   "source": [
    "# 显然，注释对函数的执行没有任何影响。在这两种情况下，sum() 都做了正确的事情，只不过注释被忽略了而已。"
   ]
  },
  {
   "cell_type": "code",
   "execution_count": null,
   "metadata": {},
   "outputs": [],
   "source": [
    "type(sum_.__annotations__)"
   ]
  },
  {
   "cell_type": "code",
   "execution_count": null,
   "metadata": {},
   "outputs": [],
   "source": [
    "sum_.__annotations__"
   ]
  },
  {
   "cell_type": "code",
   "execution_count": null,
   "metadata": {},
   "outputs": [],
   "source": [
    "### 编一个函数triangle，求3个数能否构成三角形变成\n",
    "### 要求编写函数注解\n",
    "def triangle(a:'postive int or float',b:'int or float',c:'int or float')->bool:\n",
    "    if a+b>c and a+c>b and b+c>a:\n",
    "        print(\"可以构成三角形\")\n",
    "        return True\n",
    "    else:\n",
    "        print(\"不可以构成三角形\")\n",
    "        return False\n",
    "    pass"
   ]
  },
  {
   "cell_type": "markdown",
   "metadata": {},
   "source": [
    "[返回目录](#mulu7)"
   ]
  },
  {
   "cell_type": "markdown",
   "metadata": {
    "tags": [],
    "toc-hr-collapsed": true
   },
   "source": [
    "## <font size=5><span id=\"7.5\"> 7.5 匿名函数 —— `lambda` 表达式</span></font>\n",
    "\n",
    "\n",
    "\n",
    "- 语法\n",
    "```python\n",
    ">>> lambda arg1 [,arg2,.....argn]:expression\n",
    "```\n",
    "\n",
    "\n",
    "- 作用\n",
    "    - 生成匿名函数 —— 无须命名\n",
    "    - 灵活函数\n",
    "    - 高效率函数 （不占用栈内存）\n",
    "    \n",
    "    \n",
    "- 规则\n",
    "    - `lambda` 的主体是一个表达式，而不是一个代码块\n",
    "    - 拥有自己的命名空间，不能访问外部参数"
   ]
  },
  {
   "cell_type": "markdown",
   "metadata": {},
   "source": [
    "#### 例 lambda 定义的相加函数"
   ]
  },
  {
   "cell_type": "code",
   "execution_count": 1,
   "metadata": {},
   "outputs": [],
   "source": [
    "# 定义匿名函数 add\n",
    "add = lambda arg1, arg2: arg1 + arg2"
   ]
  },
  {
   "cell_type": "code",
   "execution_count": 2,
   "metadata": {},
   "outputs": [
    {
     "data": {
      "text/plain": [
       "function"
      ]
     },
     "execution_count": 2,
     "metadata": {},
     "output_type": "execute_result"
    }
   ],
   "source": [
    "type(add)"
   ]
  },
  {
   "cell_type": "code",
   "execution_count": 3,
   "metadata": {},
   "outputs": [
    {
     "name": "stdout",
     "output_type": "stream",
     "text": [
      "相加后的值为 :  30\n"
     ]
    }
   ],
   "source": [
    "print(\"相加后的值为 : \", add( 10, 20 ))"
   ]
  },
  {
   "cell_type": "markdown",
   "metadata": {},
   "source": [
    "#### 例 lambda 定义的简单函数"
   ]
  },
  {
   "cell_type": "code",
   "execution_count": 4,
   "metadata": {},
   "outputs": [],
   "source": [
    "neg = lambda arg: -arg"
   ]
  },
  {
   "cell_type": "code",
   "execution_count": 5,
   "metadata": {},
   "outputs": [
    {
     "data": {
      "text/plain": [
       "-123"
      ]
     },
     "execution_count": 5,
     "metadata": {},
     "output_type": "execute_result"
    }
   ],
   "source": [
    "neg(123)"
   ]
  },
  {
   "cell_type": "markdown",
   "metadata": {},
   "source": [
    "#### 例 lambda 定义中使用 `if` 条件判断"
   ]
  },
  {
   "cell_type": "code",
   "execution_count": 6,
   "metadata": {},
   "outputs": [],
   "source": [
    "MAX = lambda a, b: a if a>b else b"
   ]
  },
  {
   "cell_type": "code",
   "execution_count": 7,
   "metadata": {},
   "outputs": [
    {
     "data": {
      "text/plain": [
       "5"
      ]
     },
     "execution_count": 7,
     "metadata": {},
     "output_type": "execute_result"
    }
   ],
   "source": [
    "MAX(5,3)"
   ]
  },
  {
   "cell_type": "code",
   "execution_count": 8,
   "metadata": {},
   "outputs": [
    {
     "name": "stdout",
     "output_type": "stream",
     "text": [
      "28\n"
     ]
    }
   ],
   "source": [
    "## 课堂演示\n",
    "## 编一个lambda函数 y = 2*x^2+3*x+1\n",
    "y = lambda x: 2*(x**2)+3*x+1\n",
    "print(y(3))"
   ]
  },
  {
   "cell_type": "code",
   "execution_count": 9,
   "metadata": {},
   "outputs": [
    {
     "name": "stdout",
     "output_type": "stream",
     "text": [
      "13\n"
     ]
    }
   ],
   "source": [
    "## 课堂演示\n",
    "## 编一个lambda函数 z = x^2+y^2\n",
    "z = lambda x, y: x**2+y**2\n",
    "print(z(2,3))"
   ]
  },
  {
   "cell_type": "code",
   "execution_count": 10,
   "metadata": {},
   "outputs": [],
   "source": [
    "# 作业答案讲解-lambda\n",
    "# 有如下词典，请输出信息，并按照生日有小到大排序输出\n",
    "dictperson = {\n",
    "    \"张三\":\"422413198908284321\",\n",
    "    \"李四\":\"12343120090228335X\",\n",
    "    \"赵五\":\"32263219991230551X\",\n",
    "    \"孙六\":\"110329202110013219\"\n",
    "}"
   ]
  },
  {
   "cell_type": "code",
   "execution_count": 12,
   "metadata": {},
   "outputs": [
    {
     "data": {
      "text/plain": [
       "[('张三', '422413198908284321'),\n",
       " ('李四', '12343120090228335X'),\n",
       " ('赵五', '32263219991230551X'),\n",
       " ('孙六', '110329202110013219')]"
      ]
     },
     "execution_count": 12,
     "metadata": {},
     "output_type": "execute_result"
    }
   ],
   "source": [
    "list(zip(dictperson.keys(),dictperson.values()))"
   ]
  },
  {
   "cell_type": "code",
   "execution_count": 13,
   "metadata": {},
   "outputs": [
    {
     "name": "stdout",
     "output_type": "stream",
     "text": [
      "Help on built-in function sorted in module builtins:\n",
      "\n",
      "sorted(iterable, /, *, key=None, reverse=False)\n",
      "    Return a new list containing all items from the iterable in ascending order.\n",
      "    \n",
      "    A custom key function can be supplied to customize the sort order, and the\n",
      "    reverse flag can be set to request the result in descending order.\n",
      "\n"
     ]
    }
   ],
   "source": [
    "help(sorted)"
   ]
  },
  {
   "cell_type": "code",
   "execution_count": 14,
   "metadata": {},
   "outputs": [
    {
     "name": "stdout",
     "output_type": "stream",
     "text": [
      "('张三', '422413198908284321')\n",
      "('赵五', '32263219991230551X')\n",
      "('李四', '12343120090228335X')\n",
      "('孙六', '110329202110013219')\n"
     ]
    }
   ],
   "source": [
    "for each in sorted(list(zip(dictperson.keys(),dictperson.values())),\n",
    "                   key=lambda x:x[1][6:14], reverse=False):\n",
    "   print(each)"
   ]
  },
  {
   "cell_type": "markdown",
   "metadata": {},
   "source": [
    "[返回目录](#mulu7)"
   ]
  },
  {
   "cell_type": "markdown",
   "metadata": {
    "toc-hr-collapsed": true
   },
   "source": [
    "## <font size=5><span id=\"7.6\"> 7.6 特殊内置函数 —— `filter()` 和 `map()`</span></font>"
   ]
  },
  {
   "cell_type": "markdown",
   "metadata": {},
   "source": [
    "### 7.6.1  过滤器函数 —— `filter()`\n",
    "\n",
    "\n",
    "- 语法\n",
    "```python\n",
    ">>> filter(function or None, iterable) --> filter object\n",
    "```\n",
    "\n",
    "\n",
    "- 作用\n",
    "    - 保留关注的信息，不感兴趣的去掉\n",
    "\n",
    "\n",
    "\n",
    "- 参数\n",
    "    - function or None\n",
    "        - 作为过滤函数\n",
    "        - 如果为 `None`，则筛选出第二个参数中的全部 `True` 值\n",
    "    - iterable —— 可迭代对象（容器）\n",
    "    <img src = \"images\\chapter05\\input_figure.png\" width = 400>"
   ]
  },
  {
   "cell_type": "markdown",
   "metadata": {},
   "source": [
    "#### 例 提取容器中的真值\n",
    "\n",
    "- True、非零、非空字符串、非零字符"
   ]
  },
  {
   "cell_type": "code",
   "execution_count": 15,
   "metadata": {},
   "outputs": [
    {
     "data": {
      "text/plain": [
       "[1, -1, True]"
      ]
     },
     "execution_count": 15,
     "metadata": {},
     "output_type": "execute_result"
    }
   ],
   "source": [
    "true_values = filter(None,[1, 0, -1, False, \"\", True,  ord('\\0')]) # 注 ord 获取 ASCII 码\n",
    "list(true_values)"
   ]
  },
  {
   "cell_type": "code",
   "execution_count": null,
   "metadata": {},
   "outputs": [],
   "source": [
    "filter??"
   ]
  },
  {
   "cell_type": "code",
   "execution_count": null,
   "metadata": {},
   "outputs": [],
   "source": [
    "true_values"
   ]
  },
  {
   "cell_type": "markdown",
   "metadata": {},
   "source": [
    "#### 例 筛选奇数的过滤器"
   ]
  },
  {
   "cell_type": "code",
   "execution_count": 17,
   "metadata": {},
   "outputs": [
    {
     "data": {
      "text/plain": [
       "[1, 3, 5, 7, 9]"
      ]
     },
     "execution_count": 17,
     "metadata": {},
     "output_type": "execute_result"
    }
   ],
   "source": [
    "list(filter(lambda x:x%2==1, range(0,10)))"
   ]
  },
  {
   "cell_type": "code",
   "execution_count": 18,
   "metadata": {},
   "outputs": [
    {
     "name": "stdout",
     "output_type": "stream",
     "text": [
      "1  3  5  7  9  "
     ]
    }
   ],
   "source": [
    "for each in filter(lambda x:x%2, range(0,10)):\n",
    "    print(each, end=\"  \")"
   ]
  },
  {
   "cell_type": "code",
   "execution_count": 19,
   "metadata": {
    "scrolled": true
   },
   "outputs": [
    {
     "data": {
      "text/plain": [
       "[1,\n",
       " 2,\n",
       " 3,\n",
       " 4,\n",
       " 5,\n",
       " 6,\n",
       " 8,\n",
       " 9,\n",
       " 10,\n",
       " 11,\n",
       " 12,\n",
       " 13,\n",
       " 15,\n",
       " 16,\n",
       " 18,\n",
       " 19,\n",
       " 20,\n",
       " 22,\n",
       " 23,\n",
       " 24,\n",
       " 25,\n",
       " 26,\n",
       " 29,\n",
       " 30,\n",
       " 31,\n",
       " 32,\n",
       " 33,\n",
       " 34,\n",
       " 36,\n",
       " 38,\n",
       " 39,\n",
       " 40,\n",
       " 41,\n",
       " 43,\n",
       " 44,\n",
       " 45,\n",
       " 46,\n",
       " 48,\n",
       " 50,\n",
       " 51,\n",
       " 52,\n",
       " 53,\n",
       " 54,\n",
       " 55,\n",
       " 58,\n",
       " 59,\n",
       " 60,\n",
       " 61,\n",
       " 62,\n",
       " 64,\n",
       " 65,\n",
       " 66,\n",
       " 68,\n",
       " 69,\n",
       " 80,\n",
       " 81,\n",
       " 82,\n",
       " 83,\n",
       " 85,\n",
       " 86,\n",
       " 88,\n",
       " 89,\n",
       " 90,\n",
       " 92,\n",
       " 93,\n",
       " 94,\n",
       " 95,\n",
       " 96,\n",
       " 99]"
      ]
     },
     "execution_count": 19,
     "metadata": {},
     "output_type": "execute_result"
    }
   ],
   "source": [
    "# 如何写一个过滤器，过滤掉一个序列中含数字7以及7的倍数的过滤器\n",
    "# Think 3min\n",
    "\n",
    "\n",
    "\n",
    "\n",
    "\n",
    "\n",
    "\n",
    "\n",
    "\n",
    "\n",
    "list(filter(lambda x: not (x%7==0 or '7' in str(x)), range(0,100)))"
   ]
  },
  {
   "cell_type": "code",
   "execution_count": null,
   "metadata": {},
   "outputs": [],
   "source": [
    "# 如何写一个过滤器，过滤掉一个序列中含数字7以及7的倍数的过滤器\n",
    "# Think 3min\n",
    "def is7(x):\n",
    "    return not(x%7==0 or '7' in str(x))\n",
    "\n",
    "\n",
    "\n",
    "list(filter(is7, range(0,100)))"
   ]
  },
  {
   "cell_type": "markdown",
   "metadata": {},
   "source": [
    "### 7.6.2 映射函数 —— `map()`\n",
    "\n",
    "- 语法\n",
    "```python\n",
    ">>> map(func, *iterables) --> map object\n",
    "```\n",
    "\n",
    "\n",
    "- 作用\n",
    "    - 将容器映射成新的容器\n",
    "\n",
    "\n",
    "- 参数\n",
    "    - func —— 映射函数\n",
    "    - iterables —— 源-可迭代的容器\n",
    "    \n",
    "\n",
    "- 返回值\n",
    "    - 映射得到的像"
   ]
  },
  {
   "cell_type": "markdown",
   "metadata": {},
   "source": [
    "\n",
    "<img src = \"images\\chapter05\\map_figure.png\" width = 500>"
   ]
  },
  {
   "cell_type": "markdown",
   "metadata": {},
   "source": [
    "#### 例 平方映射"
   ]
  },
  {
   "cell_type": "code",
   "execution_count": 21,
   "metadata": {},
   "outputs": [
    {
     "data": {
      "text/plain": [
       "[0, 1, 2, 3, 4, 5, 6, 7, 8, 9]"
      ]
     },
     "execution_count": 21,
     "metadata": {},
     "output_type": "execute_result"
    }
   ],
   "source": [
    "source = range(10)\n",
    "list(source)"
   ]
  },
  {
   "cell_type": "code",
   "execution_count": 23,
   "metadata": {},
   "outputs": [],
   "source": [
    "func = lambda x:x**2"
   ]
  },
  {
   "cell_type": "code",
   "execution_count": 24,
   "metadata": {},
   "outputs": [
    {
     "data": {
      "text/plain": [
       "<map at 0x195bbce3dc0>"
      ]
     },
     "execution_count": 24,
     "metadata": {},
     "output_type": "execute_result"
    }
   ],
   "source": [
    "image = map(func, source)\n",
    "image"
   ]
  },
  {
   "cell_type": "code",
   "execution_count": 25,
   "metadata": {},
   "outputs": [
    {
     "data": {
      "text/plain": [
       "[0, 1, 4, 9, 16, 25, 36, 49, 64, 81]"
      ]
     },
     "execution_count": 25,
     "metadata": {},
     "output_type": "execute_result"
    }
   ],
   "source": [
    "list(image)"
   ]
  },
  {
   "cell_type": "markdown",
   "metadata": {},
   "source": [
    "#### 例 取绝对值"
   ]
  },
  {
   "cell_type": "code",
   "execution_count": 26,
   "metadata": {},
   "outputs": [
    {
     "data": {
      "text/plain": [
       "[3, 2, 0, 9, 6, 2, 9]"
      ]
     },
     "execution_count": 26,
     "metadata": {},
     "output_type": "execute_result"
    }
   ],
   "source": [
    "# 注意函数 lambda x:x if x>=0 else -x\n",
    "list(map(lambda x:x if x>=0 else -x, [3,-2, 0, 9, 6, -2, -9]))"
   ]
  },
  {
   "cell_type": "code",
   "execution_count": 27,
   "metadata": {},
   "outputs": [
    {
     "data": {
      "text/plain": [
       "1"
      ]
     },
     "execution_count": 27,
     "metadata": {},
     "output_type": "execute_result"
    }
   ],
   "source": [
    "abs(-1)"
   ]
  },
  {
   "cell_type": "code",
   "execution_count": 28,
   "metadata": {},
   "outputs": [
    {
     "data": {
      "text/plain": [
       "[3, 2, 0, 9, 6, 2, 9]"
      ]
     },
     "execution_count": 28,
     "metadata": {},
     "output_type": "execute_result"
    }
   ],
   "source": [
    "list(map(abs, [3,-2, 0, 9, 6, -2, -9])) #系统函数"
   ]
  },
  {
   "cell_type": "code",
   "execution_count": 30,
   "metadata": {},
   "outputs": [],
   "source": [
    "def fabs(a):\n",
    "    if a < 0:\n",
    "        a = - a\n",
    "    return a"
   ]
  },
  {
   "cell_type": "code",
   "execution_count": 31,
   "metadata": {},
   "outputs": [
    {
     "data": {
      "text/plain": [
       "[3, 2, 0, 9, 6, 2, 9]"
      ]
     },
     "execution_count": 31,
     "metadata": {},
     "output_type": "execute_result"
    }
   ],
   "source": [
    "list(map(fabs, [3,-2, 0, 9, 6, -2, -9])) #自编函数"
   ]
  },
  {
   "cell_type": "code",
   "execution_count": null,
   "metadata": {},
   "outputs": [],
   "source": []
  },
  {
   "cell_type": "markdown",
   "metadata": {},
   "source": [
    "[返回目录](#mulu7)"
   ]
  },
  {
   "cell_type": "markdown",
   "metadata": {
    "tags": [],
    "toc-hr-collapsed": true
   },
   "source": [
    "## <font size=5><span id=\"7.7\"> 7.7 全局变量、局部变量与关键字 `global`</span></font>\n",
    "\n",
    "- 定义在 函数内 的变量称为`局部变量`，它拥有`局部作用域`\n",
    "- 定义在 函数外 的变量称为`全局变量`，它拥有`全局作用域`\n",
    "- 变量的作用域决定了在哪一部分程序你可以访问哪个特定的变量名称。 "
   ]
  },
  {
   "cell_type": "markdown",
   "metadata": {},
   "source": [
    "### 7.7.1 全局变量与局部变量的界定\n",
    "\n",
    "\n",
    "- 函数中\n",
    "    - 只访问，不赋值的变量就是全局变量\n",
    "    - 进行赋值的变量是局部变量"
   ]
  },
  {
   "cell_type": "markdown",
   "metadata": {},
   "source": [
    "#### 例 存在全局变量时\n",
    "\n",
    "\n",
    "- 在函数中访问全局变量"
   ]
  },
  {
   "cell_type": "code",
   "execution_count": 32,
   "metadata": {},
   "outputs": [
    {
     "name": "stdout",
     "output_type": "stream",
     "text": [
      "5\n",
      "在函数 VisitGlobalVarible 中，全局变量 count = 5\n",
      "5\n"
     ]
    }
   ],
   "source": [
    "count = 5   # 全局变量\n",
    "\n",
    "def VisitGlobalVarible():\n",
    "    print(\"在函数 VisitGlobalVarible 中，全局变量 count = {0}\".format(count)) # count 是全局变量\n",
    "    \n",
    "print(count) \n",
    "VisitGlobalVarible()\n",
    "print(count)"
   ]
  },
  {
   "cell_type": "markdown",
   "metadata": {},
   "source": [
    "#### 例 全局变量和局部变量同时存在\n",
    "\n",
    "\n",
    "- 在函数中进行赋值的是局部变量"
   ]
  },
  {
   "cell_type": "code",
   "execution_count": 33,
   "metadata": {},
   "outputs": [
    {
     "name": "stdout",
     "output_type": "stream",
     "text": [
      "在函数 TestGlobalAndLocalVariable 外，全局变量 count = 5\n",
      "在函数 TestGlobalAndLocalVariable 中，局部变量 count = 10\n",
      "在函数 TestGlobalAndLocalVariable 外，全局变量 count = 5\n"
     ]
    }
   ],
   "source": [
    "count = 5   # 全局变量\n",
    "\n",
    "def TestGlobalAndLocalVariable():\n",
    "    count = 10  # 函数内发生赋值，count 是局部变量\n",
    "    print(\"在函数 TestGlobalAndLocalVariable 中，局部变量 count = {0}\".format(count)) # count 是局部变量\n",
    "    \n",
    "print(\"在函数 TestGlobalAndLocalVariable 外，全局变量 count = {0}\".format(count)) \n",
    "TestGlobalAndLocalVariable()\n",
    "print(\"在函数 TestGlobalAndLocalVariable 外，全局变量 count = {0}\".format(count)) "
   ]
  },
  {
   "cell_type": "code",
   "execution_count": 34,
   "metadata": {},
   "outputs": [
    {
     "name": "stdout",
     "output_type": "stream",
     "text": [
      "outside 140719498707720\n",
      "函数内是局部变量 :  1000\n",
      "innerside 1742624379088\n",
      "outside 1742624379088\n",
      "函数外是全局变量 :  1000\n"
     ]
    }
   ],
   "source": [
    "total = 0; # 这是一个全局变量\n",
    "print('outside',id(total))\n",
    "# 可写函数说明\n",
    "def Sum( arg1, arg2 ):\n",
    "   #返回2个参数的和.\"\n",
    "    total = arg1 + arg2; # total在这里是局部变量.\n",
    "    print(\"函数内是局部变量 : \", total)\n",
    "    print('innerside',id(total))\n",
    "    return total;\n",
    "\n",
    "#调用sum函数\n",
    "total = Sum( 100, 900 )\n",
    "#total = Sum( 100, 900 )\n",
    "print('outside',id(total))\n",
    "print(\"函数外是全局变量 : \", total)"
   ]
  },
  {
   "cell_type": "code",
   "execution_count": null,
   "metadata": {},
   "outputs": [],
   "source": [
    "total = 10; # 这是一个全局变量\n",
    "#print('outside',id(total))\n",
    "# 可写函数说明\n",
    "def Sum( arg1, arg2 ):\n",
    "   #返回2个参数的和.\"\n",
    "    total = arg1 + arg2; # total在这里是局部变量.\n",
    "    print(\"函数内是局部变量 : \", total)\n",
    "    #print('innerside',id(total))\n",
    "    return total;\n",
    "\n",
    "#调用sum函数\n",
    "Sum( total, 20 );\n",
    "print(\"函数外是全局变量 : \", total)"
   ]
  },
  {
   "cell_type": "code",
   "execution_count": null,
   "metadata": {},
   "outputs": [],
   "source": [
    "total = 10; # 这是一个全局变量\n",
    "#print('outside',id(total))\n",
    "# 可写函数说明\n",
    "def Sum( total, arg2 ):\n",
    "   #返回2个参数的和.\"\n",
    "    total = total + arg2; # total在这里是局部变量.\n",
    "    print(\"函数内是局部变量 : \", total)\n",
    "    #print('innerside',id(total))\n",
    "    return total;\n",
    "\n",
    "#调用sum函数\n",
    "Sum( total, 20 );\n",
    "print(\"函数外是全局变量 : \", total)"
   ]
  },
  {
   "cell_type": "code",
   "execution_count": null,
   "metadata": {},
   "outputs": [],
   "source": []
  },
  {
   "cell_type": "markdown",
   "metadata": {},
   "source": [
    "### 7.7.2 关键字 `global` 的作用 —— 实现在函数中修改全局变量\n",
    "\n",
    "\n",
    "- 问题 —— 如果需要在函数中修改全局变量，就需要关键字 `global`"
   ]
  },
  {
   "cell_type": "markdown",
   "metadata": {},
   "source": [
    "#### 例 关键字 `global` 确定函数中的全局变量属性"
   ]
  },
  {
   "cell_type": "code",
   "execution_count": 35,
   "metadata": {},
   "outputs": [
    {
     "name": "stdout",
     "output_type": "stream",
     "text": [
      "在函数 UseKeywordGlobal 外，全局变量 count = 5\n",
      "在函数 UseKeywordGlobal 中，全局变量 count = 10\n",
      "在函数 UseKeywordGlobal 外，全局变量 count = 10\n"
     ]
    }
   ],
   "source": [
    "count = 5  # 这是一个全局变量\n",
    "\n",
    "def UseKeywordGlobal():   \n",
    "    global count # 指定 count 是全局变量\n",
    "    count = 10\n",
    "    print(\"在函数 UseKeywordGlobal 中，全局变量 count = {0}\".format(count)) # count 是全局变量\n",
    "\n",
    "print(\"在函数 UseKeywordGlobal 外，全局变量 count = {0}\".format(count)) \n",
    "UseKeywordGlobal()\n",
    "print(\"在函数 UseKeywordGlobal 外，全局变量 count = {0}\".format(count)) "
   ]
  },
  {
   "cell_type": "markdown",
   "metadata": {},
   "source": [
    "#### 例 使用与不使用 `global` 关键字的区别"
   ]
  },
  {
   "cell_type": "code",
   "execution_count": null,
   "metadata": {},
   "outputs": [],
   "source": [
    "global_var = 100\n",
    "unknown_var = -99\n",
    "\n",
    "def UseKeyword_global(): # 使用关键字 glbal\n",
    "    global global_var    # 使用 glbal 声明全局变量\n",
    "    global_var *= 2\n",
    "    print(\"在函数 UseKeyword_global 内，全局变量 global_var = {0}\".format(global_var))    \n",
    "    # 尽管函数中修改了，但是配合 global 关键字，global_var 是全局变量\n",
    "\n",
    "def NotUseKeyword_global(): # 不使用关键字 glbal\n",
    "    unknown_var = 123  # 函数中修改了 unknown_var，没有使用 global 关键字，unknown_var 是局部变量\n",
    "    print(\"在函数 unknown_var 内部，unknown_var = {0}，是局部变量\".format(unknown_var))\n",
    "\n",
    "print(\"在调用函数 UseKeyword_global 前，全局变量 global_var = {0}\".format(global_var))\n",
    "UseKeyword_global()       # 输出 200\n",
    "print(\"在调用函数 UseKeyword_global 后，全局变量 global_var = {0}\\n\".format(global_var))\n",
    "\n",
    "print(\"在调用函数 NotUseKeyword_global 前，unknown_var = {0}，是外部变量\".format(unknown_var))\n",
    "NotUseKeyword_global()    # 输出 123\n",
    "print(\"在调用函数 NotUseKeyword_global 后，unknown_var = {0}，是外部变量\".format(unknown_var))"
   ]
  },
  {
   "cell_type": "markdown",
   "metadata": {},
   "source": [
    "- 提问,四次输出分别输出什么？"
   ]
  },
  {
   "cell_type": "code",
   "execution_count": null,
   "metadata": {},
   "outputs": [],
   "source": [
    "count = 5\n",
    "\n",
    "def funhi(count=8):    \n",
    "    print(\"count = {0}\".format(count)) # count\n",
    "    count = 10\n",
    "    print(\"count = {0}\".format(count)) # count\n",
    "\n",
    "print(\"在函数 funhi 外，全局变量 count = {0}\".format(count)) \n",
    "funhi()\n",
    "print(\"在函数 funhi 外，全局变量 count = {0}\".format(count)) "
   ]
  },
  {
   "cell_type": "markdown",
   "metadata": {},
   "source": [
    "### 7.7.3 小结 —— 关于全局变量与局部变量\n",
    "\n",
    "- 全局变量的作用域是整个模块，代码段内的所有函数都可以访问到全局变量\n",
    "- 在函数内部可访问全局变量，尽量不要修改\n",
    "- 一旦修改，函数内部会创建一个名字一模一样的局部变量\n",
    "- 想在函数内修改全局变量，需加 global\n",
    "- 一个 global 语句可以同时定义多个变量，如\n",
    "\n",
    "```python\n",
    ">>> global x, y, z\n",
    "```"
   ]
  },
  {
   "cell_type": "code",
   "execution_count": null,
   "metadata": {},
   "outputs": [],
   "source": [
    "\n",
    "a = 3  #全局\n",
    "\n",
    "def fun(a=4):  # 传引用\n",
    "    #global a  # 此句能不能加？\n",
    "    a += 3\n",
    "    print(a)\n",
    "\n",
    "fun(a)  #a 全局\n",
    "print(a)"
   ]
  },
  {
   "cell_type": "code",
   "execution_count": null,
   "metadata": {},
   "outputs": [],
   "source": [
    "# 回顾上一次课内容，输出几次，结果分别是什么？\n",
    "a = 3\n",
    "\n",
    "def fun(x=4):  # x=4是默认参数 当调用fun()调用的时候，x才=4\n",
    "    global a  # 此句能不能加？\n",
    "    a = x + 3\n",
    "    print(a)\n",
    "\n",
    "fun(a)\n",
    "print(a)"
   ]
  },
  {
   "cell_type": "markdown",
   "metadata": {},
   "source": [
    "[返回目录](#mulu7)"
   ]
  },
  {
   "cell_type": "markdown",
   "metadata": {
    "tags": [],
    "toc-hr-collapsed": true
   },
   "source": [
    "## <font size=5><span id=\"7.8\"> 7.8 (*)内嵌函数和闭包</span></font>"
   ]
  },
  {
   "cell_type": "markdown",
   "metadata": {},
   "source": [
    "### 7.8.1 内嵌函数 —— 亦称内部函数\n",
    "\n",
    "- 函数的定义可以嵌套，允许在函数内创建另外一个函数，这种函数叫 `内嵌函数` 或者 `内部函数`"
   ]
  },
  {
   "cell_type": "code",
   "execution_count": null,
   "metadata": {},
   "outputs": [],
   "source": [
    "def mx(m,n):\n",
    "    if m>n: return m\n",
    "    else: return n\n",
    "    "
   ]
  },
  {
   "cell_type": "code",
   "execution_count": null,
   "metadata": {},
   "outputs": [],
   "source": [
    "mx(3, mx(2,5)) #函数的嵌套调用"
   ]
  },
  {
   "cell_type": "markdown",
   "metadata": {},
   "source": [
    "#### 例 内嵌函数示例\n",
    "\n",
    "- 定义在函数内部\n",
    "- 调用必须在函数内部"
   ]
  },
  {
   "cell_type": "code",
   "execution_count": 36,
   "metadata": {},
   "outputs": [],
   "source": [
    "def OuterFunction():\n",
    "    print(\"已经进入函数 OuterFunction ......\\n\")\n",
    "    \n",
    "    def InnerNestFunction(): # 定义在函数 def OuterFunction() 的内部\n",
    "        print(\"    内嵌函数 InnerNestFunction 正在被调用......\\n\")\n",
    "    \n",
    "    InnerNestFunction() # 调用必须在函数内部\n",
    "    \n",
    "    print(\"将要离开函数 OuterFunction ......\")"
   ]
  },
  {
   "cell_type": "code",
   "execution_count": 38,
   "metadata": {},
   "outputs": [
    {
     "ename": "NameError",
     "evalue": "name 'InnerNestFunction' is not defined",
     "output_type": "error",
     "traceback": [
      "\u001b[1;31m---------------------------------------------------------------------------\u001b[0m",
      "\u001b[1;31mNameError\u001b[0m                                 Traceback (most recent call last)",
      "Cell \u001b[1;32mIn[38], line 1\u001b[0m\n\u001b[1;32m----> 1\u001b[0m InnerNestFunction()\n",
      "\u001b[1;31mNameError\u001b[0m: name 'InnerNestFunction' is not defined"
     ]
    }
   ],
   "source": [
    "InnerNestFunction()"
   ]
  },
  {
   "cell_type": "markdown",
   "metadata": {},
   "source": [
    "- InnerNestFunction() 只能在函数 OuterFunction 内部使用，除了 OuterFunction，外部试图调研，都会出错\n"
   ]
  },
  {
   "cell_type": "markdown",
   "metadata": {},
   "source": [
    "#### 例 报错 —— 试图采用成员函数方法调用\n",
    "\n",
    "- InnerNestFunction 不是 OuterFunction 的成员函数\n",
    "- 不能采用 OuterFunction.InnerNestFunction() 方式调用"
   ]
  },
  {
   "cell_type": "code",
   "execution_count": null,
   "metadata": {},
   "outputs": [],
   "source": [
    "#OuterFunction.InnerNestFunction() # InnerNestFunction 并非 OuterFunction 的成员函数"
   ]
  },
  {
   "cell_type": "markdown",
   "metadata": {},
   "source": [
    "#### 例   —— 3次方程"
   ]
  },
  {
   "cell_type": "code",
   "execution_count": null,
   "metadata": {},
   "outputs": [],
   "source": [
    "#### 例 \n",
    "def fun(x):\n",
    "    def cub(y):\n",
    "        return y*y*y\n",
    "    def sqr(y):\n",
    "        return y*y\n",
    "    return 2*cub(x)+3*sqr(x)+4*x+5\n",
    "# 2*x^3+3*x^2+4*x+5"
   ]
  },
  {
   "cell_type": "code",
   "execution_count": null,
   "metadata": {},
   "outputs": [],
   "source": [
    "fun(2)"
   ]
  },
  {
   "cell_type": "code",
   "execution_count": null,
   "metadata": {},
   "outputs": [],
   "source": [
    "# cub(3)  #报错"
   ]
  },
  {
   "cell_type": "markdown",
   "metadata": {},
   "source": [
    "### 7.8.2 闭包"
   ]
  },
  {
   "cell_type": "markdown",
   "metadata": {},
   "source": [
    "#### (1) 定义\n",
    "\n",
    "\n",
    "- 闭包(closure) —— 函数式编程中的重要语法结构\n",
    "- 如果一个内嵌函数里，对外部作用域的变量进行`引用`，那么内嵌函数就被认为是闭包\n",
    "- 又称闭包函数或者闭合函数，闭包中外部函数返回的不是一个具体的值，而是一个函数。一般情况下，返回的函数会赋值给一个变量，这个变量可以在后面被继续执行调用。"
   ]
  },
  {
   "cell_type": "markdown",
   "metadata": {},
   "source": [
    "#### 例 闭包示例\n",
    "\n",
    "- 定义一个外部函数 `OuterFunctionWithClosure`\n",
    "- 内含闭包函数 `InnerClosure`"
   ]
  },
  {
   "cell_type": "code",
   "execution_count": null,
   "metadata": {},
   "outputs": [],
   "source": [
    "def OuterFunctionWithClosure(outer_para):\n",
    "    #print(outer_para)\n",
    "    def InnerClosure(inner_para):\n",
    "        print(\"在闭包函数 InnerClosure 中\\n\\t外部参数 outer_para = {0}\\n\\t内部参数 inner_para = {1}\\n\\t返回结果 outer_para*inner_para = {0}*{1}\"\n",
    "              .format(outer_para, inner_para))\n",
    "        return outer_para*inner_para\n",
    "\n",
    "    return InnerClosure  #返回内部函数名称"
   ]
  },
  {
   "cell_type": "markdown",
   "metadata": {},
   "source": [
    "- 执行 OuterFunctionWithClosure(8) 后\n",
    "    - 返回闭包函数 InnerClosure(inner_para)\n",
    "    - 其中的 outer_para=8"
   ]
  },
  {
   "cell_type": "code",
   "execution_count": null,
   "metadata": {},
   "outputs": [],
   "source": [
    "# 返回一个函数\n",
    "GetInnerClosure = OuterFunctionWithClosure(8)\n",
    "GetInnerClosure"
   ]
  },
  {
   "cell_type": "code",
   "execution_count": null,
   "metadata": {},
   "outputs": [],
   "source": [
    "type(GetInnerClosure)"
   ]
  },
  {
   "cell_type": "markdown",
   "metadata": {},
   "source": [
    "- 使用刚才返回的函数 `GetInnerClosure`"
   ]
  },
  {
   "cell_type": "code",
   "execution_count": null,
   "metadata": {},
   "outputs": [],
   "source": [
    "GetInnerClosure(5)"
   ]
  },
  {
   "cell_type": "markdown",
   "metadata": {},
   "source": [
    "- 二步合一\n",
    "    - `OuterFunctionWithClosure(8)` 是闭包函数"
   ]
  },
  {
   "cell_type": "code",
   "execution_count": null,
   "metadata": {},
   "outputs": [],
   "source": [
    "OuterFunctionWithClosure(8)(5)"
   ]
  },
  {
   "cell_type": "markdown",
   "metadata": {},
   "source": [
    "- 不能直接在外部使用，以下代码报错"
   ]
  },
  {
   "cell_type": "code",
   "execution_count": null,
   "metadata": {},
   "outputs": [],
   "source": [
    "#InnerClosure(5)  # 报错"
   ]
  },
  {
   "cell_type": "markdown",
   "metadata": {},
   "source": [
    "#### (2) 详解定义\n",
    "\n",
    "\n",
    "- 如果一个内嵌函数（如 InnerClosure），对外部作用域（但不是全局作用域）中的变量（如 outer_para）进行引用\n",
    "- outer_para 在外部作用域函数 OuterFunctionWithClosure 的里面，但不在全局作用域里面\n",
    "- 那么，内嵌函数 InnerClosure 就是一个闭包"
   ]
  },
  {
   "cell_type": "markdown",
   "metadata": {},
   "source": [
    "#### (3) 说明\n",
    "\n",
    "\n",
    "- 闭包的概念是由内嵌函数的概念而来"
   ]
  },
  {
   "cell_type": "markdown",
   "metadata": {},
   "source": [
    "#### (4)  注意事项\n",
    "\n",
    "\n",
    "- 不能在外部函数以外的地方对内嵌函数进行调用\n",
    "- 内嵌函数中，只能对外部函数的局部变量进行访问，但不能进行修改"
   ]
  },
  {
   "cell_type": "markdown",
   "metadata": {},
   "source": [
    "#### 例 闭包示例 —— 无外部参数情形"
   ]
  },
  {
   "cell_type": "code",
   "execution_count": null,
   "metadata": {},
   "outputs": [],
   "source": [
    "def OuterFunctionTimesFive():\n",
    "    outer_para = 5\n",
    "    def InnerClosureFunction(inner_para):\n",
    "        return outer_para * inner_para\n",
    "    return InnerClosureFunction"
   ]
  },
  {
   "cell_type": "code",
   "execution_count": null,
   "metadata": {},
   "outputs": [],
   "source": [
    "TimesFive = OuterFunctionTimesFive()\n",
    "TimesFive(3)"
   ]
  },
  {
   "cell_type": "code",
   "execution_count": null,
   "metadata": {},
   "outputs": [],
   "source": [
    "OuterFunctionTimesFive()(4)"
   ]
  },
  {
   "cell_type": "code",
   "execution_count": null,
   "metadata": {},
   "outputs": [],
   "source": [
    "#OuterFunctionTimesFive(,4)"
   ]
  },
  {
   "cell_type": "code",
   "execution_count": null,
   "metadata": {},
   "outputs": [],
   "source": [
    "def OuterFunctionTimesFiveMore():\n",
    "    outer_para = 5\n",
    "    def InnerClosureFunction(inner_para):\n",
    "        outer_para += 1       # 试图修改外部函数的局部变量，会延迟报错\n",
    "        # outer_para = outer_para + 1\n",
    "        return outer_para * inner_para\n",
    "    return InnerClosureFunction"
   ]
  },
  {
   "cell_type": "code",
   "execution_count": null,
   "metadata": {},
   "outputs": [],
   "source": [
    "TimesFiveMore = OuterFunctionTimesFiveMore() # 尚未触发错误"
   ]
  },
  {
   "cell_type": "code",
   "execution_count": null,
   "metadata": {},
   "outputs": [],
   "source": [
    "#TimesFiveMore(3) # 延迟报错"
   ]
  },
  {
   "cell_type": "code",
   "execution_count": null,
   "metadata": {},
   "outputs": [],
   "source": [
    "#OuterFunctionTimesFiveMore()(3)"
   ]
  },
  {
   "cell_type": "markdown",
   "metadata": {},
   "source": [
    "#### (5) 报错原因\n",
    "\n",
    "- `outer_para` 是局部变量的时候，外部函数的 `outer_para` 会被屏蔽\n",
    "- 执行下列代码的时候，右边找不到 `outer_para` 来计算，就报错\n",
    "```python\n",
    ">>> outer_para += 1\n",
    "```"
   ]
  },
  {
   "cell_type": "markdown",
   "metadata": {},
   "source": [
    "#### (6) 改进方法\n",
    "\n",
    "- 用关键字 `nonlocal`\n",
    "- 方式与 `global` 一样"
   ]
  },
  {
   "cell_type": "markdown",
   "metadata": {},
   "source": [
    "#### 例 关键字 `nonlocal` 的使用"
   ]
  },
  {
   "cell_type": "code",
   "execution_count": null,
   "metadata": {},
   "outputs": [],
   "source": [
    "def OuterFunction_UsingKeywordNonlocal():\n",
    "    outer_para = 5\n",
    "    def InnerClosureModifyOuterpara():\n",
    "        nonlocal outer_para\n",
    "        outer_para += 1\n",
    "        return outer_para\n",
    "    return InnerClosureModifyOuterpara"
   ]
  },
  {
   "cell_type": "code",
   "execution_count": null,
   "metadata": {},
   "outputs": [],
   "source": [
    "OuterFunction_UsingKeywordNonlocal()()"
   ]
  },
  {
   "cell_type": "code",
   "execution_count": null,
   "metadata": {},
   "outputs": [],
   "source": [
    "b = 7\n",
    "def OuterFunction_UsingKeywordNonlocal():\n",
    "    global b\n",
    "    b += 1\n",
    "    outer_para = b\n",
    "    def InnerClosureModifyOuterpara():\n",
    "        nonlocal outer_para\n",
    "        outer_para += 1\n",
    "        return outer_para\n",
    "    return InnerClosureModifyOuterpara"
   ]
  },
  {
   "cell_type": "code",
   "execution_count": null,
   "metadata": {},
   "outputs": [],
   "source": [
    "OuterFunction_UsingKeywordNonlocal()()"
   ]
  },
  {
   "cell_type": "markdown",
   "metadata": {},
   "source": [
    "[返回目录](#mulu7)"
   ]
  },
  {
   "cell_type": "markdown",
   "metadata": {
    "tags": [],
    "toc-hr-collapsed": true
   },
   "source": [
    "## <font size=5><span id=\"7.9\"> 7.9 递归函数</span></font>\n",
    "\n",
    "- 在函数的定义中使用函数自身的方法\n",
    "- 递归方法是算法和程序设计中的一种重要技术，是许多复杂算法的基础"
   ]
  },
  {
   "cell_type": "markdown",
   "metadata": {},
   "source": [
    "### 7.9.1 问题的产生\n",
    "\n",
    "\n",
    "- 经典的递归问题\n",
    "    - 古老的故事\n",
    "    - 赏麦粒的问题\n",
    "    - 汉诺塔问题"
   ]
  },
  {
   "cell_type": "markdown",
   "metadata": {},
   "source": [
    "#### (1) 古老的故事\n",
    "\n",
    "\n",
    "- 从前有座山，山里有座庙，庙里有个老和尚，正在给小和尚讲故事呢！故事是什么呢？\n",
    "    - 从前有座山，山里有座庙，庙里有个老和尚，正在给小和尚讲故事呢！故事是什么呢？‘从前有座山，山里有座庙，庙里有个老和尚，正在给小和尚讲故事呢！故事是什么呢？\n",
    "        - 从前有座山，山里有座庙，庙里有个老和尚，正在给小和尚讲故事呢！故事是什么呢？“从前有座山，山里有座庙，庙里有个老和尚，正在给小和尚讲故事呢！故事是什么呢？‘从前有座山，山里有座庙，庙里有个老和尚，正在给小和尚讲故事呢！故事是什么呢？\n",
    "            - ......\n",
    "\n",
    "\n",
    "- 故事逻辑 —— 不断重复自身..."
   ]
  },
  {
   "cell_type": "markdown",
   "metadata": {},
   "source": [
    "#### (2) 赏麦粒的问题\n",
    "\n",
    "\n",
    "- 国际象棋发明人西萨·班·达依尔在国王问赏时说：\n",
    "    - “陛下，请您在这张棋盘的\n",
    "    - 第 1 个小格里赏给我 1 粒麦子，$B(1)=1$\n",
    "    - 第 2 个小格里赏给我 2 粒麦子，$B(2)=2$\n",
    "    - 第 3 个小格里赏给我 4 粒麦子，$B(3)=4$\n",
    "    - 以后，每一小格都比前一小格加一倍\n",
    "    - 直到摆满棋盘上所有 64 个格子” \n",
    "    \n",
    "    $$B(1)+B(2)+\\cdots+B(64)=2^0+2^1+2^2+\\cdots+2^{63}=2^{64}-1=18,446,744,073,709,551,615 \\approx 1.8\\times 10^{19}$$\n",
    "    \n",
    "- 解法\n",
    "$$B(n)=2B(n-1)$$"
   ]
  },
  {
   "cell_type": "markdown",
   "metadata": {},
   "source": [
    "#### (3) 汉诺塔问题\n",
    "\n",
    "\n",
    "- 大梵天创造世界的时候做了三根金刚石柱子\n",
    "- 在一根柱子上从下往上按照大小顺序摞着 64 片黄金圆盘\n",
    "\n",
    "- 大梵天命令婆罗门：把圆盘从下面开始按从大到小顺序重新摆放在另一根柱子上，并且规定\n",
    "    - 在小圆盘上不能放大圆盘\n",
    "    - 在三根柱子之间一次只能移动一个圆盘\n",
    "    \n",
    "\n",
    "- 解法分析\n",
    "    - 欲将64个圆盘从第一根柱子移到第三根柱子，须先将最上面的63个圆盘移到第二根柱子上，然后将最下面的一个圆盘移到第三根柱子上\n",
    "    - 依次类推，解决问题的规模可以逐步降低为解决移动 62、61、60、……、3、2、1个圆盘的问题  \n",
    "    \n",
    "<img src=\"images/chapter07/hannuota.gif\" width=500>"
   ]
  },
  {
   "cell_type": "markdown",
   "metadata": {},
   "source": [
    "### 7.9.2 递归的定义、目的与分类\n",
    "\n",
    "\n",
    "- 定义 —— 如果函数调用自身，即是递归函数\n",
    "\n",
    "\n",
    "- 目的 —— 通过调用自身，将问题转化为本质相同但规模较小的子问题，最终化难为易\n",
    "    \n",
    "\n",
    "- 分类\n",
    "    - 直接递归 —— 直接调用自身\n",
    "    - 间接递归 —— 通过其它函数或过程间接调用自身"
   ]
  },
  {
   "cell_type": "markdown",
   "metadata": {},
   "source": [
    "### 7.9.3 递归的特点\n",
    "\n",
    "\n",
    "- 原始问题可转化为解决方法相同的新问题\n",
    "- 新问题的规模比原始问题小\n",
    "- 新问题又可转化为解决方法相同的规模更小的新问题\n",
    "- 直至达到终结条件，可以直接求解"
   ]
  },
  {
   "cell_type": "markdown",
   "metadata": {},
   "source": [
    "### 7.9.4 递归方法的设计\n",
    "\n",
    "\n",
    "- 基本思想\n",
    "    - 递 —— 将一复杂问题转换成：若干逐级简化且本质相同的子问题系列\n",
    "    - 归 —— 简化到一定程度的子问题：可以直接求解\n",
    "\n",
    "\n",
    "- 设计步骤\n",
    "    - 描述递归关系\n",
    "    - 确定递归出口\n",
    "    - 建立递归函数"
   ]
  },
  {
   "cell_type": "markdown",
   "metadata": {},
   "source": [
    "#### 例 递归函数示例 —— 计算阶乘 $f(n) = n!$\n",
    "\n",
    "\n",
    "- 递归关系 $f(n) = nf(n-1)$\n",
    "- 递归出口 $f(0)=1$\n",
    "- 递归函数 \n",
    "```python\n",
    ">>> def Factorial(num):\n",
    "     #finction body\n",
    "```"
   ]
  },
  {
   "cell_type": "markdown",
   "metadata": {},
   "source": [
    "- 递归示意图\n",
    "\n",
    "$$\\begin{array}{ccccc}\n",
    "\\rm{Factorial}(6) = 6\\times \\rm{Factorial}(5) &&&& \\rm{return}\\;\\;6\\times 5\\times 4\\times 3\\times 2\\times 1\\\\\n",
    "\\downarrow & & & & \\uparrow\\\\\n",
    "\\rm{Factorial}(5) = 5\\times \\rm{Factorial}(4) &&&& \\rm{return}\\;\\;5\\times 4\\times 3\\times 2\\times 1\\\\\n",
    "\\downarrow & & & & \\uparrow\\\\\n",
    "\\rm{Factorial}(4) = 4\\times \\rm{Factorial}(3) &&&& \\rm{return}\\;\\;4\\times 3\\times 2\\times 1\\\\\n",
    "\\downarrow & & & & \\uparrow\\\\\n",
    "\\rm{Factorial}(3) = 3\\times \\rm{Factorial}(2) &&&& \\rm{return}\\;\\;3\\times 2\\times 1\\\\\n",
    "\\downarrow & & & & \\uparrow\\\\\n",
    "\\rm{Factorial}(2) = 2\\times \\rm{Factorial}(1) &&&& \\rm{return}\\;\\;2\\times 1\\\\\n",
    "\\downarrow & & & & \\uparrow\\\\\n",
    "\\rm{Factorial}(1) = 1\\times \\rm{Factorial}(0) & & & & \\rm{return}\\;\\;1\\\\\n",
    "& \\searrow & & \\nearrow &\\\\\n",
    "& & 0! = 1 & &\n",
    "\\end{array}\n",
    "$$\n"
   ]
  },
  {
   "cell_type": "code",
   "execution_count": 39,
   "metadata": {},
   "outputs": [],
   "source": [
    "def Factorial(num):                # 递归函数定义\n",
    "    if num==0:  return 1          # 递归出口\n",
    "    return num * Factorial(num-1) # 递归关系  逐级简化"
   ]
  },
  {
   "cell_type": "code",
   "execution_count": 40,
   "metadata": {},
   "outputs": [
    {
     "name": "stdout",
     "output_type": "stream",
     "text": [
      "8320987112741390144276341183223364380754172606361245952449277696409600000000000000\n"
     ]
    }
   ],
   "source": [
    "num = Factorial(60)\n",
    "print(num)"
   ]
  },
  {
   "cell_type": "code",
   "execution_count": null,
   "metadata": {},
   "outputs": [],
   "source": [
    "fabn = [1]*20\n",
    "for i in range(2,20) :\n",
    "    fabn[i]=fabn[i-1]+fabn[i-2]\n",
    "fabn"
   ]
  },
  {
   "cell_type": "markdown",
   "metadata": {},
   "source": [
    "- 思考\n",
    "    - 是否可以建立如下递归关系\n",
    "    $$n!=\\dfrac{(n+1)!}{n+1}$$\n",
    "\n",
    "\n",
    "- 结论\n",
    "    - 问题趋向复杂化\n",
    "    - 递不归 —— 永远都达不到出口"
   ]
  },
  {
   "cell_type": "code",
   "execution_count": null,
   "metadata": {},
   "outputs": [],
   "source": [
    "# 坏的递归函数\n",
    "def BadFactorial(num):                  # 坏的递归函数定义\n",
    "    if num==0:  return 1               # 永远达不到的递归出口，递不归\n",
    "    return BadFactorial(num+1)/(num+1) # 递归关系  逐级复杂化"
   ]
  },
  {
   "cell_type": "code",
   "execution_count": null,
   "metadata": {},
   "outputs": [],
   "source": [
    "BadFactorial(1)  # 尚能运行\n",
    "#BadFactorial(5)  # 报递归错，递归深度超限"
   ]
  },
  {
   "cell_type": "markdown",
   "metadata": {},
   "source": [
    "#### 例 递归示例 —— 倒计数"
   ]
  },
  {
   "cell_type": "code",
   "execution_count": null,
   "metadata": {},
   "outputs": [],
   "source": [
    "def CountDown(num):    # 递归函数\n",
    "    print(num)\n",
    "     \n",
    "    if num==1: return # 递归出口\n",
    "\n",
    "    CountDown(num-1)   # 调用自身"
   ]
  },
  {
   "cell_type": "code",
   "execution_count": null,
   "metadata": {},
   "outputs": [],
   "source": [
    "CountDown(5)"
   ]
  },
  {
   "cell_type": "markdown",
   "metadata": {},
   "source": [
    "#### 例 斐波那契 (Leonardo  Fibonacci，1175～1250年) 数列\n",
    "\n",
    "\n",
    "- 1202年，`斐波那契`在《计算之书》中提出了一道有趣的兔子繁殖问题\n",
    "    - 第一个月初有一对刚诞生的兔子\n",
    "    - 第二个月之后（第三个月初）它们可以生育\n",
    "    - 每月每对可生育的兔子会诞生下一对新兔子\n",
    "    - 兔子永不死去\n",
    "\n",
    "\n",
    "- 每月的兔子数量\n",
    "    - $a_1=1$、$a_2=1$\n",
    "    - 假设在 $n-2$ 月有兔子总共 $a$ 对， $n-1$ 月总共有 $b$ 对。在 $n$ 月必定总共有 $a+b$ 对\n",
    "    - 若记在 $n$ 月的兔子数为 $a_{n}$，则必有 $a_n=a_{n-1}+a_{n-2}$ 对\n",
    "        - $a_{n-1}$ 是前一个月的兔子数\n",
    "        - $a_{n-2}$ 是前二个月的兔子数（可生育）\n",
    "\n",
    "\n",
    "- 由此产生 斐波那契数列（级数）\n",
    "    - 1, 1, 2, 3, 5, 8, 13, 21, 34, 55, 89, 144, 233, 377, 610, 987, ......\n",
    "\n",
    "\n",
    "- 递归分析\n",
    "    - 递归出口 $a_1=1$、$a_2=1$ —— 头 2 月的兔子数量\n",
    "    - 递归关系 $a_{n}=a_{n-1}+a_{n-2}$ —— 第 $n$ 月的兔子数量\n",
    "    "
   ]
  },
  {
   "cell_type": "code",
   "execution_count": null,
   "metadata": {},
   "outputs": [],
   "source": [
    "def Fibonacci(n):\n",
    "    if n == 1 or n == 2: return 1          # 递归出口\n",
    "    return Fibonacci(n-1) + Fibonacci(n-2)  # 递归关系，调用自身"
   ]
  },
  {
   "cell_type": "code",
   "execution_count": null,
   "metadata": {},
   "outputs": [],
   "source": [
    "[Fibonacci(n) for n in range(1,10)]"
   ]
  },
  {
   "cell_type": "code",
   "execution_count": null,
   "metadata": {},
   "outputs": [],
   "source": [
    "Fibonacci(20)"
   ]
  },
  {
   "cell_type": "code",
   "execution_count": null,
   "metadata": {},
   "outputs": [],
   "source": [
    "def funa():\n",
    "    funb()\n",
    "    pass\n",
    "\n",
    "def funb():\n",
    "    funa()\n",
    "# 间接调用自己，也是递归函数"
   ]
  },
  {
   "cell_type": "markdown",
   "metadata": {},
   "source": [
    "#### 例 猴子吃桃子问题\n",
    "\n",
    "\n",
    "- 小猴摘了若干桃，打算好好享用\n",
    "    - 第 1 天，吃掉一半多一个\n",
    "    - 第 2 天，接着吃掉剩下的一半多一个\n",
    "    - 以后每天，都吃掉尚存桃子的一半多一个\n",
    "    - 第 7 天，只剩1个\n",
    "\n",
    "\n",
    "- 问小猴共摘了多少个桃？"
   ]
  },
  {
   "cell_type": "markdown",
   "metadata": {},
   "source": [
    "- 分析\n",
    "    - 第 $n$ 天的桃子数，应是第 $n+1$ 天桃子数加 1 的 2 倍\n",
    "\n",
    "\n",
    "- 递归关系\n",
    "    - $f(n) = 2[f(n+1)+1]$\n",
    "    - $f(n+1)=\\dfrac{f(n)}{2}-1$\n",
    "\n",
    "\n",
    "- 递归出口\n",
    "    - $f(7)=1$"
   ]
  },
  {
   "cell_type": "code",
   "execution_count": null,
   "metadata": {},
   "outputs": [],
   "source": [
    "def PeachNumber(n):                # 递归函数\n",
    "    if n == 7: return 1           # 递归出口\n",
    "    return 2*(PeachNumber(n+1)+1) # 递归关系"
   ]
  },
  {
   "cell_type": "code",
   "execution_count": null,
   "metadata": {},
   "outputs": [],
   "source": [
    "[PeachNumber(i) for i in range(1,8)] # 第 1 天应有 190 只桃子"
   ]
  },
  {
   "cell_type": "markdown",
   "metadata": {},
   "source": [
    "#### 例 递归函数示例 —— 求解方程的实根\n",
    "\n",
    "\n",
    "$$2x^3+3x^2+6x+1=0$$"
   ]
  },
  {
   "cell_type": "markdown",
   "metadata": {},
   "source": [
    "- 函数及其导数图像分析\n",
    "    - 导入模块 sympy 绘制函数曲线图\n",
    "    - 记\n",
    "        - $f(x)=2x^3+3x^2+6x+1$\n",
    "        - $f'(x)=6x^2+6x+6$\n",
    "    - 绘制 $f(x)$ 和 $f'(x)$ 的函数曲线\n",
    "    - 发现恰好有一个实根，介于 -2 和 1 之间"
   ]
  },
  {
   "cell_type": "code",
   "execution_count": 41,
   "metadata": {},
   "outputs": [
    {
     "data": {
      "image/png": "[encoded data removed]",
      "text/plain": [
       "<Figure size 640x480 with 1 Axes>"
      ]
     },
     "metadata": {},
     "output_type": "display_data"
    },
    {
     "data": {
      "text/plain": [
       "<sympy.plotting.plot.Plot at 0x195bd51ee10>"
      ]
     },
     "execution_count": 41,
     "metadata": {},
     "output_type": "execute_result"
    }
   ],
   "source": [
    "from sympy import symbols\n",
    "x = symbols(\"x\")\n",
    "\n",
    "from sympy.plotting import plot\n",
    "plot(2*x**3+3*x**2+6*x+1, (x, -5, 5))"
   ]
  },
  {
   "cell_type": "code",
   "execution_count": null,
   "metadata": {},
   "outputs": [],
   "source": [
    "# 导数曲线图\n",
    "plot(6*x**2+6*x+6, (x, -5, 5))"
   ]
  },
  {
   "cell_type": "markdown",
   "metadata": {},
   "source": [
    "- 采用二分法 —— 一种递归方法"
   ]
  },
  {
   "cell_type": "code",
   "execution_count": null,
   "metadata": {},
   "outputs": [],
   "source": [
    "import math\n",
    "\n",
    "f = lambda x : 2*x**3+3*x**2+6*x+1                # 定义函数\n",
    "\n",
    "def Dichotomy(x1, x2, eps=1e-6):                    # 二分法递归函数\n",
    "    print(\"(%10.7f, %10.7f)\" % (x1,x2))             # 输出当前区间\n",
    "\n",
    "    xm = (x1+x2)/2.0                                # 取区间中点\n",
    "    if math.fabs(f(xm)) <= eps: return xm          # 递归出口\n",
    "\n",
    "    if(f(x1)*f(xm) < 0): return Dichotomy(x1, xm)  # 解位于左半区间 (x1, xm)\n",
    "    if(f(xm)*f(x2) < 0): return Dichotomy(xm, x2)  # 解位于右半区间 (xm, x2)"
   ]
  },
  {
   "cell_type": "code",
   "execution_count": null,
   "metadata": {},
   "outputs": [],
   "source": [
    "Dichotomy(-2,1)"
   ]
  },
  {
   "cell_type": "markdown",
   "metadata": {},
   "source": [
    "- 也可采用迭代算法"
   ]
  },
  {
   "cell_type": "code",
   "execution_count": null,
   "metadata": {},
   "outputs": [],
   "source": [
    "def IterDichotomy(x1 , x2, eps=1e-6):  # 二分迭代算法\n",
    "    xm=x1/2+x2/2\n",
    "    while math.fabs(f(xm)) > eps:      # \n",
    "        print(\"(%10.7f, %10.7f)\" % (x1,x2))\n",
    "        xm=x1/2+x2/2                   # 取区间中点\n",
    "        if(f(xm)*f(x1) < 0): x2=xm     # 解位于左半区间 (x1, xm) --> (x1, x2)\n",
    "        if(f(xm)*f(x2) < 0): x1=xm     # 解位于右半区间 (xm, x2) --> (x1, x2)\n",
    "    else:\n",
    "        return xm   "
   ]
  },
  {
   "cell_type": "code",
   "execution_count": null,
   "metadata": {},
   "outputs": [],
   "source": [
    "IterDichotomy (-2, 1)"
   ]
  },
  {
   "cell_type": "markdown",
   "metadata": {},
   "source": [
    "#### 例 递归函数示例 —— 汉诺塔问题"
   ]
  },
  {
   "cell_type": "markdown",
   "metadata": {},
   "source": [
    "<img src=\"images/chapter07/hanoi.jpg\" width=500>"
   ]
  },
  {
   "cell_type": "code",
   "execution_count": 42,
   "metadata": {},
   "outputs": [],
   "source": [
    "def hanoi(n,x,y,z):\n",
    "    if n == 1:\n",
    "        print(x,'--->',z) #如果只有一层，直接从X移到\n",
    "    else:\n",
    "        hanoi(n-1,x,z,y) #将前n-1个盘子从X移到Y上去\n",
    "        print(x,'--->',z) #将最底下的盘子，从X移动到Z上去\n",
    "        hanoi(n-1,y,x,z) #将Y上的移动到Z上"
   ]
  },
  {
   "cell_type": "code",
   "execution_count": 43,
   "metadata": {},
   "outputs": [
    {
     "name": "stdin",
     "output_type": "stream",
     "text": [
      "请输入汉诺塔层数： 4\n"
     ]
    },
    {
     "name": "stdout",
     "output_type": "stream",
     "text": [
      "A ---> B\n",
      "A ---> C\n",
      "B ---> C\n",
      "A ---> B\n",
      "C ---> A\n",
      "C ---> B\n",
      "A ---> B\n",
      "A ---> C\n",
      "B ---> C\n",
      "B ---> A\n",
      "C ---> A\n",
      "B ---> C\n",
      "A ---> B\n",
      "A ---> C\n",
      "B ---> C\n"
     ]
    }
   ],
   "source": [
    "n = int(input('请输入汉诺塔层数：'))\n",
    "hanoi(n,'A','B','C')"
   ]
  },
  {
   "cell_type": "code",
   "execution_count": null,
   "metadata": {},
   "outputs": [],
   "source": [
    "(2**64-1)/3600/24/365"
   ]
  },
  {
   "cell_type": "markdown",
   "metadata": {},
   "source": [
    "#### 例 图像的递归"
   ]
  },
  {
   "cell_type": "markdown",
   "metadata": {},
   "source": [
    "<img src=\"images/chapter07/digui01.png\" width=300>"
   ]
  },
  {
   "cell_type": "markdown",
   "metadata": {},
   "source": [
    "#### 例 分形图形\n",
    "<img src=\"images/chapter07/digui03.png\" width = 500>"
   ]
  },
  {
   "cell_type": "code",
   "execution_count": 44,
   "metadata": {},
   "outputs": [],
   "source": [
    "import turtle\n",
    "def main():\n",
    "    t = turtle.Turtle()\n",
    "    t.hideturtle()\n",
    "    t.speed(0)\n",
    "    level = 5\n",
    "    fract(t,-80,60,80,60,level)\n",
    "def fract(t,x1,y1,x2,y2,level):\n",
    "    newX = 0\n",
    "    newY = 0\n",
    "    if level == 0:\n",
    "        drawLine(t,x1,y1,x2,y2)\n",
    "    else:\n",
    "        newX = (x1+x2)/2 + (y2-y1)/2\n",
    "        newY = (y1+y2)/2 - (x2-x1)/2\n",
    "        fract(t,x1,y1,newX,newY,level-1)\n",
    "        fract(t,newX,newY,x2,y2,level-1)\n",
    "def drawLine(t,x1,y1,x2,y2):\n",
    "    t.up()\n",
    "    t.goto(x1,y1)\n",
    "    t.down()\n",
    "    t.goto(x2,y2)\n",
    "main()\n",
    "\n",
    "# IDLE运行"
   ]
  },
  {
   "cell_type": "markdown",
   "metadata": {},
   "source": [
    "<img src=\"images/chapter07/fenxing.png\">"
   ]
  },
  {
   "cell_type": "markdown",
   "metadata": {},
   "source": [
    "#### 例 递归排序（有兴趣可以看一下）\n",
    "- 将待排序序列R[0...n-1]看成是n个长度为1的有序序列，将相邻的有序表成对归并，得到n/2个长度为2的有序表；\n",
    "- 将这些有序序列再次归并，得到n/4个长度为4的有序序列；\n",
    "- 如此反复进行下去，最后得到一个长度为n的有序序列。\n",
    "- 综上可知,归并排序其实要做两件事：\n",
    "    - “分解”——将序列每次折半划分。\n",
    "    - （2）“合并”——将划分后的序列段两两合并后排序。\n",
    "<img src=\"images/chapter07/digui_find.jpg\" width=400>"
   ]
  },
  {
   "cell_type": "code",
   "execution_count": null,
   "metadata": {},
   "outputs": [],
   "source": [
    "time=0"
   ]
  },
  {
   "cell_type": "code",
   "execution_count": null,
   "metadata": {},
   "outputs": [],
   "source": [
    "def sort_list(lis, start, end):\n",
    "    global time\n",
    "    time = time + 1\n",
    "    # 判断结束位置\n",
    "    print(\"enter in \", time)\n",
    "\n",
    "    if start < end:\n",
    "        i, j = start, end\n",
    "        # 设置初始值\n",
    "        base = lis[i]\n",
    "        while i < j :\n",
    "            # 此循环可将序列分为两部分\n",
    "            while i < j and lis[j] >= base:\n",
    "                j = j - 1\n",
    "            lis[i] = lis[j]\n",
    "            \n",
    "            while i < j and lis[i] <= base:\n",
    "                i = i + 1\n",
    "            lis[j] = lis[i]\n",
    "            #print(lis)\n",
    "        lis[i] = base\n",
    "        \n",
    "        # 将序列 一分为二 此为小值列表\n",
    "        sort_list(lis, start, i-1)\n",
    "        # 此为大值列表\n",
    "        sort_list(lis, j+1, end)\n",
    "        print(lis)\n",
    "    time = time - 1\n",
    "    print(\"----\", time)\n",
    "    return lis\n",
    " \n",
    "if __name__ == '__main__':\n",
    "    lis = [46, 32, 41, 26, 16, 78, 54, 98, 17, 74, 68]\n",
    "    print(lis)\n",
    "    sort_list(lis, 0, len(lis)-1)\n",
    "    print(lis)\n"
   ]
  },
  {
   "cell_type": "markdown",
   "metadata": {},
   "source": [
    "[返回目录](#mulu7)"
   ]
  },
  {
   "cell_type": "markdown",
   "metadata": {},
   "source": [
    "## <font size=5><span id=\"7.10\"> 7.10 合作编程 —— 函数的设计、实现与调用</span></font>\n",
    "\n",
    "- 大型软件开发经常需要团队进行分工合作，下面以函数为例，展开讨论\n",
    "\n",
    "\n",
    "- 人员方面\n",
    "    - 上游 —— 提出任务需求，并分包给下游完成，经常要与下游协商细节\n",
    "    - 下游 —— 承担上游交给的任务，可向上游提出建议\n",
    "\n",
    "\n",
    "- 任务方面\n",
    "    - 函数的设计 —— 一般是上下游协商，也可某一方完成\n",
    "    - 函数的实现与打包 —— 下游完成\n",
    "    - 模块导入与函数调用 —— 上游使用\n",
    "    - 校核、升级与更新 —— 上游提意见，下游改进，可能多次反复"
   ]
  },
  {
   "cell_type": "markdown",
   "metadata": {},
   "source": [
    "### 7.10.1 合作完成一个四则运算库\n",
    "\n",
    "\n",
    "#### (1) 提出设计要求\n",
    "\n",
    "\n",
    "- 完成以下函数\n",
    "    - 加法 —— Plus(a, b) 返回 a+b\n",
    "    - 减法 —— Minus(a, b) 返回 a-b\n",
    "    - 乘法 —— Multi(a, b) 返回 a*b\n",
    "    - 除法 —— Devide(a, b) 返回 a/b"
   ]
  },
  {
   "cell_type": "markdown",
   "metadata": {},
   "source": [
    "#### (2) 代码由下游实现，并打包在 arithmetic.py 文件中\n",
    "\n",
    "\n",
    "```python\n",
    "# arithmetic.py\n",
    "def Plus(a, b):\n",
    "    return a+b\n",
    "\n",
    "def Minus(a, b):\n",
    "    return a-b\n",
    "\n",
    "def Multi(a, b):\n",
    "    return a*b\n",
    "\n",
    "def Devide(a, b):\n",
    "    return a/b\n",
    "```"
   ]
  },
  {
   "cell_type": "code",
   "execution_count": null,
   "metadata": {},
   "outputs": [],
   "source": [
    "# 查看代码文件\n",
    "!type arithmetic.py"
   ]
  },
  {
   "cell_type": "code",
   "execution_count": null,
   "metadata": {},
   "outputs": [],
   "source": [
    "# arithmetic.py\n",
    "def Plus(a, b):\n",
    "    return a+b\n",
    "\n",
    "def Minus(a, b):\n",
    "    return a-b\n",
    "\n",
    "def Multi(a, b):\n",
    "    return a*b\n",
    "\n",
    "def Devide(a, b):\n",
    "    return a/b"
   ]
  },
  {
   "cell_type": "markdown",
   "metadata": {},
   "source": [
    "#### (3) 模块导入与函数调用"
   ]
  },
  {
   "cell_type": "code",
   "execution_count": null,
   "metadata": {},
   "outputs": [],
   "source": [
    "# 模块导入\n",
    "from arithmetic import *"
   ]
  },
  {
   "cell_type": "code",
   "execution_count": null,
   "metadata": {},
   "outputs": [],
   "source": [
    "a, b = 12, 3"
   ]
  },
  {
   "cell_type": "code",
   "execution_count": null,
   "metadata": {},
   "outputs": [],
   "source": [
    "# 函数调用\n",
    "print(\"{0}+{1}={2}\".format(a, b, Plus(a, b)))\n",
    "print(\"{0}-{1}={2}\".format(a, b, Minus(a, b)))\n",
    "print(\"{0}*{1}={2}\".format(a, b, Multi(a, b)))\n",
    "print(\"{0}/{1}={2}\".format(a, b, Devide(a, b)))"
   ]
  },
  {
   "cell_type": "markdown",
   "metadata": {},
   "source": [
    "### 7.10.2 注意事项\n",
    "\n",
    "\n",
    "- 上游进行设计要考虑周全\n",
    "    - 名称\n",
    "    - 功能\n",
    "    - 参数\n",
    "    - 可行性\n",
    "    - 等\n",
    "\n",
    "\n",
    "- 下游要对上游友好\n",
    "    - 文件命名\n",
    "    - 代码风格\n",
    "    - 逻辑合理\n",
    "    - 帮助注释\n",
    "\n",
    "\n",
    "- 其它\n",
    "    - 兼容性\n",
    "    - 强壮性\n",
    "    - 更新升级\n",
    "    - 等"
   ]
  },
  {
   "cell_type": "markdown",
   "metadata": {},
   "source": [
    "[返回目录](#mulu7)"
   ]
  },
  {
   "cell_type": "markdown",
   "metadata": {
    "toc-hr-collapsed": true
   },
   "source": [
    "\n",
    "## <font size=5><span id=\"7.11\"> 7.11 案例</span></font>"
   ]
  },
  {
   "cell_type": "markdown",
   "metadata": {},
   "source": [
    "#### 深度优先遍历解决连通域求解问题-python实现"
   ]
  },
  {
   "cell_type": "markdown",
   "metadata": {},
   "source": [
    "#### 问题描述\n",
    "- 在一个矩形网格中每一个格子的颜色或者为白色或者为黑色。\n",
    "- 任意或上、或下、或左、或右相邻同为黑色的格子组成一个家族。\n",
    "- 家族中所有格子的数量反映家族的大小。\n",
    "- 要求找出最大家族的家族大小（组成最大家族的格子的数量）并统计出哪些点属于哪一族。\n",
    "- 例如下图中最大家族的格子数量为 8。\n",
    "<img src=\"images\\chapter07\\liantongyu.jpg\" width = 200>"
   ]
  },
  {
   "cell_type": "markdown",
   "metadata": {},
   "source": [
    "- 求解思路\n",
    "    - 遍历矩形网格，找到一个没有被标记的黑块作为入口,进行上下左右的搜索,并不断的扩散，每找到一个就进行族标记，最后输出相应的族标记即可，使用深度优先算法来做搜索比较简单。"
   ]
  },
  {
   "cell_type": "code",
   "execution_count": 3,
   "metadata": {},
   "outputs": [
    {
     "name": "stdout",
     "output_type": "stream",
     "text": [
      "original table:\n",
      "0 0 0 0 1 0 1 1 \n",
      "0 1 1 0 1 0 0 0 \n",
      "0 1 0 1 1 1 0 1 \n",
      "0 0 0 0 1 0 1 0 \n",
      "0 0 1 0 0 1 0 1 \n",
      "0 1 0 0 1 1 1 1 \n",
      "0 0 1 1 0 1 0 0 \n",
      "0 0 0 1 0 1 0 1 \n",
      "++++++++++++++++++++\n",
      "label table\n",
      "0 0 0 0 1 0 2 2 \n",
      "0 3 3 0 1 0 0 0 \n",
      "0 3 0 1 1 1 0 4 \n",
      "0 0 0 0 1 0 5 0 \n",
      "0 0 6 0 0 7 0 7 \n",
      "0 8 0 0 7 7 7 7 \n",
      "0 0 9 9 0 7 0 0 \n",
      "0 0 0 9 0 7 0 10 \n",
      "++++++++++++++++++++\n",
      "results:\n",
      "max group num: 8\n",
      "point (4, 5) belongs to max group: 7\n",
      "point (4, 7) belongs to max group: 7\n",
      "point (5, 4) belongs to max group: 7\n",
      "point (5, 5) belongs to max group: 7\n",
      "point (5, 6) belongs to max group: 7\n",
      "point (5, 7) belongs to max group: 7\n",
      "point (6, 5) belongs to max group: 7\n",
      "point (7, 5) belongs to max group: 7\n"
     ]
    }
   ],
   "source": [
    "table = [\n",
    "        [0,0,0,0,1,0,1,1],\n",
    "        [0,1,1,0,1,0,0,0],\n",
    "        [0,1,0,1,1,1,0,1],\n",
    "        [0,0,0,0,1,0,1,0],\n",
    "        [0,0,1,0,0,1,0,1],\n",
    "        [0,1,0,0,1,1,1,1],\n",
    "        [0,0,1,1,0,1,0,0],\n",
    "        [0,0,0,1,0,1,0,1]\n",
    "        ]\n",
    "\n",
    "rows = len(table)\n",
    "cols = len(table[0])\n",
    "\n",
    "label_table = []\n",
    "for i in range(rows):\n",
    "    col = cols*[0]\n",
    "    label_table.append(col)\n",
    "\n",
    "def show(table):  # 打印表\n",
    "    rows = len(table)\n",
    "    cols = len(table[0])\n",
    "    for i in range(rows):\n",
    "        for j in range(cols):\n",
    "            print(table[i][j], end=\" \")\n",
    "        print()\n",
    "\n",
    "def dfs(i, j, mask):  #递归方法\n",
    "    # 如果下标超出范围；或者已经定性为\n",
    "    # 如果已经标注\n",
    "    # 如果原始数据为0\n",
    "    # 返回0\n",
    "    # 如果没标注，标注\n",
    "    if i<0 or i>=rows or j<0 or j>=cols or \\\n",
    "        label_table[i][j]!=0 or \\\n",
    "        table[i][j]!=1:\n",
    "        return 0\n",
    "    label_table[i][j] = mask\n",
    "    ret = 1\n",
    "    #left right up down search#如果原始数据为1，则上下搜索\n",
    "    ret+=dfs(i, j-1, mask) \n",
    "    ret+=dfs(i, j+1, mask)\n",
    "    ret+=dfs(i-1, j, mask)\n",
    "    ret+=dfs(i+1, j, mask)\n",
    "\n",
    "    return ret\n",
    "    \n",
    "if __name__ == \"__main__\":\n",
    "    print(\"original table:\")\n",
    "    show(table)\n",
    "    res={}   #记录块号和对应块数，结果变量\n",
    "    print(\"++++++++++++++++++++\")\n",
    "    print(\"label table\")\n",
    "    mask = 1\n",
    "    for i in range(rows):\n",
    "        for j in range(cols):\n",
    "            if table[i][j] == 1 and label_table[i][j] == 0:\n",
    "                ret = dfs(i,j, mask)\n",
    "                res[mask] = ret\n",
    "                mask+=1\n",
    "    #print(res           )\n",
    "    show(label_table)  ##输出索引列表\n",
    "    print(\"++++++++++++++++++++\")\n",
    "    print(\"results:\")\n",
    "    \n",
    "    sorted_res = [(k, res[k]) for k in sorted(res, key=res.get, reverse=True)]\n",
    "    max_grp = sorted_res[0][0]\n",
    "    print(\"max group num: %d\"%sorted_res[0][1])\n",
    "\n",
    "    for i in range(rows):\n",
    "        for j in range(cols):\n",
    "            if label_table[i][j] == max_grp:\n",
    "                print(\"point (%d, %d) belongs to max group: %d\"%(i,j,max_grp))\n",
    "\n",
    "\n",
    "#output\n",
    "# original table:\n",
    "# 0 0 1 0 1 1 1 0\n",
    "# 0 0 1 0 0 1 1 0\n",
    "# 0 1 1 0 1 1 1 0\n",
    "# 0 0 1 0 1 0 0 0\n",
    "# 0 0 0 0 0 1 1 0\n",
    "# 0 0 0 0 1 1 1 0\n",
    "# ++++++++++++++++++++\n",
    "# label table\n",
    "# 0 0 1 0 2 2 2 0\n",
    "# 0 0 1 0 0 2 2 0\n",
    "# 0 1 1 0 2 2 2 0\n",
    "# 0 0 1 0 2 0 0 0\n",
    "# 0 0 0 0 0 3 3 0\n",
    "# 0 0 0 0 3 3 3 0\n",
    "# ++++++++++++++++++++\n",
    "# results:\n",
    "# max group num: 9\n",
    "# point (0, 4) belongs to max group: 2\n",
    "# point (0, 5) belongs to max group: 2\n",
    "# point (0, 6) belongs to max group: 2\n",
    "# point (1, 5) belongs to max group: 2\n",
    "# point (1, 6) belongs to max group: 2\n",
    "# point (2, 4) belongs to max group: 2\n",
    "# point (2, 5) belongs to max group: 2\n",
    "# point (2, 6) belongs to max group: 2\n",
    "# point (3, 4) belongs to max group: 2"
   ]
  },
  {
   "cell_type": "code",
   "execution_count": 5,
   "metadata": {},
   "outputs": [
    {
     "data": {
      "text/plain": [
       "{1: 6, 2: 2, 3: 3, 4: 1, 5: 1, 6: 1, 7: 8, 8: 1, 9: 3, 10: 1}"
      ]
     },
     "execution_count": 5,
     "metadata": {},
     "output_type": "execute_result"
    }
   ],
   "source": [
    "res"
   ]
  },
  {
   "cell_type": "code",
   "execution_count": 7,
   "metadata": {},
   "outputs": [
    {
     "data": {
      "text/plain": [
       "[10, 9, 8, 7, 6, 5, 4, 3, 2, 1]"
      ]
     },
     "execution_count": 7,
     "metadata": {},
     "output_type": "execute_result"
    }
   ],
   "source": [
    "sorted(res, reverse=True)"
   ]
  },
  {
   "cell_type": "markdown",
   "metadata": {},
   "source": [
    "[返回目录](#mulu7)"
   ]
  },
  {
   "cell_type": "markdown",
   "metadata": {},
   "source": [
    "## <font size=5><span id=\"7.12\"> 7.12 Built-in functions</span></font>\n",
    "\n",
    "- [内置函数](https://docs.python.org/zh-cn/3/library/functions.html \"内置函数\")"
   ]
  },
  {
   "cell_type": "markdown",
   "metadata": {},
   "source": [
    "<div class=\"responsive-table__container\"><table class=\"docutils align-default\">\n",
    "<colgroup>\n",
    "<col style=\"width: 26%\">\n",
    "<col style=\"width: 24%\">\n",
    "<col style=\"width: 24%\">\n",
    "<col style=\"width: 26%\">\n",
    "</colgroup>\n",
    "<thead>\n",
    "<tr class=\"row-odd\"><th class=\"head\" colspan=\"4\"><p>内置函数</p></th>\n",
    "</tr>\n",
    "</thead>\n",
    "<tbody>\n",
    "<tr class=\"row-even\"><td><div class=\"line-block\">\n",
    "<div class=\"line\"><strong>A</strong></div>\n",
    "<div class=\"line\"><a class=\"reference internal\" href=\"#abs\" title=\"abs\"><code class=\"xref py py-func docutils literal notranslate\"><span class=\"pre\">abs()</span></code></a></div>\n",
    "<div class=\"line\"><a class=\"reference internal\" href=\"#aiter\" title=\"aiter\"><code class=\"xref py py-func docutils literal notranslate\"><span class=\"pre\">aiter()</span></code></a></div>\n",
    "<div class=\"line\"><a class=\"reference internal\" href=\"#all\" title=\"all\"><code class=\"xref py py-func docutils literal notranslate\"><span class=\"pre\">all()</span></code></a></div>\n",
    "<div class=\"line\"><a class=\"reference internal\" href=\"#anext\" title=\"anext\"><code class=\"xref py py-func docutils literal notranslate\"><span class=\"pre\">anext()</span></code></a></div>\n",
    "<div class=\"line\"><a class=\"reference internal\" href=\"#any\" title=\"any\"><code class=\"xref py py-func docutils literal notranslate\"><span class=\"pre\">any()</span></code></a></div>\n",
    "<div class=\"line\"><a class=\"reference internal\" href=\"#ascii\" title=\"ascii\"><code class=\"xref py py-func docutils literal notranslate\"><span class=\"pre\">ascii()</span></code></a></div>\n",
    "<div class=\"line\"><br></div>\n",
    "<div class=\"line\"><strong>B</strong></div>\n",
    "<div class=\"line\"><a class=\"reference internal\" href=\"#bin\" title=\"bin\"><code class=\"xref py py-func docutils literal notranslate\"><span class=\"pre\">bin()</span></code></a></div>\n",
    "<div class=\"line\"><a class=\"reference internal\" href=\"#bool\" title=\"bool\"><code class=\"xref py py-func docutils literal notranslate\"><span class=\"pre\">bool()</span></code></a></div>\n",
    "<div class=\"line\"><a class=\"reference internal\" href=\"#breakpoint\" title=\"breakpoint\"><code class=\"xref py py-func docutils literal notranslate\"><span class=\"pre\">breakpoint()</span></code></a></div>\n",
    "<div class=\"line\"><a class=\"reference internal\" href=\"#func-bytearray\"><code class=\"docutils literal notranslate\"><span class=\"pre\">bytearray()</span></code></a></div>\n",
    "<div class=\"line\"><a class=\"reference internal\" href=\"#func-bytes\"><code class=\"docutils literal notranslate\"><span class=\"pre\">bytes()</span></code></a></div>\n",
    "<div class=\"line\"><br></div>\n",
    "<div class=\"line\"><strong>C</strong></div>\n",
    "<div class=\"line\"><a class=\"reference internal\" href=\"#callable\" title=\"callable\"><code class=\"xref py py-func docutils literal notranslate\"><span class=\"pre\">callable()</span></code></a></div>\n",
    "<div class=\"line\"><a class=\"reference internal\" href=\"#chr\" title=\"chr\"><code class=\"xref py py-func docutils literal notranslate\"><span class=\"pre\">chr()</span></code></a></div>\n",
    "<div class=\"line\"><a class=\"reference internal\" href=\"#classmethod\" title=\"classmethod\"><code class=\"xref py py-func docutils literal notranslate\"><span class=\"pre\">classmethod()</span></code></a></div>\n",
    "<div class=\"line\"><a class=\"reference internal\" href=\"#compile\" title=\"compile\"><code class=\"xref py py-func docutils literal notranslate\"><span class=\"pre\">compile()</span></code></a></div>\n",
    "<div class=\"line\"><a class=\"reference internal\" href=\"#complex\" title=\"complex\"><code class=\"xref py py-func docutils literal notranslate\"><span class=\"pre\">complex()</span></code></a></div>\n",
    "<div class=\"line\"><br></div>\n",
    "<div class=\"line\"><strong>D</strong></div>\n",
    "<div class=\"line\"><a class=\"reference internal\" href=\"#delattr\" title=\"delattr\"><code class=\"xref py py-func docutils literal notranslate\"><span class=\"pre\">delattr()</span></code></a></div>\n",
    "<div class=\"line\"><a class=\"reference internal\" href=\"#func-dict\"><code class=\"docutils literal notranslate\"><span class=\"pre\">dict()</span></code></a></div>\n",
    "<div class=\"line\"><a class=\"reference internal\" href=\"#dir\" title=\"dir\"><code class=\"xref py py-func docutils literal notranslate\"><span class=\"pre\">dir()</span></code></a></div>\n",
    "<div class=\"line\"><a class=\"reference internal\" href=\"#divmod\" title=\"divmod\"><code class=\"xref py py-func docutils literal notranslate\"><span class=\"pre\">divmod()</span></code></a></div>\n",
    "<div class=\"line\"><br></div>\n",
    "</div>\n",
    "</td>\n",
    "<td><div class=\"line-block\">\n",
    "<div class=\"line\"><strong>E</strong></div>\n",
    "<div class=\"line\"><a class=\"reference internal\" href=\"#enumerate\" title=\"enumerate\"><code class=\"xref py py-func docutils literal notranslate\"><span class=\"pre\">enumerate()</span></code></a></div>\n",
    "<div class=\"line\"><a class=\"reference internal\" href=\"#eval\" title=\"eval\"><code class=\"xref py py-func docutils literal notranslate\"><span class=\"pre\">eval()</span></code></a></div>\n",
    "<div class=\"line\"><a class=\"reference internal\" href=\"#exec\" title=\"exec\"><code class=\"xref py py-func docutils literal notranslate\"><span class=\"pre\">exec()</span></code></a></div>\n",
    "<div class=\"line\"><br></div>\n",
    "<div class=\"line\"><strong>F</strong></div>\n",
    "<div class=\"line\"><a class=\"reference internal\" href=\"#filter\" title=\"filter\"><code class=\"xref py py-func docutils literal notranslate\"><span class=\"pre\">filter()</span></code></a></div>\n",
    "<div class=\"line\"><a class=\"reference internal\" href=\"#float\" title=\"float\"><code class=\"xref py py-func docutils literal notranslate\"><span class=\"pre\">float()</span></code></a></div>\n",
    "<div class=\"line\"><a class=\"reference internal\" href=\"#format\" title=\"format\"><code class=\"xref py py-func docutils literal notranslate\"><span class=\"pre\">format()</span></code></a></div>\n",
    "<div class=\"line\"><a class=\"reference internal\" href=\"#func-frozenset\"><code class=\"docutils literal notranslate\"><span class=\"pre\">frozenset()</span></code></a></div>\n",
    "<div class=\"line\"><br></div>\n",
    "<div class=\"line\"><strong>G</strong></div>\n",
    "<div class=\"line\"><a class=\"reference internal\" href=\"#getattr\" title=\"getattr\"><code class=\"xref py py-func docutils literal notranslate\"><span class=\"pre\">getattr()</span></code></a></div>\n",
    "<div class=\"line\"><a class=\"reference internal\" href=\"#globals\" title=\"globals\"><code class=\"xref py py-func docutils literal notranslate\"><span class=\"pre\">globals()</span></code></a></div>\n",
    "<div class=\"line\"><br></div>\n",
    "<div class=\"line\"><strong>H</strong></div>\n",
    "<div class=\"line\"><a class=\"reference internal\" href=\"#hasattr\" title=\"hasattr\"><code class=\"xref py py-func docutils literal notranslate\"><span class=\"pre\">hasattr()</span></code></a></div>\n",
    "<div class=\"line\"><a class=\"reference internal\" href=\"#hash\" title=\"hash\"><code class=\"xref py py-func docutils literal notranslate\"><span class=\"pre\">hash()</span></code></a></div>\n",
    "<div class=\"line\"><a class=\"reference internal\" href=\"#help\" title=\"help\"><code class=\"xref py py-func docutils literal notranslate\"><span class=\"pre\">help()</span></code></a></div>\n",
    "<div class=\"line\"><a class=\"reference internal\" href=\"#hex\" title=\"hex\"><code class=\"xref py py-func docutils literal notranslate\"><span class=\"pre\">hex()</span></code></a></div>\n",
    "<div class=\"line\"><br></div>\n",
    "<div class=\"line\"><strong>I</strong></div>\n",
    "<div class=\"line\"><a class=\"reference internal\" href=\"#id\" title=\"id\"><code class=\"xref py py-func docutils literal notranslate\"><span class=\"pre\">id()</span></code></a></div>\n",
    "<div class=\"line\"><a class=\"reference internal\" href=\"#input\" title=\"input\"><code class=\"xref py py-func docutils literal notranslate\"><span class=\"pre\">input()</span></code></a></div>\n",
    "<div class=\"line\"><a class=\"reference internal\" href=\"#int\" title=\"int\"><code class=\"xref py py-func docutils literal notranslate\"><span class=\"pre\">int()</span></code></a></div>\n",
    "<div class=\"line\"><a class=\"reference internal\" href=\"#isinstance\" title=\"isinstance\"><code class=\"xref py py-func docutils literal notranslate\"><span class=\"pre\">isinstance()</span></code></a></div>\n",
    "<div class=\"line\"><a class=\"reference internal\" href=\"#issubclass\" title=\"issubclass\"><code class=\"xref py py-func docutils literal notranslate\"><span class=\"pre\">issubclass()</span></code></a></div>\n",
    "<div class=\"line\"><a class=\"reference internal\" href=\"#iter\" title=\"iter\"><code class=\"xref py py-func docutils literal notranslate\"><span class=\"pre\">iter()</span></code></a></div>\n",
    "</div>\n",
    "</td>\n",
    "<td><div class=\"line-block\">\n",
    "<div class=\"line\"><strong>L</strong></div>\n",
    "<div class=\"line\"><a class=\"reference internal\" href=\"#len\" title=\"len\"><code class=\"xref py py-func docutils literal notranslate\"><span class=\"pre\">len()</span></code></a></div>\n",
    "<div class=\"line\"><a class=\"reference internal\" href=\"#func-list\"><code class=\"docutils literal notranslate\"><span class=\"pre\">list()</span></code></a></div>\n",
    "<div class=\"line\"><a class=\"reference internal\" href=\"#locals\" title=\"locals\"><code class=\"xref py py-func docutils literal notranslate\"><span class=\"pre\">locals()</span></code></a></div>\n",
    "<div class=\"line\"><br></div>\n",
    "<div class=\"line\"><strong>M</strong></div>\n",
    "<div class=\"line\"><a class=\"reference internal\" href=\"#map\" title=\"map\"><code class=\"xref py py-func docutils literal notranslate\"><span class=\"pre\">map()</span></code></a></div>\n",
    "<div class=\"line\"><a class=\"reference internal\" href=\"#max\" title=\"max\"><code class=\"xref py py-func docutils literal notranslate\"><span class=\"pre\">max()</span></code></a></div>\n",
    "<div class=\"line\"><a class=\"reference internal\" href=\"#func-memoryview\"><code class=\"docutils literal notranslate\"><span class=\"pre\">memoryview()</span></code></a></div>\n",
    "<div class=\"line\"><a class=\"reference internal\" href=\"#min\" title=\"min\"><code class=\"xref py py-func docutils literal notranslate\"><span class=\"pre\">min()</span></code></a></div>\n",
    "<div class=\"line\"><br></div>\n",
    "<div class=\"line\"><strong>N</strong></div>\n",
    "<div class=\"line\"><a class=\"reference internal\" href=\"#next\" title=\"next\"><code class=\"xref py py-func docutils literal notranslate\"><span class=\"pre\">next()</span></code></a></div>\n",
    "<div class=\"line\"><br></div>\n",
    "<div class=\"line\"><strong>O</strong></div>\n",
    "<div class=\"line\"><a class=\"reference internal\" href=\"#object\" title=\"object\"><code class=\"xref py py-func docutils literal notranslate\"><span class=\"pre\">object()</span></code></a></div>\n",
    "<div class=\"line\"><a class=\"reference internal\" href=\"#oct\" title=\"oct\"><code class=\"xref py py-func docutils literal notranslate\"><span class=\"pre\">oct()</span></code></a></div>\n",
    "<div class=\"line\"><a class=\"reference internal\" href=\"#open\" title=\"open\"><code class=\"xref py py-func docutils literal notranslate\"><span class=\"pre\">open()</span></code></a></div>\n",
    "<div class=\"line\"><a class=\"reference internal\" href=\"#ord\" title=\"ord\"><code class=\"xref py py-func docutils literal notranslate\"><span class=\"pre\">ord()</span></code></a></div>\n",
    "<div class=\"line\"><br></div>\n",
    "<div class=\"line\"><strong>P</strong></div>\n",
    "<div class=\"line\"><a class=\"reference internal\" href=\"#pow\" title=\"pow\"><code class=\"xref py py-func docutils literal notranslate\"><span class=\"pre\">pow()</span></code></a></div>\n",
    "<div class=\"line\"><a class=\"reference internal\" href=\"#print\" title=\"print\"><code class=\"xref py py-func docutils literal notranslate\"><span class=\"pre\">print()</span></code></a></div>\n",
    "<div class=\"line\"><a class=\"reference internal\" href=\"#property\" title=\"property\"><code class=\"xref py py-func docutils literal notranslate\"><span class=\"pre\">property()</span></code></a></div>\n",
    "<div class=\"line\"><br></div>\n",
    "<div class=\"line\"><br></div>\n",
    "<div class=\"line\"><br></div>\n",
    "<div class=\"line\"><br></div>\n",
    "</div>\n",
    "</td>\n",
    "<td><div class=\"line-block\">\n",
    "<div class=\"line\"><strong>R</strong></div>\n",
    "<div class=\"line\"><a class=\"reference internal\" href=\"#func-range\"><code class=\"docutils literal notranslate\"><span class=\"pre\">range()</span></code></a></div>\n",
    "<div class=\"line\"><a class=\"reference internal\" href=\"#repr\" title=\"repr\"><code class=\"xref py py-func docutils literal notranslate\"><span class=\"pre\">repr()</span></code></a></div>\n",
    "<div class=\"line\"><a class=\"reference internal\" href=\"#reversed\" title=\"reversed\"><code class=\"xref py py-func docutils literal notranslate\"><span class=\"pre\">reversed()</span></code></a></div>\n",
    "<div class=\"line\"><a class=\"reference internal\" href=\"#round\" title=\"round\"><code class=\"xref py py-func docutils literal notranslate\"><span class=\"pre\">round()</span></code></a></div>\n",
    "<div class=\"line\"><br></div>\n",
    "<div class=\"line\"><strong>S</strong></div>\n",
    "<div class=\"line\"><a class=\"reference internal\" href=\"#func-set\"><code class=\"docutils literal notranslate\"><span class=\"pre\">set()</span></code></a></div>\n",
    "<div class=\"line\"><a class=\"reference internal\" href=\"#setattr\" title=\"setattr\"><code class=\"xref py py-func docutils literal notranslate\"><span class=\"pre\">setattr()</span></code></a></div>\n",
    "<div class=\"line\"><a class=\"reference internal\" href=\"#slice\" title=\"slice\"><code class=\"xref py py-func docutils literal notranslate\"><span class=\"pre\">slice()</span></code></a></div>\n",
    "<div class=\"line\"><a class=\"reference internal\" href=\"#sorted\" title=\"sorted\"><code class=\"xref py py-func docutils literal notranslate\"><span class=\"pre\">sorted()</span></code></a></div>\n",
    "<div class=\"line\"><a class=\"reference internal\" href=\"#staticmethod\" title=\"staticmethod\"><code class=\"xref py py-func docutils literal notranslate\"><span class=\"pre\">staticmethod()</span></code></a></div>\n",
    "<div class=\"line\"><a class=\"reference internal\" href=\"#func-str\"><code class=\"docutils literal notranslate\"><span class=\"pre\">str()</span></code></a></div>\n",
    "<div class=\"line\"><a class=\"reference internal\" href=\"#sum\" title=\"sum\"><code class=\"xref py py-func docutils literal notranslate\"><span class=\"pre\">sum()</span></code></a></div>\n",
    "<div class=\"line\"><a class=\"reference internal\" href=\"#super\" title=\"super\"><code class=\"xref py py-func docutils literal notranslate\"><span class=\"pre\">super()</span></code></a></div>\n",
    "<div class=\"line\"><br></div>\n",
    "<div class=\"line\"><strong>T</strong></div>\n",
    "<div class=\"line\"><a class=\"reference internal\" href=\"#func-tuple\"><code class=\"docutils literal notranslate\"><span class=\"pre\">tuple()</span></code></a></div>\n",
    "<div class=\"line\"><a class=\"reference internal\" href=\"#type\" title=\"type\"><code class=\"xref py py-func docutils literal notranslate\"><span class=\"pre\">type()</span></code></a></div>\n",
    "<div class=\"line\"><br></div>\n",
    "<div class=\"line\"><strong>V</strong></div>\n",
    "<div class=\"line\"><a class=\"reference internal\" href=\"#vars\" title=\"vars\"><code class=\"xref py py-func docutils literal notranslate\"><span class=\"pre\">vars()</span></code></a></div>\n",
    "<div class=\"line\"><br></div>\n",
    "<div class=\"line\"><strong>Z</strong></div>\n",
    "<div class=\"line\"><a class=\"reference internal\" href=\"#zip\" title=\"zip\"><code class=\"xref py py-func docutils literal notranslate\"><span class=\"pre\">zip()</span></code></a></div>\n",
    "<div class=\"line\"><br></div>\n",
    "<div class=\"line\"><strong>_</strong></div>\n",
    "<div class=\"line\"><a class=\"reference internal\" href=\"#import__\" title=\"__import__\"><code class=\"xref py py-func docutils literal notranslate\"><span class=\"pre\">__import__()</span></code></a></div>\n",
    "</div>\n",
    "</td>\n",
    "</tr>\n",
    "</tbody>\n",
    "</table></div>"
   ]
  },
  {
   "cell_type": "markdown",
   "metadata": {},
   "source": [
    "## References:\n",
    "https://www.learnpython.org/en/Functions  \n",
    "http://docs.python-guide.org/en/latest/writing/style/  \n",
    "https://docs.python.org/3/library/functions.html#built-in-funcs  "
   ]
  },
  {
   "cell_type": "markdown",
   "metadata": {},
   "source": [
    "[返回目录](#mulu7)"
   ]
  },
  {
   "cell_type": "markdown",
   "metadata": {},
   "source": [
    "<img src=\"images\\chapter07\\mindmap-function01.png\">\n",
    "<img src=\"images\\chapter07\\mindmap-function02.png\">"
   ]
  },
  {
   "cell_type": "code",
   "execution_count": null,
   "metadata": {},
   "outputs": [],
   "source": [
    "#当你说的是“两列元素的列表我假设你指的是一个包含多个元组的列表，每个元组有两个元素。以下是一个实现你描述的功能的Python代码：\n",
    "\n",
    "#python\n",
    "def sort_list_by_sum(lst):\n",
    "    sorted_lst = sorted(lst, key=lambda x: sum(x))\n",
    "    return sorted_lst\n",
    "# 示例用法\n",
    "lst = [(1, 2), (3, 4), (5, 6), (2, 2)]\n",
    "sorted_lst = sort_list_by_sum(lst)\n",
    "print(sorted_lst)"
   ]
  }
 ],
 "metadata": {
  "kernelspec": {
   "display_name": "Python 3 (ipykernel)",
   "language": "python",
   "name": "python3"
  },
  "language_info": {
   "codemirror_mode": {
    "name": "ipython",
    "version": 3
   },
   "file_extension": ".py",
   "mimetype": "text/x-python",
   "name": "python",
   "nbconvert_exporter": "python",
   "pygments_lexer": "ipython3",
   "version": "3.11.7"
  }
 },
 "nbformat": 4,
 "nbformat_minor": 4
}
