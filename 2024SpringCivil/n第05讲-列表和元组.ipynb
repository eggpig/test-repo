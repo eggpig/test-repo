{
 "cells": [
  {
   "cell_type": "markdown",
   "metadata": {},
   "source": [
    "***"
   ]
  },
  {
   "cell_type": "markdown",
   "metadata": {},
   "source": [
    "<span id=\"mulu5\"><font face=\"黑体\" size=6>本章目录</font></span>\n",
    "* [第05讲 列表、元组](#2)\n",
    "\n",
    "    * [5.1 列表](#5.1)\n",
    "        * [5.1.1 创建列表](#5.1.1)\n",
    "        * [5.1.2 向列表中添加元素](#5.1.2)\n",
    "        * [5.1.3 访问列表](#5.1.3)\n",
    "        * [5.1.4 从列表中删除元素](#5.1.4)\n",
    "        * [5.1.5 列表的一些常用操作](#5.1.5)\n",
    "        * [5.1.6 列表的成员函数](#5.1.6)\n",
    "        * [5.1.7 关于分片“拷贝”概念的补充](#5.1.7)  \n",
    "        * [5.1.8 浅copy与深copy](#5.1.8)  \n",
    "        * [5.1.9 list案例](#5.1.9)  \n",
    "        * [5.1.10 list的总结](#5.1.10)  \n",
    "    * [5.2 元组](#5.2) \n",
    "        * [5.2.1 创建和访问一个元组](#5.2.1)\n",
    "        * [5.2.2 更新和删除元组](#5.2.2)\n",
    "        * [5.2.3 元组的总结](#5.2.3)\n",
    " \n",
    "    \n",
    "\n",
    "\n",
    "\n",
    "\n"
   ]
  },
  {
   "cell_type": "markdown",
   "metadata": {},
   "source": [
    "___"
   ]
  },
  {
   "cell_type": "markdown",
   "metadata": {},
   "source": [
    "# 第5讲 列表、元组"
   ]
  },
  {
   "cell_type": "markdown",
   "metadata": {
    "toc-hr-collapsed": true
   },
   "source": [
    "## <font size=5><span id=\"5.1\"> 5.1 列表</span></font>"
   ]
  },
  {
   "cell_type": "markdown",
   "metadata": {
    "tags": [],
    "toc-hr-collapsed": true
   },
   "source": [
    "### <font size=4><span id=\"5.1.1\"> 5.1.1 创建列表</span></font>"
   ]
  },
  {
   "cell_type": "markdown",
   "metadata": {},
   "source": [
    "#### (1) 一般创建方法\n",
    "\n",
    "```python\n",
    ">>> empty_list = []\n",
    ">>> list_obj = [ele_1, ele_2, ..., ele_n]\n",
    ">>> one_ele_list = [ele_1]\n",
    ">>> empty_list = list()\n",
    ">>> list_from_iterable = list(iterable)\n",
    ">>> list_from_range = list(range(start, stop, step))\n",
    "```\n",
    "\n",
    "- 与普通变量一样，用中括号括起一堆数据就可以\n",
    "- 数据间用逗号隔开\n",
    "- 没办法创建的时候指定大小（可以变动实现）"
   ]
  },
  {
   "cell_type": "markdown",
   "metadata": {},
   "source": [
    "##### 例1  创建空列表"
   ]
  },
  {
   "cell_type": "code",
   "execution_count": null,
   "metadata": {},
   "outputs": [],
   "source": [
    "empty_list = []\n",
    "empty_list"
   ]
  },
  {
   "cell_type": "markdown",
   "metadata": {},
   "source": [
    "##### 例2  同类型元素列表"
   ]
  },
  {
   "cell_type": "code",
   "execution_count": null,
   "metadata": {},
   "outputs": [],
   "source": [
    "int_list = [5,3,-2,0,4]\n",
    "int_list"
   ]
  },
  {
   "cell_type": "code",
   "execution_count": 1,
   "metadata": {},
   "outputs": [
    {
     "data": {
      "text/plain": [
       "[999]"
      ]
     },
     "execution_count": 1,
     "metadata": {},
     "output_type": "execute_result"
    }
   ],
   "source": [
    "one_ele_list = [999]\n",
    "one_ele_list"
   ]
  },
  {
   "cell_type": "code",
   "execution_count": 20,
   "metadata": {},
   "outputs": [
    {
     "data": {
      "text/plain": [
       "range(1, 11, 2)"
      ]
     },
     "execution_count": 20,
     "metadata": {},
     "output_type": "execute_result"
    }
   ],
   "source": [
    "# range 对象\n",
    "range(1,11,2)"
   ]
  },
  {
   "cell_type": "code",
   "execution_count": 21,
   "metadata": {},
   "outputs": [
    {
     "data": {
      "text/plain": [
       "[1, 3, 5, 7, 9]"
      ]
     },
     "execution_count": 21,
     "metadata": {},
     "output_type": "execute_result"
    }
   ],
   "source": [
    "# 通过 range 创建等差整数列表\n",
    "list(range(1,11,2))"
   ]
  },
  {
   "cell_type": "code",
   "execution_count": null,
   "metadata": {},
   "outputs": [],
   "source": [
    "float_list = [6.0, -1.0, 3.0, 5.0, 2.0]\n",
    "float_list"
   ]
  },
  {
   "cell_type": "code",
   "execution_count": 1,
   "metadata": {},
   "outputs": [
    {
     "data": {
      "text/plain": [
       "[3, 6, 1, 0, 2]"
      ]
     },
     "execution_count": 1,
     "metadata": {},
     "output_type": "execute_result"
    }
   ],
   "source": [
    "iterable = (3, 6, 1, 0, 2)\n",
    "list_from_iterable = list(iterable)\n",
    "list_from_iterable"
   ]
  },
  {
   "cell_type": "code",
   "execution_count": 23,
   "metadata": {},
   "outputs": [
    {
     "data": {
      "text/plain": [
       "['a', 'b', 'd', 'e', 'e', 'f']"
      ]
     },
     "execution_count": 23,
     "metadata": {},
     "output_type": "execute_result"
    }
   ],
   "source": [
    "iterable = \"abdeef\"\n",
    "list_from_iterable = list(iterable)\n",
    "list_from_iterable"
   ]
  },
  {
   "cell_type": "code",
   "execution_count": 2,
   "metadata": {},
   "outputs": [
    {
     "data": {
      "text/plain": [
       "['a', 'b', 'c']"
      ]
     },
     "execution_count": 2,
     "metadata": {},
     "output_type": "execute_result"
    }
   ],
   "source": [
    "iterable = {'a':1, 'b':2, 'c':3}\n",
    "list_from_iterable = list(iterable)\n",
    "list_from_iterable"
   ]
  },
  {
   "cell_type": "code",
   "execution_count": 4,
   "metadata": {},
   "outputs": [
    {
     "data": {
      "text/plain": [
       "[0, 0, 0, 0, 0, 0, 0, 0, 0, 0]"
      ]
     },
     "execution_count": 4,
     "metadata": {},
     "output_type": "execute_result"
    }
   ],
   "source": [
    "# 变相创建一个n长的零数组\n",
    "n = 10\n",
    "list_zero_n = [0] * n\n",
    "list_zero_n"
   ]
  },
  {
   "cell_type": "markdown",
   "metadata": {},
   "source": [
    "#### (2) python的列表非常疯狂"
   ]
  },
  {
   "cell_type": "markdown",
   "metadata": {},
   "source": [
    "- 什么都可以往里面放\n",
    "- 与普通变量一样，用中括号括起一堆数据就可以\n",
    "- 数据间用逗号隔开"
   ]
  },
  {
   "cell_type": "code",
   "execution_count": 4,
   "metadata": {},
   "outputs": [],
   "source": [
    "mix = [1, 2, 5, \"同济大学\", 5, [3, 6, 7], (\"我\", \"你\")]"
   ]
  },
  {
   "cell_type": "code",
   "execution_count": 5,
   "metadata": {},
   "outputs": [
    {
     "data": {
      "text/plain": [
       "[1, 2, 5, '同济大学', 5, [3, 6, 7], ('我', '你')]"
      ]
     },
     "execution_count": 5,
     "metadata": {},
     "output_type": "execute_result"
    }
   ],
   "source": [
    "mix"
   ]
  },
  {
   "cell_type": "markdown",
   "metadata": {},
   "source": [
    "[返回目录](#mulu)"
   ]
  },
  {
   "cell_type": "markdown",
   "metadata": {
    "toc-hr-collapsed": true
   },
   "source": [
    "### <font size=4><span id=\"5.1.2\"> 5.1.2 向列表中添加元素</span></font>"
   ]
  },
  {
   "cell_type": "markdown",
   "metadata": {},
   "source": [
    "#### (1) 添单个元素到列表尾部 —— `append` 函数\n",
    "\n",
    "- 命令语法\n",
    "\n",
    "```python\n",
    ">>> list.append(new_item)\n",
    "```"
   ]
  },
  {
   "cell_type": "code",
   "execution_count": 6,
   "metadata": {},
   "outputs": [
    {
     "name": "stdout",
     "output_type": "stream",
     "text": [
      "Help on method_descriptor:\n",
      "\n",
      "append(self, object, /)\n",
      "    Append object to the end of the list.\n",
      "\n"
     ]
    }
   ],
   "source": [
    "help(list.append)"
   ]
  },
  {
   "cell_type": "markdown",
   "metadata": {},
   "source": [
    "##### 例3 添加单个元素到列表尾部"
   ]
  },
  {
   "cell_type": "code",
   "execution_count": 7,
   "metadata": {},
   "outputs": [
    {
     "data": {
      "text/plain": [
       "[1, 2, 3, 4, 5]"
      ]
     },
     "execution_count": 7,
     "metadata": {},
     "output_type": "execute_result"
    }
   ],
   "source": [
    "a_list = [1, 2, 3, 4, 5]\n",
    "a_list"
   ]
  },
  {
   "cell_type": "code",
   "execution_count": 8,
   "metadata": {},
   "outputs": [
    {
     "data": {
      "text/plain": [
       "[1, 2, 3, 4, 5, 6]"
      ]
     },
     "execution_count": 8,
     "metadata": {},
     "output_type": "execute_result"
    }
   ],
   "source": [
    "a_list.append(6)\n",
    "a_list"
   ]
  },
  {
   "cell_type": "code",
   "execution_count": 9,
   "metadata": {},
   "outputs": [
    {
     "data": {
      "text/plain": [
       "[1, 2, 3, 4, 5, 6, 7]"
      ]
     },
     "execution_count": 9,
     "metadata": {},
     "output_type": "execute_result"
    }
   ],
   "source": [
    "a_list.append(7)\n",
    "a_list"
   ]
  },
  {
   "cell_type": "code",
   "execution_count": 10,
   "metadata": {},
   "outputs": [
    {
     "ename": "TypeError",
     "evalue": "list.append() takes exactly one argument (2 given)",
     "output_type": "error",
     "traceback": [
      "\u001b[1;31m---------------------------------------------------------------------------\u001b[0m",
      "\u001b[1;31mTypeError\u001b[0m                                 Traceback (most recent call last)",
      "Cell \u001b[1;32mIn[10], line 1\u001b[0m\n\u001b[1;32m----> 1\u001b[0m b \u001b[38;5;241m=\u001b[39m a_list\u001b[38;5;241m.\u001b[39mappend(\u001b[38;5;241m8\u001b[39m,\u001b[38;5;241m9\u001b[39m)\n\u001b[0;32m      2\u001b[0m b\n",
      "\u001b[1;31mTypeError\u001b[0m: list.append() takes exactly one argument (2 given)"
     ]
    }
   ],
   "source": [
    "b = a_list.append(8,9)\n",
    "b"
   ]
  },
  {
   "cell_type": "markdown",
   "metadata": {},
   "source": [
    "#### (2) 添加多个元素到列表尾部 ——  `extend` 函数\n",
    "\n",
    "\n",
    "- 语法\n",
    "```python\n",
    ">>> a_list.extend(iterable)\n",
    "```\n",
    "\n",
    "\n",
    "- 参数\n",
    "    - iterable —— 可迭代容器\n",
    "\n",
    "\n",
    "- 功能：将参数中的元素逐个添加到列表尾部\n",
    "\n",
    "\n",
    "- 注意 —— 函数是单参数"
   ]
  },
  {
   "cell_type": "code",
   "execution_count": 11,
   "metadata": {},
   "outputs": [
    {
     "name": "stdout",
     "output_type": "stream",
     "text": [
      "Help on method_descriptor:\n",
      "\n",
      "extend(self, iterable, /)\n",
      "    Extend list by appending elements from the iterable.\n",
      "\n"
     ]
    }
   ],
   "source": [
    "help(list.extend)"
   ]
  },
  {
   "cell_type": "markdown",
   "metadata": {},
   "source": [
    "##### 例4  尝试使用 `append` 函数添加多个元素到列表尾部"
   ]
  },
  {
   "cell_type": "markdown",
   "metadata": {},
   "source": [
    "- 发现 —— append 函数似乎不能一次添加多个元素"
   ]
  },
  {
   "cell_type": "code",
   "execution_count": 12,
   "metadata": {},
   "outputs": [
    {
     "data": {
      "text/plain": [
       "[1, 2, 3, 4, 5, 6, 7, [7, 8]]"
      ]
     },
     "execution_count": 12,
     "metadata": {},
     "output_type": "execute_result"
    }
   ],
   "source": [
    "a_list.append([7,8])\n",
    "a_list"
   ]
  },
  {
   "cell_type": "code",
   "execution_count": 13,
   "metadata": {},
   "outputs": [
    {
     "data": {
      "text/plain": [
       "[1, 2, 3, 4, 5, 6, 7, [7, 8], (7, 8)]"
      ]
     },
     "execution_count": 13,
     "metadata": {},
     "output_type": "execute_result"
    }
   ],
   "source": [
    "a_list.append((7,8))  #\n",
    "a_list "
   ]
  },
  {
   "cell_type": "code",
   "execution_count": 14,
   "metadata": {},
   "outputs": [
    {
     "data": {
      "text/plain": [
       "[1, 2, 3, 4, 5, 6, 7, [7, 8], (7, 8), 7, 8, 9]"
      ]
     },
     "execution_count": 14,
     "metadata": {},
     "output_type": "execute_result"
    }
   ],
   "source": [
    "# 不能省略方括号，注意单参数要求\n",
    "a_list.extend([7, 8, 9])\n",
    "a_list"
   ]
  },
  {
   "cell_type": "code",
   "execution_count": 15,
   "metadata": {},
   "outputs": [
    {
     "data": {
      "text/plain": [
       "[1, 2, 3, 4, 5, 6, 7, [7, 8], (7, 8), 7, 8, 9, 10, 11]"
      ]
     },
     "execution_count": 15,
     "metadata": {},
     "output_type": "execute_result"
    }
   ],
   "source": [
    "# 不能省略方括号，注意单参数要求\n",
    "a_list.extend((10,11))\n",
    "a_list"
   ]
  },
  {
   "cell_type": "code",
   "execution_count": 16,
   "metadata": {},
   "outputs": [
    {
     "data": {
      "text/plain": [
       "[1, 2, 3, 4, 5, 6, 7, [7, 8], (7, 8), 7, 8, 9, 10, 11, 12, 14, 16, 18]"
      ]
     },
     "execution_count": 16,
     "metadata": {},
     "output_type": "execute_result"
    }
   ],
   "source": [
    "a_list.extend(range(12,20,2))\n",
    "a_list"
   ]
  },
  {
   "cell_type": "markdown",
   "metadata": {},
   "source": [
    "#### (3) 在指定位置插入单个元素 —— `insert` 函数\n",
    "\n",
    "- 命令语法\n",
    "\n",
    "```python\n",
    ">>> a_list.insert(index, object)\n",
    "```\n",
    "\n",
    "- 功能 —— 在索引 `index` 前插入元素"
   ]
  },
  {
   "cell_type": "markdown",
   "metadata": {},
   "source": [
    "##### 例5 指定位置插入单个元素"
   ]
  },
  {
   "cell_type": "code",
   "execution_count": 35,
   "metadata": {},
   "outputs": [
    {
     "name": "stdout",
     "output_type": "stream",
     "text": [
      "[-1, 1, 2, 3, 4, 5, 6, 7]\n"
     ]
    }
   ],
   "source": [
    "### 比如我希望将-1插入在最前面\n",
    "number = [1, 2, 3, 4, 5, 6, 7]\n",
    "number.insert(0,-1)\n",
    "print(number)"
   ]
  },
  {
   "cell_type": "code",
   "execution_count": 36,
   "metadata": {},
   "outputs": [
    {
     "data": {
      "text/plain": [
       "[-1, 1, 2, 3, 4, 4.5, 5, 6, 7]"
      ]
     },
     "execution_count": 36,
     "metadata": {},
     "output_type": "execute_result"
    }
   ],
   "source": [
    "## 如何想把4.5 插入在4和5之间\n",
    "number.insert(5,4.5)\n",
    "number"
   ]
  },
  {
   "cell_type": "markdown",
   "metadata": {},
   "source": [
    "#### (4) 如何在指定位置插入多个元素？\n",
    "\n",
    "\n",
    "- 注意 `insert` 函数只能接受两个参数"
   ]
  },
  {
   "cell_type": "code",
   "execution_count": 37,
   "metadata": {},
   "outputs": [
    {
     "data": {
      "text/plain": [
       "[-1, 1, 2, 3, 4, 4.5, 5, 6, 7]"
      ]
     },
     "execution_count": 37,
     "metadata": {},
     "output_type": "execute_result"
    }
   ],
   "source": [
    "number"
   ]
  },
  {
   "cell_type": "code",
   "execution_count": 38,
   "metadata": {},
   "outputs": [
    {
     "data": {
      "text/plain": [
       "[[1, 2, 3], -1, 1, 2, 3, 4, 4.5, 5, 6, 7]"
      ]
     },
     "execution_count": 38,
     "metadata": {},
     "output_type": "execute_result"
    }
   ],
   "source": [
    "number.insert(0, [1,2,3])\n",
    "number\n",
    "# 还可以插入一个任意对象"
   ]
  },
  {
   "cell_type": "markdown",
   "metadata": {},
   "source": [
    "##### 例6 for 循环改进 —— 配合 insert 函数"
   ]
  },
  {
   "cell_type": "code",
   "execution_count": 9,
   "metadata": {},
   "outputs": [
    {
     "data": {
      "text/plain": [
       "[1, 2, 3, 97, 98, 99, 4, 5]"
      ]
     },
     "execution_count": 9,
     "metadata": {},
     "output_type": "execute_result"
    }
   ],
   "source": [
    "a_list = [1,2,3,4,5]\n",
    "new_list = [97, 98, 99]\n",
    "\n",
    "for new_item in new_list[::-1]:\n",
    "    a_list.insert(3, new_item)\n",
    "    \n",
    "a_list"
   ]
  },
  {
   "cell_type": "markdown",
   "metadata": {},
   "source": [
    "##### 例7  再改进 —— 精简代码"
   ]
  },
  {
   "cell_type": "code",
   "execution_count": 39,
   "metadata": {},
   "outputs": [
    {
     "data": {
      "text/plain": [
       "[1, 2, 3, 97, 98, 99, 4, 5]"
      ]
     },
     "execution_count": 39,
     "metadata": {},
     "output_type": "execute_result"
    }
   ],
   "source": [
    "a_list = [1,2,3,4,5]\n",
    "new_list = [97, 98, 99]\n",
    "\n",
    "[a_list.insert(3, item) for item in new_list[::-1]]\n",
    "\n",
    "a_list"
   ]
  },
  {
   "cell_type": "markdown",
   "metadata": {},
   "source": [
    "##### 例8  进一步改进 —— 良好的可读性\n",
    "\n",
    "\n",
    "- 注 — 前两例中添加元素的次序颠倒"
   ]
  },
  {
   "cell_type": "code",
   "execution_count": 13,
   "metadata": {},
   "outputs": [
    {
     "name": "stdout",
     "output_type": "stream",
     "text": [
      "2529634607552\n",
      "2529634613632\n"
     ]
    },
    {
     "data": {
      "text/plain": [
       "[1, 2, 3, 97, 98, 99, 4, 5]"
      ]
     },
     "execution_count": 13,
     "metadata": {},
     "output_type": "execute_result"
    }
   ],
   "source": [
    "a_list = [1,2,3,4,5]\n",
    "#print(id(a_list))\n",
    "new_list = [97, 98, 99]\n",
    "\n",
    "a_list = a_list[:3] + new_list + a_list[3:] # 用到了访问列表的切片技术\n",
    "#print(id(a_list))\n",
    "a_list"
   ]
  },
  {
   "cell_type": "markdown",
   "metadata": {},
   "source": [
    "[返回目录](#mulu5)"
   ]
  },
  {
   "cell_type": "markdown",
   "metadata": {
    "toc-hr-collapsed": true
   },
   "source": [
    "### <font size=4><span id=\"5.1.3\"> 5.1.3 访问列表</span></font>"
   ]
  },
  {
   "cell_type": "markdown",
   "metadata": {},
   "source": [
    "\n",
    "- 语法\n",
    "\n",
    "```python\n",
    ">>> a_list[index]  # 下标访问\n",
    ">>> a_list[start:stop:step] # 切片访问\n",
    "```\n",
    "\n",
    "\n",
    "- 注意\n",
    "    - 左闭右开\n",
    "    - 可省略 start(默认0)、stop(默认包含最末) 和 step(默认取 1)\n",
    "    - 下标可以为负值\n",
    "        - -1表示倒数第一、-2表示倒数第二、余类推..."
   ]
  },
  {
   "cell_type": "markdown",
   "metadata": {},
   "source": [
    "#### 例   访问\n",
    "\n",
    "- 单元素\n",
    "- 多元素（元组）\n",
    "- 多元素（列表分片方式）—— 注意 `左闭右开`"
   ]
  },
  {
   "cell_type": "code",
   "execution_count": 17,
   "metadata": {},
   "outputs": [
    {
     "data": {
      "text/plain": [
       "['王重阳', '段智兴', '黄药师', '洪七公', '欧阳锋']"
      ]
     },
     "execution_count": 17,
     "metadata": {},
     "output_type": "execute_result"
    }
   ],
   "source": [
    "my_list = ['王重阳', '段智兴', '黄药师', '洪七公', '欧阳锋']\n",
    "my_list"
   ]
  },
  {
   "cell_type": "code",
   "execution_count": 18,
   "metadata": {},
   "outputs": [
    {
     "data": {
      "text/plain": [
       "'洪七公'"
      ]
     },
     "execution_count": 18,
     "metadata": {},
     "output_type": "execute_result"
    }
   ],
   "source": [
    "my_list[3]"
   ]
  },
  {
   "cell_type": "code",
   "execution_count": 42,
   "metadata": {},
   "outputs": [
    {
     "data": {
      "text/plain": [
       "'欧阳锋'"
      ]
     },
     "execution_count": 42,
     "metadata": {},
     "output_type": "execute_result"
    }
   ],
   "source": [
    "my_list[-1]"
   ]
  },
  {
   "cell_type": "code",
   "execution_count": 17,
   "metadata": {},
   "outputs": [
    {
     "data": {
      "text/plain": [
       "('欧阳锋', '黄药师')"
      ]
     },
     "execution_count": 17,
     "metadata": {},
     "output_type": "execute_result"
    }
   ],
   "source": [
    "my_list[4], my_list[2]"
   ]
  },
  {
   "cell_type": "code",
   "execution_count": 44,
   "metadata": {},
   "outputs": [
    {
     "data": {
      "text/plain": [
       "['黄药师', '洪七公']"
      ]
     },
     "execution_count": 44,
     "metadata": {},
     "output_type": "execute_result"
    }
   ],
   "source": [
    "my_list[2:4]"
   ]
  },
  {
   "cell_type": "markdown",
   "metadata": {},
   "source": [
    "#### 例9  元素调换位置"
   ]
  },
  {
   "cell_type": "code",
   "execution_count": 45,
   "metadata": {},
   "outputs": [
    {
     "data": {
      "text/plain": [
       "['王重阳', '段智兴', '黄药师', '洪七公', '欧阳锋']"
      ]
     },
     "execution_count": 45,
     "metadata": {},
     "output_type": "execute_result"
    }
   ],
   "source": [
    "my_list"
   ]
  },
  {
   "cell_type": "code",
   "execution_count": 46,
   "metadata": {},
   "outputs": [
    {
     "data": {
      "text/plain": [
       "['欧阳锋', '段智兴', '黄药师', '洪七公', '王重阳']"
      ]
     },
     "execution_count": 46,
     "metadata": {},
     "output_type": "execute_result"
    }
   ],
   "source": [
    "my_list[0], my_list[4] = my_list[4], my_list[0]\n",
    "my_list"
   ]
  },
  {
   "cell_type": "markdown",
   "metadata": {},
   "source": [
    "#### 例10 几种常见的排序算法"
   ]
  },
  {
   "cell_type": "code",
   "execution_count": 22,
   "metadata": {},
   "outputs": [
    {
     "data": {
      "text/plain": [
       "[795,\n",
       " 4893,\n",
       " 5940,\n",
       " 5800,\n",
       " 9821,\n",
       " 2541,\n",
       " 5038,\n",
       " 7509,\n",
       " 9044,\n",
       " 953,\n",
       " 2219,\n",
       " 7106,\n",
       " 2901,\n",
       " 4303,\n",
       " 3387,\n",
       " 1325,\n",
       " 8205,\n",
       " 2097,\n",
       " 4055,\n",
       " 8406,\n",
       " 881,\n",
       " 9251,\n",
       " 8178,\n",
       " 4974,\n",
       " 3165,\n",
       " 6573,\n",
       " 8388,\n",
       " 2046,\n",
       " 2145,\n",
       " 7991,\n",
       " 420,\n",
       " 2658,\n",
       " 669,\n",
       " 2302,\n",
       " 9378,\n",
       " 7278,\n",
       " 3985,\n",
       " 8677,\n",
       " 1690,\n",
       " 5087,\n",
       " 4899,\n",
       " 7694,\n",
       " 1798,\n",
       " 172,\n",
       " 2172,\n",
       " 9022,\n",
       " 5973,\n",
       " 9423,\n",
       " 5989,\n",
       " 476,\n",
       " 9184,\n",
       " 9421,\n",
       " 9734,\n",
       " 6186,\n",
       " 8204,\n",
       " 4469,\n",
       " 7995,\n",
       " 8263,\n",
       " 8133,\n",
       " 1038,\n",
       " 3128,\n",
       " 5415,\n",
       " 4906,\n",
       " 9911,\n",
       " 7165,\n",
       " 8282,\n",
       " 5996,\n",
       " 2568,\n",
       " 3528,\n",
       " 103,\n",
       " 5016,\n",
       " 364,\n",
       " 3235,\n",
       " 2196,\n",
       " 6211,\n",
       " 5379,\n",
       " 3014,\n",
       " 8060,\n",
       " 6713,\n",
       " 1572,\n",
       " 723,\n",
       " 8052,\n",
       " 7096,\n",
       " 171,\n",
       " 5866,\n",
       " 4048,\n",
       " 9064,\n",
       " 5343,\n",
       " 8392,\n",
       " 720,\n",
       " 4510,\n",
       " 657,\n",
       " 4382,\n",
       " 1177,\n",
       " 5528,\n",
       " 9038,\n",
       " 7522,\n",
       " 7605,\n",
       " 477,\n",
       " 6030,\n",
       " 2367,\n",
       " 4265,\n",
       " 6319,\n",
       " 2704,\n",
       " 3782,\n",
       " 2863,\n",
       " 6752,\n",
       " 1102,\n",
       " 2138,\n",
       " 7698,\n",
       " 9674,\n",
       " 8253,\n",
       " 6347,\n",
       " 2662,\n",
       " 2348,\n",
       " 9262,\n",
       " 9498,\n",
       " 9646,\n",
       " 243,\n",
       " 1553,\n",
       " 2312,\n",
       " 3409,\n",
       " 1189,\n",
       " 3677,\n",
       " 8558,\n",
       " 8629,\n",
       " 4936,\n",
       " 1335,\n",
       " 9313,\n",
       " 6613,\n",
       " 7079,\n",
       " 9913,\n",
       " 9135,\n",
       " 6061,\n",
       " 4064,\n",
       " 6068,\n",
       " 9709,\n",
       " 304,\n",
       " 4654,\n",
       " 1349,\n",
       " 2629,\n",
       " 7896,\n",
       " 2285,\n",
       " 7644,\n",
       " 9954,\n",
       " 5685,\n",
       " 6667,\n",
       " 6514,\n",
       " 6815,\n",
       " 6274,\n",
       " 3684,\n",
       " 4249,\n",
       " 9936,\n",
       " 2476,\n",
       " 9256,\n",
       " 9525,\n",
       " 6284,\n",
       " 8980,\n",
       " 289,\n",
       " 3615,\n",
       " 6918,\n",
       " 4693,\n",
       " 7051,\n",
       " 1199,\n",
       " 1310,\n",
       " 7359,\n",
       " 9970,\n",
       " 4603,\n",
       " 9714,\n",
       " 206,\n",
       " 5684,\n",
       " 6622,\n",
       " 3353,\n",
       " 9089,\n",
       " 8180,\n",
       " 28,\n",
       " 3413,\n",
       " 5738,\n",
       " 1962,\n",
       " 8169,\n",
       " 9785,\n",
       " 8895,\n",
       " 1560,\n",
       " 8947,\n",
       " 5485,\n",
       " 2912,\n",
       " 509,\n",
       " 7668,\n",
       " 8838,\n",
       " 8557,\n",
       " 5566,\n",
       " 2217,\n",
       " 4788,\n",
       " 2966,\n",
       " 3507,\n",
       " 5282,\n",
       " 8028,\n",
       " 2791,\n",
       " 8573,\n",
       " 8048,\n",
       " 5228,\n",
       " 1799,\n",
       " 9611,\n",
       " 8145,\n",
       " 9876,\n",
       " 3706,\n",
       " 1471,\n",
       " 5046,\n",
       " 3932,\n",
       " 4826,\n",
       " 5505,\n",
       " 3386,\n",
       " 3691,\n",
       " 520,\n",
       " 4567,\n",
       " 242,\n",
       " 3161,\n",
       " 8194,\n",
       " 5551,\n",
       " 9,\n",
       " 2249,\n",
       " 7503,\n",
       " 4340,\n",
       " 7414,\n",
       " 4354,\n",
       " 3579,\n",
       " 692,\n",
       " 9270,\n",
       " 5111,\n",
       " 4988,\n",
       " 8483,\n",
       " 4403,\n",
       " 8514,\n",
       " 1396,\n",
       " 3107,\n",
       " 1567,\n",
       " 8755,\n",
       " 6795,\n",
       " 6861,\n",
       " 5823,\n",
       " 630,\n",
       " 9790,\n",
       " 1284,\n",
       " 5729,\n",
       " 395,\n",
       " 9433,\n",
       " 5968,\n",
       " 7469,\n",
       " 9896,\n",
       " 6449,\n",
       " 1735,\n",
       " 7618,\n",
       " 8435,\n",
       " 3929,\n",
       " 6425,\n",
       " 2961,\n",
       " 3791,\n",
       " 1738,\n",
       " 3444,\n",
       " 4393,\n",
       " 8703,\n",
       " 8370,\n",
       " 8474,\n",
       " 2556,\n",
       " 5290,\n",
       " 5625,\n",
       " 1276,\n",
       " 1916,\n",
       " 5789,\n",
       " 8524,\n",
       " 8319,\n",
       " 2424,\n",
       " 184,\n",
       " 8767,\n",
       " 982,\n",
       " 5506,\n",
       " 4140,\n",
       " 8519,\n",
       " 2973,\n",
       " 8982,\n",
       " 2971,\n",
       " 3218,\n",
       " 6576,\n",
       " 3411,\n",
       " 2952,\n",
       " 7043,\n",
       " 1482,\n",
       " 7380,\n",
       " 8756,\n",
       " 5667,\n",
       " 1832,\n",
       " 1712,\n",
       " 3253,\n",
       " 4077,\n",
       " 1874,\n",
       " 8183,\n",
       " 150,\n",
       " 498,\n",
       " 5993,\n",
       " 9748,\n",
       " 6320,\n",
       " 6742,\n",
       " 8702,\n",
       " 9761,\n",
       " 279,\n",
       " 3097,\n",
       " 7651,\n",
       " 9528,\n",
       " 4433,\n",
       " 7399,\n",
       " 5268,\n",
       " 1504,\n",
       " 6139,\n",
       " 6294,\n",
       " 867,\n",
       " 6666,\n",
       " 3982,\n",
       " 8237,\n",
       " 6556,\n",
       " 8383,\n",
       " 8988,\n",
       " 888,\n",
       " 5983,\n",
       " 8729,\n",
       " 5427,\n",
       " 9985,\n",
       " 501,\n",
       " 7643,\n",
       " 1636,\n",
       " 8097,\n",
       " 4591,\n",
       " 355,\n",
       " 747,\n",
       " 8835,\n",
       " 6388,\n",
       " 737,\n",
       " 4459,\n",
       " 3432,\n",
       " 3509,\n",
       " 1298,\n",
       " 6903,\n",
       " 7123,\n",
       " 8148,\n",
       " 6955,\n",
       " 106,\n",
       " 2636,\n",
       " 3965,\n",
       " 8193,\n",
       " 673,\n",
       " 8506,\n",
       " 3234,\n",
       " 4838,\n",
       " 8476,\n",
       " 442,\n",
       " 2559,\n",
       " 5116,\n",
       " 9077,\n",
       " 2279,\n",
       " 2991,\n",
       " 8092,\n",
       " 8008,\n",
       " 9588,\n",
       " 5327,\n",
       " 6097,\n",
       " 3543,\n",
       " 3918,\n",
       " 1039,\n",
       " 7802,\n",
       " 2192,\n",
       " 8540,\n",
       " 9444,\n",
       " 9683,\n",
       " 3613,\n",
       " 2126,\n",
       " 6588,\n",
       " 8208,\n",
       " 6951,\n",
       " 6683,\n",
       " 8268,\n",
       " 7325,\n",
       " 4552,\n",
       " 596,\n",
       " 1672,\n",
       " 538,\n",
       " 9132,\n",
       " 384,\n",
       " 1867,\n",
       " 8572,\n",
       " 4464,\n",
       " 2171,\n",
       " 756,\n",
       " 4758,\n",
       " 7971,\n",
       " 7829,\n",
       " 3155,\n",
       " 5336,\n",
       " 7075,\n",
       " 3378,\n",
       " 4805,\n",
       " 6053,\n",
       " 8919,\n",
       " 7951,\n",
       " 8749,\n",
       " 6365,\n",
       " 2295,\n",
       " 9381,\n",
       " 4428,\n",
       " 2262,\n",
       " 7964,\n",
       " 1708,\n",
       " 4717,\n",
       " 699,\n",
       " 8705,\n",
       " 9198,\n",
       " 9231,\n",
       " 7780,\n",
       " 2435,\n",
       " 2707,\n",
       " 3343,\n",
       " 9069,\n",
       " 543,\n",
       " 6596,\n",
       " 6219,\n",
       " 514,\n",
       " 7383,\n",
       " 310,\n",
       " 8272,\n",
       " 8093,\n",
       " 2407,\n",
       " 5906,\n",
       " 7114,\n",
       " 3108,\n",
       " 4935,\n",
       " 4054,\n",
       " 2526,\n",
       " 2481,\n",
       " 5688,\n",
       " 8736,\n",
       " 7721,\n",
       " 9619,\n",
       " 6488,\n",
       " 541,\n",
       " 3756,\n",
       " 7247,\n",
       " 9211,\n",
       " 4026,\n",
       " 4237,\n",
       " 869,\n",
       " 5990,\n",
       " 3836,\n",
       " 1297,\n",
       " 7406,\n",
       " 3619,\n",
       " 2309,\n",
       " 8652,\n",
       " 6590,\n",
       " 6932,\n",
       " 8722,\n",
       " 9983,\n",
       " 3587,\n",
       " 6389,\n",
       " 204,\n",
       " 1846,\n",
       " 1974,\n",
       " 3959,\n",
       " 197,\n",
       " 3839,\n",
       " 7735,\n",
       " 8805,\n",
       " 8691,\n",
       " 3556,\n",
       " 674,\n",
       " 4851,\n",
       " 9650,\n",
       " 1592,\n",
       " 4310,\n",
       " 6150,\n",
       " 6875,\n",
       " 7672,\n",
       " 9533,\n",
       " 9428,\n",
       " 5986,\n",
       " 4516,\n",
       " 2816,\n",
       " 6398,\n",
       " 6724,\n",
       " 8507,\n",
       " 375,\n",
       " 6232,\n",
       " 8866,\n",
       " 3699,\n",
       " 9496,\n",
       " 5375,\n",
       " 7082,\n",
       " 1275,\n",
       " 9181,\n",
       " 3373,\n",
       " 1495,\n",
       " 1032,\n",
       " 1394,\n",
       " 4102,\n",
       " 5467,\n",
       " 4816,\n",
       " 378,\n",
       " 4435,\n",
       " 5209,\n",
       " 8418,\n",
       " 8162,\n",
       " 4411,\n",
       " 39,\n",
       " 4986,\n",
       " 4970,\n",
       " 6699,\n",
       " 8057,\n",
       " 3713,\n",
       " 3649,\n",
       " 754,\n",
       " 7941,\n",
       " 6870,\n",
       " 6822,\n",
       " 7633,\n",
       " 5370,\n",
       " 8010,\n",
       " 5332,\n",
       " 6984,\n",
       " 3474,\n",
       " 4637,\n",
       " 5851,\n",
       " 1249,\n",
       " 1429,\n",
       " 4417,\n",
       " 5886,\n",
       " 6090,\n",
       " 2822,\n",
       " 6020,\n",
       " 5254,\n",
       " 8564,\n",
       " 6940,\n",
       " 9035,\n",
       " 7501,\n",
       " 1626,\n",
       " 3709,\n",
       " 459,\n",
       " 1582,\n",
       " 5549,\n",
       " 811,\n",
       " 9052,\n",
       " 1181,\n",
       " 8731,\n",
       " 2447,\n",
       " 2009,\n",
       " 3910,\n",
       " 9743,\n",
       " 1357,\n",
       " 6976,\n",
       " 3494,\n",
       " 979,\n",
       " 1838,\n",
       " 7876,\n",
       " 9787,\n",
       " 590,\n",
       " 6540,\n",
       " 9161,\n",
       " 6807,\n",
       " 8394,\n",
       " 936,\n",
       " 4117,\n",
       " 3925,\n",
       " 7267,\n",
       " 3824,\n",
       " 8171,\n",
       " 6531,\n",
       " 338,\n",
       " 9615,\n",
       " 4554,\n",
       " 1061,\n",
       " 1898,\n",
       " 5193,\n",
       " 7429,\n",
       " 6083,\n",
       " 8968,\n",
       " 1754,\n",
       " 5348,\n",
       " 722,\n",
       " 5053,\n",
       " 3346,\n",
       " 7508,\n",
       " 810,\n",
       " 2248,\n",
       " 1472,\n",
       " 7112,\n",
       " 7568,\n",
       " 7630,\n",
       " 7940,\n",
       " 2056,\n",
       " 7559,\n",
       " 3487,\n",
       " 6725,\n",
       " 8794,\n",
       " 3577,\n",
       " 5544,\n",
       " 8017,\n",
       " 5323,\n",
       " 8911,\n",
       " 1279,\n",
       " 9805,\n",
       " 5363,\n",
       " 8038,\n",
       " 385,\n",
       " 1960,\n",
       " 4581,\n",
       " 3084,\n",
       " 7280,\n",
       " 648,\n",
       " 3175,\n",
       " 3215,\n",
       " 5658,\n",
       " 3013,\n",
       " 8546,\n",
       " 7745,\n",
       " 5304,\n",
       " 4370,\n",
       " 8358,\n",
       " 9727,\n",
       " 3871,\n",
       " 8339,\n",
       " 4368,\n",
       " 4690,\n",
       " 19,\n",
       " 1182,\n",
       " 4336,\n",
       " 4446,\n",
       " 7871,\n",
       " 2175,\n",
       " 4961,\n",
       " 2072,\n",
       " 9414,\n",
       " 3737,\n",
       " 6593,\n",
       " 7884,\n",
       " 3648,\n",
       " 6391,\n",
       " 6735,\n",
       " 1977,\n",
       " 7169,\n",
       " 9693,\n",
       " 4418,\n",
       " 7183,\n",
       " 6210,\n",
       " 6196,\n",
       " 1536,\n",
       " 4525,\n",
       " 3558,\n",
       " 4707,\n",
       " 5331,\n",
       " 2176,\n",
       " 439,\n",
       " 3226,\n",
       " 9334,\n",
       " 4492,\n",
       " 3869,\n",
       " 8398,\n",
       " 3606,\n",
       " 1422,\n",
       " 1410,\n",
       " 6643,\n",
       " 710,\n",
       " 8328,\n",
       " 6779,\n",
       " 8424,\n",
       " 9898,\n",
       " 3276,\n",
       " 5186,\n",
       " 2449,\n",
       " 5736,\n",
       " 8913,\n",
       " 5428,\n",
       " 3285,\n",
       " 2039,\n",
       " 8637,\n",
       " 1419,\n",
       " 426,\n",
       " 4875,\n",
       " 8249,\n",
       " 7824,\n",
       " 6526,\n",
       " 4261,\n",
       " 7350,\n",
       " 490,\n",
       " 7052,\n",
       " 3160,\n",
       " 9380,\n",
       " 4917,\n",
       " 9454,\n",
       " 7363,\n",
       " 2732,\n",
       " 3541,\n",
       " 5816,\n",
       " 4509,\n",
       " 5988,\n",
       " 8915,\n",
       " 6404,\n",
       " 2866,\n",
       " 7860,\n",
       " 7622,\n",
       " 418,\n",
       " 4163,\n",
       " 965,\n",
       " 6900,\n",
       " 3734,\n",
       " 2052,\n",
       " 8747,\n",
       " 5885,\n",
       " 9080,\n",
       " 992,\n",
       " 1288,\n",
       " 9882,\n",
       " 1242,\n",
       " 2874,\n",
       " 2164,\n",
       " 3282,\n",
       " 8621,\n",
       " 6936,\n",
       " 345,\n",
       " 7763,\n",
       " 92,\n",
       " 1747,\n",
       " 4945,\n",
       " 2969,\n",
       " 2738,\n",
       " 8933,\n",
       " 6723,\n",
       " 6247,\n",
       " 964,\n",
       " 8704,\n",
       " 9992,\n",
       " 8628,\n",
       " 3000,\n",
       " 6380,\n",
       " 110,\n",
       " 7382,\n",
       " 2220,\n",
       " 4549,\n",
       " 724,\n",
       " 1845,\n",
       " 336,\n",
       " 3134,\n",
       " 3616,\n",
       " 651,\n",
       " 762,\n",
       " 1655,\n",
       " 6560,\n",
       " 9681,\n",
       " 1840,\n",
       " 7723,\n",
       " 296,\n",
       " 2202,\n",
       " 3922,\n",
       " 3545,\n",
       " 3220,\n",
       " 8033,\n",
       " 7450,\n",
       " 2989,\n",
       " 653,\n",
       " 36,\n",
       " 2103,\n",
       " 7430,\n",
       " 1108,\n",
       " 3905,\n",
       " 1389,\n",
       " 5317,\n",
       " 5376,\n",
       " 6295,\n",
       " 1392,\n",
       " 6228,\n",
       " 4964,\n",
       " 2167,\n",
       " 3559,\n",
       " 8567,\n",
       " 5252,\n",
       " 1586,\n",
       " 2577,\n",
       " 7586,\n",
       " 4253,\n",
       " 1445,\n",
       " 9875,\n",
       " 9461,\n",
       " 2488,\n",
       " 2381,\n",
       " 2339,\n",
       " 1134,\n",
       " 6045,\n",
       " 444,\n",
       " 6496,\n",
       " 4222,\n",
       " 1173,\n",
       " 703,\n",
       " 2513,\n",
       " 6004,\n",
       " 5645,\n",
       " 7517,\n",
       " 8887,\n",
       " 73,\n",
       " 1321,\n",
       " 452,\n",
       " 2784,\n",
       " 4224,\n",
       " 4596,\n",
       " 4877,\n",
       " 1783,\n",
       " 335,\n",
       " 8660,\n",
       " 1620,\n",
       " 4715,\n",
       " 3725,\n",
       " 7908,\n",
       " 7542,\n",
       " 328,\n",
       " 5519,\n",
       " 9300,\n",
       " 9826,\n",
       " 5444,\n",
       " 8087,\n",
       " 9918,\n",
       " 2038,\n",
       " 7650,\n",
       " 5644,\n",
       " 5608,\n",
       " 5100,\n",
       " 4301,\n",
       " 8469,\n",
       " 9350,\n",
       " 7866,\n",
       " 493,\n",
       " 9086,\n",
       " 8286,\n",
       " 7379,\n",
       " 8202,\n",
       " 6572,\n",
       " 8800,\n",
       " 7257,\n",
       " 3458,\n",
       " 7611,\n",
       " 4778,\n",
       " 6323,\n",
       " 2799,\n",
       " 6152,\n",
       " 3010,\n",
       " 9249,\n",
       " 4783,\n",
       " 5822,\n",
       " 3578,\n",
       " 1749,\n",
       " 4520,\n",
       " 861,\n",
       " 5870,\n",
       " 4187,\n",
       " 7173,\n",
       " 175,\n",
       " 6418,\n",
       " 1954,\n",
       " 1968,\n",
       " 3301,\n",
       " 6454,\n",
       " 5408,\n",
       " 7057,\n",
       " 2007,\n",
       " 6728,\n",
       " 4017,\n",
       " 4878,\n",
       " 3512,\n",
       " 4703,\n",
       " 6448,\n",
       " 255,\n",
       " 6726,\n",
       " 836,\n",
       " 4234,\n",
       " 4739,\n",
       " 4598,\n",
       " 2031,\n",
       " 1156,\n",
       " 595,\n",
       " 7562,\n",
       " 851,\n",
       " 1283,\n",
       " 1946,\n",
       " 5253,\n",
       " 4813,\n",
       " 2899,\n",
       " 4011,\n",
       " 5724,\n",
       " 3221,\n",
       " 5242,\n",
       " 1716,\n",
       " 4934,\n",
       " 6351,\n",
       " 3692,\n",
       " 744,\n",
       " 2959,\n",
       " 890,\n",
       " 6187,\n",
       " 5568,\n",
       " 5466,\n",
       " 7340,\n",
       " 9648,\n",
       " 9219,\n",
       " 7035,\n",
       " 2564,\n",
       " 9151,\n",
       " 3599,\n",
       " 1632,\n",
       " 5017,\n",
       " 1859,\n",
       " 1958,\n",
       " 2495,\n",
       " 6894,\n",
       " 2370,\n",
       " 8,\n",
       " 156,\n",
       " 4954,\n",
       " 5712,\n",
       " 9007,\n",
       " 5787,\n",
       " 6595,\n",
       " 2177,\n",
       " 1125,\n",
       " 905,\n",
       " 5098,\n",
       " 5987,\n",
       " 7693,\n",
       " 8297,\n",
       " 449,\n",
       " 4079,\n",
       " 9623,\n",
       " 9105,\n",
       " 7489,\n",
       " 9288,\n",
       " 3848,\n",
       " 3072,\n",
       " 1374,\n",
       " 5247,\n",
       " 8884,\n",
       " 9692,\n",
       " 8992,\n",
       " 2155,\n",
       " 4753,\n",
       " 4189,\n",
       " 4975,\n",
       " 1613,\n",
       " 3148,\n",
       " 1219,\n",
       " 5159,\n",
       " 5491,\n",
       " 6333,\n",
       " 133,\n",
       " 7572,\n",
       " 1872,\n",
       " 2199,\n",
       " 6952,\n",
       " 801,\n",
       " 8209,\n",
       " 7811,\n",
       " 71,\n",
       " 3034,\n",
       " 2835,\n",
       " 2195,\n",
       " 2718,\n",
       " 4505,\n",
       " 323,\n",
       " 3174,\n",
       " 1485,\n",
       " 858,\n",
       " 8863,\n",
       " 5437,\n",
       " 8757,\n",
       " 8987,\n",
       " 3877,\n",
       " 7744,\n",
       " 4993,\n",
       " 9618,\n",
       " 7030,\n",
       " 2341,\n",
       " 8005,\n",
       " 9172,\n",
       " 1647,\n",
       " 9947,\n",
       " 9803,\n",
       " 3902,\n",
       " 9092,\n",
       " 7256,\n",
       " 276,\n",
       " 3747,\n",
       " 1945,\n",
       " 2333,\n",
       " 6047,\n",
       " 1619,\n",
       " 7782,\n",
       " 9062,\n",
       " 4161,\n",
       " 5088,\n",
       " ...]"
      ]
     },
     "execution_count": 22,
     "metadata": {},
     "output_type": "execute_result"
    }
   ],
   "source": [
    "import random\n",
    "arr = list(range(10000))\n",
    "random.shuffle(arr)\n",
    "arr"
   ]
  },
  {
   "cell_type": "markdown",
   "metadata": {},
   "source": [
    "#### 选择排序【注意】\n",
    "-  工作原理：首先在未排序序列中找到最小（大）元素，存放到排序序列的起始位置，然后，再从剩余未排序元素中继续寻 找最小（大）元素，然后放到已排序序列的末尾。以此类推，直到所有元素均排序完毕。 \n",
    "- 算法描述：\n",
    "    - 初始状态：无序区为R[1..n]，有序区为空；\n",
    "    - 第i趟排序(i=1,2,3…n-1)开始时，当前有序区和无序区分别为R[1..i-1]和R(i..n）。该趟排序从当前无序区中-选出关键字最小的记录 R[k]，将它与无序区的第1个记录R交换，使R[1..i]和R[i+1..n)分别变为记录个数增加1个的新有序区和记录个数减少1个的新无序区；\n",
    "    - n-1趟结束，数组有序化了。"
   ]
  },
  {
   "cell_type": "markdown",
   "metadata": {},
   "source": [
    "<img src = \"images/chapter05/select.gif\" width = 500>"
   ]
  },
  {
   "cell_type": "code",
   "execution_count": 24,
   "metadata": {},
   "outputs": [
    {
     "name": "stdout",
     "output_type": "stream",
     "text": [
      "CPU times: total: 10.1 s\n",
      "Wall time: 10.2 s\n"
     ]
    }
   ],
   "source": [
    "%%time\n",
    "# 列表排序算法 #重点讲解\n",
    "# num = [1, 3, 5, 2, 4, 9, 8, 7, 10, 6]\n",
    "num = arr.copy()\n",
    "for i in range(len(num)):\n",
    "    min_idx = i\n",
    "    for j in range(i+1,len(num)): #寻找最小元素下标\n",
    "        if num[min_idx] > num[j]:\n",
    "            min_idx = j\n",
    "    \n",
    "    num[i], num[min_idx] = num[min_idx], num[i]  \n",
    "# print(num)"
   ]
  },
  {
   "cell_type": "markdown",
   "metadata": {},
   "source": [
    "#### 冒泡法【注意】\n",
    "-  冒泡排序是一种简单的排序算法。它重复地走访过要排序的数列，一次比较两个元素，如果它们的顺序错误就把它们交换过来。走访数列的工作是重复地进行直到没有再需要交换，也就是说该数列已经排序完成。这个算法的名字由来是因为越小的元素会经由交换慢慢“浮”到数列的顶端。 \n",
    "- 算法描述\n",
    "    - 比较相邻的元素。如果第一个比第二个大，就交换它们两个；\n",
    "    - 对每一对相邻元素作同样的工作，从开始第一对到结尾的最后一对，这样在最后的元素应该会是最大的数；\n",
    "    - 针对所有的元素重复以上的步骤，除了最后一个；\n",
    "    - 重复步骤1~3，直到排序完成。\n",
    "<img src = \"images/chapter05/maopao.jpg\" width = 500>"
   ]
  },
  {
   "cell_type": "markdown",
   "metadata": {},
   "source": [
    "<img src = \"images/chapter05/bubble.gif\" width = 500>"
   ]
  },
  {
   "cell_type": "code",
   "execution_count": 25,
   "metadata": {
    "scrolled": true
   },
   "outputs": [
    {
     "name": "stdout",
     "output_type": "stream",
     "text": [
      "CPU times: total: 21 s\n",
      "Wall time: 21.3 s\n"
     ]
    }
   ],
   "source": [
    "%%time\n",
    "# 列表排序算法 #重点讲解 #方法二-冒泡法\n",
    "# num = [1, 3, 5, 2, 4, 9, 8, 7, 10, 6]\n",
    "num = arr.copy()\n",
    "for i in range(0,len(num)):\n",
    "    for j in range(0,len(num)-i-1):\n",
    "        if num[j] > num[j+1]:\n",
    "            num[j], num[j+1] = num[j+1], num[j]\n",
    "# print(num)"
   ]
  },
  {
   "cell_type": "markdown",
   "metadata": {},
   "source": [
    "#### 插入法【一般了解】\n",
    "它的工作原理是通过构建有序序列，对于未排序数据，在已排序序列中从后向前扫描，找到相应位置并插入。"
   ]
  },
  {
   "cell_type": "markdown",
   "metadata": {},
   "source": [
    "<img src = \"images/chapter05/insert.gif\" width = 500>"
   ]
  },
  {
   "cell_type": "code",
   "execution_count": 26,
   "metadata": {},
   "outputs": [
    {
     "name": "stdout",
     "output_type": "stream",
     "text": [
      "CPU times: total: 10.1 s\n",
      "Wall time: 10.3 s\n"
     ]
    }
   ],
   "source": [
    "%%time\n",
    "# 列表排序算法 #插入算法\n",
    "# num = [1, 3, 5, 2, 4, 9, 8, 7, 10, 6]\n",
    "num = arr.copy()\n",
    "for i in range(len(num)):\n",
    "    current = num[i]  # 当前要插入的元素\n",
    "    pre_index = i-1 #与当前元素比较的比较元素\n",
    "    while pre_index >=0 and num[pre_index]>current:\n",
    "        #当比较元素大于当前元素的时候，比较元素后移\n",
    "        num[pre_index+1] = num[pre_index]\n",
    "        #往前选择下一个元素\n",
    "        pre_index -= 1\n",
    "    # 当比较元素小于当前元素，则将当前元素插入其后，\n",
    "    num[pre_index+1] = current\n",
    "# print(num)"
   ]
  },
  {
   "cell_type": "markdown",
   "metadata": {},
   "source": [
    "- 排序算法很多\n",
    "  \n",
    "<img src = \"images/chapter05/paixusuanfa.png\" width = 800>"
   ]
  },
  {
   "cell_type": "markdown",
   "metadata": {},
   "source": [
    "- 快速排序（Quick Sort）：最好和平均时间复杂度为O(nlogn)，最坏情况时间复杂度为O(n^2)。快速排序通常是最快的排序算法之一，尤其在处理大规模数据时表现良好。\n",
    "- 归并排序（Merge Sort）：平均时间复杂度为O(nlogn)，最坏情况下也是O(nlogn)。归并排序是一种稳定的排序算法，适用于各种数据规模。\n",
    "- 堆排序（Heap Sort）：平均时间复杂度为O(nlogn)，最坏情况下也是O(nlogn)。堆排序使用堆数据结构来进行排序，它具有较好的空间利用率。\n",
    "- 插入排序（Insertion S平均时间复杂度为O(n^2)，最好情况时间复杂度为O(n)，最坏情况时间复杂度为O(n^2)(n^2)。插入排序适用于小规模或部分有序的数据。\n",
    "- 冒泡排序（Bubble Sort）：平均时间复杂度为O(最好情况时间复杂度为O(n)，最坏情况时间复杂度为O(n^2)(n^2)。冒泡排序是一种简单但效率较低的排序算法，适用于小\n",
    "- 选择排序（Select Sort）：平均时间复杂度为O(n^2)，最好情况时间复杂度为O(n^2)，最坏情况时间复杂度为O(n^2)规模数据。\n",
    "\n",
    "需要注意的是，以上时间复杂度仅表示算法的大致执行时间，实际的执行时间还受到多种因素的影响，如硬件性能、数据分布情况等。因此，在选择排序算法时，需要综合考虑实际情"
   ]
  },
  {
   "cell_type": "code",
   "execution_count": 27,
   "metadata": {},
   "outputs": [
    {
     "name": "stdout",
     "output_type": "stream",
     "text": [
      "CPU times: total: 46.9 ms\n",
      "Wall time: 46.9 ms\n"
     ]
    }
   ],
   "source": [
    "%%time\n",
    "num = arr.copy()\n",
    "def quick_sort(num):\n",
    "    if len(num) <= 1:\n",
    "        return num\n",
    "    pivot = num[len(num) // 2]\n",
    "    left = [x for x in num if x < pivot]\n",
    "    middle = [x for x in num if x == pivot]\n",
    "    right = [x for x in num if x > pivot]\n",
    "    return quick_sort(left) + middle + quick_sort(right)\n",
    "\n",
    "sorted_num = quick_sort(num)\n",
    "# print(sorted_num)"
   ]
  },
  {
   "cell_type": "markdown",
   "metadata": {},
   "source": [
    "##### 例11 list自带sort排序算法"
   ]
  },
  {
   "cell_type": "code",
   "execution_count": 31,
   "metadata": {},
   "outputs": [
    {
     "name": "stdout",
     "output_type": "stream",
     "text": [
      "[1, 2, 3, 4, 5, 6, 7, 8, 9, 10]\n"
     ]
    }
   ],
   "source": [
    "num = [1, 3, 5, 2, 4, 9, 8, 7, 10, 6]\n",
    "num.sort()\n",
    "print(num)"
   ]
  },
  {
   "cell_type": "code",
   "execution_count": 28,
   "metadata": {},
   "outputs": [
    {
     "name": "stdout",
     "output_type": "stream",
     "text": [
      "Help on method_descriptor:\n",
      "\n",
      "sort(self, /, *, key=None, reverse=False)\n",
      "    Sort the list in ascending order and return None.\n",
      "    \n",
      "    The sort is in-place (i.e. the list itself is modified) and stable (i.e. the\n",
      "    order of two equal elements is maintained).\n",
      "    \n",
      "    If a key function is given, apply it once to each list item and sort them,\n",
      "    ascending or descending, according to their function values.\n",
      "    \n",
      "    The reverse flag can be set to sort in descending order.\n",
      "\n"
     ]
    }
   ],
   "source": [
    "help(list.sort)"
   ]
  },
  {
   "cell_type": "code",
   "execution_count": 29,
   "metadata": {},
   "outputs": [
    {
     "name": "stdout",
     "output_type": "stream",
     "text": [
      "Help on built-in function sorted in module builtins:\n",
      "\n",
      "sorted(iterable, /, *, key=None, reverse=False)\n",
      "    Return a new list containing all items from the iterable in ascending order.\n",
      "    \n",
      "    A custom key function can be supplied to customize the sort order, and the\n",
      "    reverse flag can be set to request the result in descending order.\n",
      "\n"
     ]
    }
   ],
   "source": [
    "help(sorted)"
   ]
  },
  {
   "cell_type": "code",
   "execution_count": 32,
   "metadata": {},
   "outputs": [
    {
     "name": "stdout",
     "output_type": "stream",
     "text": [
      "[10, 9, 8, 7, 6, 5, 4, 3, 2, 1]\n"
     ]
    }
   ],
   "source": [
    "\n",
    "num.sort(reverse=True)\n",
    "print(num)"
   ]
  },
  {
   "cell_type": "code",
   "execution_count": 41,
   "metadata": {},
   "outputs": [
    {
     "name": "stdout",
     "output_type": "stream",
     "text": [
      "Help on method_descriptor:\n",
      "\n",
      "sort(self, /, *, key=None, reverse=False)\n",
      "    Sort the list in ascending order and return None.\n",
      "    \n",
      "    The sort is in-place (i.e. the list itself is modified) and stable (i.e. the\n",
      "    order of two equal elements is maintained).\n",
      "    \n",
      "    If a key function is given, apply it once to each list item and sort them,\n",
      "    ascending or descending, according to their function values.\n",
      "    \n",
      "    The reverse flag can be set to sort in descending order.\n",
      "\n"
     ]
    }
   ],
   "source": [
    "help(list.sort)"
   ]
  },
  {
   "cell_type": "code",
   "execution_count": 56,
   "metadata": {},
   "outputs": [
    {
     "data": {
      "text/plain": [
       "[9, 8, 7, 6, 5, 4, 3, 2, 1, 10]"
      ]
     },
     "execution_count": 56,
     "metadata": {},
     "output_type": "execute_result"
    }
   ],
   "source": [
    "num.sort(key=lambda x:x%10, reverse=True)\n",
    "num"
   ]
  },
  {
   "cell_type": "markdown",
   "metadata": {},
   "source": [
    "##### 例 多重排序，如何实现按照二数之和排序，如果和相同，依次按照第一个元素排序\n"
   ]
  },
  {
   "cell_type": "code",
   "execution_count": 57,
   "metadata": {},
   "outputs": [],
   "source": [
    "lista = [[23, 59],\n",
    "         [12, 47],\n",
    "         [46, 73],\n",
    "         [25, 34],\n",
    "         [72, 14],\n",
    "         [55, 55],\n",
    "         [ 1, 60],\n",
    "         [40, 42],\n",
    "         [33, 33],\n",
    "         [45, 40],\n",
    "         [12, 12],\n",
    "         [13, 59]]"
   ]
  },
  {
   "cell_type": "code",
   "execution_count": 58,
   "metadata": {},
   "outputs": [
    {
     "data": {
      "text/plain": [
       "[[1, 60],\n",
       " [12, 12],\n",
       " [12, 47],\n",
       " [13, 59],\n",
       " [23, 59],\n",
       " [25, 34],\n",
       " [33, 33],\n",
       " [40, 42],\n",
       " [45, 40],\n",
       " [46, 73],\n",
       " [55, 55],\n",
       " [72, 14]]"
      ]
     },
     "execution_count": 58,
     "metadata": {},
     "output_type": "execute_result"
    }
   ],
   "source": [
    "lista.sort()\n",
    "lista"
   ]
  },
  {
   "cell_type": "code",
   "execution_count": 60,
   "metadata": {},
   "outputs": [
    {
     "data": {
      "text/plain": [
       "[[46, 73],\n",
       " [55, 55],\n",
       " [72, 14],\n",
       " [45, 40],\n",
       " [23, 59],\n",
       " [40, 42],\n",
       " [13, 59],\n",
       " [33, 33],\n",
       " [1, 60],\n",
       " [12, 47],\n",
       " [25, 34],\n",
       " [12, 12]]"
      ]
     },
     "execution_count": 60,
     "metadata": {},
     "output_type": "execute_result"
    }
   ],
   "source": [
    "lista.sort(key=lambda x:sum(x), reverse=True)\n",
    "lista"
   ]
  },
  {
   "cell_type": "code",
   "execution_count": 61,
   "metadata": {},
   "outputs": [
    {
     "name": "stdout",
     "output_type": "stream",
     "text": [
      " 12    12    24\n",
      " 12    47    59\n",
      " 25    34    59\n",
      " 1     60    61\n",
      " 33    33    66\n",
      " 13    59    72\n",
      " 23    59    82\n",
      " 40    42    82\n",
      " 45    40    85\n",
      " 72    14    86\n",
      " 55    55   110\n",
      " 46    73   119\n"
     ]
    }
   ],
   "source": [
    "# 冒泡法  按两行之和排序？\n",
    "# 排序\n",
    "for i in range(len(lista)):\n",
    "    for j in range(len(lista)-i-1):\n",
    "        if sum(lista[j]) > sum(lista[j+1]): #按照总数排序\n",
    "            lista[j], lista[j+1] = lista[j+1], lista[j]  \n",
    "        if sum(lista[j]) == sum(lista[j+1]) and lista[j][0] > lista[j+1][0]:#按照第一位排序\n",
    "            lista[j], lista[j+1] = lista[j+1], lista[j] \n",
    "\n",
    "# 输出            \n",
    "for i in lista:\n",
    "    for j in i:\n",
    "        print(str(j).center(3), end=\"   \")\n",
    "    print(str(sum(i)).center(3),end=\"\")\n",
    "    print(\"\")"
   ]
  },
  {
   "cell_type": "markdown",
   "metadata": {},
   "source": [
    "##### 例12  分片访问方式实现高级功能"
   ]
  },
  {
   "cell_type": "code",
   "execution_count": 46,
   "metadata": {},
   "outputs": [
    {
     "data": {
      "text/plain": [
       "['鸡蛋', '鸭蛋', '鹅蛋', '鸟蛋', '恐龙蛋', '铁蛋', '滚蛋']"
      ]
     },
     "execution_count": 46,
     "metadata": {},
     "output_type": "execute_result"
    }
   ],
   "source": [
    "egg_list = ['鸡蛋', '鸭蛋', '鹅蛋', '鸟蛋', '恐龙蛋', '铁蛋', '滚蛋']\n",
    "egg_list"
   ]
  },
  {
   "cell_type": "code",
   "execution_count": 63,
   "metadata": {},
   "outputs": [
    {
     "data": {
      "text/plain": [
       "['鸡蛋', '鸭蛋', '鹅蛋']"
      ]
     },
     "execution_count": 63,
     "metadata": {},
     "output_type": "execute_result"
    }
   ],
   "source": [
    "egg_list[:3]"
   ]
  },
  {
   "cell_type": "code",
   "execution_count": 66,
   "metadata": {},
   "outputs": [
    {
     "data": {
      "text/plain": [
       "['鸟蛋', '恐龙蛋', '铁蛋']"
      ]
     },
     "execution_count": 66,
     "metadata": {},
     "output_type": "execute_result"
    }
   ],
   "source": [
    "egg_list[3:-1] # 下标 -1 指末元素"
   ]
  },
  {
   "cell_type": "code",
   "execution_count": 49,
   "metadata": {},
   "outputs": [
    {
     "data": {
      "text/plain": [
       "['滚蛋', '恐龙蛋', '鹅蛋', '鸡蛋']"
      ]
     },
     "execution_count": 49,
     "metadata": {},
     "output_type": "execute_result"
    }
   ],
   "source": [
    "egg_list[-1::-2]"
   ]
  },
  {
   "cell_type": "code",
   "execution_count": 51,
   "metadata": {},
   "outputs": [
    {
     "data": {
      "text/plain": [
       "['滚蛋', '恐龙蛋', '鹅蛋']"
      ]
     },
     "execution_count": 51,
     "metadata": {},
     "output_type": "execute_result"
    }
   ],
   "source": [
    "egg_list[-1:0:-2] # 左闭右开"
   ]
  },
  {
   "cell_type": "code",
   "execution_count": 69,
   "metadata": {},
   "outputs": [
    {
     "data": {
      "text/plain": [
       "['滚蛋', '恐龙蛋', '鹅蛋']"
      ]
     },
     "execution_count": 69,
     "metadata": {},
     "output_type": "execute_result"
    }
   ],
   "source": [
    "egg_list[-1:-7:-2]"
   ]
  },
  {
   "cell_type": "markdown",
   "metadata": {},
   "source": [
    "[返回目录](#mulu5)"
   ]
  },
  {
   "cell_type": "markdown",
   "metadata": {
    "toc-hr-collapsed": true
   },
   "source": [
    "### <font size=4><span id=\"5.1.4\"> 5.1.4 从列表中删除元素</span></font>"
   ]
  },
  {
   "cell_type": "markdown",
   "metadata": {},
   "source": [
    "\n",
    "#### (1) `remove` 方法\n",
    "\n",
    "- 语法\n",
    "\n",
    "```python\n",
    ">>> a_list.remove(obj)\n",
    "\n",
    "```\n",
    "\n",
    "- 特点\n",
    "    - 用 `remove` 时，不需要知道元素的位置，只需要知道该列表存在此元素即可\n",
    "    - 不能 `remove` 指定位置的元素\n",
    "    - 如果元素不存在，就会报错\n",
    "    - 如果存在多个同样元素，只删除最前的一个"
   ]
  },
  {
   "cell_type": "markdown",
   "metadata": {},
   "source": [
    "##### 例13  删除元素 —— 采用 `remove()`函数"
   ]
  },
  {
   "cell_type": "code",
   "execution_count": 33,
   "metadata": {},
   "outputs": [
    {
     "data": {
      "text/plain": [
       "['王重阳', '欧阳锋', '段智兴', '黄药师', '洪七公', '欧阳锋']"
      ]
     },
     "execution_count": 33,
     "metadata": {},
     "output_type": "execute_result"
    }
   ],
   "source": [
    "my_list = ['王重阳', '欧阳锋', '段智兴', '黄药师', '洪七公', '欧阳锋']\n",
    "my_list"
   ]
  },
  {
   "cell_type": "code",
   "execution_count": 34,
   "metadata": {},
   "outputs": [
    {
     "data": {
      "text/plain": [
       "['王重阳', '段智兴', '黄药师', '洪七公', '欧阳锋']"
      ]
     },
     "execution_count": 34,
     "metadata": {},
     "output_type": "execute_result"
    }
   ],
   "source": [
    "my_list.remove('欧阳锋')\n",
    "my_list"
   ]
  },
  {
   "cell_type": "markdown",
   "metadata": {},
   "source": [
    "##### 例14 试图 `remove()` 不存在的元素将报错"
   ]
  },
  {
   "cell_type": "code",
   "execution_count": 35,
   "metadata": {},
   "outputs": [
    {
     "ename": "ValueError",
     "evalue": "list.remove(x): x not in list",
     "output_type": "error",
     "traceback": [
      "\u001b[1;31m---------------------------------------------------------------------------\u001b[0m",
      "\u001b[1;31mValueError\u001b[0m                                Traceback (most recent call last)",
      "Cell \u001b[1;32mIn[35], line 1\u001b[0m\n\u001b[1;32m----> 1\u001b[0m my_list\u001b[38;5;241m.\u001b[39mremove(\u001b[38;5;124m'\u001b[39m\u001b[38;5;124m裘千仞\u001b[39m\u001b[38;5;124m'\u001b[39m)\n\u001b[0;32m      2\u001b[0m my_list\n",
      "\u001b[1;31mValueError\u001b[0m: list.remove(x): x not in list"
     ]
    }
   ],
   "source": [
    "my_list.remove('裘千仞')\n",
    "my_list"
   ]
  },
  {
   "cell_type": "markdown",
   "metadata": {},
   "source": [
    "##### 例15 拟删除 `remove` 元素存在重复时\n",
    "\n",
    "- 只删除第一个"
   ]
  },
  {
   "cell_type": "code",
   "execution_count": 36,
   "metadata": {},
   "outputs": [
    {
     "data": {
      "text/plain": [
       "[1, 2, 3, 4, 5, 6, 5, 4, 3, 2, 1]"
      ]
     },
     "execution_count": 36,
     "metadata": {},
     "output_type": "execute_result"
    }
   ],
   "source": [
    "int_list = [1, 2, 3, 4, 5, 6, 5, 4, 3, 2, 1]\n",
    "int_list"
   ]
  },
  {
   "cell_type": "code",
   "execution_count": 37,
   "metadata": {},
   "outputs": [
    {
     "data": {
      "text/plain": [
       "[1, 2, 3, 4, 6, 5, 4, 3, 2, 1]"
      ]
     },
     "execution_count": 37,
     "metadata": {},
     "output_type": "execute_result"
    }
   ],
   "source": [
    "int_list.remove(5)\n",
    "int_list"
   ]
  },
  {
   "cell_type": "markdown",
   "metadata": {},
   "source": [
    "#### (2) `del` 语句\n",
    "\n",
    "- 语法\n",
    "```python\n",
    ">>> del a_list[index]\n",
    "```"
   ]
  },
  {
   "cell_type": "markdown",
   "metadata": {},
   "source": [
    "##### 例16  删除指定位置处元素 —— `del` 语句"
   ]
  },
  {
   "cell_type": "code",
   "execution_count": 38,
   "metadata": {},
   "outputs": [
    {
     "data": {
      "text/plain": [
       "['王重阳', '段智兴', '黄药师', '洪七公', '欧阳锋']"
      ]
     },
     "execution_count": 38,
     "metadata": {},
     "output_type": "execute_result"
    }
   ],
   "source": [
    "my_list = ['王重阳', '段智兴', '黄药师', '洪七公', '欧阳锋']\n",
    "my_list"
   ]
  },
  {
   "cell_type": "code",
   "execution_count": 39,
   "metadata": {},
   "outputs": [
    {
     "data": {
      "text/plain": [
       "['王重阳', '黄药师', '洪七公', '欧阳锋']"
      ]
     },
     "execution_count": 39,
     "metadata": {},
     "output_type": "execute_result"
    }
   ],
   "source": [
    "del my_list[1]\n",
    "my_list      # 注意：不能用 my_list.del(1)，将报错"
   ]
  },
  {
   "cell_type": "code",
   "execution_count": null,
   "metadata": {},
   "outputs": [],
   "source": [
    "# del 不是列表的方法"
   ]
  },
  {
   "cell_type": "markdown",
   "metadata": {},
   "source": [
    "##### 例17 删除整个列表 —— `del` 语句"
   ]
  },
  {
   "cell_type": "code",
   "execution_count": 40,
   "metadata": {},
   "outputs": [],
   "source": [
    "del my_list"
   ]
  },
  {
   "cell_type": "code",
   "execution_count": 41,
   "metadata": {},
   "outputs": [
    {
     "ename": "NameError",
     "evalue": "name 'my_list' is not defined",
     "output_type": "error",
     "traceback": [
      "\u001b[1;31m---------------------------------------------------------------------------\u001b[0m",
      "\u001b[1;31mNameError\u001b[0m                                 Traceback (most recent call last)",
      "Cell \u001b[1;32mIn[41], line 1\u001b[0m\n\u001b[1;32m----> 1\u001b[0m my_list\n",
      "\u001b[1;31mNameError\u001b[0m: name 'my_list' is not defined"
     ]
    }
   ],
   "source": [
    "my_list"
   ]
  },
  {
   "cell_type": "markdown",
   "metadata": {},
   "source": [
    "#### (3) pop() 弹出元素\n",
    "\n",
    "- 语法\n",
    "\n",
    "```python\n",
    ">>> a_list.pop(index=-1)\n",
    "```\n",
    "\n",
    "- 功能 —— 缺省参数时，将尾部元素弹出，并输出"
   ]
  },
  {
   "cell_type": "markdown",
   "metadata": {},
   "source": [
    "##### 例18 弹出尾部元素 —— `pop` 方法"
   ]
  },
  {
   "cell_type": "code",
   "execution_count": 42,
   "metadata": {},
   "outputs": [
    {
     "name": "stdout",
     "output_type": "stream",
     "text": [
      "['张三', '李四', '王二麻子', '孙悟空']\n"
     ]
    }
   ],
   "source": [
    "name = ['张三', '李四', '王二麻子', '孙悟空']\n",
    "print(name)"
   ]
  },
  {
   "cell_type": "code",
   "execution_count": 43,
   "metadata": {},
   "outputs": [
    {
     "data": {
      "text/plain": [
       "'孙悟空'"
      ]
     },
     "execution_count": 43,
     "metadata": {},
     "output_type": "execute_result"
    }
   ],
   "source": [
    "name.pop()"
   ]
  },
  {
   "cell_type": "code",
   "execution_count": 44,
   "metadata": {},
   "outputs": [
    {
     "name": "stdout",
     "output_type": "stream",
     "text": [
      "['张三', '李四', '王二麻子']\n"
     ]
    }
   ],
   "source": [
    "print(name)"
   ]
  },
  {
   "cell_type": "markdown",
   "metadata": {},
   "source": [
    "##### 例19 弹出指定位置元素 —— `pop` 方法"
   ]
  },
  {
   "cell_type": "code",
   "execution_count": 45,
   "metadata": {},
   "outputs": [
    {
     "data": {
      "text/plain": [
       "'李四'"
      ]
     },
     "execution_count": 45,
     "metadata": {},
     "output_type": "execute_result"
    }
   ],
   "source": [
    "name.pop(1)"
   ]
  },
  {
   "cell_type": "code",
   "execution_count": 46,
   "metadata": {},
   "outputs": [
    {
     "data": {
      "text/plain": [
       "['张三', '王二麻子']"
      ]
     },
     "execution_count": 46,
     "metadata": {},
     "output_type": "execute_result"
    }
   ],
   "source": [
    "name"
   ]
  },
  {
   "cell_type": "markdown",
   "metadata": {},
   "source": [
    "#### (4) 变通方法 —— 删除尽可能多的元素"
   ]
  },
  {
   "cell_type": "markdown",
   "metadata": {},
   "source": [
    "##### 例20 删除 `尽可能` 多的元素\n",
    "\n",
    "- 多个元素\n",
    "- 每个待删除的元素有重复"
   ]
  },
  {
   "cell_type": "code",
   "execution_count": 84,
   "metadata": {},
   "outputs": [
    {
     "data": {
      "text/plain": [
       "([1, 2, 3, 4, 5, 6, 2, 4, 5], [2, 3, 5])"
      ]
     },
     "execution_count": 84,
     "metadata": {},
     "output_type": "execute_result"
    }
   ],
   "source": [
    "src_list = [1,2,3,4,5,6,2,4,5]  # 含拟删除元素的列表\n",
    "del_list = [2,3,5]              # 拟删除的元素列表\n",
    "src_list, del_list"
   ]
  },
  {
   "cell_type": "code",
   "execution_count": 85,
   "metadata": {},
   "outputs": [
    {
     "data": {
      "text/plain": [
       "[1, 4, 6, 4]"
      ]
     },
     "execution_count": 85,
     "metadata": {},
     "output_type": "execute_result"
    }
   ],
   "source": [
    "work_list = []                   # 工作列表\n",
    "\n",
    "for ele in src_list:\n",
    "    if ele not in del_list:\n",
    "        work_list.append(ele)\n",
    "\n",
    "work_list"
   ]
  },
  {
   "cell_type": "markdown",
   "metadata": {},
   "source": [
    "##### 课堂提问"
   ]
  },
  {
   "cell_type": "code",
   "execution_count": 8,
   "metadata": {},
   "outputs": [
    {
     "name": "stdout",
     "output_type": "stream",
     "text": [
      "[87, 27, 33, 48, 84, 99, 75, 42, 66, 45, 18, 57, 69, 60, 15, 21, 54, 9, 90, 6, 81, 12, 39, 3, 93, 24, 78, 30, 96, 36, 63, 51, 72]\n"
     ]
    }
   ],
   "source": [
    "## 课堂练习\n",
    "## 已有list0，为1~100\n",
    "## 请将其分为四个不同得list，分别存放：\n",
    "## -list_3 能被3整除得数；\n",
    "## -list_5 能被5整除得数；\n",
    "## -list_3_5 既能被3也能被5整除得数;\n",
    "## -list_N_3_5 不能被3和5整除得数。\n",
    "## 并输出排好序得4个列表\n",
    "import random\n",
    "\n",
    "list0 = [i+1 for i in range(100)]\n",
    "random.shuffle(list0)\n",
    "## 代码完成如下  3min\n",
    "list_3 = [each for each in list0 if each % 3==0]"
   ]
  },
  {
   "cell_type": "markdown",
   "metadata": {},
   "source": [
    "##### 例21 求一个整数所有位上数字之和"
   ]
  },
  {
   "cell_type": "code",
   "execution_count": 63,
   "metadata": {},
   "outputs": [
    {
     "data": {
      "text/plain": [
       "90"
      ]
     },
     "execution_count": 63,
     "metadata": {},
     "output_type": "execute_result"
    }
   ],
   "source": [
    "## 课堂练习\n",
    "## 求一个整数所有位上数字之和\n",
    "n = 1234567890987654321"
   ]
  },
  {
   "cell_type": "markdown",
   "metadata": {},
   "source": [
    "[返回目录](#mulu5)"
   ]
  },
  {
   "cell_type": "markdown",
   "metadata": {
    "tags": [],
    "toc-hr-collapsed": true
   },
   "source": [
    "### <font size=4><span id=\"5.1.5\"> 5.1.5 列表的一些常用操作</span></font>"
   ]
  },
  {
   "cell_type": "markdown",
   "metadata": {},
   "source": [
    "#### (1) 一般列表的比较操作\n",
    "\n",
    "- 语法\n",
    "```python\n",
    ">>> list1 compare_op list2\n",
    "```\n",
    "\n",
    "- 功能\n",
    "    - 比较两个列表\n",
    "    - 当列表中存在多个元素的时候，默认从第一个元素开始比较，只要出现了结果，就算整个列表结果\n",
    "    - 比较配对的元素\n",
    "    - 两个列表元素数可以不一样"
   ]
  },
  {
   "cell_type": "markdown",
   "metadata": {},
   "source": [
    "##### 例22  整数型列表比较\n",
    "\n",
    "\n",
    "- 可采用的比较运算符\n",
    "    - \\>、>=、<、<=、!=、==\n",
    "\n",
    "\n",
    "- 有大于无"
   ]
  },
  {
   "cell_type": "code",
   "execution_count": 89,
   "metadata": {},
   "outputs": [
    {
     "data": {
      "text/plain": [
       "True"
      ]
     },
     "execution_count": 89,
     "metadata": {},
     "output_type": "execute_result"
    }
   ],
   "source": [
    "list1 = [1,2,3]\n",
    "list2 = [1,2,1]\n",
    "list1 > list2"
   ]
  },
  {
   "cell_type": "code",
   "execution_count": 90,
   "metadata": {},
   "outputs": [
    {
     "data": {
      "text/plain": [
       "True"
      ]
     },
     "execution_count": 90,
     "metadata": {},
     "output_type": "execute_result"
    }
   ],
   "source": [
    "# 有 大于 无\n",
    "list1 = [1,2,3, -999]\n",
    "list2 = [1,2,3]\n",
    "list1 >= list2"
   ]
  },
  {
   "cell_type": "code",
   "execution_count": 91,
   "metadata": {},
   "outputs": [
    {
     "data": {
      "text/plain": [
       "False"
      ]
     },
     "execution_count": 91,
     "metadata": {},
     "output_type": "execute_result"
    }
   ],
   "source": [
    "list1 = [123, 456]\n",
    "list2 = [234, 456]\n",
    "list1 > list2"
   ]
  },
  {
   "cell_type": "markdown",
   "metadata": {},
   "source": [
    "#### (2) 字符串列表的比较\n",
    "\n",
    "- 比较 `ASCII` 码"
   ]
  },
  {
   "cell_type": "code",
   "execution_count": 12,
   "metadata": {},
   "outputs": [
    {
     "data": {
      "text/plain": [
       "['a', 'b', 'c', 'd']"
      ]
     },
     "execution_count": 12,
     "metadata": {},
     "output_type": "execute_result"
    }
   ],
   "source": [
    "listA = list('abcd')\n",
    "listA"
   ]
  },
  {
   "cell_type": "code",
   "execution_count": 13,
   "metadata": {},
   "outputs": [
    {
     "data": {
      "text/plain": [
       "['x', 'y', 'z', '0']"
      ]
     },
     "execution_count": 13,
     "metadata": {},
     "output_type": "execute_result"
    }
   ],
   "source": [
    "listB = list('xyz0')\n",
    "listB"
   ]
  },
  {
   "cell_type": "code",
   "execution_count": 14,
   "metadata": {},
   "outputs": [
    {
     "data": {
      "text/plain": [
       "False"
      ]
     },
     "execution_count": 14,
     "metadata": {},
     "output_type": "execute_result"
    }
   ],
   "source": [
    "listA > listB"
   ]
  },
  {
   "cell_type": "code",
   "execution_count": null,
   "metadata": {},
   "outputs": [],
   "source": [
    "'abcd' > 'xyz0'"
   ]
  },
  {
   "cell_type": "markdown",
   "metadata": {},
   "source": [
    "#### (3) 列表的加法\n",
    "\n",
    "- 加号 `+`\n",
    "\n",
    "    - 加号 `+` 实现了列表的连接，故也称 `连接操作符`\n",
    "    - 相当于 `extend`，`extend` 更专业，建议采用"
   ]
  },
  {
   "cell_type": "code",
   "execution_count": 92,
   "metadata": {},
   "outputs": [
    {
     "data": {
      "text/plain": [
       "'马王'"
      ]
     },
     "execution_count": 92,
     "metadata": {},
     "output_type": "execute_result"
    }
   ],
   "source": [
    "'马' + '王'"
   ]
  },
  {
   "cell_type": "markdown",
   "metadata": {},
   "source": [
    "##### 例23  列表加法示例"
   ]
  },
  {
   "cell_type": "code",
   "execution_count": 47,
   "metadata": {},
   "outputs": [
    {
     "data": {
      "text/plain": [
       "[12, 34, 56, 78, 90]"
      ]
     },
     "execution_count": 47,
     "metadata": {},
     "output_type": "execute_result"
    }
   ],
   "source": [
    "list1 = [12,34,56]\n",
    "list2 = [78, 90]\n",
    "list3 = list1 + list2\n",
    "list3"
   ]
  },
  {
   "cell_type": "code",
   "execution_count": 49,
   "metadata": {},
   "outputs": [],
   "source": [
    "list3 = list3 + [789]"
   ]
  },
  {
   "cell_type": "code",
   "execution_count": 67,
   "metadata": {},
   "outputs": [
    {
     "data": {
      "text/plain": [
       "[12, 34, 56, 78, 90, 789]"
      ]
     },
     "execution_count": 67,
     "metadata": {},
     "output_type": "execute_result"
    }
   ],
   "source": [
    "### 上面方法不行\n",
    "list3 = list3 + [789]\n",
    "list3"
   ]
  },
  {
   "cell_type": "markdown",
   "metadata": {},
   "source": [
    "#### (4) 列表的整数乘法\n",
    "\n",
    "- 乘号 `*`\n",
    "\n",
    "    - 乘号 `*` 实现了列表的多次重复，故也称 `重复操作符`\n",
    "\n",
    "\n",
    "- 注意 乘数必须是整数"
   ]
  },
  {
   "cell_type": "code",
   "execution_count": 94,
   "metadata": {},
   "outputs": [
    {
     "data": {
      "text/plain": [
       "[123, 456, 123, 456, 123, 456, 123, 456]"
      ]
     },
     "execution_count": 94,
     "metadata": {},
     "output_type": "execute_result"
    }
   ],
   "source": [
    "list1 = [123, 456]\n",
    "list1 = list1 * 4\n",
    "list1"
   ]
  },
  {
   "cell_type": "code",
   "execution_count": 1,
   "metadata": {},
   "outputs": [
    {
     "name": "stdout",
     "output_type": "stream",
     "text": [
      "[1, 2, 3, 4, 1, 2, 3, 4]\n"
     ]
    }
   ],
   "source": [
    "a = [1, 2, 3, 4] * 2\n",
    "print(a)"
   ]
  },
  {
   "cell_type": "code",
   "execution_count": 50,
   "metadata": {},
   "outputs": [
    {
     "data": {
      "text/plain": [
       "[123, 456, 123, 456, 123, 456, 123, 456, 123, 456]"
      ]
     },
     "execution_count": 50,
     "metadata": {},
     "output_type": "execute_result"
    }
   ],
   "source": [
    "list1 = [123, 456]\n",
    "list1 *= 5\n",
    "list1"
   ]
  },
  {
   "cell_type": "code",
   "execution_count": 51,
   "metadata": {},
   "outputs": [
    {
     "data": {
      "text/plain": [
       "[0, 0, 0, 0, 0, 0, 0, 0, 0, 0]"
      ]
     },
     "execution_count": 51,
     "metadata": {},
     "output_type": "execute_result"
    }
   ],
   "source": [
    "list1 = [0] * 10\n",
    "list1 "
   ]
  },
  {
   "cell_type": "markdown",
   "metadata": {},
   "source": [
    "#### (5) 列表的 `in` 和 `not in` 操作符\n",
    "\n",
    "- 成员-容器 `关系操作符`\n",
    "- `in` 是 `在其中` 的意思\n",
    "- `not in` 是 `不在其中` 的意思"
   ]
  },
  {
   "cell_type": "markdown",
   "metadata": {},
   "source": [
    "##### 例24 在或不在"
   ]
  },
  {
   "cell_type": "code",
   "execution_count": 53,
   "metadata": {},
   "outputs": [
    {
     "data": {
      "text/plain": [
       "['鸡蛋', '鸭蛋', '鹅蛋', '鸟蛋', '恐龙蛋', '铁蛋', '滚蛋']"
      ]
     },
     "execution_count": 53,
     "metadata": {},
     "output_type": "execute_result"
    }
   ],
   "source": [
    "egg_list = ['鸡蛋', '鸭蛋', '鹅蛋', '鸟蛋', '恐龙蛋', '铁蛋', '滚蛋']\n",
    "egg_list"
   ]
  },
  {
   "cell_type": "code",
   "execution_count": 96,
   "metadata": {},
   "outputs": [
    {
     "data": {
      "text/plain": [
       "True"
      ]
     },
     "execution_count": 96,
     "metadata": {},
     "output_type": "execute_result"
    }
   ],
   "source": [
    "'鸭蛋' in egg_list"
   ]
  },
  {
   "cell_type": "code",
   "execution_count": 97,
   "metadata": {},
   "outputs": [
    {
     "data": {
      "text/plain": [
       "False"
      ]
     },
     "execution_count": 97,
     "metadata": {},
     "output_type": "execute_result"
    }
   ],
   "source": [
    "'茶叶蛋' in egg_list"
   ]
  },
  {
   "cell_type": "code",
   "execution_count": 54,
   "metadata": {},
   "outputs": [
    {
     "data": {
      "text/plain": [
       "False"
      ]
     },
     "execution_count": 54,
     "metadata": {},
     "output_type": "execute_result"
    }
   ],
   "source": [
    "('鸭蛋', '鹅蛋') in egg_list"
   ]
  },
  {
   "cell_type": "markdown",
   "metadata": {},
   "source": [
    "##### 例25 嵌套情形的在或不在\n",
    "\n",
    "- 明明在其中，结果却是不在，何故？\n",
    "- `in` 和 `not in` 只能判断一个层次的从属关系"
   ]
  },
  {
   "cell_type": "code",
   "execution_count": 99,
   "metadata": {},
   "outputs": [],
   "source": [
    " egg_list = ['鸡蛋', '鸭蛋', '鹅蛋', ['茶叶蛋', '松花蛋'], '鸟蛋', '恐龙蛋', '铁蛋', '滚蛋']"
   ]
  },
  {
   "cell_type": "code",
   "execution_count": 100,
   "metadata": {},
   "outputs": [
    {
     "data": {
      "text/plain": [
       "False"
      ]
     },
     "execution_count": 100,
     "metadata": {},
     "output_type": "execute_result"
    }
   ],
   "source": [
    "'茶叶蛋' in egg_list"
   ]
  },
  {
   "cell_type": "code",
   "execution_count": 101,
   "metadata": {},
   "outputs": [
    {
     "data": {
      "text/plain": [
       "True"
      ]
     },
     "execution_count": 101,
     "metadata": {},
     "output_type": "execute_result"
    }
   ],
   "source": [
    "['茶叶蛋', '松花蛋'] in egg_list"
   ]
  },
  {
   "cell_type": "markdown",
   "metadata": {},
   "source": [
    "[返回目录](#mulu5)"
   ]
  },
  {
   "cell_type": "markdown",
   "metadata": {
    "tags": [],
    "toc-hr-collapsed": true
   },
   "source": [
    "### <font size=4><span id=\"5.1.6\"> 5.1.6 列表的成员函数</span></font>"
   ]
  },
  {
   "cell_type": "code",
   "execution_count": null,
   "metadata": {},
   "outputs": [],
   "source": [
    "dir(list)"
   ]
  },
  {
   "cell_type": "markdown",
   "metadata": {},
   "source": [
    "#### (1) count\n",
    "\n",
    "- 计算某个参数在列表中出现次数"
   ]
  },
  {
   "cell_type": "markdown",
   "metadata": {},
   "source": [
    "##### 例26 元素计数"
   ]
  },
  {
   "cell_type": "code",
   "execution_count": 55,
   "metadata": {},
   "outputs": [
    {
     "data": {
      "text/plain": [
       "3"
      ]
     },
     "execution_count": 55,
     "metadata": {},
     "output_type": "execute_result"
    }
   ],
   "source": [
    "int_list = [1, 1, 2, 2, 4, 5, 4, 4, 6, 7]\n",
    "int_list.count(4)"
   ]
  },
  {
   "cell_type": "code",
   "execution_count": 56,
   "metadata": {},
   "outputs": [
    {
     "data": {
      "text/plain": [
       "2"
      ]
     },
     "execution_count": 56,
     "metadata": {},
     "output_type": "execute_result"
    }
   ],
   "source": [
    "fruit_list = ['apple', 'banana','lemon', 'orange', \n",
    "              'melon', ['apple', 'apple'], 'lemon', 'peach', \n",
    "              'apple', 'banana', 'lemon']\n",
    "fruit_list.count('apple')"
   ]
  },
  {
   "cell_type": "markdown",
   "metadata": {},
   "source": [
    "#### (2) `index`\n",
    "\n",
    "- 语法\n",
    "```python\n",
    ">>> a_list.index(value, start=0, stop=9223372036854775807)\n",
    "```\n",
    "\n",
    "- 功能\n",
    "    - 用于从列表中找出某个值第一个匹配项的索引位置\n",
    "    \n",
    "- 参数\n",
    "    - `value` 查找值\n",
    "    - `start` 起始下标"
   ]
  },
  {
   "cell_type": "markdown",
   "metadata": {},
   "source": [
    "##### 例27 查找索引"
   ]
  },
  {
   "cell_type": "code",
   "execution_count": 104,
   "metadata": {},
   "outputs": [
    {
     "data": {
      "text/plain": [
       "2"
      ]
     },
     "execution_count": 104,
     "metadata": {},
     "output_type": "execute_result"
    }
   ],
   "source": [
    "fruit_list = ['apple', 'banana','lemon', 'orange', 'melon',\n",
    "              ['apple', 'apple'], 'lemon', 'peach', 'apple', 'banana', 'lemon']\n",
    "j = fruit_list.index('lemon')\n",
    "j"
   ]
  },
  {
   "cell_type": "code",
   "execution_count": 105,
   "metadata": {},
   "outputs": [
    {
     "data": {
      "text/plain": [
       "6"
      ]
     },
     "execution_count": 105,
     "metadata": {},
     "output_type": "execute_result"
    }
   ],
   "source": [
    "j = fruit_list.index('lemon',j+1)\n",
    "j"
   ]
  },
  {
   "cell_type": "markdown",
   "metadata": {},
   "source": [
    "##### 例28  在指定范围内，查找索引"
   ]
  },
  {
   "cell_type": "code",
   "execution_count": 106,
   "metadata": {},
   "outputs": [],
   "source": [
    "int_list = [1, 4, 2, 2, 4, 5, 4, 4, 6, 7]\n",
    "start = int_list.index(4)\n",
    "start\n",
    "stop = len(int_list)"
   ]
  },
  {
   "cell_type": "code",
   "execution_count": 109,
   "metadata": {},
   "outputs": [
    {
     "data": {
      "text/plain": [
       "7"
      ]
     },
     "execution_count": 109,
     "metadata": {},
     "output_type": "execute_result"
    }
   ],
   "source": [
    "\n",
    "start = int_list.index(4,start+1,stop)\n",
    "start"
   ]
  },
  {
   "cell_type": "markdown",
   "metadata": {},
   "source": [
    "#### (3) 列表的 `sort` 和 `reverse` 方法\n",
    "\n",
    "\n",
    "- 功能\n",
    "    - `sort` 排序\n",
    "    - `reverse`逆序\n",
    "    \n",
    "    \n",
    "- `sort` 语法\n",
    "\n",
    "```python\n",
    ">>> list.sort(key=None, reverse=False)\n",
    "```\n",
    "\n",
    "\n",
    "- 参数\n",
    "    - `key` 用来进行比较的元素(如列表元素也是容器时，指定比较的内层元素)\n",
    "    - `reverse` 排序规则，`reverse = True` 降序， `reverse = False` 升序（默认）\n",
    "    \n",
    "    \n",
    "- `reverse` 语法\n",
    "```python\n",
    ">>> list.reverse()  # 无参数，无返回值\n",
    "```"
   ]
  },
  {
   "cell_type": "markdown",
   "metadata": {},
   "source": [
    "##### 例29  列表排序"
   ]
  },
  {
   "cell_type": "code",
   "execution_count": null,
   "metadata": {},
   "outputs": [],
   "source": [
    "int_list = [8, 9, 4, 3, 5, 4, 1, 2]\n",
    "int_list"
   ]
  },
  {
   "cell_type": "code",
   "execution_count": null,
   "metadata": {},
   "outputs": [],
   "source": [
    "int_list.sort()\n",
    "int_list"
   ]
  },
  {
   "cell_type": "markdown",
   "metadata": {},
   "source": [
    "##### 例30 元素不同质列表的排序可能报错\n",
    "\n",
    "\n",
    "- 排序要求 —— 元素之间能进行比较"
   ]
  },
  {
   "cell_type": "code",
   "execution_count": 57,
   "metadata": {},
   "outputs": [
    {
     "ename": "TypeError",
     "evalue": "'<' not supported between instances of 'list' and 'int'",
     "output_type": "error",
     "traceback": [
      "\u001b[1;31m---------------------------------------------------------------------------\u001b[0m",
      "\u001b[1;31mTypeError\u001b[0m                                 Traceback (most recent call last)",
      "Cell \u001b[1;32mIn[57], line 2\u001b[0m\n\u001b[0;32m      1\u001b[0m mix_list \u001b[38;5;241m=\u001b[39m [\u001b[38;5;241m8\u001b[39m, \u001b[38;5;241m9\u001b[39m, \u001b[38;5;241m4\u001b[39m, \u001b[38;5;241m3\u001b[39m, \u001b[38;5;241m5\u001b[39m, [\u001b[38;5;241m1\u001b[39m, \u001b[38;5;241m2\u001b[39m, \u001b[38;5;241m3\u001b[39m], \u001b[38;5;241m4\u001b[39m, \u001b[38;5;241m1\u001b[39m, \u001b[38;5;241m2\u001b[39m]\n\u001b[1;32m----> 2\u001b[0m mix_list\u001b[38;5;241m.\u001b[39msort()\n\u001b[0;32m      3\u001b[0m mix_list\n",
      "\u001b[1;31mTypeError\u001b[0m: '<' not supported between instances of 'list' and 'int'"
     ]
    }
   ],
   "source": [
    "mix_list = [8, 9, 4, 3, 5, [1, 2, 3], 4, 1, 2]\n",
    "mix_list.sort()\n",
    "mix_list"
   ]
  },
  {
   "cell_type": "markdown",
   "metadata": {},
   "source": [
    "##### 例31  逆向 —— 使用函数 `reverse()`"
   ]
  },
  {
   "cell_type": "code",
   "execution_count": null,
   "metadata": {},
   "outputs": [],
   "source": [
    "a_list = [8, 9, 4, 3, 5, 4, 1, 2]\n",
    "a_list.sort()\n",
    "a_list"
   ]
  },
  {
   "cell_type": "code",
   "execution_count": null,
   "metadata": {},
   "outputs": [],
   "source": [
    "a_list.reverse()\n",
    "a_list"
   ]
  },
  {
   "cell_type": "markdown",
   "metadata": {},
   "source": [
    "#### (4) `copy`\n",
    "\n",
    "\n",
    "- 功能\n",
    "     - 拷贝，即在内存中另外制作一份"
   ]
  },
  {
   "cell_type": "markdown",
   "metadata": {},
   "source": [
    "##### 例32   `copy` 与 `=` 的比较\n",
    "\n",
    "\n",
    "- `=` —— 引用一份，`id` 相同\n",
    "- `copy` —— 拷贝一份，`id` 不相同"
   ]
  },
  {
   "cell_type": "code",
   "execution_count": 58,
   "metadata": {},
   "outputs": [
    {
     "data": {
      "text/plain": [
       "(2479011599296, 2479011599296)"
      ]
     },
     "execution_count": 58,
     "metadata": {},
     "output_type": "execute_result"
    }
   ],
   "source": [
    "list1 = [8, 9, 4, 3, 5, 4, 1, 2]\n",
    "list2 = list1\n",
    "id(list1), id(list2)"
   ]
  },
  {
   "cell_type": "code",
   "execution_count": 59,
   "metadata": {},
   "outputs": [
    {
     "data": {
      "text/plain": [
       "(2479011576128, 2479011656384)"
      ]
     },
     "execution_count": 59,
     "metadata": {},
     "output_type": "execute_result"
    }
   ],
   "source": [
    "list1 = [8, 9, 4, 3, 5, 4, 1, 2]\n",
    "list2 = list1.copy()\n",
    "id(list1), id(list2)"
   ]
  },
  {
   "cell_type": "code",
   "execution_count": 60,
   "metadata": {},
   "outputs": [
    {
     "data": {
      "text/plain": [
       "[10, 9, 4, 3, 5, 4, 1, 2]"
      ]
     },
     "execution_count": 60,
     "metadata": {},
     "output_type": "execute_result"
    }
   ],
   "source": [
    "list1[0]=10\n",
    "list1"
   ]
  },
  {
   "cell_type": "code",
   "execution_count": 61,
   "metadata": {},
   "outputs": [
    {
     "data": {
      "text/plain": [
       "[8, 9, 4, 3, 5, 4, 1, 2]"
      ]
     },
     "execution_count": 61,
     "metadata": {},
     "output_type": "execute_result"
    }
   ],
   "source": [
    "list2"
   ]
  },
  {
   "cell_type": "markdown",
   "metadata": {},
   "source": [
    "[返回目录](#mulu5)"
   ]
  },
  {
   "cell_type": "markdown",
   "metadata": {
    "toc-hr-collapsed": true
   },
   "source": [
    "### <font size=4><span id=\"5.1.7\"> 5.1.7 关于分片“拷贝”概念的补充</span></font>"
   ]
  },
  {
   "cell_type": "markdown",
   "metadata": {},
   "source": [
    "##### 例33 分片“拷贝”"
   ]
  },
  {
   "cell_type": "code",
   "execution_count": 62,
   "metadata": {},
   "outputs": [],
   "source": [
    "list1 = [7, 1, 2, 4, 9, 8]\n",
    "list2 = list1[:]    # 后面将看出，这种方式是拷贝\n",
    "list3 = list1"
   ]
  },
  {
   "cell_type": "code",
   "execution_count": 63,
   "metadata": {},
   "outputs": [
    {
     "name": "stdout",
     "output_type": "stream",
     "text": [
      "list1 =  [7, 1, 2, 4, 9, 8]\n",
      "list2 =  [7, 1, 2, 4, 9, 8]\n",
      "list3 =  [7, 1, 2, 4, 9, 8]\n"
     ]
    }
   ],
   "source": [
    "print(\"list1 = \", list1)\n",
    "print(\"list2 = \", list2)\n",
    "print(\"list3 = \", list3)"
   ]
  },
  {
   "cell_type": "code",
   "execution_count": 64,
   "metadata": {},
   "outputs": [
    {
     "name": "stdout",
     "output_type": "stream",
     "text": [
      "id(list1) =  2479011599296\n",
      "id(list2) =  2479011649024\n",
      "id(list3) =  2479011599296\n"
     ]
    }
   ],
   "source": [
    "print(\"id(list1) = \", id(list1))\n",
    "print(\"id(list2) = \", id(list2))\n",
    "print(\"id(list3) = \", id(list3))"
   ]
  },
  {
   "cell_type": "code",
   "execution_count": 65,
   "metadata": {},
   "outputs": [
    {
     "name": "stdout",
     "output_type": "stream",
     "text": [
      "list1 =  [1, 2, 4, 7, 8, 9]\n",
      "list2 =  [7, 1, 2, 4, 9, 8]\n",
      "list3 =  [1, 2, 4, 7, 8, 9]\n"
     ]
    }
   ],
   "source": [
    "list1.sort()\n",
    "\n",
    "print(\"list1 = \", list1)\n",
    "print(\"list2 = \", list2)\n",
    "print(\"list3 = \", list3)"
   ]
  },
  {
   "cell_type": "code",
   "execution_count": 80,
   "metadata": {},
   "outputs": [
    {
     "name": "stdout",
     "output_type": "stream",
     "text": [
      "id(list1) =  2529634733120\n",
      "id(list2) =  2529621066432\n",
      "id(list3) =  2529634733120\n"
     ]
    }
   ],
   "source": [
    "print(\"id(list1) = \", id(list1))\n",
    "print(\"id(list2) = \", id(list2))\n",
    "print(\"id(list3) = \", id(list3))"
   ]
  },
  {
   "cell_type": "markdown",
   "metadata": {},
   "source": [
    "- 对 `list2` 的分析\n",
    "    - `list2` 通过分片拷贝 `list1` 得到\n",
    "    - 它们指向不同的内存空间\n",
    "\n",
    "\n",
    "- 对 `list3` 的分析\n",
    "    - `list3` 通过赋值 `list1` 得到\n",
    "    - 它们指向同一块内存空间"
   ]
  },
  {
   "cell_type": "markdown",
   "metadata": {},
   "source": [
    "[返回目录](#mulu5)"
   ]
  },
  {
   "cell_type": "markdown",
   "metadata": {
    "toc-hr-collapsed": true
   },
   "source": [
    "### <font size=4><span id=\"5.1.8\"> 5.1.8 浅拷贝 `copy` 与深拷贝 `deepcopy`</span></font>"
   ]
  },
  {
   "cell_type": "markdown",
   "metadata": {},
   "source": [
    "##### 例34 初涉`深浅拷贝`概念"
   ]
  },
  {
   "cell_type": "code",
   "execution_count": 82,
   "metadata": {},
   "outputs": [
    {
     "name": "stdout",
     "output_type": "stream",
     "text": [
      "[1, 2, 3]\n",
      "[1, 2, 3]\n"
     ]
    }
   ],
   "source": [
    "a = [1,2,3]\n",
    "b = a\n",
    "\n",
    "print(a)\n",
    "print(b)"
   ]
  },
  {
   "cell_type": "code",
   "execution_count": 83,
   "metadata": {},
   "outputs": [
    {
     "name": "stdout",
     "output_type": "stream",
     "text": [
      "2529614419968\n",
      "2529614419968\n"
     ]
    }
   ],
   "source": [
    "print(id(a))\n",
    "print(id(b))"
   ]
  },
  {
   "cell_type": "code",
   "execution_count": 84,
   "metadata": {},
   "outputs": [
    {
     "name": "stdout",
     "output_type": "stream",
     "text": [
      "[1, 2, 3]\n",
      "[1, 2, 3]\n"
     ]
    }
   ],
   "source": [
    "b = a.copy()\n",
    "\n",
    "print(a)\n",
    "print(b)"
   ]
  },
  {
   "cell_type": "code",
   "execution_count": 85,
   "metadata": {},
   "outputs": [
    {
     "name": "stdout",
     "output_type": "stream",
     "text": [
      "2529614419968\n",
      "2529614418880\n"
     ]
    }
   ],
   "source": [
    "print(id(a))\n",
    "print(id(b))"
   ]
  },
  {
   "cell_type": "code",
   "execution_count": 86,
   "metadata": {},
   "outputs": [
    {
     "name": "stdout",
     "output_type": "stream",
     "text": [
      "深拷贝 deepcopy\n",
      "\n",
      "[1, 2, 3]\n",
      "[1, 2, 3]\n"
     ]
    }
   ],
   "source": [
    "import copy\n",
    "\n",
    "print(\"深拷贝 deepcopy\\n\")\n",
    "b = copy.deepcopy(a)\n",
    "\n",
    "print(a)\n",
    "print(b)"
   ]
  },
  {
   "cell_type": "code",
   "execution_count": null,
   "metadata": {},
   "outputs": [],
   "source": [
    "print(id(a))\n",
    "print(id(b))"
   ]
  },
  {
   "cell_type": "markdown",
   "metadata": {},
   "source": [
    "### 小结\n",
    "\n",
    "- = 赋值：值相等，地址相等 \n",
    "- copy 浅拷贝：值相等，地址不相等 \n",
    "- deepcopy 深拷贝：值相等，地址不相等\n",
    "\n",
    "\n",
    "- <font color=\"red\">似乎深浅拷贝没有区别？</font>"
   ]
  },
  {
   "cell_type": "markdown",
   "metadata": {},
   "source": [
    "### 例 列表元素中含列表 —— 深浅拷贝的意义\n",
    "\n",
    "#### (1) `id` 一样"
   ]
  },
  {
   "cell_type": "code",
   "execution_count": null,
   "metadata": {},
   "outputs": [],
   "source": [
    "print(\"赋值 =\\n\")\n",
    "a = [1, 2, [3, 4], 5]\n",
    "b = a\n",
    "\n",
    "print(id(a))\n",
    "print(id(b))"
   ]
  },
  {
   "cell_type": "markdown",
   "metadata": {},
   "source": [
    "#### (2) `a` 和 `b` 实质上是同一个对象"
   ]
  },
  {
   "cell_type": "code",
   "execution_count": null,
   "metadata": {},
   "outputs": [],
   "source": [
    "b[1]=3\n",
    "print(\"a =\", a)\n",
    "print(\"b =\", b)"
   ]
  },
  {
   "cell_type": "code",
   "execution_count": null,
   "metadata": {},
   "outputs": [],
   "source": [
    "b[2][0] = 8\n",
    "print(\"a =\", a)\n",
    "print(\"b =\", b)"
   ]
  },
  {
   "cell_type": "markdown",
   "metadata": {},
   "source": [
    "#### (3) 浅拷贝生成 `b`"
   ]
  },
  {
   "cell_type": "code",
   "execution_count": 66,
   "metadata": {},
   "outputs": [
    {
     "name": "stdout",
     "output_type": "stream",
     "text": [
      "浅拷贝 copy\n",
      "\n",
      "2479011656512\n",
      "2479011604736\n"
     ]
    }
   ],
   "source": [
    "print(\"浅拷贝 copy\\n\")\n",
    "\n",
    "a = [1, 2, [3, 4], 5]\n",
    "b = a.copy()\n",
    "\n",
    "print(id(a))\n",
    "print(id(b))"
   ]
  },
  {
   "cell_type": "code",
   "execution_count": 67,
   "metadata": {},
   "outputs": [
    {
     "name": "stdout",
     "output_type": "stream",
     "text": [
      "a = [1, 2, [3, 4], 5]\n",
      "b = [1, 3, [3, 4], 5]\n"
     ]
    }
   ],
   "source": [
    "b[1] = 3\n",
    "print(\"a =\", a)\n",
    "print(\"b =\", b)"
   ]
  },
  {
   "cell_type": "code",
   "execution_count": 68,
   "metadata": {},
   "outputs": [
    {
     "name": "stdout",
     "output_type": "stream",
     "text": [
      "a = [1, 2, [8, 4], 5]\n",
      "b = [1, 3, [8, 4], 5]\n"
     ]
    }
   ],
   "source": [
    "b[2][0] = 8\n",
    "print(\"a =\", a)\n",
    "print(\"b =\", b)"
   ]
  },
  {
   "cell_type": "markdown",
   "metadata": {},
   "source": [
    "#### (4) 对浅拷贝的说明\n",
    "\n",
    "- 最外层是拷贝\n",
    "- 内层还是同一个对象"
   ]
  },
  {
   "cell_type": "markdown",
   "metadata": {},
   "source": [
    "#### (5) 深拷贝生成 `b`"
   ]
  },
  {
   "cell_type": "code",
   "execution_count": 69,
   "metadata": {},
   "outputs": [
    {
     "name": "stdout",
     "output_type": "stream",
     "text": [
      "深拷贝 deepcopy\n",
      "\n"
     ]
    }
   ],
   "source": [
    "import copy\n",
    "print(\"深拷贝 deepcopy\\n\")\n",
    "\n",
    "a = [1, 2, [3, 4], 5]\n",
    "b = copy.deepcopy(a)"
   ]
  },
  {
   "cell_type": "code",
   "execution_count": 70,
   "metadata": {},
   "outputs": [
    {
     "name": "stdout",
     "output_type": "stream",
     "text": [
      "2479011566400\n",
      "2479011459968\n"
     ]
    }
   ],
   "source": [
    "print(id(a))\n",
    "print(id(b))"
   ]
  },
  {
   "cell_type": "code",
   "execution_count": 71,
   "metadata": {},
   "outputs": [
    {
     "name": "stdout",
     "output_type": "stream",
     "text": [
      "a = [1, 2, [3, 4], 5]\n",
      "b = [1, 2, [3, 4], 5]\n"
     ]
    }
   ],
   "source": [
    "print(\"a =\", a)\n",
    "print(\"b =\", b)"
   ]
  },
  {
   "cell_type": "code",
   "execution_count": 72,
   "metadata": {},
   "outputs": [
    {
     "name": "stdout",
     "output_type": "stream",
     "text": [
      "a = [1, 2, [3, 4], 5]\n",
      "b = [1, 3, [3, 4], 5]\n"
     ]
    }
   ],
   "source": [
    "b[1] = 3\n",
    "print(\"a =\", a)\n",
    "print(\"b =\", b)"
   ]
  },
  {
   "cell_type": "code",
   "execution_count": 73,
   "metadata": {},
   "outputs": [
    {
     "name": "stdout",
     "output_type": "stream",
     "text": [
      "a = [1, 2, [3, 4], 5]\n",
      "b = [1, 3, [8, 4], 5]\n"
     ]
    }
   ],
   "source": [
    "b[2][0] = 8\n",
    "print(\"a =\", a)\n",
    "print(\"b =\", b)"
   ]
  },
  {
   "cell_type": "code",
   "execution_count": 74,
   "metadata": {},
   "outputs": [
    {
     "data": {
      "text/plain": [
       "['__add__',\n",
       " '__class__',\n",
       " '__class_getitem__',\n",
       " '__contains__',\n",
       " '__delattr__',\n",
       " '__delitem__',\n",
       " '__dir__',\n",
       " '__doc__',\n",
       " '__eq__',\n",
       " '__format__',\n",
       " '__ge__',\n",
       " '__getattribute__',\n",
       " '__getitem__',\n",
       " '__getstate__',\n",
       " '__gt__',\n",
       " '__hash__',\n",
       " '__iadd__',\n",
       " '__imul__',\n",
       " '__init__',\n",
       " '__init_subclass__',\n",
       " '__iter__',\n",
       " '__le__',\n",
       " '__len__',\n",
       " '__lt__',\n",
       " '__mul__',\n",
       " '__ne__',\n",
       " '__new__',\n",
       " '__reduce__',\n",
       " '__reduce_ex__',\n",
       " '__repr__',\n",
       " '__reversed__',\n",
       " '__rmul__',\n",
       " '__setattr__',\n",
       " '__setitem__',\n",
       " '__sizeof__',\n",
       " '__str__',\n",
       " '__subclasshook__',\n",
       " 'append',\n",
       " 'clear',\n",
       " 'copy',\n",
       " 'count',\n",
       " 'extend',\n",
       " 'index',\n",
       " 'insert',\n",
       " 'pop',\n",
       " 'remove',\n",
       " 'reverse',\n",
       " 'sort']"
      ]
     },
     "execution_count": 74,
     "metadata": {},
     "output_type": "execute_result"
    }
   ],
   "source": [
    "dir(list)"
   ]
  },
  {
   "cell_type": "markdown",
   "metadata": {},
   "source": [
    "### <font size=4><span id=\"5.1.9\"> 5.1.9 list案例</span></font>"
   ]
  },
  {
   "cell_type": "markdown",
   "metadata": {},
   "source": [
    "##### 例35 两幅扑克洗牌"
   ]
  },
  {
   "cell_type": "code",
   "execution_count": 120,
   "metadata": {},
   "outputs": [
    {
     "name": "stdout",
     "output_type": "stream",
     "text": [
      "2♦ 3♣ 3♥ 9♦ J♣ Q♣ 10♠ A♥ 8♣ K♥ 2♣ Q♠ 7♦ 5♦ Q♣ 9♣ ♛ K♥ A♦ J♥ K♣ 5♦ 8♦ 6♣ J♠ 4♦ ♚ \n",
      "10♣ 3♠ A♥ 2♥ 3♠ 4♣ 8♦ Q♦ 7♠ 2♣ 8♠ 10♣ 9♥ 4♠ 3♦ J♣ 9♠ 5♠ 10♠ 7♣ K♦ 5♥ 10♦ 3♦ 4♠ 7♦ ♛ \n",
      "4♥ 2♠ 9♥ 5♥ 5♣ 6♦ Q♠ A♠ K♣ 9♣ A♠ 6♦ J♦ 6♥ J♥ 2♥ 5♣ Q♥ 9♦ Q♦ A♣ K♦ 8♥ 3♣ 6♣ 7♠ 4♥ \n",
      "2♦ 3♥ 8♣ 2♠ 7♥ J♠ 10♥ 4♣ A♣ 4♦ 7♥ ♚ 8♥ A♦ K♠ J♦ K♠ 7♣ 10♥ 5♠ 10♦ 6♥ Q♥ 8♠ 9♠ 6♠ 6♠ \n",
      "\n"
     ]
    }
   ],
   "source": [
    "import random\n",
    "\n",
    "n = 2 #两副牌\n",
    "\n",
    "card0 = list(range(52 * n + n * 2)) \n",
    "schar = '♠♥♣♦♤♡♧♢♛♚'\n",
    "JQKA = 'JQKA' \n",
    "#print(card0)\n",
    "random.shuffle(card0)  #打乱\n",
    "#print(card0)\n",
    "\n",
    "\n",
    "# display card\n",
    "count = 0\n",
    "new_list = []\n",
    "for each in range(52 * n + n * 2):\n",
    "    if card0[each] < n * 52:\n",
    "        cardflower = (card0[each] % 52) // 13\n",
    "        cardnumber = (card0[each] % 52) % 13 + 1   \n",
    "        print(str(cardnumber+1 if cardnumber<=9 else JQKA[cardnumber-10])+str(schar[cardflower]),end=' ')\n",
    "        #print(str(cardnumber)+str(schar[cardflower]),end=' ')\n",
    "        new_list.append(str(cardnumber+1 if cardnumber<=9 else JQKA[cardnumber-10])+str(schar[cardflower]))\n",
    "    else:\n",
    "        cardflower = (card0[each] - 52 * n) % 2\n",
    "        print(str(schar[cardflower+8]),end=' ')\n",
    "        new_list.append(str(schar[cardflower+8]))\n",
    "    count += 1\n",
    "    if (count) % 27 == 0:\n",
    "        print('\\n',end='')    \n",
    "print('')"
   ]
  },
  {
   "cell_type": "code",
   "execution_count": 121,
   "metadata": {},
   "outputs": [
    {
     "name": "stdout",
     "output_type": "stream",
     "text": [
      "player 1: 2♠ 2♣ 2♦ 3♠ 4♠ 4♣ 4♣ 4♥ 5♠ 5♠ 5♥ 7♦ 7♦ 8♠ 8♣ 8♥ 9♥ 9♦ A♠ J♠ J♣ J♥ J♦ K♣ Q♠ ♚ ♛ \n",
      "player 2: 10♠ 10♦ 10♦ 2♥ 2♦ 3♣ 3♣ 3♦ 4♦ 5♥ 5♦ 5♦ 6♦ 7♥ 8♠ 8♥ 8♦ 9♠ A♠ A♣ A♥ K♠ K♥ K♥ Q♣ Q♦ ♛ \n",
      "player 3: 10♠ 10♣ 2♣ 2♥ 3♥ 3♥ 3♦ 4♥ 4♦ 5♣ 5♣ 6♠ 6♣ 6♥ 7♣ 7♣ 8♦ A♣ A♦ A♦ J♠ J♣ J♦ K♣ Q♣ Q♦ ♚ \n",
      "player 4: 10♣ 10♥ 10♥ 2♠ 3♠ 4♠ 6♠ 6♣ 6♥ 6♦ 7♠ 7♠ 7♥ 8♣ 9♠ 9♣ 9♣ 9♥ 9♦ A♥ J♥ K♠ K♦ K♦ Q♠ Q♥ Q♥ \n"
     ]
    }
   ],
   "source": [
    "# 1 2 3 4 5 6 7 8  9 10 11 12 13\n",
    "# 2 3 4 5 6 7 8 9 10 J  Q  K  A \n",
    "play01 = new_list[0::4]\n",
    "play02 = new_list[1::4]\n",
    "play03 = new_list[2::4]\n",
    "play04 = new_list[3::4]\n",
    "play01.sort()\n",
    "play02.sort()\n",
    "play03.sort()\n",
    "play04.sort()\n",
    "playall = [play01, play02, play03, play04]\n",
    "i=1\n",
    "for pl in playall:\n",
    "    print('player '+str(i)+':',end=' ')\n",
    "    for each in pl:\n",
    "        print(each, end=' ')\n",
    "    print()\n",
    "    i+=1"
   ]
  },
  {
   "cell_type": "markdown",
   "metadata": {},
   "source": [
    "##### 例36 成绩排名"
   ]
  },
  {
   "cell_type": "code",
   "execution_count": null,
   "metadata": {},
   "outputs": [],
   "source": [
    "english = [97, 85, 63, 92, 85, 63, 72, 83]\n",
    "chinese = [83, 64, 75, 90, 91, 62, 65, 59]\n",
    "math    = [95, 65, 73, 92, 81, 72, 76, 70]\n",
    "name = ['AA', 'BB', 'CC', 'DD', 'EE', 'FF', 'GG', 'HH']\n",
    "# 请按照总分顺序输出他们的成绩列表，样式如下：\n",
    "\"\"\"\n",
    "Name EN CH MT TT\n",
    "FF   63 62 72 197\n",
    "CC   63 75 73 211\n",
    "HH   83 59 70 212\n",
    "GG   72 65 76 213\n",
    "BB   85 64 65 214\n",
    "EE   85 91 81 257\n",
    "DD   92 90 92 274\n",
    "AA   97 83 95 275\n",
    "\"\"\"\n",
    "total = []\n",
    "for i in range(len(name)):\n",
    "    total.append(sum([english[i], chinese[i], math[i]]))\n",
    "#print(total)\n",
    "\n",
    "for i in range(len(name)):\n",
    "    for j in range(0,len(name)-i-1):\n",
    "        if total[j] > total[j+1]:\n",
    "            total[j], total[j+1] = total[j+1], total[j] \n",
    "            name[j], name[j+1] = name[j+1], name[j] \n",
    "            english[j], english[j+1] = english[j+1], english[j] \n",
    "            chinese[j], chinese[j+1] = chinese[j+1], chinese[j] \n",
    "            math[j], math[j+1] = math[j+1], math[j] \n",
    "\n",
    "print(\"Name EN CH MT TT\")            \n",
    "for i in range(len(name)):\n",
    "    print(name[i],\" \", english[i], chinese[i], math[i], total[i])"
   ]
  },
  {
   "cell_type": "code",
   "execution_count": 90,
   "metadata": {},
   "outputs": [
    {
     "data": {
      "text/plain": [
       "[('AA', 97, 83, 95),\n",
       " ('BB', 85, 64, 65),\n",
       " ('CC', 63, 75, 73),\n",
       " ('DD', 92, 90, 92),\n",
       " ('EE', 85, 91, 81),\n",
       " ('FF', 63, 62, 72),\n",
       " ('GG', 72, 65, 76),\n",
       " ('HH', 83, 59, 70)]"
      ]
     },
     "execution_count": 90,
     "metadata": {},
     "output_type": "execute_result"
    }
   ],
   "source": [
    "english = [97, 85, 63, 92, 85, 63, 72, 83]\n",
    "chinese = [83, 64, 75, 90, 91, 62, 65, 59]\n",
    "math    = [95, 65, 73, 92, 81, 72, 76, 70]\n",
    "name = ['AA', 'BB', 'CC', 'DD', 'EE', 'FF', 'GG', 'HH']\n",
    "infoall = list(zip(name, english, chinese, math))     # 注意 zip 的用法\n",
    "infoall"
   ]
  },
  {
   "cell_type": "code",
   "execution_count": null,
   "metadata": {},
   "outputs": [],
   "source": [
    "infoall.sort(key=lambda x: sum(x[1:4]))\n",
    "infoall"
   ]
  },
  {
   "cell_type": "markdown",
   "metadata": {},
   "source": [
    "### <font size=4><span id=\"5.1.10\"> 5.1.10 list的总结</span></font>"
   ]
  },
  {
   "cell_type": "markdown",
   "metadata": {},
   "source": [
    "<img src=\"images/chapter05/list_mindmap.gif\">"
   ]
  },
  {
   "cell_type": "markdown",
   "metadata": {},
   "source": [
    "[返回目录](#mulu5)"
   ]
  },
  {
   "cell_type": "markdown",
   "metadata": {},
   "source": [
    "#### 思考\n",
    "#####  列表旋转\n",
    "- 给定一个数组，将数组中的元素向右移动 k 个位置，其中 k 是非负数。"
   ]
  },
  {
   "cell_type": "markdown",
   "metadata": {},
   "source": [
    "输入: nums = [1,2,3,4,5,6,7], k = 3   \n",
    "输出: [5,6,7,1,2,3,4]   \n",
    "解释:   \n",
    "向右旋转 1 步: [7,1,2,3,4,5,6]   \n",
    "向右旋转 2 步: [6,7,1,2,3,4,5]   \n",
    "向右旋转 3 步: [5,6,7,1,2,3,4]   \n"
   ]
  },
  {
   "cell_type": "code",
   "execution_count": null,
   "metadata": {},
   "outputs": [],
   "source": [
    "##思考几分钟\n",
    "#\n",
    "#\n",
    "#\n",
    "#\n",
    "#\n",
    "#\n",
    "#\n",
    "#\n",
    "#\n"
   ]
  },
  {
   "cell_type": "code",
   "execution_count": 119,
   "metadata": {},
   "outputs": [
    {
     "name": "stdout",
     "output_type": "stream",
     "text": [
      "[1, 2, 3, 4, 5, 6, 7]\n",
      "[1, 2, 3, 4, 5, 6, 7]\n"
     ]
    }
   ],
   "source": [
    "nums = [1,2,3,4,5,6,7]\n",
    "k = 14\n",
    "\n",
    "\n",
    "n = len(nums)\n",
    "k = k % n\n",
    "\n",
    "nums.extend(list([0]*k))\n",
    "nums[k:]=nums[:n]\n",
    "nums[:k]=nums[n:]\n",
    "del nums[n:]\n",
    "print(nums)\n",
    "\n",
    "#nums = [1,2,3,4,5,6,7]\n",
    "#nums = nums[n-k:n] + nums[0:n-k]\n",
    "print(nums)"
   ]
  },
  {
   "cell_type": "markdown",
   "metadata": {},
   "source": [
    "## <font size=5><span id=\"5.2\"> 5.2 元组</span></font>\n",
    "#### 带上枷锁的列表"
   ]
  },
  {
   "cell_type": "markdown",
   "metadata": {
    "toc-hr-collapsed": true
   },
   "source": [
    "### <font size=4><span id=\"5.2.1\"> 5.2.1 创建和访问一个元组</span></font>"
   ]
  },
  {
   "cell_type": "markdown",
   "metadata": {},
   "source": [
    "#### 元组和列表的区别：\n",
    "* 元组 不可改变\n",
    "* 元组用()，列表用[]"
   ]
  },
  {
   "cell_type": "code",
   "execution_count": 124,
   "metadata": {},
   "outputs": [
    {
     "data": {
      "text/plain": [
       "(1, 2, 3, 4)"
      ]
     },
     "execution_count": 124,
     "metadata": {},
     "output_type": "execute_result"
    }
   ],
   "source": [
    "tuple1 = (1, 2, 3, 4)\n",
    "tuple1"
   ]
  },
  {
   "cell_type": "markdown",
   "metadata": {},
   "source": [
    "#### 访问元组的方法与列表无异！！"
   ]
  },
  {
   "cell_type": "code",
   "execution_count": 125,
   "metadata": {},
   "outputs": [
    {
     "data": {
      "text/plain": [
       "3"
      ]
     },
     "execution_count": 125,
     "metadata": {},
     "output_type": "execute_result"
    }
   ],
   "source": [
    "tuple1[2]"
   ]
  },
  {
   "cell_type": "code",
   "execution_count": 126,
   "metadata": {},
   "outputs": [
    {
     "data": {
      "text/plain": [
       "(3, 4)"
      ]
     },
     "execution_count": 126,
     "metadata": {},
     "output_type": "execute_result"
    }
   ],
   "source": [
    "tuple1[2:]"
   ]
  },
  {
   "cell_type": "code",
   "execution_count": 127,
   "metadata": {},
   "outputs": [
    {
     "data": {
      "text/plain": [
       "(2, 3)"
      ]
     },
     "execution_count": 127,
     "metadata": {},
     "output_type": "execute_result"
    }
   ],
   "source": [
    "tuple1[1:-1]"
   ]
  },
  {
   "cell_type": "code",
   "execution_count": null,
   "metadata": {},
   "outputs": [],
   "source": [
    "## 也可以用分片的方法，复制一个元组\n",
    "tuple2 = tuple1[:]\n",
    "tuple2"
   ]
  },
  {
   "cell_type": "code",
   "execution_count": null,
   "metadata": {},
   "outputs": [],
   "source": [
    "## 试图改变元素\n",
    "tuple1[2] = 0"
   ]
  },
  {
   "cell_type": "markdown",
   "metadata": {},
   "source": [
    "#### 提问：列表的特征是[],那么元组的特征是()么？\n"
   ]
  },
  {
   "cell_type": "code",
   "execution_count": 77,
   "metadata": {},
   "outputs": [],
   "source": [
    "temp = (1,)"
   ]
  },
  {
   "cell_type": "code",
   "execution_count": 78,
   "metadata": {},
   "outputs": [
    {
     "data": {
      "text/plain": [
       "tuple"
      ]
     },
     "execution_count": 78,
     "metadata": {},
     "output_type": "execute_result"
    }
   ],
   "source": [
    "type(temp)"
   ]
  },
  {
   "cell_type": "code",
   "execution_count": null,
   "metadata": {},
   "outputs": [],
   "source": [
    "## 怎么样？"
   ]
  },
  {
   "cell_type": "code",
   "execution_count": 79,
   "metadata": {},
   "outputs": [],
   "source": [
    "temp = 1,2,3"
   ]
  },
  {
   "cell_type": "code",
   "execution_count": 80,
   "metadata": {},
   "outputs": [
    {
     "data": {
      "text/plain": [
       "tuple"
      ]
     },
     "execution_count": 80,
     "metadata": {},
     "output_type": "execute_result"
    }
   ],
   "source": [
    "type(temp)"
   ]
  },
  {
   "cell_type": "code",
   "execution_count": 81,
   "metadata": {},
   "outputs": [],
   "source": [
    "temp = ()"
   ]
  },
  {
   "cell_type": "code",
   "execution_count": 82,
   "metadata": {},
   "outputs": [
    {
     "data": {
      "text/plain": [
       "tuple"
      ]
     },
     "execution_count": 82,
     "metadata": {},
     "output_type": "execute_result"
    }
   ],
   "source": [
    "type(temp)"
   ]
  },
  {
   "cell_type": "markdown",
   "metadata": {},
   "source": [
    "#### 问题来了？假如要创建一个只有一个元素的tuple，怎么办？"
   ]
  },
  {
   "cell_type": "code",
   "execution_count": null,
   "metadata": {},
   "outputs": [],
   "source": [
    "temp = (1,)"
   ]
  },
  {
   "cell_type": "code",
   "execution_count": null,
   "metadata": {},
   "outputs": [],
   "source": [
    "type(temp)"
   ]
  },
  {
   "cell_type": "markdown",
   "metadata": {},
   "source": [
    "#### 答案就是：请在他后面加一个逗号"
   ]
  },
  {
   "cell_type": "code",
   "execution_count": 138,
   "metadata": {},
   "outputs": [],
   "source": [
    "temp = 1,"
   ]
  },
  {
   "cell_type": "code",
   "execution_count": 139,
   "metadata": {},
   "outputs": [
    {
     "data": {
      "text/plain": [
       "tuple"
      ]
     },
     "execution_count": 139,
     "metadata": {},
     "output_type": "execute_result"
    }
   ],
   "source": [
    "type(temp)"
   ]
  },
  {
   "cell_type": "markdown",
   "metadata": {},
   "source": [
    "#### 看看下面区别，思考一下为什么？"
   ]
  },
  {
   "cell_type": "code",
   "execution_count": 140,
   "metadata": {},
   "outputs": [
    {
     "data": {
      "text/plain": [
       "64"
      ]
     },
     "execution_count": 140,
     "metadata": {},
     "output_type": "execute_result"
    }
   ],
   "source": [
    "8 * (8)"
   ]
  },
  {
   "cell_type": "code",
   "execution_count": 141,
   "metadata": {},
   "outputs": [
    {
     "data": {
      "text/plain": [
       "(8, 8, 8, 8, 8, 8, 8, 8)"
      ]
     },
     "execution_count": 141,
     "metadata": {},
     "output_type": "execute_result"
    }
   ],
   "source": [
    "8 * (8, )"
   ]
  },
  {
   "cell_type": "code",
   "execution_count": null,
   "metadata": {},
   "outputs": [],
   "source": []
  },
  {
   "cell_type": "markdown",
   "metadata": {},
   "source": [
    "[返回目录](#mulu5)"
   ]
  },
  {
   "cell_type": "markdown",
   "metadata": {
    "toc-hr-collapsed": true
   },
   "source": [
    "### <font size=4><span id=\"5.2.2\"> 5.2.2 更新和删除元组</span></font>"
   ]
  },
  {
   "cell_type": "markdown",
   "metadata": {},
   "source": [
    "#### 不是说不可以改变元组的值的么？.....  打脸了吗？"
   ]
  },
  {
   "cell_type": "markdown",
   "metadata": {},
   "source": [
    "#### 我们有含蓄的做法"
   ]
  },
  {
   "cell_type": "code",
   "execution_count": 83,
   "metadata": {},
   "outputs": [],
   "source": [
    "temp = ('a', 'b', 'c', 'd')"
   ]
  },
  {
   "cell_type": "code",
   "execution_count": 84,
   "metadata": {},
   "outputs": [
    {
     "ename": "TypeError",
     "evalue": "'tuple' object does not support item assignment",
     "output_type": "error",
     "traceback": [
      "\u001b[1;31m---------------------------------------------------------------------------\u001b[0m",
      "\u001b[1;31mTypeError\u001b[0m                                 Traceback (most recent call last)",
      "Cell \u001b[1;32mIn[84], line 1\u001b[0m\n\u001b[1;32m----> 1\u001b[0m temp[\u001b[38;5;241m2\u001b[39m] \u001b[38;5;241m=\u001b[39m \u001b[38;5;124m'\u001b[39m\u001b[38;5;124me\u001b[39m\u001b[38;5;124m'\u001b[39m\n",
      "\u001b[1;31mTypeError\u001b[0m: 'tuple' object does not support item assignment"
     ]
    }
   ],
   "source": [
    "temp[2] = 'e'"
   ]
  },
  {
   "cell_type": "code",
   "execution_count": null,
   "metadata": {},
   "outputs": [],
   "source": [
    "temp[:1]"
   ]
  },
  {
   "cell_type": "code",
   "execution_count": 85,
   "metadata": {},
   "outputs": [
    {
     "data": {
      "text/plain": [
       "('a', 'e', 'c', 'd')"
      ]
     },
     "execution_count": 85,
     "metadata": {},
     "output_type": "execute_result"
    }
   ],
   "source": [
    "temp = temp[:1] + ('e',) + temp[2:]\n",
    "temp"
   ]
  },
  {
   "cell_type": "markdown",
   "metadata": {},
   "source": [
    "#### 特别注意，逗号必须要，为什么？能理解么"
   ]
  },
  {
   "cell_type": "markdown",
   "metadata": {},
   "source": [
    "#### 变相删除"
   ]
  },
  {
   "cell_type": "code",
   "execution_count": null,
   "metadata": {},
   "outputs": [],
   "source": [
    "temp =  ('a', 'b', 'c', 'd')\n",
    "temp = temp[:1]+temp[2:]\n",
    "temp"
   ]
  },
  {
   "cell_type": "code",
   "execution_count": null,
   "metadata": {},
   "outputs": [],
   "source": [
    "del temp\n",
    "temp"
   ]
  },
  {
   "cell_type": "markdown",
   "metadata": {},
   "source": [
    "### <font size=4><span id=\"5.2.3\"> 5.2.3 元组tuple的总结</span></font>"
   ]
  },
  {
   "cell_type": "markdown",
   "metadata": {},
   "source": [
    "<img src=\"images/chapter05/tuple_mindmap.png\">"
   ]
  },
  {
   "cell_type": "code",
   "execution_count": 4,
   "metadata": {},
   "outputs": [
    {
     "data": {
      "text/plain": [
       "(3,)"
      ]
     },
     "execution_count": 4,
     "metadata": {},
     "output_type": "execute_result"
    }
   ],
   "source": [
    "tuple([3])"
   ]
  },
  {
   "cell_type": "markdown",
   "metadata": {},
   "source": [
    "[返回目录](#mulu5)"
   ]
  }
 ],
 "metadata": {
  "kernelspec": {
   "display_name": "Python 3 (ipykernel)",
   "language": "python",
   "name": "python3"
  },
  "language_info": {
   "codemirror_mode": {
    "name": "ipython",
    "version": 3
   },
   "file_extension": ".py",
   "mimetype": "text/x-python",
   "name": "python",
   "nbconvert_exporter": "python",
   "pygments_lexer": "ipython3",
   "version": "3.11.7"
  }
 },
 "nbformat": 4,
 "nbformat_minor": 4
}
