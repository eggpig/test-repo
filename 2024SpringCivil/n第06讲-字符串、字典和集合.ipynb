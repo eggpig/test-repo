{
 "cells": [
  {
   "cell_type": "markdown",
   "metadata": {},
   "source": [
    "***"
   ]
  },
  {
   "cell_type": "markdown",
   "metadata": {},
   "source": [
    "<span id=\"mulu6\"><font face=\"黑体\" size=6>本章目录</font></span>\n",
    "* [第六讲 字符串、字典和集合](#6)\n",
    "    * [6.1 字符串](#6.1)\n",
    "        * [6.1.1 字符串的创建等操作](#6.1.1)   \n",
    "        * [6.1.2 字符串的访问](#6.1.2)\n",
    "        * [6.1.3 比较、逻辑、成员关系](#6.1.3)    \n",
    "        * [6.1.4 字符串的编码和解码(*)](#6.1.4)\n",
    "        * [6.1.5 各种内置方法](#6.1.5)    \n",
    "        * [6.1.6 案例](#6.1.6)    \n",
    "    * [6.2 字典](#6.2)\n",
    "        * [6.2.1 字典](#6.2.1)    \n",
    "        * [6.2.2 字典的表示与创建](#6.2.2)    \n",
    "        * [6.2.3 访问字典](#6.2.3)    \n",
    "        * [6.2.4 修改字典](#6.2.4)    \n",
    "        * [6.2.5 操作字典的各种内置函数和方法](#6.2.5)    \n",
    "        * [6.2.6 字典推理](#6.2.6)    \n",
    "    * [6.3 集合](#6.3) \n",
    "        * [6.3.1 创建集合](#6.3.1)    \n",
    "        * [6.3.2 集合修改](#6.3.2)    \n",
    "        * [6.3.3 成员判断](#6.3.3)    \n",
    "        * [6.3.4 集合的运算](#6.3.4)    \n",
    "        * [6.3.5 集合的推理](#6.3.5)    \n",
    "        * [6.3.6 集合的遍历](#6.3.6)\n",
    "        * [6.3.7 frozenset()](#6.3.7)              \n",
    "    * [6.4 序列容器的常用函数](#6.4)\n",
    "        * [6.4.1 max与min函数](#6.4.1)    \n",
    "        * [6.4.2 sum求和函数](#6.4.2)    \n",
    "        * [6.4.3 sorted与reversed函数](#6.4.3)    \n",
    "        * [6.4.4 enumerate函数](#6.4.4)    \n",
    "        * [6.4.5 zip函数](#6.4.5)    \n"
   ]
  },
  {
   "cell_type": "markdown",
   "metadata": {},
   "source": [
    "# 第6讲 字符串、字典和集合"
   ]
  },
  {
   "cell_type": "markdown",
   "metadata": {
    "tags": [],
    "toc-hr-collapsed": true
   },
   "source": [
    "## <font size=5><span id=\"6.1\"> 6.1 字符串str</span></font>"
   ]
  },
  {
   "cell_type": "markdown",
   "metadata": {},
   "source": [
    "\n",
    "- 可以将字符串视为字符列表\n",
    "- 很多参考资料视作str为一种数据类型\n",
    "- 字符串的许多操作和列表类似"
   ]
  },
  {
   "cell_type": "markdown",
   "metadata": {
    "tags": [],
    "toc-hr-collapsed": true
   },
   "source": [
    "### <font size=4><span id=\"6.1.1\"> 6.1.1 字符串的创建等操作</span></font>"
   ]
  },
  {
   "cell_type": "markdown",
   "metadata": {},
   "source": [
    "- 创建字符串的几种方式：\n",
    "   - 使用单\\'号或双\\\"号的方式\n",
    "   - 使用三\\'号的方式\n",
    "   - 使用加号连接字符串\n",
    "   - 使用format()方法格式化字符串\n",
    "   - 使用str()函数将其他数据类型转换为字符串\n",
    "   - 使用f-string进行字符串格式化\n",
    "   "
   ]
  },
  {
   "cell_type": "markdown",
   "metadata": {},
   "source": [
    "#### 例1 -使用单\\'号或双\\\"号的方式"
   ]
  },
  {
   "cell_type": "code",
   "execution_count": null,
   "metadata": {},
   "outputs": [],
   "source": [
    "# 使用单'号\n",
    "str1 = 'I Love Tongji University'\n",
    "str1[:-6]"
   ]
  },
  {
   "cell_type": "code",
   "execution_count": null,
   "metadata": {},
   "outputs": [],
   "source": [
    "str1[3]"
   ]
  },
  {
   "cell_type": "code",
   "execution_count": null,
   "metadata": {},
   "outputs": [],
   "source": [
    "# 使用双\"号\n",
    "str2 = \"Hello, Shanghai!\"\n",
    "str2"
   ]
  },
  {
   "cell_type": "markdown",
   "metadata": {},
   "source": [
    "#### 例2 -使用三\\'号或三\\\"号的方式"
   ]
  },
  {
   "cell_type": "code",
   "execution_count": null,
   "metadata": {},
   "outputs": [],
   "source": [
    "str_3 = '''I like to eat apples.\n",
    "He likes to eat apples.\n",
    "We all like to eat apples.\n",
    "But today, I don't want to eat apples. '''\n",
    "str_3\n",
    "print(str_3)"
   ]
  },
  {
   "cell_type": "code",
   "execution_count": null,
   "metadata": {},
   "outputs": [],
   "source": [
    "str_3 = \"\"\"春眠不觉晓，\n",
    "处处闻啼鸟。\n",
    "夜来风雨声，\n",
    "花落知多少。\"\"\"\n",
    "str_3\n",
    "print(str_3)"
   ]
  },
  {
   "cell_type": "markdown",
   "metadata": {},
   "source": [
    "#### 例3 -使用加号连接字符串"
   ]
  },
  {
   "cell_type": "code",
   "execution_count": null,
   "metadata": {},
   "outputs": [],
   "source": [
    "# 使用加号连接字符串\n",
    "str3 = \"I like to\" + \" eat apples.\"\n",
    "str3"
   ]
  },
  {
   "cell_type": "markdown",
   "metadata": {},
   "source": [
    "#### 例4 -使用format()方法格式化字符串"
   ]
  },
  {
   "cell_type": "code",
   "execution_count": null,
   "metadata": {},
   "outputs": [],
   "source": [
    "#使用format()方法格式化字符串\n",
    "str4 = \"I am {year} year old.\".format(year=20)\n",
    "str4"
   ]
  },
  {
   "cell_type": "markdown",
   "metadata": {},
   "source": [
    "#### 例5 -使用f-string进行字符串格式化"
   ]
  },
  {
   "cell_type": "code",
   "execution_count": null,
   "metadata": {},
   "outputs": [],
   "source": [
    "#使用f-string进行字符串格式化\n",
    "year = 25\n",
    "str5 = f\"I am {year} year old.\"\n",
    "str5"
   ]
  },
  {
   "cell_type": "markdown",
   "metadata": {},
   "source": [
    "#### 例6 -使用str()函数将其他数据类型转换为字符串"
   ]
  },
  {
   "cell_type": "code",
   "execution_count": null,
   "metadata": {},
   "outputs": [],
   "source": [
    "#使用str()函数将其他数据类型转换为字符串\n",
    "str6 = str([1, 2, 3])\n",
    "str6"
   ]
  },
  {
   "cell_type": "markdown",
   "metadata": {
    "tags": [],
    "toc-hr-collapsed": true
   },
   "source": [
    "### <font size=4><span id=\"6.1.2\"> 6.1.2 字符串的访问</span></font>"
   ]
  },
  {
   "cell_type": "markdown",
   "metadata": {},
   "source": [
    "- 字符串的索引\n",
    "- 字符串的切片\n",
    "- 字符串的遍历\n",
    "- 字符串的不可变性"
   ]
  },
  {
   "cell_type": "markdown",
   "metadata": {},
   "source": [
    "- 字符串的索引：\n",
    "  - 字符串中每个字符的位置索引，从0开始递增，可以使用正向索引和反向索引来访问字符串中的字符。"
   ]
  },
  {
   "cell_type": "markdown",
   "metadata": {},
   "source": [
    "#### 例7 -例"
   ]
  },
  {
   "cell_type": "code",
   "execution_count": null,
   "metadata": {},
   "outputs": [],
   "source": [
    "stra = \"ABCD1234\"\n",
    "stra[0], stra[-1]"
   ]
  },
  {
   "cell_type": "code",
   "execution_count": null,
   "metadata": {},
   "outputs": [],
   "source": [
    "for i in range(len(stra)):\n",
    "    print(stra[i],end=\" \")"
   ]
  },
  {
   "cell_type": "code",
   "execution_count": null,
   "metadata": {},
   "outputs": [],
   "source": [
    "for i in range(-1,-9,-1):\n",
    "    print(stra[i],end=\" \")"
   ]
  },
  {
   "cell_type": "markdown",
   "metadata": {},
   "source": [
    "- 字符串的切片：：\n",
    "  - 使用切片操作符[start:end:step]来获取子字符串，包括起始索引、结束索引和步长的含义。  "
   ]
  },
  {
   "cell_type": "markdown",
   "metadata": {},
   "source": [
    "#### 例8 -例"
   ]
  },
  {
   "cell_type": "code",
   "execution_count": 1,
   "metadata": {},
   "outputs": [
    {
     "data": {
      "text/plain": [
       "('BC', 'CB')"
      ]
     },
     "execution_count": 1,
     "metadata": {},
     "output_type": "execute_result"
    }
   ],
   "source": [
    "stra = \"ABCD1234\"\n",
    "stra = stra[1:3]\n",
    "stra, stra[-1:-3:-1]"
   ]
  },
  {
   "cell_type": "markdown",
   "metadata": {},
   "source": [
    "- 字符串的遍历\n",
    "   - 使用循环结构（如for循环）来遍历字符串中的每个字符。"
   ]
  },
  {
   "cell_type": "markdown",
   "metadata": {},
   "source": [
    "#### 例9 -例"
   ]
  },
  {
   "cell_type": "code",
   "execution_count": null,
   "metadata": {},
   "outputs": [],
   "source": [
    "# 注意与前面索引下表的区别，这里将每个字符看成字符串的最小单元，依次遍历\n",
    "stra = \"ABCD4321\"\n",
    "for c in stra:\n",
    "    print(c, end=\" \")"
   ]
  },
  {
   "cell_type": "markdown",
   "metadata": {},
   "source": [
    "- 字符串的不可变性\n",
    "   - 解释字符串是不可变对象的概念，即不能直接修改字符串中的字符\n",
    "   - 只能通过创建新的字符串来实现修改。"
   ]
  },
  {
   "cell_type": "code",
   "execution_count": 2,
   "metadata": {},
   "outputs": [
    {
     "ename": "TypeError",
     "evalue": "'str' object does not support item assignment",
     "output_type": "error",
     "traceback": [
      "\u001b[1;31m---------------------------------------------------------------------------\u001b[0m",
      "\u001b[1;31mTypeError\u001b[0m                                 Traceback (most recent call last)",
      "Cell \u001b[1;32mIn[2], line 2\u001b[0m\n\u001b[0;32m      1\u001b[0m stra \u001b[38;5;241m=\u001b[39m \u001b[38;5;124m\"\u001b[39m\u001b[38;5;124mabc1234\u001b[39m\u001b[38;5;124m\"\u001b[39m\n\u001b[1;32m----> 2\u001b[0m stra[\u001b[38;5;241m2\u001b[39m] \u001b[38;5;241m=\u001b[39m \u001b[38;5;124m'\u001b[39m\u001b[38;5;124m1\u001b[39m\u001b[38;5;124m'\u001b[39m\n",
      "\u001b[1;31mTypeError\u001b[0m: 'str' object does not support item assignment"
     ]
    }
   ],
   "source": [
    "stra = \"abc1234\"\n",
    "stra[2] = '1'  #此句有语法错误，字符串不可变"
   ]
  },
  {
   "cell_type": "code",
   "execution_count": 3,
   "metadata": {},
   "outputs": [
    {
     "name": "stdout",
     "output_type": "stream",
     "text": [
      "之前的地址为：1822627521008\n",
      "现在的地址为：1822627516080\n"
     ]
    },
    {
     "data": {
      "text/plain": [
       "'ab11234'"
      ]
     },
     "execution_count": 3,
     "metadata": {},
     "output_type": "execute_result"
    }
   ],
   "source": [
    "# 解决办法之一：\n",
    "stra = \"abc1234\"  # 字母c欲改成字符1\n",
    "print(f\"之前的地址为：{id(stra)}\")\n",
    "stra = stra[0:2] + '1' + stra[3:]  # 实际上创建了一个新的字符串\n",
    "print(f\"现在的地址为：{id(stra)}\")\n",
    "stra"
   ]
  },
  {
   "cell_type": "markdown",
   "metadata": {},
   "source": [
    "### <font size=4><span id=\"6.1.3\"> 6.1.3  比较、逻辑、成员关系</span></font>"
   ]
  },
  {
   "cell_type": "markdown",
   "metadata": {},
   "source": [
    "- 比较\n",
    "  - 可以用```>  >=   <  <=  ==  !=```进行字符串的比较\n",
    "  - 比较规则：首先比较字符串的第一个字符的Unicode码点值，如果不相等，则根据Unicode码点值的大小确定字符串的大小关系。\n",
    "  - 如果第一个字符相等，则继续比较下一个字符，直到找到不相等的字符或者比较完所有字符。\n",
    "  - 如果一个字符串的所有字符都与另一个字符串相等，则长度较短的字符串被认为是小于长度较长的字符串。"
   ]
  },
  {
   "cell_type": "markdown",
   "metadata": {},
   "source": [
    "#### 例10 字符串的比较操作"
   ]
  },
  {
   "cell_type": "code",
   "execution_count": 4,
   "metadata": {},
   "outputs": [
    {
     "data": {
      "text/plain": [
       "True"
      ]
     },
     "execution_count": 4,
     "metadata": {},
     "output_type": "execute_result"
    }
   ],
   "source": [
    "\"I Love Tongji\" > 'I Love China'"
   ]
  },
  {
   "cell_type": "code",
   "execution_count": 5,
   "metadata": {},
   "outputs": [
    {
     "data": {
      "text/plain": [
       "False"
      ]
     },
     "execution_count": 5,
     "metadata": {},
     "output_type": "execute_result"
    }
   ],
   "source": [
    "'' > 'I love'"
   ]
  },
  {
   "cell_type": "code",
   "execution_count": 6,
   "metadata": {},
   "outputs": [
    {
     "data": {
      "text/plain": [
       "False"
      ]
     },
     "execution_count": 6,
     "metadata": {},
     "output_type": "execute_result"
    }
   ],
   "source": [
    "\"abc\"  > \"abc123\""
   ]
  },
  {
   "cell_type": "code",
   "execution_count": 7,
   "metadata": {},
   "outputs": [
    {
     "data": {
      "text/plain": [
       "(False, True)"
      ]
     },
     "execution_count": 7,
     "metadata": {},
     "output_type": "execute_result"
    }
   ],
   "source": [
    "\"123\"  == \"12345\", \"123\"  != \"12345\", "
   ]
  },
  {
   "cell_type": "markdown",
   "metadata": {},
   "source": [
    "- 逻辑运算\n",
    "  - 可以将字符串看做bool型进行逻辑运算\n",
    "  - 遵从短路原则\n",
    "    - 对于and来说，只要第一个结果计算为假，那么另一个结果不会被计算，直接判断为假\n",
    "    - 对于or来说，只要第一个结果计算为真，那么另一个结果不会被计算，直接判断为真\n",
    " "
   ]
  },
  {
   "cell_type": "code",
   "execution_count": 8,
   "metadata": {},
   "outputs": [
    {
     "data": {
      "text/plain": [
       "'I Love'"
      ]
     },
     "execution_count": 8,
     "metadata": {},
     "output_type": "execute_result"
    }
   ],
   "source": [
    "'I Love' or 'U'"
   ]
  },
  {
   "cell_type": "code",
   "execution_count": 9,
   "metadata": {},
   "outputs": [
    {
     "data": {
      "text/plain": [
       "'I love'"
      ]
     },
     "execution_count": 9,
     "metadata": {},
     "output_type": "execute_result"
    }
   ],
   "source": [
    "'' or 'I love'"
   ]
  },
  {
   "cell_type": "code",
   "execution_count": null,
   "metadata": {},
   "outputs": [],
   "source": [
    "\"\" or \" \""
   ]
  },
  {
   "cell_type": "code",
   "execution_count": 10,
   "metadata": {},
   "outputs": [
    {
     "data": {
      "text/plain": [
       "'U'"
      ]
     },
     "execution_count": 10,
     "metadata": {},
     "output_type": "execute_result"
    }
   ],
   "source": [
    "'I Love' and 'U'"
   ]
  },
  {
   "cell_type": "code",
   "execution_count": 11,
   "metadata": {},
   "outputs": [
    {
     "data": {
      "text/plain": [
       "' '"
      ]
     },
     "execution_count": 11,
     "metadata": {},
     "output_type": "execute_result"
    }
   ],
   "source": [
    "'I Love' and ' '"
   ]
  },
  {
   "cell_type": "code",
   "execution_count": 12,
   "metadata": {},
   "outputs": [
    {
     "data": {
      "text/plain": [
       "''"
      ]
     },
     "execution_count": 12,
     "metadata": {},
     "output_type": "execute_result"
    }
   ],
   "source": [
    "'I Love' and ''"
   ]
  },
  {
   "cell_type": "code",
   "execution_count": null,
   "metadata": {},
   "outputs": [],
   "source": [
    "not \"\""
   ]
  },
  {
   "cell_type": "code",
   "execution_count": null,
   "metadata": {},
   "outputs": [],
   "source": [
    "not \"abc\""
   ]
  },
  {
   "cell_type": "markdown",
   "metadata": {},
   "source": [
    "- 成员关系：\n",
    "    - 可以使用成员关系操作符in和not in来检查一个字符串是否包含另一个字符串作为子串\n",
    "    - 这些操作符可以用于检查一个字符串是否包含特定的字符、子字符串或子序列。"
   ]
  },
  {
   "cell_type": "markdown",
   "metadata": {},
   "source": [
    "#### 例11 字符串的 `in` 和 `not in` 操作\n",
    "\n",
    "- 按数组方式理解"
   ]
  },
  {
   "cell_type": "code",
   "execution_count": null,
   "metadata": {},
   "outputs": [],
   "source": [
    "'Love' in \"I Love Tongji\""
   ]
  },
  {
   "cell_type": "code",
   "execution_count": null,
   "metadata": {},
   "outputs": [],
   "source": [
    "'love' not in \"I Love Tongji\""
   ]
  },
  {
   "cell_type": "code",
   "execution_count": null,
   "metadata": {
    "tags": []
   },
   "outputs": [],
   "source": [
    "password = input(\"请输入密码：\")\n",
    "# 一般要求密码长度大于8；\n",
    "# 要求包含特殊字符\n",
    "special_chars = \"!@#$%^&*\"\n",
    "\n",
    "# 检查密码长度是否大于等于8\n",
    "if len(password) < 8:\n",
    "    print(\"密码太短！\") \n",
    "else:\n",
    "    # 检查密码是否包含特殊字符\n",
    "    if any(char in special_chars for char in password):\n",
    "        print(\"密码符合要求\")\n",
    "    else:\n",
    "        print(\"密码不含特殊字符\")"
   ]
  },
  {
   "cell_type": "markdown",
   "metadata": {},
   "source": [
    "### <font size=4><span id=\"6.1.4\"> 6.1.4 字符串的编码和解码(*)</span></font>"
   ]
  },
  {
   "cell_type": "markdown",
   "metadata": {},
   "source": [
    "- 在Python中，字符串的编码和解码是指将字符串转换为字节序列（编码）和将字节序列转换为字符串（解码）的过程。\n",
    "- 在计算机中，文本数据在存储和传输时需要以字节序列的形式进行处理，因此需要进行编码和解码操作来实现字符串和字节序列之间的转换。"
   ]
  },
  {
   "cell_type": "markdown",
   "metadata": {},
   "source": [
    "- 编码（Encode）：将字符串转换为字节序列的过程称为编码。\n",
    "- 在Python中，可以使用字符串的encode()方法来进行编码，指定所需的编码格式（如UTF-8、GBK等）。例如："
   ]
  },
  {
   "cell_type": "code",
   "execution_count": 15,
   "metadata": {},
   "outputs": [
    {
     "name": "stdout",
     "output_type": "stream",
     "text": [
      "b'\\xe6\\x88\\x91\\xe6\\x98\\xaf\\xe4\\xb8\\xad\\xe5\\x9b\\xbd\\xe4\\xba\\xba'\n"
     ]
    }
   ],
   "source": [
    "text = \"我是中国人\"\n",
    "encoded_text = text.encode('utf-8')\n",
    "print(encoded_text)"
   ]
  },
  {
   "cell_type": "markdown",
   "metadata": {},
   "source": [
    "- 解码（Decode）：将字节序列转换为字符串的过程称为解码。\n",
    "- 在Python中，可以使用字节序列的decode()方法来进行解码，指定所需的编码格式（与编码时相同）。"
   ]
  },
  {
   "cell_type": "code",
   "execution_count": 16,
   "metadata": {},
   "outputs": [
    {
     "ename": "UnicodeDecodeError",
     "evalue": "'utf-16-le' codec can't decode byte 0xba in position 14: truncated data",
     "output_type": "error",
     "traceback": [
      "\u001b[1;31m---------------------------------------------------------------------------\u001b[0m",
      "\u001b[1;31mUnicodeDecodeError\u001b[0m                        Traceback (most recent call last)",
      "Cell \u001b[1;32mIn[16], line 2\u001b[0m\n\u001b[0;32m      1\u001b[0m byte_data \u001b[38;5;241m=\u001b[39m\u001b[38;5;124mb\u001b[39m\u001b[38;5;124m'\u001b[39m\u001b[38;5;130;01m\\xe6\u001b[39;00m\u001b[38;5;130;01m\\x88\u001b[39;00m\u001b[38;5;130;01m\\x91\u001b[39;00m\u001b[38;5;130;01m\\xe6\u001b[39;00m\u001b[38;5;130;01m\\x98\u001b[39;00m\u001b[38;5;130;01m\\xaf\u001b[39;00m\u001b[38;5;130;01m\\xe4\u001b[39;00m\u001b[38;5;130;01m\\xb8\u001b[39;00m\u001b[38;5;130;01m\\xad\u001b[39;00m\u001b[38;5;130;01m\\xe5\u001b[39;00m\u001b[38;5;130;01m\\x9b\u001b[39;00m\u001b[38;5;130;01m\\xbd\u001b[39;00m\u001b[38;5;130;01m\\xe4\u001b[39;00m\u001b[38;5;130;01m\\xba\u001b[39;00m\u001b[38;5;130;01m\\xba\u001b[39;00m\u001b[38;5;124m'\u001b[39m\n\u001b[1;32m----> 2\u001b[0m decoded_text \u001b[38;5;241m=\u001b[39m byte_data\u001b[38;5;241m.\u001b[39mdecode(\u001b[38;5;124m'\u001b[39m\u001b[38;5;124mutf-16\u001b[39m\u001b[38;5;124m'\u001b[39m)\n\u001b[0;32m      3\u001b[0m \u001b[38;5;28mprint\u001b[39m(decoded_text)\n",
      "\u001b[1;31mUnicodeDecodeError\u001b[0m: 'utf-16-le' codec can't decode byte 0xba in position 14: truncated data"
     ]
    }
   ],
   "source": [
    "byte_data =b'\\xe6\\x88\\x91\\xe6\\x98\\xaf\\xe4\\xb8\\xad\\xe5\\x9b\\xbd\\xe4\\xba\\xba'\n",
    "decoded_text = byte_data.decode('utf-8')\n",
    "print(decoded_text)  # 你好"
   ]
  },
  {
   "cell_type": "markdown",
   "metadata": {},
   "source": [
    "- 常见的编码格式：\n",
    "    - 1. ASCII（American Standard Code for Information Interchange）：ASCII是最早的字符编码标准，使用7位二进制数（共128个字符）来表示基本的拉丁字母、数字和符号。ASCII编码通常用于英文字符的编码。\n",
    "    - 2. UTF-8（Unicode Transformation Format-8）：UTF-8是一种可变长度的Unicode编码格式，能够表示Unicode字符集中的所有字符。UTF-8编码使用1至4个字节来表示一个字符，是目前最常用的Unicode编码格式，支持多种语言的字符表示。\n",
    "    - 3. UTF-16（Unicode Transformation Format-16）：UTF-16是一种固定长度的Unicode编码格式，使用2或4个字节来表示一个字符。UTF-16编码通常用于处理较为复杂的字符集，如中日韩文字等。\n",
    "    - 4. UTF-32（Unicode Transformation Format-32）：UTF-32是一种固定长度的Unicode编码格式，使用4个字节来表示一个字符。UTF-32编码在存储和处理Unicode字符时具有简单直观的特点，但相对于UTF-8和UTF-16来说，会占用更多的存储空间。\n",
    "    - 5. GBK（Guo Biao Kun Hui）：GBK是中国国家标准规定的汉字编码标准，支持简体中文字符。GBK编码包含了大部分常用的汉字和符号，是中文环境下常用的字符编码格式之一。\n",
    "    - 6. ISO-8859-1（Latin-1）：ISO-8859-1是国际标准化组织定义的字符编码标准，支持拉丁字母和西欧语言字符。ISO-8859-1编码是单字节编码，可以表示256个字符。"
   ]
  },
  {
   "cell_type": "markdown",
   "metadata": {},
   "source": [
    "<img src=\"images\\chapter06\\ascii.jpeg\">"
   ]
  },
  {
   "cell_type": "markdown",
   "metadata": {},
   "source": [
    "<img src=\"images\\chapter06\\code.jpg\" width=400>"
   ]
  },
  {
   "cell_type": "code",
   "execution_count": null,
   "metadata": {},
   "outputs": [],
   "source": [
    "print(text.encode('utf-8'))\n",
    "print(text.encode('utf-16'))\n",
    "print(text.encode('utf-32'))\n",
    "print(text.encode('ANSI'))\n",
    "print(text.encode('ANSI'))"
   ]
  },
  {
   "cell_type": "markdown",
   "metadata": {},
   "source": [
    "- str.encode() 方法支持的编码格式取决于 Python 解释器的实现\n",
    "- 通常支持的编码格式包括但不限于以下几种：\n",
    "  - 1. ASCII \n",
    "  - 2. UTF-8 \n",
    "  - 3. UTF-16 \n",
    "  - 4. UTF-32 \n",
    "  - 5. Latin-1 \n",
    "  - 6.   GBK \n",
    "  - 7. ISO-8859-1 \n",
    "  - 8. Big5 \n",
    "  - 9. EUC-KR \n",
    "  - 10. Shift-JIS \n",
    "  "
   ]
  },
  {
   "cell_type": "markdown",
   "metadata": {
    "toc-hr-collapsed": true
   },
   "source": [
    "### <font size=4><span id=\"6.1.5\"> 6.1.5 各种内置方法</span></font>"
   ]
  },
  {
   "cell_type": "markdown",
   "metadata": {},
   "source": [
    "- 字符串内置方法更多"
   ]
  },
  {
   "cell_type": "code",
   "execution_count": null,
   "metadata": {},
   "outputs": [],
   "source": [
    "'s'.find"
   ]
  },
  {
   "cell_type": "markdown",
   "metadata": {},
   "source": [
    "|序号|方法|           描述    |  \n",
    "|:---|:---|:------|\n",
    "|1|string.capitalize()|把字符串的第一个字符大写|\n",
    "|2|string.center(width)|返回一个原字符串居中,并使用空格填充至长度 width 的新字符串|\n",
    "|3|string.count(str, beg=0, end=len(string)) | 返回 str 在 string 里面出现的次数，<br>如果 beg 或者 end 指定则返回指定范围内 str 出现的次数|  \n",
    "|4|string.decode(encoding='UTF-8', errors='strict')|以 encoding 指定的编码格式解码 string，<br>如果出错默认报一个 ValueError 的 异 常 ， <br>除非 errors 指 定 的 是 'ignore' 或 者'replace'|\n",
    "|5|string.encode(encoding='UTF-8', errors='strict')|以 encoding 指定的编码格式编码 string，<br>如果出错默认报一个ValueError 的异常，<br>除非 errors 指定的是'ignore'或者'replace'|  \n",
    "|6|string.endswith(obj, beg=0, end=len(string))|检查字符串是否以 obj 结束，<br>如果beg 或者 end 指定则检查指定的范围内是否以 obj 结束，<br>如果是，返回 True,否则返回 False.|    \n",
    "|7|string.expandtabs(tabsize=8)|把字符串 string 中的 tab 符号转为空格，<br>tab 符号默认的空格数是 8。|  \n",
    "|8|string.find(str, beg=0, end=len(string))|检测 str 是否包含在 string 中，<br>如果 beg 和 end 指定范围，则检查是否包含在指定范围内，<br>如果是返回开始的索引值，否则返回-1|  \n",
    "|9|string.format()|格式化字符串|  \n",
    "|10|string.index(str, beg=0, end=len(string))|跟find()方法一样，只不过如果str不在 string中会报一个异常.|  \n",
    "|11|string.isalnum()|如果 string 至少有一个字符并且所有字符都是字母或数字<br>则返回 True,否则返回 False|  \n",
    "|12|string.isalpha()|如果 string 至少有一个字符并且所有字符都是字母则返回 True,<br>否则返回 False|  \n",
    "|13|string.isdecimal()|如果 string 只包含十进制数字则返回 True 否则返回 False.|  \n",
    "|14|string.isdigit()|如果 string 只包含数字则返回 True 否则返回 False.|  \n",
    "|15|string.islower()|如果 string 中包含至少一个区分大小写的字符，<br>并且所有这些(区分大小写的)字符都是小写，则返回 True，<br>否则返回 False|  \n",
    "|16|string.isnumeric()|如果 string 中只包含数字字符，则返回 True，否则返回 False|  \n",
    "|17|string.isspace()|如果 string 中只包含空格，则返回 True，否则返回 False.|  \n",
    "|18|string.istitle()|如果 string 是标题化的(见 title())则返回 True，<br>否则返回 False|  \n",
    "|19|string.isupper()|如果 string 中包含至少一个区分大小写的字符，<br>并且所有这些(区分大小写的)字符都是大写，则返回 True，<br>否则返回 False|  \n",
    "|20|string.join(seq)|以 string 作为分隔符，将 seq 中所有的元素(的字符串表示)合并为一个新的字符串|\n",
    "|21|string.ljust(width)|返回一个原字符串左对齐,并使用空格填充至长度 width 的新字符串|  \n",
    "|22|string.lower()|转换 string 中所有大写字符为小写.|  \n",
    "|23|string.lstrip()|截掉 string 左边的空格|  \n",
    "|24|string.maketrans(intab, outtab])|maketrans() 方法用于创建字符映射的转换表，<br>对于接受两个参数的最简单的调用方式，<br>第一个参数是字符串，表示需要转换的字符，<br>第二个参数也是字符串表示转换的目标。|  \n",
    "|25|max(str)| 返回字符串 str 中最大的字母。|  \n",
    "|26|min(str)|返回字符串 str 中最小的字母。|  \n",
    "|27|string.partition(str)|有点像 find()和 split()的结合体,<br>从 str 出现的第一个位置起,把字符串string分成一个3元素的元组  (string_pre_str,str,string_post_str),<br>如果 string 中不包含str 则 string_pre_str == string.|  \n",
    "|28|string.replace(str1, str2,  num=string.count(str1))|把 string 中的 str1 替换成 str2,如果 num 指定，则替换不超过 num 次.|  \n",
    "|29|string.rfind(str, beg=0,end=len(string) )|类似于 find()函数，不过是从右边开始查找.|  \n",
    "|30|string.rindex( str, beg=0,end=len(string))|类似于 index()，不过是从右边开始.|  \n",
    "|31|string.rjust(width)|返回一个原字符串右对齐,并使用空格填充至长度 width 的新字符串|  \n",
    "|32|string.rpartition(str)|类似于 partition()函数,不过是从右边开始查找|  \n",
    "|33|string.rstrip()|删除 string 字符串末尾的空格.|  \n",
    "|34|string.split(str=\"\", num=string.count(str))|以 str 为分隔符切片 string，如果 num有指定值，则仅分隔 num 个子字符串|  \n",
    "|35|string.splitlines([keepends])|按照行('\\r', '\\r\\n', \\n')分隔，返回一个包含各行作为元素的列表，<br>如果参数 keepends 为 False，不包含换行符，<br>如果为 True，则保留换行符。|  \n",
    "|36|string.startswith(obj, beg=0,end=len(string))|检查字符串是否是以 obj 开头，是则返回 True，否则返回 False。<br>如果beg 和 end 指定值，则在指定范围内检查.|  \n",
    "|37|string.strip([obj])|在 string 上执行 lstrip()和 rstrip()|  \n",
    "|38|string.swapcase()|翻转 string 中的大小写|  \n",
    "|39|string.title()|返回\"标题化\"的 string,就是说所有单词都是以大写开始，其余字母均为小写(见 istitle())|  \n",
    "|40|string.translate(str, del=\"\")|根据 str 给出的表(包含 256 个字符)转换 string 的字符,要过滤掉的字符放到 del 参数中|  \n",
    "|41|string.upper()|转换 string 中的小写字母为大写|  \n",
    "|42|string.zfill(width)|返回长度为 width 的字符串，原字符串 string 右对齐，前面填充0|  "
   ]
  },
  {
   "cell_type": "markdown",
   "metadata": {},
   "source": [
    "#### 例12 字符串操作函数\n",
    "- 注：这些改变，不会对原来的字符串做修改，而是返回一个字符串"
   ]
  },
  {
   "cell_type": "code",
   "execution_count": 17,
   "metadata": {},
   "outputs": [],
   "source": [
    "str1 = 'I Love TongJi University!'"
   ]
  },
  {
   "cell_type": "code",
   "execution_count": 18,
   "metadata": {},
   "outputs": [
    {
     "name": "stdout",
     "output_type": "stream",
     "text": [
      "I love tongji university!\n"
     ]
    }
   ],
   "source": [
    "print(str1.capitalize())"
   ]
  },
  {
   "cell_type": "code",
   "execution_count": 19,
   "metadata": {},
   "outputs": [
    {
     "data": {
      "text/plain": [
       "'I Love TongJi University!'"
      ]
     },
     "execution_count": 19,
     "metadata": {},
     "output_type": "execute_result"
    }
   ],
   "source": [
    "str1"
   ]
  },
  {
   "cell_type": "code",
   "execution_count": null,
   "metadata": {},
   "outputs": [],
   "source": [
    "## MUST Attension！\n",
    "## 字符串并没有改变\n",
    "str1 = str1.capitalize()"
   ]
  },
  {
   "cell_type": "code",
   "execution_count": null,
   "metadata": {},
   "outputs": [],
   "source": [
    "str1"
   ]
  },
  {
   "cell_type": "code",
   "execution_count": 20,
   "metadata": {},
   "outputs": [
    {
     "name": "stdout",
     "output_type": "stream",
     "text": [
      "i love tongji university!\n",
      "            I Love TongJi University!             \n"
     ]
    }
   ],
   "source": [
    "print(str1.casefold())\n",
    "print(str1.center(50))"
   ]
  },
  {
   "cell_type": "code",
   "execution_count": 21,
   "metadata": {},
   "outputs": [
    {
     "data": {
      "text/plain": [
       "'I Love Tongji University'"
      ]
     },
     "execution_count": 21,
     "metadata": {},
     "output_type": "execute_result"
    }
   ],
   "source": [
    "str1 = ''.join(['I', ' Love',' Tongji',' University'])\n",
    "str1"
   ]
  },
  {
   "cell_type": "code",
   "execution_count": 22,
   "metadata": {},
   "outputs": [
    {
     "data": {
      "text/plain": [
       "'I Love Tongji University'"
      ]
     },
     "execution_count": 22,
     "metadata": {},
     "output_type": "execute_result"
    }
   ],
   "source": [
    "ttt = ''\n",
    "ttt = ttt.join(['I', ' Love',' Tongji',' University'])\n",
    "ttt"
   ]
  },
  {
   "cell_type": "code",
   "execution_count": null,
   "metadata": {},
   "outputs": [],
   "source": [
    "'abc'.join('def')"
   ]
  },
  {
   "cell_type": "code",
   "execution_count": 23,
   "metadata": {},
   "outputs": [
    {
     "data": {
      "text/plain": [
       "['I', 'Love', 'Tongji', 'University']"
      ]
     },
     "execution_count": 23,
     "metadata": {},
     "output_type": "execute_result"
    }
   ],
   "source": [
    "str1.split()"
   ]
  },
  {
   "cell_type": "markdown",
   "metadata": {},
   "source": [
    "#### 字符串的若干函数\n",
    "\n",
    "\n",
    "- `isalpha`  判断是否全为字母\n",
    "- `isdigit` 判断是否全为数字\n",
    "- `join` 多字符串连接\n",
    "- `split` 字符串分离\n",
    "- ..."
   ]
  },
  {
   "cell_type": "code",
   "execution_count": 24,
   "metadata": {},
   "outputs": [
    {
     "data": {
      "text/plain": [
       "True"
      ]
     },
     "execution_count": 24,
     "metadata": {},
     "output_type": "execute_result"
    }
   ],
   "source": [
    "\"abcde\".isalpha()"
   ]
  },
  {
   "cell_type": "code",
   "execution_count": 25,
   "metadata": {},
   "outputs": [
    {
     "data": {
      "text/plain": [
       "True"
      ]
     },
     "execution_count": 25,
     "metadata": {},
     "output_type": "execute_result"
    }
   ],
   "source": [
    "\"12345\".isdigit()"
   ]
  },
  {
   "cell_type": "code",
   "execution_count": null,
   "metadata": {},
   "outputs": [],
   "source": [
    "a_str = ''.join(['I', ' Love',' Tongji',' University']) #注意使用方式\n",
    "a_str"
   ]
  },
  {
   "cell_type": "code",
   "execution_count": null,
   "metadata": {},
   "outputs": [],
   "source": [
    "a_str.split()"
   ]
  },
  {
   "cell_type": "markdown",
   "metadata": {
    "tags": [],
    "toc-hr-collapsed": true
   },
   "source": [
    "### <font size=4><span id=\"6.1.6\"> 6.1.6 案例：二十大报告最高频单词及其位置</span></font>\n"
   ]
  },
  {
   "cell_type": "markdown",
   "metadata": {},
   "source": [
    "##### (1) 读入文件，切分单词"
   ]
  },
  {
   "cell_type": "code",
   "execution_count": 26,
   "metadata": {
    "tags": []
   },
   "outputs": [
    {
     "name": "stderr",
     "output_type": "stream",
     "text": [
      "Building prefix dict from the default dictionary ...\n",
      "Loading model from cache C:\\Users\\PANZIC~1\\AppData\\Local\\Temp\\jieba.cache\n",
      "Loading model cost 1.109 seconds.\n",
      "Prefix dict has been built successfully.\n"
     ]
    }
   ],
   "source": [
    "##### 读入文件，切分单词\n",
    "import jieba\n",
    "file = open(\"files/20conference.txt\",\"r\",encoding=\"utf-8\")\n",
    "txt = file.read()\n",
    "# 设置分词字典（可选）\n",
    "#jieba.set_dictionary('path_to_custom_dict.txt')\n",
    "# 分词\n",
    "seg_list = jieba.cut(txt, cut_all=False)\n",
    "\n",
    "# 输出分词结果\n",
    "#print(\" \".join(seg_list))\n",
    "\n",
    "#for each in set(seg_list):\n",
    "#    print(each, end=\"  \")\n",
    "\n",
    "words = []\n",
    "for each in set(seg_list):\n",
    "    words.append((each, txt.count(each)))"
   ]
  },
  {
   "cell_type": "code",
   "execution_count": 28,
   "metadata": {
    "scrolled": true
   },
   "outputs": [
    {
     "data": {
      "text/plain": [
       "[('抗击', 2),\n",
       " ('基础设施', 7),\n",
       " ('人民意志', 1),\n",
       " ('立心', 1),\n",
       " ('延迟', 1),\n",
       " ('（', 43),\n",
       " ('网络', 10),\n",
       " ('呈现', 1),\n",
       " ('之花', 1),\n",
       " ('初次', 2),\n",
       " ('安全意识', 1),\n",
       " ('做事', 1),\n",
       " ('守', 15),\n",
       " ('〇', 6),\n",
       " ('中国', 180),\n",
       " ('永远', 8),\n",
       " ('建功', 1),\n",
       " ('核算', 1),\n",
       " ('共青团', 1),\n",
       " ('提出', 11),\n",
       " ('培训', 1),\n",
       " ('整顿', 1),\n",
       " ('不拘一格', 1),\n",
       " ('一百元', 1),\n",
       " ('信仰', 4),\n",
       " ('澳', 24),\n",
       " ('帮助', 1),\n",
       " ('特新', 1),\n",
       " ('其中', 3),\n",
       " ('契合', 2),\n",
       " ('新天地', 1),\n",
       " ('谋私', 1),\n",
       " ('反弹', 1),\n",
       " ('优先', 9),\n",
       " ('复兴', 22),\n",
       " ('敌对势力', 1),\n",
       " ('深入人心', 1),\n",
       " ('为什么', 2),\n",
       " ('必然', 3),\n",
       " ('反垄断', 1),\n",
       " ('成立', 4),\n",
       " ('一百四十多个', 1),\n",
       " ('小圈子', 1),\n",
       " ('国际形势', 1),\n",
       " ('与时俱进', 2),\n",
       " ('个人所得税', 1),\n",
       " ('前行', 2),\n",
       " ('党的基本', 1),\n",
       " ('前瞻性', 2),\n",
       " ('十亿', 2),\n",
       " ('方式', 13),\n",
       " ('协同', 7),\n",
       " ('源远流长', 1),\n",
       " ('降低', 2),\n",
       " ('抉择', 2),\n",
       " ('产生', 4),\n",
       " ('新人', 3),\n",
       " ('炒', 1),\n",
       " ('身子', 1),\n",
       " ('痼疾', 1),\n",
       " ('政治协商', 1),\n",
       " ('局势', 3),\n",
       " ('调动', 1),\n",
       " ('历程', 2),\n",
       " ('干涉', 7),\n",
       " ('利用', 5),\n",
       " ('血肉', 2),\n",
       " ('向前', 3),\n",
       " ('生产', 12),\n",
       " ('十八点五', 1),\n",
       " ('人生观', 1),\n",
       " ('多元', 3),\n",
       " ('相知', 1),\n",
       " ('规则', 2),\n",
       " ('护理', 1),\n",
       " ('凝聚', 8),\n",
       " ('比', 13),\n",
       " ('谷物', 1),\n",
       " ('劣者', 1),\n",
       " ('以良法', 1),\n",
       " ('敢', 14),\n",
       " ('粮食', 5),\n",
       " ('依法治理', 1),\n",
       " ('做到', 2),\n",
       " ('追究', 1),\n",
       " ('地位', 12),\n",
       " ('新形态', 2),\n",
       " ('网格化', 1),\n",
       " ('创立', 1),\n",
       " ('得罪', 1),\n",
       " ('资源', 23),\n",
       " ('大自然', 3),\n",
       " ('考察', 1),\n",
       " ('血浓于水', 1),\n",
       " ('英雄', 2),\n",
       " ('实践', 26),\n",
       " ('表示', 1),\n",
       " ('依靠', 5),\n",
       " ('碳达峰', 3),\n",
       " ('具有', 11),\n",
       " ('不变', 6),\n",
       " ('科技攻关', 1),\n",
       " ('安定团结', 1),\n",
       " ('红线', 2),\n",
       " ('第二十次', 2),\n",
       " ('大众', 1),\n",
       " ('原创性', 1),\n",
       " ('—', 66),\n",
       " ('航空', 1),\n",
       " ('长臂', 1),\n",
       " ('岛内', 1),\n",
       " ('最佳', 2),\n",
       " ('中国人民志愿军', 1),\n",
       " ('决定性', 1),\n",
       " ('社会效益', 2),\n",
       " ('二千', 1),\n",
       " ('昂扬', 2),\n",
       " ('结构调整', 2),\n",
       " ('事前', 1),\n",
       " ('集群', 2),\n",
       " ('吸引外资', 1),\n",
       " ('公正', 7),\n",
       " ('三是', 1),\n",
       " ('上海', 1),\n",
       " ('率', 7),\n",
       " ('不时', 1),\n",
       " ('湖库', 1),\n",
       " ('彪炳', 1),\n",
       " ('贫乏', 1),\n",
       " ('支配', 2),\n",
       " ('大事', 4),\n",
       " ('权威', 8),\n",
       " ('反复', 1),\n",
       " ('救助', 2),\n",
       " ('桥梁', 1),\n",
       " ('理想', 9),\n",
       " ('！', 14),\n",
       " ('各族人民', 10),\n",
       " ('各党派', 1),\n",
       " ('全力', 3),\n",
       " ('知难而进', 1),\n",
       " ('体育', 5),\n",
       " ('观', 37),\n",
       " ('立党为公', 1),\n",
       " ('摘帽', 1),\n",
       " ('长治久安', 2),\n",
       " ('吸收', 1),\n",
       " ('毒瘤', 1),\n",
       " ('公立医院', 1),\n",
       " ('乘风破浪', 1),\n",
       " ('质', 51),\n",
       " ('引路人', 1),\n",
       " ('纯洁性', 1),\n",
       " ('监督', 19),\n",
       " ('办成', 1),\n",
       " ('崛起', 1),\n",
       " ('统揽', 1),\n",
       " ('地', 47),\n",
       " ('自力更生', 1),\n",
       " ('尽责', 1),\n",
       " ('军委主席', 1),\n",
       " ('我国', 30),\n",
       " ('用力', 1),\n",
       " ('人员', 3),\n",
       " ('人居', 2),\n",
       " ('鼓励', 6),\n",
       " ('结构性', 4),\n",
       " ('新一代', 1),\n",
       " ('巩固', 19),\n",
       " ('主动权', 3),\n",
       " ('创新性', 2),\n",
       " ('管用', 1),\n",
       " ('决定', 6),\n",
       " ('自我完善', 2),\n",
       " ('广大党员', 1),\n",
       " ('紧紧围绕', 1),\n",
       " ('清零', 1),\n",
       " ('之问', 4),\n",
       " ('民主', 49),\n",
       " ('流通', 1),\n",
       " ('积极', 25),\n",
       " ('固', 27),\n",
       " ('十四', 9),\n",
       " ('双循环', 1),\n",
       " ('对待', 2),\n",
       " ('研究型', 1),\n",
       " ('增长', 10),\n",
       " ('劳动力', 1),\n",
       " ('束缚', 1),\n",
       " ('统一', 41),\n",
       " ('价值观念', 1),\n",
       " ('巨大', 4),\n",
       " ('先进性', 1),\n",
       " ('鲜明', 3),\n",
       " ('人们', 1),\n",
       " ('共赢', 5),\n",
       " ('水体', 1),\n",
       " ('十四五', 1),\n",
       " ('广泛开展', 2),\n",
       " ('防', 51),\n",
       " ('集体经济', 1),\n",
       " ('互相', 2),\n",
       " ('力行', 1),\n",
       " ('用党', 4),\n",
       " ('建党', 4),\n",
       " ('停', 1),\n",
       " ('抬头', 1),\n",
       " ('东部', 2),\n",
       " ('权', 77),\n",
       " ('富集', 1),\n",
       " ('的', 588),\n",
       " ('世界贸易组织', 1),\n",
       " ('数字', 7),\n",
       " ('超越', 3),\n",
       " ('科教', 3),\n",
       " ('措施', 2),\n",
       " ('取缔', 1),\n",
       " ('着眼', 1),\n",
       " ('党同', 3),\n",
       " ('万八千', 1),\n",
       " ('第二个', 3),\n",
       " ('行稳', 1),\n",
       " ('信念', 7),\n",
       " ('推进改革', 3),\n",
       " ('任何', 2),\n",
       " ('党纪', 2),\n",
       " ('把握', 11),\n",
       " ('方案', 1),\n",
       " ('治权', 5),\n",
       " ('时期', 3),\n",
       " ('四点', 1),\n",
       " ('为政以德', 1),\n",
       " ('伟大祖国', 1),\n",
       " ('以上', 3),\n",
       " ('共治', 2),\n",
       " ('使', 19),\n",
       " ('合力', 1),\n",
       " ('存在', 12),\n",
       " ('保护地', 2),\n",
       " ('出新', 6),\n",
       " ('合理', 6),\n",
       " ('探索', 5),\n",
       " ('防控', 6),\n",
       " ('科学', 23),\n",
       " ('以来', 5),\n",
       " ('史无前例', 1),\n",
       " ('共产主义', 1),\n",
       " ('政治责任', 1),\n",
       " ('委员', 2),\n",
       " ('联合', 7),\n",
       " ('备案', 1),\n",
       " ('排污', 1),\n",
       " ('科教兴国', 2),\n",
       " ('禁渔', 1),\n",
       " ('金融服务', 1),\n",
       " ('五十四万', 1),\n",
       " ('思考', 1),\n",
       " ('稳定', 20),\n",
       " ('阵营', 1),\n",
       " ('配偶', 2),\n",
       " ('可能', 3),\n",
       " ('事情', 3),\n",
       " ('环节', 3),\n",
       " ('从严治党', 8),\n",
       " ('文化交流', 1),\n",
       " ('依法', 32),\n",
       " ('舞台', 1),\n",
       " ('育', 76),\n",
       " ('基层', 25),\n",
       " ('关爱', 3),\n",
       " ('民心', 2),\n",
       " ('权威性', 1),\n",
       " ('领域', 26),\n",
       " ('领导班子', 2),\n",
       " ('关键作用', 1),\n",
       " ('防护', 1),\n",
       " ('理论指导', 2),\n",
       " ('贡献', 5),\n",
       " ('发挥', 22),\n",
       " ('大病', 1),\n",
       " ('先导', 1),\n",
       " ('规模', 10),\n",
       " ('无上光荣', 1),\n",
       " ('举', 14),\n",
       " ('总结', 1),\n",
       " ('风险', 16),\n",
       " ('制度化', 7),\n",
       " ('实战', 3),\n",
       " ('大势', 2),\n",
       " ('脚踏实地', 1),\n",
       " ('文物', 1),\n",
       " ('定力', 1),\n",
       " ('巧取豪夺', 1),\n",
       " ('得', 39),\n",
       " ('第一', 8),\n",
       " ('优秀人才', 1),\n",
       " ('扩大内需', 2),\n",
       " ('奋斗目标', 6),\n",
       " ('大国', 10),\n",
       " ('裁减', 1),\n",
       " ('户', 3),\n",
       " ('姑息', 1),\n",
       " ('中央', 24),\n",
       " ('人为', 1),\n",
       " ('职工', 2),\n",
       " ('胸襟', 1),\n",
       " ('阻击战', 1),\n",
       " ('完成', 3),\n",
       " ('敬业', 1),\n",
       " ('河流', 2),\n",
       " ('边', 24),\n",
       " ('行径', 3),\n",
       " ('扶贫', 1),\n",
       " ('保障机制', 1),\n",
       " ('举措', 2),\n",
       " ('经济带', 1),\n",
       " ('勘探', 1),\n",
       " ('育才', 2),\n",
       " ('群众路线', 1),\n",
       " ('东北地区', 1),\n",
       " ('妇女儿童', 1),\n",
       " ('限度', 1),\n",
       " ('进一步提高', 2),\n",
       " ('成就', 8),\n",
       " ('信息', 9),\n",
       " ('卓越', 1),\n",
       " ('良好环境', 1),\n",
       " ('仍然', 3),\n",
       " ('原则', 14),\n",
       " ('澳门', 12),\n",
       " ('月', 2),\n",
       " ('时代', 62),\n",
       " ('力', 218),\n",
       " ('本世纪', 2),\n",
       " ('有序', 5),\n",
       " ('东北', 2),\n",
       " ('管理体制', 1),\n",
       " ('因循守旧', 1),\n",
       " ('爱国主义', 1),\n",
       " ('公园', 2),\n",
       " ('管辖', 1),\n",
       " ('特定', 1),\n",
       " ('监察机关', 1),\n",
       " ('国体', 2),\n",
       " ('伙伴', 3),\n",
       " ('同时', 6),\n",
       " ('周围', 1),\n",
       " ('强', 231),\n",
       " ('空间体系', 1),\n",
       " ('友好', 2),\n",
       " ('平台', 4),\n",
       " ('双城', 1),\n",
       " ('书写', 1),\n",
       " ('悉心', 1),\n",
       " ('理念', 9),\n",
       " ('生命安全', 1),\n",
       " ('新型农村', 1),\n",
       " ('什么', 4),\n",
       " ('爱国统一战线', 2),\n",
       " ('行政区', 9),\n",
       " ('垄断', 2),\n",
       " ('多元化', 2),\n",
       " ('壮大', 8),\n",
       " ('跃升', 2),\n",
       " ('一亿', 1),\n",
       " ('愁', 2),\n",
       " ('做实', 1),\n",
       " ('协调', 20),\n",
       " ('指导', 13),\n",
       " ('打赢', 5),\n",
       " ('重心', 1),\n",
       " ('外防', 1),\n",
       " ('现役', 1),\n",
       " ('结构合理', 1),\n",
       " ('关', 58),\n",
       " ('科技', 44),\n",
       " ('风', 42),\n",
       " ('以文塑', 1),\n",
       " ('为主', 9),\n",
       " ('破', 19),\n",
       " ('修正', 1),\n",
       " ('原始', 1),\n",
       " ('养成', 1),\n",
       " ('关头', 1),\n",
       " ('生态', 30),\n",
       " ('这一', 3),\n",
       " ('服务体系', 6),\n",
       " ('歇脚', 1),\n",
       " ('四个', 3),\n",
       " ('向往', 2),\n",
       " ('跨越', 1),\n",
       " ('破坏', 3),\n",
       " ('骨干企业', 1),\n",
       " ('展开', 1),\n",
       " ('发挥作用', 2),\n",
       " ('人权', 4),\n",
       " ('深入开展', 4),\n",
       " ('还', 5),\n",
       " ('行业', 3),\n",
       " ('一项', 1),\n",
       " ('单位', 3),\n",
       " ('僵化', 2),\n",
       " ('相互配合', 1),\n",
       " ('能够', 1),\n",
       " ('全面落实', 3),\n",
       " ('吃苦', 1),\n",
       " ('最', 30),\n",
       " ('指挥', 4),\n",
       " ('支持', 22),\n",
       " ('各种', 7),\n",
       " ('战略方针', 2),\n",
       " ('自强', 8),\n",
       " ('本质', 7),\n",
       " ('许多', 7),\n",
       " ('人心', 5),\n",
       " ('问责', 1),\n",
       " ('全党全国', 4),\n",
       " ('旅', 4),\n",
       " ('导航', 1),\n",
       " ('民族团结', 2),\n",
       " ('执法不严', 1),\n",
       " ('雄安', 1),\n",
       " ('出来', 8),\n",
       " ('社区', 4),\n",
       " ('党员干部', 2),\n",
       " ('数据', 1),\n",
       " ('新质', 1),\n",
       " ('利剑', 1),\n",
       " ('七', 9),\n",
       " ('爱港', 1),\n",
       " ('刻舟求剑', 1),\n",
       " ('安排', 2),\n",
       " ('居民收入', 2),\n",
       " ('淡化', 1),\n",
       " ('较为', 1),\n",
       " ('治国', 20),\n",
       " ('。', 609),\n",
       " ('以后', 1),\n",
       " ('主心骨', 2),\n",
       " ('地域', 1),\n",
       " ('逐步', 2),\n",
       " ('量力而行', 1),\n",
       " ('底线', 3),\n",
       " ('制定', 6),\n",
       " ('进程', 6),\n",
       " ('纪律', 3),\n",
       " ('群防群治', 1),\n",
       " ('发展党员', 1),\n",
       " ('制度性', 1),\n",
       " ('后盾', 1),\n",
       " ('又', 4),\n",
       " ('彰显', 1),\n",
       " ('企事业', 1),\n",
       " ('防范', 7),\n",
       " ('成本', 2),\n",
       " ('长期共存', 1),\n",
       " ('查', 6),\n",
       " ('转折性', 1),\n",
       " ('实践者', 1),\n",
       " ('营造', 5),\n",
       " ('五位一体', 1),\n",
       " ('整体性', 3),\n",
       " ('意见', 1),\n",
       " ('呼唤', 1),\n",
       " ('配置', 5),\n",
       " ('无人', 1),\n",
       " ('不足', 4),\n",
       " ('权力', 8),\n",
       " ('之路', 7),\n",
       " ('高度自治权', 1),\n",
       " ('为了', 3),\n",
       " ('城镇', 6),\n",
       " ('党执政', 3),\n",
       " ('微', 3),\n",
       " ('科研', 2),\n",
       " ('自立', 6),\n",
       " ('一样', 1),\n",
       " ('市民化', 1),\n",
       " ('环境', 26),\n",
       " ('打造', 3),\n",
       " ('时刻', 3),\n",
       " ('明理', 1),\n",
       " ('代理人', 1),\n",
       " ('近代', 1),\n",
       " ('长效机制', 1),\n",
       " ('勇气', 1),\n",
       " ('物质文明', 1),\n",
       " ('关键', 9),\n",
       " ('裁量', 1),\n",
       " ('放弃', 1),\n",
       " ('十年', 7),\n",
       " ('统一大业', 1),\n",
       " ('依然', 2),\n",
       " ('冲破', 1),\n",
       " ('成功', 3),\n",
       " ('国内', 14),\n",
       " ('趋紧', 1),\n",
       " ('过程', 13),\n",
       " ('九千', 2),\n",
       " ('谁', 1),\n",
       " ('机关', 10),\n",
       " ('源头', 2),\n",
       " ('青少年', 1),\n",
       " ('国内外', 3),\n",
       " ('复杂', 3),\n",
       " ('都市', 1),\n",
       " ('宽', 6),\n",
       " ('全球', 26),\n",
       " ('血脉相连', 1),\n",
       " ('软弱涣散', 1),\n",
       " ('聚', 16),\n",
       " ('亿亩', 1),\n",
       " ('解答', 1),\n",
       " ('防灾', 1),\n",
       " ('公民道德', 1),\n",
       " ('误国', 1),\n",
       " ('材料', 1),\n",
       " ('体现', 4),\n",
       " ('觉悟', 1),\n",
       " ('国有', 6),\n",
       " ('竞技', 1),\n",
       " ('强度', 2),\n",
       " ('赢', 13),\n",
       " ('整体', 8),\n",
       " ('深远', 3),\n",
       " ('实体', 2),\n",
       " ('立德', 2),\n",
       " ('不犯', 1),\n",
       " ('哲学', 2),\n",
       " ('整治', 5),\n",
       " ('万众一心', 1),\n",
       " ('转折', 2),\n",
       " ('铸魂', 2),\n",
       " ('军政', 2),\n",
       " ('内部', 4),\n",
       " ('大道', 1),\n",
       " ('取决于', 1),\n",
       " ('颠覆性', 1),\n",
       " ('推陈出新', 1),\n",
       " ('废释', 1),\n",
       " ('创新能力', 2),\n",
       " ('交易', 1),\n",
       " ('增值', 1),\n",
       " ('扩绿', 1),\n",
       " ('坚强有力', 1),\n",
       " ('兴国', 5),\n",
       " ('盼', 2),\n",
       " ('开创', 4),\n",
       " ('共商', 1),\n",
       " ('兜底', 1),\n",
       " ('民主决策', 2),\n",
       " ('此基础', 1),\n",
       " ('利', 44),\n",
       " ('一边', 2),\n",
       " ('法宝', 1),\n",
       " ('主动性', 1),\n",
       " ('难', 16),\n",
       " ('核心技术', 2),\n",
       " ('优势互补', 1),\n",
       " ('保值', 1),\n",
       " ('粤港澳', 2),\n",
       " ('忧患意识', 1),\n",
       " ('者', 16),\n",
       " ('深重', 3),\n",
       " ('产业结构', 2),\n",
       " ('旅游', 2),\n",
       " ('捍卫', 3),\n",
       " ('使命感', 1),\n",
       " ('顶层', 1),\n",
       " ('棚户区', 1),\n",
       " ('土壤', 3),\n",
       " ('深海', 1),\n",
       " ('党风廉政', 1),\n",
       " ('宪章', 1),\n",
       " ('精神面貌', 1),\n",
       " ('危房', 1),\n",
       " ('判断力', 2),\n",
       " ('于', 26),\n",
       " ('飞机制造', 1),\n",
       " ('能进能出', 1),\n",
       " ('转型', 3),\n",
       " ('更大', 5),\n",
       " ('以', 88),\n",
       " ('致远', 1),\n",
       " ('经济效益', 1),\n",
       " ('性', 112),\n",
       " ('长期', 21),\n",
       " ('决策程序', 1),\n",
       " ('第十九届', 1),\n",
       " ('不敢', 2),\n",
       " ('各国', 15),\n",
       " ('发达国家', 2),\n",
       " ('地向', 1),\n",
       " ('养育', 1),\n",
       " ('展览馆', 1),\n",
       " ('这是', 2),\n",
       " ('医院', 2),\n",
       " ('共同体', 8),\n",
       " ('视野', 1),\n",
       " ('一批', 2),\n",
       " ('尊严', 2),\n",
       " ('举世瞩目', 2),\n",
       " ('习近平', 1),\n",
       " ('规划', 6),\n",
       " ('十一', 3),\n",
       " ('老路', 3),\n",
       " ('十五', 2),\n",
       " ('五项原则', 1),\n",
       " ('永久', 1),\n",
       " ('严格执法', 1),\n",
       " ('眼光', 1),\n",
       " ('九', 11),\n",
       " ('遏控', 1),\n",
       " ('是非曲直', 1),\n",
       " ('商业', 1),\n",
       " ('松劲', 1),\n",
       " ('非法收入', 1),\n",
       " ('选优', 1),\n",
       " ('政体', 1),\n",
       " ('消费', 3),\n",
       " ('做好', 4),\n",
       " ('自我批评', 1),\n",
       " ('道', 37),\n",
       " ('调控', 1),\n",
       " ('找到', 1),\n",
       " ('立魂', 1),\n",
       " ('党和人民', 5),\n",
       " ('愿同', 2),\n",
       " ('各司其职', 1),\n",
       " ('硬骨头', 2),\n",
       " ('人民性', 1),\n",
       " ('学前教育', 1),\n",
       " ('港乱', 1),\n",
       " ('思想道德', 1),\n",
       " ('后继有人', 1),\n",
       " ('潮流', 2),\n",
       " ('祖国', 8),\n",
       " ('女', 8),\n",
       " ('手中', 2),\n",
       " ('从', 28),\n",
       " ('文明执法', 1),\n",
       " ('万亿元', 3),\n",
       " ('博弈', 1),\n",
       " ('利益', 18),\n",
       " ('开展', 19),\n",
       " ('有效', 11),\n",
       " ('生命力', 2),\n",
       " ('愿望', 2),\n",
       " ('消除', 4),\n",
       " ('美丽', 5),\n",
       " ('救灾', 1),\n",
       " ('廉洁关', 1),\n",
       " ('持久', 3),\n",
       " ('各', 73),\n",
       " ('奋勇前进', 1),\n",
       " ('优势产业', 1),\n",
       " ('推进', 110),\n",
       " ('二十一', 1),\n",
       " ('道德观', 1),\n",
       " ('不负', 3),\n",
       " ('爱国者', 3),\n",
       " ('个人信息', 1),\n",
       " ('预算', 1),\n",
       " ('符合', 2),\n",
       " ('新风', 1),\n",
       " ('经济圈', 1),\n",
       " ('打仗', 1),\n",
       " ('照搬', 1),\n",
       " ('上', 51),\n",
       " ('没有', 10),\n",
       " ('惊涛骇浪', 1),\n",
       " ('政府职能', 1),\n",
       " ('林田湖', 2),\n",
       " ('相亲', 1),\n",
       " ('贪腐', 2),\n",
       " ('迎来', 1),\n",
       " ('金山', 2),\n",
       " ('现实意义', 1),\n",
       " ('理政', 4),\n",
       " ('保证', 6),\n",
       " ('物', 34),\n",
       " ('新貌', 1),\n",
       " ('根本性', 1),\n",
       " ('所在', 4),\n",
       " ('衔接', 2),\n",
       " ('形成', 22),\n",
       " ('基本原理', 2),\n",
       " ('总和', 1),\n",
       " ('动摇', 10),\n",
       " ('法人', 1),\n",
       " ('创新型', 2),\n",
       " ('勇毅', 1),\n",
       " ('多种', 2),\n",
       " ('创业', 1),\n",
       " ('共', 124),\n",
       " ('精心', 1),\n",
       " ('探月', 1),\n",
       " ('政商', 2),\n",
       " ('原创', 2),\n",
       " ('党永葆', 1),\n",
       " ('同', 108),\n",
       " ('共同奋斗', 2),\n",
       " ('设计', 1),\n",
       " ('发展壮大', 6),\n",
       " ('军事战略', 3),\n",
       " ('决不', 3),\n",
       " ('领先', 2),\n",
       " ('德才兼备', 2),\n",
       " ('信息化', 4),\n",
       " ('霸权主义', 2),\n",
       " ('风雨', 2),\n",
       " ('办好', 1),\n",
       " ('建设者', 1),\n",
       " ('党的领导', 11),\n",
       " ('国资', 1),\n",
       " ('起点', 1),\n",
       " ('衷心', 1),\n",
       " ('总额', 1),\n",
       " ('虚化', 1),\n",
       " ('正当竞争', 1),\n",
       " ('崇尚', 2),\n",
       " ('精神力量', 2),\n",
       " ('整改', 1),\n",
       " ('中国式', 11),\n",
       " ('教科书', 1),\n",
       " ('条件', 7),\n",
       " ('民营', 4),\n",
       " ('贸易', 16),\n",
       " ('以党', 5),\n",
       " ('教育引导', 2),\n",
       " ('政治立场', 1),\n",
       " ('食物', 2),\n",
       " ('四百多万', 1),\n",
       " ('高度', 7),\n",
       " ('生活', 20),\n",
       " ('健身活动', 1),\n",
       " ('价值', 12),\n",
       " ('意志品质', 1),\n",
       " ('引领', 12),\n",
       " ('中华民族', 26),\n",
       " ('战斗性', 1),\n",
       " ('一成不变', 1),\n",
       " ('香港特别行政区', 2),\n",
       " ('七十八', 1),\n",
       " ('旅彰文', 1),\n",
       " ('公平', 13),\n",
       " ('中叶', 2),\n",
       " ('长远', 4),\n",
       " ('中共中央', 1),\n",
       " ('社会制度', 1),\n",
       " ('凝心', 1),\n",
       " ('群众体育', 1),\n",
       " ('主体', 12),\n",
       " ('法学', 1),\n",
       " ('以严', 1),\n",
       " ('自我', 18),\n",
       " ('滋生', 1),\n",
       " ('团队', 1),\n",
       " ('年均', 1),\n",
       " ('排他性', 1),\n",
       " ('共同利益', 1),\n",
       " ('身体健康', 1),\n",
       " ('断链', 1),\n",
       " ('必须', 38),\n",
       " ('结论', 1),\n",
       " ('低收入者', 1),\n",
       " ('查处', 3),\n",
       " ('面向未来', 1),\n",
       " ('犀牛', 1),\n",
       " ('阅读', 1),\n",
       " ('钉钉子', 1),\n",
       " ('导向', 8),\n",
       " ('伟大事业', 2),\n",
       " ('志气', 1),\n",
       " ('重要', 17),\n",
       " ('规模经营', 1),\n",
       " ('十', 52),\n",
       " ('赓续', 1),\n",
       " ('出发点', 1),\n",
       " ('难题', 3),\n",
       " ('党内', 13),\n",
       " ('开局', 2),\n",
       " ('加大', 9),\n",
       " ('港', 32),\n",
       " ('观念', 4),\n",
       " ('合法', 5),\n",
       " ('资本主义', 1),\n",
       " ('埋头苦干', 1),\n",
       " ('独有', 1),\n",
       " ('成为', 11),\n",
       " ('充满', 3),\n",
       " ('报国', 1),\n",
       " ('航运', 1),\n",
       " ('坚定', 39),\n",
       " ('坚定信念', 1),\n",
       " ('鬼', 1),\n",
       " ('形势', 6),\n",
       " ('中央委员会', 1),\n",
       " ('不怕', 2),\n",
       " ('局面', 4),\n",
       " ('会', 217),\n",
       " ('立国', 1),\n",
       " ('终身', 2),\n",
       " ('可靠性', 1),\n",
       " ('除恶', 2),\n",
       " ('根本好转', 1),\n",
       " ('优势', 12),\n",
       " ('大刀阔斧', 1),\n",
       " ('台湾同胞', 5),\n",
       " ('关键时期', 1),\n",
       " ('深水', 1),\n",
       " ('光荣传统', 1),\n",
       " ('认识', 7),\n",
       " ('多发性', 1),\n",
       " ('遏制', 6),\n",
       " ('社会舆论', 1),\n",
       " ('亲诚惠容', 1),\n",
       " ('以下', 1),\n",
       " ('综合治理', 1),\n",
       " ('蓝', 2),\n",
       " ('劳动报酬', 2),\n",
       " ('基层组织', 1),\n",
       " ('国情', 3),\n",
       " ('力度', 7),\n",
       " ('梦想', 4),\n",
       " ('暴力', 1),\n",
       " ('生活品质', 1),\n",
       " ('切身利益', 1),\n",
       " ('初心', 4),\n",
       " ('谋求', 1),\n",
       " ('海纳百川', 1),\n",
       " ('独', 10),\n",
       " ('基于', 1),\n",
       " ('长三角', 1),\n",
       " ('使用', 3),\n",
       " ('忠诚', 1),\n",
       " ('军事训练', 2),\n",
       " ('隐性', 1),\n",
       " ('啃', 2),\n",
       " ('效益', 4),\n",
       " ('绿', 18),\n",
       " ('集聚', 3),\n",
       " ('世界', 56),\n",
       " ('频发', 1),\n",
       " ('产业化', 1),\n",
       " ('更', 87),\n",
       " ('共产党', 30),\n",
       " ('苍白无力', 1),\n",
       " ('遇到', 1),\n",
       " ('障碍', 1),\n",
       " ('既有', 1),\n",
       " ('领先地位', 1),\n",
       " ('高举', 3),\n",
       " ('自愿', 1),\n",
       " ('大团结', 3),\n",
       " ('和平', 22),\n",
       " ('媒体', 1),\n",
       " ('群体', 6),\n",
       " ('有偿转让', 1),\n",
       " ('安全网', 1),\n",
       " ('信心百倍', 1),\n",
       " ('定位', 3),\n",
       " ('区域', 15),\n",
       " ('党的路线', 1),\n",
       " ('紧密团结', 1),\n",
       " ('方针政策', 1),\n",
       " ('机械化', 1),\n",
       " ('排放', 4),\n",
       " ('奋发有为', 1),\n",
       " ('严格', 4),\n",
       " ('净土', 1),\n",
       " ('家庭', 2),\n",
       " ('现实', 3),\n",
       " ('顽强', 1),\n",
       " ('形式', 9),\n",
       " ('贯通', 4),\n",
       " ('气候变化', 2),\n",
       " ('做', 18),\n",
       " ('召', 8),\n",
       " ('科学认识', 1),\n",
       " ('重大成果', 1),\n",
       " ('干', 59),\n",
       " ('反分裂', 1),\n",
       " ('实施', 33),\n",
       " ('不断加强', 1),\n",
       " ('紧紧抓住', 1),\n",
       " ('后勤', 1),\n",
       " ('如期', 2),\n",
       " ('骨气', 1),\n",
       " ('来', 48),\n",
       " ('求贤若渴', 1),\n",
       " ('危机', 1),\n",
       " ('差距', 2),\n",
       " ('明确', 5),\n",
       " ('精神文明', 2),\n",
       " ('血脉', 2),\n",
       " ('主要矛盾', 3),\n",
       " ('命运', 7),\n",
       " ('知信行', 1),\n",
       " ('引才', 1),\n",
       " ('时', 88),\n",
       " ('破解', 2),\n",
       " ('水', 42),\n",
       " ('学校', 3),\n",
       " ('稳步', 1),\n",
       " ('国防', 15),\n",
       " ('先进', 6),\n",
       " ('贯穿', 3),\n",
       " ('贫富', 1),\n",
       " ('宣传教育', 3),\n",
       " ('全面实施', 1),\n",
       " ('行列', 1),\n",
       " ('基本国策', 2),\n",
       " ('公司', 1),\n",
       " ('武器', 4),\n",
       " ('社会变革', 1),\n",
       " ('监督制约', 1),\n",
       " ('只有', 4),\n",
       " ('不断', 29),\n",
       " ('管', 39),\n",
       " ('反', 40),\n",
       " ('方略', 4),\n",
       " ('宽广', 1),\n",
       " ('前所未有', 3),\n",
       " ('健康', 15),\n",
       " ('必由之路', 5),\n",
       " ('不是', 4),\n",
       " ('人口', 8),\n",
       " ('初级阶段', 1),\n",
       " ('要务', 1),\n",
       " ('史册', 1),\n",
       " ('两种', 1),\n",
       " ('信仰者', 1),\n",
       " ('载人', 1),\n",
       " ('丰富', 6),\n",
       " ('改旗易帜', 1),\n",
       " ('缩减', 1),\n",
       " ('政治性', 1),\n",
       " ('改革开放', 11),\n",
       " ('医疗卫生', 2),\n",
       " ('劳', 17),\n",
       " ('为国', 3),\n",
       " ('新思路', 1),\n",
       " ('卫生', 6),\n",
       " ('科普', 1),\n",
       " ('保持', 15),\n",
       " ('；', 36),\n",
       " ('宽阔', 1),\n",
       " ('核心', 19),\n",
       " ('出发', 4),\n",
       " ('方', 65),\n",
       " ('全域', 1),\n",
       " ('城市更新', 1),\n",
       " ('零', 3),\n",
       " ('良好条件', 1),\n",
       " ('深受', 1),\n",
       " ('正', 44),\n",
       " ('人心所向', 1),\n",
       " ('精华', 1),\n",
       " ('有机', 3),\n",
       " ('各级党委', 1),\n",
       " ('肝胆相照', 1),\n",
       " ('见贤思齐', 1),\n",
       " ('民主党派', 3),\n",
       " ('幸福感', 1),\n",
       " ('一把手', 1),\n",
       " ('巨大成就', 1),\n",
       " ('素养', 2),\n",
       " ('持续性', 1),\n",
       " ('打开', 1),\n",
       " ('吸引', 2),\n",
       " ('会议', 1),\n",
       " ('复杂性', 1),\n",
       " ('职普', 1),\n",
       " ('违反', 1),\n",
       " ('归正到', 1),\n",
       " ('次要矛盾', 1),\n",
       " ('飞跃', 2),\n",
       " ('交通运输', 1),\n",
       " ('求实效', 1),\n",
       " ('事业', 32),\n",
       " ('要', 84),\n",
       " ('超过', 1),\n",
       " ('预防为主', 2),\n",
       " ('反中乱', 1),\n",
       " ('乏力', 2),\n",
       " ('台湾', 13),\n",
       " ('经验', 2),\n",
       " ('同呼吸', 1),\n",
       " ('进城', 4),\n",
       " ('卫星', 1),\n",
       " ('不断完善', 1),\n",
       " ('给', 7),\n",
       " ('汇聚', 2),\n",
       " ('逆', 2),\n",
       " ('比重', 7),\n",
       " ('全党同志', 1),\n",
       " ('群众观点', 1),\n",
       " ('厚植', 1),\n",
       " ('学生', 1),\n",
       " ...]"
      ]
     },
     "execution_count": 28,
     "metadata": {},
     "output_type": "execute_result"
    }
   ],
   "source": [
    "words"
   ]
  },
  {
   "cell_type": "markdown",
   "metadata": {},
   "source": [
    "##### (2) 删除长度为1的数据"
   ]
  },
  {
   "cell_type": "code",
   "execution_count": 29,
   "metadata": {
    "scrolled": true,
    "tags": []
   },
   "outputs": [
    {
     "data": {
      "text/plain": [
       "[('发展', 239),\n",
       " ('社会', 195),\n",
       " ('中国', 180),\n",
       " ('人民', 177),\n",
       " ('主义', 173),\n",
       " ('坚持', 173),\n",
       " ('建设', 167),\n",
       " ('国家', 138),\n",
       " ('体系', 119),\n",
       " ('社会主义', 116),\n",
       " ('推进', 110),\n",
       " ('全面', 109),\n",
       " ('现代', 99),\n",
       " ('制度', 94),\n",
       " ('加强', 94),\n",
       " ('安全', 91),\n",
       " ('我们', 87),\n",
       " ('现代化', 86),\n",
       " ('完善', 77),\n",
       " ('政治', 64),\n",
       " ('时代', 62),\n",
       " ('推动', 61),\n",
       " ('战略', 61),\n",
       " ('经济', 60),\n",
       " ('文化', 58),\n",
       " ('问题', 57),\n",
       " ('世界', 56),\n",
       " ('领导', 56),\n",
       " ('实现', 55),\n",
       " ('创新', 55),\n",
       " ('特色', 53),\n",
       " ('健全', 52),\n",
       " ('改革', 51),\n",
       " ('加快', 51),\n",
       " ('治理', 50),\n",
       " ('教育', 50),\n",
       " ('法治', 50),\n",
       " ('工作', 50),\n",
       " ('民主', 49),\n",
       " ('历史', 48),\n",
       " ('保障', 48),\n",
       " ('民族', 47),\n",
       " ('能力', 47),\n",
       " ('中华', 47),\n",
       " ('基本', 47),\n",
       " ('重大', 46),\n",
       " ('国际', 45),\n",
       " ('科技', 44),\n",
       " ('精神', 42),\n",
       " ('统一', 41),\n",
       " ('提高', 41),\n",
       " ('深化', 40),\n",
       " ('促进', 40),\n",
       " ('伟大', 40),\n",
       " ('思想', 40),\n",
       " ('坚定', 39),\n",
       " ('共同', 39),\n",
       " ('必须', 38),\n",
       " ('机制', 38),\n",
       " ('基础', 37),\n",
       " ('干部', 37),\n",
       " ('增强', 37),\n",
       " ('人才', 36),\n",
       " ('强国', 36),\n",
       " ('维护', 34),\n",
       " ('保护', 34),\n",
       " ('实施', 33),\n",
       " ('更加', 33),\n",
       " ('依法', 32),\n",
       " ('事业', 32),\n",
       " ('力量', 32),\n",
       " ('群众', 32),\n",
       " ('我国', 30),\n",
       " ('生态', 30),\n",
       " ('共产党', 30),\n",
       " ('理论', 30),\n",
       " ('深入', 30),\n",
       " ('文明', 30),\n",
       " ('不断', 29),\n",
       " ('构建', 29),\n",
       " ('马克思主义', 29),\n",
       " ('开放', 29),\n",
       " ('中国共产党', 29),\n",
       " ('奋斗', 28),\n",
       " ('服务', 27),\n",
       " ('团结', 27),\n",
       " ('体制', 27),\n",
       " ('水平', 27),\n",
       " ('组织', 27),\n",
       " ('实践', 26),\n",
       " ('领域', 26),\n",
       " ('环境', 26),\n",
       " ('全球', 26),\n",
       " ('中华民族', 26),\n",
       " ('落实', 26),\n",
       " ('统筹', 26),\n",
       " ('积极', 25),\n",
       " ('基层', 25),\n",
       " ('合作', 25),\n",
       " ('政策', 25),\n",
       " ('中央', 24),\n",
       " ('关系', 24),\n",
       " ('军队', 24),\n",
       " ('全党', 24),\n",
       " ('根本', 24),\n",
       " ('资源', 23),\n",
       " ('科学', 23),\n",
       " ('人类', 23),\n",
       " ('优化', 23),\n",
       " ('产业', 23),\n",
       " ('复兴', 22),\n",
       " ('发挥', 22),\n",
       " ('支持', 22),\n",
       " ('形成', 22),\n",
       " ('和平', 22),\n",
       " ('解决', 22),\n",
       " ('行政', 22),\n",
       " ('提升', 22),\n",
       " ('贯彻', 22),\n",
       " ('斗争', 22),\n",
       " ('长期', 21),\n",
       " ('质量', 21),\n",
       " ('军事', 21),\n",
       " ('坚决', 21),\n",
       " ('协商', 21),\n",
       " ('稳定', 20),\n",
       " ('协调', 20),\n",
       " ('治国', 20),\n",
       " ('生活', 20),\n",
       " ('作用', 20),\n",
       " ('管理', 20),\n",
       " ('企业', 20),\n",
       " ('监督', 19),\n",
       " ('巩固', 19),\n",
       " ('开展', 19),\n",
       " ('核心', 19),\n",
       " ('取得', 19),\n",
       " ('就业', 19),\n",
       " ('格局', 19),\n",
       " ('利益', 18),\n",
       " ('自我', 18),\n",
       " ('全国', 18),\n",
       " ('系统', 18),\n",
       " ('强化', 18),\n",
       " ('市场', 18),\n",
       " ('始终', 18),\n",
       " ('自然', 18),\n",
       " ('重要', 17),\n",
       " ('腐败', 17),\n",
       " ('创造', 17),\n",
       " ('特别', 17),\n",
       " ('收入', 17),\n",
       " ('风险', 16),\n",
       " ('贸易', 16),\n",
       " ('公共', 16),\n",
       " ('城乡', 16),\n",
       " ('党中央', 16),\n",
       " ('着力', 16),\n",
       " ('高质量', 16),\n",
       " ('结构', 16),\n",
       " ('香港', 16),\n",
       " ('各国', 15),\n",
       " ('区域', 15),\n",
       " ('国防', 15),\n",
       " ('健康', 15),\n",
       " ('保持', 15),\n",
       " ('一个', 15),\n",
       " ('执政', 15),\n",
       " ('反对', 15),\n",
       " ('布局', 15),\n",
       " ('任务', 15),\n",
       " ('新型', 15),\n",
       " ('强军', 15),\n",
       " ('确保', 15),\n",
       " ('工程', 15),\n",
       " ('党员', 15),\n",
       " ('重点', 15),\n",
       " ('形态', 15),\n",
       " ('道路', 15),\n",
       " ('民生', 15),\n",
       " ('规范', 15),\n",
       " ('意识', 15),\n",
       " ('党和国家', 15),\n",
       " ('能源', 15),\n",
       " ('全体', 15),\n",
       " ('原则', 14),\n",
       " ('国内', 14),\n",
       " ('结合', 14),\n",
       " ('培养', 14),\n",
       " ('地区', 14),\n",
       " ('更好', 14),\n",
       " ('广泛', 14),\n",
       " ('自信', 14),\n",
       " ('成果', 14),\n",
       " ('持续', 14),\n",
       " ('融合', 14),\n",
       " ('建成', 14),\n",
       " ('集中', 14),\n",
       " ('矛盾', 14),\n",
       " ('方式', 13),\n",
       " ('指导', 13),\n",
       " ('过程', 13),\n",
       " ('公平', 13),\n",
       " ('党内', 13),\n",
       " ('台湾', 13),\n",
       " ('保险', 13),\n",
       " ('青年', 13),\n",
       " ('弘扬', 13),\n",
       " ('目标', 13),\n",
       " ('百年', 13),\n",
       " ('分配', 13),\n",
       " ('绿色', 13),\n",
       " ('司法', 13),\n",
       " ('爱国', 13),\n",
       " ('影响', 13),\n",
       " ('权益', 13),\n",
       " ('方面', 13),\n",
       " ('引导', 13),\n",
       " ('要求', 13),\n",
       " ('生产', 12),\n",
       " ('地位', 12),\n",
       " ('存在', 12),\n",
       " ('澳门', 12),\n",
       " ('价值', 12),\n",
       " ('引领', 12),\n",
       " ('主体', 12),\n",
       " ('优势', 12),\n",
       " ('革命', 12),\n",
       " ('突出', 12),\n",
       " ('传统', 12),\n",
       " ('一切', 12),\n",
       " ('治党', 12),\n",
       " ('主动', 12),\n",
       " ('尊重', 12),\n",
       " ('两岸', 12),\n",
       " ('标准', 12),\n",
       " ('提出', 11),\n",
       " ('具有', 11),\n",
       " ('把握', 11),\n",
       " ('有效', 11),\n",
       " ('党的领导', 11),\n",
       " ('中国式', 11),\n",
       " ('成为', 11),\n",
       " ('改革开放', 11),\n",
       " ('优秀', 11),\n",
       " ('全过程', 11),\n",
       " ('医疗', 11),\n",
       " ('劳动', 11),\n",
       " ('党的建设', 11),\n",
       " ('面临', 11),\n",
       " ('强大', 11),\n",
       " ('同胞', 11),\n",
       " ('不少', 11),\n",
       " ('参与', 11),\n",
       " ('挑战', 11),\n",
       " ('城市', 11),\n",
       " ('扩大', 11),\n",
       " ('代表', 11),\n",
       " ('一体', 11),\n",
       " ('各方', 11),\n",
       " ('网络', 10),\n",
       " ('各族人民', 10),\n",
       " ('增长', 10),\n",
       " ('规模', 10),\n",
       " ('大国', 10),\n",
       " ('机关', 10),\n",
       " ('没有', 10),\n",
       " ('动摇', 10),\n",
       " ('最大', 10),\n",
       " ('意识形态', 10),\n",
       " ('历史性', 10),\n",
       " ('学习', 10),\n",
       " ('五年', 10),\n",
       " ('责任', 10),\n",
       " ('势力', 10),\n",
       " ('人民军队', 10),\n",
       " ('金融', 10),\n",
       " ('方针', 10),\n",
       " ('一系列', 10),\n",
       " ('广大', 10),\n",
       " ('反腐', 10),\n",
       " ('全局', 10),\n",
       " ('一些', 10),\n",
       " ('正确', 10),\n",
       " ('农村', 10),\n",
       " ('宪法', 10),\n",
       " ('农业', 10),\n",
       " ('总体', 10),\n",
       " ('不能', 10),\n",
       " ('价值观', 10),\n",
       " ('优先', 9),\n",
       " ('理想', 9),\n",
       " ('十四', 9),\n",
       " ('信息', 9),\n",
       " ('理念', 9),\n",
       " ('行政区', 9),\n",
       " ('为主', 9),\n",
       " ('关键', 9),\n",
       " ('加大', 9),\n",
       " ('形式', 9),\n",
       " ('一国两制', 9),\n",
       " ('更为', 9),\n",
       " ('担当', 9),\n",
       " ('思维', 9),\n",
       " ('保障体系', 9),\n",
       " ('变革', 9),\n",
       " ('高水平', 9),\n",
       " ('活动', 9),\n",
       " ('立法', 9),\n",
       " ('中心', 9),\n",
       " ('面向', 9),\n",
       " ('技术', 9),\n",
       " ('作出', 9),\n",
       " ('明显', 9),\n",
       " ('决策', 9),\n",
       " ('依法治国', 9),\n",
       " ('全民', 9),\n",
       " ('攻坚', 9),\n",
       " ('自由', 9),\n",
       " ('方向', 9),\n",
       " ('行动', 9),\n",
       " ('面对', 9),\n",
       " ('执法', 9),\n",
       " ('充分', 9),\n",
       " ('坚定不移', 9),\n",
       " ('综合', 9),\n",
       " ('牢牢', 9),\n",
       " ('永远', 8),\n",
       " ('凝聚', 8),\n",
       " ('权威', 8),\n",
       " ('从严治党', 8),\n",
       " ('第一', 8),\n",
       " ('成就', 8),\n",
       " ('壮大', 8),\n",
       " ('自强', 8),\n",
       " ('出来', 8),\n",
       " ('权力', 8),\n",
       " ('整体', 8),\n",
       " ('共同体', 8),\n",
       " ('祖国', 8),\n",
       " ('导向', 8),\n",
       " ('人口', 8),\n",
       " ('改进', 8),\n",
       " ('信心', 8),\n",
       " ('美好', 8),\n",
       " ('拓展', 8),\n",
       " ('要素', 8),\n",
       " ('功能', 8),\n",
       " ('队伍', 8),\n",
       " ('外部', 8),\n",
       " ('大会', 8),\n",
       " ('养老', 8),\n",
       " ('深度', 8),\n",
       " ('高效', 8),\n",
       " ('显著', 8),\n",
       " ('政府', 8),\n",
       " ('才能', 8),\n",
       " ('自己', 8),\n",
       " ('使命', 8),\n",
       " ('应对', 8),\n",
       " ('低碳', 8),\n",
       " ('胜利', 8),\n",
       " ('正义', 8),\n",
       " ('污染', 8),\n",
       " ('变化', 8),\n",
       " ('交流', 8),\n",
       " ('就是', 8),\n",
       " ('设施', 8),\n",
       " ('共同富裕', 8),\n",
       " ('敢于', 8),\n",
       " ('反腐败', 8),\n",
       " ('努力', 8),\n",
       " ('对外', 8),\n",
       " ('起来', 8),\n",
       " ('常态', 8),\n",
       " ('基础设施', 7),\n",
       " ('协同', 7),\n",
       " ('干涉', 7),\n",
       " ('公正', 7),\n",
       " ('数字', 7),\n",
       " ('信念', 7),\n",
       " ('联合', 7),\n",
       " ('制度化', 7),\n",
       " ('各种', 7),\n",
       " ('本质', 7),\n",
       " ('许多', 7),\n",
       " ('防范', 7),\n",
       " ('之路', 7),\n",
       " ('十年', 7),\n",
       " ('条件', 7),\n",
       " ('高度', 7),\n",
       " ('认识', 7),\n",
       " ('力度', 7),\n",
       " ('命运', 7),\n",
       " ('比重', 7),\n",
       " ('幸福', 7),\n",
       " ('联系', 7),\n",
       " ('自主', 7),\n",
       " ('循环', 7),\n",
       " ('素质', 7),\n",
       " ('调整', 7),\n",
       " ('主要', 7),\n",
       " ('团结奋斗', 7),\n",
       " ('事务', 7),\n",
       " ('相结合', 7),\n",
       " ('规律', 7),\n",
       " ('积极参与', 7),\n",
       " ('活力', 7),\n",
       " ('社会保障', 7),\n",
       " ('作为', 7),\n",
       " ('政党', 7),\n",
       " ('考验', 7),\n",
       " ('法律', 7),\n",
       " ('十八', 7),\n",
       " ('周年', 7),\n",
       " ('物质', 7),\n",
       " ('影响力', 7),\n",
       " ('生命', 7),\n",
       " ('提供', 7),\n",
       " ('机构', 7),\n",
       " ('覆盖', 7),\n",
       " ('脱贫', 7),\n",
       " ('深刻', 7),\n",
       " ('疫情', 7),\n",
       " ('集中统一', 7),\n",
       " ('人大', 7),\n",
       " ('传播', 7),\n",
       " ('党组', 7),\n",
       " ('改善', 7),\n",
       " ('同志', 7),\n",
       " ('生态环境', 7),\n",
       " ('自身', 7),\n",
       " ('真理', 7),\n",
       " ('党建', 7),\n",
       " ('战争', 7),\n",
       " ('培育', 7),\n",
       " ('公共服务', 7),\n",
       " ('中国化', 7),\n",
       " ('艰巨', 7),\n",
       " ('有所', 7),\n",
       " ('支撑', 7),\n",
       " ('外交', 7),\n",
       " ('分裂', 7),\n",
       " ('战略性', 7),\n",
       " ('得到', 7),\n",
       " ('公平正义', 7),\n",
       " ('一起', 7),\n",
       " ('发生', 7),\n",
       " ('增加', 7),\n",
       " ('效能', 7),\n",
       " ('进入', 7),\n",
       " ('繁荣', 7),\n",
       " ('不变', 6),\n",
       " ('鼓励', 6),\n",
       " ('决定', 6),\n",
       " ('出新', 6),\n",
       " ('合理', 6),\n",
       " ('防控', 6),\n",
       " ('奋斗目标', 6),\n",
       " ('同时', 6),\n",
       " ('服务体系', 6),\n",
       " ('制定', 6),\n",
       " ('进程', 6),\n",
       " ('城镇', 6),\n",
       " ('自立', 6),\n",
       " ('国有', 6),\n",
       " ('规划', 6),\n",
       " ('保证', 6),\n",
       " ('发展壮大', 6),\n",
       " ('形势', 6),\n",
       " ('遏制', 6),\n",
       " ('群体', 6),\n",
       " ('先进', 6),\n",
       " ('丰富', 6),\n",
       " ('卫生', 6),\n",
       " ('坚强', 6),\n",
       " ('传承', 6),\n",
       " ('渠道', 6),\n",
       " ('主权', 6),\n",
       " ('乡村', 6),\n",
       " ('前进', 6),\n",
       " ('武装', 6),\n",
       " ('研究', 6),\n",
       " ('一体化', 6),\n",
       " ('自觉', 6),\n",
       " ('体制改革', 6),\n",
       " ('践行', 6),\n",
       " ('战斗', 6),\n",
       " ('建立', 6),\n",
       " ('党组织', 6),\n",
       " ('居民', 6),\n",
       " ('投资', 6),\n",
       " ('扎实', 6),\n",
       " ('自由贸易', 6),\n",
       " ('这个', 6),\n",
       " ('动力', 6),\n",
       " ('生物', 6),\n",
       " ('完整', 6),\n",
       " ('程序', 6),\n",
       " ('转化', 6),\n",
       " ('牢记', 6),\n",
       " ('监管', 6),\n",
       " ('化解', 6),\n",
       " ('相互', 6),\n",
       " ('时代化', 6),\n",
       " ('良好', 6),\n",
       " ('运用', 6),\n",
       " ('共享', 6),\n",
       " ('特权', 6),\n",
       " ('进步', 6),\n",
       " ('各级', 6),\n",
       " ('深层次', 6),\n",
       " ('致力', 6),\n",
       " ('内政', 6),\n",
       " ('共建', 6),\n",
       " ('放在', 6),\n",
       " ('大力', 6),\n",
       " ('突破', 6),\n",
       " ('多层', 6),\n",
       " ('各类', 6),\n",
       " ('利用', 5),\n",
       " ('粮食', 5),\n",
       " ('依靠', 5),\n",
       " ('体育', 5),\n",
       " ('共赢', 5),\n",
       " ('治权', 5),\n",
       " ('探索', 5),\n",
       " ('以来', 5),\n",
       " ('贡献', 5),\n",
       " ('有序', 5),\n",
       " ('打赢', 5),\n",
       " ('人心', 5),\n",
       " ('营造', 5),\n",
       " ('配置', 5),\n",
       " ('整治', 5),\n",
       " ('兴国', 5),\n",
       " ('更大', 5),\n",
       " ('党和人民', 5),\n",
       " ('美丽', 5),\n",
       " ('以党', 5),\n",
       " ('合法', 5),\n",
       " ('台湾同胞', 5),\n",
       " ('明确', 5),\n",
       " ('必由之路', 5),\n",
       " ('新兴', 5),\n",
       " ('内生', 5),\n",
       " ('自治', 5),\n",
       " ('智能', 5),\n",
       " ('进一步', 5),\n",
       " ('未有', 5),\n",
       " ('国家主权', 5),\n",
       " ('确定', 5),\n",
       " ('化发展', 5),\n",
       " ('当家作主', 5),\n",
       " ('海洋', 5),\n",
       " ('掌握', 5),\n",
       " ('攻坚战', 5),\n",
       " ('人与自然', 5),\n",
       " ('装备', 5),\n",
       " ('振兴', 5),\n",
       " ('天下', 5),\n",
       " ('农民', 5),\n",
       " ('严重', 5),\n",
       " ('高标准', 5),\n",
       " ('完全', 5),\n",
       " ('和谐', 5),\n",
       " ('自立自强', 5),\n",
       " ('全军', 5),\n",
       " ('公有制', 5),\n",
       " ('路上', 5),\n",
       " ('宗旨', 5),\n",
       " ('系统性', 5),\n",
       " ('发展中国家', 5),\n",
       " ('建军', 5),\n",
       " ('准确', 5),\n",
       " ('发力', 5),\n",
       " ('制造', 5),\n",
       " ('工业', 5),\n",
       " ('致力于', 5),\n",
       " ('人均', 5),\n",
       " ('实力', 5),\n",
       " ('市场经济', 5),\n",
       " ('人士', 5),\n",
       " ('全方位', 5),\n",
       " ('塑造', 5),\n",
       " ('中华文化', 5),\n",
       " ('节约', 5),\n",
       " ('训练', 5),\n",
       " ('学科', 5),\n",
       " ('继续', 5),\n",
       " ('实际', 5),\n",
       " ('伟大工程', 5),\n",
       " ('代表大会', 5),\n",
       " ('全局性', 5),\n",
       " ('贫困', 5),\n",
       " ('供给', 5),\n",
       " ('旗帜', 5),\n",
       " ('立场', 5),\n",
       " ('本领', 5),\n",
       " ('多层次', 5),\n",
       " ('法规', 5),\n",
       " ('得出', 5),\n",
       " ('平等', 5),\n",
       " ('一流', 5),\n",
       " ('城镇化', 5),\n",
       " ('坚实', 5),\n",
       " ('统一战线', 5),\n",
       " ('二个', 5),\n",
       " ('回答', 5),\n",
       " ('树立', 5),\n",
       " ('特点', 5),\n",
       " ('阶段', 5),\n",
       " ('通过', 5),\n",
       " ('育人', 5),\n",
       " ('主导', 5),\n",
       " ('治港', 5),\n",
       " ('信仰', 4),\n",
       " ('成立', 4),\n",
       " ('产生', 4),\n",
       " ('大事', 4),\n",
       " ('结构性', 4),\n",
       " ('之问', 4),\n",
       " ('巨大', 4),\n",
       " ('用党', 4),\n",
       " ('建党', 4),\n",
       " ('平台', 4),\n",
       " ('什么', 4),\n",
       " ('人权', 4),\n",
       " ('深入开展', 4),\n",
       " ('指挥', 4),\n",
       " ('全党全国', 4),\n",
       " ('社区', 4),\n",
       " ('不足', 4),\n",
       " ('体现', 4),\n",
       " ('内部', 4),\n",
       " ('开创', 4),\n",
       " ('做好', 4),\n",
       " ('消除', 4),\n",
       " ('理政', 4),\n",
       " ('所在', 4),\n",
       " ('信息化', 4),\n",
       " ('民营', 4),\n",
       " ('长远', 4),\n",
       " ('观念', 4),\n",
       " ('局面', 4),\n",
       " ('梦想', 4),\n",
       " ('初心', 4),\n",
       " ('效益', 4),\n",
       " ('排放', 4),\n",
       " ('严格', 4),\n",
       " ('贯通', 4),\n",
       " ('武器', 4),\n",
       " ('只有', 4),\n",
       " ('方略', 4),\n",
       " ('不是', 4),\n",
       " ('出发', 4),\n",
       " ('进城', 4),\n",
       " ('共生', 4),\n",
       " ('安全监管', 4),\n",
       " ('住房', 4),\n",
       " ('管治', 4),\n",
       " ('国土', 4),\n",
       " ('为重', 4),\n",
       " ('各项', 4),\n",
       " ('两岸关系', 4),\n",
       " ('资本', 4),\n",
       " ('历史进程', 4),\n",
       " ('基础性', 4),\n",
       " ('危险', 4),\n",
       " ('执行', 4),\n",
       " ('中小', 4),\n",
       " ('台独', 4),\n",
       " ('达峰', 4),\n",
       " ('高素质', 4),\n",
       " ('党史', 4),\n",
       " ('围绕', 4),\n",
       " ('非公有制', 4),\n",
       " ('前途', 4),\n",
       " ('七十', 4),\n",
       " ('三五年', 4),\n",
       " ('十九', 4),\n",
       " ('赋予', 4),\n",
       " ('实行', 4),\n",
       " ('发展史', 4),\n",
       " ('万人', 4),\n",
       " ('带领', 4),\n",
       " ('光明', 4),\n",
       " ('未来', 4),\n",
       " ('供应', 4),\n",
       " ('作战', 4),\n",
       " ('路线', 4),\n",
       " ('江山', 4),\n",
       " ('首位', 4),\n",
       " ('不可', 4),\n",
       " ('严密', 4),\n",
       " ('人人', 4),\n",
       " ('独立自主', 4),\n",
       " ('造福', 4),\n",
       " ('夯实', 4),\n",
       " ('方法', 4),\n",
       " ('创造性', 4),\n",
       " ('学史', 4),\n",
       " ('环境保护', 4),\n",
       " ('运行', 4),\n",
       " ('征程', 4),\n",
       " ('对外开放', 4),\n",
       " ('大计', 4),\n",
       " ('港澳', 4),\n",
       " ('清洁', 4),\n",
       " ('赤字', 4),\n",
       " ('应急', 4),\n",
       " ('伟业', 4),\n",
       " ('意志', 4),\n",
       " ('融入', 4),\n",
       " ('拥有', 4),\n",
       " ('医药', 4),\n",
       " ('现象', 4),\n",
       " ('一新', 4),\n",
       " ('世纪', 4),\n",
       " ('多边', 4),\n",
       " ('经济社会', 4),\n",
       " ('治澳', 4),\n",
       " ('造就', 4),\n",
       " ('意义', 4),\n",
       " ('舆论', 4),\n",
       " ('均衡', 4),\n",
       " ('三个', 4),\n",
       " ('普遍', 4),\n",
       " ('程度', 4),\n",
       " ('日益', 4),\n",
       " ('增进', 4),\n",
       " ('艰苦', 4),\n",
       " ('智慧', 4),\n",
       " ('亿元', 4),\n",
       " ('理想信念', 4),\n",
       " ('宗教', 4),\n",
       " ('美好生活', 4),\n",
       " ('纠治', 4),\n",
       " ('采取', 4),\n",
       " ('部署', 4),\n",
       " ('政协', 4),\n",
       " ('总量', 4),\n",
       " ('经过', 4),\n",
       " ('本国', 4),\n",
       " ('召开', 4),\n",
       " ('医疗保险', 4),\n",
       " ('具体', 4),\n",
       " ('产业链', 4),\n",
       " ('破除', 4),\n",
       " ('公益', 4),\n",
       " ('个人', 4),\n",
       " ('进展', 4),\n",
       " ('中华文明', 4),\n",
       " ('产权', 4),\n",
       " ('其中', 3),\n",
       " ('必然', 3),\n",
       " ('新人', 3),\n",
       " ('局势', 3),\n",
       " ('向前', 3),\n",
       " ('多元', 3),\n",
       " ('大自然', 3),\n",
       " ('碳达峰', 3),\n",
       " ('全力', 3),\n",
       " ('人员', 3),\n",
       " ('主动权', 3),\n",
       " ('鲜明', 3),\n",
       " ('超越', 3),\n",
       " ('科教', 3),\n",
       " ('党同', 3),\n",
       " ('第二个', 3),\n",
       " ('推进改革', 3),\n",
       " ('时期', 3),\n",
       " ('以上', 3),\n",
       " ('可能', 3),\n",
       " ('事情', 3),\n",
       " ('环节', 3),\n",
       " ('关爱', 3),\n",
       " ('实战', 3),\n",
       " ('完成', 3),\n",
       " ('行径', 3),\n",
       " ('仍然', 3),\n",
       " ('伙伴', 3),\n",
       " ('这一', 3),\n",
       " ('四个', 3),\n",
       " ('破坏', 3),\n",
       " ('行业', 3),\n",
       " ('单位', 3),\n",
       " ('全面落实', 3),\n",
       " ('底线', 3),\n",
       " ('纪律', 3),\n",
       " ('整体性', 3),\n",
       " ('为了', 3),\n",
       " ('党执政', 3),\n",
       " ('打造', 3),\n",
       " ('时刻', 3),\n",
       " ('成功', 3),\n",
       " ('国内外', 3),\n",
       " ('复杂', 3),\n",
       " ('深远', 3),\n",
       " ('深重', 3),\n",
       " ('捍卫', 3),\n",
       " ('土壤', 3),\n",
       " ('转型', 3),\n",
       " ('十一', 3),\n",
       " ('老路', 3),\n",
       " ('消费', 3),\n",
       " ('万亿元', 3),\n",
       " ('持久', 3),\n",
       " ('不负', 3),\n",
       " ('爱国者', 3),\n",
       " ('军事战略', 3),\n",
       " ('决不', 3),\n",
       " ('查处', 3),\n",
       " ('难题', 3),\n",
       " ('充满', 3),\n",
       " ('国情', 3),\n",
       " ('使用', 3),\n",
       " ('集聚', 3),\n",
       " ('高举', 3),\n",
       " ('大团结', 3),\n",
       " ('定位', 3),\n",
       " ('现实', 3),\n",
       " ('主要矛盾', 3),\n",
       " ('学校', 3),\n",
       " ('贯穿', 3),\n",
       " ('宣传教育', 3),\n",
       " ('前所未有', 3),\n",
       " ('为国', 3),\n",
       " ('有机', 3),\n",
       " ('民主党派', 3),\n",
       " ('至上', 3),\n",
       " ('开发', 3),\n",
       " ('一道', 3),\n",
       " ('竞争力', 3),\n",
       " ('实干', 3),\n",
       " ('优先发展', 3),\n",
       " ('事业单位', 3),\n",
       " ('机遇', 3),\n",
       " ('领导核心', 3),\n",
       " ('军事力量', 3),\n",
       " ('公共安全', 3),\n",
       " ('粮食安全', 3),\n",
       " ('程序化', 3),\n",
       " ('坚守', 3),\n",
       " ('百分之', 3),\n",
       " ('保护主义', 3),\n",
       " ('当前', 3),\n",
       " ('联动', 3),\n",
       " ('主题', 3),\n",
       " ('制约', 3),\n",
       " ('动荡', 3),\n",
       " ('需求', 3),\n",
       " ('展示', 3),\n",
       " ('可靠', 3),\n",
       " ('依托', 3),\n",
       " ('困难', 3),\n",
       " ('小康', 3),\n",
       " ('大局', 3),\n",
       " ('负责', 3),\n",
       " ('中等', 3),\n",
       " ('团体', 3),\n",
       " ('世界观', 3),\n",
       " ('检察机关', 3),\n",
       " ('和平统一', 3),\n",
       " ('特权思想', 3),\n",
       " ('形式主义', 3),\n",
       " ('防治', 3),\n",
       " ('惩治', 3),\n",
       " ('分子', 3),\n",
       " ('精准', 3),\n",
       " ('联合国', 3),\n",
       " ('发现', 3),\n",
       " ('专项', 3),\n",
       " ('激励', 3),\n",
       " ('实效', 3),\n",
       " ('集体', 3),\n",
       " ('有力', 3),\n",
       " ('守正', 3),\n",
       " ('宏观', 3),\n",
       " ('地方', 3),\n",
       " ('进行', 3),\n",
       " ('巡视', 3),\n",
       " ('党性', 3),\n",
       " ('规范化', 3),\n",
       " ('无比', 3),\n",
       " ('始终保持', 3),\n",
       " ('优质', 3),\n",
       " ('长效', 3),\n",
       " ('一定', 3),\n",
       " ('奉行', 3),\n",
       " ('战斗力', 3),\n",
       " ('预警', 3),\n",
       " ('平衡', 3),\n",
       " ('激发', 3),\n",
       " ('驱动', 3),\n",
       " ('红色', 3),\n",
       " ('绝对', 3),\n",
       " ('备战', 3),\n",
       " ('官僚主义', 3),\n",
       " ('篇章', 3),\n",
       " ('军人', 3),\n",
       " ('直接', 3),\n",
       " ('研发', 3),\n",
       " ('动能', 3),\n",
       " ('正风肃纪', 3),\n",
       " ('开辟', 3),\n",
       " ('人才队伍', 3),\n",
       " ('重大成就', 3),\n",
       " ('迈上', 3),\n",
       " ('综合国力', 3),\n",
       " ('以德', 3),\n",
       " ('打击', 3),\n",
       " ('交通', 3),\n",
       " ('治污', 3),\n",
       " ('互鉴', 3),\n",
       " ('智能化', 3),\n",
       " ('转变', 3),\n",
       " ('选拔', 3),\n",
       " ('前列', 3),\n",
       " ('之变', 3),\n",
       " ('上同', 3),\n",
       " ('观点', 3),\n",
       " ('赢得', 3),\n",
       " ('多样性', 3),\n",
       " ('公正司法', 3),\n",
       " ('全新', 3),\n",
       " ('抓住', 3),\n",
       " ('学习型', 3),\n",
       " ('西部', 3),\n",
       " ('优良', 3),\n",
       " ('持之以恒', 3),\n",
       " ('净化', 3),\n",
       " ('人类文明', 3),\n",
       " ('经营', 3),\n",
       " ('全部', 3),\n",
       " ('积累', 3),\n",
       " ('供应链', 3),\n",
       " ('不想', 3),\n",
       " ('隆重', 3),\n",
       " ('执行力', 3),\n",
       " ('预防', 3),\n",
       " ('用来', 3),\n",
       " ('局部', 3),\n",
       " ('职能', 3),\n",
       " ('毫不动摇', 3),\n",
       " ('福祉', 3),\n",
       " ('立党', 3),\n",
       " ('国际化', 3),\n",
       " ('错误', 3),\n",
       " ('职业', 3),\n",
       " ('针对', 3),\n",
       " ('市场化', 3),\n",
       " ('解决问题', 3),\n",
       " ('奋发', 3),\n",
       " ('法治化', 3),\n",
       " ('成效', 3),\n",
       " ('有利', 3),\n",
       " ('党风', 3),\n",
       " ('及其', 3),\n",
       " ('投入', 3),\n",
       " ('具备', 3),\n",
       " ('关心', 3),\n",
       " ('全党全军', 3),\n",
       " ('首先', 3),\n",
       " ('共识', 3),\n",
       " ('批评', 3),\n",
       " ('责任制', 3),\n",
       " ('不强', 3),\n",
       " ('前景', 3),\n",
       " ('途径', 3),\n",
       " ('秩序', 3),\n",
       " ('制造业', 3),\n",
       " ('国防科技', 3),\n",
       " ('生产总值', 3),\n",
       " ('出现', 3),\n",
       " ('真正', 3),\n",
       " ('功能区', 3),\n",
       " ('走向', 3),\n",
       " ('话语', 3),\n",
       " ('重视', 3),\n",
       " ('生机', 3),\n",
       " ('生态系统', 3),\n",
       " ('领土完整', 3),\n",
       " ('改造', 3),\n",
       " ('转移', 3),\n",
       " ('生育', 3),\n",
       " ('资源配置', 3),\n",
       " ('平安', 3),\n",
       " ('成长', 3),\n",
       " ('务必', 3),\n",
       " ('事物', 3),\n",
       " ('倡导', 3),\n",
       " ('严肃', 3),\n",
       " ('文化产业', 3),\n",
       " ('带头', 3),\n",
       " ('一百年', 3),\n",
       " ('财政', 3),\n",
       " ('稳居', 3),\n",
       " ('少数', 3),\n",
       " ('身边', 3),\n",
       " ...]"
      ]
     },
     "execution_count": 29,
     "metadata": {},
     "output_type": "execute_result"
    }
   ],
   "source": [
    "words.sort(key = lambda x:x[1], reverse=True)\n",
    "for i in range(len(words)-1,-1,-1):\n",
    "    if len(words[i][0])==1:\n",
    "        del words[i]\n",
    "words        "
   ]
  },
  {
   "cell_type": "code",
   "execution_count": null,
   "metadata": {
    "tags": []
   },
   "outputs": [],
   "source": [
    "words[0][0], words[0][1]"
   ]
  },
  {
   "cell_type": "code",
   "execution_count": null,
   "metadata": {
    "tags": []
   },
   "outputs": [],
   "source": [
    "print(f\"全文共有{len(txt)}字符!\")"
   ]
  },
  {
   "cell_type": "markdown",
   "metadata": {
    "tags": []
   },
   "source": [
    "##### (3) 如果找出所有出现“发展”的位置"
   ]
  },
  {
   "cell_type": "code",
   "execution_count": 30,
   "metadata": {
    "tags": []
   },
   "outputs": [
    {
     "name": "stdout",
     "output_type": "stream",
     "text": [
      "[330, 622, 756, 768, 776, 813, 1144, 1260, 1495, 1724, 1995, 2012, 2427, 2614, 2704, 2966, 3075, 3113, 3146, 3189, 3324, 3336, 3344, 3698, 4156, 4163, 4445, 4635, 5031, 5153, 5611, 6394, 6474, 6494, 6584, 6914, 6922, 7072, 7214, 7233, 7378, 7622, 7686, 7786, 7905, 8145, 9005, 9184, 9358, 9471, 9489, 9499, 9536, 9766, 10127, 10441, 10481, 10554, 10603, 10618, 10631, 10649, 10707, 10752, 10773, 10780, 10787, 10798, 10843, 10846, 11012, 11102, 11304, 11504, 11528, 11906, 11922, 12011, 12083, 12320, 12441, 12459, 12490, 12515, 12522, 12529, 12719, 12752, 12888, 12900, 12908, 12930, 12987, 13044, 13063, 13178, 13246, 13272, 13362, 13390, 13434, 13539, 13581, 13759, 13781, 13869, 13888, 13907, 13946, 14035, 14062, 14186, 14195, 14366, 14385, 14429, 14475, 14486, 14503, 14599, 14610, 14658, 14740, 14771, 14779, 14788, 14805, 14852, 14903, 14968, 15006, 15147, 15152, 15225, 15479, 15486, 15499, 15520, 15697, 15720, 15737, 15761, 15794, 15808, 15923, 16364, 16698, 16860, 16969, 17033, 17187, 17333, 17670, 17694, 17705, 17810, 17982, 18188, 18526, 19029, 19771, 19815, 19951, 19968, 20456, 20575, 20707, 20857, 21106, 21143, 21414, 21467, 22049, 22101, 22254, 22390, 22501, 22595, 22618, 22663, 22725, 22807, 22810, 22855, 22965, 22991, 23072, 23168, 23179, 23194, 23209, 23285, 23307, 24015, 24370, 24721, 24794, 25043, 25235, 25460, 25511, 25626, 25728, 25775, 26237, 26332, 26694, 26710, 26827, 26853, 27156, 27308, 27532, 27585, 27662, 27743, 27877, 27946, 27961, 28006, 28087, 28154, 28166, 28292, 28385, 28399, 28448, 28477, 28484, 28560, 28708, 28869, 29020, 30746, 31425, 32050, 32357, 32422, 32432]\n"
     ]
    }
   ],
   "source": [
    "search = words[0][0]\n",
    "start = 0\n",
    "count = 0\n",
    "str_loc = []\n",
    "\n",
    "while True:\n",
    "    index = txt.find(search, start)\n",
    "    # if search string not found, find() returns -1\n",
    "    # search is complete, break out of the while loop\n",
    "    if index == -1:\n",
    "        break\n",
    "    count +=1\n",
    "    str_loc.append(index)\n",
    "    #print( \"%s found time = %d at index %d\" % (search, count, index) )\n",
    "    # move to next possible start position\n",
    "    start = index + 1\n",
    "\n",
    "print(str_loc)"
   ]
  },
  {
   "cell_type": "code",
   "execution_count": null,
   "metadata": {
    "tags": []
   },
   "outputs": [],
   "source": [
    "#for i in str_loc:\n",
    "#    print(txt[i:i+2])"
   ]
  },
  {
   "cell_type": "markdown",
   "metadata": {},
   "source": [
    "##### (4) 可视化高频词汇位置"
   ]
  },
  {
   "cell_type": "code",
   "execution_count": 31,
   "metadata": {
    "tags": []
   },
   "outputs": [
    {
     "data": {
      "text/plain": [
       "<module 'matplotlib.pyplot' from 'C:\\\\ProgramData\\\\anaconda3\\\\Lib\\\\site-packages\\\\matplotlib\\\\pyplot.py'>"
      ]
     },
     "execution_count": 31,
     "metadata": {},
     "output_type": "execute_result"
    },
    {
     "data": {
      "image/png": "[encoded data removed]",
      "text/plain": [
       "<Figure size 640x480 with 1 Axes>"
      ]
     },
     "metadata": {},
     "output_type": "display_data"
    }
   ],
   "source": [
    "import matplotlib.pyplot as plt\n",
    "yvalue = [1]*len(str_loc)\n",
    "plt.figure()\n",
    "plt.scatter(str_loc, yvalue, marker='o',s=0.5)\n",
    "plt.xlabel(\"loc\")\n",
    "plt"
   ]
  },
  {
   "cell_type": "markdown",
   "metadata": {},
   "source": [
    "[返回目录](#mulu)"
   ]
  },
  {
   "cell_type": "markdown",
   "metadata": {
    "tags": [],
    "toc-hr-collapsed": true
   },
   "source": [
    "\n",
    "#### 2) 反转字符串中每个单词的字符顺序，同时仍保留空格和单词的初始顺序。\n",
    "- 怎么设计程序？\n",
    "- 注：单词后面的标点符号保持位置不变"
   ]
  },
  {
   "cell_type": "code",
   "execution_count": 32,
   "metadata": {},
   "outputs": [],
   "source": [
    "sentence = \"Let's play game!\""
   ]
  },
  {
   "cell_type": "code",
   "execution_count": 33,
   "metadata": {},
   "outputs": [
    {
     "data": {
      "text/plain": [
       "[\"Let's\", 'play', 'game!']"
      ]
     },
     "execution_count": 33,
     "metadata": {},
     "output_type": "execute_result"
    }
   ],
   "source": [
    "words = sentence.split(\" \")\n",
    "words"
   ]
  },
  {
   "cell_type": "code",
   "execution_count": 34,
   "metadata": {
    "tags": []
   },
   "outputs": [
    {
     "data": {
      "text/plain": [
       "\"s'teL yalp emag!\""
      ]
     },
     "execution_count": 34,
     "metadata": {},
     "output_type": "execute_result"
    }
   ],
   "source": [
    "wordsn = []\n",
    "for each in words:\n",
    "    #ic(each)\n",
    "    if each[-1] in \":;!,.\":\n",
    "        wordsn.append(each[-2::-1]+each[-1]) #game!    game->emag  +  !\n",
    "    else:\n",
    "        wordsn.append(each[::-1])\n",
    "\n",
    "newsentece = \" \".join(wordsn)\n",
    "newsentece   "
   ]
  },
  {
   "cell_type": "markdown",
   "metadata": {
    "tags": []
   },
   "source": [
    "[返回目录](#mulu6)"
   ]
  },
  {
   "cell_type": "markdown",
   "metadata": {},
   "source": [
    "___"
   ]
  },
  {
   "cell_type": "markdown",
   "metadata": {
    "tags": [],
    "toc-hr-collapsed": true
   },
   "source": [
    "## <font size=5><span id=\"6.2\"> 6.2 字典</span></font>"
   ]
  },
  {
   "cell_type": "markdown",
   "metadata": {},
   "source": [
    "<img src=\"images/chapter06/xinhuadict.png\" width =400>"
   ]
  },
  {
   "cell_type": "markdown",
   "metadata": {},
   "source": [
    "### <font size=4><span id=\"6.2.1\">6.2.1 字典</span></font>\n",
    "\n",
    "- 一种可变容器\n",
    "\n",
    "\n",
    "- 无序（可哈希）\n",
    "    - 注：哈希是一种算法，可用来提高数据的查询效率\n",
    "\n",
    "\n",
    "- 基本元素 —— 相关联的`键-值对（key - value pair）`\n",
    "    - 键：具有唯一性，不可变（字符串、数字、元组、bool值）\n",
    "    - 值：可任意赋值修改\n",
    "    - 每个`键-值对`称为一项\n",
    "\n",
    "\n",
    "- 全部项构成字典"
   ]
  },
  {
   "cell_type": "markdown",
   "metadata": {
    "tags": [],
    "toc-hr-collapsed": true
   },
   "source": [
    "### <font size=4><span id=\"6.2.2\">6.2.2 字典的表示与创建</span></font>"
   ]
  },
  {
   "cell_type": "markdown",
   "metadata": {},
   "source": [
    "#### 6.2.2.1 一般字典的表示与创建\n",
    "\n",
    "\n",
    "- 表示语法\n",
    "```python\n",
    ">>> {key1:val1, key2:val2,...}\n",
    "```\n",
    "\n",
    "- 说明\n",
    "    - 花括号\n",
    "    - 键-值对"
   ]
  },
  {
   "cell_type": "markdown",
   "metadata": {},
   "source": [
    "##### 例 13 词-数字典\n",
    "\n",
    "- one —— 1\n",
    "- two —— 2\n",
    "- three —— 3\n",
    "- ......"
   ]
  },
  {
   "cell_type": "code",
   "execution_count": 35,
   "metadata": {},
   "outputs": [],
   "source": [
    "# 创建字典\n",
    "word_to_int_dict = {\"one\":1,\"two\":2,\"three\":3}"
   ]
  },
  {
   "cell_type": "code",
   "execution_count": 36,
   "metadata": {},
   "outputs": [
    {
     "data": {
      "text/plain": [
       "{'one': 1, 'two': 2, 'three': 3}"
      ]
     },
     "execution_count": 36,
     "metadata": {},
     "output_type": "execute_result"
    }
   ],
   "source": [
    "# 查看\n",
    "word_to_int_dict"
   ]
  },
  {
   "cell_type": "markdown",
   "metadata": {},
   "source": [
    "##### 例 14 网游排行榜2019字典（取自[搜狐](http://www.sohu.com/a/296150708_120099902)）\n",
    "\n",
    "- 键 —— 游戏名称\n",
    "- 值 —— 搜索指数"
   ]
  },
  {
   "cell_type": "code",
   "execution_count": 37,
   "metadata": {},
   "outputs": [],
   "source": [
    "# 创建\n",
    "netGameRankDict = \\\n",
    "{\n",
    "    \"刀塔2\"    :17099,\n",
    "    \"英雄联盟\" :14703,\n",
    "    \"梦幻西游\" :13847,\n",
    "    \"我的世界\" :11049,\n",
    "    \"剑灵\"     :9023,\n",
    "    \"魔兽世界\" :6365,\n",
    "    \"逆水寒\"   :5804,\n",
    "    \"冒险岛\"   :5568,\n",
    "    \"坦克世界\" :5154,\n",
    "    \"守望先锋\" :4943\n",
    "}"
   ]
  },
  {
   "cell_type": "code",
   "execution_count": 38,
   "metadata": {},
   "outputs": [
    {
     "data": {
      "text/plain": [
       "{'刀塔2': 17099,\n",
       " '英雄联盟': 14703,\n",
       " '梦幻西游': 13847,\n",
       " '我的世界': 11049,\n",
       " '剑灵': 9023,\n",
       " '魔兽世界': 6365,\n",
       " '逆水寒': 5804,\n",
       " '冒险岛': 5568,\n",
       " '坦克世界': 5154,\n",
       " '守望先锋': 4943}"
      ]
     },
     "execution_count": 38,
     "metadata": {},
     "output_type": "execute_result"
    }
   ],
   "source": [
    "# 查看\n",
    "netGameRankDict"
   ]
  },
  {
   "cell_type": "code",
   "execution_count": 39,
   "metadata": {},
   "outputs": [
    {
     "data": {
      "text/plain": [
       "10"
      ]
     },
     "execution_count": 39,
     "metadata": {},
     "output_type": "execute_result"
    }
   ],
   "source": [
    "len(netGameRankDict)"
   ]
  },
  {
   "cell_type": "markdown",
   "metadata": {},
   "source": [
    "##### 例 15 字典 univRankDict —— [金苹果 - 重点大学竞争力排行榜](http://www.nseac.com/eva/CUcompkeyE.php)\n",
    "\n",
    "- 键 —— 大学校名\n",
    "- 值 —— 综合竞争力得分"
   ]
  },
  {
   "cell_type": "code",
   "execution_count": 40,
   "metadata": {
    "tags": []
   },
   "outputs": [
    {
     "data": {
      "text/plain": [
       "{'北京大学': 100.0,\n",
       " '清华大学': 98.25,\n",
       " '浙江大学': 96.34,\n",
       " '上海交大': 93.26,\n",
       " '哈工大': 89.45,\n",
       " '武汉大学': 89.16,\n",
       " '复旦大学': 86.48,\n",
       " '华中科大': 85.56,\n",
       " '中山大学': 84.7,\n",
       " '西安交大': 87.7,\n",
       " '山东大学': 84.41,\n",
       " '四川大学': 81.98,\n",
       " '吉林大学': 80.9,\n",
       " '同济大学': 79.12,\n",
       " '中南大学': 78.77}"
      ]
     },
     "execution_count": 40,
     "metadata": {},
     "output_type": "execute_result"
    }
   ],
   "source": [
    "univRankDict_2024 = \\\n",
    "{\n",
    "    \"北京大学\":100.00,\n",
    "    \"清华大学\": 98.25,\n",
    "    \"浙江大学\": 96.34,\n",
    "    \"上海交大\": 93.26,\n",
    "    \"哈工大\":   89.45,\n",
    "    \"武汉大学\": 89.16,\n",
    "    \"复旦大学\": 86.48,\n",
    "    \"华中科大\": 85.56,\n",
    "    \"中山大学\": 84.70,\n",
    "    \"西安交大\": 87.70,\n",
    "    \"山东大学\": 84.41,\n",
    "    \"四川大学\": 81.98,\n",
    "    \"吉林大学\": 80.90,\n",
    "    \"同济大学\": 79.12,\n",
    "    \"中南大学\": 78.77,\n",
    "}\n",
    "univRankDict_2024\n"
   ]
  },
  {
   "cell_type": "markdown",
   "metadata": {},
   "source": [
    "##### 例16 使用 dict() 构造函数创建：\n",
    "    - 可以使用 dict() 构造函数来创建字典，传入键值对作为参数。\n",
    "    - 通过键值对列表创建：可以通过包含键值对元组的列表来创建字典。"
   ]
  },
  {
   "cell_type": "code",
   "execution_count": 41,
   "metadata": {
    "tags": []
   },
   "outputs": [
    {
     "data": {
      "text/plain": [
       "{'key1': 'one', 'key2': 'two', 'key3': 'three'}"
      ]
     },
     "execution_count": 41,
     "metadata": {},
     "output_type": "execute_result"
    }
   ],
   "source": [
    "my_dict = dict(key1='one', key2='two', key3='three')\n",
    "my_dict"
   ]
  },
  {
   "cell_type": "code",
   "execution_count": 42,
   "metadata": {
    "tags": []
   },
   "outputs": [
    {
     "data": {
      "text/plain": [
       "{1: 'one', 2: 'two', 3: 'three'}"
      ]
     },
     "execution_count": 42,
     "metadata": {},
     "output_type": "execute_result"
    }
   ],
   "source": [
    "prs = [(1, 'one'), (2, 'two'), (3, 'three')]\n",
    "my_dict = dict(prs)\n",
    "my_dict   "
   ]
  },
  {
   "cell_type": "markdown",
   "metadata": {},
   "source": [
    "##### 例 17 使用字典推导式：类似于列表推导式，可以使用字典推导式来创建字典。例如："
   ]
  },
  {
   "cell_type": "code",
   "execution_count": 43,
   "metadata": {
    "tags": []
   },
   "outputs": [
    {
     "data": {
      "text/plain": [
       "{'one': 1, 'two': 2, 'three': 3}"
      ]
     },
     "execution_count": 43,
     "metadata": {},
     "output_type": "execute_result"
    }
   ],
   "source": [
    "num_str=[\"one\", \"two\", \"three\"]\n",
    "num_int=(1, 2, 3)\n",
    "my_dict = {key:value for key, value in zip(num_str, num_int)}  #注意zip用法，类似拉链\n",
    "my_dict"
   ]
  },
  {
   "cell_type": "code",
   "execution_count": null,
   "metadata": {},
   "outputs": [],
   "source": []
  },
  {
   "cell_type": "markdown",
   "metadata": {
    "tags": []
   },
   "source": [
    "##### 例18 使用 fromkeys() 方法\n",
    "   - 可以使用 fromkeys() 方法创建具有指定键的字典，值默认为 None。例如：\n",
    "   - fromkeys() 方法创建的字典中，所有键对应的值都是相同的。\n",
    "   - 这是因为 fromkeys() 方法的设计初衷是为了快速创建具有相同默认值的字典。"
   ]
  },
  {
   "cell_type": "code",
   "execution_count": 44,
   "metadata": {
    "tags": []
   },
   "outputs": [
    {
     "data": {
      "text/plain": [
       "{'key1': None, 'key2': None, 'key3': None}"
      ]
     },
     "execution_count": 44,
     "metadata": {},
     "output_type": "execute_result"
    }
   ],
   "source": [
    "keys = ['key1', 'key2', 'key3']\n",
    "my_dict = dict.fromkeys(keys)\n",
    "my_dict"
   ]
  },
  {
   "cell_type": "code",
   "execution_count": 45,
   "metadata": {
    "tags": []
   },
   "outputs": [
    {
     "name": "stdout",
     "output_type": "stream",
     "text": [
      "{'x': 0, 'y': 0, 'z': 0}\n"
     ]
    }
   ],
   "source": [
    "keys = ['x', 'y', 'z']\n",
    "default_value = 0\n",
    "my_dict = dict.fromkeys(keys, default_value)\n",
    "print(my_dict)"
   ]
  },
  {
   "cell_type": "code",
   "execution_count": 46,
   "metadata": {
    "tags": []
   },
   "outputs": [
    {
     "name": "stdout",
     "output_type": "stream",
     "text": [
      "{'name': (1, 2, 3), 'age': (1, 2, 3), 'city': (1, 2, 3)}\n"
     ]
    }
   ],
   "source": [
    "keys = ['name', 'age', 'city']\n",
    "default_value = ''\n",
    "default_value = (1, 2, 3)\n",
    "my_dict = dict.fromkeys(keys, default_value)\n",
    "print(my_dict)\n",
    "# 输出：{'name': '', 'age': '', 'city': ''}"
   ]
  },
  {
   "cell_type": "markdown",
   "metadata": {
    "tags": []
   },
   "source": []
  },
  {
   "cell_type": "markdown",
   "metadata": {},
   "source": [
    "#### 6.2.2.2 空字典的创建\n",
    "\n",
    "- 语法\n",
    "\n",
    "```python\n",
    ">>> {}\n",
    ">>> dict()\n",
    "```"
   ]
  },
  {
   "cell_type": "markdown",
   "metadata": {},
   "source": [
    "##### 例 19 创建空字典"
   ]
  },
  {
   "cell_type": "code",
   "execution_count": null,
   "metadata": {},
   "outputs": [],
   "source": [
    "dict_void1 = dict()\n",
    "type(dict_void1)"
   ]
  },
  {
   "cell_type": "code",
   "execution_count": null,
   "metadata": {},
   "outputs": [],
   "source": [
    "dict_void = {}\n",
    "type(dict_void)"
   ]
  },
  {
   "cell_type": "markdown",
   "metadata": {
    "tags": []
   },
   "source": [
    "### <font size=4><span id=\"6.2.3\">6.2.3 访问字典</span></font>"
   ]
  },
  {
   "cell_type": "markdown",
   "metadata": {},
   "source": [
    "#### 6.2.3.1 []下标方法\n",
    "- `value`值的访问\n",
    "   - Python 中的字典（dict）是一种无序的键值对集合，可以通过键来访问对应的值。\n",
    "   - 语法\n",
    "```python\n",
    ">>> dictObj[key]\n",
    "```"
   ]
  },
  {
   "cell_type": "code",
   "execution_count": 50,
   "metadata": {
    "tags": []
   },
   "outputs": [
    {
     "name": "stdout",
     "output_type": "stream",
     "text": [
      "{'北京大学': 100.0, '清华大学': 98.25, '浙江大学': 96.34, '上海交大': 93.26, '哈工大': 89.45, '武汉大学': 89.16, '复旦大学': 86.48, '华中科大': 85.56, '中山大学': 84.7, '西安交大': 87.7, '山东大学': 84.41, '四川大学': 81.98, '吉林大学': 80.9, '同济大学': 79.12, '中南大学': 78.77}\n"
     ]
    },
    {
     "ename": "KeyError",
     "evalue": "'上海大学'",
     "output_type": "error",
     "traceback": [
      "\u001b[1;31m---------------------------------------------------------------------------\u001b[0m",
      "\u001b[1;31mKeyError\u001b[0m                                  Traceback (most recent call last)",
      "Cell \u001b[1;32mIn[50], line 2\u001b[0m\n\u001b[0;32m      1\u001b[0m \u001b[38;5;28mprint\u001b[39m(univRankDict_2024)\n\u001b[1;32m----> 2\u001b[0m univRankDict_2024[\u001b[38;5;124m'\u001b[39m\u001b[38;5;124m上海大学\u001b[39m\u001b[38;5;124m'\u001b[39m]\n",
      "\u001b[1;31mKeyError\u001b[0m: '上海大学'"
     ]
    }
   ],
   "source": [
    "print(univRankDict_2024)\n",
    "univRankDict_2024['上海大学']"
   ]
  },
  {
   "cell_type": "markdown",
   "metadata": {
    "tags": []
   },
   "source": [
    "#### 6.2.3.2 get()方法"
   ]
  },
  {
   "cell_type": "markdown",
   "metadata": {
    "tags": []
   },
   "source": [
    "- 使用 get() 方法访问值\n",
    "- 如果键不存在，则返回None\n",
    "- 也可以设置一个默认值\n",
    " "
   ]
  },
  {
   "cell_type": "code",
   "execution_count": 53,
   "metadata": {
    "tags": []
   },
   "outputs": [
    {
     "name": "stdout",
     "output_type": "stream",
     "text": [
      "79.12\n"
     ]
    }
   ],
   "source": [
    "print(univRankDict_2024.get(\"同济大学\")) #返回了None"
   ]
  },
  {
   "cell_type": "code",
   "execution_count": null,
   "metadata": {
    "tags": []
   },
   "outputs": [],
   "source": [
    "univRankDict_2024  #并没有添加新的key"
   ]
  },
  {
   "cell_type": "code",
   "execution_count": 54,
   "metadata": {
    "tags": []
   },
   "outputs": [
    {
     "data": {
      "text/plain": [
       "30"
      ]
     },
     "execution_count": 54,
     "metadata": {},
     "output_type": "execute_result"
    }
   ],
   "source": [
    "univRankDict_2024.get(\"上海大学\",30) #设置了默认值，返回默认值"
   ]
  },
  {
   "cell_type": "code",
   "execution_count": null,
   "metadata": {
    "tags": []
   },
   "outputs": [],
   "source": [
    "univRankDict_2024 # 原来的dict不会变化"
   ]
  },
  {
   "cell_type": "markdown",
   "metadata": {},
   "source": [
    "#### 6.2.3.3 遍历字典的键值对"
   ]
  },
  {
   "cell_type": "code",
   "execution_count": 55,
   "metadata": {
    "tags": []
   },
   "outputs": [
    {
     "name": "stdout",
     "output_type": "stream",
     "text": [
      "北京大学 : 100.0\n",
      "清华大学 : 98.25\n",
      "浙江大学 : 96.34\n",
      "上海交大 : 93.26\n",
      "哈工大 : 89.45\n",
      "武汉大学 : 89.16\n",
      "复旦大学 : 86.48\n",
      "华中科大 : 85.56\n",
      "中山大学 : 84.7\n",
      "西安交大 : 87.7\n",
      "山东大学 : 84.41\n",
      "四川大学 : 81.98\n",
      "吉林大学 : 80.9\n",
      "同济大学 : 79.12\n",
      "中南大学 : 78.77\n"
     ]
    }
   ],
   "source": [
    "for key, value in univRankDict_2024.items():\n",
    "    print(key, \":\", value)"
   ]
  },
  {
   "cell_type": "code",
   "execution_count": 56,
   "metadata": {
    "tags": []
   },
   "outputs": [
    {
     "name": "stdout",
     "output_type": "stream",
     "text": [
      "北京大学 : 100.0\n",
      "清华大学 : 98.25\n",
      "浙江大学 : 96.34\n",
      "上海交大 : 93.26\n",
      "哈工大 : 89.45\n",
      "武汉大学 : 89.16\n",
      "复旦大学 : 86.48\n",
      "华中科大 : 85.56\n",
      "中山大学 : 84.7\n",
      "西安交大 : 87.7\n",
      "山东大学 : 84.41\n",
      "四川大学 : 81.98\n",
      "吉林大学 : 80.9\n",
      "同济大学 : 79.12\n",
      "中南大学 : 78.77\n"
     ]
    }
   ],
   "source": [
    "for key in univRankDict_2024.keys():\n",
    "    print(key, \":\", univRankDict_2024[key])"
   ]
  },
  {
   "cell_type": "code",
   "execution_count": 57,
   "metadata": {
    "tags": []
   },
   "outputs": [
    {
     "name": "stdout",
     "output_type": "stream",
     "text": [
      "100.0\n",
      "98.25\n",
      "96.34\n",
      "93.26\n",
      "89.45\n",
      "89.16\n",
      "86.48\n",
      "85.56\n",
      "84.7\n",
      "87.7\n",
      "84.41\n",
      "81.98\n",
      "80.9\n",
      "79.12\n",
      "78.77\n"
     ]
    }
   ],
   "source": [
    "for value in univRankDict_2024.values():\n",
    "    print(value)"
   ]
  },
  {
   "cell_type": "markdown",
   "metadata": {},
   "source": [
    "#### 6.2.3.4 in 和 not in判断成员关系"
   ]
  },
  {
   "cell_type": "markdown",
   "metadata": {},
   "source": [
    "##### 例 20 采用 `in` 或 `not in` 来判断成员是否在\n",
    "\n",
    "\n",
    "- 注意\n",
    "    - 仅判断字典中是否存在键？\n",
    "    - 不管值如何"
   ]
  },
  {
   "cell_type": "code",
   "execution_count": null,
   "metadata": {
    "tags": []
   },
   "outputs": [],
   "source": [
    "\"同济大学\" in univRankDict_2024"
   ]
  },
  {
   "cell_type": "code",
   "execution_count": null,
   "metadata": {
    "tags": []
   },
   "outputs": [],
   "source": [
    "\"上海大学\" in univRankDict_2024"
   ]
  },
  {
   "cell_type": "code",
   "execution_count": null,
   "metadata": {
    "tags": []
   },
   "outputs": [],
   "source": [
    "\"上海大学\" not in univRankDict_2024"
   ]
  },
  {
   "cell_type": "code",
   "execution_count": null,
   "metadata": {
    "tags": []
   },
   "outputs": [],
   "source": [
    "\"同济大学\" in univRankDict_2024.keys(), 96.34 not in univRankDict_2024.values()"
   ]
  },
  {
   "cell_type": "markdown",
   "metadata": {},
   "source": [
    "#### 6.2.3.4 比较运算> < == != >= <="
   ]
  },
  {
   "cell_type": "markdown",
   "metadata": {},
   "source": [
    "- 字典的比较是基于键值对的完全匹配，如果两个字典的键值对顺序不同，但内容相同，仍然会被视为不相等。"
   ]
  },
  {
   "cell_type": "code",
   "execution_count": 58,
   "metadata": {
    "tags": []
   },
   "outputs": [
    {
     "data": {
      "text/plain": [
       "True"
      ]
     },
     "execution_count": 58,
     "metadata": {},
     "output_type": "execute_result"
    }
   ],
   "source": [
    "dict_a = {\"a\":1}\n",
    "dict_b = {\"a\":1}\n",
    "dict_a == dict_b"
   ]
  },
  {
   "cell_type": "code",
   "execution_count": 59,
   "metadata": {
    "tags": []
   },
   "outputs": [
    {
     "data": {
      "text/plain": [
       "False"
      ]
     },
     "execution_count": 59,
     "metadata": {},
     "output_type": "execute_result"
    }
   ],
   "source": [
    "dict_a = {\"a\":1, \"b\":2}\n",
    "dict_b = {\"a\":1}\n",
    "dict_a == dict_b"
   ]
  },
  {
   "cell_type": "code",
   "execution_count": 61,
   "metadata": {
    "tags": []
   },
   "outputs": [
    {
     "data": {
      "text/plain": [
       "True"
      ]
     },
     "execution_count": 61,
     "metadata": {},
     "output_type": "execute_result"
    }
   ],
   "source": [
    "dict_a = {\"a\":1, \"b\":2}\n",
    "dict_b = {\"b\":2.0, \"a\":1}\n",
    "dict_a == dict_b"
   ]
  },
  {
   "cell_type": "markdown",
   "metadata": {},
   "source": [
    "- 在 Python 中，字典是无法直接进行大小比较的，因为字典是无序的数据结构，不像列表或元组可以按照索引位置进行比较。\n",
    "- 如果需要比较字典的大小，通常需要根据具体的需求来定义比较规则。\n",
    "- 一种常见的方法是通过比较字典的长度来确定大小。可以使用 len() 函数来获取字典的长度，然后进行比较。"
   ]
  },
  {
   "cell_type": "code",
   "execution_count": 62,
   "metadata": {
    "tags": []
   },
   "outputs": [
    {
     "ename": "TypeError",
     "evalue": "'>' not supported between instances of 'dict' and 'dict'",
     "output_type": "error",
     "traceback": [
      "\u001b[1;31m---------------------------------------------------------------------------\u001b[0m",
      "\u001b[1;31mTypeError\u001b[0m                                 Traceback (most recent call last)",
      "Cell \u001b[1;32mIn[62], line 3\u001b[0m\n\u001b[0;32m      1\u001b[0m dict_a \u001b[38;5;241m=\u001b[39m {\u001b[38;5;124m\"\u001b[39m\u001b[38;5;124ma\u001b[39m\u001b[38;5;124m\"\u001b[39m:\u001b[38;5;241m1\u001b[39m, \u001b[38;5;124m\"\u001b[39m\u001b[38;5;124mb\u001b[39m\u001b[38;5;124m\"\u001b[39m:\u001b[38;5;241m2\u001b[39m}\n\u001b[0;32m      2\u001b[0m dict_b \u001b[38;5;241m=\u001b[39m {\u001b[38;5;124m\"\u001b[39m\u001b[38;5;124mb\u001b[39m\u001b[38;5;124m\"\u001b[39m:\u001b[38;5;241m3.0\u001b[39m, \u001b[38;5;124m\"\u001b[39m\u001b[38;5;124ma\u001b[39m\u001b[38;5;124m\"\u001b[39m:\u001b[38;5;241m1\u001b[39m}\n\u001b[1;32m----> 3\u001b[0m dict_a \u001b[38;5;241m>\u001b[39m dict_b\n",
      "\u001b[1;31mTypeError\u001b[0m: '>' not supported between instances of 'dict' and 'dict'"
     ]
    }
   ],
   "source": [
    "dict_a = {\"a\":1, \"b\":2}\n",
    "dict_b = {\"b\":3.0, \"a\":1}\n",
    "dict_a > dict_b"
   ]
  },
  {
   "cell_type": "markdown",
   "metadata": {
    "toc-hr-collapsed": true
   },
   "source": [
    "### <font size=4><span id=\"6.2.4\">6.2.4 修改字典</span></font>"
   ]
  },
  {
   "cell_type": "markdown",
   "metadata": {},
   "source": [
    "#### 6.2.4.1 添加新项 —— 键-值对\n",
    "\n",
    "\n",
    "- 语法\n",
    "```python\n",
    ">>> dictObj[newKey] = newValue\n",
    "```"
   ]
  },
  {
   "cell_type": "markdown",
   "metadata": {},
   "source": [
    "##### 例 21 增加新项 —— 键-值对"
   ]
  },
  {
   "cell_type": "code",
   "execution_count": 63,
   "metadata": {},
   "outputs": [],
   "source": [
    "word_to_int_dict = {'one':1, 'two':2, 'three':3, 'four':4}"
   ]
  },
  {
   "cell_type": "code",
   "execution_count": 64,
   "metadata": {},
   "outputs": [
    {
     "data": {
      "text/plain": [
       "{'one': 1, 'two': 2, 'three': 3, 'four': 4, 'five': 7}"
      ]
     },
     "execution_count": 64,
     "metadata": {},
     "output_type": "execute_result"
    }
   ],
   "source": [
    "word_to_int_dict[\"five\"] = 7\n",
    "word_to_int_dict"
   ]
  },
  {
   "cell_type": "markdown",
   "metadata": {},
   "source": [
    "#### 6.2.4.2 修改值\n",
    "\n",
    "- 语法\n",
    "```python\n",
    ">>> dictObj[key] = newValue\n",
    "```"
   ]
  },
  {
   "cell_type": "markdown",
   "metadata": {},
   "source": [
    "##### 例 7 已有项修改值"
   ]
  },
  {
   "cell_type": "code",
   "execution_count": null,
   "metadata": {},
   "outputs": [],
   "source": [
    "word_to_int_dict"
   ]
  },
  {
   "cell_type": "code",
   "execution_count": 65,
   "metadata": {},
   "outputs": [
    {
     "data": {
      "text/plain": [
       "{'one': 1, 'two': 2, 'three': 3, 'four': 4, 'five': 5}"
      ]
     },
     "execution_count": 65,
     "metadata": {},
     "output_type": "execute_result"
    }
   ],
   "source": [
    "word_to_int_dict[\"five\"] = 5\n",
    "word_to_int_dict"
   ]
  },
  {
   "cell_type": "markdown",
   "metadata": {},
   "source": [
    "#### 6.2.4.3 字典更新 —— `update` 方法\n",
    "\n",
    "- 语法\n",
    "```python\n",
    ">>> this_dict.update(other_dict)\n",
    "```\n",
    "\n",
    "- 功能\n",
    "    - 如果 `other_dict` 的键值在 `this_dict` 中<font color=\"red\">已存在，则修改</font>\n",
    "    - 如果 `other_dict` 的键值在 `this_dict` 中<font color=\"red\">不存在，则添加</font>"
   ]
  },
  {
   "cell_type": "markdown",
   "metadata": {},
   "source": [
    "##### 例 22 字典更新示例"
   ]
  },
  {
   "cell_type": "code",
   "execution_count": 66,
   "metadata": {
    "tags": []
   },
   "outputs": [
    {
     "data": {
      "text/plain": [
       "{'one': 1, 'two': 2, 'three': 3, 'four': 4, 'five': -5, 'six': -6}"
      ]
     },
     "execution_count": 66,
     "metadata": {},
     "output_type": "execute_result"
    }
   ],
   "source": [
    "# 创建字典\n",
    "word_to_int_dict = {\"one\":1,\"two\":2,\"three\":3, \"four\":4, \"five\":-5, \"six\":-6}\n",
    "word_to_int_dict"
   ]
  },
  {
   "cell_type": "code",
   "execution_count": null,
   "metadata": {
    "tags": []
   },
   "outputs": [],
   "source": [
    "# 更新操作\n",
    "word_to_int_dict.update({\"five\":5, \"six\":6, \"seven\":7, \"eight\":8})\n",
    "word_to_int_dict"
   ]
  },
  {
   "cell_type": "markdown",
   "metadata": {},
   "source": [
    "#### 6.2.4.4 字典更新 —— `setdefault` 方法\n"
   ]
  },
  {
   "cell_type": "markdown",
   "metadata": {
    "tags": []
   },
   "source": [
    "\n",
    "- 语法\n",
    "```python\n",
    ">>> dict.setdefault(key, default=None)\n",
    "```\n",
    "\n",
    "\n",
    "- 参数\n",
    "    - key —— 查找的键值\n",
    "    - default —— 键不存在时，设置的默认键值\n",
    "\n",
    "\n",
    "- 返回值\n",
    "    - 如果字典中包含有给定键，则返回该键对应的值\n",
    "    - 否则返回为该键设置的值"
   ]
  },
  {
   "cell_type": "code",
   "execution_count": 73,
   "metadata": {},
   "outputs": [
    {
     "data": {
      "text/plain": [
       "{1: 'one', 2: 'two', 3: 'three', 4: 'Four', 5: 'Five', 6: 'six'}"
      ]
     },
     "execution_count": 73,
     "metadata": {},
     "output_type": "execute_result"
    }
   ],
   "source": [
    "a_dict = {1:\"one\", 2:\"two\", 3:\"three\", 4:\"Four\", 5:\"Five\", 6:\"six\"}\n",
    "a_dict"
   ]
  },
  {
   "cell_type": "code",
   "execution_count": 74,
   "metadata": {},
   "outputs": [
    {
     "data": {
      "text/plain": [
       "'six'"
      ]
     },
     "execution_count": 74,
     "metadata": {},
     "output_type": "execute_result"
    }
   ],
   "source": [
    "a_dict.setdefault(6, 's~six')"
   ]
  },
  {
   "cell_type": "code",
   "execution_count": 75,
   "metadata": {},
   "outputs": [
    {
     "data": {
      "text/plain": [
       "{1: 'one', 2: 'two', 3: 'three', 4: 'Four', 5: 'Five', 6: 'six'}"
      ]
     },
     "execution_count": 75,
     "metadata": {},
     "output_type": "execute_result"
    }
   ],
   "source": [
    "a_dict"
   ]
  },
  {
   "cell_type": "code",
   "execution_count": 76,
   "metadata": {},
   "outputs": [],
   "source": [
    "a_dict.setdefault(7)"
   ]
  },
  {
   "cell_type": "code",
   "execution_count": 77,
   "metadata": {},
   "outputs": [
    {
     "data": {
      "text/plain": [
       "{1: 'one', 2: 'two', 3: 'three', 4: 'Four', 5: 'Five', 6: 'six', 7: None}"
      ]
     },
     "execution_count": 77,
     "metadata": {},
     "output_type": "execute_result"
    }
   ],
   "source": [
    "a_dict"
   ]
  },
  {
   "cell_type": "markdown",
   "metadata": {},
   "source": [
    "- dict.setdefault() 和 dict.update() 的比较：\n",
    "  - 是字典（dict）的两个方法，\n",
    "  - 它们的作用有所不同。\n",
    "    - 1. dict.setdefault(key, default) 方法：\n",
    "       - 如果字典中存在键 key，则返回对应的值；\n",
    "       - 如果字典中不存在键 key，则将键 key 插入字典，并将其值设置为 default，然后返回 default。 示例：\n",
    "    - 2. dict.update(other_dict) 方法：\n",
    "       - 将其他字典 other_dict 中的键值对更新到当前字典中；\n",
    "       - 如果当前字典中存在与其他字典中相同的键，则更新当前字典中的值为其他字典中对应键的值。 \n",
    "  - dict.setdefault() 主要用于获取字典中的值，如果键不存在则设置默认值；\n",
    "  - dict.update() 主要用于将其他字典中的键值对更新到当前字典中。"
   ]
  },
  {
   "cell_type": "markdown",
   "metadata": {
    "tags": []
   },
   "source": [
    "#### 6.2.4.5 更新之pop()和popitem()方法\n",
    "- 删除方法1"
   ]
  },
  {
   "cell_type": "markdown",
   "metadata": {},
   "source": [
    "- `pop()` 给定键弹出值\n",
    "- `popitem()` 弹出一项"
   ]
  },
  {
   "cell_type": "code",
   "execution_count": 78,
   "metadata": {},
   "outputs": [
    {
     "data": {
      "text/plain": [
       "{1: 'one', 2: 'two', 3: 'three', 4: 'Four', 5: 'Five', 6: 'six'}"
      ]
     },
     "execution_count": 78,
     "metadata": {},
     "output_type": "execute_result"
    }
   ],
   "source": [
    "a_dict = {1:\"one\", 2:\"two\", 3:\"three\", 4:\"Four\", 5:\"Five\", 6:\"six\"}\n",
    "a_dict"
   ]
  },
  {
   "cell_type": "code",
   "execution_count": 79,
   "metadata": {},
   "outputs": [
    {
     "data": {
      "text/plain": [
       "'two'"
      ]
     },
     "execution_count": 79,
     "metadata": {},
     "output_type": "execute_result"
    }
   ],
   "source": [
    "a_dict.pop(2)"
   ]
  },
  {
   "cell_type": "code",
   "execution_count": 80,
   "metadata": {},
   "outputs": [
    {
     "data": {
      "text/plain": [
       "{1: 'one', 3: 'three', 4: 'Four', 5: 'Five', 6: 'six'}"
      ]
     },
     "execution_count": 80,
     "metadata": {},
     "output_type": "execute_result"
    }
   ],
   "source": [
    "a_dict"
   ]
  },
  {
   "cell_type": "code",
   "execution_count": null,
   "metadata": {},
   "outputs": [],
   "source": [
    "a_dict.pop(3,5) # 只弹出一个 \n",
    "a_dict"
   ]
  },
  {
   "cell_type": "code",
   "execution_count": 81,
   "metadata": {},
   "outputs": [
    {
     "data": {
      "text/plain": [
       "'nothing'"
      ]
     },
     "execution_count": 81,
     "metadata": {},
     "output_type": "execute_result"
    }
   ],
   "source": [
    "a_dict.pop(7,\"nothing\") # 如果没有7，就把第二个参数输出来"
   ]
  },
  {
   "cell_type": "code",
   "execution_count": null,
   "metadata": {},
   "outputs": [],
   "source": [
    "a_dict"
   ]
  },
  {
   "cell_type": "code",
   "execution_count": 82,
   "metadata": {},
   "outputs": [
    {
     "data": {
      "text/plain": [
       "{1: 'one', 3: 'three', 4: 'Four', 5: 'Five'}"
      ]
     },
     "execution_count": 82,
     "metadata": {},
     "output_type": "execute_result"
    }
   ],
   "source": [
    "a_dict.popitem()  ## 弹出最后一个\n",
    "a_dict"
   ]
  },
  {
   "cell_type": "code",
   "execution_count": 83,
   "metadata": {},
   "outputs": [
    {
     "data": {
      "text/plain": [
       "{1: 'one', 3: 'three', 4: 'Four'}"
      ]
     },
     "execution_count": 83,
     "metadata": {},
     "output_type": "execute_result"
    }
   ],
   "source": [
    "a_dict.popitem()  ## 弹出最后一个，反复多弹几次试试？\n",
    "a_dict"
   ]
  },
  {
   "cell_type": "markdown",
   "metadata": {},
   "source": [
    "#### 6.2.4.6 更新之删除键-值对\n",
    "\n",
    "\n",
    "- 语法\n",
    "```python\n",
    ">>> del dictObj[key]  # 删除一项\n",
    ">>> del dictObj       # 删除整个字典\n",
    "```"
   ]
  },
  {
   "cell_type": "markdown",
   "metadata": {},
   "source": [
    "##### 例 23 删除\n",
    "\n",
    "- 一项\n",
    "- 整个字典"
   ]
  },
  {
   "cell_type": "code",
   "execution_count": null,
   "metadata": {},
   "outputs": [],
   "source": [
    "word_to_int_dict = {\"one\":1,\"two\":2,\"three\":3, \"four\":4, \"five\":-5, \"six\":-6}"
   ]
  },
  {
   "cell_type": "code",
   "execution_count": null,
   "metadata": {},
   "outputs": [],
   "source": [
    "del word_to_int_dict[\"two\"]\n",
    "word_to_int_dict"
   ]
  },
  {
   "cell_type": "code",
   "execution_count": null,
   "metadata": {},
   "outputs": [],
   "source": [
    "# 删除整个字典\n",
    "del word_to_int_dict"
   ]
  },
  {
   "cell_type": "code",
   "execution_count": null,
   "metadata": {},
   "outputs": [],
   "source": [
    "# 报错，字典没定义\n",
    "#word_to_int_dict"
   ]
  },
  {
   "cell_type": "markdown",
   "metadata": {},
   "source": [
    "#### 6.2.4.7 清空字典\n",
    "\n",
    "\n",
    "- 语法\n",
    "```python\n",
    ">>> dictObj.clear()\n",
    "```\n",
    "\n",
    "\n",
    "- 注意\n",
    "    - 清空不等同于删除\n",
    "    - 清空将得到一个空字典"
   ]
  },
  {
   "cell_type": "markdown",
   "metadata": {},
   "source": [
    "##### 例 24 清空大学排行榜"
   ]
  },
  {
   "cell_type": "code",
   "execution_count": null,
   "metadata": {},
   "outputs": [],
   "source": [
    "univRankDict_2024"
   ]
  },
  {
   "cell_type": "code",
   "execution_count": 87,
   "metadata": {},
   "outputs": [
    {
     "data": {
      "text/plain": [
       "{}"
      ]
     },
     "execution_count": 87,
     "metadata": {},
     "output_type": "execute_result"
    }
   ],
   "source": [
    "a = {1:'one', 2:'two'}\n",
    "a.clear()\n",
    "a"
   ]
  },
  {
   "cell_type": "code",
   "execution_count": null,
   "metadata": {},
   "outputs": [],
   "source": [
    "univRankDict_2024.clear()\n",
    "univRankDict_2024"
   ]
  },
  {
   "cell_type": "markdown",
   "metadata": {
    "tags": [],
    "toc-hr-collapsed": true
   },
   "source": [
    "### <font size=4><span id=\"6.2.5\">6.2.5  操作字典的各种 `built-in` 函数和方法</span></font>"
   ]
  },
  {
   "cell_type": "markdown",
   "metadata": {},
   "source": [
    "#### 6.2.5.1 内置成员函数 —— 属于字典对象"
   ]
  },
  {
   "cell_type": "code",
   "execution_count": null,
   "metadata": {
    "scrolled": true
   },
   "outputs": [],
   "source": [
    "dict = {}\n",
    "dir(dict)"
   ]
  },
  {
   "cell_type": "markdown",
   "metadata": {},
   "source": [
    "<table>\n",
    "<thead>\n",
    "<tr><th style='text-align:center;' >序号</th><th style='text-align:left;' ><strong>函数</strong></th><th style='text-align:left;' ><strong>描述</strong></th></tr></thead>\n",
    "<tbody><tr><td style='text-align:center;' >1</td><td style='text-align:left;' >dict.clear()</td><td style='text-align:left;' >清空字典</td></tr><tr><td style='text-align:center;' >2</td><td style='text-align:left;' >dict.copy()</td><td style='text-align:left;' >浅拷贝</td></tr><tr><td style='text-align:center;' >3</td><td style='text-align:left;' >dict.fromkeys(iterable,value=None)</td><td style='text-align:left;' >用 `iterable` 的键，`value` 来创建新字典</td></tr><tr><td style='text-align:center;' >4</td><td style='text-align:left;' >dict.get(key, default=None)</td><td style='text-align:left;' >返回指定键的值，如果不存在，返回default值</td></tr><tr><td style='text-align:center;' >5</td><td style='text-align:left;' >dict.items()</td><td style='text-align:left;' >返回全部项——(键, 值) 列表</td></tr><tr><td style='text-align:center;' >6</td><td style='text-align:left;' >dict.keys()</td><td style='text-align:left;' >返回全部键——列表</td></tr><tr><td style='text-align:center;' >7</td><td style='text-align:left;' >dict.setdefault(key, default=None)</td><td style='text-align:left;' >键不存在时，插入`key-default`对。键存在时返回值，否则`default`</td></tr><tr><td style='text-align:center;' >8</td><td style='text-align:left;' >dict.update(dict2)</td><td style='text-align:left;' >把字典dict2的键/值对更新到dict里</td></tr><tr><td style='text-align:center;' >9</td><td style='text-align:left;' >dict.values()</td><td style='text-align:left;' >返回全部值——列表</td></tr><tr><td style='text-align:center;' >10</td><td style='text-align:left;' >pop(key[,default])</td><td style='text-align:left;' >删除字典给定键 key 所对应的值，返回值为被删除的值。key值必须给出。 否则，返回default值。</td></tr><tr><td style='text-align:center;' >11</td><td style='text-align:left;' >popitem()</td><td style='text-align:left;' >弹出某项（键-值对），返回元组，如果字典是空的，抛出 KeyError 异常</td></tr></tbody>\n",
    "</table>"
   ]
  },
  {
   "cell_type": "code",
   "execution_count": null,
   "metadata": {
    "tags": []
   },
   "outputs": [],
   "source": [
    "# 创建字典\n",
    "word_to_int_dict = {\"one\":1,\"two\":2,\"three\":3, \"four\":4, \"five\":5, \"six\":6}\n",
    "word_to_int_dict"
   ]
  },
  {
   "cell_type": "markdown",
   "metadata": {},
   "source": [
    "##### 例 25 `copy()`  复制字典"
   ]
  },
  {
   "cell_type": "code",
   "execution_count": null,
   "metadata": {},
   "outputs": [],
   "source": [
    "a = {1:\"one\", 2:\"two\", 3:\"three\"}\n"
   ]
  },
  {
   "cell_type": "code",
   "execution_count": null,
   "metadata": {},
   "outputs": [],
   "source": [
    "b = a.copy()\n",
    "b"
   ]
  },
  {
   "cell_type": "code",
   "execution_count": null,
   "metadata": {},
   "outputs": [],
   "source": [
    "id(a), id(b)"
   ]
  },
  {
   "cell_type": "code",
   "execution_count": null,
   "metadata": {},
   "outputs": [],
   "source": [
    "a[1]=\"four\"\n",
    "a"
   ]
  },
  {
   "cell_type": "code",
   "execution_count": null,
   "metadata": {},
   "outputs": [],
   "source": [
    "b"
   ]
  },
  {
   "cell_type": "markdown",
   "metadata": {},
   "source": [
    "- 完全copy问题"
   ]
  },
  {
   "cell_type": "code",
   "execution_count": null,
   "metadata": {
    "tags": []
   },
   "outputs": [],
   "source": [
    "a = {\"one\":[1, 1, 1], \"two\":[2, 2, 2]}\n",
    "b = a\n",
    "c = a.copy()\n",
    "id(a), id(b), id(c)"
   ]
  },
  {
   "cell_type": "code",
   "execution_count": null,
   "metadata": {
    "tags": []
   },
   "outputs": [],
   "source": [
    "c[\"one\"][1]=2\n",
    "a"
   ]
  },
  {
   "cell_type": "code",
   "execution_count": null,
   "metadata": {
    "tags": []
   },
   "outputs": [],
   "source": [
    "import copy\n",
    "d = copy.deepcopy(a)\n",
    "id(a), id(d)"
   ]
  },
  {
   "cell_type": "code",
   "execution_count": null,
   "metadata": {
    "tags": []
   },
   "outputs": [],
   "source": [
    "d[\"one\"][1]=3\n",
    "a, c, d"
   ]
  },
  {
   "cell_type": "markdown",
   "metadata": {},
   "source": [
    "#### 6.2.5.2 内置函数\n",
    "\n",
    "\n",
    "- `Python` 还有以下内置函数可用来操作字典"
   ]
  },
  {
   "cell_type": "markdown",
   "metadata": {},
   "source": [
    "<table>\n",
    "<thead>\n",
    "<tr><th style='text-align:center;' >序号</th><th style='text-align:left;' >函数</th><th style='text-align:left;' ><em>描述</em></th></tr></thead>\n",
    "<tbody><tr><td style='text-align:center;' >1</td><td style='text-align:left;' >len(dict)</td><td style='text-align:left;' >计算字典元素个数，即键的总数。</td></tr><tr><td style='text-align:center;' >2</td><td style='text-align:left;' >str(dict)</td><td style='text-align:left;' >输出字典可打印的字符串表示。</td></tr><tr><td style='text-align:center;' >3</td><td style='text-align:left;' >type(variable)</td><td style='text-align:left;' >返回输入的变量类型，如果变量是字典就返回字典类型。</td></tr></tbody>\n",
    "</table>"
   ]
  },
  {
   "cell_type": "code",
   "execution_count": null,
   "metadata": {},
   "outputs": [],
   "source": [
    "univRankDict_2024 = \\\n",
    "{\n",
    "    \"北京大学\":100.00,\n",
    "    \"清华大学\": 98.25,\n",
    "    \"浙江大学\": 96.34,\n",
    "    \"上海交大\": 93.26,\n",
    "    \"哈工大\":   89.45,\n",
    "    \"武汉大学\": 89.16,\n",
    "    \"复旦大学\": 86.48,\n",
    "    \"华中科大\": 85.56,\n",
    "    \"中山大学\": 84.70,\n",
    "    \"西安交大\": 87.70,\n",
    "    \"山东大学\": 84.41,\n",
    "    \"四川大学\": 81.98,\n",
    "    \"吉林大学\": 80.90,\n",
    "    \"同济大学\": 79.12,\n",
    "    \"中南大学\": 78.77,\n",
    "}"
   ]
  },
  {
   "cell_type": "code",
   "execution_count": null,
   "metadata": {
    "tags": []
   },
   "outputs": [],
   "source": [
    "str(univRankDict_2024)"
   ]
  },
  {
   "cell_type": "code",
   "execution_count": null,
   "metadata": {},
   "outputs": [],
   "source": [
    "len(univRankDict_2024)"
   ]
  },
  {
   "cell_type": "markdown",
   "metadata": {},
   "source": [
    "##### 例 27 字典嵌套"
   ]
  },
  {
   "cell_type": "code",
   "execution_count": 89,
   "metadata": {},
   "outputs": [
    {
     "name": "stdout",
     "output_type": "stream",
     "text": [
      "7\n"
     ]
    }
   ],
   "source": [
    "# 每个客人点餐名称及数量\n",
    "allGuests = {'Alice': {'apples': 5, 'pretzels': 12}, 'Bob': {'ham sandwiches': 3, 'apples': 2},\n",
    "             'Carol': {'cups': 3, 'apple pies': 1}}         # 定义字典，包含嵌套字典;\n",
    "\n",
    "# 点苹果的总数\n",
    "numApples = 0                                               # 初始化参数\n",
    "\n",
    "for k, v in allGuests.items():                              # 获取字典的键和值，分别赋值给k,v;\n",
    "    numApples = numApples + v.get('apples', 0)              # v为一个字典，利用get()方法获取指定键名的值，若键不存在则用默认值\n",
    "\n",
    "print(numApples)"
   ]
  },
  {
   "cell_type": "markdown",
   "metadata": {},
   "source": [
    "### <font size=4><span id=\"6.2.6\">6.2.6 例：字典推理</span></font>"
   ]
  },
  {
   "cell_type": "code",
   "execution_count": null,
   "metadata": {},
   "outputs": [],
   "source": [
    "netGameRankDict = \\\n",
    "{\n",
    "    \"刀塔2\"    :17099,\n",
    "    \"英雄联盟\" :14703,\n",
    "    \"梦幻西游\" :13847,\n",
    "    \"我的世界\" :11049,\n",
    "    \"剑灵\"     :9023,\n",
    "    \"魔兽世界\" :6365,\n",
    "    \"逆水寒\"   :5804,\n",
    "    \"冒险岛\"   :5568,\n",
    "    \"坦克世界\" :5154,\n",
    "    \"守望先锋\" :4943\n",
    "}"
   ]
  },
  {
   "cell_type": "code",
   "execution_count": 90,
   "metadata": {},
   "outputs": [],
   "source": [
    "# 推理方式创建标准化字典，即最高位100分，其余按比例降低\n",
    "m = max(netGameRankDict.values())\n",
    "netGameRank100Dict = {k:int(v/m*100) for k, v in netGameRankDict.items()}"
   ]
  },
  {
   "cell_type": "code",
   "execution_count": 91,
   "metadata": {},
   "outputs": [
    {
     "data": {
      "text/plain": [
       "{'刀塔2': 100,\n",
       " '英雄联盟': 85,\n",
       " '梦幻西游': 80,\n",
       " '我的世界': 64,\n",
       " '剑灵': 52,\n",
       " '魔兽世界': 37,\n",
       " '逆水寒': 33,\n",
       " '冒险岛': 32,\n",
       " '坦克世界': 30,\n",
       " '守望先锋': 28}"
      ]
     },
     "execution_count": 91,
     "metadata": {},
     "output_type": "execute_result"
    }
   ],
   "source": [
    "netGameRank100Dict"
   ]
  },
  {
   "cell_type": "code",
   "execution_count": 92,
   "metadata": {},
   "outputs": [
    {
     "data": {
      "text/plain": [
       "{'one': 1, 'two': 2, 'three': 3}"
      ]
     },
     "execution_count": 92,
     "metadata": {},
     "output_type": "execute_result"
    }
   ],
   "source": [
    "# 推理方式创建单词整数字典\n",
    "# 键为英文单词；值为对应数值\n",
    "\n",
    "a_int_dict = {w:i for w,i in zip([\"one\",\"two\",\"three\"],[1,2,3])}\n",
    "a_int_dict"
   ]
  },
  {
   "cell_type": "code",
   "execution_count": 94,
   "metadata": {},
   "outputs": [
    {
     "data": {
      "text/plain": [
       "{1: 1,\n",
       " 2: 8,\n",
       " 3: 27,\n",
       " 4: 64,\n",
       " 5: 125,\n",
       " 6: 216,\n",
       " 7: 343,\n",
       " 8: 512,\n",
       " 9: 729,\n",
       " 10: 1000,\n",
       " 11: 1331,\n",
       " 12: 1728,\n",
       " 13: 2197,\n",
       " 14: 2744,\n",
       " 15: 3375,\n",
       " 16: 4096,\n",
       " 17: 4913,\n",
       " 18: 5832,\n",
       " 19: 6859}"
      ]
     },
     "execution_count": 94,
     "metadata": {},
     "output_type": "execute_result"
    }
   ],
   "source": [
    "# 创建整数的平方映射\n",
    "\n",
    "{x: x**3 for x in range(1,20)}"
   ]
  },
  {
   "cell_type": "code",
   "execution_count": 95,
   "metadata": {},
   "outputs": [],
   "source": [
    "### 练习\n",
    "ziku = {\n",
    "'一':        ['yi'   ,1,         '一'],\n",
    "'丁':        ['ding' ,2,         '一'],\n",
    "'七':        ['qi'   ,2,         '一'],\n",
    "'万':        ['wan'  ,3,         '一'],\n",
    "'丈':        ['zhang',3,         '一'],\n",
    "'三':        ['san'  ,3,         '一'],\n",
    "'上':        ['shang',3,         '一'],\n",
    "'下':        ['xia'  ,3,         '一'],\n",
    "'与':        ['yu'   ,3,         '一'],\n",
    "'丑':        ['chou' ,4,         '一'],\n",
    "'专':        ['zhuan',4,         '一'],\n",
    "'且':        ['qie'  ,5,         '一'],\n",
    "'丕':        ['pi'   ,5,         '一'],\n",
    "'世':        ['shi'  ,5,         '一'],\n",
    "'伤':        ['shang',6,         '亻'],\n",
    "'衣':        ['yi'   ,6,         '衣'],    \n",
    "} #为某字库，分别为拼音，笔画数，偏旁部首\n",
    "\n",
    "# 如何根据拼音查询所有的汉字？？\n",
    "# "
   ]
  },
  {
   "cell_type": "markdown",
   "metadata": {},
   "source": [
    "输入拼音，查找可能的所有汉字，并形成列表输出\n",
    "- 如输入 shang\n",
    "- 如没有，则输出“未能查到”"
   ]
  },
  {
   "cell_type": "code",
   "execution_count": null,
   "metadata": {},
   "outputs": [],
   "source": [
    "!type pys\\ch6_pyfind.py"
   ]
  },
  {
   "cell_type": "code",
   "execution_count": 97,
   "metadata": {
    "scrolled": true
   },
   "outputs": [
    {
     "name": "stdin",
     "output_type": "stream",
     "text": [
      "Input PINGYING: ni\n"
     ]
    },
    {
     "name": "stdout",
     "output_type": "stream",
     "text": [
      "Cannot find it\n"
     ]
    }
   ],
   "source": [
    "py = input(\"Input PINGYING:\")\n",
    "\n",
    "list_py = []\n",
    "for i in ziku.keys():\n",
    "    if ziku[i][0] == py :\n",
    "         list_py.append(i)\n",
    "if list_py == []:\n",
    "    print(\"Cannot find it\")\n",
    "else :\n",
    "    print(list_py)"
   ]
  },
  {
   "cell_type": "markdown",
   "metadata": {},
   "source": [
    "[返回目录](#mulu)"
   ]
  },
  {
   "cell_type": "markdown",
   "metadata": {
    "tags": [],
    "toc-hr-collapsed": true
   },
   "source": [
    "## <font size=5><span id=\"6.3\"> 6.3 集合set</span></font>\n",
    "### 字典的表亲"
   ]
  },
  {
   "cell_type": "markdown",
   "metadata": {},
   "source": [
    "\n",
    "\n",
    "- `集合`是由不重复元素组成的无序集\n",
    "\n",
    "它的基本用法包括成员检测和消除重复元素。集合对象也支持像 联合，交集，差集，对称差分等数学运算。"
   ]
  },
  {
   "cell_type": "markdown",
   "metadata": {},
   "source": [
    "### <font size=4><span id=\"6.3.1\">6.3.1 集合创建</span></font>"
   ]
  },
  {
   "cell_type": "code",
   "execution_count": 99,
   "metadata": {},
   "outputs": [
    {
     "name": "stdout",
     "output_type": "stream",
     "text": [
      "<class 'set'>\n"
     ]
    },
    {
     "data": {
      "text/plain": [
       "set()"
      ]
     },
     "execution_count": 99,
     "metadata": {},
     "output_type": "execute_result"
    }
   ],
   "source": [
    "# 创建空集合\n",
    "an_empty_set = set()\n",
    "print(type(an_empty_set))\n",
    "an_empty_set"
   ]
  },
  {
   "cell_type": "code",
   "execution_count": 100,
   "metadata": {
    "tags": []
   },
   "outputs": [
    {
     "data": {
      "text/plain": [
       "({1, 2, 3}, {'a', 'b', 'c', 'd', 'e'}, {'a', 'b'})"
      ]
     },
     "execution_count": 100,
     "metadata": {},
     "output_type": "execute_result"
    }
   ],
   "source": [
    "a_set = set([1,2,3])\n",
    "b_set = set(\"abcde\")\n",
    "c_set = set({\"a\": 1, \"b\":2})\n",
    "a_set, b_set, c_set"
   ]
  },
  {
   "cell_type": "code",
   "execution_count": 98,
   "metadata": {},
   "outputs": [
    {
     "data": {
      "text/plain": [
       "dict"
      ]
     },
     "execution_count": 98,
     "metadata": {},
     "output_type": "execute_result"
    }
   ],
   "source": [
    "empty_set = {} #创建出来是一个字典\n",
    "type(empty_set)"
   ]
  },
  {
   "cell_type": "code",
   "execution_count": 101,
   "metadata": {},
   "outputs": [
    {
     "name": "stdout",
     "output_type": "stream",
     "text": [
      "{'pear', 'apple', 'banana', 'orange'}\n"
     ]
    }
   ],
   "source": [
    "# 创建集合，注意和字典的区别\n",
    "basket = {'apple', 'orange', 'apple', 'pear', 'orange', 'banana'} # 注意元素有重复\n",
    "print(basket)"
   ]
  },
  {
   "cell_type": "code",
   "execution_count": 104,
   "metadata": {},
   "outputs": [
    {
     "name": "stdout",
     "output_type": "stream",
     "text": [
      "5312\n",
      "-1239\n",
      "3555\n",
      "-299\n"
     ]
    }
   ],
   "source": [
    "a_set = {3555, 5312, -1239, -299}  #说明集合无序的代码\n",
    "for each in a_set:\n",
    "    print(each)"
   ]
  },
  {
   "cell_type": "markdown",
   "metadata": {},
   "source": [
    "### <font size=4><span id=\"6.3.2\">6.3.2 集合修改</span></font>"
   ]
  },
  {
   "cell_type": "markdown",
   "metadata": {},
   "source": [
    "#### 6.3.2.1 增加"
   ]
  },
  {
   "cell_type": "code",
   "execution_count": 105,
   "metadata": {
    "tags": []
   },
   "outputs": [
    {
     "data": {
      "text/plain": [
       "{1, 2, 3, 4, 5, 6}"
      ]
     },
     "execution_count": 105,
     "metadata": {},
     "output_type": "execute_result"
    }
   ],
   "source": [
    "s = set([1,2,3,4,5,6,1,2,3])\n",
    "s"
   ]
  },
  {
   "cell_type": "code",
   "execution_count": 106,
   "metadata": {},
   "outputs": [
    {
     "data": {
      "text/plain": [
       "{0, 1, 2, 3, 4, 5, 6}"
      ]
     },
     "execution_count": 106,
     "metadata": {},
     "output_type": "execute_result"
    }
   ],
   "source": [
    "s.add(0)\n",
    "s"
   ]
  },
  {
   "cell_type": "code",
   "execution_count": 107,
   "metadata": {},
   "outputs": [
    {
     "data": {
      "text/plain": [
       "({1, 2, 3, 4, 5}, {4, 5, 6, 7})"
      ]
     },
     "execution_count": 107,
     "metadata": {},
     "output_type": "execute_result"
    }
   ],
   "source": [
    "s1 = {1,2,3,4,5}\n",
    "s2 = {4,5,6,7}\n",
    "s1, s2"
   ]
  },
  {
   "cell_type": "code",
   "execution_count": 108,
   "metadata": {},
   "outputs": [],
   "source": [
    "s1.update(s2) # 合并另一集合中的元素，若已存在，则忽略"
   ]
  },
  {
   "cell_type": "code",
   "execution_count": 109,
   "metadata": {},
   "outputs": [
    {
     "data": {
      "text/plain": [
       "{1, 2, 3, 4, 5, 6, 7}"
      ]
     },
     "execution_count": 109,
     "metadata": {},
     "output_type": "execute_result"
    }
   ],
   "source": [
    "s1"
   ]
  },
  {
   "cell_type": "markdown",
   "metadata": {},
   "source": [
    "#### <font size=4><span id=\"6.3.2.2\">6.3.2.2 集合修改</span></font>"
   ]
  },
  {
   "cell_type": "code",
   "execution_count": 110,
   "metadata": {
    "tags": []
   },
   "outputs": [
    {
     "ename": "KeyError",
     "evalue": "3",
     "output_type": "error",
     "traceback": [
      "\u001b[1;31m---------------------------------------------------------------------------\u001b[0m",
      "\u001b[1;31mKeyError\u001b[0m                                  Traceback (most recent call last)",
      "Cell \u001b[1;32mIn[110], line 2\u001b[0m\n\u001b[0;32m      1\u001b[0m s \u001b[38;5;241m=\u001b[39m {\u001b[38;5;241m1\u001b[39m, \u001b[38;5;241m2\u001b[39m, \u001b[38;5;241m4\u001b[39m, \u001b[38;5;241m5\u001b[39m}\n\u001b[1;32m----> 2\u001b[0m s\u001b[38;5;241m.\u001b[39mremove(\u001b[38;5;241m3\u001b[39m)\n",
      "\u001b[1;31mKeyError\u001b[0m: 3"
     ]
    }
   ],
   "source": [
    "s = {1, 2, 4, 5}\n",
    "s.remove(3)  # 删除指定元素，如果元素不存在会抛出 KeyError"
   ]
  },
  {
   "cell_type": "code",
   "execution_count": 111,
   "metadata": {
    "tags": []
   },
   "outputs": [],
   "source": [
    "s = {1, 2, 4, 5}\n",
    "s.discard(3)  # 删除指定元素，如果元素不存在不会抛出异常"
   ]
  },
  {
   "cell_type": "code",
   "execution_count": null,
   "metadata": {
    "tags": []
   },
   "outputs": [],
   "source": [
    "s = {1, 2, 3, 4, 5}\n",
    "s.pop()  # 随机删除一个元素\n",
    "s"
   ]
  },
  {
   "cell_type": "code",
   "execution_count": 112,
   "metadata": {
    "scrolled": true
   },
   "outputs": [
    {
     "name": "stdout",
     "output_type": "stream",
     "text": [
      "Help on built-in function pop:\n",
      "\n",
      "pop(...) method of builtins.set instance\n",
      "    Remove and return an arbitrary set element.\n",
      "    Raises KeyError if the set is empty.\n",
      "\n"
     ]
    }
   ],
   "source": [
    "help(s.pop)"
   ]
  },
  {
   "cell_type": "code",
   "execution_count": null,
   "metadata": {
    "tags": []
   },
   "outputs": [],
   "source": [
    "s.clear()  # 清空集合"
   ]
  },
  {
   "cell_type": "markdown",
   "metadata": {},
   "source": [
    "### <font size=4><span id=\"6.3.3\">6.3.3 成员判断</span></font>\n",
    "\n",
    "- `in` 或 `not in`"
   ]
  },
  {
   "cell_type": "code",
   "execution_count": null,
   "metadata": {},
   "outputs": [],
   "source": [
    "basket = {'apple', 'orange', 'apple', 'pear', 'orange', 'banana'} "
   ]
  },
  {
   "cell_type": "code",
   "execution_count": null,
   "metadata": {},
   "outputs": [],
   "source": [
    "'orange' in basket # 判断元素是否存在，橘子存在"
   ]
  },
  {
   "cell_type": "code",
   "execution_count": null,
   "metadata": {},
   "outputs": [],
   "source": [
    "'peach' in basket # 桃子不存在"
   ]
  },
  {
   "cell_type": "code",
   "execution_count": null,
   "metadata": {},
   "outputs": [],
   "source": [
    "'egg' not in basket"
   ]
  },
  {
   "cell_type": "markdown",
   "metadata": {},
   "source": [
    "### <font size=4><span id=\"6.3.4\">6.3.4 集合的运算</span></font>"
   ]
  },
  {
   "cell_type": "code",
   "execution_count": null,
   "metadata": {
    "tags": []
   },
   "outputs": [],
   "source": [
    "letter_set1, letter_set2"
   ]
  },
  {
   "cell_type": "code",
   "execution_count": null,
   "metadata": {
    "tags": []
   },
   "outputs": [],
   "source": [
    "# 差集\n",
    "set_diff = letter_set1 - letter_set2\n",
    "set_diff"
   ]
  },
  {
   "cell_type": "code",
   "execution_count": null,
   "metadata": {
    "tags": []
   },
   "outputs": [],
   "source": [
    "# 并集\n",
    "set_union = letter_set1 | letter_set2\n",
    "set_union"
   ]
  },
  {
   "cell_type": "code",
   "execution_count": null,
   "metadata": {
    "tags": []
   },
   "outputs": [],
   "source": [
    "# 交集\n",
    "set_intersection = letter_set1 & letter_set2\n",
    "set_intersection"
   ]
  },
  {
   "cell_type": "code",
   "execution_count": null,
   "metadata": {
    "tags": []
   },
   "outputs": [],
   "source": [
    "# 异或集 只在一个集合中出现的元素\n",
    "set_xor = letter_set1 ^ letter_set2\n",
    "set_xor"
   ]
  },
  {
   "cell_type": "code",
   "execution_count": null,
   "metadata": {
    "tags": []
   },
   "outputs": [],
   "source": [
    "# 检查子集关系\n",
    "\n",
    "set([1,2,3]) <= set([1,2,3,4]) # 前者是后者的子集"
   ]
  },
  {
   "cell_type": "code",
   "execution_count": null,
   "metadata": {
    "tags": []
   },
   "outputs": [],
   "source": [
    "set([1,2,3]) < set([1,2,3]) # 前者不是后者的真子集"
   ]
  },
  {
   "cell_type": "code",
   "execution_count": null,
   "metadata": {
    "tags": []
   },
   "outputs": [],
   "source": [
    "set1 = {1, 2, 3}\n",
    "set2 = {2, 4, 6}\n",
    "set3 = set1.union(set2) # 并集\n",
    "set3"
   ]
  },
  {
   "cell_type": "code",
   "execution_count": null,
   "metadata": {
    "tags": []
   },
   "outputs": [],
   "source": [
    "set4 = set1.intersection(set2)  # 交集\n",
    "set4"
   ]
  },
  {
   "cell_type": "code",
   "execution_count": null,
   "metadata": {
    "tags": []
   },
   "outputs": [],
   "source": [
    "set5 = set1.difference(set2)  # 差集\n",
    "set5"
   ]
  },
  {
   "cell_type": "code",
   "execution_count": null,
   "metadata": {
    "tags": []
   },
   "outputs": [],
   "source": [
    "set6 = set1.symmetric_difference(set2)  # 异或集\n",
    "set6"
   ]
  },
  {
   "cell_type": "markdown",
   "metadata": {
    "tags": []
   },
   "source": [
    "<img src=\"images\\chapter06\\set_calc.png\" width=800>"
   ]
  },
  {
   "cell_type": "markdown",
   "metadata": {},
   "source": [
    "### <font size=4><span id=\"6.3.5\">6.3.5 集合的推理</span></font>"
   ]
  },
  {
   "cell_type": "code",
   "execution_count": 113,
   "metadata": {
    "tags": []
   },
   "outputs": [
    {
     "data": {
      "text/plain": [
       "{'a', 'b', 'c', 'd', 'e', 'f', 'g', 'h', 'i'}"
      ]
     },
     "execution_count": 113,
     "metadata": {},
     "output_type": "execute_result"
    }
   ],
   "source": [
    "a = {e for e in 'abcdefghiABC' if e not in 'ABC'}\n",
    "a"
   ]
  },
  {
   "cell_type": "markdown",
   "metadata": {},
   "source": [
    "### <font size=4><span id=\"6.3.6\">6.3.6 集合的遍历</span></font>"
   ]
  },
  {
   "cell_type": "code",
   "execution_count": null,
   "metadata": {},
   "outputs": [],
   "source": [
    "basket = {'apple', 'orange', 'apple', 'pear', 'orange', 'banana'}\n",
    "for fruit in basket:\n",
    "    print(fruit)"
   ]
  },
  {
   "cell_type": "markdown",
   "metadata": {},
   "source": [
    "### <font size=4><span id=\"6.3.7\">6.3.7 frozenset()</span></font>\n",
    "- 有时候希望集合不能随意增加或者删除，可以定义成不可变集合\n"
   ]
  },
  {
   "cell_type": "code",
   "execution_count": 114,
   "metadata": {},
   "outputs": [],
   "source": [
    "set1 = frozenset({1, 2, 3, 4, 5})"
   ]
  },
  {
   "cell_type": "code",
   "execution_count": 115,
   "metadata": {},
   "outputs": [
    {
     "data": {
      "text/plain": [
       "frozenset"
      ]
     },
     "execution_count": 115,
     "metadata": {},
     "output_type": "execute_result"
    }
   ],
   "source": [
    "type(set1)"
   ]
  },
  {
   "cell_type": "code",
   "execution_count": 116,
   "metadata": {},
   "outputs": [
    {
     "data": {
      "text/plain": [
       "frozenset({1, 2, 3, 4, 5})"
      ]
     },
     "execution_count": 116,
     "metadata": {},
     "output_type": "execute_result"
    }
   ],
   "source": [
    "set1"
   ]
  },
  {
   "cell_type": "code",
   "execution_count": 117,
   "metadata": {},
   "outputs": [
    {
     "ename": "AttributeError",
     "evalue": "'frozenset' object has no attribute 'add'",
     "output_type": "error",
     "traceback": [
      "\u001b[1;31m---------------------------------------------------------------------------\u001b[0m",
      "\u001b[1;31mAttributeError\u001b[0m                            Traceback (most recent call last)",
      "Cell \u001b[1;32mIn[117], line 1\u001b[0m\n\u001b[1;32m----> 1\u001b[0m set1\u001b[38;5;241m.\u001b[39madd(\u001b[38;5;241m6\u001b[39m)\n",
      "\u001b[1;31mAttributeError\u001b[0m: 'frozenset' object has no attribute 'add'"
     ]
    }
   ],
   "source": [
    "set1.add(6)"
   ]
  },
  {
   "cell_type": "markdown",
   "metadata": {
    "tags": []
   },
   "source": [
    "[返回目录](#mulu6)"
   ]
  },
  {
   "cell_type": "markdown",
   "metadata": {
    "tags": []
   },
   "source": [
    "## <font size=5><span id=\"6.4\"> 6.4 序列容器的常用函数</span></font>"
   ]
  },
  {
   "cell_type": "markdown",
   "metadata": {},
   "source": [
    "### <font size=4><span id=\"6.4.1\"> 6.4.1 `max(list_obj)` 和 `min(list_obj)` 函数</span></font>\n",
    "\n",
    "- 功能\n",
    "\n",
    "    - `max` 函数 —— 返回序列或者参数集合中的最大值\n",
    "    - `min` 函数 —— 返回序列或者参数集合中的最小值"
   ]
  },
  {
   "cell_type": "markdown",
   "metadata": {},
   "source": [
    "#### 例  求列表最大、小值"
   ]
  },
  {
   "cell_type": "code",
   "execution_count": 118,
   "metadata": {},
   "outputs": [
    {
     "data": {
      "text/plain": [
       "(76, -59)"
      ]
     },
     "execution_count": 118,
     "metadata": {},
     "output_type": "execute_result"
    }
   ],
   "source": [
    "int_list = [1, 18, 23, -59, 32, 76, 20]\n",
    "max(int_list), min(int_list)"
   ]
  },
  {
   "cell_type": "code",
   "execution_count": 120,
   "metadata": {},
   "outputs": [],
   "source": [
    "my_str = \"I Love China.com\""
   ]
  },
  {
   "cell_type": "code",
   "execution_count": 121,
   "metadata": {},
   "outputs": [
    {
     "data": {
      "text/plain": [
       "('v', ' ')"
      ]
     },
     "execution_count": 121,
     "metadata": {},
     "output_type": "execute_result"
    }
   ],
   "source": [
    "max(my_str), min(my_str)"
   ]
  },
  {
   "cell_type": "markdown",
   "metadata": {},
   "source": [
    "#### 注意\n",
    "\n",
    "\n",
    "- 调用函数 `max` 和 `min`，要求\n",
    "    - 必须有比较运算\n",
    "    - 必须保证序列或参数的数据类型统一；或者说\"可以比较\""
   ]
  },
  {
   "cell_type": "markdown",
   "metadata": {},
   "source": [
    "#### 例 比较出错"
   ]
  },
  {
   "cell_type": "code",
   "execution_count": 122,
   "metadata": {},
   "outputs": [],
   "source": [
    "mix_list = [1, 3, 'C', 9, 7.5]"
   ]
  },
  {
   "cell_type": "code",
   "execution_count": 123,
   "metadata": {},
   "outputs": [
    {
     "ename": "TypeError",
     "evalue": "'>' not supported between instances of 'str' and 'int'",
     "output_type": "error",
     "traceback": [
      "\u001b[1;31m---------------------------------------------------------------------------\u001b[0m",
      "\u001b[1;31mTypeError\u001b[0m                                 Traceback (most recent call last)",
      "Cell \u001b[1;32mIn[123], line 1\u001b[0m\n\u001b[1;32m----> 1\u001b[0m \u001b[38;5;28mmax\u001b[39m(mix_list)\n",
      "\u001b[1;31mTypeError\u001b[0m: '>' not supported between instances of 'str' and 'int'"
     ]
    }
   ],
   "source": [
    "max(mix_list)   # 报错"
   ]
  },
  {
   "cell_type": "code",
   "execution_count": null,
   "metadata": {},
   "outputs": [],
   "source": [
    "new_list = [each for each in mix_list if isinstance(each,(int, float))]  #isinstance 前者是不是后者的实例\n",
    "new_list"
   ]
  },
  {
   "cell_type": "code",
   "execution_count": null,
   "metadata": {},
   "outputs": [],
   "source": [
    "max(new_list)"
   ]
  },
  {
   "cell_type": "markdown",
   "metadata": {},
   "source": [
    "### <font size=4><span id=\"6.4.2\"> 6.4.2 `sum()` 求和函数</span></font>\n",
    "\n",
    "- 语法\n",
    "```python\n",
    ">>> sum(iterable, start) # 默认从零开始  #起始就有一个值了。start+sum\n",
    "```\n",
    "\n",
    "- 参数\n",
    "    - iterable 数值容器\n",
    "    - start 起始值"
   ]
  },
  {
   "cell_type": "markdown",
   "metadata": {},
   "source": [
    "#### 例 容器求和"
   ]
  },
  {
   "cell_type": "code",
   "execution_count": 127,
   "metadata": {},
   "outputs": [
    {
     "name": "stdout",
     "output_type": "stream",
     "text": [
      "15\n"
     ]
    }
   ],
   "source": [
    "a = [1, 2, 3, 4, 5]\n",
    "print(sum(a))"
   ]
  },
  {
   "cell_type": "code",
   "execution_count": null,
   "metadata": {},
   "outputs": [],
   "source": [
    "a_tuple = 1, 2, 3, 4, 5,\n",
    "sum(a_tuple)"
   ]
  },
  {
   "cell_type": "code",
   "execution_count": null,
   "metadata": {},
   "outputs": [],
   "source": [
    "sum(a_tuple, 2)  # 表示从 2 开始加，也就是结果加了一个起始值2"
   ]
  },
  {
   "cell_type": "markdown",
   "metadata": {},
   "source": [
    "### <font size=4><span id=\"6.4.3\">6.4.3 `sorted` 函数和 `reversed` 函数 (简介)</span></font>\n",
    "\n",
    "- 功能\n",
    "    - `sorted` 排序\n",
    "    - `reversed` 逆序\n",
    "    \n",
    "\n",
    "- 注意 —— 与 `sort` 和 `reverse` 的区别（自阅）"
   ]
  },
  {
   "cell_type": "markdown",
   "metadata": {},
   "source": [
    "#### 例 `sorted` 函数示例"
   ]
  },
  {
   "cell_type": "code",
   "execution_count": 128,
   "metadata": {},
   "outputs": [],
   "source": [
    "list1 =  [1, 9, 8, 6, 4, 5, 3, 7, 2]"
   ]
  },
  {
   "cell_type": "code",
   "execution_count": 129,
   "metadata": {},
   "outputs": [
    {
     "data": {
      "text/plain": [
       "[1, 2, 3, 4, 5, 6, 7, 8, 9]"
      ]
     },
     "execution_count": 129,
     "metadata": {},
     "output_type": "execute_result"
    }
   ],
   "source": [
    "list1.sort()\n",
    "list1"
   ]
  },
  {
   "cell_type": "code",
   "execution_count": 130,
   "metadata": {},
   "outputs": [
    {
     "data": {
      "text/plain": [
       "[1, 2, 3, 4, 5, 6, 7, 8, 9]"
      ]
     },
     "execution_count": 130,
     "metadata": {},
     "output_type": "execute_result"
    }
   ],
   "source": [
    "list1 =  [1, 9, 8, 6, 4, 5, 3, 7, 2]\n",
    "sorted(list1)"
   ]
  },
  {
   "cell_type": "code",
   "execution_count": 131,
   "metadata": {},
   "outputs": [
    {
     "data": {
      "text/plain": [
       "[1, 9, 8, 6, 4, 5, 3, 7, 2]"
      ]
     },
     "execution_count": 131,
     "metadata": {},
     "output_type": "execute_result"
    }
   ],
   "source": [
    "list1"
   ]
  },
  {
   "cell_type": "code",
   "execution_count": null,
   "metadata": {},
   "outputs": [],
   "source": [
    "# 课堂练习\n",
    "# 有如下整数，其每一位数依次增大（或相等），或者依次降低（或相等），称之为有序数\n",
    "# 有序数如：12344456899  755433320 \n",
    "# 非有序数为: 12324 \n",
    "# 请判断以下整数是否为有序数\n",
    "number = 1234446899\n",
    "\n",
    "\n",
    "\n",
    "\n",
    "# think !!!!!!!\n",
    "number1 = list(str(number))\n",
    "number2 = list(str(number))\n",
    "number1.sort()\n",
    "number2.sort(reverse = True)\n",
    "\n",
    "if str(number) == \"\".join(number1) or  str(number) == \"\".join(number2):\n",
    "    print(number,\"is an orded number\")\n",
    "else:\n",
    "    print(number,\"is NOT an orded number.\")"
   ]
  },
  {
   "cell_type": "markdown",
   "metadata": {},
   "source": [
    "### <font size=4><span id=\"6.4.4\">6.4.4 `enumerate` 函数</span></font>\n",
    "\n",
    "- 语义 —— 列举、枚举\n",
    "- 功能 —— 生成二元组 构成的迭代对象"
   ]
  },
  {
   "cell_type": "markdown",
   "metadata": {},
   "source": [
    "#### 例 `enumerate` 应用示例"
   ]
  },
  {
   "cell_type": "code",
   "execution_count": null,
   "metadata": {},
   "outputs": [],
   "source": [
    "str1 = \"I Love Tongji\"\n",
    "for each in enumerate(str1):\n",
    "    print(each)"
   ]
  },
  {
   "cell_type": "code",
   "execution_count": null,
   "metadata": {},
   "outputs": [],
   "source": [
    "enumerate(str1)"
   ]
  },
  {
   "cell_type": "code",
   "execution_count": null,
   "metadata": {},
   "outputs": [],
   "source": [
    "str1 = \"I Love Tongji\"\n",
    "for index, character in enumerate(str1):\n",
    "    print(\"第 %d 个字符是 %c\" % (index, character))"
   ]
  },
  {
   "cell_type": "markdown",
   "metadata": {},
   "source": [
    "### <font size=4><span id=\"6.5.5\">6.5.5 `zip` 函数</span></font>\n",
    "\n",
    "- 功能\n",
    "    - 返回有各个可迭代参数共同组成的元组"
   ]
  },
  {
   "cell_type": "markdown",
   "metadata": {},
   "source": [
    "#### 例 26 `zip` 函数应用示例\n",
    "\n",
    "- 列表打包"
   ]
  },
  {
   "cell_type": "code",
   "execution_count": null,
   "metadata": {},
   "outputs": [],
   "source": [
    "list1 = [1, 2, 3, 4, 5, 6, 7]"
   ]
  },
  {
   "cell_type": "code",
   "execution_count": null,
   "metadata": {},
   "outputs": [],
   "source": [
    "str1 = \"I Love Tongji\""
   ]
  },
  {
   "cell_type": "code",
   "execution_count": null,
   "metadata": {},
   "outputs": [],
   "source": [
    "# 注意 list1 和 str1 不等长\n",
    "print (len(list1))\n",
    "print (len(str1))"
   ]
  },
  {
   "cell_type": "code",
   "execution_count": null,
   "metadata": {},
   "outputs": [],
   "source": [
    "# 取短的长度，长的被截掉\n",
    "for each in zip(list1, str1):\n",
    "    print(each)"
   ]
  },
  {
   "cell_type": "code",
   "execution_count": null,
   "metadata": {},
   "outputs": [],
   "source": [
    "tuple1 = (2, 4, 6, 8, 10)\n",
    "for each in zip(list1, str1, tuple1):\n",
    "    print(each)"
   ]
  },
  {
   "cell_type": "code",
   "execution_count": null,
   "metadata": {},
   "outputs": [],
   "source": [
    "# 打包三个容器\n",
    "tuple1 = (2, 4, 6, 8, 10)\n",
    "for a,b,c in zip(list1, str1, tuple1):\n",
    "    print(a,b,c)"
   ]
  },
  {
   "cell_type": "code",
   "execution_count": null,
   "metadata": {},
   "outputs": [],
   "source": [
    "## zip练习\n",
    "# 请生成一个zip对象，左列为1~26，右列为大写英文字母\n",
    "# 逐行输出，第一个为数字，第二列为字母\n",
    "\n",
    "order = zip(list(range(1,27)),'ABCDEFGHIJKLMNOPQRSTUVWXYZ')\n",
    "for a,b in order:\n",
    "    print(\"{0:2d}<-->{1}\".format(a,b))"
   ]
  },
  {
   "cell_type": "markdown",
   "metadata": {
    "tags": []
   },
   "source": [
    "[返回目录](#mulu6)"
   ]
  },
  {
   "cell_type": "markdown",
   "metadata": {},
   "source": [
    "<img src=\"images\\chapter06\\str-mindmap-left.png\">\n",
    "<img src=\"images\\chapter06\\str-mindmap-right.png\">"
   ]
  },
  {
   "cell_type": "markdown",
   "metadata": {},
   "source": [
    "<img src=\"images\\chapter06\\dict_set_mindmap.png\">"
   ]
  },
  {
   "cell_type": "markdown",
   "metadata": {
    "tags": []
   },
   "source": [
    "### 本章结束"
   ]
  },
  {
   "cell_type": "markdown",
   "metadata": {
    "tags": []
   },
   "source": [
    "[返回目录](#mulu6)"
   ]
  }
 ],
 "metadata": {
  "celltoolbar": "Raw Cell Format",
  "kernelspec": {
   "display_name": "Python 3 (ipykernel)",
   "language": "python",
   "name": "python3"
  },
  "language_info": {
   "codemirror_mode": {
    "name": "ipython",
    "version": 3
   },
   "file_extension": ".py",
   "mimetype": "text/x-python",
   "name": "python",
   "nbconvert_exporter": "python",
   "pygments_lexer": "ipython3",
   "version": "3.11.7"
  },
  "toc": {
   "base_numbering": 1,
   "nav_menu": {},
   "number_sections": false,
   "sideBar": true,
   "skip_h1_title": false,
   "title_cell": "Table of Contents",
   "title_sidebar": "Contents",
   "toc_cell": false,
   "toc_position": {},
   "toc_section_display": true,
   "toc_window_display": false
  }
 },
 "nbformat": 4,
 "nbformat_minor": 4
}
