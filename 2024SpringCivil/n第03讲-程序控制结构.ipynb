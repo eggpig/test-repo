{
 "cells": [
  {
   "cell_type": "markdown",
   "metadata": {},
   "source": [
    "# 第03讲 程序控制结构"
   ]
  },
  {
   "cell_type": "markdown",
   "metadata": {},
   "source": [
    "<span id=\"mulu3\"><font face=\"黑体\" size=5>本章目录</font></span>\n",
    "* [第03讲 程序控制结构](#3)\n",
    "    * [3.1 if系列语句](#3.1)\n",
    "        * [3.1.1 if语句](#3.1.1)\n",
    "        * [3.1.2 if-else语句](#3.1.2)\n",
    "        * [3.1.3 if-elif-else语句](#3.1.3)\n",
    "    * [3.2 for循环语句](#3.2)\n",
    "        * [3.2.1 按列表、字典、元组项的for循环](#3.2.1)\n",
    "        * [3.2.2 range()函数控制的for循环](#3.2.2)\n",
    "        * [3.2.3 非递增整数列表项循环](#3.2.3)\n",
    "        * [3.2.4 break和continue语句](#3.2.4)\n",
    "        * [3.2.5 else分句](#3.2.5)\n",
    "    * [3.3 while循环语句](#3.3)\n",
    "        * [3.3.1 while语句用于不指定次数的循环](#3.3.1)\n",
    "        * [3.3.2 else分句](#3.3.2)\n",
    "        * [3.3.3 break和continue语句](#3.3.3)\n",
    "        * [3.3.4 pass语句](#3.3.4)\n",
    "    * [3.4 match-case多分支语句](#3.4)\n",
    "    * [3.5 控制语句嵌套](#3.5)\n",
    "        * [3.5.1 多层for循环](#3.5.1)\n",
    "        * [3.5.2 多层控制结构](#3.5.2)\n",
    "    * [3.6 迭代器iterator](#3.6)    \n",
    "        * [3.6.1 迭代器的创建-iter()方法](#3.6.1)\n",
    "        * [3.6.2 迭代器的遍历方法](#3.6.2)\n",
    "    * [3.7 更灵活的应用示例](#3.7)    \n",
    "        * [3.7.1 漂亮的循环语句](#3.7.1)\n",
    "        * [3.7.2 同时遍历元素和下标](#3.7.2)   \n",
    "    * [3.8 更灵活的应用示例](#3.8)    \n",
    "        * [3.8.1 语法错误](#3.8.1)\n",
    "        * [3.8.2 逻辑错误](#3.8.2)   \n",
    "        "
   ]
  },
  {
   "cell_type": "markdown",
   "metadata": {
    "tags": []
   },
   "source": [
    "## <font size=5> <span id=\"3.1\"> 3.1 `if` 系列语句 —— 最常见的条件控制语句</span></font>"
   ]
  },
  {
   "cell_type": "markdown",
   "metadata": {},
   "source": [
    "### <font size=4><span id=\"3.1.1\"> 3.1.1 `if`语句</span></font>\n",
    "\n",
    "- 语法\n",
    "```python\n",
    "if condition:\n",
    "      statement_1\n",
    "      ...\n",
    "      statement_n\n",
    "```\n",
    "\n",
    "\n",
    "- 用法 —— **condition** 为 **True** 时，执行语句块\n",
    "    "
   ]
  },
  {
   "cell_type": "markdown",
   "metadata": {},
   "source": [
    "#### 例 1 简单 if 语句"
   ]
  },
  {
   "cell_type": "code",
   "execution_count": null,
   "metadata": {},
   "outputs": [],
   "source": [
    "a = -5\n",
    "if a > 0:\n",
    "    print (\"{a1} 是正数！\".format(a1=a))"
   ]
  },
  {
   "cell_type": "markdown",
   "metadata": {},
   "source": [
    "### <font size=4><span id=\"3.1.2\"> 3.1.2 `if-else`语句</span></font>\n",
    "\n",
    "- 语法\n",
    "```python\n",
    "if condition:\n",
    "      statement_block_1\n",
    "else:\n",
    "      statement_block_2\n",
    "```\n",
    "\n",
    "\n",
    "- 用法\n",
    "    - **condition** 为 **True** 时，执行语句块 statement_block_1\n",
    "    - 否则，执行语句块 statement_block_2    "
   ]
  },
  {
   "cell_type": "markdown",
   "metadata": {},
   "source": [
    "#### 例 2 判断是否正数？"
   ]
  },
  {
   "cell_type": "code",
   "execution_count": 1,
   "metadata": {},
   "outputs": [
    {
     "name": "stdout",
     "output_type": "stream",
     "text": [
      "请输入一个整数：20\n",
      "您输入的是正数： 20\n"
     ]
    }
   ],
   "source": [
    "x = int(input(\"请输入一个整数：\"))\n",
    "\n",
    "if x > 0:\n",
    "    print('您输入的是正数：',x)\n",
    "else:\n",
    "    print('您输入的是非正数：',x)"
   ]
  },
  {
   "cell_type": "markdown",
   "metadata": {},
   "source": [
    "### <font size=4><span id=\"3.1.3\"> 3.1.3 `if-elif-else`语句</span></font>\n",
    "\n",
    "- 语法\n",
    "```python\n",
    "if condition_1:\n",
    "      statement_block_1\n",
    "elif condition_2:\n",
    "      statement_block_2\n",
    "else:\n",
    "      statement_block_3\n",
    "```\n",
    "\n",
    "\n",
    "- 用法\n",
    "    - **condition_1** 为 **True** 时，执行语句块 statement_block_1\n",
    "    - 否则\n",
    "        - **condition_2** 为 **True** 时，执行语句块 statement_block_2\n",
    "        - 否则，执行语句块 statement_block_3\n",
    "\n",
    "\n",
    "- 注意\n",
    "    - 可以有多个 **elif** 分支，依次判断\n",
    "    - 只执行一个分支"
   ]
  },
  {
   "cell_type": "markdown",
   "metadata": {},
   "source": [
    "#### 例 3 判断正、负或零？"
   ]
  },
  {
   "cell_type": "code",
   "execution_count": 2,
   "metadata": {},
   "outputs": [
    {
     "name": "stdout",
     "output_type": "stream",
     "text": [
      "请输入一个整数：20\n",
      "您输入的是正数： 20\n"
     ]
    }
   ],
   "source": [
    "x = int(input(\"请输入一个整数：\"))\n",
    "\n",
    "if x < 0:\n",
    "    print('您输入的是负数：',x)\n",
    "elif x == 0:\n",
    "    print('您输入的是零：',x)\n",
    "else:\n",
    "    print('您输入的是正数：',x)"
   ]
  },
  {
   "cell_type": "markdown",
   "metadata": {},
   "source": [
    "### 课堂演练01：\n",
    "要求：输入一个4位整数，作为年份，判断该年份是否为闰年，并输出相应语句。\n"
   ]
  },
  {
   "cell_type": "code",
   "execution_count": 6,
   "metadata": {
    "scrolled": true
   },
   "outputs": [
    {
     "name": "stdout",
     "output_type": "stream",
     "text": [
      "Pls. input a year: 2024\n",
      "2024 is a leap year.\n"
     ]
    }
   ],
   "source": [
    "### 现场完成代码\n",
    "year = int(input(\"Pls. input a year: \"))\n",
    "if (year%400 == 0) or ((year%4 == 0) and (year%100 != 0)):\n",
    "    print(\"{0} is a leap year.\".format(year))\n",
    "else:\n",
    "    print(\"{0} is not a leap year.\".format(year))"
   ]
  },
  {
   "cell_type": "markdown",
   "metadata": {},
   "source": [
    "[返回目录](#mulu3)"
   ]
  },
  {
   "cell_type": "markdown",
   "metadata": {},
   "source": [
    "## <font size=5> <span id=\"3.2\"> 3.2 **for** 循环语句</span></font>\n",
    "\n",
    "- `Python`的 `for` 循环语句不同于 `C/C++` 语言，循环可以按连续变化整数、列表项、字符串开展\n",
    "\n",
    "<img src=\"images/chapter03/python_for_loop.jpg\" width=300>"
   ]
  },
  {
   "cell_type": "markdown",
   "metadata": {
    "toc-hr-collapsed": true
   },
   "source": [
    "### <font size=4><span id=\"3.2.1\"> 3.2.1 按列表、字典、元组项的 for 循环</span></font>\n",
    "- 语法\n",
    "```python\n",
    "for item in some_list:\n",
    "      do_something\n",
    "```"
   ]
  },
  {
   "cell_type": "markdown",
   "metadata": {},
   "source": [
    "#### 列表简介\n",
    "\n",
    "- 一种容器，其中的元素顺序排列\n",
    "- 第5讲将详细介绍"
   ]
  },
  {
   "cell_type": "code",
   "execution_count": 8,
   "metadata": {},
   "outputs": [
    {
     "data": {
      "text/plain": [
       "[1, 2, 3, 4, 5]"
      ]
     },
     "execution_count": 8,
     "metadata": {},
     "output_type": "execute_result"
    }
   ],
   "source": [
    "list_1 = [1,2,3,4,5]\n",
    "list_1"
   ]
  },
  {
   "cell_type": "code",
   "execution_count": 9,
   "metadata": {},
   "outputs": [
    {
     "data": {
      "text/plain": [
       "3"
      ]
     },
     "execution_count": 9,
     "metadata": {},
     "output_type": "execute_result"
    }
   ],
   "source": [
    "count = 0\n",
    "for item in list_1:  #遍历\n",
    "    if item >= 3:\n",
    "        count += 1\n",
    "count"
   ]
  },
  {
   "cell_type": "markdown",
   "metadata": {},
   "source": [
    "#### 例 4a 对字符串列表循环"
   ]
  },
  {
   "cell_type": "code",
   "execution_count": 10,
   "metadata": {},
   "outputs": [
    {
     "name": "stdout",
     "output_type": "stream",
     "text": [
      "cat 3\n",
      "tiger 5\n",
      "elephant 8\n"
     ]
    }
   ],
   "source": [
    "words_list = ['cat', 'tiger', 'elephant']\n",
    "for word in words_list:\n",
    "    print(word, len(word))"
   ]
  },
  {
   "cell_type": "code",
   "execution_count": 11,
   "metadata": {},
   "outputs": [
    {
     "name": "stdout",
     "output_type": "stream",
     "text": [
      "T\n",
      "G\n",
      "I\n",
      "F\n",
      "!\n"
     ]
    }
   ],
   "source": [
    "string = ['T','G','I','F','!']\n",
    "for item in string:\n",
    "    print(item)"
   ]
  },
  {
   "cell_type": "markdown",
   "metadata": {},
   "source": [
    "#### 例 4b 对元组循环"
   ]
  },
  {
   "cell_type": "code",
   "execution_count": 12,
   "metadata": {},
   "outputs": [
    {
     "name": "stdout",
     "output_type": "stream",
     "text": [
      "cat 3\n",
      "tiger 5\n",
      "elephant 8\n"
     ]
    }
   ],
   "source": [
    "words_tuple = ('cat', 'tiger', 'elephant')\n",
    "for word in words_tuple:\n",
    "    print(word, len(word))"
   ]
  },
  {
   "cell_type": "markdown",
   "metadata": {},
   "source": [
    "#### 例 4c 对字典列表循环"
   ]
  },
  {
   "cell_type": "code",
   "execution_count": 13,
   "metadata": {},
   "outputs": [
    {
     "name": "stdout",
     "output_type": "stream",
     "text": [
      "e\n",
      "b\n",
      "c\n",
      "d\n",
      "a\n"
     ]
    }
   ],
   "source": [
    "dicta = {'e': 5, 'b':2, 'c':3, 'd':4, 'a':1}\n",
    "for each in dicta:\n",
    "    print(each)"
   ]
  },
  {
   "cell_type": "code",
   "execution_count": null,
   "metadata": {},
   "outputs": [],
   "source": [
    "dicta.keys()"
   ]
  },
  {
   "cell_type": "code",
   "execution_count": null,
   "metadata": {},
   "outputs": [],
   "source": [
    "dicta.values()"
   ]
  },
  {
   "cell_type": "code",
   "execution_count": null,
   "metadata": {},
   "outputs": [],
   "source": [
    "dicta.items()"
   ]
  },
  {
   "cell_type": "code",
   "execution_count": 14,
   "metadata": {},
   "outputs": [
    {
     "name": "stdout",
     "output_type": "stream",
     "text": [
      "a\n",
      "b\n",
      "c\n",
      "d\n",
      "e\n"
     ]
    }
   ],
   "source": [
    "dicta = {'a': 1, 'b':2, 'c':3, 'd':4, 'e':5}\n",
    "for k in dicta.keys():\n",
    "    print(k)"
   ]
  },
  {
   "cell_type": "code",
   "execution_count": 15,
   "metadata": {},
   "outputs": [
    {
     "name": "stdout",
     "output_type": "stream",
     "text": [
      "1\n",
      "2\n",
      "3\n",
      "4\n",
      "5\n"
     ]
    }
   ],
   "source": [
    "dicta = {'a': 1, 'b':2, 'c':3, 'd':4, 'e':5}\n",
    "for v in dicta.values():\n",
    "    print(v)"
   ]
  },
  {
   "cell_type": "code",
   "execution_count": 16,
   "metadata": {},
   "outputs": [
    {
     "name": "stdout",
     "output_type": "stream",
     "text": [
      "a:1\n",
      "b:2\n",
      "c:3\n",
      "d:4\n",
      "e:5\n"
     ]
    }
   ],
   "source": [
    "dicta = {'a': 1, 'b':2, 'c':3, 'd':4, 'e':5}\n",
    "for k,v in dicta.items():\n",
    "    print(k+\":\"+str(v))"
   ]
  },
  {
   "cell_type": "code",
   "execution_count": 19,
   "metadata": {},
   "outputs": [
    {
     "name": "stdout",
     "output_type": "stream",
     "text": [
      "d\n",
      "c\n",
      "b\n",
      "a\n"
     ]
    }
   ],
   "source": [
    "seta = {\"a\", \"b\", \"c\", \"d\"}\n",
    "for each in seta:\n",
    "    print(each)"
   ]
  },
  {
   "cell_type": "markdown",
   "metadata": {
    "toc-hr-collapsed": true
   },
   "source": [
    "### <font size=4><span id=\"3.2.2\"> 3.2.2 `range()` 函数控制的 `for` 循环</span></font>\n",
    "\n",
    "- `range` 的语法\n",
    "```python\n",
    "range(stop)\n",
    "range(start,stop[, step]) \n",
    "```\n",
    "\n",
    "\n",
    "- 作用 —— 生成等差变化的整数序列\n",
    "    - 从 0 或 start 开始\n",
    "    - 不超过 stop\n",
    "    - step 为步长\n",
    "\n",
    "\n",
    "\n",
    "- 注意 —— 左闭右开\n",
    "\n",
    "\n",
    "\n",
    "- `for` 的语法\n",
    "```python\n",
    "for item in some_range:\n",
    "      do_something\n",
    "```"
   ]
  },
  {
   "cell_type": "markdown",
   "metadata": {},
   "source": [
    "#### 例 5 从 0 开始的整数序列"
   ]
  },
  {
   "cell_type": "code",
   "execution_count": 21,
   "metadata": {},
   "outputs": [
    {
     "name": "stdout",
     "output_type": "stream",
     "text": [
      "0\n",
      "1\n",
      "2\n",
      "3\n",
      "4\n"
     ]
    }
   ],
   "source": [
    "range(5) #0,1,2,3,4\n",
    "for i in range(5):\n",
    "    print(i)"
   ]
  },
  {
   "cell_type": "code",
   "execution_count": null,
   "metadata": {},
   "outputs": [],
   "source": [
    "type(range(5))"
   ]
  },
  {
   "cell_type": "code",
   "execution_count": null,
   "metadata": {},
   "outputs": [],
   "source": [
    "for i in range(5):\n",
    "    print(i)"
   ]
  },
  {
   "cell_type": "markdown",
   "metadata": {},
   "source": [
    "#### 例 6 左闭右开的整数序列\n",
    "\n",
    "- 注意右开特性"
   ]
  },
  {
   "cell_type": "code",
   "execution_count": 22,
   "metadata": {},
   "outputs": [
    {
     "name": "stdout",
     "output_type": "stream",
     "text": [
      "2 3 4 5 6 7 "
     ]
    }
   ],
   "source": [
    "for i in range(2, 8):  #[2, 8)\n",
    "    print(i,end=' ')"
   ]
  },
  {
   "cell_type": "markdown",
   "metadata": {},
   "source": [
    "#### 例 7 步长的作用"
   ]
  },
  {
   "cell_type": "code",
   "execution_count": 23,
   "metadata": {},
   "outputs": [
    {
     "name": "stdout",
     "output_type": "stream",
     "text": [
      "1\n",
      "3\n",
      "5\n",
      "7\n"
     ]
    }
   ],
   "source": [
    "for i in range(1,9,2):\n",
    "    print(i)"
   ]
  },
  {
   "cell_type": "markdown",
   "metadata": {},
   "source": [
    "#### 例 8 步长为负时"
   ]
  },
  {
   "cell_type": "code",
   "execution_count": 24,
   "metadata": {},
   "outputs": [
    {
     "name": "stdout",
     "output_type": "stream",
     "text": [
      "10\n",
      "8\n",
      "6\n",
      "4\n",
      "2\n"
     ]
    }
   ],
   "source": [
    "for i in range(10, 0, -2):\n",
    "    print(i)"
   ]
  },
  {
   "cell_type": "code",
   "execution_count": null,
   "metadata": {},
   "outputs": [],
   "source": [
    "print(type(range(1,8,2)))\n",
    "range(1,8,2)"
   ]
  },
  {
   "cell_type": "markdown",
   "metadata": {},
   "source": [
    "#### 例 9 抢红包的例子"
   ]
  },
  {
   "cell_type": "markdown",
   "metadata": {},
   "source": [
    "- 经典面试题，如何设计抢红包的算法"
   ]
  },
  {
   "cell_type": "code",
   "execution_count": 25,
   "metadata": {},
   "outputs": [
    {
     "name": "stdout",
     "output_type": "stream",
     "text": [
      "红包人数：8\n",
      "红包总额（元）：200\n",
      "第 1个好友抢到 30.40元\n",
      "第 2个好友抢到 31.78元\n",
      "第 3个好友抢到 24.87元\n",
      "第 4个好友抢到 27.29元\n",
      "第 5个好友抢到 21.42元\n",
      "第 6个好友抢到  6.56元\n",
      "第 7个好友抢到 26.25元\n",
      "第 8个好友抢到 31.43元\n"
     ]
    }
   ],
   "source": [
    "# 版本1.0\n",
    "import random\n",
    "\n",
    "num_person = int(input(\"红包人数：\"))\n",
    "total_money = float(input(\"红包总额（元）：\"))\n",
    "\n",
    "scale = []\n",
    "divide = []\n",
    "\n",
    "sum1 = 0\n",
    "for i in range(num_person):\n",
    "    scale.append(random.randint(1,100))\n",
    "    sum1 += scale[i]\n",
    "\n",
    "for i in range(num_person):\n",
    "    divide.append(total_money * scale[i]/sum1)\n",
    "    print(\"第%2d个好友抢到%6.2f元\" % (i+1,divide[i]))\n"
   ]
  },
  {
   "cell_type": "markdown",
   "metadata": {},
   "source": [
    "- 思考一下，这个程序可否进一步优化"
   ]
  },
  {
   "cell_type": "markdown",
   "metadata": {
    "toc-hr-collapsed": true
   },
   "source": [
    "### <font size=4><span id=\"3.2.3\"> 3.2.3 非递增整数列表项循环</span></font>\n",
    "- 语法\n",
    "```python\n",
    ">>> for a_num in num_list:\n",
    ">>>     do_something\n",
    "```\n",
    "\n",
    "\n",
    "- 作用 —— 依次对列表项循环\n",
    "\n",
    "\n",
    "\n",
    "- 注意 —— 遍历列表"
   ]
  },
  {
   "cell_type": "markdown",
   "metadata": {},
   "source": [
    "#### 例 10 遍历列表"
   ]
  },
  {
   "cell_type": "code",
   "execution_count": null,
   "metadata": {},
   "outputs": [],
   "source": [
    "for i in [5,-1,8,0,3]:\n",
    "    print(\"当前列表元素是：\", i)"
   ]
  },
  {
   "cell_type": "markdown",
   "metadata": {},
   "source": [
    "#### 例 11 遍历字符串"
   ]
  },
  {
   "cell_type": "code",
   "execution_count": null,
   "metadata": {},
   "outputs": [],
   "source": [
    "for letter in \"Tongji\":\n",
    "    print(letter,end=' ')"
   ]
  },
  {
   "cell_type": "code",
   "execution_count": null,
   "metadata": {},
   "outputs": [],
   "source": [
    "for letter in set(\"Tongji\"):\n",
    "    print(letter,end=' ')"
   ]
  },
  {
   "cell_type": "markdown",
   "metadata": {
    "toc-hr-collapsed": true
   },
   "source": [
    "### <font size=4><span id=\"3.2.4\"> 3.2.4 `break` 和 `continue` 语句</span></font>\n",
    "- 作用\n",
    "    - `break` 跳出循环\n",
    "    - `continue` 执行下一循环项"
   ]
  },
  {
   "cell_type": "markdown",
   "metadata": {},
   "source": [
    "<center class = \"half\">\n",
    "<img src=\"images/chapter03/break.jpg\" width=300 align = left>\n",
    "<img src=\"images/chapter03/continue.jpg\" width=300 align = right>\n",
    "</center>"
   ]
  },
  {
   "cell_type": "markdown",
   "metadata": {},
   "source": [
    "#### 例 12 注意 `break` 和 `continue` 的区别"
   ]
  },
  {
   "cell_type": "code",
   "execution_count": 26,
   "metadata": {},
   "outputs": [
    {
     "name": "stdout",
     "output_type": "stream",
     "text": [
      "Current Letter :P\n",
      "Current Letter :y\n",
      "Current Letter :t\n",
      "\n",
      "after for statement\n"
     ]
    }
   ],
   "source": [
    "for letter in 'Python':\n",
    "    if letter == 'h':\n",
    "        break\n",
    "    print('Current Letter :' + letter)\n",
    "\n",
    "print(\"\\nafter for statement\")  # 注 \"\\n\" 插入新行"
   ]
  },
  {
   "cell_type": "code",
   "execution_count": 27,
   "metadata": {},
   "outputs": [
    {
     "name": "stdout",
     "output_type": "stream",
     "text": [
      "Current Letter :P\n",
      "Current Letter :y\n",
      "Current Letter :t\n",
      "Current Letter :o\n",
      "Current Letter :n\n",
      "\n",
      "after for statement\n"
     ]
    }
   ],
   "source": [
    "for letter in 'Python':\n",
    "    if letter == 'h':\n",
    "        continue\n",
    "    print('Current Letter :' + letter)\n",
    "\n",
    "print(\"\\nafter for statement\")  # 注 \"\\n\" 插入新行"
   ]
  },
  {
   "cell_type": "markdown",
   "metadata": {
    "toc-hr-collapsed": true
   },
   "source": [
    "### <font size=4><span id=\"3.2.5\"> 3.2.5 else 分句</span></font>\n",
    "- 语法\n",
    "```python\n",
    "for a_num in num_list:\n",
    "      block_1\n",
    "else:\n",
    "      block_2\n",
    "```\n",
    "\n",
    "\n",
    "- `else` 作用 —— 循环`正常结束`时执行语句块 block_2"
   ]
  },
  {
   "cell_type": "code",
   "execution_count": 29,
   "metadata": {},
   "outputs": [
    {
     "name": "stdout",
     "output_type": "stream",
     "text": [
      "4\n",
      "执行else....\n"
     ]
    }
   ],
   "source": [
    "# 有无break的差别\n",
    "for x in range(5):\n",
    "    if x == 4:\n",
    "        print(x)\n",
    "        #break\n",
    "        continue\n",
    "else:\n",
    "    print(\"执行else....\")"
   ]
  },
  {
   "cell_type": "markdown",
   "metadata": {},
   "source": [
    "#### 例 13 判断素数"
   ]
  },
  {
   "cell_type": "code",
   "execution_count": 30,
   "metadata": {
    "collapsed": true
   },
   "outputs": [
    {
     "name": "stdout",
     "output_type": "stream",
     "text": [
      "请输入一个大于 1 的正整数30\n",
      "30 不是素数！\n",
      "30  等于  2  乘  15\n"
     ]
    }
   ],
   "source": [
    "n = int(input(\"请输入一个大于 1 的正整数\"))\n",
    "\n",
    "for x in range(2, n):\n",
    "    if n % x == 0:\n",
    "        print(n, '不是素数！')\n",
    "        print(n, ' 等于 ', x, ' 乘 ', n//x)\n",
    "        break\n",
    "else:\n",
    "    print(n, '是素数！')"
   ]
  },
  {
   "cell_type": "markdown",
   "metadata": {},
   "source": [
    "### 课堂演练03：\n",
    "要求：输出一百以内的素数"
   ]
  },
  {
   "cell_type": "code",
   "execution_count": null,
   "metadata": {},
   "outputs": [],
   "source": [
    "import math\n",
    "nlim = 100\n",
    "count = 0\n",
    "print('The list of prime numbers less than 100 as follows:')\n",
    "for i in range(2,nlim+1,1):\n",
    "    for j in range(2,int(math.sqrt(i))+1,1):\n",
    "        if i%j == 0:\n",
    "            break;\n",
    "    else:\n",
    "        count +=1 \n",
    "        print('%4d' %i, end=' ')\n",
    "        if count % 10 == 0:\n",
    "            print(\"\")\n",
    "print('\\nThere are totally %3d prime nubmers!' %count)\n"
   ]
  },
  {
   "cell_type": "markdown",
   "metadata": {},
   "source": [
    "[返回目录](#mulu3)"
   ]
  },
  {
   "cell_type": "markdown",
   "metadata": {},
   "source": [
    "## <font size=5> <span id=\"3.3\"> 3.3 `while` 循环语句</span></font>\n",
    "\n",
    "\n",
    "- 语法\n",
    "```python\n",
    "while condition:\n",
    "      statement_block\n",
    "```\n",
    "\n",
    "- 条件 `condition` 为 `True` 时，重复执行语句块 `statement_block`\n",
    "\n",
    "\n",
    "<img src=\"images/chapter03/python_while_loop.jpg\" width=250>"
   ]
  },
  {
   "cell_type": "markdown",
   "metadata": {
    "toc-hr-collapsed": true
   },
   "source": [
    "### <font size=4><span id=\"3.3.1\"> 3.3.1 `while` 语句用于不指定次数的循环</span></font>"
   ]
  },
  {
   "cell_type": "markdown",
   "metadata": {},
   "source": [
    "#### 例 14 简单计数"
   ]
  },
  {
   "cell_type": "code",
   "execution_count": 31,
   "metadata": {},
   "outputs": [
    {
     "name": "stdout",
     "output_type": "stream",
     "text": [
      "The number is: 0\n",
      "The number is: 1\n",
      "The number is: 2\n",
      "The number is: 3\n",
      "The number is: 4\n",
      "The number is: 5\n",
      "The number is: 6\n",
      "The number is: 7\n",
      "The number is: 8\n",
      "\n",
      "Good bye!\n"
     ]
    }
   ],
   "source": [
    "count = 0\n",
    "while count < 9:\n",
    "    print(\"The number is:\",count)\n",
    "    count = count + 1\n",
    "\n",
    "print (\"\\nGood bye!\")"
   ]
  },
  {
   "cell_type": "code",
   "execution_count": null,
   "metadata": {},
   "outputs": [],
   "source": [
    "count = 0\n",
    "while count < 9:\n",
    "    print(\"The number is:\",count)\n",
    "    #count = count + 1\n",
    "\n",
    "print (\"\\nGood bye!\")"
   ]
  },
  {
   "cell_type": "markdown",
   "metadata": {},
   "source": [
    "#### 例 15 递增数列求和"
   ]
  },
  {
   "cell_type": "code",
   "execution_count": null,
   "metadata": {},
   "outputs": [],
   "source": [
    "num, sum1 = 0, 0\n",
    "while num < 5:\n",
    "    sum1 += num\n",
    "    print(num, sum1)\n",
    "    num += 1"
   ]
  },
  {
   "cell_type": "markdown",
   "metadata": {},
   "source": [
    "#### 例 16 play game again 猜数字游戏"
   ]
  },
  {
   "cell_type": "code",
   "execution_count": 1,
   "metadata": {
    "collapsed": true
   },
   "outputs": [
    {
     "name": "stdout",
     "output_type": "stream",
     "text": [
      "Play with me, Guess a number:50\n",
      "老铁，高了\n",
      "Error, input again:30\n",
      "老铁，高了\n",
      "Error, input again:20\n",
      "老铁，高了\n",
      "Error, input again:10\n",
      "老铁，低了\n",
      "Error, input again:15\n",
      "老铁，低了\n",
      "Error, input again:17\n",
      "老铁，低了\n",
      "Error, input again:18\n",
      "Good Job\n",
      "Game over\n"
     ]
    }
   ],
   "source": [
    "import random\n",
    "\n",
    "secret = random.randint(1,100) # 生成 [1, 10] 区间的随机整数\n",
    "temp = input(\"Play with me, Guess a number:\")\n",
    "guess = int(temp)\n",
    "\n",
    "while guess != secret:\n",
    "    if(guess > secret):\n",
    "        print(\"老铁，高了\")\n",
    "    else:\n",
    "        print(\"老铁，低了\")\n",
    "\n",
    "    temp = input(\"Error, input again:\")\n",
    "    guess = int(temp)\n",
    "\n",
    "print(\"Good Job\")\n",
    "print(\"Game over\") "
   ]
  },
  {
   "cell_type": "markdown",
   "metadata": {
    "toc-hr-collapsed": true
   },
   "source": [
    "### <font size=4><span id=\"3.3.2\"> 3.3.2 `else` 分句</span></font>\n",
    "- 语法\n",
    "```python\n",
    "while condition:\n",
    "      statement_block\n",
    "else:\n",
    "      statement_else\n",
    "```\n",
    "\n",
    "\n",
    "- 作用同前\n",
    "- `else` 用于`循环正常结束`后执行"
   ]
  },
  {
   "cell_type": "markdown",
   "metadata": {},
   "source": [
    "#### 例 17 `while` 结束后 `else` 分句的作用"
   ]
  },
  {
   "cell_type": "code",
   "execution_count": null,
   "metadata": {},
   "outputs": [],
   "source": [
    "count = 0\n",
    "while(count<5):\n",
    "    print(count)\n",
    "    count += 1\n",
    "    if count % 3 == 0:\n",
    "        break;\n",
    "else:\n",
    "    print(\"count value reached %d\" %(count))"
   ]
  },
  {
   "cell_type": "markdown",
   "metadata": {},
   "source": [
    "#### 例 18 循环求和后， `else` 分句给出结果"
   ]
  },
  {
   "cell_type": "code",
   "execution_count": null,
   "metadata": {},
   "outputs": [],
   "source": [
    "s = 0\n",
    "n = 10\n",
    "i = 1\n",
    "\n",
    "while i <= n:\n",
    "    s += i\n",
    "    i += 1\n",
    "else:\n",
    "    print(\"Sum = %d\" %(s))"
   ]
  },
  {
   "cell_type": "code",
   "execution_count": null,
   "metadata": {},
   "outputs": [],
   "source": [
    "s = 0\n",
    "n = 10\n",
    "i = 1\n",
    "\n",
    "while i <= n:\n",
    "    s += i\n",
    "    i += 1\n",
    "    if i>5:\n",
    "        break\n",
    "else:\n",
    "    print(\"Sum = %d\" %(s))"
   ]
  },
  {
   "cell_type": "markdown",
   "metadata": {
    "toc-hr-collapsed": true
   },
   "source": [
    "### <font size=4><span id=\"3.3.3\"> 3.3.3 `break` 和 `continue` 语句</span></font>\n",
    "- 作用同前\n",
    "    - `break` 跳出循环体\n",
    "    - `continue` 执行下一循环步"
   ]
  },
  {
   "cell_type": "markdown",
   "metadata": {},
   "source": [
    "#### 例 19 遇到 5 就跳出 —— `break` 语句的作用"
   ]
  },
  {
   "cell_type": "code",
   "execution_count": null,
   "metadata": {},
   "outputs": [],
   "source": [
    "var = 10\n",
    "\n",
    "while var > 0:          \n",
    "    var = var - 1\n",
    "    if var == 5:\n",
    "        print('逢 5 就退出！')\n",
    "        break\n",
    "    print(var)"
   ]
  },
  {
   "cell_type": "markdown",
   "metadata": {},
   "source": [
    "#### 例 20 遇到 5 就继续 —— `continue` 语句的作用"
   ]
  },
  {
   "cell_type": "code",
   "execution_count": null,
   "metadata": {},
   "outputs": [],
   "source": [
    "var = 10\n",
    "while var > 0:          \n",
    "    var = var -1\n",
    "    if var == 5:\n",
    "        print('逢 5 就继续！')\n",
    "        continue\n",
    "    print(var)"
   ]
  },
  {
   "cell_type": "markdown",
   "metadata": {},
   "source": [
    "### <font size=4><span id=\"3.3.4\"> 3.3.4 `pass` 语句</span></font>\n",
    "- 作用\n",
    "    - `pass` 是空语句，是为了保持程序结构的完整性。\n",
    "\n",
    "    - `pass` 不做任何事情，一般用做占位语句。"
   ]
  },
  {
   "cell_type": "code",
   "execution_count": 2,
   "metadata": {},
   "outputs": [
    {
     "ename": "SyntaxError",
     "evalue": "incomplete input (1151737005.py, line 6)",
     "output_type": "error",
     "traceback": [
      "\u001b[1;36m  Cell \u001b[1;32mIn[2], line 6\u001b[1;36m\u001b[0m\n\u001b[1;33m    \u001b[0m\n\u001b[1;37m    ^\u001b[0m\n\u001b[1;31mSyntaxError\u001b[0m\u001b[1;31m:\u001b[0m incomplete input\n"
     ]
    }
   ],
   "source": [
    "a =  4\n",
    "if a > 3:\n",
    "    print(a)\n",
    "    pass\n",
    "else:\n",
    "    pass"
   ]
  },
  {
   "cell_type": "markdown",
   "metadata": {},
   "source": [
    "### 课堂演练04：\n",
    "输入若干正数，求平均值，当输入小于等于0的时候结束输入，并输出平均值结果。"
   ]
  },
  {
   "cell_type": "code",
   "execution_count": null,
   "metadata": {},
   "outputs": [],
   "source": [
    "## 现场完成\n",
    "sum1 = 0\n",
    "count = 0\n",
    "while True:\n",
    "    number = float(input(\"Pls input a number: \"))\n",
    "    if 0 >= number:\n",
    "        break\n",
    "\n",
    "    sum1 += number\n",
    "    count += 1\n",
    "\n",
    "average = sum1 / count\n",
    "print(\"Totally \"+str(count)+\" numbers.\\nThe averaged number is \"+str(average) + '.')"
   ]
  },
  {
   "cell_type": "code",
   "execution_count": null,
   "metadata": {},
   "outputs": [],
   "source": [
    "# 使用列表\n",
    "list1 = []\n",
    "a = 1\n",
    "while a > 0:\n",
    "    a = float(input(\"Pls input a number: \"))\n",
    "    list1.append(a)\n",
    "print(\"Totally %4d numbers.\\nThe averaged value is %f.\" %(len(list1),sum(list1)/len(list1)))"
   ]
  },
  {
   "cell_type": "markdown",
   "metadata": {},
   "source": [
    "[返回目录](#mulu3)"
   ]
  },
  {
   "cell_type": "markdown",
   "metadata": {
    "toc-hr-collapsed": true
   },
   "source": [
    "## <font size=5> <span id=\"3.4\"> 3.4 match-case多分支语句</span></font>"
   ]
  },
  {
   "cell_type": "code",
   "execution_count": null,
   "metadata": {},
   "outputs": [],
   "source": [
    "status = 410\n",
    "\n",
    "if status == 400:\n",
    "    print('Bad request')\n",
    "elif status == 401:\n",
    "    print( 'Unauthorized')\n",
    "elif status == 403:\n",
    "    print( 'Forbidden')\n",
    "elif status == 404:\n",
    "    print( 'Not found')\n",
    "else:\n",
    "    print( 'Unknown status code')\n",
    "    "
   ]
  },
  {
   "cell_type": "code",
   "execution_count": 5,
   "metadata": {},
   "outputs": [
    {
     "name": "stdout",
     "output_type": "stream",
     "text": [
      "232312\n"
     ]
    }
   ],
   "source": [
    "status = 405\n",
    "match status:\n",
    "    case 400:\n",
    "        print('Bad request')\n",
    "    case 401:\n",
    "        print( 'Unauthorized')\n",
    "    case 403:\n",
    "        print(\"Forbidden\")\n",
    "    case 404:\n",
    "        print( 'Not found')\n",
    "    case 405:\n",
    "        print('232312')\n",
    "    case __:\n",
    "        print( 'Unknown status code----')\n",
    "    "
   ]
  },
  {
   "cell_type": "markdown",
   "metadata": {},
   "source": [
    "- match后面跟要匹配的变量，case后面跟不同的条件，之后是符合条件需要执行的语句。\n",
    "- 最后一个case加下划线表示缺省匹配，如果前面的条件没有匹配上就跑到这个case里面执行，相当于之前的else。"
   ]
  },
  {
   "cell_type": "markdown",
   "metadata": {},
   "source": [
    "<img src=\"images/chapter03/match.png\" width=550>\n"
   ]
  },
  {
   "cell_type": "markdown",
   "metadata": {},
   "source": [
    "[返回目录](#mulu3)"
   ]
  },
  {
   "cell_type": "markdown",
   "metadata": {
    "toc-hr-collapsed": true
   },
   "source": [
    "## <font size=5> <span id=\"3.5\"> 3.5 控制语句嵌套</span></font>"
   ]
  },
  {
   "cell_type": "markdown",
   "metadata": {},
   "source": [
    "### <font size=4><span id=\"3.5.1\"> 3.5.1 多层 `for` 循环</span></font>"
   ]
  },
  {
   "cell_type": "markdown",
   "metadata": {},
   "source": [
    "#### 例 21 输出九九乘法表"
   ]
  },
  {
   "cell_type": "code",
   "execution_count": 6,
   "metadata": {},
   "outputs": [
    {
     "name": "stdout",
     "output_type": "stream",
     "text": [
      "1X1=1 \n",
      "1X2=2 2X2=4 \n",
      "1X3=3 2X3=6 3X3=9 \n",
      "1X4=4 2X4=8 3X4=12 4X4=16 \n",
      "1X5=5 2X5=10 3X5=15 4X5=20 5X5=25 \n",
      "1X6=6 2X6=12 3X6=18 4X6=24 5X6=30 6X6=36 \n",
      "1X7=7 2X7=14 3X7=21 4X7=28 5X7=35 6X7=42 7X7=49 \n",
      "1X8=8 2X8=16 3X8=24 4X8=32 5X8=40 6X8=48 7X8=56 8X8=64 \n",
      "1X9=9 2X9=18 3X9=27 4X9=36 5X9=45 6X9=54 7X9=63 8X9=72 9X9=81 \n"
     ]
    }
   ],
   "source": [
    "for i in range(1,10):\n",
    "    for j in range(1,i+1):\n",
    "        print(str(j) + \"X\" + str(i) + \"=\" + str(j*i), end=\" \")\n",
    "    print(\"\")"
   ]
  },
  {
   "cell_type": "markdown",
   "metadata": {},
   "source": [
    "### <font size=4><span id=\"3.5.2\"> 3.5.2 多层控制结构</span></font>\n",
    "- 原则上，`if`、`for` 和 `while` 可以任意嵌套"
   ]
  },
  {
   "cell_type": "markdown",
   "metadata": {},
   "source": [
    "#### 例 22 三层 `if` 嵌套，判断白富美"
   ]
  },
  {
   "cell_type": "code",
   "execution_count": null,
   "metadata": {},
   "outputs": [],
   "source": [
    "white_rich_beautiful = False\n",
    "\n",
    "be_white = int(input(\"你白吗，yes-1，no-0: \"))\n",
    "\n",
    "if be_white:\n",
    "    be_rich = int(input(\"你富吗，yes-1，no-0: \"))\n",
    "    if be_rich:\n",
    "        be_beautiful = int(input(\"你美吗，yes-1，no-0: \"))\n",
    "        if be_beautiful:\n",
    "            white_rich_beautiful = True\n",
    "\n",
    "if white_rich_beautiful:\n",
    "    print(\"你是白富美！\")\n",
    "else:\n",
    "    print(\"你不是白富美！\")"
   ]
  },
  {
   "cell_type": "markdown",
   "metadata": {},
   "source": [
    "#### 例 23 双层 `while` 输出三角形"
   ]
  },
  {
   "cell_type": "code",
   "execution_count": 7,
   "metadata": {},
   "outputs": [
    {
     "name": "stdout",
     "output_type": "stream",
     "text": [
      "*\n",
      "**\n",
      "***\n",
      "****\n",
      "*****\n",
      "******\n",
      "*******\n",
      "********\n",
      "*********\n",
      "**********\n",
      "***********\n",
      "************\n",
      "*************\n",
      "**************\n",
      "***************\n"
     ]
    }
   ],
   "source": [
    "i = 1\n",
    "while i <= 15:\n",
    "    j = 1\n",
    "    while j <= i:\n",
    "        print(\"*\", end=\"\")\n",
    "        j += 1\n",
    "    print(\"\")\n",
    "    i += 1"
   ]
  },
  {
   "cell_type": "code",
   "execution_count": null,
   "metadata": {},
   "outputs": [],
   "source": [
    "i = 1\n",
    "while i <= 15:\n",
    "    print(\"*\"*i)\n",
    "    i += 1"
   ]
  },
  {
   "cell_type": "markdown",
   "metadata": {},
   "source": [
    "#### 例 24 `for` 和 `if` 嵌套，找偶像..."
   ]
  },
  {
   "cell_type": "code",
   "execution_count": null,
   "metadata": {},
   "outputs": [],
   "source": [
    "idol = \"刘诗诗\"\n",
    "stars=[\"王菲\", \"高圆圆\", \"刘诗诗\", \"赵丽颖\", \"江疏影\"]\n",
    "\n",
    "for star in stars:\n",
    "    if idol == star:\n",
    "        print(star, \"你是我的偶像，我是一个快乐的粉丝!\")\n",
    "    else:\n",
    "        print(star, \"你不是我的偶像!\")"
   ]
  },
  {
   "cell_type": "markdown",
   "metadata": {},
   "source": [
    "#### 例 25 `while` 和 `if` 嵌套 —— 和电脑划拳比赛"
   ]
  },
  {
   "cell_type": "code",
   "execution_count": null,
   "metadata": {},
   "outputs": [],
   "source": [
    "import random\n",
    "\n",
    "fingers = [\"锤\", \"剪\", \"布\"]\n",
    "\n",
    "while True:\n",
    "    mine = int(input(\"你出什么，锤-0，剪-1，布-2，退-3？  \"))\n",
    "    if mine == 3:\n",
    "        print(\"哈哈，你逃了，再见！\")\n",
    "        break\n",
    "\n",
    "    computer = random.randint(0,2)\n",
    "    if (computer-mine) % 3 == 1:\n",
    "        print(\"你赢了! \",end=\"\")\n",
    "    elif (computer-mine) % 3 == 2:\n",
    "        print(\"你输了! \",end=\"\")\n",
    "    else:\n",
    "        print(\"打平了! \",end=\"\")\n",
    "\n",
    "    print(\"你出{0}，电脑出{1}\\n\".format(fingers[mine],fingers[computer]))"
   ]
  },
  {
   "cell_type": "markdown",
   "metadata": {},
   "source": [
    "[返回目录](#mulu3)"
   ]
  },
  {
   "cell_type": "markdown",
   "metadata": {
    "tags": [],
    "toc-hr-collapsed": true
   },
   "source": [
    "## <font size=5> <span id=\"3.6\"> 3.6 迭代器（Iterator）(*)</span></font>\n",
    "\n",
    "- Python 的强大功能 —— 容器都是可迭代的\n",
    "\n",
    "\n",
    "- 迭代器\n",
    "    - 可以记住遍历位置的对象\n",
    "    - 从集合的第一个元素开始访问，直到所有的元素被访问完结束\n",
    "    - 迭代器只能往前不会后退\n",
    "    - 迭代器有两个基本的方法：iter() 和 next()\n",
    "\n",
    "\n",
    "- 字符串，列表或元组对象都可用于创建迭代器"
   ]
  },
  {
   "cell_type": "markdown",
   "metadata": {},
   "source": [
    "#### 例26 回顾 —— 元组容器的 `for` 循环操作\n",
    "\n",
    "- 说明\n",
    "    - 元组是不可修改的顺序容器\n",
    "    - 元组的元素用圆括号括起来\n",
    "    - 元组的介绍详见第5讲"
   ]
  },
  {
   "cell_type": "code",
   "execution_count": null,
   "metadata": {},
   "outputs": [],
   "source": [
    "# 找出大于10，且能被3整除的数\n",
    "container = (3, 29, 15, 13, 27)\n",
    "for item in container:\n",
    "    if item > 10 and item%3 == 0:\n",
    "        print(item)"
   ]
  },
  {
   "cell_type": "code",
   "execution_count": null,
   "metadata": {},
   "outputs": [],
   "source": [
    "# 集合作为迭代器，注意顺序！！\n",
    "container = {3, 29, 15, 13, 27}\n",
    "for item in container:\n",
    "    print(item)"
   ]
  },
  {
   "cell_type": "markdown",
   "metadata": {},
   "source": [
    "### <font size=4><span id=\"3.6.1\"> 3.6.1 迭代器的创建 —— `iter()` 方法</span></font>\n",
    "- 语法\n",
    "```python\n",
    ">>> iterator = iter(container)\n",
    "```\n",
    "\n",
    "- 功能\n",
    "    - `iter()` 方法创建并返回给定对象的迭代器\n"
   ]
  },
  {
   "cell_type": "markdown",
   "metadata": {},
   "source": [
    "#### 例 27-1 迭代器当容器使用"
   ]
  },
  {
   "cell_type": "code",
   "execution_count": null,
   "metadata": {},
   "outputs": [],
   "source": [
    "container = (3, 29, 15, 13, 27)  # 容器\n",
    "iterator_as_container = iter(container) # 创建迭代器\n",
    "\n",
    "for item in iterator_as_container:  \n",
    "    print(item)"
   ]
  },
  {
   "cell_type": "code",
   "execution_count": null,
   "metadata": {},
   "outputs": [],
   "source": [
    "type(iterator_as_container)"
   ]
  },
  {
   "cell_type": "markdown",
   "metadata": {},
   "source": [
    "#### 例 27-2 迭代器当容器使用（简洁）"
   ]
  },
  {
   "cell_type": "code",
   "execution_count": null,
   "metadata": {},
   "outputs": [],
   "source": [
    "for item in iter((3, 29, 15, 13, 27)):\n",
    "    print(item)"
   ]
  },
  {
   "cell_type": "markdown",
   "metadata": {},
   "source": [
    "### <font size=4><span id=\"3.6.2\"> 3.6.2 迭代器的遍历方法</span></font>\n",
    "- 语法\n",
    "```python\n",
    ">>> next(iterator)\n",
    "```\n",
    "\n",
    "- 向前遍历\n",
    "    - 要么返回迭代序列的下一项\n",
    "    - 要么就引起一个 StopIteration 异常（可终止迭代）"
   ]
  },
  {
   "cell_type": "markdown",
   "metadata": {},
   "source": [
    "#### 例 28-1 逐步前进的迭代器"
   ]
  },
  {
   "cell_type": "code",
   "execution_count": null,
   "metadata": {},
   "outputs": [],
   "source": [
    "container = (3, 29, 15, 13, 27)  # 容器\n",
    "iterator = iter(container)       # 创建迭代器\n",
    "\n",
    "print(next(iterator))\n",
    "print(next(iterator))"
   ]
  },
  {
   "cell_type": "markdown",
   "metadata": {},
   "source": [
    "#### 例 28-2 前进到尽头了 —— 出现 `StopIteration` 异常\n",
    "\n",
    "- 处理异常，详见第8讲"
   ]
  },
  {
   "cell_type": "code",
   "execution_count": null,
   "metadata": {},
   "outputs": [],
   "source": [
    "container = (3, 29, 15, 13, 27)  # 容器\n",
    "iterator = iter(container)       # 创建迭代器\n",
    "print(next(iterator))\n",
    "print(next(iterator))\n",
    "print(next(iterator))\n",
    "print(next(iterator))\n",
    "print(next(iterator))\n",
    "print(next(iterator))\n",
    "print(next(iterator))\n",
    "print(next(iterator))"
   ]
  },
  {
   "cell_type": "markdown",
   "metadata": {},
   "source": [
    "#### 例 28-3 增加异常处理的能力"
   ]
  },
  {
   "cell_type": "code",
   "execution_count": null,
   "metadata": {},
   "outputs": [],
   "source": [
    "container = (3, 29, 15, 13, 27)  # 容器\n",
    "iterator = iter(container)       # 创建迭代器\n",
    "\n",
    "print(next(iterator))\n",
    "print(next(iterator))\n",
    "print(next(iterator))\n",
    "print(next(iterator))\n",
    "print(next(iterator))\n",
    "try:\n",
    "    print(next(iterator))\n",
    "except StopIteration:\n",
    "    print(\"迭代小哥，到头了耶！\")"
   ]
  },
  {
   "cell_type": "markdown",
   "metadata": {},
   "source": [
    "- 疑问：既然列表可以作为迭代器，还需要iter()有什么用？\n",
    "\n",
    "- 解释：\n",
    "  - 使用迭代器不要求事先准备好整个迭代过程中的所有元素。\n",
    "  - 迭代器仅仅在迭代到某个元素时才计算该元素，而在这之前或之后元素可以不存在或者被销毁。\n",
    "\n",
    "- 用途：\n",
    "  - 遍历一些数量巨大甚至无限的序列\n",
    "  - 数列有规律，但是依靠列表推导式描述不出来的场合"
   ]
  },
  {
   "cell_type": "markdown",
   "metadata": {},
   "source": [
    "[返回目录](#mulu3)"
   ]
  },
  {
   "cell_type": "markdown",
   "metadata": {
    "toc-hr-collapsed": true
   },
   "source": [
    "## <font size=5> <span id=\"3.7\"> 3.7 更灵活的应用示例(*)</span></font>"
   ]
  },
  {
   "cell_type": "markdown",
   "metadata": {},
   "source": [
    "### <font size=4><span id=\"3.7.1\"> 3.7.1 漂亮的循环语句</span></font>\n",
    "- 注意\n",
    "    - Python 语言的列表允许存放不同类型的元素\n",
    "    - 元素筛选示例"
   ]
  },
  {
   "cell_type": "markdown",
   "metadata": {},
   "source": [
    "#### 例 29-1 取出容器里面的数值并求和 —— 普通 `for` 循环\n",
    "\n",
    "- 说明\n",
    "    - import 语句用于导入模块\n",
    "    - isinstance 函数用于类型判断"
   ]
  },
  {
   "cell_type": "code",
   "execution_count": null,
   "metadata": {},
   "outputs": [],
   "source": [
    "import numpy as np\n",
    "\n",
    "compound_container = [1, 2, 3, 'abc', 4, 5.0]  # 复合容器"
   ]
  },
  {
   "cell_type": "code",
   "execution_count": null,
   "metadata": {},
   "outputs": [],
   "source": [
    "sum2 = 0\n",
    "count = 0\n",
    "for each in compound_container:\n",
    "    if isinstance(each,(int, float)):\n",
    "        sum2 += each\n",
    "        count+=1\n",
    "\n",
    "print(sum2/count)"
   ]
  },
  {
   "cell_type": "code",
   "execution_count": null,
   "metadata": {},
   "outputs": [],
   "source": [
    "import numpy as np\n",
    "\n",
    "compound_container = [1, 2, 3, 'abc', 4, 5.0]  # 复合容器\n",
    "\n",
    "filter_container=[]\n",
    "for item in compound_container:\n",
    "    if isinstance(item,(int, float)):\n",
    "        filter_container.append(item)\n",
    "\n",
    "print(filter_container)\n",
    "\n",
    "sum(filter_container)/len(filter_container)"
   ]
  },
  {
   "cell_type": "markdown",
   "metadata": {},
   "source": [
    "#### 例 29-2 取出容器里面的数值并求和 —— 高级容器 `for` 循环条件判断\n",
    "\n",
    "- 注意\n",
    "    - 出现浅红提示\n",
    "    - 说明生成器 `numpy` 求和方式将要弃用\n",
    "    - 改用 `np.sum(np.from_iter(generator))`"
   ]
  },
  {
   "cell_type": "code",
   "execution_count": null,
   "metadata": {},
   "outputs": [],
   "source": [
    "conpound_container = [1, 2, 3, 'abc', 4, 5.0]  # 复合容器\n",
    "np.sum(item for item in conpound_container if type(item) in ([int, float]))"
   ]
  },
  {
   "cell_type": "code",
   "execution_count": null,
   "metadata": {},
   "outputs": [],
   "source": [
    "# 一种更强大的生成列表方法\n",
    "conpound_container = [1, 2, 3, 'abc', 4, 5.0]\n",
    "[item for item in conpound_container if type(item) in ([int, float])]"
   ]
  },
  {
   "cell_type": "markdown",
   "metadata": {},
   "source": [
    "### <font size=4><span id=\"3.7.2\"> 3.7.2 同时遍历元素和下标</span></font>"
   ]
  },
  {
   "cell_type": "markdown",
   "metadata": {},
   "source": [
    "#### 例 30 用下标遍历容器"
   ]
  },
  {
   "cell_type": "code",
   "execution_count": null,
   "metadata": {},
   "outputs": [],
   "source": [
    "seasons = ['Spring', 'Summer', 'Autumn', 'Winter']\n",
    "for i in range(len(seasons)):\n",
    "    print(i,':',seasons[i])"
   ]
  },
  {
   "cell_type": "markdown",
   "metadata": {},
   "source": [
    "#### 例 31 用enumerate函数生成下标和元素对"
   ]
  },
  {
   "cell_type": "code",
   "execution_count": null,
   "metadata": {
    "scrolled": true
   },
   "outputs": [],
   "source": [
    "seasons = ['Spring', 'Summer', 'Autumn', 'Winter']\n",
    "for i,season in enumerate(seasons):\n",
    "    print(i,':',season)"
   ]
  },
  {
   "cell_type": "code",
   "execution_count": null,
   "metadata": {},
   "outputs": [],
   "source": [
    "enumerate(seasons)"
   ]
  },
  {
   "cell_type": "code",
   "execution_count": null,
   "metadata": {},
   "outputs": [],
   "source": [
    "# 查看 enumerate 函数的返回内容\n",
    "list(enumerate(seasons))"
   ]
  },
  {
   "cell_type": "markdown",
   "metadata": {},
   "source": [
    "#### 例 32 用enumerate函数生成下标和元素对 —— 控制起始序号"
   ]
  },
  {
   "cell_type": "code",
   "execution_count": null,
   "metadata": {},
   "outputs": [],
   "source": [
    "for i,season in enumerate(seasons, start = 1):\n",
    "    print(i,':',season)"
   ]
  },
  {
   "cell_type": "markdown",
   "metadata": {},
   "source": [
    "#### 例 33-1 友好显示程序完成比例"
   ]
  },
  {
   "cell_type": "code",
   "execution_count": null,
   "metadata": {},
   "outputs": [],
   "source": [
    "import time\n",
    "\n",
    "i, n = 0, 100\n",
    "\n",
    "for i in range(n):\n",
    "    pass\n",
    "    time.sleep(0.05) # 休眠 0.05 秒\n",
    "    if (i+1) % 10 ==0:\n",
    "        print(i+1)"
   ]
  },
  {
   "cell_type": "markdown",
   "metadata": {},
   "source": [
    "#### 例 33-2 友好显示程序完成比例 —— 避免刷屏"
   ]
  },
  {
   "cell_type": "code",
   "execution_count": null,
   "metadata": {},
   "outputs": [],
   "source": [
    "import time\n",
    "i, n = 0, 100\n",
    "for i in range(n):\n",
    "    time.sleep(0.05) # 休眠 0.05 秒\n",
    "    if (i+1) % 10 ==0: \n",
    "        print('当前完成：'+str(i+1)+'%。',end='\\r') # 注意关键字参数 end='\\r' 回到行首"
   ]
  },
  {
   "cell_type": "code",
   "execution_count": null,
   "metadata": {},
   "outputs": [],
   "source": [
    "import time\n",
    "i, n = 0 , 100\n",
    "for i in range(n):\n",
    "    time.sleep(0.05) # 休眠 0.05 秒\n",
    "    if (i+1) % 10 ==0:\n",
    "        print(i+1,end='    ') # 注意关键字参数 end='    ' 4个空格"
   ]
  },
  {
   "cell_type": "markdown",
   "metadata": {},
   "source": [
    "#### 例 33-3 友好显示程序完成比例 —— 进度条"
   ]
  },
  {
   "cell_type": "code",
   "execution_count": null,
   "metadata": {},
   "outputs": [],
   "source": [
    "import sys,time\n",
    "\n",
    "def progress_bar(num,tot):\n",
    "    rate = float(num)/tot\n",
    "    ratenum = int(100*rate)\n",
    "    r = '\\r[{0}{1}]{2}%'.format('*'*ratenum,' '*(100-ratenum),ratenum)\n",
    "    \n",
    "    #sys.stdout.write(r)  # print 实际上就是调用这个函数\n",
    "    #sys.stdout.flush()\n",
    "    print(r,end='')\n",
    "\n",
    "i, n = 0,100\n",
    "for i in range(n):\n",
    "    time.sleep(0.05)\n",
    "    progress_bar(i+1,n)"
   ]
  },
  {
   "cell_type": "code",
   "execution_count": null,
   "metadata": {},
   "outputs": [],
   "source": [
    "# 更专业的进度条：tqdm模块\n",
    "from tqdm import tqdm\n",
    "import time\n",
    "\n",
    "for i in tqdm(range(100), ncols=50):\n",
    "    time.sleep(0.1)"
   ]
  },
  {
   "cell_type": "code",
   "execution_count": null,
   "metadata": {},
   "outputs": [],
   "source": [
    "# 嵌套\n",
    "from tqdm.auto import tqdm\n",
    "import time\n",
    "\n",
    "for i in tqdm(range(10), bar_format=\"{l_bar}{bar}\", colour=\"blue\", desc='总进度', leave=True):\n",
    "    for j in tqdm(range(20), bar_format=\"{l_bar}{bar}\", colour=\"red\", desc='子进度', leave=False):\n",
    "        time.sleep(0.1)"
   ]
  },
  {
   "cell_type": "markdown",
   "metadata": {},
   "source": [
    "[返回目录](#mulu3)"
   ]
  },
  {
   "cell_type": "markdown",
   "metadata": {
    "toc-hr-collapsed": true
   },
   "source": [
    "## <font size=5> <span id=\"3.8\"> 3.8 程序的调试</span></font>"
   ]
  },
  {
   "cell_type": "markdown",
   "metadata": {},
   "source": [
    "### <font size=4><span id=\"3.8.1\"> 3.8.1 语法错误</span></font>\n",
    "- 遇到语法错误，都有提示，如："
   ]
  },
  {
   "cell_type": "code",
   "execution_count": 1,
   "metadata": {},
   "outputs": [
    {
     "ename": "NameError",
     "evalue": "name 't' is not defined",
     "output_type": "error",
     "traceback": [
      "\u001b[1;31m---------------------------------------------------------------------------\u001b[0m",
      "\u001b[1;31mNameError\u001b[0m                                 Traceback (most recent call last)",
      "Cell \u001b[1;32mIn[1], line 1\u001b[0m\n\u001b[1;32m----> 1\u001b[0m a \u001b[38;5;241m=\u001b[39m t\n",
      "\u001b[1;31mNameError\u001b[0m: name 't' is not defined"
     ]
    }
   ],
   "source": [
    "a = t"
   ]
  },
  {
   "cell_type": "code",
   "execution_count": null,
   "metadata": {},
   "outputs": [],
   "source": [
    "import math\n",
    "pi = math.p"
   ]
  },
  {
   "cell_type": "code",
   "execution_count": null,
   "metadata": {},
   "outputs": [],
   "source": [
    "for i in range(5)\n",
    "    print(i)"
   ]
  },
  {
   "cell_type": "code",
   "execution_count": null,
   "metadata": {},
   "outputs": [],
   "source": [
    "print i"
   ]
  },
  {
   "cell_type": "code",
   "execution_count": null,
   "metadata": {},
   "outputs": [],
   "source": [
    "x = sqrt(5)"
   ]
  },
  {
   "cell_type": "code",
   "execution_count": null,
   "metadata": {},
   "outputs": [],
   "source": [
    "x = input(\"输入x\")\n",
    "y = x*x"
   ]
  },
  {
   "cell_type": "markdown",
   "metadata": {
    "tags": [],
    "toc-hr-collapsed": true
   },
   "source": [
    "### <font size=4><span id=\"3.8.2\"> 3.8.2 逻辑错误</span></font>\n",
    "- 四种方法：\n",
    "    - 增加print输出\n",
    "    - 设置断点:spyder等开发环境\n",
    "    - 单步执行\n",
    "    - 第三方库，如icecream"
   ]
  },
  {
   "cell_type": "markdown",
   "metadata": {},
   "source": [
    "#### (1) 增加print输出"
   ]
  },
  {
   "cell_type": "code",
   "execution_count": 2,
   "metadata": {},
   "outputs": [
    {
     "name": "stdout",
     "output_type": "stream",
     "text": [
      "\n",
      "1 * 0 = 1 \n",
      "2 * 0 = 4 2 * 1 = 4 \n",
      "3 * 0 = 9 3 * 1 = 9 3 * 2 = 9 \n",
      "4 * 0 = 16 4 * 1 = 16 4 * 2 = 16 4 * 3 = 16 \n",
      "5 * 0 = 25 5 * 1 = 25 5 * 2 = 25 5 * 3 = 25 5 * 4 = 25 \n",
      "6 * 0 = 36 6 * 1 = 36 6 * 2 = 36 6 * 3 = 36 6 * 4 = 36 6 * 5 = 36 \n",
      "7 * 0 = 49 7 * 1 = 49 7 * 2 = 49 7 * 3 = 49 7 * 4 = 49 7 * 5 = 49 7 * 6 = 49 \n"
     ]
    }
   ],
   "source": [
    "for i in range(8):\n",
    "    for j in range(i):\n",
    "        print(i,'*',j,'=',i*i, end=' ')\n",
    "\n",
    "    print()"
   ]
  },
  {
   "cell_type": "markdown",
   "metadata": {},
   "source": [
    "- 在怀疑有错误的地方，输出关键变量"
   ]
  },
  {
   "cell_type": "code",
   "execution_count": null,
   "metadata": {
    "scrolled": true
   },
   "outputs": [],
   "source": [
    "for i in range(5):\n",
    "    for j in range(i):\n",
    "        print(i,'*',j,'=',i*i, end=' ')\n",
    "    #print('***:',j)\n",
    "    print()"
   ]
  },
  {
   "cell_type": "markdown",
   "metadata": {},
   "source": [
    "#### (2) 设置断点\n",
    "- 一些集成开发环境中可以设置断点\n",
    "- 如spyder（演示一下）"
   ]
  },
  {
   "cell_type": "markdown",
   "metadata": {},
   "source": [
    "#### (3) 单步执行\n",
    "- 遇到问题输出结果检查逻辑问题"
   ]
  },
  {
   "cell_type": "markdown",
   "metadata": {},
   "source": [
    "#### (4) 第三方库：调试代码库icecream\n",
    "- 可以输出关系的变量"
   ]
  },
  {
   "cell_type": "markdown",
   "metadata": {},
   "source": [
    "[返回目录](#mulu3)"
   ]
  },
  {
   "cell_type": "markdown",
   "metadata": {},
   "source": [
    "### 本章结束"
   ]
  }
 ],
 "metadata": {
  "celltoolbar": "Raw Cell Format",
  "kernelspec": {
   "display_name": "Python 3 (ipykernel)",
   "language": "python",
   "name": "python3"
  },
  "language_info": {
   "codemirror_mode": {
    "name": "ipython",
    "version": 3
   },
   "file_extension": ".py",
   "mimetype": "text/x-python",
   "name": "python",
   "nbconvert_exporter": "python",
   "pygments_lexer": "ipython3",
   "version": "3.11.4"
  }
 },
 "nbformat": 4,
 "nbformat_minor": 4
}
