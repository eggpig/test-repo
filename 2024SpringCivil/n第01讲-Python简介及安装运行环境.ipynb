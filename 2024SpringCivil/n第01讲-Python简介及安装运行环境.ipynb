{
 "cells": [
  {
   "cell_type": "markdown",
   "metadata": {},
   "source": [
    "# 第一讲 绪论-Python简介及安装运行环境"
   ]
  },
  {
   "cell_type": "markdown",
   "metadata": {},
   "source": [
    "<span id=\"mulu1\"><font face=\"黑体\" size=5>本章目录</font></span>\n",
    "* [第01讲 绪论](#1)\n",
    "    \n",
    "    * [1.1 程序语言的分类](#1.1)\n",
    "    * [1.2 Python简介](#1.2)\n",
    "        * [1.2.1 发展历史](#1.2.1)\n",
    "        * [1.2.2 Python的热度](#1.2.2)\n",
    "        * [1.2.3 为什么 Python 会继续获得程序员的青睐呢？](#1.2.3)\n",
    "        * [1.2.4 Python的特点](#1.2.4)\n",
    "\n",
    "    * [1.3 Python环境安装与Jupyter Notebook 使用](#1.3)\n",
    "        * [1.3.1 环境安装](#1.3.1)\n",
    "        * [1.3.2 Jupyter Notebook](#1.3.2)\n",
    "        * [1.3.3 Notebook文件名](#1.3.3)\n",
    "        * [1.3.4 Cell-Notebook单元格](#1.3.4)\n",
    "        * [1.3.5 代码cell的若干运行方式](#1.3.5)\n",
    "        * [1.3.6 Kernel--Notebook之核](#1.3.6)\n",
    "        * [1.3.7 Jupyter Notebook常用操作](#1.3.7)\n",
    "        * [1.3.8 支持LaTex公式编辑](#1.3.8)\n",
    "        * [1.3.9 其他编程方式](#1.3.9)\n",
    "        \n",
    "    * [1.4 基本语法](#1.4)\n",
    "        * [1.4.1 代码规则](#1.4.1)\n",
    "        * [1.4.2 空白行](#1.4.2)\n",
    "        * [1.4.3 多行连接](#1.4.3)\n",
    "        * [1.4.4 多个语句一行](#1.4.4)\n",
    "        * [1.4.5 缩进](#1.4.5)\n",
    "        * [1.4.6 代码风格指南](#1.4.6)\n",
    "        * [1.4.7 保留字段](#1.4.7)\n",
    "        * [1.4.8 内置函数](#1.4.8)\n",
    "        * [1.4.9 内置函数help()](#1.4.9)\n",
    "    * [1.5 Python之禅](#1.5)   \n"
   ]
  },
  {
   "cell_type": "markdown",
   "metadata": {},
   "source": [
    "***"
   ]
  },
  {
   "cell_type": "markdown",
   "metadata": {},
   "source": [
    "## <font size=5><span id=\"1.1\"> 1.1 程序语言的分类 </span></font>"
   ]
  },
  {
   "cell_type": "markdown",
   "metadata": {},
   "source": [
    "- 机器语言\n",
    "  - 直接在硬件当中解释的语言。是一些非常低级的机器指令\n",
    "  <img src=\"images/chapter01/jqyy.png\" width=600>\n",
    "\n",
    "- 汇编语言\n",
    "  - 将机器代码编为更易读的东西。 它将人类可读的标签（或名称）分配给存储位置，跳转目标和子程序起始地址，但实际上并没有超出机器语言的范围  \n",
    "  <img src=\"images/chapter01/hbyy.png\" width=300>\n",
    "\n",
    "- 高级语言\n",
    "  - 高级语言脱离了特定机器的所有约束。并向编程人员提供了如下的功能：\n",
    "  - 为几乎所有的东西提供命名，如：变量，类型，子例程，常量，模块\n",
    "  - 复杂表达式（例如2 *（y ^ 5）> = 88 && sqrt（4.8）/ 2％3 == 9）\n",
    "  - 控制结构（条件，开关，循环）\n",
    "  - 复合类型（数组，结构）\n",
    "  - 类型声明\n",
    "  - 类型检查\n",
    "  - 管理全局，本地和堆存储的简单，通常是隐式的方法\n",
    "  - 子程序有自己的私有范围\n",
    "  - 抽象数据类型，模块，包，类\n",
    "  - 异常"
   ]
  },
  {
   "cell_type": "markdown",
   "metadata": {},
   "source": [
    "- 高级语言有哪些？\n",
    "  - C, C++,  java, C#,  Scala, Kotlin,  JavaScript, Erlang, Perl, **Python**, Ruby, Go, Swift\n",
    "- 高级语言的分类1：\n",
    "  - 面向过程的语言：FORTRAN，ALGOL，C，BASIC和ADA\n",
    "  - 面向对象的语言：C ++和C＃，java\n",
    "- 高级语言的分类2：  \n",
    "  - 编译性语言\n",
    "    - 只须编译一次就可以把源代码编译成机器语言，后面的执行无须重新编译，直接使用之前的编译结果就可以；因此其执行的效率比较高；\n",
    "    - C、C++、Pascal/Object Pascal（Delphi）\n",
    "    - 程序执行效率比较高，但比较依赖编译器，因此跨平台性差一些\n",
    "  - 解释性语言\n",
    "    - 源代码不能直接翻译成机器语言，而是先翻译成中间代码，再由解释器对中间代码进行解释运行\n",
    "    - 源代码—>中间代码—>机器语言\n",
    "    - 程序不需要编译，程序在运行时才翻译成机器语言，每执行一次都要翻译一次；\n",
    "    - 解释性语言代表：Python、JavaScript、Shell、Ruby、MATLAB等；\n",
    "    - 运行效率一般相对比较低，依赖解释器，跨平台性好；"
   ]
  },
  {
   "cell_type": "markdown",
   "metadata": {},
   "source": [
    "[返回目录](#mulu1)"
   ]
  },
  {
   "cell_type": "markdown",
   "metadata": {
    "tags": [],
    "toc-hr-collapsed": true
   },
   "source": [
    "## <font size=5><span id=\"1.2\"> 1.2 Python简介 </span></font>"
   ]
  },
  {
   "cell_type": "markdown",
   "metadata": {},
   "source": [
    "### <font size=4><span id=\"1.2.1\"> 1.2.1 发展历史</span></font>\n",
    "- 创始人为 Guido van Rossum 吉多·范罗苏姆\n",
    "    - 1989年圣诞节期间，在阿姆斯特丹，Guido为了打发圣诞节的无趣，决心开发一个新的脚本解释程序，做为ABC语言的一种继承。之所以选中Python（大蟒蛇的意思）作为程序的名字，是因为他是一个Monty 大蟒蛇飞行马戏团的爱好者。\n",
    "\n",
    "-  ABC 是由 Guido 参加设计的一种教学语言\n",
    "    - 就 Guido 本人看来，ABC这种语言非常优美和强大，是专门为非专业程序员设计的。\n",
    "    - 但是 ABC 语言并没有成功，究其原因，Guido 认为是非开放造成的\n",
    "    - Guido 决心在 Python 中避免这一错误（的确如此，Python 与其它的语言 如C,C++和Java结合的非常好）\n",
    "    - Guido 还努力试图实现在 ABC 中闪现过但未曾实现的功能特点\n",
    "\n",
    "[注]ABC语言是在NWO（荷兰科学研究组织）旗下CWI（数学与计算机科学国家研究所）的Leo Grurts，Lambert Meertens，Steven Pemberton主导研发一种交互式、结构化高级语言，旨在替代BASIC，Pascal等语言，用于教学及原型软件设计。Python创始人Guido van Rossum于20世纪80年代曾在ABC系统开发中工作了数年。\n",
    "\n",
    "\n",
    "- Python的创始人为Guido van Rossum(吉多·范罗苏姆)。  \n",
    "<img src=\"images/chapter01/van.jpg\" width=300>"
   ]
  },
  {
   "cell_type": "markdown",
   "metadata": {},
   "source": [
    "### <font size=4><span id=\"1.2.2\"> 1.2.2 Python的热度</span></font>\n",
    "- 热度逐年上升\n",
    "- https://www.tiobe.com/tiobe-index/"
   ]
  },
  {
   "cell_type": "markdown",
   "metadata": {},
   "source": [
    "<img src=\"images/chapter01/TIOBE_index_2022.png\">"
   ]
  },
  {
   "cell_type": "markdown",
   "metadata": {},
   "source": [
    "- IEEE的编程语言排行榜 —— 连续三年第一(2022年8月）    \n",
    "\n",
    "https://spectrum.ieee.org/top-programming-languages-2022#toggle-gdpr   \n",
    "<img src=\"images/chapter01/IEEE2022.png\" width=400>\n",
    "\n",
    "\n",
    "- PYPL 编程语言排行榜(2022年8月) - 基于Google上列表对象的相关搜索频率  \n",
    "\n",
    "\n",
    "https://pypl.github.io/PYPL.html    \n",
    "<img src=\"images/chapter01/pypl2022.png\" width =400>"
   ]
  },
  {
   "cell_type": "markdown",
   "metadata": {},
   "source": [
    "- 2022年各编程语言从业者工资的整体水平报告：编程语言与对应的平均工资排行   \n",
    "https://www.statista.com/statistics/1127190/programming-languages-associated-highest-salaries-worldwide/   \n",
    "\n",
    "<img src=\"images/chapter01/salary2022.png\" width = 500>"
   ]
  },
  {
   "cell_type": "markdown",
   "metadata": {},
   "source": [
    "###  <font size=4><span id=\"1.2.3\"> 1.2.3为什么 Python 会继续获得程序员的青睐呢？</span></font>\n",
    "-  优点\n",
    "\n",
    "    -  (1) python 语法简单自然，适合人类阅读\n",
    "    -  (2) 易学 —— python 虽然是用 C 语言写的，但是它摈弃了 C 中非常复杂的指针，简化了python的语法。\n",
    "    -  (3) Python 是 FLOSS（自由/开放源码软件）之一，协议最友好(几乎可以为所欲为)\n",
    "    -  (4) 可移植性\n",
    "    -  (5) 效率接近 C 语言 —— 可翻译成二进制代码运行\n",
    "    -  (6) 既支持面向过程，也支持面向对象的抽象编程\n",
    "    -  (7) 基于 C/C++ 的可扩展性和可嵌入性\n",
    "    -  (8) 各种功能 —— 丰富的库\n",
    "    -  (9) 精彩而强大 —— 高性能、编程简单有趣\n",
    "    -  (10) 规范格式，造就极佳的可读性\n",
    "    \n",
    "\n",
    "- 缺点\n",
    "    -  运行速度比 C 稍差"
   ]
  },
  {
   "cell_type": "markdown",
   "metadata": {},
   "source": [
    "### <font size=4><span id=\"1.2.4\"> 1.2.4 Python的特点</span></font>\n",
    "\n",
    "- 一种脚本语言，语法表达优美易读\n",
    "\n",
    "\n",
    "- 具有脚本语言的特点\n",
    "    - 解释型\n",
    "    - 面向对象\n",
    "    - 内建高级数据结构\n",
    "    - 可扩展 —— 支持模块和包\n",
    "    - 更强大的扩展能力 —— 跨平台、跨语言、接口等\n",
    "    - 支持交互式方式运行\n",
    "    - 支持图形方式运行\n",
    "    \n",
    "\n",
    "- 独特的格式\n",
    "    - 缩进分块表示\n",
    "    - 续行符 ```/```\n",
    "\n",
    "\n",
    "- 其它"
   ]
  },
  {
   "cell_type": "markdown",
   "metadata": {},
   "source": [
    "[返回目录](#mulu1)"
   ]
  },
  {
   "cell_type": "markdown",
   "metadata": {
    "tags": [],
    "toc-hr-collapsed": true
   },
   "source": [
    "## <font size=5><span id='1.3'> 1.3 Python环境安装与Jupyter Notebook 使用</span></font>"
   ]
  },
  {
   "cell_type": "markdown",
   "metadata": {},
   "source": [
    "### <font size=4><span id=\"1.3.1\"> 1.3.1 环境安装：https://www.anaconda.com/download/</span></font> \n",
    "- 可单独从官网下载 Python 并安装\n",
    "    - 模块如 numpy、scipy 等，要单独安装\n",
    "    \n",
    "    \n",
    "- 推荐集成平台 Anaconda\n",
    "\n",
    "- 访问 Anaconda 官网 [https://www.anaconda.com](https://www.anaconda.com)\n",
    "\n",
    "<img src=\"images/chapter01/anaconda_install_1.png\">"
   ]
  },
  {
   "cell_type": "markdown",
   "metadata": {},
   "source": [
    "___"
   ]
  },
  {
   "cell_type": "markdown",
   "metadata": {},
   "source": [
    "### <font size=4><span id=\"1.3.2\"> 1.3.2 Jupyter Notebook —— IPython 发展而来</span></font>\n",
    "\n",
    "- Jupyter Notebook（此前被称为 IPython notebook）是一个交互式笔记本，支持运行 40 多种编程语言\n",
    "\n",
    "\n",
    "- Jupyter Notebook 的本质是一个 Web 应用程序，便于创建和共享文本化程序文档，支持实时代码、数学方程、可视化和 markdown\n",
    "\n",
    "\n",
    "- 用途多样，包括\n",
    "    - 数据清理和转换\n",
    "    - 数值模拟\n",
    "    - 统计建模\n",
    "    - 机器学习\n",
    "    - 等等"
   ]
  },
  {
   "cell_type": "markdown",
   "metadata": {},
   "source": [
    "### <font size=4><span id=\"1.3.3\"> 1.3.3 Notebook 文件名 —— file_name.ipynb</span></font>\n",
    "- 文件名修改\n",
    "\n",
    "    - 文件夹内 windows 文件改名方式操作\n",
    "    <img src=\"images\\chapter01\\ui.png\" width=\"800\" height=\"600\">\n",
    "    - Jupyter Notebook 环境下单击左上文件名，再修改\n",
    "\n",
    "\n",
    "- ipynb 文件\n",
    "    - IPython NoteBook 简称\n",
    "    - 爱 Python NB 的简称\n",
    "    - interface\n"
   ]
  },
  {
   "cell_type": "markdown",
   "metadata": {},
   "source": [
    "### <font size=4><span id=\"1.3.4\"> 1.3.4 Cell —— Notebook 之单元格</span></font>\n",
    "\n",
    "- 每个格子的格式有三种类型\n",
    "    - 代码 (切换方式 Esc + Y)    \n",
    "    - markdown  (切换方式 Esc + M)\n",
    "    - Raw NBConvert (切换方式 Esc + R)\n",
    "    \n",
    "\n",
    "- markdown\n",
    "    - 是一种可以使用普通文本编辑器编写的标记语言，通过简单的标记语法，它可以使普通文本内容具有一定的格式\n",
    "    - 语法简洁明了、学习容易，而且功能比纯文本更强，已被很多人用来写博客\n",
    "    - 可快速转化为 PPT、Word、pdf 和 html 等格式文档\n",
    "    - 支持多媒体\n",
    "    - 支持 LaTex 公式编辑\n",
    "    - 还在发展中 ..."
   ]
  },
  {
   "cell_type": "markdown",
   "metadata": {},
   "source": [
    "### <font size=4><span id=\"1.3.5\"> 1.3.5代码 cell 的若干种运行方式</span></font>\n",
    "\n",
    "- 菜单 Cell\n",
    "- 工具按钮\n",
    "- **Alt - Enter** ：运行当前格子，并在后面增加新格子\n",
    "- **Shift - Enter** ：运行当前格子，并停在下一格子\n",
    "- **Ctrl - Enter** ：运行当前格子，并停住"
   ]
  },
  {
   "cell_type": "markdown",
   "metadata": {},
   "source": [
    "#### 例 1 —— Hello World!"
   ]
  },
  {
   "cell_type": "code",
   "execution_count": 3,
   "metadata": {},
   "outputs": [
    {
     "name": "stdout",
     "output_type": "stream",
     "text": [
      "Hello world!\n"
     ]
    }
   ],
   "source": [
    "print(\"Hello world!\")"
   ]
  },
  {
   "cell_type": "code",
   "execution_count": null,
   "metadata": {},
   "outputs": [],
   "source": []
  },
  {
   "cell_type": "markdown",
   "metadata": {},
   "source": [
    "#### 例 2 —— 注意最后输出\n",
    "\n",
    "- 如果变量名放在格子的最后一行，将产生格子的输出"
   ]
  },
  {
   "cell_type": "code",
   "execution_count": 4,
   "metadata": {},
   "outputs": [
    {
     "name": "stdout",
     "output_type": "stream",
     "text": [
      "print today is  20240229\n"
     ]
    },
    {
     "data": {
      "text/plain": [
       "('today is ', 20240229)"
      ]
     },
     "execution_count": 4,
     "metadata": {},
     "output_type": "execute_result"
    }
   ],
   "source": [
    "# 例2\n",
    "today = 20240229\n",
    "\n",
    "print(\"print today is \",today)\n",
    "\"today is \",today\n",
    "#print(\"welcome to python class\")"
   ]
  },
  {
   "cell_type": "code",
   "execution_count": null,
   "metadata": {},
   "outputs": [],
   "source": []
  },
  {
   "cell_type": "markdown",
   "metadata": {},
   "source": [
    "#### Session —— 对话\n",
    "\n",
    "- 一旦 notebook 运行, 将启动新的会话\n",
    "- 可从菜单 Kernel 启动"
   ]
  },
  {
   "cell_type": "markdown",
   "metadata": {},
   "source": [
    "### <font size=4><span id=\"1.3.6\"> 1.3.6 Kernel —— Notebook 之核</span></font>\n",
    "\n",
    "- 学习使用菜单 Kernel 中各子项"
   ]
  },
  {
   "cell_type": "code",
   "execution_count": null,
   "metadata": {},
   "outputs": [],
   "source": []
  },
  {
   "cell_type": "markdown",
   "metadata": {},
   "source": [
    "### <font size=4><span id=\"1.3.7\"> 1.3.7 Jupyter Notebook 常用操作</span></font>\n",
    "\n",
    "- H：查看快捷键\n",
    "\n",
    "\n",
    "- Esc：进入命令模式\n",
    "\n",
    "\n",
    "- Enter：进入编辑模式\n",
    "\n",
    "\n",
    "- 命令（进入命令模式后可用）\n",
    "     - M：markdown\n",
    "     - s：save保存\n",
    "     - x：删除\n",
    "     - a：above插入\n",
    "     - b：below插入\n",
    "     - Ctrl+Enter：运行并停在本格\n",
    "     - shift+Enter：运行并进入下一格\n",
    "     - Alt+Enter : 运行后，在下方插入新单元格并进入\n",
    "     - L：显示行号，在命令模式中的代码单元格按 `L` 打开数字\n",
    "     - Esc +Shift + M   合并单元格\n",
    "     \n",
    "     \n",
    "- 选择（命令模式下）\n",
    "    - 点击，单选\n",
    "    - Esc +Shift + J   或  Esc +Shift + Down   选择下一格\n",
    "    - Esc +Shift + K   或  Esc + Shift + Up    选择上一格\n",
    "    \n",
    "    \n",
    "- 选择后（命令模式下）\n",
    "     - X : 剪切选中的单元\n",
    "     - C : 复制选中的单元\n",
    "     - Shift-V : 粘贴到上方单元\n",
    "     - V : 粘贴到下方单元"
   ]
  },
  {
   "cell_type": "markdown",
   "metadata": {},
   "source": [
    "### <font size=4><span id=\"1.3.8\">1.3.8 支持 LaTex 公式编辑</span></font>\n",
    "\n",
    "- LaTeX 是一种基于 TEX 的排版系统，编写公式的能力强大->[百度解释LaTeX](https://baike.baidu.com/item/LaTeX/1212106)\n",
    "\n",
    "- 适合用来生成高印刷质量的科技和数学类文档\n",
    "\n",
    "- 参考 [www.ctex.org](www.ctex.org)\n",
    "\n",
    "- 有兴趣可以访问：[https://www.overleaf.com/](https://www.overleaf.com/)\n",
    "\n",
    "- 示例 —— Latex 代码及公式显示\n",
    "\n",
    "```\n",
    "$$\n",
    "e^{ix}=\\cos x + i \\sin x\n",
    "$$\n",
    "```\n",
    "\n",
    "$$\n",
    "e^{ix}=\\cos x + i \\sin x\n",
    "$$\n",
    "cos(x)"
   ]
  },
  {
   "cell_type": "markdown",
   "metadata": {
    "tags": []
   },
   "source": [
    "##### (*) LaTeX还可以用作word编辑中\n",
    "\n",
    "1） Alt + = 输入公式  \n",
    "2）latex代码copy进去  \n",
    "3）面板--设计--转换—当前专业，将LaTeX代码转化为数学公式  \n",
    "$a^2+b^2=c^2$  \n",
    "$\\pi$  "
   ]
  },
  {
   "cell_type": "markdown",
   "metadata": {},
   "source": [
    "### <font size=4><span id=\"1.3.9\">1.3.9 其他的编程方式</span></font>\n",
    "- spyder  # 演示一下\n",
    "- idle   # 演示一下\n",
    "- Pycharm(有些基础的同学)  #\n",
    "- vim\n",
    "- Visual Studio Code (VS code)  #"
   ]
  },
  {
   "cell_type": "markdown",
   "metadata": {},
   "source": [
    "[返回目录](#mulu1)"
   ]
  },
  {
   "cell_type": "markdown",
   "metadata": {
    "toc-hr-collapsed": true
   },
   "source": [
    "## <font size=5> <span id=\"1.4\"> 1.4 基本语法</span></font>\n",
    "- 基于解释器的解释语言"
   ]
  },
  {
   "cell_type": "markdown",
   "metadata": {},
   "source": [
    "### <font size=4><span id=\"1.4.1\"> 1.4.1 代码规则</span></font>\n",
    "\n",
    "- 每行一条语句或代码\n",
    "- 换行符 —— 意味着后接新的一行代码\n",
    "- 注释行 —— # 开头\n",
    "- 续行符 \\\n",
    "- 空行 —— 便于代码可读"
   ]
  },
  {
   "cell_type": "code",
   "execution_count": 6,
   "metadata": {},
   "outputs": [
    {
     "name": "stdout",
     "output_type": "stream",
     "text": [
      "你好，我是python新手！\n"
     ]
    },
    {
     "data": {
      "text/plain": [
       "16"
      ]
     },
     "execution_count": 6,
     "metadata": {},
     "output_type": "execute_result"
    }
   ],
   "source": [
    "# 例 3\n",
    "\n",
    "a = 2019;\n",
    "print (\"你好，我是python新手！\")\n",
    "b = 3 + 5 \\\n",
    "+ 8\n",
    "# 这一行是注释\n",
    "b # 注意，这一行会产生输出"
   ]
  },
  {
   "cell_type": "markdown",
   "metadata": {
    "tags": [],
    "toc-hr-collapsed": true
   },
   "source": [
    "### <font size=4><span id=\"1.4.2\"> 1.4.2 空白行</span></font>\n",
    "#### Python解释器忽略那种只有一些空格、tabs，注释的一行，均认为是空白行\n",
    "\n"
   ]
  },
  {
   "cell_type": "code",
   "execution_count": 7,
   "metadata": {},
   "outputs": [],
   "source": [
    "# comment\n",
    "    \n",
    "    # more comments\n",
    "\t\n",
    "                                    "
   ]
  },
  {
   "cell_type": "code",
   "execution_count": null,
   "metadata": {},
   "outputs": [],
   "source": [
    "##############################\n",
    "## 2022.8.30 第一次编写\n",
    "## 作者：mrj\n",
    "## a;sdkjfsad\n",
    "#############################\n",
    "# 代码在下面"
   ]
  },
  {
   "cell_type": "markdown",
   "metadata": {},
   "source": [
    "##### 注释从哈希字符#开始。所有的字符在行结束后都是注释的一部分，而Python解释器忽略了它们。\n",
    "##### 请注意，Python没有多行或块注释。"
   ]
  },
  {
   "cell_type": "markdown",
   "metadata": {},
   "source": [
    "### <font size=4><span id=\"1.4.3\"> 1.4.3 多行连接</span></font>\n",
    "\n",
    "  \n",
    "有时候遇到一行代码太长（打印和显示方便），会将一行用\\符号隔开，表示下一行是接着的"
   ]
  },
  {
   "cell_type": "code",
   "execution_count": null,
   "metadata": {},
   "outputs": [],
   "source": [
    "variable_number_one   = 1\n",
    "variable_number_two   = '2'\n",
    "if variable_number_one == 1 and variable_number_one < 2 \\\n",
    "and variable_number_two == '2':\n",
    "    print( \"This is an example of line joining\" )"
   ]
  },
  {
   "cell_type": "markdown",
   "metadata": {},
   "source": [
    "#### 注意： `\\`后面不能有其他字符，包括空格"
   ]
  },
  {
   "cell_type": "code",
   "execution_count": 8,
   "metadata": {},
   "outputs": [
    {
     "name": "stdout",
     "output_type": "stream",
     "text": [
      "This is an example of line joining\n"
     ]
    }
   ],
   "source": [
    "variable_number_one   = 1\n",
    "variable_number_two   = '2'\n",
    "if variable_number_one == 1 and variable_number_one < 2 \\\n",
    "and variable_number_two == '2':\n",
    "    print( \"This is an example of line joining\" )"
   ]
  },
  {
   "cell_type": "markdown",
   "metadata": {},
   "source": [
    "### <font size=4><span id=\"1.4.4\"> 1.4.4 多个语句一行</span></font>\n",
    "\n",
    "\n",
    "可以将多个语句写到一行，此时用分号隔开"
   ]
  },
  {
   "cell_type": "code",
   "execution_count": 9,
   "metadata": {},
   "outputs": [
    {
     "name": "stdout",
     "output_type": "stream",
     "text": [
      "Statement 1\n",
      "Statement 2\n"
     ]
    }
   ],
   "source": [
    "str1 = \"Statement 1\"; str2 = \"Statement 2\"; print(str1); print(str2)"
   ]
  },
  {
   "cell_type": "code",
   "execution_count": null,
   "metadata": {},
   "outputs": [],
   "source": [
    "# 等同于。。。。。。\n",
    "str1 = \"Statement 1\"\n",
    "str2 = \"Statement 2\"\n",
    "print(str1)\n",
    "print(str2)"
   ]
  },
  {
   "cell_type": "markdown",
   "metadata": {},
   "source": [
    "### <font size=4><span id=\"1.4.5\"> 1.4.5 缩进</span></font>\n",
    "\n",
    "\n",
    "- 用空格或者tab缩进一行代码；缩进的代码表示是一个块，从属于上面一句\n",
    "- 严格的缩进是的python代码非常精简而且有层次\n",
    "- 如果在正确的位置输入冒号，按下回车后，第二行代码会自动缩进"
   ]
  },
  {
   "cell_type": "code",
   "execution_count": 10,
   "metadata": {},
   "outputs": [],
   "source": [
    "x = 3"
   ]
  },
  {
   "cell_type": "code",
   "execution_count": 11,
   "metadata": {},
   "outputs": [
    {
     "name": "stdout",
     "output_type": "stream",
     "text": [
      "This statement\n",
      "and this has the same indentation\n"
     ]
    }
   ],
   "source": [
    "if x > 0:\n",
    "    print(\"This statement\")\n",
    "    print(\"and this has the same indentation\")\n",
    "else:\n",
    "    print(\"hahah\")\n",
    "    \n",
    "if x < 4:\n",
    "    pass\n",
    "    "
   ]
  },
  {
   "cell_type": "markdown",
   "metadata": {},
   "source": [
    "The number of whitespaces is not fixed. But all statements whithin the block must be indented the same amount of spaces or tabls or spaces and tabs.  \n",
    "缩进的空格数量不是固定的；但是在一个块内，要保持同样的缩进量"
   ]
  },
  {
   "cell_type": "code",
   "execution_count": null,
   "metadata": {},
   "outputs": [],
   "source": [
    "x = 5\n",
    "if x > 0:\n",
    "    print(\"x is greater than zero\") #缩进了4个空格\n",
    "    if x < 10:\n",
    "      print (\"x is single digit\")  #缩进了1个空格\n",
    "        print (\"This statement has 4 spaces and a single tab indentation\")"
   ]
  },
  {
   "cell_type": "code",
   "execution_count": 12,
   "metadata": {},
   "outputs": [
    {
     "name": "stdout",
     "output_type": "stream",
     "text": [
      "x is greater than zero\n",
      "x is single digit\n",
      "This statement has 4 spaces and a single tab indentation\n"
     ]
    }
   ],
   "source": [
    "x = 5\n",
    "if x > 0:\n",
    "    print(\"x is greater than zero\") #缩进了4个空格\n",
    "    if x < 10:\n",
    "        print (\"x is single digit\")  #缩进了1个空格\n",
    "        \n",
    "        print (\"This statement has 4 spaces and a single tab indentation\")"
   ]
  },
  {
   "cell_type": "markdown",
   "metadata": {},
   "source": [
    "### <font size=4><span id=\"1.4.6\"> 1.4.6 代码风格指南</span></font>\n",
    " * 使用4个空格，不要用tabs\n",
    " * 不要混合tab和空格\n",
    " * 最多79个字符一行\n",
    " * 用空行区分不同程序块\n",
    " * 尽可能的注释\n",
    " * 在表达式和语句中多用空格"
   ]
  },
  {
   "cell_type": "code",
   "execution_count": 13,
   "metadata": {},
   "outputs": [
    {
     "name": "stdout",
     "output_type": "stream",
     "text": [
      "(1+1j)\n"
     ]
    },
    {
     "data": {
      "text/plain": [
       "complex"
      ]
     },
     "execution_count": 13,
     "metadata": {},
     "output_type": "execute_result"
    }
   ],
   "source": [
    "x = 1 + 1j\n",
    "print(x)\n",
    "type(x)"
   ]
  },
  {
   "cell_type": "code",
   "execution_count": null,
   "metadata": {},
   "outputs": [],
   "source": [
    "a = 3 + 2 "
   ]
  },
  {
   "cell_type": "code",
   "execution_count": 14,
   "metadata": {},
   "outputs": [
    {
     "data": {
      "text/plain": [
       "2j"
      ]
     },
     "execution_count": 14,
     "metadata": {},
     "output_type": "execute_result"
    }
   ],
   "source": [
    "import math\n",
    "math.sqrt(4) * 1j"
   ]
  },
  {
   "cell_type": "code",
   "execution_count": 15,
   "metadata": {},
   "outputs": [
    {
     "data": {
      "text/plain": [
       "2j"
      ]
     },
     "execution_count": 15,
     "metadata": {},
     "output_type": "execute_result"
    }
   ],
   "source": [
    "4**0.5 * 1j"
   ]
  },
  {
   "cell_type": "code",
   "execution_count": null,
   "metadata": {},
   "outputs": [],
   "source": [
    "# 求方程根的代码\n",
    "import math\n",
    "a = 3\n",
    "b = 4\n",
    "c = 7\n",
    "# a*x*x+b*x+c=0\n",
    "delta = b * b - 4 * a * c\n",
    "if delta >= 0:\n",
    "    r = -1*b/2/a\n",
    "    s = math.sqrt(delta)/2/a\n",
    "    x1 = r + s\n",
    "    x2 = r - s\n",
    "else:\n",
    "    r = -1*b/2/a\n",
    "    s = math.sqrt(-1*delta)/2/a\n",
    "    x1 = r + s * 1j\n",
    "    x2 = r - s * 1j\n",
    "x1, x2\n"
   ]
  },
  {
   "cell_type": "markdown",
   "metadata": {},
   "source": [
    "### <font size=4><span id=\"1.4.7\"> 1.4.7 保留字段</span></font>\n",
    "\n",
    "一些关键字是系统自带的保留字，即不能用作为标识符"
   ]
  },
  {
   "cell_type": "markdown",
   "metadata": {},
   "source": [
    "#### <font>合法的标识符</font>\n",
    "- 字母  数字  下划线 :  `a~z  A~Z 0~9 _ `  \n",
    "- 不能以数字开头  \n",
    "- 不能与系统自带的标识符重名"
   ]
  },
  {
   "cell_type": "markdown",
   "metadata": {},
   "source": [
    "`b_2     _2b      b-3      for     a.b`"
   ]
  },
  {
   "cell_type": "code",
   "execution_count": 16,
   "metadata": {},
   "outputs": [
    {
     "data": {
      "text/plain": [
       "['False',\n",
       " 'None',\n",
       " 'True',\n",
       " 'and',\n",
       " 'as',\n",
       " 'assert',\n",
       " 'async',\n",
       " 'await',\n",
       " 'break',\n",
       " 'class',\n",
       " 'continue',\n",
       " 'def',\n",
       " 'del',\n",
       " 'elif',\n",
       " 'else',\n",
       " 'except',\n",
       " 'finally',\n",
       " 'for',\n",
       " 'from',\n",
       " 'global',\n",
       " 'if',\n",
       " 'import',\n",
       " 'in',\n",
       " 'is',\n",
       " 'lambda',\n",
       " 'nonlocal',\n",
       " 'not',\n",
       " 'or',\n",
       " 'pass',\n",
       " 'raise',\n",
       " 'return',\n",
       " 'try',\n",
       " 'while',\n",
       " 'with',\n",
       " 'yield']"
      ]
     },
     "execution_count": 16,
     "metadata": {},
     "output_type": "execute_result"
    }
   ],
   "source": [
    "import keyword\n",
    "keyword.kwlist"
   ]
  },
  {
   "cell_type": "markdown",
   "metadata": {},
   "source": [
    "### <font size=4><span id=\"1.4.8\"> 1.4.8 内置函数</span></font>\n",
    "- 如：`print()`   `input()`   `help()`\n",
    "- `dir(\\__builtins__)`可以看到内置函数列表"
   ]
  },
  {
   "cell_type": "code",
   "execution_count": 17,
   "metadata": {},
   "outputs": [
    {
     "data": {
      "text/plain": [
       "['ArithmeticError',\n",
       " 'AssertionError',\n",
       " 'AttributeError',\n",
       " 'BaseException',\n",
       " 'BaseExceptionGroup',\n",
       " 'BlockingIOError',\n",
       " 'BrokenPipeError',\n",
       " 'BufferError',\n",
       " 'BytesWarning',\n",
       " 'ChildProcessError',\n",
       " 'ConnectionAbortedError',\n",
       " 'ConnectionError',\n",
       " 'ConnectionRefusedError',\n",
       " 'ConnectionResetError',\n",
       " 'DeprecationWarning',\n",
       " 'EOFError',\n",
       " 'Ellipsis',\n",
       " 'EncodingWarning',\n",
       " 'EnvironmentError',\n",
       " 'Exception',\n",
       " 'ExceptionGroup',\n",
       " 'False',\n",
       " 'FileExistsError',\n",
       " 'FileNotFoundError',\n",
       " 'FloatingPointError',\n",
       " 'FutureWarning',\n",
       " 'GeneratorExit',\n",
       " 'IOError',\n",
       " 'ImportError',\n",
       " 'ImportWarning',\n",
       " 'IndentationError',\n",
       " 'IndexError',\n",
       " 'InterruptedError',\n",
       " 'IsADirectoryError',\n",
       " 'KeyError',\n",
       " 'KeyboardInterrupt',\n",
       " 'LookupError',\n",
       " 'MemoryError',\n",
       " 'ModuleNotFoundError',\n",
       " 'NameError',\n",
       " 'None',\n",
       " 'NotADirectoryError',\n",
       " 'NotImplemented',\n",
       " 'NotImplementedError',\n",
       " 'OSError',\n",
       " 'OverflowError',\n",
       " 'PendingDeprecationWarning',\n",
       " 'PermissionError',\n",
       " 'ProcessLookupError',\n",
       " 'RecursionError',\n",
       " 'ReferenceError',\n",
       " 'ResourceWarning',\n",
       " 'RuntimeError',\n",
       " 'RuntimeWarning',\n",
       " 'StopAsyncIteration',\n",
       " 'StopIteration',\n",
       " 'SyntaxError',\n",
       " 'SyntaxWarning',\n",
       " 'SystemError',\n",
       " 'SystemExit',\n",
       " 'TabError',\n",
       " 'TimeoutError',\n",
       " 'True',\n",
       " 'TypeError',\n",
       " 'UnboundLocalError',\n",
       " 'UnicodeDecodeError',\n",
       " 'UnicodeEncodeError',\n",
       " 'UnicodeError',\n",
       " 'UnicodeTranslateError',\n",
       " 'UnicodeWarning',\n",
       " 'UserWarning',\n",
       " 'ValueError',\n",
       " 'Warning',\n",
       " 'WindowsError',\n",
       " 'ZeroDivisionError',\n",
       " '__IPYTHON__',\n",
       " '__build_class__',\n",
       " '__debug__',\n",
       " '__doc__',\n",
       " '__import__',\n",
       " '__loader__',\n",
       " '__name__',\n",
       " '__package__',\n",
       " '__spec__',\n",
       " 'abs',\n",
       " 'aiter',\n",
       " 'all',\n",
       " 'anext',\n",
       " 'any',\n",
       " 'ascii',\n",
       " 'bin',\n",
       " 'bool',\n",
       " 'breakpoint',\n",
       " 'bytearray',\n",
       " 'bytes',\n",
       " 'callable',\n",
       " 'chr',\n",
       " 'classmethod',\n",
       " 'compile',\n",
       " 'complex',\n",
       " 'copyright',\n",
       " 'credits',\n",
       " 'delattr',\n",
       " 'dict',\n",
       " 'dir',\n",
       " 'display',\n",
       " 'divmod',\n",
       " 'enumerate',\n",
       " 'eval',\n",
       " 'exec',\n",
       " 'execfile',\n",
       " 'filter',\n",
       " 'float',\n",
       " 'format',\n",
       " 'frozenset',\n",
       " 'get_ipython',\n",
       " 'getattr',\n",
       " 'globals',\n",
       " 'hasattr',\n",
       " 'hash',\n",
       " 'help',\n",
       " 'hex',\n",
       " 'id',\n",
       " 'input',\n",
       " 'int',\n",
       " 'isinstance',\n",
       " 'issubclass',\n",
       " 'iter',\n",
       " 'len',\n",
       " 'license',\n",
       " 'list',\n",
       " 'locals',\n",
       " 'map',\n",
       " 'max',\n",
       " 'memoryview',\n",
       " 'min',\n",
       " 'next',\n",
       " 'object',\n",
       " 'oct',\n",
       " 'open',\n",
       " 'ord',\n",
       " 'pow',\n",
       " 'print',\n",
       " 'property',\n",
       " 'range',\n",
       " 'repr',\n",
       " 'reversed',\n",
       " 'round',\n",
       " 'runfile',\n",
       " 'set',\n",
       " 'setattr',\n",
       " 'slice',\n",
       " 'sorted',\n",
       " 'staticmethod',\n",
       " 'str',\n",
       " 'sum',\n",
       " 'super',\n",
       " 'tuple',\n",
       " 'type',\n",
       " 'vars',\n",
       " 'zip']"
      ]
     },
     "execution_count": 17,
     "metadata": {},
     "output_type": "execute_result"
    }
   ],
   "source": [
    "dir(__builtins__)"
   ]
  },
  {
   "cell_type": "code",
   "execution_count": 18,
   "metadata": {},
   "outputs": [
    {
     "data": {
      "text/plain": [
       "['In',\n",
       " 'Out',\n",
       " '_',\n",
       " '_13',\n",
       " '_14',\n",
       " '_15',\n",
       " '_16',\n",
       " '_17',\n",
       " '_4',\n",
       " '_6',\n",
       " '__',\n",
       " '___',\n",
       " '__builtin__',\n",
       " '__builtins__',\n",
       " '__doc__',\n",
       " '__loader__',\n",
       " '__name__',\n",
       " '__package__',\n",
       " '__spec__',\n",
       " '__vsc_ipynb_file__',\n",
       " '_dh',\n",
       " '_i',\n",
       " '_i1',\n",
       " '_i10',\n",
       " '_i11',\n",
       " '_i12',\n",
       " '_i13',\n",
       " '_i14',\n",
       " '_i15',\n",
       " '_i16',\n",
       " '_i17',\n",
       " '_i18',\n",
       " '_i2',\n",
       " '_i3',\n",
       " '_i4',\n",
       " '_i5',\n",
       " '_i6',\n",
       " '_i7',\n",
       " '_i8',\n",
       " '_i9',\n",
       " '_ih',\n",
       " '_ii',\n",
       " '_iii',\n",
       " '_oh',\n",
       " 'a',\n",
       " 'b',\n",
       " 'exit',\n",
       " 'get_ipython',\n",
       " 'keyword',\n",
       " 'math',\n",
       " 'open',\n",
       " 'quit',\n",
       " 'str1',\n",
       " 'str2',\n",
       " 'today',\n",
       " 'variable_number_one',\n",
       " 'variable_number_two',\n",
       " 'x']"
      ]
     },
     "execution_count": 18,
     "metadata": {},
     "output_type": "execute_result"
    }
   ],
   "source": [
    "dir()"
   ]
  },
  {
   "cell_type": "code",
   "execution_count": 19,
   "metadata": {},
   "outputs": [],
   "source": [
    "del a"
   ]
  },
  {
   "cell_type": "code",
   "execution_count": 20,
   "metadata": {},
   "outputs": [
    {
     "data": {
      "text/plain": [
       "['In',\n",
       " 'Out',\n",
       " '_',\n",
       " '_13',\n",
       " '_14',\n",
       " '_15',\n",
       " '_16',\n",
       " '_17',\n",
       " '_18',\n",
       " '_4',\n",
       " '_6',\n",
       " '__',\n",
       " '___',\n",
       " '__builtin__',\n",
       " '__builtins__',\n",
       " '__doc__',\n",
       " '__loader__',\n",
       " '__name__',\n",
       " '__package__',\n",
       " '__spec__',\n",
       " '__vsc_ipynb_file__',\n",
       " '_dh',\n",
       " '_i',\n",
       " '_i1',\n",
       " '_i10',\n",
       " '_i11',\n",
       " '_i12',\n",
       " '_i13',\n",
       " '_i14',\n",
       " '_i15',\n",
       " '_i16',\n",
       " '_i17',\n",
       " '_i18',\n",
       " '_i19',\n",
       " '_i2',\n",
       " '_i20',\n",
       " '_i3',\n",
       " '_i4',\n",
       " '_i5',\n",
       " '_i6',\n",
       " '_i7',\n",
       " '_i8',\n",
       " '_i9',\n",
       " '_ih',\n",
       " '_ii',\n",
       " '_iii',\n",
       " '_oh',\n",
       " 'aa',\n",
       " 'aaaa',\n",
       " 'b',\n",
       " 'exit',\n",
       " 'get_ipython',\n",
       " 'keyword',\n",
       " 'math',\n",
       " 'open',\n",
       " 'quit',\n",
       " 'str1',\n",
       " 'str2',\n",
       " 'today',\n",
       " 'variable_number_one',\n",
       " 'variable_number_two',\n",
       " 'x']"
      ]
     },
     "execution_count": 20,
     "metadata": {},
     "output_type": "execute_result"
    }
   ],
   "source": [
    "aa = 3\n",
    "aaaa = 5\n",
    "dir()  #python内置函数；\n",
    "        # 不带参数时，返回当前范围内的变量、方法和定义的类型列表\n",
    "        # 带参数时，返回参数的属性、方法列表\n",
    "\n"
   ]
  },
  {
   "cell_type": "markdown",
   "metadata": {},
   "source": [
    "### <font size=4><span id=\"1.4.9\"> 1.4.9 内置函数help()</span></font>\n",
    "- 语法\n",
    "```python\n",
    ">>> help() \n",
    ">>> help(*args, **kwds)\n",
    "```\n",
    "\n",
    "\n",
    "- 说明\n",
    "    - 不带参数时，交互式帮助\n",
    "    - 带参数时，查看函数或模块用途的详细说明"
   ]
  },
  {
   "cell_type": "code",
   "execution_count": 21,
   "metadata": {},
   "outputs": [
    {
     "name": "stdout",
     "output_type": "stream",
     "text": [
      "Help on built-in function print in module builtins:\n",
      "\n",
      "print(*args, sep=' ', end='\\n', file=None, flush=False)\n",
      "    Prints the values to a stream, or to sys.stdout by default.\n",
      "    \n",
      "    sep\n",
      "      string inserted between values, default a space.\n",
      "    end\n",
      "      string appended after the last value, default a newline.\n",
      "    file\n",
      "      a file-like object (stream); defaults to the current sys.stdout.\n",
      "    flush\n",
      "      whether to forcibly flush the stream.\n",
      "\n"
     ]
    }
   ],
   "source": [
    "help(print)"
   ]
  },
  {
   "cell_type": "code",
   "execution_count": 22,
   "metadata": {},
   "outputs": [
    {
     "name": "stdout",
     "output_type": "stream",
     "text": [
      "Help on built-in function print in module builtins:\n",
      "\n",
      "print(*args, sep=' ', end='\\n', file=None, flush=False)\n",
      "    Prints the values to a stream, or to sys.stdout by default.\n",
      "    \n",
      "    sep\n",
      "      string inserted between values, default a space.\n",
      "    end\n",
      "      string appended after the last value, default a newline.\n",
      "    file\n",
      "      a file-like object (stream); defaults to the current sys.stdout.\n",
      "    flush\n",
      "      whether to forcibly flush the stream.\n",
      "\n"
     ]
    }
   ],
   "source": [
    "help(print)"
   ]
  },
  {
   "cell_type": "code",
   "execution_count": null,
   "metadata": {},
   "outputs": [],
   "source": [
    "help(print)   # 内置函数，查看函数或模块用途的详细说明"
   ]
  },
  {
   "cell_type": "code",
   "execution_count": 23,
   "metadata": {},
   "outputs": [
    {
     "name": "stdout",
     "output_type": "stream",
     "text": [
      "Help on function copy in module copy:\n",
      "\n",
      "copy(x)\n",
      "    Shallow copy operation on arbitrary Python objects.\n",
      "    \n",
      "    See the module's __doc__ string for more info.\n",
      "\n"
     ]
    }
   ],
   "source": [
    "#help(str)\n",
    "import copy\n",
    "help(copy.copy)"
   ]
  },
  {
   "cell_type": "code",
   "execution_count": 24,
   "metadata": {},
   "outputs": [
    {
     "name": "stdout",
     "output_type": "stream",
     "text": [
      "Help on function copy in module copy:\n",
      "\n",
      "copy(x)\n",
      "    Shallow copy operation on arbitrary Python objects.\n",
      "    \n",
      "    See the module's __doc__ string for more info.\n",
      "\n"
     ]
    }
   ],
   "source": [
    "help(copy.copy)"
   ]
  },
  {
   "cell_type": "code",
   "execution_count": 25,
   "metadata": {},
   "outputs": [
    {
     "name": "stdout",
     "output_type": "stream",
     "text": [
      "\u001b[1;31mSignature:\u001b[0m \u001b[0mcopy\u001b[0m\u001b[1;33m.\u001b[0m\u001b[0mcopy\u001b[0m\u001b[1;33m(\u001b[0m\u001b[0mx\u001b[0m\u001b[1;33m)\u001b[0m\u001b[1;33m\u001b[0m\u001b[1;33m\u001b[0m\u001b[0m\n",
      "\u001b[1;31mDocstring:\u001b[0m\n",
      "Shallow copy operation on arbitrary Python objects.\n",
      "\n",
      "See the module's __doc__ string for more info.\n",
      "\u001b[1;31mFile:\u001b[0m      e:\\anaconda\\anaconda3\\lib\\copy.py\n",
      "\u001b[1;31mType:\u001b[0m      function"
     ]
    }
   ],
   "source": [
    "?copy.copy"
   ]
  },
  {
   "cell_type": "code",
   "execution_count": null,
   "metadata": {},
   "outputs": [],
   "source": [
    "copy.copy"
   ]
  },
  {
   "cell_type": "markdown",
   "metadata": {},
   "source": [
    "[返回目录](#mulu1)"
   ]
  },
  {
   "cell_type": "markdown",
   "metadata": {},
   "source": [
    "## <font size=5><span id=\"1.5\"> 1.5 Python之禅</span></font>"
   ]
  },
  {
   "cell_type": "code",
   "execution_count": null,
   "metadata": {},
   "outputs": [],
   "source": [
    "import this"
   ]
  },
  {
   "cell_type": "markdown",
   "metadata": {},
   "source": [
    "- 优美胜于丑陋（Python 以编写优美的代码为目标）\n",
    "- 明了胜于晦涩（优美的代码应当是明了的，命名规范，风格相似）\n",
    "- 简洁胜于复杂（优美的代码应当是简洁的，不要有复杂的内部实现）\n",
    "- 复杂胜于凌乱（如果复杂不可避免，那代码间也不能有难懂的关系，要保持接口简洁）\n",
    "- 扁平胜于嵌套（优美的代码应当是扁平的，不能有太多的嵌套）\n",
    "- 间隔胜于紧凑（优美的代码有适当的间隔，不要奢望一行代码解决问题）\n",
    "- 可读性很重要（优美的代码是可读的）\n",
    "- 即便假借特例的实用性之名，也不可违背这些规则（这些规则至高无上）\n",
    "- 不要包容所有错误，除非你确定需要这样做（精准地捕获异常，不写 except:pass 风格的代码）\n",
    "- 当存在多种可能，不要尝试去猜测\n",
    "- 而是尽量找一种，最好是唯一一种明显的解决方案（如果不确定，就用穷举法）\n",
    "- 虽然这并不容易，因为你不是 Python 之父（这里的 Dutch 是指 Guido ）\n",
    "- 做也许好过不做，但不假思索就动手还不如不做（动手之前要细思量）\n",
    "- 如果你无法向人描述你的方案，那肯定不是一个好方案；反之亦然（方案测评标准）\n",
    "- 命名空间是一种绝妙的理念，我们应当多加利用（倡导与号召）"
   ]
  },
  {
   "cell_type": "code",
   "execution_count": 27,
   "metadata": {},
   "outputs": [
    {
     "name": "stdout",
     "output_type": "stream",
     "text": [
      "The Zen of Python, by Tim Peters\n",
      "\n",
      "Beautiful is better than ugly.\n",
      "Explicit is better than implicit.\n",
      "Simple is better than complex.\n",
      "Complex is better than complicated.\n",
      "Flat is better than nested.\n",
      "Sparse is better than dense.\n",
      "Readability counts.\n",
      "Special cases aren't special enough to break the rules.\n",
      "Although practicality beats purity.\n",
      "Errors should never pass silently.\n",
      "Unless explicitly silenced.\n",
      "In the face of ambiguity, refuse the temptation to guess.\n",
      "There should be one-- and preferably only one --obvious way to do it.\n",
      "Although that way may not be obvious at first unless you're Dutch.\n",
      "Now is better than never.\n",
      "Although never is often better than *right* now.\n",
      "If the implementation is hard to explain, it's a bad idea.\n",
      "If the implementation is easy to explain, it may be a good idea.\n",
      "Namespaces are one honking great idea -- let's do more of those!\n"
     ]
    }
   ],
   "source": [
    "import this"
   ]
  },
  {
   "cell_type": "markdown",
   "metadata": {},
   "source": [
    "## References\n",
    "https://www.w3resource.com/python/python-syntax.php"
   ]
  },
  {
   "cell_type": "markdown",
   "metadata": {},
   "source": [
    "[返回目录](#mulu1)"
   ]
  },
  {
   "cell_type": "markdown",
   "metadata": {},
   "source": [
    "### 第1讲 结束"
   ]
  },
  {
   "cell_type": "markdown",
   "metadata": {},
   "source": [
    "[返回目录](#mulu1)"
   ]
  }
 ],
 "metadata": {
  "kernelspec": {
   "display_name": "Python 3 (ipykernel)",
   "language": "python",
   "name": "python3"
  },
  "language_info": {
   "codemirror_mode": {
    "name": "ipython",
    "version": 3
   },
   "file_extension": ".py",
   "mimetype": "text/x-python",
   "name": "python",
   "nbconvert_exporter": "python",
   "pygments_lexer": "ipython3",
   "version": "3.11.7"
  }
 },
 "nbformat": 4,
 "nbformat_minor": 4
}
