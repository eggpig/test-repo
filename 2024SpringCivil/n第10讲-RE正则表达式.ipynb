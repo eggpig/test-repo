{
 "cells": [
  {
   "cell_type": "markdown",
   "metadata": {},
   "source": [
    "<span id=\"mulu\"><font face=\"黑体\" size=6>本章目录</font></span>\n",
    "* [第十讲 正则表达式](#10)\n",
    "\n",
    "    * [10.1 基本概念与元字符](#10.1)\n",
    "    * [10.2 断言与匹配模式](#10.2)\n",
    "    * [10.3 re模块](#10.3)"
   ]
  },
  {
   "cell_type": "markdown",
   "metadata": {},
   "source": [
    "# 第10讲 正则表达式"
   ]
  },
  {
   "cell_type": "markdown",
   "metadata": {
    "tags": [],
    "toc-hr-collapsed": true
   },
   "source": [
    "## <font size=5><span id=\"10.1\"> 10.1 基本概念与元字符</span></font>"
   ]
  },
  {
   "cell_type": "markdown",
   "metadata": {},
   "source": [
    "#### 正则表达式是⼀种从左到右匹配主体字符串的模式，即Regular Expression，通常简写为regex\n",
    "#### 正则表达式其实就是在执行搜索时的格式，它由一些字母和数字组合而成，形如^[a-z0-9_-]{3,15}$\n",
    "##### 例如正则表达式\"the\"，它表示一个规则：由字母t开始，接着是h，再接着是e\n",
    "-\"the\" => The fat cat sat on \"the\" mat.\n",
    "##### 正则表达式是大小写敏感的，因此规则\"The\"与规则\"the\"是不同的\n",
    "-\"The\" => \"The\" fat cat sat on the mat."
   ]
  },
  {
   "cell_type": "markdown",
   "metadata": {},
   "source": [
    "### 元字符与量词\n",
    "#### 正则表达式主要依赖于元字符，元字符不代表其字面意义且在方括号[]中可能改变其含义，因此：\n",
    "\n",
    "- 字母和数字表示他们自身。一个正则表达式模式中的字母和数字匹配与其完全相同的字符串。\n",
    "- 多数字母和数字前加一个反斜杠时会拥有不同的含义。\n",
    "- 标点符号只有被转义时才匹配自身，否则它们表示特殊的含义。\n",
    "- 反斜杠本身需要使用反斜杠转义。\n",
    "- 由于正则表达式通常都包含反斜杠，所以最好使用原始字符串来表示它们。模式元素(如 r'\\t'，等价于'\\\\t')匹配相应的特殊字符。\n",
    "\n",
    "#### 下表列出了正则表达式模式语法中的元字符与量词。请注意转义字符可以与其他元字符组合"
   ]
  },
  {
   "cell_type": "markdown",
   "metadata": {},
   "source": [
    "|元字符|描述|\n",
    "|---|---|\n",
    "|.|句号匹配除换⾏符外的任意单个字符|\n",
    "|\\[ \\]|指定匹配字符集，匹配方括号内的任意字符|\n",
    "|\\[^\\]|指定否定匹配字符集，匹配除方括号内字符集的任意字符|\n",
    "|*|匹配至少0个重复的在此元字符之前的字符|\n",
    "|+|匹配至少1个重复的在此元字符之前的字符|\n",
    "|?|标记此元字符之前的字符为可选字符，即出现0或1次|\n",
    "|||或运算符，匹配前或后的字符|\n",
    "|{n,m}|匹配num个大括号之前的字符集，其中n<=num<=m|\n",
    "|(xyz)|匹配与xyz完全相等的字符串|\n",
    "|\\^|从字符串起始处开始匹配|\n",
    "|$|从字符串结束处开始匹配|\n",
    "\n",
    "#### 特别的，\\\\ 为转义字符，用于匹配多数元字符，以指定这些特殊字符自身，可匹配\\[\\] () {} . * + ? ^ \\\\ $ \\|\n",
    "\n",
    "\n"
   ]
  },
  {
   "cell_type": "markdown",
   "metadata": {},
   "source": [
    "### 元字符使用示例\n",
    "##### 点运算符 .\n",
    "\".ar\" => The “car” “par”ked in the “gar”age.\n",
    "##### 字符集 [ ] \n",
    "- \"[Tt]he\" => \"The\" car parked in \"the\" garage.\n",
    "- 字符集表示至少选择其中一个字符匹配，因此其中字符不关心顺序，用连字符表示\n",
    "- \"ar[.?!]\" => A garage is a good place to park a c\"ar.\"\n",
    "\n",
    "##### 否定字符集 [^] \n",
    "\"[^cg]ar\" => The car \"par\"ked in the garage.\n",
    "##### 重复次数 + * ？\n",
    "- \"a*\" => The f\"at\" c\"at\" s\"at\" on the m\"at\".可使用“.*”匹配全部字符\n",
    "- \"a.+t\"=> The f\"at cat sat on the mat\".\n",
    "- \"a?.+t\"=> \"The fat cat sat on the mat\".\n",
    "\n",
    "##### 量词 { }\n",
    "- \"9{2,3}\" => The number was 9.\"999\"7 but we rounded it off to 10.0.\n",
    "- \"f{2,}\" => The number was 9.9997 but we rounded it o\"ff\" to 10.0. 注意至多、至少或固定匹配位数的表示方法\n",
    "\n",
    "##### 或运算符 |\n",
    "\"(T|h)he\" => \"The\" car parked in \"the\" garage.\n",
    "##### 特征标群 ( ) ——注意与 { } 的区别\n",
    "- \"(c|g|p)ar\" => The \"car\" \"par\"ked in the \"gar\"age.\n",
    "- \"c|g|par\" => The \"c\"ar \"par\"ked in the \"g\"ara\"g\"e.\n",
    "- \"[cgp]ar\" => The \"car\" \"par\"ked in the \"gar\"age.\n",
    "\n",
    "##### 转义字符 \\\\\n",
    "\"(f|c|m)at\\\\.?\" => The \"fat\" \"cat\" sat on the \"mat.\"\n",
    "##### 锚点 ^ \\$ ——注意 ^ 与 \\[^\\] 的区别\n",
    "- \"(T|t)he\" => \"The\" car is parked in \"the\" garage.\n",
    "- \"^(T|t)he\" => \"The\" car is parked in the garage.\n",
    "- \"$(T|t)he\" => The car is parked in \"the\" garage."
   ]
  },
  {
   "cell_type": "markdown",
   "metadata": {},
   "source": [
    "### 简写字符集\n",
    "\n",
    "#### 下表列出了正则表达式模式语法中的简写字符集，及与其等价的原始字符集"
   ]
  },
  {
   "cell_type": "markdown",
   "metadata": {},
   "source": [
    "|简写字符集|描述|等价字符集\n",
    "|-|-|-|\n",
    "|.|\t匹配除换行符外的任意字符|\\[.\\]|\n",
    "|\\w\t|匹配所有字母数字|\\[a-zA-Z0-9\\]|\n",
    "|\\W\t|匹配所有非字母数字，即符号|\\[^\\w\\]|\n",
    "|\\s\t|匹配所有空字符|\\[\\t\\n\\r\\f\\]|\n",
    "|\\S\t|匹配所有非空字符|\\[^\\s\\]|\n",
    "|\\d\t|匹配任意数字|\\[0-9\\]|\n",
    "|\\D\t|匹配任意非数字|\\[^\\d\\]|\n",
    "|\\f\t|匹配一个换页符|\n",
    "|\\n\t|匹配一个换行符|\n",
    "|\\r\t|匹配一个回车符|\n",
    "|\\t\t|匹配一个水平制表符|\n",
    "|\\v\t|匹配一个垂直制表符|\n",
    "|\\p\t|匹配一个行终止符，即\\r\\n|\n"
   ]
  },
  {
   "cell_type": "markdown",
   "metadata": {
    "tags": [],
    "toc-hr-collapsed": true
   },
   "source": [
    "## <font size=5><span id=\"10.2\"> 10.2 断言与匹配模式</span></font>"
   ]
  },
  {
   "cell_type": "markdown",
   "metadata": {},
   "source": [
    "#### 断言用于判断所匹配的格式是否在另一个确定的格式之前或之后\n",
    "#### 匹配模式指的是正则表达式匹配格式的默认匹配长度（尽可能长或尽可能短）"
   ]
  },
  {
   "cell_type": "markdown",
   "metadata": {},
   "source": [
    "### 零宽度断言（前后预查）\n",
    "#### 零宽度断言主要包括先行断言与后发断言：先行断言用于判断所匹配的歌手是否在另一个确定的格式之前，其匹配结果不包含这个确定的格式；后发断言与其相反。\n",
    "#### 二者均属于非捕获簇（即匹配结果不包含这个确定的格式，而仅将其作为断言约束条件，同时不对匹配结果进行计数）\n",
    "\n",
    "\n",
    "\n",
    "\n",
    "例如，我们想要获得所有跟在 ? 符号后的数字，我们可以使⽤正后发断⾔\n",
    "\n",
    "(?<=\\\\?)[0-9\\\\.]* \n",
    "\n",
    "这个表达式匹配 ? 开头，之后跟着 0,1,2,3,4,5,6,7,8,9,. 这些字符可以出现⼤于等于 0 次。"
   ]
  },
  {
   "cell_type": "markdown",
   "metadata": {},
   "source": [
    "|特征符号|描述|\n",
    "|---|---|\n",
    "|?=|正先行断言——存在|\n",
    "|?!|负先行断言——排除|\n",
    "|?<=|正后发断言——存在|\n",
    "|?<!|负后发断言——排除|\n",
    "\n",
    "\n"
   ]
  },
  {
   "cell_type": "markdown",
   "metadata": {},
   "source": [
    "### 断言使用示例\n",
    "##### 正先行断言  ?=……\n",
    "- ?=……正先行断言表示，所匹配字符串之后必须跟着……所指示的字符序列，其返回结果为完全符合正先行断言匹配条件的字符串\n",
    "- 用法：使用 () 定义正先行断言，?=……中的……即代表作为约束条件的字符序列\n",
    "- \"[Tt]he\" => \"The\" car parked in \"the\" garage.\n",
    "- 上述正则表达式匹配\"The\"与\"the\"\n",
    "- \"[Tt]he(?=\\\\scar)\" => \"The\" car parked in the garage.\n",
    "- 添加正先行断言后，在原正则表达式基础上添加了其后需要紧跟 \"(空格)car\" 的设定，因此正则表达式只匹配\"The\"\n",
    "\n",
    "##### 负先行断言  ?!……\n",
    "- ?=……正先行断言表示，所匹配字符串之后不得跟着……所指示的字符序列，其返回结果为完全符合负先行断言匹配条件的字符串\n",
    "- 用法：使用 () 定义负先行断言，?!……中的……即代表作为约束条件的字符序列\n",
    "- \"[Tt]he(?!\\\\scar)\" => The car parked in \"the\" garage.\n",
    "- 添加负先行断言后，在原正则表达式基础上添加了其后不得紧跟 \"(空格)car\" 的设定，因此正则表达式只匹配\"the\"\n",
    "\n",
    "##### 正后发断言  ?<=……\n",
    "- ?<=……正后发断言表示，所匹配字符串之前必须跟着……所指示的字符序列，其返回结果为完全符合正后发断言匹配条件的字符串\n",
    "- 用法：使用 () 定义正后发断言，?<=……中的……即代表作为约束条件的字符序列\n",
    "- \"(?<=\\\\s[pg])ar\" => The car p\"ar\"ked in the g\"ar\"age.\n",
    "- 添加正后发断言后，在原正则表达式基础上添加了其前需要紧跟 \"(空格)p\" 或 \"(空格)g\" 的设定，因此正则表达式匹配\"park\"与\"garage\"中的\"ar\"，但不匹配\"car\"中的\"ar\"\n",
    "\n",
    "##### 负后发断言  ?<!……\n",
    "- ?<!……负后发断言表示，所匹配字符串之前不得跟着……所指示的字符序列，其返回结果为完全符合正后发断言匹配条件的字符串\n",
    "- 用法：使用 () 定义负后发断言，?<!……中的……即代表作为约束条件的字符序列\n",
    "- \"(?<!\\\\s[pg])ar\" => The c\"ar\" parked in the garage.\n",
    "- 添加负后发断言后，在原正则表达式基础上添加了其前不得紧跟 \"(空格)p\" 或 \"(空格)g\" 的设定，因此正则表达式只\"car\"中的\"ar\""
   ]
  },
  {
   "cell_type": "markdown",
   "metadata": {},
   "source": [
    "### 模式修正符\n",
    "#### 用于修改正则表达式的搜索范围，可以任意组合使用，是正则表达式的组成部分"
   ]
  },
  {
   "cell_type": "markdown",
   "metadata": {},
   "source": [
    "|特征符号|描述|\n",
    "|---|---|\n",
    "|i|忽略大小写|\n",
    "|g|全局搜索|\n",
    "|m|多行修饰符：使锚点 ^、$ 可以在每一行起始或结尾部位分别开始工作|"
   ]
  },
  {
   "cell_type": "markdown",
   "metadata": {},
   "source": [
    "### 修饰符使用示例\n",
    "##### 忽略大小写 (Case Insensitive)  i\n",
    "- 修饰符 i ⽤于忽略匹配格式的⼤⼩写。\n",
    "- \"The\" => \"The\" fat cat sat on the mat.\n",
    "- 上述正则表达式匹配\"The\"\n",
    "- \"/The/gi\" => \"The\" fat cat sat on \"the\" mat.\n",
    "- 表达式 /The/gi 表示在全局搜索 The，在后⾯的 i 将其条件修改为忽略⼤⼩写，则变成搜索the和The，g 表示全局搜索即返回搜索范围内全部匹配结果。\n",
    "\n",
    "##### 全局搜索(Global Search)  g\n",
    "- 修饰符 g 常⽤于执⾏⼀个全局搜索匹配，即不仅仅返回第⼀个匹配结果，⽽是返回全部匹配结果。\n",
    "- \"/.(at)/\" => The \"fat\" cat sat on the mat.\n",
    "- 上述正则表达式匹配\"fat\"\n",
    "- \"/.(at)/g\" => The \"fat\" \"cat\" \"sat\" on the \"mat\".\n",
    "- 表达式 /.(at)/g 表示搜索 任意字符（除了换⾏符）+ at ，并返回全部匹配结果。\n",
    "\n",
    "##### 多行修饰符 (Multiline)  m\n",
    "- 修饰语 i 常⽤于执⾏⼀个多行匹配。锚点 ^、\\$ ⽤于检查格式是否是在待检测字符串的开头或结尾。我们如果想要它在每⾏的开头和结尾⽣效，需要⽤到多⾏修饰符 m 。\n",
    "- \"/.at(.)?\\$/\" => The fat\n",
    "- cat sat\n",
    "- on the \"mat.\"\n",
    "- 上述正则表达式匹配 最后一行的\"mat.\"\n",
    "- \"/.at(.)?\\$/gm\" => The \"fat\"\n",
    "- cat \"sat\"\n",
    "- on the \"mat.\"\n",
    "- 上述正则表达式匹配 分别位于每一行最后的\"fat\"\"sat\"\"mat.\"\n",
    "- 表达式 \"/at(.)?$/gm\" 表示⼩写字符 a 后跟⼩写字符 t ，末尾可选除换⾏符外任意字符(出现0或1次)。根据 m 修饰符，表达式分别匹配每⾏的结尾；根据 g 修饰符，返回全局所有匹配结果。"
   ]
  },
  {
   "cell_type": "markdown",
   "metadata": {},
   "source": [
    "### 匹配模式\n",
    "#### 主要包括贪婪匹配 (Greedy matching) 与惰性匹配 (Lazy matching) 两种\n",
    "#### 正则表达式默认采⽤贪婪匹配模式，在该模式下意味着会匹配尽可能⻓的字符串。我们可以使⽤ ? 将贪婪匹配模式转化为惰性匹配模式。"
   ]
  },
  {
   "cell_type": "markdown",
   "metadata": {},
   "source": [
    "### 匹配模式修改示例\n",
    "- \"/(.*at)/\" => \"The fat cat sat on the mat\".\n",
    "- 上述正则表达式匹配 全句，表示搜索之前出现任意次任意字符（除换行符外）并以at结尾的字符串，此时按照贪婪匹配原则，正则表达式返回最长的字符串结果即全句\n",
    "- \"/(.*?at)/\" => \"The fat\" cat sat on the mat.\n",
    "- 上述正则表达式匹配 \"The fat\"，表示搜索之前出现任意次任意字符（除换行符外）并以at结尾的字符串，此时按照惰性匹配原则，正则表达式返回最短的字符串结果即\"The fat\""
   ]
  },
  {
   "cell_type": "markdown",
   "metadata": {
    "tags": [],
    "toc-hr-collapsed": true
   },
   "source": [
    "## <font size=5><span id=\"10.3\"> 10.3 re模块</span></font>"
   ]
  },
  {
   "cell_type": "code",
   "execution_count": 1,
   "metadata": {
    "scrolled": true
   },
   "outputs": [
    {
     "data": {
      "text/plain": [
       "<function re.findall(pattern, string, flags=0)>"
      ]
     },
     "execution_count": 1,
     "metadata": {},
     "output_type": "execute_result"
    }
   ],
   "source": [
    "import re\n",
    "re.match #从开始位置开始匹配，如果开头没有则无\n",
    "\n",
    "re.search #搜索整个字符串\n",
    "\n",
    "re.findall #搜索整个字符串，返回一个list"
   ]
  },
  {
   "cell_type": "markdown",
   "metadata": {},
   "source": [
    "|修饰符|描述|\n",
    "|---|---|\n",
    "|re.I|\t使匹配对大小写不敏感|\n",
    "|re.L|\t做本地化识别（locale-aware）匹配|\n",
    "|re.M|\t多行匹配，影响 ^ 和 $|\n",
    "|re.S|\t使 . 匹配包括换行在内的所有字符|\n",
    "|re.U|\t根据Unicode字符集解析字符。这个标志影响 \\w, \\W, \\b, \\B.|\n",
    "|re.X|\t该标志通过给予你更灵活的格式以便你将正则表达式写得更易于理解。|\n"
   ]
  },
  {
   "cell_type": "markdown",
   "metadata": {},
   "source": [
    "|模式|描述|\n",
    "|-|-|\n",
    "|^|\t匹配字符串的开头|\n",
    "|$|\t匹配字符串的末尾。|\n",
    "|.|\t匹配任意字符，除了换行符，当re.DOTALL标记被指定时，则可以匹配包括换行符的任意字符。|\n",
    "|[...]|\t用来表示一组字符,单独列出：[amk] 匹配 'a'，'m'或'k'|\n",
    "|[^...]|\t不在[]中的字符：[^abc] 匹配除了a,b,c之外的字符。|\n",
    "|re*|\t匹配0个或多个的表达式。|\n",
    "|re+|\t匹配1个或多个的表达式。|\n",
    "|re?|\t匹配0个或1个由前面的正则表达式定义的片段，非贪婪方式|\n",
    "|re{ n}\t|   |\n",
    "|re{ n,}|\t精确匹配n个前面表达式。|\n",
    "|re{ n, m}|\t匹配 n 到 m 次由前面的正则表达式定义的片段，贪婪方式|\n",
    "|  a \\| b\t| 匹配a或b|\n",
    "|(re)|\tG匹配括号内的表达式，也表示一个组|\n",
    "|(?imx)|\t正则表达式包含三种可选标志：i, m, 或 x 。只影响括号中的区域。|\n",
    "|(?-imx)|\t正则表达式关闭 i, m, 或 x 可选标志。只影响括号中的区域。|\n",
    "|(?: re)|\t类似 (...), 但是不表示一个组|\n",
    "|(?imx: re)|\t在括号中使用i, m, 或 x 可选标志|\n",
    "|(?-imx: re)|\t在括号中不使用i, m, 或 x 可选标志|\n",
    "|(?#...)|\t注释.|\n",
    "|(?= re)|\t前向肯定界定符。如果所含正则表达式，以 ... 表示，在当前位置成功匹配时成功，否则失败。 |\n",
    "|``  | 但一旦所含表达式已经尝试，匹配引擎根本没有提高；模式的剩余部分还要尝试界定符的右边。|\n",
    "|(?! re)|\t前向否定界定符。与肯定界定符相反；当所含表达式不能在字符串当前位置匹配时成功|\n",
    "|(?> re)|\t匹配的独立模式，省去回溯。|\n",
    "|\\w\t|匹配字母数字|\n",
    "|\\W\t|匹配非字母数字|\n",
    "|\\s\t|匹配任意空白字符，等价于 [\\t\\n\\r\\f].|\n",
    "|\\S\t|匹配任意非空字符|\n",
    "|\\d\t|匹配任意数字，等价于 [0-9].|\n",
    "|\\D\t|匹配任意非数字|\n",
    "|\\A\t|匹配字符串开始|\n",
    "|\\Z\t|匹配字符串结束，如果是存在换行，只匹配到换行前的结束字符串。|\n",
    "|\\z\t|匹配字符串结束|\n",
    "|\\G\t|匹配最后匹配完成的位置。|\n",
    "|\\b\t|匹配一个单词边界，也就是指单词和空格间的位置。|\n",
    "|``|例如， 'er\\b' 可以匹配\"never\" 中的 'er'，但不能匹配 \"verb\" 中的 'er'。|\n",
    "|\\B\t|匹配非单词边界。'er\\B' 能匹配 \"verb\" 中的 'er'，但不能匹配 \"never\" 中的 'er'。|\n",
    "|\\n, \\t, 等.|\t匹配一个换行符。匹配一个制表符。等|\n",
    "|\\1...\\9\t|匹配第n个分组的子表达式。|\n",
    "|\\10\t|匹配第n个分组的子表达式，如果它经匹配。否则指的是八进制字符码的表达式。|\n"
   ]
  },
  {
   "cell_type": "markdown",
   "metadata": {
    "tags": [],
    "toc-hr-collapsed": true
   },
   "source": [
    "### <font size=4.5><span id=\"10.3.1\"> 10.3.1 使用 match()方法匹配字符串</span></font>\n",
    "\n",
    "#### match(pattern ， string ， flags=0)\n",
    "\n",
    "#### 尝试使用带有可选的标记的正则表达式的模式来匹配字符串。如果匹配成功，就返回匹配对象；如果失败，就返回 None\n",
    "\n",
    "#### 从字符串起始部位开始匹配,一旦第一个字符匹配失败，即为不匹配\n",
    "\n",
    "#### 匹配对象的 group()方法能够用于显示成功的匹配。\n"
   ]
  },
  {
   "cell_type": "code",
   "execution_count": 3,
   "metadata": {},
   "outputs": [
    {
     "data": {
      "text/plain": [
       "'foo'"
      ]
     },
     "execution_count": 3,
     "metadata": {},
     "output_type": "execute_result"
    }
   ],
   "source": [
    "import re\n",
    "m = re.match('foo','foo')\n",
    "if m is not None:\n",
    "    regex1 = m.group()\n",
    "else:\n",
    "    print(None)\n",
    "regex1"
   ]
  },
  {
   "cell_type": "code",
   "execution_count": 21,
   "metadata": {},
   "outputs": [
    {
     "data": {
      "text/plain": [
       "<re.Match object; span=(0, 3), match='foo'>"
      ]
     },
     "execution_count": 21,
     "metadata": {},
     "output_type": "execute_result"
    }
   ],
   "source": [
    "m"
   ]
  },
  {
   "cell_type": "code",
   "execution_count": 2,
   "metadata": {},
   "outputs": [
    {
     "name": "stdout",
     "output_type": "stream",
     "text": [
      "None\n"
     ]
    }
   ],
   "source": [
    "m = re.match('foo','bar')\n",
    "if m is not None:\n",
    "    m.group()# 单行版本的if语句\n",
    "    \n",
    "print(m)  # 不匹配"
   ]
  },
  {
   "cell_type": "code",
   "execution_count": 2,
   "metadata": {},
   "outputs": [
    {
     "data": {
      "text/plain": [
       "'foo'"
      ]
     },
     "execution_count": 2,
     "metadata": {},
     "output_type": "execute_result"
    }
   ],
   "source": [
    "m = re.match(\"foo\",\"food on the table\")\n",
    "m.group()"
   ]
  },
  {
   "cell_type": "code",
   "execution_count": 29,
   "metadata": {},
   "outputs": [
    {
     "data": {
      "text/plain": [
       "'foo'"
      ]
     },
     "execution_count": 29,
     "metadata": {},
     "output_type": "execute_result"
    }
   ],
   "source": [
    "re.match(\"foo\",\"food on the table\").group()"
   ]
  },
  {
   "cell_type": "markdown",
   "metadata": {},
   "source": [
    "### <font size=4.5><span id=\"10.3.2\"> 10.3.2 使用 search()方法搜索字符串</span></font>\n",
    "#### 使用search()在一个字符串中查找模式（搜索与匹配的对比）\n",
    "#### search(pattern ， string ， flags=0)\n",
    "\n",
    "#### 使用可选标记搜索字符串中第一次出现的正则表达式模式。如果匹配成功，则返回匹配对象；如果失败，则返回 None"
   ]
  },
  {
   "cell_type": "code",
   "execution_count": 33,
   "metadata": {},
   "outputs": [
    {
     "name": "stdout",
     "output_type": "stream",
     "text": [
      "No match\n"
     ]
    }
   ],
   "source": [
    "m = re.match('foo','seafood')  #从字符串的开头查找\n",
    "if m is not None:\n",
    "    print(m.group()) #匹配失败\n",
    "else:\n",
    "    print('No match')"
   ]
  },
  {
   "cell_type": "code",
   "execution_count": 38,
   "metadata": {},
   "outputs": [
    {
     "name": "stdout",
     "output_type": "stream",
     "text": [
      "foo\n"
     ]
    }
   ],
   "source": [
    "m = re.search('foo','searchfood')\n",
    "if m is not None:\n",
    "    regex3 = m.group()\n",
    "print(regex3) # 搜索成功，但是匹配失败"
   ]
  },
  {
   "cell_type": "markdown",
   "metadata": {},
   "source": [
    "### 匹配多个字符串（|）"
   ]
  },
  {
   "cell_type": "code",
   "execution_count": 40,
   "metadata": {},
   "outputs": [
    {
     "name": "stdout",
     "output_type": "stream",
     "text": [
      "bat\n"
     ]
    }
   ],
   "source": [
    "bt = 'bat|bet|bit'\n",
    "m = re.match(bt,'bat')\n",
    "if m is not None:\n",
    "    print(m.group() ) # Pytho2这里不加print就打印不出结果"
   ]
  },
  {
   "cell_type": "code",
   "execution_count": 42,
   "metadata": {},
   "outputs": [
    {
     "name": "stdout",
     "output_type": "stream",
     "text": [
      "match failed\n"
     ]
    }
   ],
   "source": [
    "m = re.match(bt,'blt')\n",
    "if m is not None:\n",
    "    print(m.group() ) # 匹配失败\n",
    "else:\n",
    "    print('match failed')"
   ]
  },
  {
   "cell_type": "code",
   "execution_count": 43,
   "metadata": {},
   "outputs": [
    {
     "name": "stdout",
     "output_type": "stream",
     "text": [
      "match failed\n"
     ]
    }
   ],
   "source": [
    "m = re.match(bt, 'he bit me') \n",
    "if m is not None:\n",
    "    print(m.group() ) # 匹配失败：不能匹配字符串\n",
    "else:\n",
    "    print('match failed')"
   ]
  },
  {
   "cell_type": "code",
   "execution_count": 44,
   "metadata": {},
   "outputs": [
    {
     "name": "stdout",
     "output_type": "stream",
     "text": [
      "bit\n"
     ]
    }
   ],
   "source": [
    "m = re.search(bt,'he bit me')\n",
    "if m is not None:\n",
    "    print(m.group())\n",
    "else:\n",
    "    print('search failed')"
   ]
  },
  {
   "cell_type": "markdown",
   "metadata": {},
   "source": [
    "#### 到这里match()和search()的区别基本上就清晰了\n",
    "\n",
    "- 匹配任何单个字符\n",
    "- 点号（.）不能匹配换行符\\n"
   ]
  },
  {
   "cell_type": "code",
   "execution_count": 45,
   "metadata": {},
   "outputs": [
    {
     "name": "stdout",
     "output_type": "stream",
     "text": [
      "bend\n"
     ]
    }
   ],
   "source": [
    "anyend = '.end'\n",
    "m = re.match(anyend, 'bend')\n",
    "if m is not None:\n",
    "    print(m.group()) \n",
    "else:\n",
    "    print('match failed')"
   ]
  },
  {
   "cell_type": "code",
   "execution_count": 46,
   "metadata": {},
   "outputs": [
    {
     "name": "stdout",
     "output_type": "stream",
     "text": [
      "match failed\n"
     ]
    }
   ],
   "source": [
    "m = re.match(anyend, 'end')\n",
    "if m is not None:\n",
    "    print(m.group())  # 匹配失败\n",
    "else:\n",
    "    print('match failed')"
   ]
  },
  {
   "cell_type": "code",
   "execution_count": 48,
   "metadata": {},
   "outputs": [
    {
     "name": "stdout",
     "output_type": "stream",
     "text": [
      "match failed\n"
     ]
    }
   ],
   "source": [
    "m = re.match(anyend, '\\nend')\n",
    "if m is not None:\n",
    "    print(m.group()) # 除了\\n之外的任何字符\n",
    "else:\n",
    "    print('match failed')"
   ]
  },
  {
   "cell_type": "code",
   "execution_count": 50,
   "metadata": {},
   "outputs": [
    {
     "data": {
      "text/plain": [
       "' end'"
      ]
     },
     "execution_count": 50,
     "metadata": {},
     "output_type": "execute_result"
    }
   ],
   "source": [
    "m = re.search(anyend, 'The end.')\n",
    "if m is not None:\n",
    "    str = m.group() # 可以匹配' '\n",
    "else:\n",
    "    print('match failed')\n",
    "str"
   ]
  },
  {
   "cell_type": "code",
   "execution_count": 56,
   "metadata": {},
   "outputs": [
    {
     "data": {
      "text/plain": [
       "'3.14'"
      ]
     },
     "execution_count": 56,
     "metadata": {},
     "output_type": "execute_result"
    }
   ],
   "source": [
    "pat314 = '3.14'    # 表示正则表达式的点号\n",
    "pi_pat = '3\\.14'   # 表示字面上的点号 (dec. point)\n",
    "m = re.match(pi_pat,'3.14')  #精确匹配\n",
    "if m is not None:\n",
    "    str = m.group() \n",
    "else:\n",
    "    print('match failed')\n",
    "str\n"
   ]
  },
  {
   "cell_type": "code",
   "execution_count": 58,
   "metadata": {},
   "outputs": [
    {
     "name": "stdout",
     "output_type": "stream",
     "text": [
      "match failed\n"
     ]
    }
   ],
   "source": [
    "m = re.match(pi_pat,'3014') # 点号匹配.\n",
    "if m is not None:\n",
    "    str = m.group() \n",
    "else:\n",
    "    print('match failed')"
   ]
  },
  {
   "cell_type": "code",
   "execution_count": 52,
   "metadata": {},
   "outputs": [
    {
     "data": {
      "text/plain": [
       "'3014'"
      ]
     },
     "execution_count": 52,
     "metadata": {},
     "output_type": "execute_result"
    }
   ],
   "source": [
    "m = re.match(pat314,'3014') # 点号匹配0\n",
    "if m is not None:\n",
    "    str = m.group() \n",
    "else:\n",
    "    print('match failed')\n",
    "str"
   ]
  },
  {
   "cell_type": "code",
   "execution_count": 54,
   "metadata": {},
   "outputs": [
    {
     "data": {
      "text/plain": [
       "'3.14'"
      ]
     },
     "execution_count": 54,
     "metadata": {},
     "output_type": "execute_result"
    }
   ],
   "source": [
    "m = re.match(pat314,'3.14') # 点号匹配.\n",
    "if m is not None:\n",
    "    str = m.group() \n",
    "else:\n",
    "    print('match failed')\n",
    "str"
   ]
  },
  {
   "cell_type": "markdown",
   "metadata": {},
   "source": [
    "### 创建字符集([ ])"
   ]
  },
  {
   "cell_type": "code",
   "execution_count": 59,
   "metadata": {},
   "outputs": [
    {
     "data": {
      "text/plain": [
       "'c3po'"
      ]
     },
     "execution_count": 59,
     "metadata": {},
     "output_type": "execute_result"
    }
   ],
   "source": [
    "m = re.match('[cr][23][dp][o2]', 'c3po')  # 匹配 'c3po'\n",
    "if m is not None:\n",
    "    str = m.group()\n",
    "str"
   ]
  },
  {
   "cell_type": "code",
   "execution_count": 60,
   "metadata": {},
   "outputs": [
    {
     "data": {
      "text/plain": [
       "'r2d2'"
      ]
     },
     "execution_count": 60,
     "metadata": {},
     "output_type": "execute_result"
    }
   ],
   "source": [
    "m = re.match('r2d2|c3po', 'r2d2')# 匹配 'r2d2'\n",
    "if m is not None:\n",
    "    str = m.group()\n",
    "str"
   ]
  },
  {
   "cell_type": "markdown",
   "metadata": {},
   "source": [
    "### <font size=4.5><span id=\"10.3.3\"> 10.3.3 re模块使用实例（电子邮件地址识别）</span></font>\n",
    "#### 简单电子邮件地址的正则表达式（\\w+@\\w+\\.com）, xyz.xxx.com，仅允许 xxx.com 作为整个域名，必须修改现有的正则表达式.\n",
    "#### 为了表示主机名是可选的，即\\w+@(\\w+\\.)?\\w+\\.com"
   ]
  },
  {
   "cell_type": "code",
   "execution_count": 25,
   "metadata": {},
   "outputs": [
    {
     "data": {
      "text/plain": [
       "'nobody@xxx.com'"
      ]
     },
     "execution_count": 25,
     "metadata": {},
     "output_type": "execute_result"
    }
   ],
   "source": [
    "patt  = '\\w+@(\\w+\\.)?\\w+\\.com'  # “？”操作符来表示该模式出现零次或者一次  \\w表示匹配字母或数字\n",
    "re.match(patt, 'nobody@xxx.com').group()"
   ]
  },
  {
   "cell_type": "code",
   "execution_count": 69,
   "metadata": {},
   "outputs": [
    {
     "name": "stdout",
     "output_type": "stream",
     "text": [
      "hello@google.com\n"
     ]
    }
   ],
   "source": [
    "patt  = '\\w+@(\\w+\\.)?\\w+\\.com'  # “？”操作符来表示该模式出现零次或者一次  \\w表示匹配字母或数字\n",
    "m = re.match(patt, 'hello@google.com.hk')  #  email:hello@google.com.hk\n",
    "if m is not None:\n",
    "    print(m.group())\n",
    "else:\n",
    "    print(None)"
   ]
  },
  {
   "cell_type": "code",
   "execution_count": 70,
   "metadata": {},
   "outputs": [
    {
     "data": {
      "text/plain": [
       "'nobody@www.xxx.yyy.zzz.com'"
      ]
     },
     "execution_count": 70,
     "metadata": {},
     "output_type": "execute_result"
    }
   ],
   "source": [
    "# 允许任意数量的中间子域名存在\n",
    "patt = '\\w+@(\\w+\\.)*\\w+\\.com'\n",
    "re.match(patt, 'nobody@www.xxx.yyy.zzz.com').group()"
   ]
  },
  {
   "cell_type": "code",
   "execution_count": 88,
   "metadata": {},
   "outputs": [
    {
     "name": "stdout",
     "output_type": "stream",
     "text": [
      "rjma@tongji.edu.cn\n"
     ]
    }
   ],
   "source": [
    "# 允许任意数量的中间子域名存在 如何匹配rjma@tongji.edu.cn\n",
    "patt = '\\w+@tongji.edu.cn' # ????????????????????\n",
    "m = re.search(patt, 'email:rjma@tongji.edu.cn ')##?????\n",
    "if m is not None:\n",
    "    print(m.group())\n",
    "else:\n",
    "    print(None)"
   ]
  },
  {
   "cell_type": "code",
   "execution_count": 74,
   "metadata": {},
   "outputs": [
    {
     "name": "stdout",
     "output_type": "stream",
     "text": [
      "abc-123\n"
     ]
    }
   ],
   "source": [
    "m = re.match('(\\w\\w\\w)-(\\d\\d\\d)','abc-123')  #\\d匹配任意数字\n",
    "if m is not None:\n",
    "    str = m.group()\n",
    "    print(str)\n",
    "else:\n",
    "    print(None)"
   ]
  },
  {
   "cell_type": "code",
   "execution_count": 75,
   "metadata": {},
   "outputs": [
    {
     "data": {
      "text/plain": [
       "'abc'"
      ]
     },
     "execution_count": 75,
     "metadata": {},
     "output_type": "execute_result"
    }
   ],
   "source": [
    "m.group(1)  #子组1"
   ]
  },
  {
   "cell_type": "code",
   "execution_count": 76,
   "metadata": {},
   "outputs": [
    {
     "data": {
      "text/plain": [
       "'123'"
      ]
     },
     "execution_count": 76,
     "metadata": {},
     "output_type": "execute_result"
    }
   ],
   "source": [
    "m.group(2)"
   ]
  },
  {
   "cell_type": "code",
   "execution_count": 77,
   "metadata": {},
   "outputs": [
    {
     "data": {
      "text/plain": [
       "('abc', '123')"
      ]
     },
     "execution_count": 77,
     "metadata": {},
     "output_type": "execute_result"
    }
   ],
   "source": [
    "m.groups()"
   ]
  },
  {
   "cell_type": "code",
   "execution_count": 78,
   "metadata": {},
   "outputs": [],
   "source": [
    "##更具体的分组操作"
   ]
  },
  {
   "cell_type": "code",
   "execution_count": 31,
   "metadata": {},
   "outputs": [
    {
     "data": {
      "text/plain": [
       "'ab'"
      ]
     },
     "execution_count": 31,
     "metadata": {},
     "output_type": "execute_result"
    }
   ],
   "source": [
    "m = re.match('ab','ab')\n",
    "m.group()"
   ]
  },
  {
   "cell_type": "code",
   "execution_count": 32,
   "metadata": {},
   "outputs": [
    {
     "data": {
      "text/plain": [
       "()"
      ]
     },
     "execution_count": 32,
     "metadata": {},
     "output_type": "execute_result"
    }
   ],
   "source": [
    "m.groups()  # 只抓取子组信息"
   ]
  },
  {
   "cell_type": "code",
   "execution_count": 96,
   "metadata": {},
   "outputs": [
    {
     "data": {
      "text/plain": [
       "'ab'"
      ]
     },
     "execution_count": 96,
     "metadata": {},
     "output_type": "execute_result"
    }
   ],
   "source": [
    "m = re.match('(ab)','ab')\n",
    "m.group()"
   ]
  },
  {
   "cell_type": "code",
   "execution_count": 97,
   "metadata": {},
   "outputs": [
    {
     "data": {
      "text/plain": [
       "'ab'"
      ]
     },
     "execution_count": 97,
     "metadata": {},
     "output_type": "execute_result"
    }
   ],
   "source": [
    "m.group(1)"
   ]
  },
  {
   "cell_type": "code",
   "execution_count": 98,
   "metadata": {},
   "outputs": [
    {
     "data": {
      "text/plain": [
       "('ab',)"
      ]
     },
     "execution_count": 98,
     "metadata": {},
     "output_type": "execute_result"
    }
   ],
   "source": [
    "m.groups() # 注意到元祖里面如果只有一个元素，需要加一个','号"
   ]
  },
  {
   "cell_type": "code",
   "execution_count": 99,
   "metadata": {},
   "outputs": [
    {
     "data": {
      "text/plain": [
       "'ab'"
      ]
     },
     "execution_count": 99,
     "metadata": {},
     "output_type": "execute_result"
    }
   ],
   "source": [
    "m = re.match('(a(b))', 'ab') # 两个子组\n",
    "m.group()"
   ]
  },
  {
   "cell_type": "code",
   "execution_count": 100,
   "metadata": {},
   "outputs": [
    {
     "data": {
      "text/plain": [
       "('ab', 'b')"
      ]
     },
     "execution_count": 100,
     "metadata": {},
     "output_type": "execute_result"
    }
   ],
   "source": [
    "m.group(1), m.group(2)"
   ]
  },
  {
   "cell_type": "code",
   "execution_count": 101,
   "metadata": {},
   "outputs": [
    {
     "data": {
      "text/plain": [
       "('ab', 'b')"
      ]
     },
     "execution_count": 101,
     "metadata": {},
     "output_type": "execute_result"
    }
   ],
   "source": [
    "m.groups()"
   ]
  },
  {
   "cell_type": "code",
   "execution_count": 103,
   "metadata": {},
   "outputs": [],
   "source": [
    "#匹配字符串的起始和结尾以及单词边界\n",
    "#更多用于表示搜索而不是匹配"
   ]
  },
  {
   "cell_type": "code",
   "execution_count": 104,
   "metadata": {},
   "outputs": [
    {
     "name": "stdout",
     "output_type": "stream",
     "text": [
      "The\n"
     ]
    }
   ],
   "source": [
    "m = re.search('The','The end.')\n",
    "if m is not None: \n",
    "    print(m.group())"
   ]
  },
  {
   "cell_type": "code",
   "execution_count": null,
   "metadata": {},
   "outputs": [],
   "source": [
    "https://blog.csdn.net/ds19991999/article/details/81275937#re%E5%B8%B8%E7%94%A8%E5%87%BD%E6%95%B0"
   ]
  },
  {
   "cell_type": "code",
   "execution_count": 106,
   "metadata": {},
   "outputs": [],
   "source": [
    "m = re.search('^The','end. The')   # ^^^^^^^^^^^^^^^^\n",
    "if m is not None:\n",
    "    print(m.group())"
   ]
  },
  {
   "cell_type": "code",
   "execution_count": 107,
   "metadata": {},
   "outputs": [
    {
     "name": "stdout",
     "output_type": "stream",
     "text": [
      "the\n"
     ]
    }
   ],
   "source": [
    "m = re.search(r'\\bthe','bite the dog')# 在边界  \\b  boundary  匹配一个单词边界，也就是指单词和空格间的位置\n",
    "if m is not None:\n",
    "    print(m.group())"
   ]
  },
  {
   "cell_type": "code",
   "execution_count": 110,
   "metadata": {},
   "outputs": [
    {
     "name": "stdout",
     "output_type": "stream",
     "text": [
      "None\n"
     ]
    }
   ],
   "source": [
    "m = re.search(r'\\bthe', 'bitethe dog') # 有边界,\n",
    "if m is not None: \n",
    "    print(m.group())\n",
    "else:\n",
    "    print(None)"
   ]
  },
  {
   "cell_type": "code",
   "execution_count": 112,
   "metadata": {},
   "outputs": [
    {
     "name": "stdout",
     "output_type": "stream",
     "text": [
      "the\n"
     ]
    }
   ],
   "source": [
    "m = re.search(r'\\Bthe', 'bitethe dog') # 有边界,匹配非单词边界。'er\\B' 能匹配 \"verb\" 中的 'er'，但不能匹配 \"never\" 中的 'er'。\n",
    "if m is not None: \n",
    "    print(m.group())"
   ]
  },
  {
   "cell_type": "code",
   "execution_count": 114,
   "metadata": {},
   "outputs": [
    {
     "name": "stdout",
     "output_type": "stream",
     "text": [
      "None\n"
     ]
    }
   ],
   "source": [
    "m = re.search(r'the\\B', 'bitethe dog') # 有边界,匹配非单词边界。'er\\B' 能匹配 \"verb\" 中的 'er'，但不能匹配 \"never\" 中的 'er'。\n",
    "if m is not None:   #注意\\B的位置\n",
    "    print(m.group())\n",
    "else:\n",
    "    print(None)"
   ]
  },
  {
   "cell_type": "markdown",
   "metadata": {},
   "source": [
    "### <font size=4.5><span id=\"10.3.4\"> 10.3.4 使用 findall()和 finditer()查找每一次出现的位置</span></font>"
   ]
  },
  {
   "cell_type": "markdown",
   "metadata": {},
   "source": [
    "- findall(pattern ， string [, flags] )  \n",
    "    - 查找字符串中所有（非重复）出现的正则表达式模式，并返回一个匹配列表\n",
    "- finditer(pattern ， string [, flags] )  \n",
    "    - 与 findall()函数相同，但返回的不是一个列表，而是一个迭代器。对于每一次匹配，迭代器都返回一个匹配对象"
   ]
  },
  {
   "cell_type": "code",
   "execution_count": 115,
   "metadata": {},
   "outputs": [
    {
     "data": {
      "text/plain": [
       "['car']"
      ]
     },
     "execution_count": 115,
     "metadata": {},
     "output_type": "execute_result"
    }
   ],
   "source": [
    "re.findall('car','car')"
   ]
  },
  {
   "cell_type": "code",
   "execution_count": 116,
   "metadata": {},
   "outputs": [
    {
     "data": {
      "text/plain": [
       "['car']"
      ]
     },
     "execution_count": 116,
     "metadata": {},
     "output_type": "execute_result"
    }
   ],
   "source": [
    "re.findall('car','scary')"
   ]
  },
  {
   "cell_type": "code",
   "execution_count": 117,
   "metadata": {},
   "outputs": [
    {
     "data": {
      "text/plain": [
       "['car', 'car', 'car']"
      ]
     },
     "execution_count": 117,
     "metadata": {},
     "output_type": "execute_result"
    }
   ],
   "source": [
    "re.findall('car','carry the barcardi to the car')"
   ]
  },
  {
   "cell_type": "code",
   "execution_count": 126,
   "metadata": {},
   "outputs": [
    {
     "data": {
      "text/plain": [
       "[('This', 'that'), ('These', 'Those')]"
      ]
     },
     "execution_count": 126,
     "metadata": {},
     "output_type": "execute_result"
    }
   ],
   "source": [
    "s = 'this and that. These and Those.'\n",
    "re.findall(r'(th\\w+) and (th\\w+)',s,re.I)"
   ]
  },
  {
   "cell_type": "code",
   "execution_count": 155,
   "metadata": {},
   "outputs": [
    {
     "name": "stdout",
     "output_type": "stream",
     "text": [
      "<callable_iterator object at 0x000001F14D881128>\n",
      "('This', 'that')\n",
      "('These', 'Those')\n"
     ]
    }
   ],
   "source": [
    "m = re.finditer(r'(th\\w+) and (th\\w+)', s,re.I)  #返回一个迭代器，不同于findall返回列表\n",
    "print(m)\n",
    "for i in m:\n",
    "    print(i.groups())"
   ]
  },
  {
   "cell_type": "code",
   "execution_count": 146,
   "metadata": {},
   "outputs": [],
   "source": [
    "content = '''email:12345678@163.com\n",
    "email:2345678@163.com\n",
    "email:345678@163.com\n",
    "'''"
   ]
  },
  {
   "cell_type": "code",
   "execution_count": 147,
   "metadata": {},
   "outputs": [
    {
     "data": {
      "text/plain": [
       "['12345678@163.com', '2345678@163.com', '345678@163.com']"
      ]
     },
     "execution_count": 147,
     "metadata": {},
     "output_type": "execute_result"
    }
   ],
   "source": [
    "re.findall(r\"\\d+@\\w+.com\", content)"
   ]
  },
  {
   "cell_type": "code",
   "execution_count": 157,
   "metadata": {},
   "outputs": [
    {
     "name": "stdout",
     "output_type": "stream",
     "text": [
      "12345678@163.com\n",
      "2345678@163.com\n",
      "345678@163.com\n"
     ]
    }
   ],
   "source": [
    "result_finditer = re.finditer(r\"\\d+@\\w+.com\", content)\n",
    "#由于返回的为MatchObject的iterator，所以我们需要迭代并通过MatchObject的方法输出\n",
    "for i in result_finditer :\n",
    "    print(i.group())\n"
   ]
  },
  {
   "cell_type": "code",
   "execution_count": 131,
   "metadata": {},
   "outputs": [],
   "source": [
    "re.finditer?"
   ]
  },
  {
   "cell_type": "code",
   "execution_count": 158,
   "metadata": {},
   "outputs": [
    {
     "data": {
      "text/plain": [
       "[('This', 'that'), ('These', 'Those')]"
      ]
     },
     "execution_count": 158,
     "metadata": {},
     "output_type": "execute_result"
    }
   ],
   "source": [
    "[g.groups() for g in re.finditer(r'(th\\w+) and (th\\w+)',s, re.I)]"
   ]
  },
  {
   "cell_type": "markdown",
   "metadata": {},
   "source": [
    "### <font size=4.5><span id=\"10.3.5\"> 10.3.5 多重匹配</span></font>"
   ]
  },
  {
   "cell_type": "code",
   "execution_count": 159,
   "metadata": {},
   "outputs": [
    {
     "data": {
      "text/plain": [
       "['This', 'that', 'These', 'Those']"
      ]
     },
     "execution_count": 159,
     "metadata": {},
     "output_type": "execute_result"
    }
   ],
   "source": [
    "re.findall(r'(th\\w+)', s, re.I)"
   ]
  },
  {
   "cell_type": "code",
   "execution_count": 162,
   "metadata": {},
   "outputs": [
    {
     "name": "stdout",
     "output_type": "stream",
     "text": [
      "('This',)\n",
      "('that',)\n",
      "('These',)\n",
      "('Those',)\n"
     ]
    }
   ],
   "source": [
    "it = re.finditer(r'(th\\w+)', s, re.I)\n",
    "for i in it:\n",
    "    print(i.groups())\n"
   ]
  },
  {
   "cell_type": "code",
   "execution_count": 165,
   "metadata": {},
   "outputs": [
    {
     "data": {
      "text/plain": [
       "['This', 'that', 'These', 'Those']"
      ]
     },
     "execution_count": 165,
     "metadata": {},
     "output_type": "execute_result"
    }
   ],
   "source": [
    "[g.group(1) for g in re.finditer(r'(th\\w+)',s,re.I)]"
   ]
  },
  {
   "cell_type": "markdown",
   "metadata": {},
   "source": [
    "### <font size=4.5><span id=\"10.3.6\"> 10.3.6 使用 sub()和 subn()搜索与替换</span></font>\n",
    "\n",
    "- 两者几乎一样，都是将某字符串中所有匹配正则表达式的部分进行某种形式的替换，但它是一个函数，该函数返回一个用来替换的字符串。\n",
    "- subn()还返回一个表示替换的总数，替换后的字符串和表示替换总数的数字一起作为一个拥有两个元素的元组返回。"
   ]
  },
  {
   "cell_type": "code",
   "execution_count": 169,
   "metadata": {},
   "outputs": [
    {
     "name": "stdout",
     "output_type": "stream",
     "text": [
      "attn: Mr. Smith\n",
      "\n",
      "Dear Mr. Smith,\n",
      "\n"
     ]
    },
    {
     "data": {
      "text/plain": [
       "'attn: Mr. Smith\\n\\nDear Mr. Smith,\\n'"
      ]
     },
     "execution_count": 169,
     "metadata": {},
     "output_type": "execute_result"
    }
   ],
   "source": [
    "m = re.sub('X', 'Mr. Smith', 'attn: X\\n\\nDear X,\\n')\n",
    "print(m)\n",
    "m"
   ]
  },
  {
   "cell_type": "code",
   "execution_count": 171,
   "metadata": {},
   "outputs": [
    {
     "name": "stdout",
     "output_type": "stream",
     "text": [
      "('attn: Mr. Smith\\n\\nDear Mr. Smith,\\n', 2)\n",
      "attn: Mr. Smith\n",
      "\n",
      "Dear Mr. Smith,\n",
      "\n"
     ]
    }
   ],
   "source": [
    "m = re.subn('X', 'Mr. Smith', 'attn: X\\n\\nDear X,\\n')\n",
    "print(m)   #返回一个元组\n",
    "print(m[0])"
   ]
  },
  {
   "cell_type": "code",
   "execution_count": 172,
   "metadata": {},
   "outputs": [
    {
     "data": {
      "text/plain": [
       "'XbcdXf'"
      ]
     },
     "execution_count": 172,
     "metadata": {},
     "output_type": "execute_result"
    }
   ],
   "source": [
    "re.sub('[ae]', 'X', 'abcdef')"
   ]
  },
  {
   "cell_type": "code",
   "execution_count": 173,
   "metadata": {},
   "outputs": [
    {
     "data": {
      "text/plain": [
       "('XbcdXf', 2)"
      ]
     },
     "execution_count": 173,
     "metadata": {},
     "output_type": "execute_result"
    }
   ],
   "source": [
    "re.subn('[ae]', 'X', 'abcdef')"
   ]
  },
  {
   "cell_type": "markdown",
   "metadata": {},
   "source": [
    "### 10.3.7 在限定模式上使用 split()分隔字符串"
   ]
  },
  {
   "cell_type": "code",
   "execution_count": 183,
   "metadata": {},
   "outputs": [
    {
     "name": "stdout",
     "output_type": "stream",
     "text": [
      "['Mountain View', 'CA', '94040']\n",
      "['Sunnyvale', 'CA']\n",
      "['Los Altos', '94023']\n",
      "['Cupertino', '95014']\n",
      "['Palo Alto', 'CA']\n",
      "['Lububock', 'TX', '79401']\n"
     ]
    }
   ],
   "source": [
    "DATA = (\n",
    "    'Mountain View, CA 94040',\n",
    "    'Sunnyvale, CA',\n",
    "    'Los Altos, 94023',\n",
    "    'Cupertino 95014',\n",
    "    'Palo Alto CA',\n",
    "    'Lububock TX 79401'\n",
    "    )\n",
    "for datum in DATA:\n",
    "    # 如果空格紧跟在五个数字（ZIP 编码）或者两个大写字母（美国联邦州缩写）之后，就用 split 语句分割该空格。\n",
    "    print(re.split(', |(?= (?:\\d{5}|[A-Z]{2})) ', datum))  #都好切分；5个数字切分，两个大写字母切分\n"
   ]
  }
 ],
 "metadata": {
  "kernelspec": {
   "display_name": "Python 3",
   "language": "python",
   "name": "python3"
  },
  "language_info": {
   "codemirror_mode": {
    "name": "ipython",
    "version": 3
   },
   "file_extension": ".py",
   "mimetype": "text/x-python",
   "name": "python",
   "nbconvert_exporter": "python",
   "pygments_lexer": "ipython3",
   "version": "3.8.5"
  }
 },
 "nbformat": 4,
 "nbformat_minor": 4
}
