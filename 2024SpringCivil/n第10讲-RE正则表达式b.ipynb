{
 "cells": [
  {
   "cell_type": "markdown",
   "metadata": {},
   "source": [
    "<span id=\"mulu\"><font face=\"黑体\" size=6>本章目录</font></span>\n",
    "* [第十讲 正则表达式](#10)\n",
    "\n",
    "    * [10.1 re模块](#10.1)\n",
    "    * [10.2 re常用函数](#10.2)\n",
    "    * [10.3 特殊示例](#10.3)\n"
   ]
  },
  {
   "cell_type": "markdown",
   "metadata": {},
   "source": [
    "# 第10讲 正则表达式(**)\n",
    "- 正则表达式(regular expression)描述了一种字符串匹配的模式（pattern），\n",
    "- 可以用来检查一个串是否含有某种子串、将匹配的子串替换或者从某个串中取出符合某个条件的子串等。"
   ]
  },
  {
   "cell_type": "markdown",
   "metadata": {
    "tags": [],
    "toc-hr-collapsed": true
   },
   "source": [
    "## <font size=5><span id=\"10.1\"> 10.1 re模块</span></font>"
   ]
  },
  {
   "cell_type": "markdown",
   "metadata": {},
   "source": [
    "<font face=\"黑体\" size=4><center>表10.1 常见的正则表达式属性</center></font> \n",
    "\n",
    "|函数/方法|描 述|   \n",
    "|:-|:-|   \n",
    "|||  \n",
    "|<font>仅仅是re模块函数</font>||  \n",
    "|compile(pattern, flags = 0|使用任何可选的标记来编译正则表达式的模式，然后返回一个正则表达式对象 \n",
    "re模块函数和正则表达式对象的方法|   \n",
    "|match(pattern, string, flags=0)|尝试使用带有可选的标记的正则表达式的模式来匹配字符串。<br>如果匹配成功,就返回 匹配对象:如果失败,就返回None |   \n",
    "|search(pattern,string,fags=0))|使用可选标记搜索字符串中第一次出现的正则表达式模式。<br>如果匹配成功,则返回匹 配对象;如果失败,则返回None|   \n",
    "|findall(pattern, string [ flags])|查找字符串中所有(非重复)出现的正则表达式模式,并返回一个匹配列表|   \n",
    "|finditer(pattern,string [ flags])|与findall()函数相同,但返回的不是一个列表,而是一个迭代器。<br>对于每一次匹配,迭 代器都返回一个匹配对象 |   \n",
    "|split(pattern, string, max=0)|根据正则表达式的模式分隔符,split函数将字符串分割为列表,然后返回成功匹配的列表,<br>分隔最多操作max次(默认分割所有匹配成功的位置)|   \n",
    "|re模块函数和正则表达式对象方法||   \n",
    "|sub(pattern, repl, string, cownt=0|使用repl替换所有正则表达式的模式在字符串中出现的位置,<br>除非定义count,否则就将替换所有出现的位置(另见subn()函数,该函数返回替换操作的数目)|   \n",
    "|purge() 清除隐式编译的正则表达式模式 |常用的匹配对象方法(查看文档以获取更多信息) |   \n",
    "|group(num=0)|返回整个匹配对象,或者编号为mum的特定子组 |   \n",
    "|groups(default-None)|返回一个包含所有匹配子组的元组(如果没有成功匹配,则返回一个空元组) |   \n",
    "|groupdict(default=None)|返回一个包含所有匹配的命名子组的字典,所有的子组名称作为字典的键<br>(如果没有成功匹配,则返回一个空字典) |   \n",
    "|常用的模块属性<br>(用于大多数正则表达式函数的标记) ||   \n",
    "|re.I、re.IGNORECASE|不区分大小写的匹配 |   \n",
    "|re.L、re.LOCALE| 根据所使用的本地语言环境通过\\w、\\W、\\b、\\B、\\s、\\S实现匹配|   \n",
    "|re.M、re.MULTILINE|^和分别匹配目标字符串中行的起始和结尾,而不是严格匹配整个字符串本身的起始和结尾|   \n",
    "|re.S、rer.DOTALL|\"\"(点号)通常匹配除了\\n(换行符)之外的所有单个字符,该标记表示\"\"(点号) 能够匹配全部字符 |   \n",
    "|re.X、re.VERBOSE|通过反斜线转义,否则所有空格加上#(以及在该行中所有后续文字)都被忽略,<br>除非在一个字符类中或者允许注释并且提高可读性|   \n",
    "\n",
    "<img src=\"images/chapter10/re01.png-\">"
   ]
  },
  {
   "cell_type": "code",
   "execution_count": null,
   "metadata": {},
   "outputs": [],
   "source": [
    "import re\n",
    "#re.match #从开始位置开始匹配，如果开头没有则无\n",
    "\n",
    "#re.search #搜索整个字符串\n",
    "\n",
    "#re.findall #搜索整个字符串，返回一个list"
   ]
  },
  {
   "cell_type": "markdown",
   "metadata": {},
   "source": [
    "- 正则表达式可以包含一些可选标志修饰符来控制匹配的模式。\n",
    "- 修饰符被指定为一个可选的标志。\n",
    "- 多个标志可以通过按位 OR(|) 它们来指定。如 re.I | re.M 被设置成 I 和 M 标志："
   ]
  },
  {
   "cell_type": "markdown",
   "metadata": {},
   "source": [
    "|修饰符|描述|\n",
    "|---|---|\n",
    "|re.I|\t使匹配对大小写不敏感|\n",
    "|re.L|\t做本地化识别（locale-aware）匹配|\n",
    "|re.M|\t多行匹配，影响 ^ 和 $|\n",
    "|re.S|\t使 . 匹配包括换行在内的所有字符|\n",
    "|re.U|\t根据Unicode字符集解析字符。这个标志影响 \\w, \\W, \\b, \\B.|\n",
    "|re.X|\t该标志通过给予你更灵活的格式以便你将正则表达式写得更易于理解。|\n"
   ]
  },
  {
   "cell_type": "markdown",
   "metadata": {},
   "source": [
    "### 正则表达式模式\n",
    "#### 模式字符串使用特殊的语法来表示一个正则表达式：\n",
    "\n",
    "- 字母和数字表示他们自身。一个正则表达式模式中的字母和数字匹配同样的字符串。\n",
    "- 多数字母和数字前加一个反斜杠时会拥有不同的含义。\n",
    "- 标点符号只有被转义时才匹配自身，否则它们表示特殊的含义。\n",
    "- 反斜杠本身需要使用反斜杠转义。\n",
    "- 由于正则表达式通常都包含反斜杠，所以你最好使用原始字符串来表示它们。模式元素(如 r'/t'，等价于'//t')匹配相应的特殊字符。\n",
    "\n",
    "#### 下表列出了正则表达式模式语法中的特殊元素。如果你使用模式的同时提供了可选的标志参数，某些模式元素的含义会改变。"
   ]
  },
  {
   "cell_type": "markdown",
   "metadata": {},
   "source": [
    "|模式|描述|\n",
    "|:-|:-|\n",
    "|^|\t匹配字符串的开头|\n",
    "|$|\t匹配字符串的末尾。|\n",
    "|.|\t匹配任意字符，除了换行符，当re.DOTALL标记被指定时，则可以匹配包括换行符的任意字符。|\n",
    "|[...]|\t用来表示一组字符,单独列出：[amk] 匹配 'a'，'m'或'k'|\n",
    "|[^...]|\t不在[]中的字符：[^abc] 匹配除了a,b,c之外的字符。|\n",
    "|re*|\t匹配0个或多个的表达式。|\n",
    "|re+|\t匹配1个或多个的表达式。|\n",
    "|re?|\t匹配0个或1个由前面的正则表达式定义的片段，非贪婪方式|\n",
    "|re{ n}\t|   |\n",
    "|re{ n,}|\t精确匹配n个前面表达式。|\n",
    "|re{ n, m}|\t匹配 n 到 m 次由前面的正则表达式定义的片段，贪婪方式|\n",
    "|  a \\| b\t| 匹配a或b|\n",
    "|(re)|\tG匹配括号内的表达式，也表示一个组|\n",
    "|(?imx)|\t正则表达式包含三种可选标志：i, m, 或 x 。只影响括号中的区域。|\n",
    "|(?-imx)|\t正则表达式关闭 i, m, 或 x 可选标志。只影响括号中的区域。|\n",
    "|(?: re)|\t类似 (...), 但是不表示一个组|\n",
    "|(?imx: re)|\t在括号中使用i, m, 或 x 可选标志|\n",
    "|(?-imx: re)|\t在括号中不使用i, m, 或 x 可选标志|\n",
    "|(?#...)|\t注释.|\n",
    "|(?= re)|\t前向肯定界定符。如果所含正则表达式，以 ... 表示，在当前位置成功匹配时成功，否则失败。 |\n",
    "|``  | 但一旦所含表达式已经尝试，匹配引擎根本没有提高；模式的剩余部分还要尝试界定符的右边。|\n",
    "|(?! re)|\t前向否定界定符。与肯定界定符相反；当所含表达式不能在字符串当前位置匹配时成功|\n",
    "|(?> re)|\t匹配的独立模式，省去回溯。|\n",
    "|\\w\t|匹配字母数字|\n",
    "|\\W\t|匹配非字母数字|\n",
    "|\\s\t|匹配任意空白字符，等价于 [\\t\\n\\r\\f].|\n",
    "|\\S\t|匹配任意非空字符|\n",
    "|\\d\t|匹配任意数字，等价于 [0-9].|\n",
    "|\\D\t|匹配任意非数字|\n",
    "|\\A\t|匹配字符串开始|\n",
    "|\\Z\t|匹配字符串结束，如果是存在换行，只匹配到换行前的结束字符串。|\n",
    "|\\z\t|匹配字符串结束|\n",
    "|\\G\t|匹配最后匹配完成的位置。|\n",
    "|\\b\t|匹配一个单词边界，也就是指单词和空格间的位置。|\n",
    "|``|例如， 'er\\b' 可以匹配\"never\" 中的 'er'，但不能匹配 \"verb\" 中的 'er'。|\n",
    "|\\B\t|匹配非单词边界。'er\\B' 能匹配 \"verb\" 中的 'er'，但不能匹配 \"never\" 中的 'er'。|\n",
    "|\\n, \\t, 等.|\t匹配一个换行符。匹配一个制表符。等|\n",
    "|\\1...\\9\t|匹配第n个分组的子表达式。|\n",
    "|\\10\t|匹配第n个分组的子表达式，如果它经匹配。否则指的是八进制字符码的表达式。|\n"
   ]
  },
  {
   "cell_type": "markdown",
   "metadata": {
    "tags": [],
    "toc-hr-collapsed": true
   },
   "source": [
    "## <font size=5><span id=\"10.2\"> 10.2 re常用函数</span></font>\n",
    "\n",
    "### <font size=4.5><span id=\"10.2.1\"> 10.2.1 使用 match()方法匹配字符串</span></font>\n",
    "\n",
    "- match(pattern ， string ， flags=0)\n",
    "\n",
    "- 尝试使用带有可选的标记的正则表达式的模式来匹配字符串。如果匹配成功，就返回匹配对象；如果失败，就返回 None\n",
    "\n",
    "- <font color=red>从字符串起始部位开始匹配,一旦第一个字符匹配失败，就是不匹配</font>  \n",
    "\n",
    "- 匹配对象的 group()方法能够用于显示那个成功的匹配。\n"
   ]
  },
  {
   "cell_type": "markdown",
   "metadata": {},
   "source": [
    "<table align=\"center\"><tbody><tr><td>pattern</td><td>匹配的正则表达式</td></tr><tr><td>string</td><td>要匹配的字符串</td></tr><tr><td>flags</td><td> <p>标志位，用于控制正则表达式的匹配方式，如：是否区分大小写，多行匹配等等。</p> \n",
    "    <ol><li><strong>re.I</strong> 忽略大小写</li><li><strong>re.L</strong> 表示特殊字符集 \\w, \\W, \\b, \\B, \\s, \\S 依赖于当前环境</li><li><strong>re.M</strong> 多行模式</li><li><strong>re.S</strong> 即为 . 并且包括换行符在内的任意字符（. 不包括换行符）</li><li><strong>re.U</strong> 表示特殊字符集 \\w, \\W, \\b, \\B, \\d, \\D, \\s, \\S 依赖于 Unicode 字符属性数据库</li><li><strong>re.X</strong> 为了增加可读性，忽略空格和 # 后面的注释</li></ol></td></tr></tbody></table>"
   ]
  },
  {
   "cell_type": "code",
   "execution_count": 1,
   "metadata": {},
   "outputs": [
    {
     "data": {
      "text/plain": [
       "'foo'"
      ]
     },
     "execution_count": 1,
     "metadata": {},
     "output_type": "execute_result"
    }
   ],
   "source": [
    "import re\n",
    "m = re.match('foo','food')\n",
    "if m is not None:\n",
    "    regex1 = m.group()\n",
    "else:\n",
    "    print(None)\n",
    "regex1"
   ]
  },
  {
   "cell_type": "code",
   "execution_count": 2,
   "metadata": {},
   "outputs": [
    {
     "data": {
      "text/plain": [
       "<re.Match object; span=(0, 3), match='foo'>"
      ]
     },
     "execution_count": 2,
     "metadata": {},
     "output_type": "execute_result"
    }
   ],
   "source": [
    "m"
   ]
  },
  {
   "cell_type": "code",
   "execution_count": 3,
   "metadata": {},
   "outputs": [
    {
     "name": "stdout",
     "output_type": "stream",
     "text": [
      "None\n"
     ]
    }
   ],
   "source": [
    "m = re.match('foo','bar')\n",
    "if m is not None:\n",
    "    m.group()# 单行版本的if语句\n",
    "    \n",
    "print( m)  # 不匹配"
   ]
  },
  {
   "cell_type": "code",
   "execution_count": 4,
   "metadata": {},
   "outputs": [
    {
     "data": {
      "text/plain": [
       "'foo'"
      ]
     },
     "execution_count": 4,
     "metadata": {},
     "output_type": "execute_result"
    }
   ],
   "source": [
    "m = re.match(\"foo\",\"food on the table\")\n",
    "m.group()"
   ]
  },
  {
   "cell_type": "code",
   "execution_count": 5,
   "metadata": {},
   "outputs": [
    {
     "data": {
      "text/plain": [
       "'foo'"
      ]
     },
     "execution_count": 5,
     "metadata": {},
     "output_type": "execute_result"
    }
   ],
   "source": [
    "re.match(\"foo\",\"food on the table\").group()"
   ]
  },
  {
   "cell_type": "code",
   "execution_count": 6,
   "metadata": {},
   "outputs": [
    {
     "ename": "AttributeError",
     "evalue": "'NoneType' object has no attribute 'group'",
     "output_type": "error",
     "traceback": [
      "\u001b[1;31m---------------------------------------------------------------------------\u001b[0m",
      "\u001b[1;31mAttributeError\u001b[0m                            Traceback (most recent call last)",
      "Cell \u001b[1;32mIn[6], line 2\u001b[0m\n\u001b[0;32m      1\u001b[0m m \u001b[38;5;241m=\u001b[39m re\u001b[38;5;241m.\u001b[39mmatch(\u001b[38;5;124m\"\u001b[39m\u001b[38;5;124mfoo\u001b[39m\u001b[38;5;124m\"\u001b[39m,\u001b[38;5;124m\"\u001b[39m\u001b[38;5;124mI like food on the table\u001b[39m\u001b[38;5;124m\"\u001b[39m)  \u001b[38;5;66;03m# 不在开头找不到\u001b[39;00m\n\u001b[1;32m----> 2\u001b[0m m\u001b[38;5;241m.\u001b[39mgroup()\n",
      "\u001b[1;31mAttributeError\u001b[0m: 'NoneType' object has no attribute 'group'"
     ]
    }
   ],
   "source": [
    "m = re.match(\"foo\",\"I like food on the table\")  # 不在开头找不到\n",
    "m.group()"
   ]
  },
  {
   "cell_type": "markdown",
   "metadata": {},
   "source": [
    "### <font size=4.5><span id=\"10.2.2\"> 10.2.2 使用 search()方法匹配字符串</span></font>\n",
    "\n",
    "- 使用search()在一个字符串中查找模式（搜索与匹配的对比）\n",
    "- search(pattern ， string ， flags=0)\n",
    "\n",
    "- 使用可选标记搜索字符串中第一次出现的正则表达式模式。如果匹配成功，则返回匹配对象；如果失败，则返回 None"
   ]
  },
  {
   "cell_type": "code",
   "execution_count": 7,
   "metadata": {},
   "outputs": [
    {
     "name": "stdout",
     "output_type": "stream",
     "text": [
      "foo\n"
     ]
    }
   ],
   "source": [
    "m = re.search('foo','search food')\n",
    "if m is not None:\n",
    "    regex3 = m.group()\n",
    "print(regex3) # 搜索成功，但是匹配失败"
   ]
  },
  {
   "cell_type": "code",
   "execution_count": 8,
   "metadata": {},
   "outputs": [
    {
     "name": "stdout",
     "output_type": "stream",
     "text": [
      "foo\n"
     ]
    }
   ],
   "source": [
    "m = re.search('foo','fool search food')\n",
    "if m is not None:\n",
    "    regex3 = m.group()\n",
    "print(regex3) # 搜索成功，但是匹配失败"
   ]
  },
  {
   "cell_type": "code",
   "execution_count": 9,
   "metadata": {},
   "outputs": [
    {
     "data": {
      "text/plain": [
       "'foo'"
      ]
     },
     "execution_count": 9,
     "metadata": {},
     "output_type": "execute_result"
    }
   ],
   "source": [
    "m.group()"
   ]
  },
  {
   "cell_type": "markdown",
   "metadata": {},
   "source": [
    "### 匹配多个字符串（|）\n",
    "#### <font color=red>可以看成或</font>"
   ]
  },
  {
   "cell_type": "code",
   "execution_count": 10,
   "metadata": {},
   "outputs": [
    {
     "name": "stdout",
     "output_type": "stream",
     "text": [
      "bat\n"
     ]
    }
   ],
   "source": [
    "bt = 'bat|bet|bit'\n",
    "m = re.match(bt,'bat bit a bet') #只匹配了开始第一个\n",
    "if m is not None:\n",
    "    print(m.group() )"
   ]
  },
  {
   "cell_type": "code",
   "execution_count": 11,
   "metadata": {},
   "outputs": [
    {
     "name": "stdout",
     "output_type": "stream",
     "text": [
      "bit\n"
     ]
    }
   ],
   "source": [
    "bt = 'bat|bet|bit'\n",
    "m = re.search(bt,'a btt bit a bet') #只匹配了第一个\n",
    "if m is not None:\n",
    "    print(m.group() )"
   ]
  },
  {
   "cell_type": "code",
   "execution_count": 12,
   "metadata": {},
   "outputs": [
    {
     "name": "stdout",
     "output_type": "stream",
     "text": [
      "match failed\n"
     ]
    }
   ],
   "source": [
    "m = re.match(bt,'blt')\n",
    "if m is not None:\n",
    "    print(m.group() ) # 匹配失败\n",
    "else:\n",
    "    print('match failed')"
   ]
  },
  {
   "cell_type": "code",
   "execution_count": 13,
   "metadata": {},
   "outputs": [
    {
     "name": "stdout",
     "output_type": "stream",
     "text": [
      "match failed\n"
     ]
    }
   ],
   "source": [
    "m = re.match(bt, 'he bit me') \n",
    "if m is not None:\n",
    "    print(m.group() ) # 匹配失败：不能匹配字符串\n",
    "else:\n",
    "    print('match failed')"
   ]
  },
  {
   "cell_type": "code",
   "execution_count": 14,
   "metadata": {},
   "outputs": [
    {
     "name": "stdout",
     "output_type": "stream",
     "text": [
      "bit\n"
     ]
    }
   ],
   "source": [
    "m = re.search(bt,'he bit me')\n",
    "if m is not None:\n",
    "    print(m.group())\n",
    "else:\n",
    "    print('search failed')"
   ]
  },
  {
   "cell_type": "markdown",
   "metadata": {},
   "source": [
    "#### 到这里match()和search()的区别基本上就清晰了\n",
    "\n"
   ]
  },
  {
   "cell_type": "markdown",
   "metadata": {},
   "source": [
    "### <font size=4.5><span id=\"10.2.3\"> 10.2.3 点号</span></font>"
   ]
  },
  {
   "cell_type": "markdown",
   "metadata": {},
   "source": [
    "- 匹配任何单个字符\n",
    "- 点号（.）不能匹配一个换行符\\n 或者非字符，也就是说，一个空字符串"
   ]
  },
  {
   "cell_type": "code",
   "execution_count": 15,
   "metadata": {},
   "outputs": [
    {
     "name": "stdout",
     "output_type": "stream",
     "text": [
      "bend\n"
     ]
    }
   ],
   "source": [
    "anyend = '.end'\n",
    "m = re.match(anyend, 'bend')\n",
    "if m is not None:\n",
    "    print(m.group()) \n",
    "else:\n",
    "    print('match failed')"
   ]
  },
  {
   "cell_type": "code",
   "execution_count": 16,
   "metadata": {},
   "outputs": [
    {
     "name": "stdout",
     "output_type": "stream",
     "text": [
      "match failed\n"
     ]
    }
   ],
   "source": [
    "m = re.match(anyend, 'end')\n",
    "if m is not None:\n",
    "    print(m.group())  # 匹配失败\n",
    "else:\n",
    "    print('match failed')"
   ]
  },
  {
   "cell_type": "code",
   "execution_count": 17,
   "metadata": {},
   "outputs": [
    {
     "name": "stdout",
     "output_type": "stream",
     "text": [
      "match failed\n"
     ]
    }
   ],
   "source": [
    "m = re.match(anyend, '\\nend')\n",
    "if m is not None:\n",
    "    print(m.group()) # 除了\\n之外的任何字符\n",
    "else:\n",
    "    print('match failed')"
   ]
  },
  {
   "cell_type": "code",
   "execution_count": 18,
   "metadata": {},
   "outputs": [
    {
     "data": {
      "text/plain": [
       "' end'"
      ]
     },
     "execution_count": 18,
     "metadata": {},
     "output_type": "execute_result"
    }
   ],
   "source": [
    "m = re.search(anyend, 'The end.')\n",
    "if m is not None:\n",
    "    str = m.group() # 可以匹配' '\n",
    "else:\n",
    "    print('match failed')\n",
    "str"
   ]
  },
  {
   "cell_type": "code",
   "execution_count": 19,
   "metadata": {},
   "outputs": [
    {
     "data": {
      "text/plain": [
       "'3.14'"
      ]
     },
     "execution_count": 19,
     "metadata": {},
     "output_type": "execute_result"
    }
   ],
   "source": [
    "pat314 = '3.14'    # 表示正则表达式的点号\n",
    "pi_pat = '3\\.14'   # 表示字面上的点号 (dec. point)\n",
    "m = re.match(pi_pat,'3.14')  #精确匹配\n",
    "if m is not None:\n",
    "    str = m.group() \n",
    "else:\n",
    "    print('match failed')\n",
    "str\n"
   ]
  },
  {
   "cell_type": "code",
   "execution_count": 20,
   "metadata": {},
   "outputs": [
    {
     "name": "stdout",
     "output_type": "stream",
     "text": [
      "3014\n"
     ]
    }
   ],
   "source": [
    "m = re.match(pat314,'3014') # 点号匹配.\n",
    "if m is not None:\n",
    "    str = m.group() \n",
    "    print(str)\n",
    "else:\n",
    "    print('match failed')"
   ]
  },
  {
   "cell_type": "code",
   "execution_count": 21,
   "metadata": {},
   "outputs": [
    {
     "data": {
      "text/plain": [
       "'3014'"
      ]
     },
     "execution_count": 21,
     "metadata": {},
     "output_type": "execute_result"
    }
   ],
   "source": [
    "m = re.match(pat314,'3014') # 点号匹配0\n",
    "if m is not None:\n",
    "    str = m.group() \n",
    "else:\n",
    "    print('match failed')\n",
    "str"
   ]
  },
  {
   "cell_type": "code",
   "execution_count": 22,
   "metadata": {},
   "outputs": [
    {
     "data": {
      "text/plain": [
       "'3.14'"
      ]
     },
     "execution_count": 22,
     "metadata": {},
     "output_type": "execute_result"
    }
   ],
   "source": [
    "m = re.match(pat314,'3.14') # 点号匹配.\n",
    "if m is not None:\n",
    "    str = m.group() \n",
    "else:\n",
    "    print('match failed')\n",
    "str"
   ]
  },
  {
   "cell_type": "code",
   "execution_count": 23,
   "metadata": {},
   "outputs": [
    {
     "name": "stdout",
     "output_type": "stream",
     "text": [
      "match failed\n"
     ]
    },
    {
     "data": {
      "text/plain": [
       "'3.14'"
      ]
     },
     "execution_count": 23,
     "metadata": {},
     "output_type": "execute_result"
    }
   ],
   "source": [
    "m = re.match(pi_pat,'3o14') # 点号匹配.\n",
    "if m is not None:\n",
    "    str = m.group() \n",
    "else:\n",
    "    print('match failed')\n",
    "str"
   ]
  },
  {
   "cell_type": "markdown",
   "metadata": {},
   "source": [
    "### <font size=4.5><span id=\"10.2.4\"> 10.2.4 创建字符集([ ])</span></font>"
   ]
  },
  {
   "cell_type": "code",
   "execution_count": 24,
   "metadata": {},
   "outputs": [
    {
     "data": {
      "text/plain": [
       "'c2po'"
      ]
     },
     "execution_count": 24,
     "metadata": {},
     "output_type": "execute_result"
    }
   ],
   "source": [
    "m = re.match('[cr][23][dp][o2]', 'c2po')  # 匹配 'c3po'\n",
    "if m is not None:\n",
    "    str0 = m.group()\n",
    "str0"
   ]
  },
  {
   "cell_type": "code",
   "execution_count": 25,
   "metadata": {},
   "outputs": [
    {
     "data": {
      "text/plain": [
       "'r2d2'"
      ]
     },
     "execution_count": 25,
     "metadata": {},
     "output_type": "execute_result"
    }
   ],
   "source": [
    "m = re.match('r2d2|c3po', 'r2d2')# 匹配 'r2d2'\n",
    "if m is not None:\n",
    "    str = m.group()\n",
    "str"
   ]
  },
  {
   "cell_type": "code",
   "execution_count": 26,
   "metadata": {},
   "outputs": [
    {
     "data": {
      "text/plain": [
       "'bit'"
      ]
     },
     "execution_count": 26,
     "metadata": {},
     "output_type": "execute_result"
    }
   ],
   "source": [
    "m = re.search('b[aoeiu]t','I bit an apple') #\n",
    "m.group()"
   ]
  },
  {
   "cell_type": "markdown",
   "metadata": {},
   "source": [
    "### <font size=4.5><span id=\"10.2.5\"> 10.2.5 重复、特殊字符以及分组</span></font>\n",
    "\n",
    "- 简单电子邮件地址的正则表达式（\\w+@\\w+\\.com）, www.xxx.com，仅仅允许 xxx.com 作为整个域名，必须修改现有的正则表达式.\n",
    "- 为了表示主机名是可选的，即\\w+@(\\w+\\.)?\\w+\\.com"
   ]
  },
  {
   "cell_type": "code",
   "execution_count": 27,
   "metadata": {},
   "outputs": [
    {
     "data": {
      "text/plain": [
       "'nobody@xxx.com'"
      ]
     },
     "execution_count": 27,
     "metadata": {},
     "output_type": "execute_result"
    }
   ],
   "source": [
    "patt  = '\\w+@(\\w+\\.)?\\w+\\.com'  # “？”操作符来表示该模式出现零次或者一次  \\w表示匹配字母或数字\n",
    "re.match(patt, 'nobody@xxx.com').group()"
   ]
  },
  {
   "cell_type": "code",
   "execution_count": 29,
   "metadata": {},
   "outputs": [
    {
     "name": "stdout",
     "output_type": "stream",
     "text": [
      "hello@google.com\n"
     ]
    }
   ],
   "source": [
    "patt  = '\\w+@(\\w+\\.)?\\w+\\.com'  # “？”操作符来表示该模式出现零次或者一次  \\w表示匹配字母或数字\n",
    "m = re.match(patt, 'hello@google.com.hk')  #  email:hello@google.com.hk\n",
    "if m is not None:\n",
    "    print(m.group())\n",
    "else:\n",
    "    print(None)"
   ]
  },
  {
   "cell_type": "code",
   "execution_count": 30,
   "metadata": {},
   "outputs": [
    {
     "data": {
      "text/plain": [
       "'nobody@www.xxx.yyy.zzz.com'"
      ]
     },
     "execution_count": 30,
     "metadata": {},
     "output_type": "execute_result"
    }
   ],
   "source": [
    "# 允许任意数量的中间子域名存在\n",
    "patt = '\\w+@(\\w+\\.)*\\w+\\.com'   #  * 表示可以重复多次\n",
    "re.match(patt, 'nobody@www.xxx.yyy.zzz.com').group()"
   ]
  },
  {
   "cell_type": "code",
   "execution_count": 31,
   "metadata": {},
   "outputs": [
    {
     "name": "stdout",
     "output_type": "stream",
     "text": [
      "rjma@tongji.edu.cn\n"
     ]
    }
   ],
   "source": [
    "# 允许任意数量的中间子域名存在 如何匹配rjma@tongji.edu.cn\n",
    "patt = '\\w+@tongji.edu.cn' # ????????????????????\n",
    "m = re.search(patt, 'email:rjma@tongji.edu.cn ')##?????\n",
    "if m is not None:\n",
    "    print(m.group())\n",
    "else:\n",
    "    print(None)"
   ]
  },
  {
   "cell_type": "code",
   "execution_count": 32,
   "metadata": {},
   "outputs": [
    {
     "name": "stdout",
     "output_type": "stream",
     "text": [
      "ra.ju.ma@tongji.edu.cn\n"
     ]
    }
   ],
   "source": [
    "# 允许任意数量的中间子域名存在 如何匹配rjma@tongji.edu.cn\n",
    "patt = '(\\w+\\.)*\\w+@tongji.edu.cn' # ????????????????????\n",
    "m = re.search(patt, 'email:ra.ju.ma@tongji.edu.cn ')##?????\n",
    "if m is not None:\n",
    "    print(m.group())\n",
    "else:\n",
    "    print(None)"
   ]
  },
  {
   "cell_type": "code",
   "execution_count": 33,
   "metadata": {},
   "outputs": [
    {
     "name": "stdout",
     "output_type": "stream",
     "text": [
      "abc-123\n"
     ]
    }
   ],
   "source": [
    "m = re.match('(\\w\\w\\w)-(\\d\\d\\d)','abc-123')  #\\d匹配任意数字\n",
    "if m is not None:\n",
    "    str = m.group()\n",
    "    print(str)\n",
    "else:\n",
    "    print(None)"
   ]
  },
  {
   "cell_type": "code",
   "execution_count": 34,
   "metadata": {},
   "outputs": [
    {
     "data": {
      "text/plain": [
       "'abc'"
      ]
     },
     "execution_count": 34,
     "metadata": {},
     "output_type": "execute_result"
    }
   ],
   "source": [
    "m.group(1)  #子组1"
   ]
  },
  {
   "cell_type": "code",
   "execution_count": 35,
   "metadata": {},
   "outputs": [
    {
     "data": {
      "text/plain": [
       "'123'"
      ]
     },
     "execution_count": 35,
     "metadata": {},
     "output_type": "execute_result"
    }
   ],
   "source": [
    "m.group(2)"
   ]
  },
  {
   "cell_type": "code",
   "execution_count": 36,
   "metadata": {},
   "outputs": [
    {
     "data": {
      "text/plain": [
       "('abc', '123')"
      ]
     },
     "execution_count": 36,
     "metadata": {},
     "output_type": "execute_result"
    }
   ],
   "source": [
    "m.groups()"
   ]
  },
  {
   "cell_type": "code",
   "execution_count": null,
   "metadata": {},
   "outputs": [],
   "source": [
    "##更具体的分组操作"
   ]
  },
  {
   "cell_type": "code",
   "execution_count": 37,
   "metadata": {},
   "outputs": [
    {
     "data": {
      "text/plain": [
       "'ab'"
      ]
     },
     "execution_count": 37,
     "metadata": {},
     "output_type": "execute_result"
    }
   ],
   "source": [
    "m = re.match('ab','ab')\n",
    "m.group()"
   ]
  },
  {
   "cell_type": "code",
   "execution_count": 38,
   "metadata": {},
   "outputs": [
    {
     "data": {
      "text/plain": [
       "'ab'"
      ]
     },
     "execution_count": 38,
     "metadata": {},
     "output_type": "execute_result"
    }
   ],
   "source": [
    "m = re.match('(ab)','ab')\n",
    "m.group()"
   ]
  },
  {
   "cell_type": "code",
   "execution_count": 39,
   "metadata": {},
   "outputs": [
    {
     "data": {
      "text/plain": [
       "'ab'"
      ]
     },
     "execution_count": 39,
     "metadata": {},
     "output_type": "execute_result"
    }
   ],
   "source": [
    "m.group(1)"
   ]
  },
  {
   "cell_type": "code",
   "execution_count": 40,
   "metadata": {},
   "outputs": [
    {
     "data": {
      "text/plain": [
       "('ab',)"
      ]
     },
     "execution_count": 40,
     "metadata": {},
     "output_type": "execute_result"
    }
   ],
   "source": [
    "m.groups() # 注意到元祖里面如果只有一个元素，需要加一个','号"
   ]
  },
  {
   "cell_type": "code",
   "execution_count": 41,
   "metadata": {},
   "outputs": [
    {
     "data": {
      "text/plain": [
       "'ab'"
      ]
     },
     "execution_count": 41,
     "metadata": {},
     "output_type": "execute_result"
    }
   ],
   "source": [
    "m = re.match('(a(b))', 'ab') # 两个子组\n",
    "m.group()"
   ]
  },
  {
   "cell_type": "code",
   "execution_count": 42,
   "metadata": {},
   "outputs": [
    {
     "data": {
      "text/plain": [
       "('ab', 'b')"
      ]
     },
     "execution_count": 42,
     "metadata": {},
     "output_type": "execute_result"
    }
   ],
   "source": [
    "m.group(1), m.group(2)"
   ]
  },
  {
   "cell_type": "code",
   "execution_count": 43,
   "metadata": {},
   "outputs": [
    {
     "data": {
      "text/plain": [
       "('ab', 'b')"
      ]
     },
     "execution_count": 43,
     "metadata": {},
     "output_type": "execute_result"
    }
   ],
   "source": [
    "m.groups()"
   ]
  },
  {
   "cell_type": "code",
   "execution_count": 44,
   "metadata": {},
   "outputs": [],
   "source": [
    "content=\"\"\"\n",
    "徐超<c_axu@tongji.edu.cn>,   陈宝<chenbao@tongji.edu.cn>,   程素斌<cheng_subin@tongji.edu.cn>,   方成<chengfang@tongji.edu.cn>,   程纬<chengwei@tongji.edu.cn>,   陈俊岭<chenjl@tongji.edu.cn>,   匡翠萍<cpkuang@tongji.edu.cn>,   陈永贵<cyg@tongji.edu.cn>,   丁文其<dingwq@tongji.edu.cn>,   廖少明<engcent@tongji.edu.cn>,   吕凤悟<fengwur@tongji.edu.cn>,   梁发云<fyliang@tongji.edu.cn>,   高向玲<gaoxl@tongji.edu.cn>,   钟桂辉<guihui_zhong@tongji.edu.cn>,   郭小农<guo-xiao-nong@tongji.edu.cn>,   韩兵康<hbk1239@tongji.edu.cn>,   蒋欢军<jhj73@tongji.edu.cn>,   金瑞珺<jinruijun@tongji.edu.cn>,   操金鑫<jinxin@tongji.edu.cn>,   王君杰<jjwang@tongji.edu.cn>,   单伽锃<jzshan@tongji.edu.cn>,   朱乐东<ledong@tongji.edu.cn>,   李博<libotj@tongji.edu.cn>,   李镜培<lijp2773@tongji.edu.cn>,   李凌志<lilingzhi@tongji.edu.cn>,   林峰<lin_feng@tongji.edu.cn>,   刘曙光<liusgliu@tongji.edu.cn>,   刘威<liuw@tongji.edu.cn>,   刘匀<liuyun@tongji.edu.cn>,   李元齐<liyq@tongji.edu.cn>,   孙利民<lmsun@tongji.edu.cn>,   娄厦<lousha@tongji.edu.cn>,   罗烈<luolie@tongji.edu.cn>,   毛无卫<maowuwei@tongji.edu.cn>,   贾敏才<mincai_jia@tongji.edu.cn>,   \n",
    "\"\"\""
   ]
  },
  {
   "cell_type": "code",
   "execution_count": 45,
   "metadata": {},
   "outputs": [
    {
     "data": {
      "text/plain": [
       "{'徐超': 'c_axu@tongji.edu.cn',\n",
       " '陈宝': 'chenbao@tongji.edu.cn',\n",
       " '程素斌': 'cheng_subin@tongji.edu.cn',\n",
       " '方成': 'chengfang@tongji.edu.cn',\n",
       " '程纬': 'chengwei@tongji.edu.cn',\n",
       " '陈俊岭': 'chenjl@tongji.edu.cn',\n",
       " '匡翠萍': 'cpkuang@tongji.edu.cn',\n",
       " '陈永贵': 'cyg@tongji.edu.cn',\n",
       " '丁文其': 'dingwq@tongji.edu.cn',\n",
       " '廖少明': 'engcent@tongji.edu.cn',\n",
       " '吕凤悟': 'fengwur@tongji.edu.cn',\n",
       " '梁发云': 'fyliang@tongji.edu.cn',\n",
       " '高向玲': 'gaoxl@tongji.edu.cn',\n",
       " '钟桂辉': 'guihui_zhong@tongji.edu.cn',\n",
       " '郭小农': 'nong@tongji.edu.cn',\n",
       " '韩兵康': 'hbk1239@tongji.edu.cn',\n",
       " '蒋欢军': 'jhj73@tongji.edu.cn',\n",
       " '金瑞珺': 'jinruijun@tongji.edu.cn',\n",
       " '操金鑫': 'jinxin@tongji.edu.cn',\n",
       " '王君杰': 'jjwang@tongji.edu.cn',\n",
       " '单伽锃': 'jzshan@tongji.edu.cn',\n",
       " '朱乐东': 'ledong@tongji.edu.cn',\n",
       " '李博': 'libotj@tongji.edu.cn',\n",
       " '李镜培': 'lijp2773@tongji.edu.cn',\n",
       " '李凌志': 'lilingzhi@tongji.edu.cn',\n",
       " '林峰': 'lin_feng@tongji.edu.cn',\n",
       " '刘曙光': 'liusgliu@tongji.edu.cn',\n",
       " '刘威': 'liuw@tongji.edu.cn',\n",
       " '刘匀': 'liuyun@tongji.edu.cn',\n",
       " '李元齐': 'liyq@tongji.edu.cn',\n",
       " '孙利民': 'lmsun@tongji.edu.cn',\n",
       " '娄厦': 'lousha@tongji.edu.cn',\n",
       " '罗烈': 'luolie@tongji.edu.cn',\n",
       " '毛无卫': 'maowuwei@tongji.edu.cn',\n",
       " '贾敏才': 'mincai_jia@tongji.edu.cn'}"
      ]
     },
     "execution_count": 45,
     "metadata": {},
     "output_type": "execute_result"
    }
   ],
   "source": [
    "pat01 = '[\\u4e00-\\u9fa5]+'\n",
    "name = re.findall(pat01,content)\n",
    "\n",
    "patemail =  '[a-zA-Z]*\\w+@tongji.edu.cn'\n",
    "emails = re.findall(patemail,content)\n",
    "dict0 = {k:v for k,v in zip(name, emails)}\n",
    "dict0"
   ]
  },
  {
   "cell_type": "markdown",
   "metadata": {},
   "source": [
    "具体解释如下：- `[u4e00-u9fa5]`：这是一个Unicode字符范围的表示法，表示匹配所有的中文字符。`u4e00`代表Unicode编码中的第一个中文字符\"一\"，`u9fa5`代表编码中的最后一个中文字符\"龥\"。\n",
    "- `+`：这是一个量词，表示匹配前面的模式次或多次。在这个例子中，它表示匹配一个或多个中文字符。\n",
    "因此，`[u4e00-u9fa5]+`这个正则表达式模式可以用来配一个或多个连续的中文字符。"
   ]
  },
  {
   "cell_type": "code",
   "execution_count": null,
   "metadata": {},
   "outputs": [],
   "source": []
  },
  {
   "cell_type": "markdown",
   "metadata": {},
   "source": [
    "### <font size=4.5><span id=\"10.2.6\"> 10.2.6 匹配字符串的起始和结尾以及单词边界</span></font>\n",
    "- 更多用于表示搜索而不是匹配"
   ]
  },
  {
   "cell_type": "markdown",
   "metadata": {},
   "source": [
    "#### (1) <font color=red>^</font>文本的开始"
   ]
  },
  {
   "cell_type": "code",
   "execution_count": null,
   "metadata": {},
   "outputs": [],
   "source": [
    "j "
   ]
  },
  {
   "cell_type": "code",
   "execution_count": null,
   "metadata": {},
   "outputs": [],
   "source": [
    "m = re.search('^The','Thend. The')   # ^^^^文本的开始\n",
    "if m is not None:\n",
    "    print(m.group())"
   ]
  },
  {
   "cell_type": "code",
   "execution_count": null,
   "metadata": {},
   "outputs": [],
   "source": [
    "m = re.search('^The','end. aThe')   # ^^^^^^^^^^^^^^^^\n",
    "if m is not None:\n",
    "    print(m.group())"
   ]
  },
  {
   "cell_type": "code",
   "execution_count": null,
   "metadata": {},
   "outputs": [],
   "source": [
    "m = re.search('^The','end. The')   # ^^^^^^^^^^^^^^^^\n",
    "if m is not None:\n",
    "    print(m.group())"
   ]
  },
  {
   "cell_type": "markdown",
   "metadata": {},
   "source": [
    "#### (2) <font color=red>\\\\b与\\\\B</font>单词的边界\n",
    "- \\\\b 匹配一个单词边界，也就是指单词和空格间的位置\n",
    "- \\\\B 匹配非单词边界"
   ]
  },
  {
   "cell_type": "code",
   "execution_count": null,
   "metadata": {},
   "outputs": [],
   "source": [
    "m = re.search(r'\\bthe','bite the dog')# 在边界  \\b  boundary  匹配一个单词边界，也就是指单词和空格间的位置\n",
    "if m is not None:\n",
    "    print(m.group())"
   ]
  },
  {
   "cell_type": "code",
   "execution_count": null,
   "metadata": {},
   "outputs": [],
   "source": [
    "m = re.search(r'\\bthe', 'bitethe dog') # 有边界,\n",
    "if m is not None: \n",
    "    print(m.group())\n",
    "else:\n",
    "    print(None)"
   ]
  },
  {
   "cell_type": "code",
   "execution_count": null,
   "metadata": {},
   "outputs": [],
   "source": [
    "m = re.search(r'\\Bthe', 'bitethe dog') # 有边界,匹配非单词边界。'er\\B' 能匹配 \"verb\" 中的 'er'，但不能匹配 \"never\" 中的 'er'。\n",
    "if m is not None: \n",
    "    print(m.group())"
   ]
  },
  {
   "cell_type": "code",
   "execution_count": null,
   "metadata": {},
   "outputs": [],
   "source": [
    "m = re.search(r'\\Bthe', 'thee dog') # 匹配非单词开始边界。'er\\B' 能匹配 \"verb\" 中的 'er'，但不能匹配 \"never\" 中的 'er'。\n",
    "if m is not None: \n",
    "    print(m.group())"
   ]
  },
  {
   "cell_type": "code",
   "execution_count": null,
   "metadata": {},
   "outputs": [],
   "source": [
    "m = re.search(r'the\\B', 'bitethe dog') # 有边界,匹配非单词边界。'er\\B' 能匹配 \"verb\" 中的 'er'，但不能匹配 \"never\" 中的 'er'。\n",
    "if m is not None:   #注意\\B的位置\n",
    "    print(m.group())\n",
    "else:\n",
    "    print(None)"
   ]
  },
  {
   "cell_type": "markdown",
   "metadata": {},
   "source": [
    "### <font size=4.5><span id=\"10.2.7\"> 10.2.7 使用 findall()和 finditer()查找每一次出现的位置</span></font>"
   ]
  },
  {
   "cell_type": "markdown",
   "metadata": {},
   "source": [
    "- findall(pattern ， string [, flags] )  \n",
    "    - 查找字符串中所有（非重复）出现的正则表达式模式，并返回一个匹配列表\n",
    "- finditer(pattern ， string [, flags] )  \n",
    "    - 与 findall()函数相同，但返回的不是一个列表，而是一个迭代器。对于每一次匹配，迭代器都返回一个匹配对象"
   ]
  },
  {
   "cell_type": "markdown",
   "metadata": {},
   "source": [
    "#### (1) <font color=red>findall</font>查找每一次出现的位置，返回列表"
   ]
  },
  {
   "cell_type": "code",
   "execution_count": null,
   "metadata": {},
   "outputs": [],
   "source": [
    "re.findall('car','car')"
   ]
  },
  {
   "cell_type": "code",
   "execution_count": null,
   "metadata": {},
   "outputs": [],
   "source": [
    "re.findall('car','scary')"
   ]
  },
  {
   "cell_type": "code",
   "execution_count": null,
   "metadata": {},
   "outputs": [],
   "source": [
    "re.findall('car','carry the barcardi to the car')"
   ]
  },
  {
   "cell_type": "code",
   "execution_count": null,
   "metadata": {},
   "outputs": [],
   "source": [
    "s = 'this and that. These and Those.'\n",
    "re.findall(r'(th\\w+) and (th\\w+)',s,re.I)  #匹配所有th开头的单词用and连写的词组，re.I表示对大小写不敏感"
   ]
  },
  {
   "cell_type": "markdown",
   "metadata": {},
   "source": [
    "#### (2) <font color=red>finditer</font>查找每一次出现的位置，返回迭代器"
   ]
  },
  {
   "cell_type": "code",
   "execution_count": null,
   "metadata": {},
   "outputs": [],
   "source": [
    "m = re.finditer(r'(th\\w+) and (th\\w+)', s,re.I)  #返回一个迭代器，不同于findall返回列表\n",
    "print(m)\n",
    "for i in m:\n",
    "    print(i.groups())"
   ]
  },
  {
   "cell_type": "code",
   "execution_count": null,
   "metadata": {},
   "outputs": [],
   "source": [
    "content = '''email:12345678@163.com\n",
    "email:2345678@163.com\n",
    "email:345678@163.com\n",
    "'''"
   ]
  },
  {
   "cell_type": "markdown",
   "metadata": {},
   "source": [
    "#### 例子"
   ]
  },
  {
   "cell_type": "code",
   "execution_count": null,
   "metadata": {},
   "outputs": [],
   "source": [
    "re.findall(r\"\\d+@\\w+.com\", content)"
   ]
  },
  {
   "cell_type": "code",
   "execution_count": null,
   "metadata": {},
   "outputs": [],
   "source": [
    "result_finditer = re.finditer(r\"\\d+@\\w+.com\", content)\n",
    "#由于返回的为MatchObject的iterator，所以我们需要迭代并通过MatchObject的方法输出\n",
    "for i in result_finditer :\n",
    "    print(i.group())\n"
   ]
  },
  {
   "cell_type": "code",
   "execution_count": null,
   "metadata": {},
   "outputs": [],
   "source": [
    "[g.groups() for g in re.finditer(r'(th\\w+) and (th\\w+)',s, re.I)] #转化成列表"
   ]
  },
  {
   "cell_type": "markdown",
   "metadata": {},
   "source": [
    "### 多重匹配"
   ]
  },
  {
   "cell_type": "code",
   "execution_count": null,
   "metadata": {},
   "outputs": [],
   "source": [
    "re.findall(r'(th\\w+)', s, re.I)"
   ]
  },
  {
   "cell_type": "code",
   "execution_count": null,
   "metadata": {},
   "outputs": [],
   "source": [
    "it = re.finditer(r'(th\\w+)', s, re.I)\n",
    "for i in it:\n",
    "    print(i.groups())\n"
   ]
  },
  {
   "cell_type": "code",
   "execution_count": null,
   "metadata": {},
   "outputs": [],
   "source": [
    "[g.group(1) for g in re.finditer(r'(th\\w+)',s,re.I)]"
   ]
  },
  {
   "cell_type": "markdown",
   "metadata": {},
   "source": [
    "### <font size=4.5><span id=\"10.2.8\"> 10.2.8 使用 sub()和 subn()搜索与替换</span></font>"
   ]
  },
  {
   "cell_type": "markdown",
   "metadata": {},
   "source": [
    "- 两者几乎一样，都是将某字符串中所有匹配正则表达式的部分进行某种形式的替换，但它也可能是一个函数，该函数返回一个用来替换的字符串。\n",
    "\n",
    "- subn()还返回一个表示替换的总数，替换后的字符串和表示替换总数的数字一起作为一个拥有两个元素的元组返回。\n"
   ]
  },
  {
   "cell_type": "markdown",
   "metadata": {},
   "source": [
    "```python\n",
    "re.sub(pattern, repl, string, count=0, flags=0)\n",
    "      匹配格式,替代，原始词汇，\n",
    "    return _compile(pattern, flags).sub(repl, string, count)\n",
    "\n",
    "re.subn(pattern, repl, string, count=0, flags=0)\n",
    "    return _compile(pattern, flags).subn(repl, string, count)\n",
    "```"
   ]
  },
  {
   "cell_type": "code",
   "execution_count": null,
   "metadata": {},
   "outputs": [],
   "source": [
    "re.subn??"
   ]
  },
  {
   "cell_type": "code",
   "execution_count": null,
   "metadata": {},
   "outputs": [],
   "source": [
    "m = re.sub('X', 'Mr. Smith', 'attn: X\\n\\nDear X,\\n')\n",
    "print(m)\n",
    "m"
   ]
  },
  {
   "cell_type": "code",
   "execution_count": null,
   "metadata": {},
   "outputs": [],
   "source": [
    "m = re.subn('X', 'Mr. Smith', 'attn: X\\n\\nDear X,\\n')\n",
    "print(m)   #返回一个元组，第一个是替换之后的文勃，第二个是替换的次数\n",
    "print('-'*40)\n",
    "print(m[0])"
   ]
  },
  {
   "cell_type": "code",
   "execution_count": null,
   "metadata": {},
   "outputs": [],
   "source": [
    "re.sub('[ae]', 'X', 'abcdef')  # 什么含义？"
   ]
  },
  {
   "cell_type": "code",
   "execution_count": null,
   "metadata": {},
   "outputs": [],
   "source": [
    "re.subn('[ae]', 'X', 'abcdef') #"
   ]
  },
  {
   "cell_type": "markdown",
   "metadata": {},
   "source": [
    "- group（）方法除了能够取出匹配分组编号外，还可以使用\\N，其中 N 是在替换字符串中使用的分组编号"
   ]
  },
  {
   "cell_type": "code",
   "execution_count": null,
   "metadata": {},
   "outputs": [],
   "source": [
    "re.sub(r'(\\d{1,2})/(\\d{1,2})/(\\d{2}|\\d{4})',r'\\2/\\1/\\3', '2/20/91') # 分组重排，月日年-->日月年 # {重复次数}"
   ]
  },
  {
   "cell_type": "code",
   "execution_count": null,
   "metadata": {},
   "outputs": [],
   "source": [
    "re.sub(r'(\\d{1,2})/(\\d{1,2})/(\\d{2}|\\d{4})',r'\\3/\\1/\\2', '2/20/91') # 分组重排  \\N表示重排序号"
   ]
  },
  {
   "cell_type": "code",
   "execution_count": null,
   "metadata": {},
   "outputs": [],
   "source": [
    "re.sub(r'(\\d{1,2})/(\\d{1,2})/(\\d{2}|\\d{4})',r'\\2/\\1/\\3', '2/20/1991') # 分组重排"
   ]
  },
  {
   "cell_type": "markdown",
   "metadata": {},
   "source": [
    "### <font size=4.5><span id=\"10.2.9\"> 10.2.9 re.split()在限定模式上使用 split()分隔字符串</span></font>"
   ]
  },
  {
   "cell_type": "markdown",
   "metadata": {},
   "source": [
    "```python\n",
    "def split(pattern, string, maxsplit=0, flags=0):\n",
    "    \"\"\"Split the source string by the occurrences of the pattern,\n",
    "    returning a list containing the resulting substrings.  If\n",
    "    capturing parentheses are used in pattern, then the text of all\n",
    "    groups in the pattern are also returned as part of the resulting\n",
    "    list.  If maxsplit is nonzero, at most maxsplit splits occur,\n",
    "    and the remainder of the string is returned as the final element\n",
    "    of the list.\"\"\"\n",
    "    return _compile(pattern, flags).split(string, maxsplit)\n",
    "```"
   ]
  },
  {
   "cell_type": "code",
   "execution_count": null,
   "metadata": {},
   "outputs": [],
   "source": [
    "import re\n",
    "line = 'aaa bbb ccc;ddd   eee,fff'"
   ]
  },
  {
   "cell_type": "markdown",
   "metadata": {},
   "source": [
    "#### (1) 单字符切割"
   ]
  },
  {
   "cell_type": "code",
   "execution_count": null,
   "metadata": {},
   "outputs": [],
   "source": [
    "re.split(r';',line)"
   ]
  },
  {
   "cell_type": "markdown",
   "metadata": {},
   "source": [
    "#### (2) 两个以上字符切割\n",
    "- 两个字符以上切割需要放在 [ ] 中"
   ]
  },
  {
   "cell_type": "code",
   "execution_count": null,
   "metadata": {},
   "outputs": [],
   "source": [
    "re.split(r'[;,]',line)"
   ]
  },
  {
   "cell_type": "markdown",
   "metadata": {},
   "source": [
    "#### (3) 所有空白字符切割"
   ]
  },
  {
   "cell_type": "code",
   "execution_count": null,
   "metadata": {},
   "outputs": [],
   "source": [
    "re.split(r'[;,\\s]',line)"
   ]
  },
  {
   "cell_type": "code",
   "execution_count": null,
   "metadata": {},
   "outputs": [],
   "source": []
  },
  {
   "cell_type": "markdown",
   "metadata": {},
   "source": [
    "#### (4) 使用括号捕获分组，默认保留分割符"
   ]
  },
  {
   "cell_type": "code",
   "execution_count": null,
   "metadata": {},
   "outputs": [],
   "source": [
    " re.split(r'([;,])',line)"
   ]
  },
  {
   "cell_type": "markdown",
   "metadata": {},
   "source": [
    "#### 例  地址邮政编码信息提取"
   ]
  },
  {
   "cell_type": "code",
   "execution_count": null,
   "metadata": {},
   "outputs": [],
   "source": [
    "DATA = (\n",
    "    'Mountain View, CA 94040',\n",
    "    'Sunnyvale, CA',\n",
    "    'Los Altos, 94023',\n",
    "    'Cupertino 95014',\n",
    "    'Palo Alto CA',\n",
    "    'Lububock TX 79401'\n",
    "    )\n",
    "for datum in DATA:\n",
    "    # 如果空格紧跟在五个数字（ZIP 编码）或者两个大写字母（美国联邦州缩写）之后，就用 split 语句分割该空格。\n",
    "    print(re.split(', |(?= (?:\\d{5}|[A-Z]{2})) ', datum))  #都好切分；5个数字切分，两个大写字母切分\n",
    "                                                           #?=表示向前肯定\n"
   ]
  },
  {
   "cell_type": "code",
   "execution_count": null,
   "metadata": {},
   "outputs": [],
   "source": [
    "#### 例"
   ]
  },
  {
   "cell_type": "code",
   "execution_count": null,
   "metadata": {},
   "outputs": [],
   "source": [
    "Speech=\"\"\" Chief Justice Roberts, President Carter, President Clinton, President Bush, President Obama, fellow Americans and people of the world, thank you.\n",
    "We, the citizens of America, are now joined in a great national effort to rebuild our country and restore its promise for all of our people.\n",
    "Together, we will determine the course of America and the world for many, many years to come. We will face challenges, we will confront hardships, but we will get the job done.\n",
    "Every four years, we gather on these steps to carry out the orderly and peaceful transfer of power, and we are grateful to President Obama and First Lady Michelle Obama for their gracious aid throughout this transition. They have been magnificent. Thank you.\n",
    "Today's ceremony, however, has very special meaning because today, we are not merely transferring power from one administration to another or from one party to another, but we are transferring power from Washington, D.C. and giving it back to you, the people.\n",
    "For too long, a small group in our nation's capital has reaped the rewards of government while the people have borne the cost. Washington flourished, but the people did not share in its wealth. Politicians prospered, but the jobs left and the factories closed. The establishment protected itself, but not the citizens of our country. Their victories have not been your victories. Their triumphs have not been your triumphs. And while they celebrated in our nation's capital, there was little to celebrate for struggling families all across our land.\n",
    "That all changes starting right here and right now because this moment is your moment, it belongs to you.\n",
    "   It belongs to everyone gathered here today and everyone watching all across America. This is your day. This is your celebration. And this, the United States of America, is your country.\n",
    "What truly matters is not which party controls our government, but whether our government is controlled by the people.\n",
    "January 20th, 2017 will be remembered as the day the people became the rulers of this nation again.\n",
    "The forgotten men and women of our country will be forgotten no longer.\n",
    "   Everyone is listening to you now. You came by the tens of millions to become part of a historic movement, the likes of which the world has never seen before.\n",
    "At the center of this movement is a crucial conviction, that a nation exists to serve its citizens. Americans want great schools for their children, safe neighborhoods for their families, and good jobs for themselves. These are just and reasonable demands of righteous people and a righteous public.\n",
    "But for too many of our citizens, a different reality exists: mothers and children trapped in poverty in our inner cities; rusted out factories scattered like tombstones across the landscape of our nation; an education system flush with cash, but which leaves our young and beautiful students deprived of all knowledge; and the crime and the gangs and the drugs that have stolen too many lives and robbed our country of so much unrealized potential.\n",
    "This American carnage stops right here and stops right now.\n",
    "   We are one nation and their pain is our pain. Their dreams are our dreams. And their success will be our success. We share one heart, one home, and one glorious destiny. The oath of office I take today is an oath of allegiance to all Americans.\n",
    "For many decades, we've enriched foreign industry at the expense of American industry; subsidized the armies of other countries, while allowing for the very sad depletion of our military. We've defended other nations' borders while refusing to defend our own.\n",
    "And spent trillions and trillions of dollars overseas while America's infrastructure has fallen into disrepair and decay. We've made other countries rich, while the wealth, strength and confidence of our country has dissipated over the horizon.\n",
    "One by one, the factories shuttered and left our shores, with not even a thought about the millions and millions of American workers that were left behind. The wealth of our middle class has been ripped from their homes and then redistributed all across the world.\n",
    "But that is the past. And now, we are looking only to the future.\n",
    "    We assembled here today are issuing a new decree to be heard in every city, in every foreign capital, and in every hall of power. From this day forward, a new vision will govern our land. From this day forward, it's going to be only America first, America first.\n",
    "Every decision on trade, on taxes, on immigration, on foreign affairs will be made to benefit American workers and American families. We must protect our borders from the ravages of other countries making our products, stealing our companies and destroying our jobs.\n",
    "Protection will lead to great prosperity and strength. I will fight for you with every breath in my body and I will never ever let you down.\n",
    "America will start winning again, winning like never before.\n",
    "    We will bring back our jobs. We will bring back our borders. We will bring back our wealth. And we will bring back our dreams.\n",
    "We will build new roads and highways and bridges and airports and tunnels and railways all across our wonderful nation. We will get our people off of welfare and back to work, rebuilding our country with American hands and American labor.\n",
    "We will follow two simple rules; buy American and hire American.\n",
    "    We will seek friendship and goodwill with the nations of the world, but we do so with the understanding that it is the right of all nations to put their own interests first. We do not seek to impose our way of life on anyone, but rather to let it shine as an example. We will shine for everyone to follow.\n",
    "We will reinforce old alliances and form new ones and unite the civilized world against radical Islamic terrorism, which we will eradicate from the face of the Earth.\n",
    "At the bedrock of our politics will be a total allegiance to the United States of America, and through our loyalty to our country, we will rediscover our loyalty to each other. When you open your heart to patriotism, there is no room for prejudice.\n",
    "The Bible tells us how good and pleasant it is when God's people live together in unity. We must speak our minds openly, debate our disagreements honestly, but always pursue solidarity. When America is united, America is totally unstoppable.\n",
    "There should be no fear. We are protected and we will always be protected. We will be protected by the great men and women of our military and law enforcement. And most importantly, we will be protected by God.\n",
    "Finally, we must think big and dream even bigger. In America, we understand that a nation is only living as long as it is striving. We will no longer accept politicians who are all talk and no action, constantly complaining, but never doing anything about it.\n",
    "The time for empty talk is over. Now arrives the hour of action.\n",
    "    Do not allow anyone to tell you that it cannot be done. No challenge can match the heart and fight and spirit of America. We will not fail. Our country will thrive and prosper again.\n",
    "We stand at the birth of a new millennium, ready to unlock the mysteries of space, to free the earth from the miseries of disease, and to harness the energies, industries and technologies of tomorrow. A new national pride will stir ourselves, lift our sights and heal our divisions.\n",
    "It's time to remember that old wisdom our soldiers will never forget, that whether we are black or brown or white, we all bleed the same red blood of patriots.\n",
    "We all enjoy the same glorious freedoms and we all salute the same great American flag.\n",
    "    And whether a child is born in the urban sprawl of Detroit or the wind-swept plains of Nebraska, they look up at the same night sky, they fill their heart with the same dreams, and they are infused with the breath of life by the same almighty creator.\n",
    "So to all Americans in every city near and far, small and large, from mountain to mountain, from ocean to ocean, hear these words: You will never be ignored again.\n",
    "Your voice, your hopes, and your dreams will define our American destiny. And your courage and goodness and love will forever guide us along the way.\n",
    "Together, we will make America strong again. We will make America wealthy again. We will make America proud again. We will make America safe again. And yes, together we will make America great again.\n",
    "    Thank you. God bless you. And God bless America.\n",
    "    Thank you.\n",
    "    God bless America.\n",
    "\"\"\""
   ]
  },
  {
   "cell_type": "code",
   "execution_count": null,
   "metadata": {},
   "outputs": [],
   "source": [
    "import re\n",
    "pattern = r'[Aa]meri\\w+'\n",
    "res = re.findall(pattern, Speech)\n",
    "res"
   ]
  },
  {
   "cell_type": "markdown",
   "metadata": {},
   "source": [
    "## <font size=5><span id=\"10.3\"> 10.3 特殊需求表达式</span></font>"
   ]
  },
  {
   "cell_type": "markdown",
   "metadata": {},
   "source": [
    "1. Email地址：```^\\w+([-+.]\\w+)*@\\w+([-.]\\w+)*\\.\\w+([-.]\\w+)*$```\n",
    "\n",
    "2. 域名：```[a-zA-Z0-9][-a-zA-Z0-9]{0,62}(/.[a-zA-Z0-9][-a-zA-Z0-9]{0,62})+/.?```\n",
    "\n",
    "3. InternetURL：```[a-zA-z]+://[^\\s]* 或 ^http://([\\w-]+\\.)+[\\w-]+(/[\\w-./?%&=]*)?$```\n",
    "\n",
    "4. 手机号码：```^(13[0-9]|14[5|7]|15[0|1|2|3|5|6|7|8|9]|18[0|1|2|3|5|6|7|8|9])\\d{8}$```\n",
    "\n",
    "5. 电话号码(\"XXX-XXXXXXX\"、\"XXXX-XXXXXXXX\"、\"XXX-XXXXXXX\"、\"XXX-XXXXXXXX\"、\"XXXXXXX\"和\"XXXXXXXX)：```^(\\(\\d{3,4}-)|\\d{3.4}-)?\\d{7,8}$```\n",
    "\n",
    "6. 国内电话号码(0511-4405222、021-87888822)：```\\d{3}-\\d{8}|\\d{4}-\\d{7}```\n",
    "\n",
    "7. 身份证号(15位、18位数字)：```^\\d{15}|\\d{18}$```\n",
    "\n",
    "8. 短身份证号码(数字、字母x结尾)：```^([0-9]){7,18}(x|X)?$``` 或 ```^\\d{8,18}|[0-9x]{8,18}|[0-9X]{8,18}?$```\n",
    "\n",
    "9. 帐号是否合法(字母开头，允许5-16字节，允许字母数字下划线)：```^[a-zA-Z][a-zA-Z0-9_]{4,15}$```\n",
    "\n",
    "10. 密码(以字母开头，长度在6~18之间，只能包含字母、数字和下划线)：```^[a-zA-Z]\\w{5,17}$```\n",
    "\n",
    "11. 强密码(必须包含大小写字母和数字的组合，不能使用特殊字符，长度在8-10之间)：```^(?=.*\\d)(?=.*[a-z])(?=.*[A-Z]).{8,10}$```\n",
    "\n",
    "12. 日期格式：```^\\d{4}-\\d{1,2}-\\d{1,2}```\n",
    "\n",
    "13. 一年的12个月(01～09和1～12)：```^(0?[1-9]|1[0-2])$```\n",
    "\n",
    "14. 一个月的31天(01～09和1～31)：```^((0?[1-9])|((1|2)[0-9])|30|31)$```\n",
    "\n",
    "15. 钱的输入格式：\n",
    "\n",
    "   1.有四种钱的表示形式我们可以接受:\"10000.00\" 和 \"10,000.00\", 和没有 \"分\" 的 \"10000\" 和 \"10,000\"：^[1-9][0-9]*$\n",
    "   2.这表示任意一个不以0开头的数字,但是,这也意味着一个字符\"0\"不通过,所以我们采用下面的形式：^(0|[1-9][0-9]*)$\n",
    "   3.一个0或者一个不以0开头的数字.我们还可以允许开头有一个负号：^(0|-?[1-9][0-9]*)$\n",
    "   4.这表示一个0或者一个可能为负的开头不为0的数字.让用户以0开头好了.把负号的也去掉,因为钱总不能是负的吧.\n",
    "   下面我们要加的是说明可能的小数部分：^[0-9]+(.[0-9]+)?$\n",
    "   5.必须说明的是,小数点后面至少应该有1位数,所以\"10.\"是不通过的,但是 \"10\" 和 \"10.2\" 是通过的：^[0-9]+(.[0-9]{2})?$\n",
    "   6.这样我们规定小数点后面必须有两位,如果你认为太苛刻了,可以这样：^[0-9]+(.[0-9]{1,2})?$\n"
   ]
  },
  {
   "cell_type": "code",
   "execution_count": null,
   "metadata": {},
   "outputs": [],
   "source": [
    "#写一个正则表达式，能匹配出多种格式的电话号码，包括:\n",
    "text =\"(021)88776543 010-55667890 02584533622 057184720483 837922740\" \n",
    "m=re.findall(r'\\(?0\\d{2,3}[)-]?\\d{7,8}',text) \n",
    "if m: \n",
    "    print(m) \n",
    "else: \n",
    "    print('not match')"
   ]
  },
  {
   "cell_type": "markdown",
   "metadata": {},
   "source": [
    "- 详细参考：\n",
    "- 参考文献： 《Python核心编程第三版》 人民邮电出版社"
   ]
  }
 ],
 "metadata": {
  "kernelspec": {
   "display_name": "Python 3 (ipykernel)",
   "language": "python",
   "name": "python3"
  },
  "language_info": {
   "codemirror_mode": {
    "name": "ipython",
    "version": 3
   },
   "file_extension": ".py",
   "mimetype": "text/x-python",
   "name": "python",
   "nbconvert_exporter": "python",
   "pygments_lexer": "ipython3",
   "version": "3.11.4"
  }
 },
 "nbformat": 4,
 "nbformat_minor": 4
}
